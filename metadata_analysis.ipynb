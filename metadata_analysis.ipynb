{
 "cells": [
  {
   "cell_type": "markdown",
   "id": "6ccab21f",
   "metadata": {
    "pycharm": {
     "name": "#%% md\n"
    }
   },
   "source": [
    "# Analyzing Project Metadata"
   ]
  },
  {
   "cell_type": "code",
   "execution_count": 1,
   "id": "f49a8c1b",
   "metadata": {
    "pycharm": {
     "name": "#%%\n"
    },
    "tags": []
   },
   "outputs": [],
   "source": [
    "# importing all required packages at the start of the notebook\n",
    "import IPython\n",
    "\n",
    "import pandas as pd\n",
    "import matplotlib.pyplot as plt\n",
    "\n",
    "%matplotlib inline"
   ]
  },
  {
   "cell_type": "markdown",
   "id": "e5c3d8b6",
   "metadata": {
    "pycharm": {
     "name": "#%% md\n"
    }
   },
   "source": [
    "<a id='jup'></a>"
   ]
  },
  {
   "cell_type": "markdown",
   "id": "eaaa3537",
   "metadata": {
    "pycharm": {
     "name": "#%% md\n"
    }
   },
   "source": [
    "### 2.1 Reading metadata"
   ]
  },
  {
   "cell_type": "code",
   "execution_count": 3,
   "id": "e7344a20",
   "metadata": {
    "pycharm": {
     "name": "#%%\n"
    },
    "tags": []
   },
   "outputs": [
    {
     "data": {
      "text/html": [
       "<div>\n",
       "<style scoped>\n",
       "    .dataframe tbody tr th:only-of-type {\n",
       "        vertical-align: middle;\n",
       "    }\n",
       "\n",
       "    .dataframe tbody tr th {\n",
       "        vertical-align: top;\n",
       "    }\n",
       "\n",
       "    .dataframe thead th {\n",
       "        text-align: right;\n",
       "    }\n",
       "</style>\n",
       "<table border=\"1\" class=\"dataframe\">\n",
       "  <thead>\n",
       "    <tr style=\"text-align: right;\">\n",
       "      <th></th>\n",
       "      <th>sampleid</th>\n",
       "      <th>stool_consistency</th>\n",
       "      <th>hct_source</th>\n",
       "      <th>disease</th>\n",
       "      <th>categorical_time_relative_to_engraftment</th>\n",
       "      <th>week_relative_to_hct</th>\n",
       "      <th>timepoint_of_transplant</th>\n",
       "      <th>day_relative_to_nearest_hct</th>\n",
       "      <th>alleged_abduction</th>\n",
       "    </tr>\n",
       "  </thead>\n",
       "  <tbody>\n",
       "    <tr>\n",
       "      <th>0</th>\n",
       "      <td>N4VICF</td>\n",
       "      <td>formed</td>\n",
       "      <td>cord</td>\n",
       "      <td>Myelodysplastic Syndromes</td>\n",
       "      <td>pre</td>\n",
       "      <td>-1.0</td>\n",
       "      <td>6.0</td>\n",
       "      <td>-6.0</td>\n",
       "      <td>0</td>\n",
       "    </tr>\n",
       "    <tr>\n",
       "      <th>1</th>\n",
       "      <td>8A0F9A</td>\n",
       "      <td>formed</td>\n",
       "      <td>cord</td>\n",
       "      <td>Leukemia</td>\n",
       "      <td>pre</td>\n",
       "      <td>-2.0</td>\n",
       "      <td>7.0</td>\n",
       "      <td>-7.0</td>\n",
       "      <td>0</td>\n",
       "    </tr>\n",
       "    <tr>\n",
       "      <th>2</th>\n",
       "      <td>5Y49IM</td>\n",
       "      <td>semi-formed</td>\n",
       "      <td>cord</td>\n",
       "      <td>Leukemia</td>\n",
       "      <td>peri</td>\n",
       "      <td>-1.0</td>\n",
       "      <td>7.0</td>\n",
       "      <td>0.0</td>\n",
       "      <td>1</td>\n",
       "    </tr>\n",
       "    <tr>\n",
       "      <th>3</th>\n",
       "      <td>ZKJI45</td>\n",
       "      <td>semi-formed</td>\n",
       "      <td>cord</td>\n",
       "      <td>Leukemia</td>\n",
       "      <td>post</td>\n",
       "      <td>1.0</td>\n",
       "      <td>7.0</td>\n",
       "      <td>8.0</td>\n",
       "      <td>0</td>\n",
       "    </tr>\n",
       "    <tr>\n",
       "      <th>4</th>\n",
       "      <td>2I7SIQ</td>\n",
       "      <td>liquid</td>\n",
       "      <td>cord</td>\n",
       "      <td>Leukemia</td>\n",
       "      <td>peri</td>\n",
       "      <td>-1.0</td>\n",
       "      <td>0.0</td>\n",
       "      <td>0.0</td>\n",
       "      <td>1</td>\n",
       "    </tr>\n",
       "  </tbody>\n",
       "</table>\n",
       "</div>"
      ],
      "text/plain": [
       "  sampleid stool_consistency hct_source                    disease  \\\n",
       "0   N4VICF            formed       cord  Myelodysplastic Syndromes   \n",
       "1   8A0F9A            formed       cord                   Leukemia   \n",
       "2   5Y49IM       semi-formed       cord                   Leukemia   \n",
       "3   ZKJI45       semi-formed       cord                   Leukemia   \n",
       "4   2I7SIQ            liquid       cord                   Leukemia   \n",
       "\n",
       "  categorical_time_relative_to_engraftment  week_relative_to_hct  \\\n",
       "0                                      pre                  -1.0   \n",
       "1                                      pre                  -2.0   \n",
       "2                                     peri                  -1.0   \n",
       "3                                     post                   1.0   \n",
       "4                                     peri                  -1.0   \n",
       "\n",
       "   timepoint_of_transplant  day_relative_to_nearest_hct  alleged_abduction  \n",
       "0                      6.0                         -6.0                  0  \n",
       "1                      7.0                         -7.0                  0  \n",
       "2                      7.0                          0.0                  1  \n",
       "3                      7.0                          8.0                  0  \n",
       "4                      0.0                          0.0                  1  "
      ]
     },
     "execution_count": 3,
     "metadata": {},
     "output_type": "execute_result"
    }
   ],
   "source": [
    "df_meta = pd.read_csv('../alien-data/sample_metadata.tsv', sep='\\t')\n",
    "df_meta.head()"
   ]
  },
  {
   "cell_type": "code",
   "execution_count": 6,
   "id": "1e537a77-a003-4a56-8810-10a13a4171b2",
   "metadata": {
    "pycharm": {
     "name": "#%%\n"
    }
   },
   "outputs": [
    {
     "name": "stdout",
     "output_type": "stream",
     "text": [
      "sampleid\n",
      "stool_consistency\n",
      "hct_source\n",
      "disease\n",
      "categorical_time_relative_to_engraftment\n",
      "week_relative_to_hct\n",
      "timepoint_of_transplant\n",
      "day_relative_to_nearest_hct\n",
      "alleged_abduction\n"
     ]
    }
   ],
   "source": [
    "for column_name in df_meta:\n",
    "    print(column_name)"
   ]
  },
  {
   "cell_type": "markdown",
   "id": "941d7f05-fc0c-439b-a2dd-62d665b15471",
   "metadata": {},
   "source": [
    "To get the data from range of rows with specific column names"
   ]
  },
  {
   "cell_type": "code",
   "execution_count": 11,
   "id": "b08dce36-a24d-42c0-960e-830b171b8c23",
   "metadata": {
    "tags": []
   },
   "outputs": [
    {
     "data": {
      "text/html": [
       "<div>\n",
       "<style scoped>\n",
       "    .dataframe tbody tr th:only-of-type {\n",
       "        vertical-align: middle;\n",
       "    }\n",
       "\n",
       "    .dataframe tbody tr th {\n",
       "        vertical-align: top;\n",
       "    }\n",
       "\n",
       "    .dataframe thead th {\n",
       "        text-align: right;\n",
       "    }\n",
       "</style>\n",
       "<table border=\"1\" class=\"dataframe\">\n",
       "  <thead>\n",
       "    <tr style=\"text-align: right;\">\n",
       "      <th></th>\n",
       "      <th>disease</th>\n",
       "      <th>alleged_abduction</th>\n",
       "    </tr>\n",
       "  </thead>\n",
       "  <tbody>\n",
       "    <tr>\n",
       "      <th>10</th>\n",
       "      <td>Non-Hodgkin's Lymphoma</td>\n",
       "      <td>0</td>\n",
       "    </tr>\n",
       "    <tr>\n",
       "      <th>11</th>\n",
       "      <td>Non-Hodgkin's Lymphoma</td>\n",
       "      <td>0</td>\n",
       "    </tr>\n",
       "    <tr>\n",
       "      <th>12</th>\n",
       "      <td>Non-Hodgkin's Lymphoma</td>\n",
       "      <td>0</td>\n",
       "    </tr>\n",
       "  </tbody>\n",
       "</table>\n",
       "</div>"
      ],
      "text/plain": [
       "                   disease  alleged_abduction\n",
       "10  Non-Hodgkin's Lymphoma                  0\n",
       "11  Non-Hodgkin's Lymphoma                  0\n",
       "12  Non-Hodgkin's Lymphoma                  0"
      ]
     },
     "execution_count": 11,
     "metadata": {},
     "output_type": "execute_result"
    }
   ],
   "source": [
    "df_meta.loc[10:12, [\"disease\", \"alleged_abduction\"]]"
   ]
  },
  {
   "cell_type": "markdown",
   "id": "dece226e",
   "metadata": {
    "pycharm": {
     "name": "#%% md\n"
    }
   },
   "source": [
    "### **2.2 Investigating pandas dataframe**"
   ]
  },
  {
   "cell_type": "code",
   "execution_count": 12,
   "id": "501190ce",
   "metadata": {
    "pycharm": {
     "name": "#%%\n"
    }
   },
   "outputs": [
    {
     "data": {
      "text/plain": [
       "(161, 9)"
      ]
     },
     "execution_count": 12,
     "metadata": {},
     "output_type": "execute_result"
    }
   ],
   "source": [
    "df_meta.shape"
   ]
  },
  {
   "cell_type": "markdown",
   "id": "08b08c37",
   "metadata": {
    "pycharm": {
     "name": "#%% md\n"
    }
   },
   "source": [
    "Check unique number of elements in each column"
   ]
  },
  {
   "cell_type": "code",
   "execution_count": 17,
   "id": "95ddd590",
   "metadata": {
    "pycharm": {
     "name": "#%%\n"
    }
   },
   "outputs": [
    {
     "name": "stdout",
     "output_type": "stream",
     "text": [
      "sampleid: 161 unique elements\n",
      "stool_consistency: 3 unique elements\n",
      "hct_source: 3 unique elements\n",
      "disease: 5 unique elements\n",
      "categorical_time_relative_to_engraftment: 4 unique elements\n",
      "week_relative_to_hct: 6 unique elements\n",
      "timepoint_of_transplant: 15 unique elements\n",
      "day_relative_to_nearest_hct: 25 unique elements\n",
      "alleged_abduction: 2 unique elements\n"
     ]
    }
   ],
   "source": [
    "for column_name in df_meta:\n",
    "    print(f'{column_name}: {len(df_meta[column_name].unique())} unique elements')"
   ]
  },
  {
   "cell_type": "markdown",
   "id": "fcb9a403",
   "metadata": {
    "pycharm": {
     "name": "#%% md\n"
    }
   },
   "source": [
    "**e)** How many different bodysites (`bodysite`) were evaluated in how many samples? ([Hint](https://pandas.pydata.org/docs/reference/api/pandas.Series.value_counts.html))"
   ]
  },
  {
   "cell_type": "code",
   "execution_count": 25,
   "id": "90b127ca",
   "metadata": {
    "pycharm": {
     "name": "#%%\n"
    }
   },
   "outputs": [
    {
     "name": "stdout",
     "output_type": "stream",
     "text": [
      "stool_consistency\n",
      "formed         74\n",
      "liquid         45\n",
      "semi-formed    42\n",
      "Name: stool_consistency, dtype: int64\n",
      "hct_source\n",
      "PBSC_unmodified    88\n",
      "cord               69\n",
      "Name: hct_source, dtype: int64\n",
      "disease\n",
      "Leukemia                     79\n",
      "Non-Hodgkin's Lymphoma       60\n",
      "Hodgkin's Disease            12\n",
      "Myelodysplastic Syndromes     6\n",
      "Name: disease, dtype: int64\n",
      "categorical_time_relative_to_engraftment\n",
      "pre     70\n",
      "post    60\n",
      "peri    27\n",
      "Name: categorical_time_relative_to_engraftment, dtype: int64\n",
      "week_relative_to_hct\n",
      "-1.0    71\n",
      " 1.0    40\n",
      " 0.0    28\n",
      " 2.0     9\n",
      "-2.0     9\n",
      "Name: week_relative_to_hct, dtype: int64\n",
      "timepoint_of_transplant\n",
      "6.0      51\n",
      "5.0      36\n",
      "3.0      13\n",
      "7.0      12\n",
      "9.0       9\n",
      "2.0       7\n",
      "1.0       7\n",
      "0.0       5\n",
      "4.0       5\n",
      "52.0      3\n",
      "363.0     3\n",
      "379.0     2\n",
      "14.0      2\n",
      "24.0      2\n",
      "Name: timepoint_of_transplant, dtype: int64\n",
      "day_relative_to_nearest_hct\n",
      "-2.0     15\n",
      "-5.0     14\n",
      "-6.0     12\n",
      "-3.0     11\n",
      " 12.0    11\n",
      " 0.0     10\n",
      " 13.0    10\n",
      " 11.0     8\n",
      " 5.0      6\n",
      " 7.0      6\n",
      " 15.0     5\n",
      "-1.0      5\n",
      " 6.0      5\n",
      " 8.0      5\n",
      "-9.0      5\n",
      " 3.0      4\n",
      "-4.0      4\n",
      "-7.0      4\n",
      " 4.0      4\n",
      " 16.0     4\n",
      " 1.0      3\n",
      " 14.0     3\n",
      " 9.0      2\n",
      " 10.0     1\n",
      "Name: day_relative_to_nearest_hct, dtype: int64\n",
      "alleged_abduction\n",
      "0    135\n",
      "1     26\n",
      "Name: alleged_abduction, dtype: int64\n"
     ]
    }
   ],
   "source": [
    "for column_name in df_meta:\n",
    "    if column_name != 'sampleid':\n",
    "        print(column_name)\n",
    "        print(df_meta[column_name].value_counts())"
   ]
  },
  {
   "cell_type": "markdown",
   "id": "292f80b3",
   "metadata": {
    "pycharm": {
     "name": "#%% md\n"
    }
   },
   "source": [
    "**f)** Plot the `bodysite` frequency information in a pandas barplot (adding a ylabel axis description and a title to the plot)"
   ]
  },
  {
   "cell_type": "code",
   "execution_count": 26,
   "id": "4a9ecddd",
   "metadata": {
    "pycharm": {
     "name": "#%%\n"
    }
   },
   "outputs": [
    {
     "data": {
      "image/png": "[encoded data removed]",
      "text/plain": [
       "<Figure size 432x288 with 1 Axes>"
      ]
     },
     "metadata": {
      "needs_background": "light"
     },
     "output_type": "display_data"
    }
   ],
   "source": [
    "df_meta['disease'].value_counts().plot(kind='bar')\n",
    "plt.ylabel('Number of samples')\n",
    "plt.title('Disease types')\n",
    "plt.show()"
   ]
  },
  {
   "cell_type": "markdown",
   "id": "81fa5791",
   "metadata": {
    "pycharm": {
     "name": "#%% md\n"
    }
   },
   "source": [
    "**b)** Which `body_habitat` belongs to which `env`? (Hint: check out [this StackOverflow Entry](https://stackoverflow.com/questions/33271098/python-get-a-frequency-count-based-on-two-columns-variables-in-pandas-datafra))"
   ]
  },
  {
   "cell_type": "code",
   "execution_count": 28,
   "id": "414554b9",
   "metadata": {
    "pycharm": {
     "name": "#%%\n"
    }
   },
   "outputs": [
    {
     "data": {
      "text/plain": [
       "disease                    alleged_abduction\n",
       "Hodgkin's Disease          0                    11\n",
       "                           1                     1\n",
       "Leukemia                   0                    60\n",
       "                           1                    19\n",
       "Myelodysplastic Syndromes  0                     5\n",
       "                           1                     1\n",
       "Non-Hodgkin's Lymphoma     0                    55\n",
       "                           1                     5\n",
       "dtype: int64"
      ]
     },
     "execution_count": 28,
     "metadata": {},
     "output_type": "execute_result"
    }
   ],
   "source": [
    "df_meta.groupby(['disease', 'alleged_abduction']).size()"
   ]
  },
  {
   "cell_type": "markdown",
   "id": "13af7e92",
   "metadata": {
    "pycharm": {
     "name": "#%% md\n"
    }
   },
   "source": [
    "Generate descriptive statistics for all numeric columns in your dataset. "
   ]
  },
  {
   "cell_type": "code",
   "execution_count": 29,
   "id": "c8d7d6b6",
   "metadata": {
    "pycharm": {
     "name": "#%%\n"
    }
   },
   "outputs": [
    {
     "data": {
      "text/html": [
       "<div>\n",
       "<style scoped>\n",
       "    .dataframe tbody tr th:only-of-type {\n",
       "        vertical-align: middle;\n",
       "    }\n",
       "\n",
       "    .dataframe tbody tr th {\n",
       "        vertical-align: top;\n",
       "    }\n",
       "\n",
       "    .dataframe thead th {\n",
       "        text-align: right;\n",
       "    }\n",
       "</style>\n",
       "<table border=\"1\" class=\"dataframe\">\n",
       "  <thead>\n",
       "    <tr style=\"text-align: right;\">\n",
       "      <th></th>\n",
       "      <th>week_relative_to_hct</th>\n",
       "      <th>timepoint_of_transplant</th>\n",
       "      <th>day_relative_to_nearest_hct</th>\n",
       "      <th>alleged_abduction</th>\n",
       "    </tr>\n",
       "  </thead>\n",
       "  <tbody>\n",
       "    <tr>\n",
       "      <th>count</th>\n",
       "      <td>157.000000</td>\n",
       "      <td>157.000000</td>\n",
       "      <td>157.000000</td>\n",
       "      <td>161.000000</td>\n",
       "    </tr>\n",
       "    <tr>\n",
       "      <th>mean</th>\n",
       "      <td>-0.197452</td>\n",
       "      <td>17.898089</td>\n",
       "      <td>2.757962</td>\n",
       "      <td>0.161491</td>\n",
       "    </tr>\n",
       "    <tr>\n",
       "      <th>std</th>\n",
       "      <td>1.064819</td>\n",
       "      <td>64.362573</td>\n",
       "      <td>7.469941</td>\n",
       "      <td>0.369131</td>\n",
       "    </tr>\n",
       "    <tr>\n",
       "      <th>min</th>\n",
       "      <td>-2.000000</td>\n",
       "      <td>0.000000</td>\n",
       "      <td>-9.000000</td>\n",
       "      <td>0.000000</td>\n",
       "    </tr>\n",
       "    <tr>\n",
       "      <th>25%</th>\n",
       "      <td>-1.000000</td>\n",
       "      <td>5.000000</td>\n",
       "      <td>-3.000000</td>\n",
       "      <td>0.000000</td>\n",
       "    </tr>\n",
       "    <tr>\n",
       "      <th>50%</th>\n",
       "      <td>-1.000000</td>\n",
       "      <td>6.000000</td>\n",
       "      <td>0.000000</td>\n",
       "      <td>0.000000</td>\n",
       "    </tr>\n",
       "    <tr>\n",
       "      <th>75%</th>\n",
       "      <td>1.000000</td>\n",
       "      <td>6.000000</td>\n",
       "      <td>11.000000</td>\n",
       "      <td>0.000000</td>\n",
       "    </tr>\n",
       "    <tr>\n",
       "      <th>max</th>\n",
       "      <td>2.000000</td>\n",
       "      <td>379.000000</td>\n",
       "      <td>16.000000</td>\n",
       "      <td>1.000000</td>\n",
       "    </tr>\n",
       "  </tbody>\n",
       "</table>\n",
       "</div>"
      ],
      "text/plain": [
       "       week_relative_to_hct  timepoint_of_transplant  \\\n",
       "count            157.000000               157.000000   \n",
       "mean              -0.197452                17.898089   \n",
       "std                1.064819                64.362573   \n",
       "min               -2.000000                 0.000000   \n",
       "25%               -1.000000                 5.000000   \n",
       "50%               -1.000000                 6.000000   \n",
       "75%                1.000000                 6.000000   \n",
       "max                2.000000               379.000000   \n",
       "\n",
       "       day_relative_to_nearest_hct  alleged_abduction  \n",
       "count                   157.000000         161.000000  \n",
       "mean                      2.757962           0.161491  \n",
       "std                       7.469941           0.369131  \n",
       "min                      -9.000000           0.000000  \n",
       "25%                      -3.000000           0.000000  \n",
       "50%                       0.000000           0.000000  \n",
       "75%                      11.000000           0.000000  \n",
       "max                      16.000000           1.000000  "
      ]
     },
     "execution_count": 29,
     "metadata": {},
     "output_type": "execute_result"
    }
   ],
   "source": [
    "df_meta.describe()"
   ]
  },
  {
   "cell_type": "markdown",
   "id": "08d491c8",
   "metadata": {
    "pycharm": {
     "name": "#%% md\n"
    }
   },
   "source": [
    "Absolute counts of missing values:"
   ]
  },
  {
   "cell_type": "code",
   "execution_count": 30,
   "id": "2015f9b9",
   "metadata": {
    "pycharm": {
     "name": "#%%\n"
    }
   },
   "outputs": [
    {
     "data": {
      "text/plain": [
       "sampleid                                    0\n",
       "stool_consistency                           0\n",
       "hct_source                                  4\n",
       "disease                                     4\n",
       "categorical_time_relative_to_engraftment    4\n",
       "week_relative_to_hct                        4\n",
       "timepoint_of_transplant                     4\n",
       "day_relative_to_nearest_hct                 4\n",
       "alleged_abduction                           0\n",
       "dtype: int64"
      ]
     },
     "execution_count": 30,
     "metadata": {},
     "output_type": "execute_result"
    }
   ],
   "source": [
    "df_meta.isnull().sum()"
   ]
  },
  {
   "cell_type": "markdown",
   "id": "58502c68",
   "metadata": {
    "pycharm": {
     "name": "#%% md\n"
    }
   },
   "source": [
    "Relative counts of missing values (as percentage):"
   ]
  },
  {
   "cell_type": "code",
   "execution_count": 31,
   "id": "39e4171a",
   "metadata": {
    "pycharm": {
     "name": "#%%\n"
    }
   },
   "outputs": [
    {
     "data": {
      "text/plain": [
       "sampleid                                    0.000000\n",
       "stool_consistency                           0.000000\n",
       "hct_source                                  2.484472\n",
       "disease                                     2.484472\n",
       "categorical_time_relative_to_engraftment    2.484472\n",
       "week_relative_to_hct                        2.484472\n",
       "timepoint_of_transplant                     2.484472\n",
       "day_relative_to_nearest_hct                 2.484472\n",
       "alleged_abduction                           0.000000\n",
       "dtype: float64"
      ]
     },
     "execution_count": 31,
     "metadata": {},
     "output_type": "execute_result"
    }
   ],
   "source": [
    "df_meta.isnull().sum() * 100 / len(df_meta)"
   ]
  }
 ],
 "metadata": {
  "interpreter": {
   "hash": "0b4ccaee98c45deb9b83c6fbe3030307cb4082bb656bbaaedf8469afc5d5422b"
  },
  "kernelspec": {
   "display_name": "Python 3 (ipykernel)",
   "language": "python",
   "name": "python3"
  },
  "language_info": {
   "codemirror_mode": {
    "name": "ipython",
    "version": 3
   },
   "file_extension": ".py",
   "mimetype": "text/x-python",
   "name": "python",
   "nbconvert_exporter": "python",
   "pygments_lexer": "ipython3",
   "version": "3.8.13"
  },
  "toc": {
   "base_numbering": 1,
   "nav_menu": {},
   "number_sections": true,
   "sideBar": true,
   "skip_h1_title": false,
   "title_cell": "Table of Contents",
   "title_sidebar": "Contents",
   "toc_cell": false,
   "toc_position": {},
   "toc_section_display": true,
   "toc_window_display": true
  }
 },
 "nbformat": 4,
 "nbformat_minor": 5
}
