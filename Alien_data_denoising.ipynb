{
 "cells": [
  {
   "cell_type": "code",
   "execution_count": 1,
   "id": "b9c023a9-1772-4c89-b0da-795628ebc485",
   "metadata": {
    "tags": []
   },
   "outputs": [],
   "source": [
    "import os\n",
    "import pandas as pd\n",
    "from qiime2 import Visualization\n",
    "import matplotlib.pyplot as plt\n",
    "import numpy as np\n",
    "\n",
    "import qiime2 as q2\n",
    "\n",
    "%matplotlib inline\n"
   ]
  },
  {
   "cell_type": "code",
   "execution_count": 2,
   "id": "f1709605-e90e-4de6-9a71-c7a81ff22c03",
   "metadata": {
    "tags": []
   },
   "outputs": [],
   "source": [
    "data_dir = 'Alien_data'\n",
    "\n",
    "if not os.path.isdir(data_dir):\n",
    "    os.makedirs(data_dir)"
   ]
  },
  {
   "cell_type": "code",
   "execution_count": 8,
   "id": "5583c2e5-205c-4dae-9d88-4d05b0aeca01",
   "metadata": {},
   "outputs": [
    {
     "name": "stdout",
     "output_type": "stream",
     "text": [
      "2022-10-17 17:38:52 URL:https://polybox.ethz.ch/index.php/s/PCQspFMocVCKjZ3/download [3433846903/3433846903] -> \"Alien_data/sequences.qza\" [1]\n"
     ]
    }
   ],
   "source": [
    "! wget -nv -O $data_dir/sequences.qza 'https://polybox.ethz.ch/index.php/s/PCQspFMocVCKjZ3/download'"
   ]
  },
  {
   "cell_type": "code",
   "execution_count": 56,
   "id": "63272b0a-1bf0-46bd-a45b-578225f84abc",
   "metadata": {},
   "outputs": [
    {
     "name": "stdout",
     "output_type": "stream",
     "text": [
      "2022-10-10 19:45:54 URL:https://polybox.ethz.ch/index.php/s/r1AYzdUVWnQyiRL/download [10012/10012] -> \"Alien_data/sample_metadata.tsv\" [1]\n"
     ]
    }
   ],
   "source": [
    "! wget -nv -O $data_dir/sample_metadata.tsv 'https://polybox.ethz.ch/index.php/s/r1AYzdUVWnQyiRL/download'"
   ]
  },
  {
   "cell_type": "code",
   "execution_count": 35,
   "id": "39ed83c8-ba02-4a93-a0a4-73a5a4760ee8",
   "metadata": {},
   "outputs": [
    {
     "data": {
      "text/plain": [
       "'Alien_data'"
      ]
     },
     "execution_count": 35,
     "metadata": {},
     "output_type": "execute_result"
    }
   ],
   "source": [
    "data_dir"
   ]
  },
  {
   "cell_type": "code",
   "execution_count": 59,
   "id": "3ca72a45-da7d-4338-b54e-dcb6ed27a605",
   "metadata": {
    "tags": []
   },
   "outputs": [],
   "source": [
    "metadata_df = pd.read_csv(f'{data_dir}/sample_metadata.tsv', sep='\\t')"
   ]
  },
  {
   "cell_type": "code",
   "execution_count": 3,
   "id": "5b36ad09-c3e6-42d9-a391-e334196d7bed",
   "metadata": {
    "tags": []
   },
   "outputs": [
    {
     "name": "stdout",
     "output_type": "stream",
     "text": [
      "\u001b[32mUUID\u001b[0m:        394c4773-80e2-46a6-9fba-40e7c8ec3fb9\n",
      "\u001b[32mType\u001b[0m:        SampleData[PairedEndSequencesWithQuality]\n",
      "\u001b[32mData format\u001b[0m: SingleLanePerSamplePairedEndFastqDirFmt\n"
     ]
    }
   ],
   "source": [
    "! qiime tools peek $data_dir/sequences.qza"
   ]
  },
  {
   "cell_type": "code",
   "execution_count": 10,
   "id": "6820f25f-babd-4cab-8a64-58abc3b19a0f",
   "metadata": {},
   "outputs": [
    {
     "name": "stdout",
     "output_type": "stream",
     "text": [
      "\u001b[32mSaved Visualization to: Alien_data/sequences.qzv\u001b[0m\n",
      "\u001b[0m"
     ]
    }
   ],
   "source": [
    "! qiime demux summarize \\\n",
    "    --i-data $data_dir/sequences.qza \\\n",
    "    --o-visualization $data_dir/sequences.qzv"
   ]
  },
  {
   "cell_type": "code",
   "execution_count": 3,
   "id": "24a705da-7cdf-44bf-b76f-2dacf86cd8fd",
   "metadata": {
    "collapsed": true,
    "jupyter": {
     "outputs_hidden": true
    },
    "tags": []
   },
   "outputs": [
    {
     "data": {
      "text/html": [
       "<div><img onload=\"(function(div, url){\n",
       "if (typeof require !== 'undefined') {\n",
       "    var baseURL = require.toUrl('').split('/').slice(0, -2).join('/');\n",
       "} else {\n",
       "    var baseURL = JSON.parse(\n",
       "        document.getElementById('jupyter-config-data').innerHTML\n",
       "    ).baseUrl.slice(0, -1);\n",
       "}\n",
       "url = baseURL + url;\n",
       "fetch(url).then(function(res) {\n",
       "    if (res.status === 404) {\n",
       "        div.innerHTML = 'Install QIIME 2 Jupyter extension with:<br />' +\n",
       "                        '<code>jupyter serverextension enable --py qiime2' +\n",
       "                        ' --sys-prefix</code><br />then restart your server.' +\n",
       "                        '<br /><br />(Interactive output not available on ' +\n",
       "                        'static notebook viewer services like nbviewer.)';\n",
       "    } else if (res.status === 409) {\n",
       "        div.innerHTML = 'Visualization no longer in scope. Re-run this cell' +\n",
       "                        ' to see the visualization.';\n",
       "    } else if (res.ok) {\n",
       "        url = res.url;\n",
       "        div.innerHTML = '<iframe src=\\'' + url + '\\' style=\\'' +\n",
       "                        'width: 100%; height: 700px; border: 0;\\'>' +\n",
       "                        '</iframe><hr />Open in a: <a href=\\'' + url + '\\'' +\n",
       "                        ' target=\\'_blank\\'>new window</a>'\n",
       "    } else {\n",
       "        div.innerHTML = 'Something has gone wrong. Check notebook server for' +\n",
       "                        ' errors.';\n",
       "    }\n",
       "});\n",
       "})(this.parentElement, '/qiime2/redirect?location=/tmp/qiime2-archive-3mcn4szy')\" src=\"data:image/gif;base64,R0lGODlhAQABAIAAAP///wAAACH5BAEAAAAALAAAAAABAAEAAAICRAEAOw==\" /></div>"
      ],
      "text/plain": [
       "<visualization: Visualization uuid: 3e2d23ea-b49d-454f-9b2b-3a4288c37e57>"
      ]
     },
     "execution_count": 3,
     "metadata": {},
     "output_type": "execute_result"
    }
   ],
   "source": [
    "Visualization.load(f'{data_dir}/sequences.qzv')"
   ]
  },
  {
   "cell_type": "markdown",
   "id": "0d0515d1-4073-457a-a002-33d55b8d1676",
   "metadata": {},
   "source": [
    "I am not sure if we need to use the trim function or not. I already sent an email to Lina and asked if we should trim the primers she provided.\n",
    "The clustering method did not work very well, me and Xinyang have tried the removal of chimera and it ran for more than a day and still did not complete, so denoising with dada2 is used here. "
   ]
  },
  {
   "cell_type": "code",
   "execution_count": 4,
   "id": "d3f3ff84-9b08-4474-86ef-5ed954f4c554",
   "metadata": {},
   "outputs": [
    {
     "name": "stdout",
     "output_type": "stream",
     "text": [
      "\u001b[32mSaved FeatureTable[Frequency] to: Alien_data/dada2_table.qza\u001b[0m\n",
      "\u001b[32mSaved FeatureData[Sequence] to: Alien_data/dada2_rep_set.qza\u001b[0m\n",
      "\u001b[32mSaved SampleData[DADA2Stats] to: Alien_data/dada2_stats.qza\u001b[0m\n",
      "\u001b[0m"
     ]
    }
   ],
   "source": [
    "! qiime dada2 denoise-paired \\\n",
    "    --i-demultiplexed-seqs $data_dir/sequences.qza \\\n",
    "    --p-trunc-len-f 181 \\\n",
    "    --p-trunc-len-r 190 \\\n",
    "    --p-n-threads 4 \\\n",
    "    --o-table $data_dir/dada2_table.qza \\\n",
    "    --o-representative-sequences $data_dir/dada2_rep_set.qza \\\n",
    "    --o-denoising-stats $data_dir/dada2_stats.qza"
   ]
  },
  {
   "cell_type": "code",
   "execution_count": 5,
   "id": "06d8244b-4982-450f-88c0-42cf8ec06ab2",
   "metadata": {},
   "outputs": [
    {
     "name": "stdout",
     "output_type": "stream",
     "text": [
      "\u001b[32mSaved Visualization to: Alien_data/dada2_stats.qzv\u001b[0m\n",
      "\u001b[0m"
     ]
    }
   ],
   "source": [
    "! qiime metadata tabulate \\\n",
    "    --m-input-file $data_dir/dada2_stats.qza \\\n",
    "    --o-visualization $data_dir/dada2_stats.qzv"
   ]
  },
  {
   "cell_type": "code",
   "execution_count": 6,
   "id": "33be3db9-b9b9-43e0-a394-d6faa4a0565c",
   "metadata": {
    "collapsed": true,
    "jupyter": {
     "outputs_hidden": true
    },
    "tags": []
   },
   "outputs": [
    {
     "data": {
      "text/html": [
       "<div><img onload=\"(function(div, url){\n",
       "if (typeof require !== 'undefined') {\n",
       "    var baseURL = require.toUrl('').split('/').slice(0, -2).join('/');\n",
       "} else {\n",
       "    var baseURL = JSON.parse(\n",
       "        document.getElementById('jupyter-config-data').innerHTML\n",
       "    ).baseUrl.slice(0, -1);\n",
       "}\n",
       "url = baseURL + url;\n",
       "fetch(url).then(function(res) {\n",
       "    if (res.status === 404) {\n",
       "        div.innerHTML = 'Install QIIME 2 Jupyter extension with:<br />' +\n",
       "                        '<code>jupyter serverextension enable --py qiime2' +\n",
       "                        ' --sys-prefix</code><br />then restart your server.' +\n",
       "                        '<br /><br />(Interactive output not available on ' +\n",
       "                        'static notebook viewer services like nbviewer.)';\n",
       "    } else if (res.status === 409) {\n",
       "        div.innerHTML = 'Visualization no longer in scope. Re-run this cell' +\n",
       "                        ' to see the visualization.';\n",
       "    } else if (res.ok) {\n",
       "        url = res.url;\n",
       "        div.innerHTML = '<iframe src=\\'' + url + '\\' style=\\'' +\n",
       "                        'width: 100%; height: 700px; border: 0;\\'>' +\n",
       "                        '</iframe><hr />Open in a: <a href=\\'' + url + '\\'' +\n",
       "                        ' target=\\'_blank\\'>new window</a>'\n",
       "    } else {\n",
       "        div.innerHTML = 'Something has gone wrong. Check notebook server for' +\n",
       "                        ' errors.';\n",
       "    }\n",
       "});\n",
       "})(this.parentElement, '/qiime2/redirect?location=/tmp/qiime2-archive-4xdi1p9o')\" src=\"data:image/gif;base64,R0lGODlhAQABAIAAAP///wAAACH5BAEAAAAALAAAAAABAAEAAAICRAEAOw==\" /></div>"
      ],
      "text/plain": [
       "<visualization: Visualization uuid: afa71e4e-cb4a-41a9-a1ab-c3da47b38369>"
      ]
     },
     "execution_count": 6,
     "metadata": {},
     "output_type": "execute_result"
    }
   ],
   "source": [
    "Visualization.load(f'{data_dir}/dada2_stats.qzv')"
   ]
  },
  {
   "cell_type": "code",
   "execution_count": 7,
   "id": "27780a68-dff2-4f29-bad0-1aad6fd23c92",
   "metadata": {},
   "outputs": [
    {
     "name": "stdout",
     "output_type": "stream",
     "text": [
      "\u001b[32mSaved Visualization to: Alien_data/dada2_table.qzv\u001b[0m\n",
      "\u001b[0m"
     ]
    }
   ],
   "source": [
    "! qiime feature-table summarize \\\n",
    "  --i-table $data_dir/dada2_table.qza \\\n",
    "  --o-visualization $data_dir/dada2_table.qzv"
   ]
  },
  {
   "cell_type": "code",
   "execution_count": 10,
   "id": "d61cc7ed-2220-4d9d-87e4-d45683a3b3cf",
   "metadata": {
    "collapsed": true,
    "jupyter": {
     "outputs_hidden": true
    },
    "tags": []
   },
   "outputs": [
    {
     "data": {
      "text/html": [
       "<div><img onload=\"(function(div, url){\n",
       "if (typeof require !== 'undefined') {\n",
       "    var baseURL = require.toUrl('').split('/').slice(0, -2).join('/');\n",
       "} else {\n",
       "    var baseURL = JSON.parse(\n",
       "        document.getElementById('jupyter-config-data').innerHTML\n",
       "    ).baseUrl.slice(0, -1);\n",
       "}\n",
       "url = baseURL + url;\n",
       "fetch(url).then(function(res) {\n",
       "    if (res.status === 404) {\n",
       "        div.innerHTML = 'Install QIIME 2 Jupyter extension with:<br />' +\n",
       "                        '<code>jupyter serverextension enable --py qiime2' +\n",
       "                        ' --sys-prefix</code><br />then restart your server.' +\n",
       "                        '<br /><br />(Interactive output not available on ' +\n",
       "                        'static notebook viewer services like nbviewer.)';\n",
       "    } else if (res.status === 409) {\n",
       "        div.innerHTML = 'Visualization no longer in scope. Re-run this cell' +\n",
       "                        ' to see the visualization.';\n",
       "    } else if (res.ok) {\n",
       "        url = res.url;\n",
       "        div.innerHTML = '<iframe src=\\'' + url + '\\' style=\\'' +\n",
       "                        'width: 100%; height: 700px; border: 0;\\'>' +\n",
       "                        '</iframe><hr />Open in a: <a href=\\'' + url + '\\'' +\n",
       "                        ' target=\\'_blank\\'>new window</a>'\n",
       "    } else {\n",
       "        div.innerHTML = 'Something has gone wrong. Check notebook server for' +\n",
       "                        ' errors.';\n",
       "    }\n",
       "});\n",
       "})(this.parentElement, '/qiime2/redirect?location=/tmp/qiime2-archive-j0i_08fg')\" src=\"data:image/gif;base64,R0lGODlhAQABAIAAAP///wAAACH5BAEAAAAALAAAAAABAAEAAAICRAEAOw==\" /></div>"
      ],
      "text/plain": [
       "<visualization: Visualization uuid: 926ff34f-a7e3-4e6c-9f2e-d6e36db74626>"
      ]
     },
     "execution_count": 10,
     "metadata": {},
     "output_type": "execute_result"
    }
   ],
   "source": [
    "Visualization.load(f'{data_dir}/dada2_table.qzv')"
   ]
  },
  {
   "cell_type": "code",
   "execution_count": 8,
   "id": "9298fdfc-2cb2-4198-9f4f-72d49bcd3eb4",
   "metadata": {},
   "outputs": [
    {
     "name": "stdout",
     "output_type": "stream",
     "text": [
      "\u001b[32mSaved Visualization to: Alien_data/dada2_rep_set.qzv\u001b[0m\n",
      "\u001b[0m"
     ]
    }
   ],
   "source": [
    "! qiime feature-table tabulate-seqs \\\n",
    "  --i-data $data_dir/dada2_rep_set.qza \\\n",
    "  --o-visualization $data_dir/dada2_rep_set.qzv"
   ]
  },
  {
   "cell_type": "code",
   "execution_count": 9,
   "id": "5012c088-29f4-4b61-8073-05373e3b3017",
   "metadata": {
    "collapsed": true,
    "jupyter": {
     "outputs_hidden": true
    },
    "tags": []
   },
   "outputs": [
    {
     "data": {
      "text/html": [
       "<div><img onload=\"(function(div, url){\n",
       "if (typeof require !== 'undefined') {\n",
       "    var baseURL = require.toUrl('').split('/').slice(0, -2).join('/');\n",
       "} else {\n",
       "    var baseURL = JSON.parse(\n",
       "        document.getElementById('jupyter-config-data').innerHTML\n",
       "    ).baseUrl.slice(0, -1);\n",
       "}\n",
       "url = baseURL + url;\n",
       "fetch(url).then(function(res) {\n",
       "    if (res.status === 404) {\n",
       "        div.innerHTML = 'Install QIIME 2 Jupyter extension with:<br />' +\n",
       "                        '<code>jupyter serverextension enable --py qiime2' +\n",
       "                        ' --sys-prefix</code><br />then restart your server.' +\n",
       "                        '<br /><br />(Interactive output not available on ' +\n",
       "                        'static notebook viewer services like nbviewer.)';\n",
       "    } else if (res.status === 409) {\n",
       "        div.innerHTML = 'Visualization no longer in scope. Re-run this cell' +\n",
       "                        ' to see the visualization.';\n",
       "    } else if (res.ok) {\n",
       "        url = res.url;\n",
       "        div.innerHTML = '<iframe src=\\'' + url + '\\' style=\\'' +\n",
       "                        'width: 100%; height: 700px; border: 0;\\'>' +\n",
       "                        '</iframe><hr />Open in a: <a href=\\'' + url + '\\'' +\n",
       "                        ' target=\\'_blank\\'>new window</a>'\n",
       "    } else {\n",
       "        div.innerHTML = 'Something has gone wrong. Check notebook server for' +\n",
       "                        ' errors.';\n",
       "    }\n",
       "});\n",
       "})(this.parentElement, '/qiime2/redirect?location=/tmp/qiime2-archive-hc7k7_tm')\" src=\"data:image/gif;base64,R0lGODlhAQABAIAAAP///wAAACH5BAEAAAAALAAAAAABAAEAAAICRAEAOw==\" /></div>"
      ],
      "text/plain": [
       "<visualization: Visualization uuid: 55315eff-a0b0-48bc-a67a-e0f2d7b5bb10>"
      ]
     },
     "execution_count": 9,
     "metadata": {},
     "output_type": "execute_result"
    }
   ],
   "source": [
    "Visualization.load(f'{data_dir}/dada2_rep_set.qzv')"
   ]
  },
  {
   "cell_type": "markdown",
   "id": "0f1d7a5f-671c-43d1-8769-8d35dc245612",
   "metadata": {},
   "source": [
    "Taxonomy classification and data curation:"
   ]
  },
  {
   "cell_type": "code",
   "execution_count": 15,
   "id": "deeb7b34-aead-41ec-93bf-97f60d75a833",
   "metadata": {
    "collapsed": true,
    "jupyter": {
     "outputs_hidden": true
    },
    "tags": []
   },
   "outputs": [
    {
     "name": "stdout",
     "output_type": "stream",
     "text": [
      "\u001b[32mSaved FeatureData[RNASequence] to: Alien_data/silva-138.1-ssu-nr99-rna-seqs.qza\u001b[0m\n",
      "\u001b[32mSaved FeatureData[Taxonomy] to: Alien_data/silva-138.1-ssu-nr99-tax.qza\u001b[0m\n",
      "\u001b[0m"
     ]
    }
   ],
   "source": [
    "! qiime rescript get-silva-data \\\n",
    "    --p-version '138.1' \\\n",
    "    --p-target 'SSURef_NR99' \\\n",
    "    --p-include-species-labels \\\n",
    "    --o-silva-sequences $data_dir/silva-138.1-ssu-nr99-rna-seqs.qza \\\n",
    "    --o-silva-taxonomy $data_dir/silva-138.1-ssu-nr99-tax.qza"
   ]
  },
  {
   "cell_type": "code",
   "execution_count": 16,
   "id": "69f9dd03-1b4f-4921-b646-68eaf5f6a408",
   "metadata": {},
   "outputs": [
    {
     "name": "stdout",
     "output_type": "stream",
     "text": [
      "\u001b[32mSaved FeatureData[Sequence] to: Alien_data/silva-138.1-ssu-nr99-rna-seqs-cleaned.qza\u001b[0m\n",
      "\u001b[0m"
     ]
    }
   ],
   "source": [
    " ! qiime rescript cull-seqs \\\n",
    "     --i-sequences $data_dir/silva-138.1-ssu-nr99-rna-seqs.qza \\\n",
    "     --p-num-degenerates 5 \\\n",
    "     --p-homopolymer-length 8 \\\n",
    "     --p-n-jobs 3 \\\n",
    "     --o-clean-sequences $data_dir/silva-138.1-ssu-nr99-rna-seqs-cleaned.qza"
   ]
  },
  {
   "cell_type": "code",
   "execution_count": 17,
   "id": "21c582b8-c0f4-4972-b09f-e805061784d5",
   "metadata": {},
   "outputs": [
    {
     "name": "stdout",
     "output_type": "stream",
     "text": [
      "\u001b[32mSaved FeatureData[Sequence] to: Alien_data/silva-138-ssu-nr99-seqs-filt.qza\u001b[0m\n",
      "\u001b[32mSaved FeatureData[Sequence] to: Alien_data/silva-138-ssu-nr99-seqs-discard.qza\u001b[0m\n",
      "\u001b[0m"
     ]
    }
   ],
   "source": [
    "! qiime rescript filter-seqs-length-by-taxon \\\n",
    "    --i-sequences $data_dir/silva-138.1-ssu-nr99-rna-seqs-cleaned.qza \\\n",
    "    --i-taxonomy $data_dir/silva-138.1-ssu-nr99-tax.qza \\\n",
    "    --p-labels Archaea Bacteria Eukaryota \\\n",
    "    --p-min-lens 900 1200 1400 \\\n",
    "    --o-filtered-seqs $data_dir/silva-138-ssu-nr99-seqs-filt.qza \\\n",
    "    --o-discarded-seqs $data_dir/silva-138-ssu-nr99-seqs-discard.qza"
   ]
  },
  {
   "cell_type": "code",
   "execution_count": 4,
   "id": "597d94a6-a677-458f-b6b6-da98c86fe65e",
   "metadata": {
    "tags": []
   },
   "outputs": [
    {
     "name": "stdout",
     "output_type": "stream",
     "text": [
      "\u001b[32mSaved FeatureData[Sequence] to: Alien_data/silva-138-ssu-nr99-seqs-derep-uniq.qza\u001b[0m\n",
      "\u001b[32mSaved FeatureData[Taxonomy] to: Alien_data/silva-138-ssu-nr99-tax-derep-uniq.qza\u001b[0m\n",
      "\u001b[0m"
     ]
    }
   ],
   "source": [
    "! qiime rescript dereplicate \\\n",
    "    --i-sequences $data_dir/silva-138-ssu-nr99-seqs-filt.qza  \\\n",
    "    --i-taxa $data_dir/silva-138.1-ssu-nr99-tax.qza \\\n",
    "    --p-rank-handles 'silva' \\\n",
    "    --p-mode 'uniq' \\\n",
    "    --p-threads 3 \\\n",
    "    --o-dereplicated-sequences $data_dir/silva-138-ssu-nr99-seqs-derep-uniq.qza \\\n",
    "    --o-dereplicated-taxa $data_dir/silva-138-ssu-nr99-tax-derep-uniq.qza"
   ]
  },
  {
   "cell_type": "markdown",
   "id": "f8ca9a48-e039-4922-a641-7846bd8c22b9",
   "metadata": {},
   "source": [
    "PCR extraction: \n",
    "The primers used for our samples are designed for the V4-V5 region:\n",
    "563 F: 5′-AYTGGGYDTAAAGNG-3′\n",
    "926 R: 5′-CCGTCAATTYHTTTRAGT-3′\n",
    "I think below I should use the same primers used in our exercise since it is to extract the PCR region from the database, but I am not very sure, so I also asked Lina in the email, If anything need to be changed, I will redo this step. "
   ]
  },
  {
   "cell_type": "code",
   "execution_count": 7,
   "id": "1afbd751-9652-42af-8888-f3f8e3684a59",
   "metadata": {},
   "outputs": [
    {
     "name": "stdout",
     "output_type": "stream",
     "text": [
      "\u001b[32mSaved FeatureData[Sequence] to: Alien_data/silva-138-ssu-nr99-seqs-515f-806r.qza\u001b[0m\n",
      "\u001b[0m"
     ]
    }
   ],
   "source": [
    "! qiime feature-classifier extract-reads \\\n",
    "    --i-sequences $data_dir/silva-138-ssu-nr99-seqs-derep-uniq.qza \\\n",
    "    --p-f-primer GTGCCAGCMGCCGCGGTAA \\\n",
    "    --p-r-primer GGACTACHVGGGTWTCTAAT \\\n",
    "    --p-n-jobs 3 \\\n",
    "    --p-read-orientation 'forward' \\\n",
    "    --o-reads $data_dir/silva-138-ssu-nr99-seqs-515f-806r.qza"
   ]
  },
  {
   "cell_type": "code",
   "execution_count": 8,
   "id": "5a0eab2e-49bf-440b-af42-e4d0a8d1e3f7",
   "metadata": {},
   "outputs": [
    {
     "name": "stdout",
     "output_type": "stream",
     "text": [
      "\u001b[32mSaved FeatureData[Sequence] to: Alien_data/silva-138-ssu-nr99-seqs-515f-806r-uniq.qza\u001b[0m\n",
      "\u001b[32mSaved FeatureData[Taxonomy] to: Alien_data/silva-138-ssu-nr99-tax-515f-806r-derep-uniq.qza\u001b[0m\n",
      "\u001b[0m"
     ]
    }
   ],
   "source": [
    "! qiime rescript dereplicate \\\n",
    "    --i-sequences $data_dir/silva-138-ssu-nr99-seqs-515f-806r.qza \\\n",
    "    --i-taxa $data_dir/silva-138-ssu-nr99-tax-derep-uniq.qza \\\n",
    "    --p-rank-handles 'silva' \\\n",
    "    --p-mode 'uniq' \\\n",
    "    --p-threads 3 \\\n",
    "    --o-dereplicated-sequences $data_dir/silva-138-ssu-nr99-seqs-515f-806r-uniq.qza \\\n",
    "    --o-dereplicated-taxa  $data_dir/silva-138-ssu-nr99-tax-515f-806r-derep-uniq.qza"
   ]
  },
  {
   "cell_type": "markdown",
   "id": "2f15ea38-bcad-41de-a0a3-67b8120e0f04",
   "metadata": {},
   "source": [
    "Code below is to train taxonomy calssifier, this is the step that I get stucked with, it does not produce any output in my notebook.  "
   ]
  },
  {
   "cell_type": "code",
   "execution_count": 7,
   "id": "abd99ccb-3865-4748-8be7-d7908656c09f",
   "metadata": {},
   "outputs": [],
   "source": [
    "! qiime feature-classifier fit-classifier-naive-bayes \\\n",
    "     --i-reference-reads $data_dir/silva-138-ssu-nr99-seqs-515f-806r-uniq.qza \\\n",
    "     --i-reference-taxonomy $data_dir/silva-138-ssu-nr99-tax-515f-806r-derep-uniq.qza \\\n",
    "     --o-classifier $data_dir/515f-806r-classifier.qza"
   ]
  }
 ],
 "metadata": {
  "kernelspec": {
   "display_name": "Python 3 (ipykernel)",
   "language": "python",
   "name": "python3"
  },
  "language_info": {
   "codemirror_mode": {
    "name": "ipython",
    "version": 3
   },
   "file_extension": ".py",
   "mimetype": "text/x-python",
   "name": "python",
   "nbconvert_exporter": "python",
   "pygments_lexer": "ipython3",
   "version": "3.8.13"
  }
 },
 "nbformat": 4,
 "nbformat_minor": 5
}
