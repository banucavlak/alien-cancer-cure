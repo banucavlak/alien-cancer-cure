{
 "cells": [
  {
   "cell_type": "markdown",
   "id": "f28e5baf-36e8-4f10-8a0d-b8ed71b60f8f",
   "metadata": {},
   "source": [
    "### Relative Abundance"
   ]
  },
  {
   "cell_type": "code",
   "execution_count": 1,
   "id": "9eb0b0b9-9329-4184-9794-b2d3eca1f108",
   "metadata": {},
   "outputs": [],
   "source": [
    "import os\n",
    "import matplotlib.pyplot as plt\n",
    "import pandas as pd\n",
    "import qiime2 as q2\n",
    "from qiime2 import Visualization\n",
    "import seaborn as sns\n",
    "from scipy.stats import shapiro, kruskal, f_oneway\n",
    "\n",
    "\n",
    "data_dir = 'Alien_data'\n",
    "    \n",
    "%matplotlib inline"
   ]
  },
  {
   "cell_type": "code",
   "execution_count": 2,
   "id": "f5a9baec-401c-4ee5-b132-72bda4f67e55",
   "metadata": {},
   "outputs": [],
   "source": [
    "data = q2.Artifact.load(f'{data_dir}/dada2_table.qza').view(pd.DataFrame)"
   ]
  },
  {
   "cell_type": "code",
   "execution_count": 3,
   "id": "dd3a1c85-0a52-437b-9e2a-acb56dca0f4a",
   "metadata": {},
   "outputs": [
    {
     "data": {
      "text/html": [
       "<div>\n",
       "<style scoped>\n",
       "    .dataframe tbody tr th:only-of-type {\n",
       "        vertical-align: middle;\n",
       "    }\n",
       "\n",
       "    .dataframe tbody tr th {\n",
       "        vertical-align: top;\n",
       "    }\n",
       "\n",
       "    .dataframe thead th {\n",
       "        text-align: right;\n",
       "    }\n",
       "</style>\n",
       "<table border=\"1\" class=\"dataframe\">\n",
       "  <thead>\n",
       "    <tr style=\"text-align: right;\">\n",
       "      <th></th>\n",
       "      <th>2484b3ed876e3e6a9467ecee55b33074</th>\n",
       "      <th>d51e156a1ef97d421bddbb8e2bde990f</th>\n",
       "      <th>c4f9da8bc8fa300c3ea6cd5b51fecdb4</th>\n",
       "      <th>fb867a2811e2012044770f9d0d8b488e</th>\n",
       "      <th>f74040aa66b451ec18a33cb30ec79371</th>\n",
       "      <th>75036f93e97764cd6ef5f390ccb115c7</th>\n",
       "      <th>e06423e8099caf4980cd95c0bc724303</th>\n",
       "      <th>7a69a28a37791ae2af9d0940ec9bc83c</th>\n",
       "      <th>ab0a5febf1575797dcc91d1e1e168b4b</th>\n",
       "      <th>298dafbc3a1a1d7422c17b09790f0e05</th>\n",
       "      <th>...</th>\n",
       "      <th>54b3eaa06ebe99f8e0f088c9444c8303</th>\n",
       "      <th>456bf81a8a16715edf28d614e272151f</th>\n",
       "      <th>c910bfc56f5101423f27f3bb85b62e38</th>\n",
       "      <th>31e9d1685aa9e5705c1c6b03afc33b47</th>\n",
       "      <th>596600f16c82eacb230844d76ee7a5cb</th>\n",
       "      <th>a5e32b37a4f30bfdd7d1044c3fbdd587</th>\n",
       "      <th>3a0fc378c11f22fc8238fe6dee966b33</th>\n",
       "      <th>8af656c19910644fe10cf38693bba2bc</th>\n",
       "      <th>44d5af9582557d7acf0c36ce91cecd7f</th>\n",
       "      <th>82a3495ad56c594e50e6eddceb616012</th>\n",
       "    </tr>\n",
       "  </thead>\n",
       "  <tbody>\n",
       "    <tr>\n",
       "      <th>0DOSLC</th>\n",
       "      <td>234007.0</td>\n",
       "      <td>17.0</td>\n",
       "      <td>20452.0</td>\n",
       "      <td>14815.0</td>\n",
       "      <td>29.0</td>\n",
       "      <td>29.0</td>\n",
       "      <td>73.0</td>\n",
       "      <td>7.0</td>\n",
       "      <td>32647.0</td>\n",
       "      <td>10.0</td>\n",
       "      <td>...</td>\n",
       "      <td>0.0</td>\n",
       "      <td>0.0</td>\n",
       "      <td>0.0</td>\n",
       "      <td>0.0</td>\n",
       "      <td>0.0</td>\n",
       "      <td>0.0</td>\n",
       "      <td>0.0</td>\n",
       "      <td>0.0</td>\n",
       "      <td>0.0</td>\n",
       "      <td>0.0</td>\n",
       "    </tr>\n",
       "    <tr>\n",
       "      <th>0KB68F</th>\n",
       "      <td>799.0</td>\n",
       "      <td>1117.0</td>\n",
       "      <td>314.0</td>\n",
       "      <td>28.0</td>\n",
       "      <td>0.0</td>\n",
       "      <td>0.0</td>\n",
       "      <td>23.0</td>\n",
       "      <td>1310.0</td>\n",
       "      <td>15.0</td>\n",
       "      <td>0.0</td>\n",
       "      <td>...</td>\n",
       "      <td>0.0</td>\n",
       "      <td>0.0</td>\n",
       "      <td>0.0</td>\n",
       "      <td>0.0</td>\n",
       "      <td>0.0</td>\n",
       "      <td>0.0</td>\n",
       "      <td>0.0</td>\n",
       "      <td>0.0</td>\n",
       "      <td>0.0</td>\n",
       "      <td>0.0</td>\n",
       "    </tr>\n",
       "    <tr>\n",
       "      <th>0TR6O2</th>\n",
       "      <td>0.0</td>\n",
       "      <td>0.0</td>\n",
       "      <td>0.0</td>\n",
       "      <td>0.0</td>\n",
       "      <td>0.0</td>\n",
       "      <td>0.0</td>\n",
       "      <td>0.0</td>\n",
       "      <td>20.0</td>\n",
       "      <td>0.0</td>\n",
       "      <td>0.0</td>\n",
       "      <td>...</td>\n",
       "      <td>0.0</td>\n",
       "      <td>0.0</td>\n",
       "      <td>0.0</td>\n",
       "      <td>0.0</td>\n",
       "      <td>0.0</td>\n",
       "      <td>0.0</td>\n",
       "      <td>0.0</td>\n",
       "      <td>0.0</td>\n",
       "      <td>0.0</td>\n",
       "      <td>0.0</td>\n",
       "    </tr>\n",
       "    <tr>\n",
       "      <th>0UWI7J</th>\n",
       "      <td>43.0</td>\n",
       "      <td>827.0</td>\n",
       "      <td>74.0</td>\n",
       "      <td>0.0</td>\n",
       "      <td>3.0</td>\n",
       "      <td>57.0</td>\n",
       "      <td>0.0</td>\n",
       "      <td>952.0</td>\n",
       "      <td>0.0</td>\n",
       "      <td>0.0</td>\n",
       "      <td>...</td>\n",
       "      <td>0.0</td>\n",
       "      <td>0.0</td>\n",
       "      <td>0.0</td>\n",
       "      <td>0.0</td>\n",
       "      <td>0.0</td>\n",
       "      <td>0.0</td>\n",
       "      <td>0.0</td>\n",
       "      <td>0.0</td>\n",
       "      <td>0.0</td>\n",
       "      <td>0.0</td>\n",
       "    </tr>\n",
       "    <tr>\n",
       "      <th>0WG67D</th>\n",
       "      <td>158847.0</td>\n",
       "      <td>19.0</td>\n",
       "      <td>6205.0</td>\n",
       "      <td>8598.0</td>\n",
       "      <td>23.0</td>\n",
       "      <td>34.0</td>\n",
       "      <td>1522.0</td>\n",
       "      <td>13.0</td>\n",
       "      <td>4901.0</td>\n",
       "      <td>8.0</td>\n",
       "      <td>...</td>\n",
       "      <td>0.0</td>\n",
       "      <td>0.0</td>\n",
       "      <td>0.0</td>\n",
       "      <td>0.0</td>\n",
       "      <td>0.0</td>\n",
       "      <td>0.0</td>\n",
       "      <td>0.0</td>\n",
       "      <td>0.0</td>\n",
       "      <td>0.0</td>\n",
       "      <td>0.0</td>\n",
       "    </tr>\n",
       "  </tbody>\n",
       "</table>\n",
       "<p>5 rows × 2193 columns</p>\n",
       "</div>"
      ],
      "text/plain": [
       "        2484b3ed876e3e6a9467ecee55b33074  d51e156a1ef97d421bddbb8e2bde990f  \\\n",
       "0DOSLC                          234007.0                              17.0   \n",
       "0KB68F                             799.0                            1117.0   \n",
       "0TR6O2                               0.0                               0.0   \n",
       "0UWI7J                              43.0                             827.0   \n",
       "0WG67D                          158847.0                              19.0   \n",
       "\n",
       "        c4f9da8bc8fa300c3ea6cd5b51fecdb4  fb867a2811e2012044770f9d0d8b488e  \\\n",
       "0DOSLC                           20452.0                           14815.0   \n",
       "0KB68F                             314.0                              28.0   \n",
       "0TR6O2                               0.0                               0.0   \n",
       "0UWI7J                              74.0                               0.0   \n",
       "0WG67D                            6205.0                            8598.0   \n",
       "\n",
       "        f74040aa66b451ec18a33cb30ec79371  75036f93e97764cd6ef5f390ccb115c7  \\\n",
       "0DOSLC                              29.0                              29.0   \n",
       "0KB68F                               0.0                               0.0   \n",
       "0TR6O2                               0.0                               0.0   \n",
       "0UWI7J                               3.0                              57.0   \n",
       "0WG67D                              23.0                              34.0   \n",
       "\n",
       "        e06423e8099caf4980cd95c0bc724303  7a69a28a37791ae2af9d0940ec9bc83c  \\\n",
       "0DOSLC                              73.0                               7.0   \n",
       "0KB68F                              23.0                            1310.0   \n",
       "0TR6O2                               0.0                              20.0   \n",
       "0UWI7J                               0.0                             952.0   \n",
       "0WG67D                            1522.0                              13.0   \n",
       "\n",
       "        ab0a5febf1575797dcc91d1e1e168b4b  298dafbc3a1a1d7422c17b09790f0e05  \\\n",
       "0DOSLC                           32647.0                              10.0   \n",
       "0KB68F                              15.0                               0.0   \n",
       "0TR6O2                               0.0                               0.0   \n",
       "0UWI7J                               0.0                               0.0   \n",
       "0WG67D                            4901.0                               8.0   \n",
       "\n",
       "        ...  54b3eaa06ebe99f8e0f088c9444c8303  \\\n",
       "0DOSLC  ...                               0.0   \n",
       "0KB68F  ...                               0.0   \n",
       "0TR6O2  ...                               0.0   \n",
       "0UWI7J  ...                               0.0   \n",
       "0WG67D  ...                               0.0   \n",
       "\n",
       "        456bf81a8a16715edf28d614e272151f  c910bfc56f5101423f27f3bb85b62e38  \\\n",
       "0DOSLC                               0.0                               0.0   \n",
       "0KB68F                               0.0                               0.0   \n",
       "0TR6O2                               0.0                               0.0   \n",
       "0UWI7J                               0.0                               0.0   \n",
       "0WG67D                               0.0                               0.0   \n",
       "\n",
       "        31e9d1685aa9e5705c1c6b03afc33b47  596600f16c82eacb230844d76ee7a5cb  \\\n",
       "0DOSLC                               0.0                               0.0   \n",
       "0KB68F                               0.0                               0.0   \n",
       "0TR6O2                               0.0                               0.0   \n",
       "0UWI7J                               0.0                               0.0   \n",
       "0WG67D                               0.0                               0.0   \n",
       "\n",
       "        a5e32b37a4f30bfdd7d1044c3fbdd587  3a0fc378c11f22fc8238fe6dee966b33  \\\n",
       "0DOSLC                               0.0                               0.0   \n",
       "0KB68F                               0.0                               0.0   \n",
       "0TR6O2                               0.0                               0.0   \n",
       "0UWI7J                               0.0                               0.0   \n",
       "0WG67D                               0.0                               0.0   \n",
       "\n",
       "        8af656c19910644fe10cf38693bba2bc  44d5af9582557d7acf0c36ce91cecd7f  \\\n",
       "0DOSLC                               0.0                               0.0   \n",
       "0KB68F                               0.0                               0.0   \n",
       "0TR6O2                               0.0                               0.0   \n",
       "0UWI7J                               0.0                               0.0   \n",
       "0WG67D                               0.0                               0.0   \n",
       "\n",
       "        82a3495ad56c594e50e6eddceb616012  \n",
       "0DOSLC                               0.0  \n",
       "0KB68F                               0.0  \n",
       "0TR6O2                               0.0  \n",
       "0UWI7J                               0.0  \n",
       "0WG67D                               0.0  \n",
       "\n",
       "[5 rows x 2193 columns]"
      ]
     },
     "execution_count": 3,
     "metadata": {},
     "output_type": "execute_result"
    }
   ],
   "source": [
    "data.head()"
   ]
  },
  {
   "cell_type": "code",
   "execution_count": 4,
   "id": "b0d115ee-83be-4fe2-af92-668ae304cb9e",
   "metadata": {},
   "outputs": [
    {
     "data": {
      "text/html": [
       "<div>\n",
       "<style scoped>\n",
       "    .dataframe tbody tr th:only-of-type {\n",
       "        vertical-align: middle;\n",
       "    }\n",
       "\n",
       "    .dataframe tbody tr th {\n",
       "        vertical-align: top;\n",
       "    }\n",
       "\n",
       "    .dataframe thead th {\n",
       "        text-align: right;\n",
       "    }\n",
       "</style>\n",
       "<table border=\"1\" class=\"dataframe\">\n",
       "  <thead>\n",
       "    <tr style=\"text-align: right;\">\n",
       "      <th></th>\n",
       "      <th>sample</th>\n",
       "      <th>asv</th>\n",
       "      <th>count</th>\n",
       "    </tr>\n",
       "  </thead>\n",
       "  <tbody>\n",
       "    <tr>\n",
       "      <th>0</th>\n",
       "      <td>0DOSLC</td>\n",
       "      <td>5470ee1247b8858827d6a54fe349072f</td>\n",
       "      <td>0.0</td>\n",
       "    </tr>\n",
       "    <tr>\n",
       "      <th>1</th>\n",
       "      <td>0DOSLC</td>\n",
       "      <td>40d0579d8984ee5c50913e6bb9cbfed6</td>\n",
       "      <td>0.0</td>\n",
       "    </tr>\n",
       "    <tr>\n",
       "      <th>2</th>\n",
       "      <td>0DOSLC</td>\n",
       "      <td>731dc5f1cd49d20bb33a99f5235d4abd</td>\n",
       "      <td>0.0</td>\n",
       "    </tr>\n",
       "    <tr>\n",
       "      <th>3</th>\n",
       "      <td>0DOSLC</td>\n",
       "      <td>771b52764e42263220b0fb659d7d73a6</td>\n",
       "      <td>0.0</td>\n",
       "    </tr>\n",
       "    <tr>\n",
       "      <th>4</th>\n",
       "      <td>0DOSLC</td>\n",
       "      <td>304efa8140d78b2acffe334ff4208f8f</td>\n",
       "      <td>0.0</td>\n",
       "    </tr>\n",
       "  </tbody>\n",
       "</table>\n",
       "</div>"
      ],
      "text/plain": [
       "   sample                               asv  count\n",
       "0  0DOSLC  5470ee1247b8858827d6a54fe349072f    0.0\n",
       "1  0DOSLC  40d0579d8984ee5c50913e6bb9cbfed6    0.0\n",
       "2  0DOSLC  731dc5f1cd49d20bb33a99f5235d4abd    0.0\n",
       "3  0DOSLC  771b52764e42263220b0fb659d7d73a6    0.0\n",
       "4  0DOSLC  304efa8140d78b2acffe334ff4208f8f    0.0"
      ]
     },
     "execution_count": 4,
     "metadata": {},
     "output_type": "execute_result"
    }
   ],
   "source": [
    "n = 20\n",
    "\n",
    "# draw n ASVs out of the original DataFrame\n",
    "data_samp = data.sample(n=n, axis=1, random_state=234)\n",
    "\n",
    "# create a new DataFrame with three columns (sample, ASV, abundance)\n",
    "col_names = {'level_0': 'sample', 'level_1': 'asv', 0: 'count'}\n",
    "data_plot = data_samp.stack().reset_index().rename(columns=col_names)\n",
    "data_plot.head()"
   ]
  },
  {
   "cell_type": "code",
   "execution_count": 5,
   "id": "2f9d084e-9ca7-446c-b8a3-66bda9c62bda",
   "metadata": {
    "collapsed": true,
    "jupyter": {
     "outputs_hidden": true
    },
    "tags": []
   },
   "outputs": [
    {
     "data": {
      "image/png": "[encoded data removed]",
      "text/plain": [
       "<Figure size 1080x540 with 1 Axes>"
      ]
     },
     "metadata": {},
     "output_type": "display_data"
    }
   ],
   "source": [
    "with sns.axes_style('white'), sns.color_palette('Set1'):\n",
    "    fig, ax = plt.subplots()\n",
    "    fig.set_size_inches(15, 7.5)\n",
    "    \n",
    "    sns.violinplot(data=data_plot, x='asv', y='count', ax=ax)\n",
    "    sns.despine(left=True)\n",
    "    \n",
    "    # adjust tick labels and axes titles\n",
    "    ax.tick_params(axis='x', rotation=90, labelsize=11)\n",
    "    ax.tick_params(axis='y', labelsize=11)\n",
    "    ax.set_xlabel('ASV', fontsize=14)\n",
    "    ax.set_ylabel('Count', fontsize=14)"
   ]
  },
  {
   "cell_type": "markdown",
   "id": "a0d5d225-34eb-4066-8d01-e1e8770191e3",
   "metadata": {},
   "source": [
    "#### Creating dataframe of all significant features (from 'data')"
   ]
  },
  {
   "cell_type": "code",
   "execution_count": 14,
   "id": "60067057-be0b-42a0-9829-da90a51b736a",
   "metadata": {},
   "outputs": [],
   "source": [
    "alpha = 0.05\n",
    "results = {}\n",
    "\n",
    "# iterate through rows (samples) and test each of them for normality\n",
    "for asv_name, asv_values in data.iteritems():\n",
    "    stat, p = shapiro(asv_values)\n",
    "    results[asv_name] = p\n",
    "\n",
    "# convert test results into a DataFrame\n",
    "results_df = pd.DataFrame(data=results.values(), index=results.keys(), columns=['p'])\n",
    "\n",
    "# add a new column with a descriptive test result\n",
    "results_df['is_normal'] = results_df['p'] > alpha"
   ]
  },
  {
   "cell_type": "code",
   "execution_count": 15,
   "id": "155b726c-d994-4fba-a6c5-c62e5aa7b529",
   "metadata": {
    "collapsed": true,
    "jupyter": {
     "outputs_hidden": true
    },
    "tags": []
   },
   "outputs": [
    {
     "data": {
      "text/html": [
       "<div>\n",
       "<style scoped>\n",
       "    .dataframe tbody tr th:only-of-type {\n",
       "        vertical-align: middle;\n",
       "    }\n",
       "\n",
       "    .dataframe tbody tr th {\n",
       "        vertical-align: top;\n",
       "    }\n",
       "\n",
       "    .dataframe thead th {\n",
       "        text-align: right;\n",
       "    }\n",
       "</style>\n",
       "<table border=\"1\" class=\"dataframe\">\n",
       "  <thead>\n",
       "    <tr style=\"text-align: right;\">\n",
       "      <th></th>\n",
       "      <th>p</th>\n",
       "      <th>is_normal</th>\n",
       "    </tr>\n",
       "  </thead>\n",
       "  <tbody>\n",
       "    <tr>\n",
       "      <th>2484b3ed876e3e6a9467ecee55b33074</th>\n",
       "      <td>5.845393e-25</td>\n",
       "      <td>False</td>\n",
       "    </tr>\n",
       "    <tr>\n",
       "      <th>d51e156a1ef97d421bddbb8e2bde990f</th>\n",
       "      <td>9.143686e-26</td>\n",
       "      <td>False</td>\n",
       "    </tr>\n",
       "    <tr>\n",
       "      <th>c4f9da8bc8fa300c3ea6cd5b51fecdb4</th>\n",
       "      <td>6.697085e-25</td>\n",
       "      <td>False</td>\n",
       "    </tr>\n",
       "    <tr>\n",
       "      <th>fb867a2811e2012044770f9d0d8b488e</th>\n",
       "      <td>1.926959e-25</td>\n",
       "      <td>False</td>\n",
       "    </tr>\n",
       "    <tr>\n",
       "      <th>f74040aa66b451ec18a33cb30ec79371</th>\n",
       "      <td>2.048726e-27</td>\n",
       "      <td>False</td>\n",
       "    </tr>\n",
       "    <tr>\n",
       "      <th>...</th>\n",
       "      <td>...</td>\n",
       "      <td>...</td>\n",
       "    </tr>\n",
       "    <tr>\n",
       "      <th>a5e32b37a4f30bfdd7d1044c3fbdd587</th>\n",
       "      <td>1.115372e-27</td>\n",
       "      <td>False</td>\n",
       "    </tr>\n",
       "    <tr>\n",
       "      <th>3a0fc378c11f22fc8238fe6dee966b33</th>\n",
       "      <td>1.115372e-27</td>\n",
       "      <td>False</td>\n",
       "    </tr>\n",
       "    <tr>\n",
       "      <th>8af656c19910644fe10cf38693bba2bc</th>\n",
       "      <td>1.115372e-27</td>\n",
       "      <td>False</td>\n",
       "    </tr>\n",
       "    <tr>\n",
       "      <th>44d5af9582557d7acf0c36ce91cecd7f</th>\n",
       "      <td>1.115372e-27</td>\n",
       "      <td>False</td>\n",
       "    </tr>\n",
       "    <tr>\n",
       "      <th>82a3495ad56c594e50e6eddceb616012</th>\n",
       "      <td>1.115372e-27</td>\n",
       "      <td>False</td>\n",
       "    </tr>\n",
       "  </tbody>\n",
       "</table>\n",
       "<p>2193 rows × 2 columns</p>\n",
       "</div>"
      ],
      "text/plain": [
       "                                             p  is_normal\n",
       "2484b3ed876e3e6a9467ecee55b33074  5.845393e-25      False\n",
       "d51e156a1ef97d421bddbb8e2bde990f  9.143686e-26      False\n",
       "c4f9da8bc8fa300c3ea6cd5b51fecdb4  6.697085e-25      False\n",
       "fb867a2811e2012044770f9d0d8b488e  1.926959e-25      False\n",
       "f74040aa66b451ec18a33cb30ec79371  2.048726e-27      False\n",
       "...                                        ...        ...\n",
       "a5e32b37a4f30bfdd7d1044c3fbdd587  1.115372e-27      False\n",
       "3a0fc378c11f22fc8238fe6dee966b33  1.115372e-27      False\n",
       "8af656c19910644fe10cf38693bba2bc  1.115372e-27      False\n",
       "44d5af9582557d7acf0c36ce91cecd7f  1.115372e-27      False\n",
       "82a3495ad56c594e50e6eddceb616012  1.115372e-27      False\n",
       "\n",
       "[2193 rows x 2 columns]"
      ]
     },
     "execution_count": 15,
     "metadata": {},
     "output_type": "execute_result"
    }
   ],
   "source": [
    "results_df"
   ]
  },
  {
   "cell_type": "code",
   "execution_count": 16,
   "id": "e0ab6210-1d14-4e7d-9aa7-9e8d7b1642a2",
   "metadata": {},
   "outputs": [
    {
     "name": "stdout",
     "output_type": "stream",
     "text": [
      "Number of ASVs with normal distribution: 0\n"
     ]
    }
   ],
   "source": [
    "# Checking whether any ASVs have a normal distribution\n",
    "\n",
    "print('Number of ASVs with normal distribution:', results_df['is_normal'].sum())"
   ]
  },
  {
   "cell_type": "markdown",
   "id": "7113c496-a353-45df-84a3-be8dda50b3be",
   "metadata": {},
   "source": [
    "#### ANCOM"
   ]
  },
  {
   "cell_type": "code",
   "execution_count": 17,
   "id": "3907186e-9a84-40db-ab76-4c05a7dba6a0",
   "metadata": {},
   "outputs": [
    {
     "name": "stdout",
     "output_type": "stream",
     "text": [
      "\u001b[32mSaved FeatureTable[Frequency] to: Alien_data/table_abund.qza\u001b[0m\n",
      "\u001b[0m"
     ]
    }
   ],
   "source": [
    "# Filtering feature table to improve resolution and limit FDR. keeping only features that are present \n",
    "# at frequency ≥25 and in at least 4 samples. \n",
    "\n",
    "! qiime feature-table filter-features \\\n",
    "    --i-table $data_dir/dada2_table.qza \\\n",
    "    --p-min-frequency 25 \\\n",
    "    --p-min-samples 4 \\\n",
    "    --o-filtered-table $data_dir/table_abund.qza"
   ]
  },
  {
   "cell_type": "code",
   "execution_count": 18,
   "id": "19fa2af9-3756-4309-b773-79cc121333c4",
   "metadata": {},
   "outputs": [
    {
     "name": "stdout",
     "output_type": "stream",
     "text": [
      "\u001b[32mSaved FeatureTable[Composition] to: Alien_data/table_abund_comp.qza\u001b[0m\n",
      "\u001b[0m"
     ]
    }
   ],
   "source": [
    "# Add pseudocount to FeatureTable[Frequency] to remove the zeros from table \n",
    "# Convert table into a FeatureTable[Composition]\n",
    "! qiime composition add-pseudocount \\\n",
    "    --i-table $data_dir/table_abund.qza \\\n",
    "    --o-composition-table $data_dir/table_abund_comp.qza"
   ]
  },
  {
   "cell_type": "code",
   "execution_count": 29,
   "id": "8868bb95-f9dd-4f87-a3cb-a4ebf3281d4c",
   "metadata": {},
   "outputs": [
    {
     "name": "stdout",
     "output_type": "stream",
     "text": [
      "\u001b[32mSaved Visualization to: Alien_data/ancom_abduction.qzv\u001b[0m\n",
      "\u001b[0m"
     ]
    }
   ],
   "source": [
    "# Looking at differential abundance between abducted and non-abducted individuals\n",
    "\n",
    "! qiime composition ancom \\\n",
    "    --i-table $data_dir/table_abund_comp.qza \\\n",
    "    --m-metadata-file shared_data/metadata/str_metadata.tsv \\\n",
    "    --m-metadata-column alleged_abduction \\\n",
    "    --p-transform-function log \\\n",
    "    --o-visualization $data_dir/ancom_abduction.qzv"
   ]
  },
  {
   "cell_type": "code",
   "execution_count": 6,
   "id": "6f49aa4c-ab4d-4c29-9aba-6e63302caa8a",
   "metadata": {
    "collapsed": true,
    "jupyter": {
     "outputs_hidden": true
    },
    "tags": []
   },
   "outputs": [
    {
     "data": {
      "text/html": [
       "<div><img onload=\"(function(div, url){\n",
       "if (typeof require !== 'undefined') {\n",
       "    var baseURL = require.toUrl('').split('/').slice(0, -2).join('/');\n",
       "} else {\n",
       "    var baseURL = JSON.parse(\n",
       "        document.getElementById('jupyter-config-data').innerHTML\n",
       "    ).baseUrl.slice(0, -1);\n",
       "}\n",
       "url = baseURL + url;\n",
       "fetch(url).then(function(res) {\n",
       "    if (res.status === 404) {\n",
       "        div.innerHTML = 'Install QIIME 2 Jupyter extension with:<br />' +\n",
       "                        '<code>jupyter serverextension enable --py qiime2' +\n",
       "                        ' --sys-prefix</code><br />then restart your server.' +\n",
       "                        '<br /><br />(Interactive output not available on ' +\n",
       "                        'static notebook viewer services like nbviewer.)';\n",
       "    } else if (res.status === 409) {\n",
       "        div.innerHTML = 'Visualization no longer in scope. Re-run this cell' +\n",
       "                        ' to see the visualization.';\n",
       "    } else if (res.ok) {\n",
       "        url = res.url;\n",
       "        div.innerHTML = '<iframe src=\\'' + url + '\\' style=\\'' +\n",
       "                        'width: 100%; height: 700px; border: 0;\\'>' +\n",
       "                        '</iframe><hr />Open in a: <a href=\\'' + url + '\\'' +\n",
       "                        ' target=\\'_blank\\'>new window</a>'\n",
       "    } else {\n",
       "        div.innerHTML = 'Something has gone wrong. Check notebook server for' +\n",
       "                        ' errors.';\n",
       "    }\n",
       "});\n",
       "})(this.parentElement, '/qiime2/redirect?location=/tmp/qiime2-archive-8li9pogv')\" src=\"data:image/gif;base64,R0lGODlhAQABAIAAAP///wAAACH5BAEAAAAALAAAAAABAAEAAAICRAEAOw==\" /></div>"
      ],
      "text/plain": [
       "<visualization: Visualization uuid: 605c89a1-39d6-4d64-9d40-7bdcee6aa07d>"
      ]
     },
     "execution_count": 6,
     "metadata": {},
     "output_type": "execute_result"
    }
   ],
   "source": [
    "Visualization.load(f'{data_dir}/ancom_abduction.qzv')"
   ]
  },
  {
   "cell_type": "code",
   "execution_count": 27,
   "id": "bdebebca-a065-4988-9cbf-5fe032c53498",
   "metadata": {},
   "outputs": [
    {
     "name": "stdout",
     "output_type": "stream",
     "text": [
      "\u001b[32mSaved FeatureTable[Frequency] to: Alien_data/table_abund_l7.qza\u001b[0m\n",
      "\u001b[0m"
     ]
    }
   ],
   "source": [
    "#look at the taxa annotation that is different between the abducted and non-abducted patients:\n",
    "! qiime taxa collapse \\\n",
    "    --i-table $data_dir/table_abund.qza \\\n",
    "    --i-taxonomy $data_dir/taxonomy.qza \\\n",
    "    --p-level 7 \\\n",
    "    --o-collapsed-table $data_dir/table_abund_l7.qza"
   ]
  },
  {
   "cell_type": "code",
   "execution_count": 28,
   "id": "e4952920-356a-476f-95ca-551a439c32b6",
   "metadata": {},
   "outputs": [
    {
     "name": "stdout",
     "output_type": "stream",
     "text": [
      "\u001b[32mSaved FeatureTable[Frequency] to: Alien_data/table_abund_abductionl7.qza\u001b[0m\n",
      "\u001b[0m\u001b[32mSaved FeatureTable[Composition] to: Alien_data/table_abund_comp_abductionl7.qza\u001b[0m\n",
      "\u001b[0m"
     ]
    }
   ],
   "source": [
    "! qiime feature-table filter-samples \\\n",
    "    --i-table $data_dir/table_abund_l7.qza \\\n",
    "    --m-metadata-file $data_dir/str_metadata.tsv \\\n",
    "    --p-where \"[alleged_abduction]='abducted' or [alleged_abduction]='non_abducted'\" \\\n",
    "    --o-filtered-table $data_dir/table_abund_abductionl7.qza\n",
    "\n",
    "! qiime composition add-pseudocount \\\n",
    "    --i-table $data_dir/table_abund_abductionl7.qza \\\n",
    "    --o-composition-table $data_dir/table_abund_comp_abductionl7.qza"
   ]
  },
  {
   "cell_type": "code",
   "execution_count": 24,
   "id": "6c469826-9fa7-4112-9703-2da0e4c07792",
   "metadata": {},
   "outputs": [
    {
     "name": "stdout",
     "output_type": "stream",
     "text": [
      "\u001b[32mSaved Visualization to: Alien_data/ancom_abduction_l7.qzv\u001b[0m\n",
      "\u001b[0m"
     ]
    }
   ],
   "source": [
    "! qiime composition ancom \\\n",
    "    --i-table $data_dir/table_abund_comp_abductionl7.qza \\\n",
    "    --m-metadata-file $data_dir/str_metadata.tsv \\\n",
    "    --m-metadata-column alleged_abduction \\\n",
    "    --o-visualization $data_dir/ancom_abduction_l7.qzv"
   ]
  },
  {
   "cell_type": "code",
   "execution_count": 18,
   "id": "9161cff6-664a-473a-80a2-e256ee3626a0",
   "metadata": {
    "collapsed": true,
    "jupyter": {
     "outputs_hidden": true
    },
    "tags": []
   },
   "outputs": [
    {
     "data": {
      "text/html": [
       "<div><img onload=\"(function(div, url){\n",
       "if (typeof require !== 'undefined') {\n",
       "    var baseURL = require.toUrl('').split('/').slice(0, -2).join('/');\n",
       "} else {\n",
       "    var baseURL = JSON.parse(\n",
       "        document.getElementById('jupyter-config-data').innerHTML\n",
       "    ).baseUrl.slice(0, -1);\n",
       "}\n",
       "url = baseURL + url;\n",
       "fetch(url).then(function(res) {\n",
       "    if (res.status === 404) {\n",
       "        div.innerHTML = 'Install QIIME 2 Jupyter extension with:<br />' +\n",
       "                        '<code>jupyter serverextension enable --py qiime2' +\n",
       "                        ' --sys-prefix</code><br />then restart your server.' +\n",
       "                        '<br /><br />(Interactive output not available on ' +\n",
       "                        'static notebook viewer services like nbviewer.)';\n",
       "    } else if (res.status === 409) {\n",
       "        div.innerHTML = 'Visualization no longer in scope. Re-run this cell' +\n",
       "                        ' to see the visualization.';\n",
       "    } else if (res.ok) {\n",
       "        url = res.url;\n",
       "        div.innerHTML = '<iframe src=\\'' + url + '\\' style=\\'' +\n",
       "                        'width: 100%; height: 700px; border: 0;\\'>' +\n",
       "                        '</iframe><hr />Open in a: <a href=\\'' + url + '\\'' +\n",
       "                        ' target=\\'_blank\\'>new window</a>'\n",
       "    } else {\n",
       "        div.innerHTML = 'Something has gone wrong. Check notebook server for' +\n",
       "                        ' errors.';\n",
       "    }\n",
       "});\n",
       "})(this.parentElement, '/qiime2/redirect?location=/tmp/qiime2-archive-5_dibg76')\" src=\"data:image/gif;base64,R0lGODlhAQABAIAAAP///wAAACH5BAEAAAAALAAAAAABAAEAAAICRAEAOw==\" /></div>"
      ],
      "text/plain": [
       "<visualization: Visualization uuid: f417a1ec-6956-453e-b8a5-6ec0e1cf37b9>"
      ]
     },
     "execution_count": 18,
     "metadata": {},
     "output_type": "execute_result"
    }
   ],
   "source": [
    "Visualization.load(f'{data_dir}/ancom_abduction_l7.qzv')"
   ]
  },
  {
   "cell_type": "code",
   "execution_count": 17,
   "id": "5b7092dc-282f-4f08-b1bf-a6140673e7b0",
   "metadata": {},
   "outputs": [
    {
     "name": "stdout",
     "output_type": "stream",
     "text": [
      "\u001b[32mSaved FeatureTable[Frequency] to: Alien_data/table_abund_l2.qza\u001b[0m\n",
      "\u001b[0m"
     ]
    }
   ],
   "source": [
    "#collapse the level at level 2:\n",
    "! qiime taxa collapse \\\n",
    "    --i-table $data_dir/table_abund.qza \\\n",
    "    --i-taxonomy $data_dir/taxonomy.qza \\\n",
    "    --p-level 2 \\\n",
    "    --o-collapsed-table $data_dir/table_abund_l2.qza"
   ]
  },
  {
   "cell_type": "code",
   "execution_count": 18,
   "id": "e37cc169-4e39-4e46-89f2-52a40a19ddd1",
   "metadata": {},
   "outputs": [
    {
     "name": "stdout",
     "output_type": "stream",
     "text": [
      "\u001b[32mSaved FeatureTable[Frequency] to: Alien_data/table_abund_abductionl2.qza\u001b[0m\n",
      "\u001b[0m\u001b[32mSaved FeatureTable[Composition] to: Alien_data/table_abund_comp_abductionl2.qza\u001b[0m\n",
      "\u001b[0m\u001b[32mSaved Visualization to: Alien_data/ancom_abduction_l2.qzv\u001b[0m\n",
      "\u001b[0m"
     ]
    }
   ],
   "source": [
    "! qiime feature-table filter-samples \\\n",
    "    --i-table $data_dir/table_abund_l2.qza \\\n",
    "    --m-metadata-file $data_dir/str_metadata.tsv \\\n",
    "    --p-where \"[alleged_abduction]='abducted' or [alleged_abduction]='non_abducted'\" \\\n",
    "    --o-filtered-table $data_dir/table_abund_abductionl2.qza\n",
    "\n",
    "! qiime composition add-pseudocount \\\n",
    "    --i-table $data_dir/table_abund_abductionl2.qza \\\n",
    "    --o-composition-table $data_dir/table_abund_comp_abductionl2.qza\n",
    "\n",
    "! qiime composition ancom \\\n",
    "    --i-table $data_dir/table_abund_comp_abductionl2.qza \\\n",
    "    --m-metadata-file $data_dir/str_metadata.tsv \\\n",
    "    --m-metadata-column alleged_abduction \\\n",
    "    --o-visualization $data_dir/ancom_abduction_l2.qzv"
   ]
  },
  {
   "cell_type": "code",
   "execution_count": 19,
   "id": "bacf1424-cf58-4894-93f5-2244cdd40d89",
   "metadata": {
    "collapsed": true,
    "jupyter": {
     "outputs_hidden": true
    },
    "tags": []
   },
   "outputs": [
    {
     "data": {
      "text/html": [
       "<div><img onload=\"(function(div, url){\n",
       "if (typeof require !== 'undefined') {\n",
       "    var baseURL = require.toUrl('').split('/').slice(0, -2).join('/');\n",
       "} else {\n",
       "    var baseURL = JSON.parse(\n",
       "        document.getElementById('jupyter-config-data').innerHTML\n",
       "    ).baseUrl.slice(0, -1);\n",
       "}\n",
       "url = baseURL + url;\n",
       "fetch(url).then(function(res) {\n",
       "    if (res.status === 404) {\n",
       "        div.innerHTML = 'Install QIIME 2 Jupyter extension with:<br />' +\n",
       "                        '<code>jupyter serverextension enable --py qiime2' +\n",
       "                        ' --sys-prefix</code><br />then restart your server.' +\n",
       "                        '<br /><br />(Interactive output not available on ' +\n",
       "                        'static notebook viewer services like nbviewer.)';\n",
       "    } else if (res.status === 409) {\n",
       "        div.innerHTML = 'Visualization no longer in scope. Re-run this cell' +\n",
       "                        ' to see the visualization.';\n",
       "    } else if (res.ok) {\n",
       "        url = res.url;\n",
       "        div.innerHTML = '<iframe src=\\'' + url + '\\' style=\\'' +\n",
       "                        'width: 100%; height: 700px; border: 0;\\'>' +\n",
       "                        '</iframe><hr />Open in a: <a href=\\'' + url + '\\'' +\n",
       "                        ' target=\\'_blank\\'>new window</a>'\n",
       "    } else {\n",
       "        div.innerHTML = 'Something has gone wrong. Check notebook server for' +\n",
       "                        ' errors.';\n",
       "    }\n",
       "});\n",
       "})(this.parentElement, '/qiime2/redirect?location=/tmp/qiime2-archive-4r7rp5nv')\" src=\"data:image/gif;base64,R0lGODlhAQABAIAAAP///wAAACH5BAEAAAAALAAAAAABAAEAAAICRAEAOw==\" /></div>"
      ],
      "text/plain": [
       "<visualization: Visualization uuid: 787fcd15-8c36-4f48-b0f4-7518110beace>"
      ]
     },
     "execution_count": 19,
     "metadata": {},
     "output_type": "execute_result"
    }
   ],
   "source": [
    "Visualization.load(f'{data_dir}/ancom_abduction_l2.qzv')"
   ]
  },
  {
   "cell_type": "code",
   "execution_count": 22,
   "id": "fe32acd2-522e-4cd2-b88d-3a3915ad9dfa",
   "metadata": {},
   "outputs": [
    {
     "name": "stdout",
     "output_type": "stream",
     "text": [
      "\u001b[32mSaved FeatureTable[Frequency] to: Alien_data/table_abund_l3.qza\u001b[0m\n",
      "\u001b[0m"
     ]
    }
   ],
   "source": [
    "#collapse the level at level 3:\n",
    "! qiime taxa collapse \\\n",
    "    --i-table $data_dir/table_abund.qza \\\n",
    "    --i-taxonomy $data_dir/taxonomy.qza \\\n",
    "    --p-level 3 \\\n",
    "    --o-collapsed-table $data_dir/table_abund_l3.qza"
   ]
  },
  {
   "cell_type": "code",
   "execution_count": 20,
   "id": "0b6f3839-9b60-48ca-a6c9-d02ad6c4d65b",
   "metadata": {
    "collapsed": true,
    "jupyter": {
     "outputs_hidden": true,
     "source_hidden": true
    },
    "tags": []
   },
   "outputs": [
    {
     "name": "stdout",
     "output_type": "stream",
     "text": [
      "Usage: \u001b[94mqiime feature-table filter-samples\u001b[0m [OPTIONS]\n",
      "\n",
      "  Filter samples from table based on frequency and/or metadata. Any features\n",
      "  with a frequency of zero after sample filtering will also be removed. See\n",
      "  the filtering tutorial on https://docs.qiime2.org for additional details.\n",
      "\n",
      "\u001b[1mInputs\u001b[0m:\n",
      "  \u001b[94m\u001b[4m--i-table\u001b[0m ARTIFACT \u001b[32mFeatureTable[Frequency¹ | RelativeFrequency² |\u001b[0m\n",
      "    \u001b[32mPresenceAbsence³ | Composition⁴]\u001b[0m\n",
      "                       The feature table from which samples should be\n",
      "                       filtered.                                    \u001b[35m[required]\u001b[0m\n",
      "\u001b[1mParameters\u001b[0m:\n",
      "  \u001b[94m--p-min-frequency\u001b[0m INTEGER\n",
      "                       The minimum total frequency that a sample must have to\n",
      "                       be retained.                               \u001b[35m[default: 0]\u001b[0m\n",
      "  \u001b[94m--p-max-frequency\u001b[0m INTEGER\n",
      "                       The maximum total frequency that a sample can have to\n",
      "                       be retained. If no value is provided this will default\n",
      "                       to infinity (i.e., no maximum frequency filter will be\n",
      "                       applied).                                    \u001b[35m[optional]\u001b[0m\n",
      "  \u001b[94m--p-min-features\u001b[0m INTEGER\n",
      "                       The minimum number of features that a sample must have\n",
      "                       to be retained.                            \u001b[35m[default: 0]\u001b[0m\n",
      "  \u001b[94m--p-max-features\u001b[0m INTEGER\n",
      "                       The maximum number of features that a sample can have\n",
      "                       to be retained. If no value is provided this will\n",
      "                       default to infinity (i.e., no maximum feature filter\n",
      "                       will be applied).                            \u001b[35m[optional]\u001b[0m\n",
      "  \u001b[94m--m-metadata-file\u001b[0m METADATA...\n",
      "    (multiple          Sample metadata used with `where` parameter when\n",
      "     arguments will    selecting samples to retain, or with `\u001b[4mexclude-ids\u001b[0m` when\n",
      "     be merged)        selecting samples to discard.                \u001b[35m[optional]\u001b[0m\n",
      "  \u001b[94m--p-where\u001b[0m TEXT       SQLite WHERE clause specifying sample metadata\n",
      "                       criteria that must be met to be included in the\n",
      "                       filtered feature table. If not provided, all samples in\n",
      "                       `metadata` that are also in the feature table will be\n",
      "                       retained.                                    \u001b[35m[optional]\u001b[0m\n",
      "  \u001b[94m--p-exclude-ids\u001b[0m / \u001b[94m--p-no-exclude-ids\u001b[0m\n",
      "                       If true, the samples selected by `metadata` or `where`\n",
      "                       parameters will be excluded from the filtered table\n",
      "                       instead of being retained.             \u001b[35m[default: False]\u001b[0m\n",
      "  \u001b[94m--p-filter-empty-features\u001b[0m / \u001b[94m--p-no-filter-empty-features\u001b[0m\n",
      "                       If true, features which are not present in any\n",
      "                       retained samples are dropped.           \u001b[35m[default: True]\u001b[0m\n",
      "\u001b[1mOutputs\u001b[0m:\n",
      "  \u001b[94m\u001b[4m--o-filtered-table\u001b[0m ARTIFACT \u001b[32mFeatureTable[Frequency¹ | RelativeFrequency²\u001b[0m\n",
      "    \u001b[32m| PresenceAbsence³ | Composition⁴]\u001b[0m\n",
      "                       The resulting feature table filtered by sample.\n",
      "                                                                    \u001b[35m[required]\u001b[0m\n",
      "\u001b[1mMiscellaneous\u001b[0m:\n",
      "  \u001b[94m--output-dir\u001b[0m PATH    Output unspecified results to a directory\n",
      "  \u001b[94m--verbose\u001b[0m / \u001b[94m--quiet\u001b[0m  Display verbose output to stdout and/or stderr during\n",
      "                       execution of this action. Or silence output if\n",
      "                       execution is successful (silence is golden).\n",
      "  \u001b[94m--example-data\u001b[0m PATH  Write example data and exit.\n",
      "  \u001b[94m--citations\u001b[0m          Show citations and exit.\n",
      "  \u001b[94m--help\u001b[0m               Show this message and exit.\n",
      "\n",
      "\u001b[33m                    There was a problem with the command:                     \u001b[0m\n",
      "\u001b[31m\u001b[1m (1/1) Invalid value for '--i-table': 'Alien_data/table_abund_l3.qza' is not a\n",
      "  valid filepath\u001b[0m\n",
      "\u001b[0mUsage: \u001b[94mqiime composition add-pseudocount\u001b[0m [OPTIONS]\n",
      "\n",
      "  Increment all counts in table by pseudocount.\n",
      "\n",
      "\u001b[1mInputs\u001b[0m:\n",
      "  \u001b[94m\u001b[4m--i-table\u001b[0m ARTIFACT \u001b[32mFeatureTable[Frequency]\u001b[0m\n",
      "                       The feature table to which pseudocounts should be\n",
      "                       added.                                       \u001b[35m[required]\u001b[0m\n",
      "\u001b[1mParameters\u001b[0m:\n",
      "  \u001b[94m--p-pseudocount\u001b[0m INTEGER\n",
      "                       The value to add to all counts in the feature table.\n",
      "                                                                  \u001b[35m[default: 1]\u001b[0m\n",
      "\u001b[1mOutputs\u001b[0m:\n",
      "  \u001b[94m\u001b[4m--o-composition-table\u001b[0m ARTIFACT \u001b[32mFeatureTable[Composition]\u001b[0m\n",
      "                       The resulting feature table.                 \u001b[35m[required]\u001b[0m\n",
      "\u001b[1mMiscellaneous\u001b[0m:\n",
      "  \u001b[94m--output-dir\u001b[0m PATH    Output unspecified results to a directory\n",
      "  \u001b[94m--verbose\u001b[0m / \u001b[94m--quiet\u001b[0m  Display verbose output to stdout and/or stderr during\n",
      "                       execution of this action. Or silence output if\n",
      "                       execution is successful (silence is golden).\n",
      "  \u001b[94m--example-data\u001b[0m PATH  Write example data and exit.\n",
      "  \u001b[94m--citations\u001b[0m          Show citations and exit.\n",
      "  \u001b[94m--help\u001b[0m               Show this message and exit.\n",
      "\n",
      "\u001b[33m                    There was a problem with the command:                     \u001b[0m\n",
      "\u001b[31m\u001b[1m (1/1) Invalid value for '--i-table': 'Alien_data/table_abund_abductionl3.qza'\n",
      "  is not a valid filepath\u001b[0m\n",
      "\u001b[0mUsage: \u001b[94mqiime composition ancom\u001b[0m [OPTIONS]\n",
      "\n",
      "  Apply Analysis of Composition of Microbiomes (ANCOM) to identify features\n",
      "  that are differentially abundant across groups.\n",
      "\n",
      "\u001b[1mInputs\u001b[0m:\n",
      "  \u001b[94m\u001b[4m--i-table\u001b[0m ARTIFACT \u001b[32mFeatureTable[Composition]\u001b[0m\n",
      "                       The feature table to be used for ANCOM computation.\n",
      "                                                                    \u001b[35m[required]\u001b[0m\n",
      "\u001b[1mParameters\u001b[0m:\n",
      "  \u001b[94m\u001b[4m--m-metadata-file\u001b[0m METADATA\n",
      "  \u001b[94m\u001b[4m--m-metadata-column\u001b[0m COLUMN  \u001b[32mMetadataColumn[Categorical]\u001b[0m\n",
      "                       The categorical sample metadata column to test for\n",
      "                       differential abundance across.               \u001b[35m[required]\u001b[0m\n",
      "  \u001b[94m--p-transform-function\u001b[0m TEXT \u001b[32mChoices('sqrt', 'log', 'clr')\u001b[0m\n",
      "                       The method applied to transform feature values before\n",
      "                       generating volcano plots.              \u001b[35m[default: 'clr']\u001b[0m\n",
      "  \u001b[94m--p-difference-function\u001b[0m TEXT \u001b[32mChoices('mean_difference', 'f_statistic')\u001b[0m\n",
      "                       The method applied to visualize fold difference in\n",
      "                       feature abundances across groups for volcano plots.\n",
      "                                                                    \u001b[35m[optional]\u001b[0m\n",
      "\u001b[1mOutputs\u001b[0m:\n",
      "  \u001b[94m\u001b[4m--o-visualization\u001b[0m VISUALIZATION\n",
      "                                                                    \u001b[35m[required]\u001b[0m\n",
      "\u001b[1mMiscellaneous\u001b[0m:\n",
      "  \u001b[94m--output-dir\u001b[0m PATH    Output unspecified results to a directory\n",
      "  \u001b[94m--verbose\u001b[0m / \u001b[94m--quiet\u001b[0m  Display verbose output to stdout and/or stderr during\n",
      "                       execution of this action. Or silence output if\n",
      "                       execution is successful (silence is golden).\n",
      "  \u001b[94m--example-data\u001b[0m PATH  Write example data and exit.\n",
      "  \u001b[94m--citations\u001b[0m          Show citations and exit.\n",
      "  \u001b[94m--help\u001b[0m               Show this message and exit.\n",
      "\n",
      "\u001b[33m                    There was a problem with the command:                     \u001b[0m\n",
      "\u001b[31m\u001b[1m (1/1) Invalid value for '--i-table':\n",
      "  'Alien_data/table_abund_comp_abductionl3.qza' is not a valid filepath\u001b[0m\n",
      "\u001b[0m"
     ]
    }
   ],
   "source": [
    "! qiime feature-table filter-samples \\\n",
    "    --i-table $data_dir/table_abund_l3.qza \\\n",
    "    --m-metadata-file $data_dir/str_metadata.tsv \\\n",
    "    --p-where \"[alleged_abduction]='abducted' or [alleged_abduction]='non_abducted'\" \\\n",
    "    --o-filtered-table $data_dir/table_abund_abductionl3.qza\n",
    "\n",
    "! qiime composition add-pseudocount \\\n",
    "    --i-table $data_dir/table_abund_abductionl3.qza \\\n",
    "    --o-composition-table $data_dir/table_abund_comp_abductionl3.qza\n",
    "\n",
    "! qiime composition ancom \\\n",
    "    --i-table $data_dir/table_abund_comp_abductionl3.qza \\\n",
    "    --m-metadata-file $data_dir/str_metadata.tsv \\\n",
    "    --m-metadata-column alleged_abduction \\\n",
    "    --o-visualization $data_dir/ancom_abduction_l3.qzv"
   ]
  },
  {
   "cell_type": "code",
   "execution_count": 24,
   "id": "9589bc3b-cb69-4306-aa7c-1f8921c50685",
   "metadata": {},
   "outputs": [
    {
     "name": "stdout",
     "output_type": "stream",
     "text": [
      "\u001b[32mSaved FeatureTable[Frequency] to: Alien_data/table_abund_abductionl3.qza\u001b[0m\n",
      "\u001b[0m\u001b[32mSaved FeatureTable[Composition] to: Alien_data/table_abund_comp_abductionl3.qza\u001b[0m\n",
      "\u001b[0m\u001b[32mSaved Visualization to: Alien_data/ancom_abduction_l3.qzv\u001b[0m\n",
      "\u001b[0m"
     ]
    }
   ],
   "source": [
    "! qiime feature-table filter-samples \\\n",
    "    --i-table $data_dir/table_abund_l3.qza \\\n",
    "    --m-metadata-file $data_dir/str_metadata.tsv \\\n",
    "    --p-where \"[alleged_abduction]='abducted' or [alleged_abduction]='non_abducted'\" \\\n",
    "    --o-filtered-table $data_dir/table_abund_abductionl3.qza\n",
    "\n",
    "! qiime composition add-pseudocount \\\n",
    "    --i-table $data_dir/table_abund_abductionl3.qza \\\n",
    "    --o-composition-table $data_dir/table_abund_comp_abductionl3.qza\n",
    "\n",
    "! qiime composition ancom \\\n",
    "    --i-table $data_dir/table_abund_comp_abductionl3.qza \\\n",
    "    --m-metadata-file $data_dir/str_metadata.tsv \\\n",
    "    --m-metadata-column alleged_abduction \\\n",
    "    --o-visualization $data_dir/ancom_abduction_l3.qzv"
   ]
  },
  {
   "cell_type": "code",
   "execution_count": 25,
   "id": "ad69eac4-5d55-405a-af96-16a513b10e8d",
   "metadata": {
    "collapsed": true,
    "jupyter": {
     "outputs_hidden": true
    },
    "tags": []
   },
   "outputs": [
    {
     "data": {
      "text/html": [
       "<div><img onload=\"(function(div, url){\n",
       "if (typeof require !== 'undefined') {\n",
       "    var baseURL = require.toUrl('').split('/').slice(0, -2).join('/');\n",
       "} else {\n",
       "    var baseURL = JSON.parse(\n",
       "        document.getElementById('jupyter-config-data').innerHTML\n",
       "    ).baseUrl.slice(0, -1);\n",
       "}\n",
       "url = baseURL + url;\n",
       "fetch(url).then(function(res) {\n",
       "    if (res.status === 404) {\n",
       "        div.innerHTML = 'Install QIIME 2 Jupyter extension with:<br />' +\n",
       "                        '<code>jupyter serverextension enable --py qiime2' +\n",
       "                        ' --sys-prefix</code><br />then restart your server.' +\n",
       "                        '<br /><br />(Interactive output not available on ' +\n",
       "                        'static notebook viewer services like nbviewer.)';\n",
       "    } else if (res.status === 409) {\n",
       "        div.innerHTML = 'Visualization no longer in scope. Re-run this cell' +\n",
       "                        ' to see the visualization.';\n",
       "    } else if (res.ok) {\n",
       "        url = res.url;\n",
       "        div.innerHTML = '<iframe src=\\'' + url + '\\' style=\\'' +\n",
       "                        'width: 100%; height: 700px; border: 0;\\'>' +\n",
       "                        '</iframe><hr />Open in a: <a href=\\'' + url + '\\'' +\n",
       "                        ' target=\\'_blank\\'>new window</a>'\n",
       "    } else {\n",
       "        div.innerHTML = 'Something has gone wrong. Check notebook server for' +\n",
       "                        ' errors.';\n",
       "    }\n",
       "});\n",
       "})(this.parentElement, '/qiime2/redirect?location=/tmp/qiime2-archive-o7egps8q')\" src=\"data:image/gif;base64,R0lGODlhAQABAIAAAP///wAAACH5BAEAAAAALAAAAAABAAEAAAICRAEAOw==\" /></div>"
      ],
      "text/plain": [
       "<visualization: Visualization uuid: f1f311a6-3ead-4ac1-bf41-7cc2a528816d>"
      ]
     },
     "execution_count": 25,
     "metadata": {},
     "output_type": "execute_result"
    }
   ],
   "source": [
    "Visualization.load(f'{data_dir}/ancom_abduction_l3.qzv')"
   ]
  },
  {
   "cell_type": "code",
   "execution_count": 15,
   "id": "0eebca1d-7c32-46d0-b3fb-c1ebb48921f9",
   "metadata": {},
   "outputs": [
    {
     "name": "stdout",
     "output_type": "stream",
     "text": [
      "\u001b[32mSaved Visualization to: Alien_data/taxa-bar-plots.qzv\u001b[0m\n",
      "\u001b[0m"
     ]
    }
   ],
   "source": [
    "# Visualize the relative abundance:\n",
    "! qiime taxa barplot \\\n",
    "    --i-table $data_dir/table_abund.qza \\\n",
    "    --i-taxonomy $data_dir/taxonomy.qza \\\n",
    "    --m-metadata-file $data_dir/str_metadata.tsv \\\n",
    "    --o-visualization $data_dir/taxa-bar-plots.qzv"
   ]
  },
  {
   "cell_type": "code",
   "execution_count": 16,
   "id": "79d5bf8c-0df2-4507-b7a6-6736d69c1c78",
   "metadata": {
    "collapsed": true,
    "jupyter": {
     "outputs_hidden": true
    },
    "tags": []
   },
   "outputs": [
    {
     "data": {
      "text/html": [
       "<div><img onload=\"(function(div, url){\n",
       "if (typeof require !== 'undefined') {\n",
       "    var baseURL = require.toUrl('').split('/').slice(0, -2).join('/');\n",
       "} else {\n",
       "    var baseURL = JSON.parse(\n",
       "        document.getElementById('jupyter-config-data').innerHTML\n",
       "    ).baseUrl.slice(0, -1);\n",
       "}\n",
       "url = baseURL + url;\n",
       "fetch(url).then(function(res) {\n",
       "    if (res.status === 404) {\n",
       "        div.innerHTML = 'Install QIIME 2 Jupyter extension with:<br />' +\n",
       "                        '<code>jupyter serverextension enable --py qiime2' +\n",
       "                        ' --sys-prefix</code><br />then restart your server.' +\n",
       "                        '<br /><br />(Interactive output not available on ' +\n",
       "                        'static notebook viewer services like nbviewer.)';\n",
       "    } else if (res.status === 409) {\n",
       "        div.innerHTML = 'Visualization no longer in scope. Re-run this cell' +\n",
       "                        ' to see the visualization.';\n",
       "    } else if (res.ok) {\n",
       "        url = res.url;\n",
       "        div.innerHTML = '<iframe src=\\'' + url + '\\' style=\\'' +\n",
       "                        'width: 100%; height: 700px; border: 0;\\'>' +\n",
       "                        '</iframe><hr />Open in a: <a href=\\'' + url + '\\'' +\n",
       "                        ' target=\\'_blank\\'>new window</a>'\n",
       "    } else {\n",
       "        div.innerHTML = 'Something has gone wrong. Check notebook server for' +\n",
       "                        ' errors.';\n",
       "    }\n",
       "});\n",
       "})(this.parentElement, '/qiime2/redirect?location=/tmp/qiime2-archive-4rh0a5gt')\" src=\"data:image/gif;base64,R0lGODlhAQABAIAAAP///wAAACH5BAEAAAAALAAAAAABAAEAAAICRAEAOw==\" /></div>"
      ],
      "text/plain": [
       "<visualization: Visualization uuid: 7724d483-087b-4ea4-ae12-0ac3ff56f69a>"
      ]
     },
     "execution_count": 16,
     "metadata": {},
     "output_type": "execute_result"
    }
   ],
   "source": [
    "Visualization.load(f'{data_dir}/taxa-bar-plots.qzv')"
   ]
  },
  {
   "cell_type": "code",
   "execution_count": 7,
   "id": "537f1795-35c7-45ef-8836-277505beef7d",
   "metadata": {},
   "outputs": [
    {
     "name": "stdout",
     "output_type": "stream",
     "text": [
      "\u001b[32mSaved Visualization to: Alien_data/ancom_hct_source.qzv\u001b[0m\n",
      "\u001b[0m"
     ]
    }
   ],
   "source": [
    "# Looking at differential abundance between the two hct source \n",
    "\n",
    "! qiime composition ancom \\\n",
    "    --i-table $data_dir/table_abund_comp.qza \\\n",
    "    --m-metadata-file $data_dir/str_metadata.tsv \\\n",
    "    --m-metadata-column hct_source \\\n",
    "    --p-transform-function log \\\n",
    "    --o-visualization $data_dir/ancom_hct_source.qzv"
   ]
  },
  {
   "cell_type": "code",
   "execution_count": 19,
   "id": "38d9fb58-f938-4cb9-abcc-1d2f1bec4622",
   "metadata": {
    "collapsed": true,
    "jupyter": {
     "outputs_hidden": true
    },
    "tags": []
   },
   "outputs": [
    {
     "data": {
      "text/html": [
       "<div><img onload=\"(function(div, url){\n",
       "if (typeof require !== 'undefined') {\n",
       "    var baseURL = require.toUrl('').split('/').slice(0, -2).join('/');\n",
       "} else {\n",
       "    var baseURL = JSON.parse(\n",
       "        document.getElementById('jupyter-config-data').innerHTML\n",
       "    ).baseUrl.slice(0, -1);\n",
       "}\n",
       "url = baseURL + url;\n",
       "fetch(url).then(function(res) {\n",
       "    if (res.status === 404) {\n",
       "        div.innerHTML = 'Install QIIME 2 Jupyter extension with:<br />' +\n",
       "                        '<code>jupyter serverextension enable --py qiime2' +\n",
       "                        ' --sys-prefix</code><br />then restart your server.' +\n",
       "                        '<br /><br />(Interactive output not available on ' +\n",
       "                        'static notebook viewer services like nbviewer.)';\n",
       "    } else if (res.status === 409) {\n",
       "        div.innerHTML = 'Visualization no longer in scope. Re-run this cell' +\n",
       "                        ' to see the visualization.';\n",
       "    } else if (res.ok) {\n",
       "        url = res.url;\n",
       "        div.innerHTML = '<iframe src=\\'' + url + '\\' style=\\'' +\n",
       "                        'width: 100%; height: 700px; border: 0;\\'>' +\n",
       "                        '</iframe><hr />Open in a: <a href=\\'' + url + '\\'' +\n",
       "                        ' target=\\'_blank\\'>new window</a>'\n",
       "    } else {\n",
       "        div.innerHTML = 'Something has gone wrong. Check notebook server for' +\n",
       "                        ' errors.';\n",
       "    }\n",
       "});\n",
       "})(this.parentElement, '/qiime2/redirect?location=/tmp/qiime2-archive-c57qyjlo')\" src=\"data:image/gif;base64,R0lGODlhAQABAIAAAP///wAAACH5BAEAAAAALAAAAAABAAEAAAICRAEAOw==\" /></div>"
      ],
      "text/plain": [
       "<visualization: Visualization uuid: bec00a8d-4343-46f4-84ed-fee7982f38dc>"
      ]
     },
     "execution_count": 19,
     "metadata": {},
     "output_type": "execute_result"
    }
   ],
   "source": [
    "Visualization.load(f'{data_dir}/ancom_hct_source.qzv')"
   ]
  },
  {
   "cell_type": "code",
   "execution_count": 14,
   "id": "e5015d24-16eb-4252-97df-f89d0be47e9a",
   "metadata": {},
   "outputs": [
    {
     "name": "stdout",
     "output_type": "stream",
     "text": [
      "\u001b[32mSaved FeatureTable[Frequency] to: Alien_data/table_abund_hct_sourcel7.qza\u001b[0m\n",
      "\u001b[0m\u001b[32mSaved FeatureTable[Composition] to: Alien_data/table_abund_comp_hct_sourcel7.qza\u001b[0m\n",
      "\u001b[0m"
     ]
    }
   ],
   "source": [
    "#look at the taxa annotation that is different between the hct source:\n",
    "! qiime feature-table filter-samples \\\n",
    "    --i-table $data_dir/table_abund_l7.qza \\\n",
    "    --m-metadata-file $data_dir/str_metadata.tsv \\\n",
    "    --p-where \"[hct_source]='cord' or [hct_source]='PBSC_unmodified'\" \\\n",
    "    --o-filtered-table $data_dir/table_abund_hct_sourcel7.qza\n",
    "\n",
    "! qiime composition add-pseudocount \\\n",
    "    --i-table $data_dir/table_abund_hct_sourcel7.qza \\\n",
    "    --o-composition-table $data_dir/table_abund_comp_hct_sourcel7.qza"
   ]
  },
  {
   "cell_type": "code",
   "execution_count": 15,
   "id": "bcb87d9b-6fa0-4797-82fb-dede89d55845",
   "metadata": {},
   "outputs": [
    {
     "name": "stdout",
     "output_type": "stream",
     "text": [
      "\u001b[32mSaved Visualization to: Alien_data/ancom_hct_source_l7.qzv\u001b[0m\n",
      "\u001b[0m"
     ]
    }
   ],
   "source": [
    "! qiime composition ancom \\\n",
    "    --i-table $data_dir/table_abund_comp_hct_sourcel7.qza \\\n",
    "    --m-metadata-file $data_dir/str_metadata.tsv \\\n",
    "    --m-metadata-column hct_source \\\n",
    "    --o-visualization $data_dir/ancom_hct_source_l7.qzv"
   ]
  },
  {
   "cell_type": "code",
   "execution_count": 16,
   "id": "8c9f548e-24f8-4e52-9619-ce3f4a97fece",
   "metadata": {
    "collapsed": true,
    "jupyter": {
     "outputs_hidden": true
    },
    "tags": []
   },
   "outputs": [
    {
     "data": {
      "text/html": [
       "<div><img onload=\"(function(div, url){\n",
       "if (typeof require !== 'undefined') {\n",
       "    var baseURL = require.toUrl('').split('/').slice(0, -2).join('/');\n",
       "} else {\n",
       "    var baseURL = JSON.parse(\n",
       "        document.getElementById('jupyter-config-data').innerHTML\n",
       "    ).baseUrl.slice(0, -1);\n",
       "}\n",
       "url = baseURL + url;\n",
       "fetch(url).then(function(res) {\n",
       "    if (res.status === 404) {\n",
       "        div.innerHTML = 'Install QIIME 2 Jupyter extension with:<br />' +\n",
       "                        '<code>jupyter serverextension enable --py qiime2' +\n",
       "                        ' --sys-prefix</code><br />then restart your server.' +\n",
       "                        '<br /><br />(Interactive output not available on ' +\n",
       "                        'static notebook viewer services like nbviewer.)';\n",
       "    } else if (res.status === 409) {\n",
       "        div.innerHTML = 'Visualization no longer in scope. Re-run this cell' +\n",
       "                        ' to see the visualization.';\n",
       "    } else if (res.ok) {\n",
       "        url = res.url;\n",
       "        div.innerHTML = '<iframe src=\\'' + url + '\\' style=\\'' +\n",
       "                        'width: 100%; height: 700px; border: 0;\\'>' +\n",
       "                        '</iframe><hr />Open in a: <a href=\\'' + url + '\\'' +\n",
       "                        ' target=\\'_blank\\'>new window</a>'\n",
       "    } else {\n",
       "        div.innerHTML = 'Something has gone wrong. Check notebook server for' +\n",
       "                        ' errors.';\n",
       "    }\n",
       "});\n",
       "})(this.parentElement, '/qiime2/redirect?location=/tmp/qiime2-archive-tqhcu0l4')\" src=\"data:image/gif;base64,R0lGODlhAQABAIAAAP///wAAACH5BAEAAAAALAAAAAABAAEAAAICRAEAOw==\" /></div>"
      ],
      "text/plain": [
       "<visualization: Visualization uuid: 2a38fd93-92fa-4087-970b-d6b183b730fd>"
      ]
     },
     "execution_count": 16,
     "metadata": {},
     "output_type": "execute_result"
    }
   ],
   "source": [
    "Visualization.load(f'{data_dir}/ancom_hct_source_l7.qzv')"
   ]
  },
  {
   "cell_type": "code",
   "execution_count": 20,
   "id": "b18796dd-84f9-49e7-834a-9209ad971480",
   "metadata": {},
   "outputs": [
    {
     "name": "stdout",
     "output_type": "stream",
     "text": [
      "\u001b[32mSaved Visualization to: Alien_data/ancom_stool_consistency.qzv\u001b[0m\n",
      "\u001b[0m"
     ]
    }
   ],
   "source": [
    "# Looking at differential abundance between the stool consistency:\n",
    "\n",
    "! qiime composition ancom \\\n",
    "    --i-table $data_dir/table_abund_comp.qza \\\n",
    "    --m-metadata-file $data_dir/str_metadata.tsv \\\n",
    "    --m-metadata-column stool_consistency \\\n",
    "    --p-transform-function log \\\n",
    "    --o-visualization $data_dir/ancom_stool_consistency.qzv"
   ]
  },
  {
   "cell_type": "code",
   "execution_count": 21,
   "id": "72cf8509-a686-4ebe-8252-630b3232bf4e",
   "metadata": {
    "collapsed": true,
    "jupyter": {
     "outputs_hidden": true
    },
    "tags": []
   },
   "outputs": [
    {
     "data": {
      "text/html": [
       "<div><img onload=\"(function(div, url){\n",
       "if (typeof require !== 'undefined') {\n",
       "    var baseURL = require.toUrl('').split('/').slice(0, -2).join('/');\n",
       "} else {\n",
       "    var baseURL = JSON.parse(\n",
       "        document.getElementById('jupyter-config-data').innerHTML\n",
       "    ).baseUrl.slice(0, -1);\n",
       "}\n",
       "url = baseURL + url;\n",
       "fetch(url).then(function(res) {\n",
       "    if (res.status === 404) {\n",
       "        div.innerHTML = 'Install QIIME 2 Jupyter extension with:<br />' +\n",
       "                        '<code>jupyter serverextension enable --py qiime2' +\n",
       "                        ' --sys-prefix</code><br />then restart your server.' +\n",
       "                        '<br /><br />(Interactive output not available on ' +\n",
       "                        'static notebook viewer services like nbviewer.)';\n",
       "    } else if (res.status === 409) {\n",
       "        div.innerHTML = 'Visualization no longer in scope. Re-run this cell' +\n",
       "                        ' to see the visualization.';\n",
       "    } else if (res.ok) {\n",
       "        url = res.url;\n",
       "        div.innerHTML = '<iframe src=\\'' + url + '\\' style=\\'' +\n",
       "                        'width: 100%; height: 700px; border: 0;\\'>' +\n",
       "                        '</iframe><hr />Open in a: <a href=\\'' + url + '\\'' +\n",
       "                        ' target=\\'_blank\\'>new window</a>'\n",
       "    } else {\n",
       "        div.innerHTML = 'Something has gone wrong. Check notebook server for' +\n",
       "                        ' errors.';\n",
       "    }\n",
       "});\n",
       "})(this.parentElement, '/qiime2/redirect?location=/tmp/qiime2-archive-j7wg_xnm')\" src=\"data:image/gif;base64,R0lGODlhAQABAIAAAP///wAAACH5BAEAAAAALAAAAAABAAEAAAICRAEAOw==\" /></div>"
      ],
      "text/plain": [
       "<visualization: Visualization uuid: 87a6f645-592e-4fa4-947a-faa83a78b2a6>"
      ]
     },
     "execution_count": 21,
     "metadata": {},
     "output_type": "execute_result"
    }
   ],
   "source": [
    "Visualization.load(f'{data_dir}/ancom_stool_consistency.qzv')"
   ]
  },
  {
   "cell_type": "code",
   "execution_count": 31,
   "id": "cfc7c4be-96c0-4267-8bc8-421fdee888fe",
   "metadata": {},
   "outputs": [
    {
     "name": "stdout",
     "output_type": "stream",
     "text": [
      "\u001b[32mSaved FeatureTable[Frequency] to: Alien_data/table_abund_stool_formed_semi_formed_l7.qza\u001b[0m\n",
      "\u001b[0m\u001b[32mSaved FeatureTable[Composition] to: Alien_data/table_abund_comp_formed_semi_formed_l7.qza\u001b[0m\n",
      "\u001b[0m"
     ]
    }
   ],
   "source": [
    "#look at the taxa annotation that is different between the formed and semi-formed stool:\n",
    "! qiime feature-table filter-samples \\\n",
    "    --i-table $data_dir/table_abund_l7.qza \\\n",
    "    --m-metadata-file $data_dir/str_metadata.tsv \\\n",
    "    --p-where \"[stool_consistency]='formed' or [stool_consistency]='semi-formed'\" \\\n",
    "    --o-filtered-table $data_dir/table_abund_stool_formed_semi_formed_l7.qza\n",
    "\n",
    "! qiime composition add-pseudocount \\\n",
    "    --i-table $data_dir/table_abund_stool_formed_semi_formed_l7.qza \\\n",
    "    --o-composition-table $data_dir/table_abund_comp_formed_semi_formed_l7.qza"
   ]
  },
  {
   "cell_type": "code",
   "execution_count": 32,
   "id": "bff94c4f-30b6-4a71-82d1-59ab9734d8fa",
   "metadata": {},
   "outputs": [
    {
     "name": "stdout",
     "output_type": "stream",
     "text": [
      "\u001b[32mSaved Visualization to: Alien_data/ancom_stool_formed_semi_formed_l7.qzv\u001b[0m\n",
      "\u001b[0m"
     ]
    }
   ],
   "source": [
    "! qiime composition ancom \\\n",
    "    --i-table $data_dir/table_abund_comp_formed_semi_formed_l7.qza \\\n",
    "    --m-metadata-file $data_dir/str_metadata.tsv \\\n",
    "    --m-metadata-column stool_consistency \\\n",
    "    --o-visualization $data_dir/ancom_stool_formed_semi_formed_l7.qzv"
   ]
  },
  {
   "cell_type": "code",
   "execution_count": 34,
   "id": "64e90aad-706e-420d-9585-d62dbccb113f",
   "metadata": {
    "collapsed": true,
    "jupyter": {
     "outputs_hidden": true
    },
    "tags": []
   },
   "outputs": [
    {
     "data": {
      "text/html": [
       "<div><img onload=\"(function(div, url){\n",
       "if (typeof require !== 'undefined') {\n",
       "    var baseURL = require.toUrl('').split('/').slice(0, -2).join('/');\n",
       "} else {\n",
       "    var baseURL = JSON.parse(\n",
       "        document.getElementById('jupyter-config-data').innerHTML\n",
       "    ).baseUrl.slice(0, -1);\n",
       "}\n",
       "url = baseURL + url;\n",
       "fetch(url).then(function(res) {\n",
       "    if (res.status === 404) {\n",
       "        div.innerHTML = 'Install QIIME 2 Jupyter extension with:<br />' +\n",
       "                        '<code>jupyter serverextension enable --py qiime2' +\n",
       "                        ' --sys-prefix</code><br />then restart your server.' +\n",
       "                        '<br /><br />(Interactive output not available on ' +\n",
       "                        'static notebook viewer services like nbviewer.)';\n",
       "    } else if (res.status === 409) {\n",
       "        div.innerHTML = 'Visualization no longer in scope. Re-run this cell' +\n",
       "                        ' to see the visualization.';\n",
       "    } else if (res.ok) {\n",
       "        url = res.url;\n",
       "        div.innerHTML = '<iframe src=\\'' + url + '\\' style=\\'' +\n",
       "                        'width: 100%; height: 700px; border: 0;\\'>' +\n",
       "                        '</iframe><hr />Open in a: <a href=\\'' + url + '\\'' +\n",
       "                        ' target=\\'_blank\\'>new window</a>'\n",
       "    } else {\n",
       "        div.innerHTML = 'Something has gone wrong. Check notebook server for' +\n",
       "                        ' errors.';\n",
       "    }\n",
       "});\n",
       "})(this.parentElement, '/qiime2/redirect?location=/tmp/qiime2-archive-invgdacn')\" src=\"data:image/gif;base64,R0lGODlhAQABAIAAAP///wAAACH5BAEAAAAALAAAAAABAAEAAAICRAEAOw==\" /></div>"
      ],
      "text/plain": [
       "<visualization: Visualization uuid: 0b1339b5-997f-48ce-9801-b9a3bcde3cff>"
      ]
     },
     "execution_count": 34,
     "metadata": {},
     "output_type": "execute_result"
    }
   ],
   "source": [
    "Visualization.load(f'{data_dir}/ancom_stool_formed_semi_formed_l7.qzv')"
   ]
  },
  {
   "cell_type": "code",
   "execution_count": 35,
   "id": "118bd3c9-6ffb-4c19-8ab2-7e890bdce85b",
   "metadata": {},
   "outputs": [
    {
     "name": "stdout",
     "output_type": "stream",
     "text": [
      "\u001b[32mSaved FeatureTable[Frequency] to: Alien_data/table_abund_stool_formed_liquid_l7.qza\u001b[0m\n",
      "\u001b[0m\u001b[32mSaved FeatureTable[Composition] to: Alien_data/table_abund_comp_stool_formed_liquid_l7.qza\u001b[0m\n",
      "\u001b[0m"
     ]
    }
   ],
   "source": [
    "#look at the taxa annotation that is different between the formed and liquid stool:\n",
    "! qiime feature-table filter-samples \\\n",
    "    --i-table $data_dir/table_abund_l7.qza \\\n",
    "    --m-metadata-file $data_dir/str_metadata.tsv \\\n",
    "    --p-where \"[stool_consistency]='formed' or [stool_consistency]='liquid'\" \\\n",
    "    --o-filtered-table $data_dir/table_abund_stool_formed_liquid_l7.qza\n",
    "\n",
    "! qiime composition add-pseudocount \\\n",
    "    --i-table $data_dir/table_abund_stooll7.qza \\\n",
    "    --o-composition-table $data_dir/table_abund_comp_stool_formed_liquid_l7.qza"
   ]
  },
  {
   "cell_type": "code",
   "execution_count": 39,
   "id": "d5ad84e4-9102-466c-8a48-ee8129781a7d",
   "metadata": {},
   "outputs": [
    {
     "name": "stdout",
     "output_type": "stream",
     "text": [
      "\u001b[32mSaved Visualization to: Alien_data/ancom_stool_formed_liquid_l7.qzv\u001b[0m\n",
      "\u001b[0m"
     ]
    }
   ],
   "source": [
    "! qiime composition ancom \\\n",
    "    --i-table $data_dir/table_abund_comp_stool_formed_liquid_l7.qza \\\n",
    "    --m-metadata-file $data_dir/str_metadata.tsv \\\n",
    "    --m-metadata-column stool_consistency \\\n",
    "    --o-visualization $data_dir/ancom_stool_formed_liquid_l7.qzv"
   ]
  },
  {
   "cell_type": "code",
   "execution_count": 40,
   "id": "9efe4c17-44be-4e93-babe-bb46c5b38b1a",
   "metadata": {
    "collapsed": true,
    "jupyter": {
     "outputs_hidden": true
    },
    "tags": []
   },
   "outputs": [
    {
     "data": {
      "text/html": [
       "<div><img onload=\"(function(div, url){\n",
       "if (typeof require !== 'undefined') {\n",
       "    var baseURL = require.toUrl('').split('/').slice(0, -2).join('/');\n",
       "} else {\n",
       "    var baseURL = JSON.parse(\n",
       "        document.getElementById('jupyter-config-data').innerHTML\n",
       "    ).baseUrl.slice(0, -1);\n",
       "}\n",
       "url = baseURL + url;\n",
       "fetch(url).then(function(res) {\n",
       "    if (res.status === 404) {\n",
       "        div.innerHTML = 'Install QIIME 2 Jupyter extension with:<br />' +\n",
       "                        '<code>jupyter serverextension enable --py qiime2' +\n",
       "                        ' --sys-prefix</code><br />then restart your server.' +\n",
       "                        '<br /><br />(Interactive output not available on ' +\n",
       "                        'static notebook viewer services like nbviewer.)';\n",
       "    } else if (res.status === 409) {\n",
       "        div.innerHTML = 'Visualization no longer in scope. Re-run this cell' +\n",
       "                        ' to see the visualization.';\n",
       "    } else if (res.ok) {\n",
       "        url = res.url;\n",
       "        div.innerHTML = '<iframe src=\\'' + url + '\\' style=\\'' +\n",
       "                        'width: 100%; height: 700px; border: 0;\\'>' +\n",
       "                        '</iframe><hr />Open in a: <a href=\\'' + url + '\\'' +\n",
       "                        ' target=\\'_blank\\'>new window</a>'\n",
       "    } else {\n",
       "        div.innerHTML = 'Something has gone wrong. Check notebook server for' +\n",
       "                        ' errors.';\n",
       "    }\n",
       "});\n",
       "})(this.parentElement, '/qiime2/redirect?location=/tmp/qiime2-archive-54_5d8ke')\" src=\"data:image/gif;base64,R0lGODlhAQABAIAAAP///wAAACH5BAEAAAAALAAAAAABAAEAAAICRAEAOw==\" /></div>"
      ],
      "text/plain": [
       "<visualization: Visualization uuid: d33a2f95-202f-449d-b71f-91fc3c384744>"
      ]
     },
     "execution_count": 40,
     "metadata": {},
     "output_type": "execute_result"
    }
   ],
   "source": [
    "Visualization.load(f'{data_dir}/ancom_stool_formed_liquid_l7.qzv')"
   ]
  },
  {
   "cell_type": "code",
   "execution_count": 41,
   "id": "04302b8e-1b61-4c9f-b30c-efd9aa9d9175",
   "metadata": {},
   "outputs": [
    {
     "name": "stdout",
     "output_type": "stream",
     "text": [
      "\u001b[32mSaved FeatureTable[Frequency] to: Alien_data/table_abund_stool_semi_formed_liquid_l7.qza\u001b[0m\n",
      "\u001b[0m\u001b[32mSaved FeatureTable[Composition] to: Alien_data/table_abund_comp_stool_semi_formed_liquid_l7.qza\u001b[0m\n",
      "\u001b[0m"
     ]
    }
   ],
   "source": [
    "#look at the taxa annotation that is different between the semi-formed and liquid stool:\n",
    "! qiime feature-table filter-samples \\\n",
    "    --i-table $data_dir/table_abund_l7.qza \\\n",
    "    --m-metadata-file $data_dir/str_metadata.tsv \\\n",
    "    --p-where \"[stool_consistency]='semi-formed' or [stool_consistency]='liquid'\" \\\n",
    "    --o-filtered-table $data_dir/table_abund_stool_semi_formed_liquid_l7.qza\n",
    "\n",
    "! qiime composition add-pseudocount \\\n",
    "    --i-table $data_dir/table_abund_stool_semi_formed_liquid_l7.qza \\\n",
    "    --o-composition-table $data_dir/table_abund_comp_stool_semi_formed_liquid_l7.qza"
   ]
  },
  {
   "cell_type": "code",
   "execution_count": 42,
   "id": "34252a4e-ebf6-4c49-b892-1ea960f92e29",
   "metadata": {},
   "outputs": [
    {
     "name": "stdout",
     "output_type": "stream",
     "text": [
      "\u001b[32mSaved Visualization to: Alien_data/ancom_stool_formed_semi_formed_liquid_l7.qzv\u001b[0m\n",
      "\u001b[0m"
     ]
    }
   ],
   "source": [
    "! qiime composition ancom \\\n",
    "    --i-table $data_dir/table_abund_comp_stool_semi_formed_liquid_l7.qza \\\n",
    "    --m-metadata-file $data_dir/str_metadata.tsv \\\n",
    "    --m-metadata-column stool_consistency \\\n",
    "    --o-visualization $data_dir/ancom_stool_formed_semi_formed_liquid_l7.qzv"
   ]
  },
  {
   "cell_type": "code",
   "execution_count": 43,
   "id": "dcb89e4f-635e-4808-a73a-91cb51dcc47d",
   "metadata": {
    "collapsed": true,
    "jupyter": {
     "outputs_hidden": true
    },
    "tags": []
   },
   "outputs": [
    {
     "data": {
      "text/html": [
       "<div><img onload=\"(function(div, url){\n",
       "if (typeof require !== 'undefined') {\n",
       "    var baseURL = require.toUrl('').split('/').slice(0, -2).join('/');\n",
       "} else {\n",
       "    var baseURL = JSON.parse(\n",
       "        document.getElementById('jupyter-config-data').innerHTML\n",
       "    ).baseUrl.slice(0, -1);\n",
       "}\n",
       "url = baseURL + url;\n",
       "fetch(url).then(function(res) {\n",
       "    if (res.status === 404) {\n",
       "        div.innerHTML = 'Install QIIME 2 Jupyter extension with:<br />' +\n",
       "                        '<code>jupyter serverextension enable --py qiime2' +\n",
       "                        ' --sys-prefix</code><br />then restart your server.' +\n",
       "                        '<br /><br />(Interactive output not available on ' +\n",
       "                        'static notebook viewer services like nbviewer.)';\n",
       "    } else if (res.status === 409) {\n",
       "        div.innerHTML = 'Visualization no longer in scope. Re-run this cell' +\n",
       "                        ' to see the visualization.';\n",
       "    } else if (res.ok) {\n",
       "        url = res.url;\n",
       "        div.innerHTML = '<iframe src=\\'' + url + '\\' style=\\'' +\n",
       "                        'width: 100%; height: 700px; border: 0;\\'>' +\n",
       "                        '</iframe><hr />Open in a: <a href=\\'' + url + '\\'' +\n",
       "                        ' target=\\'_blank\\'>new window</a>'\n",
       "    } else {\n",
       "        div.innerHTML = 'Something has gone wrong. Check notebook server for' +\n",
       "                        ' errors.';\n",
       "    }\n",
       "});\n",
       "})(this.parentElement, '/qiime2/redirect?location=/tmp/qiime2-archive-w_60oy5b')\" src=\"data:image/gif;base64,R0lGODlhAQABAIAAAP///wAAACH5BAEAAAAALAAAAAABAAEAAAICRAEAOw==\" /></div>"
      ],
      "text/plain": [
       "<visualization: Visualization uuid: ea63aac5-fa88-422a-a639-196446664e0b>"
      ]
     },
     "execution_count": 43,
     "metadata": {},
     "output_type": "execute_result"
    }
   ],
   "source": [
    "#no significance was found\n",
    "Visualization.load(f'{data_dir}/ancom_stool_formed_semi_formed_liquid_l7.qzv')"
   ]
  },
  {
   "cell_type": "code",
   "execution_count": 44,
   "id": "763ee449-21b6-4d4f-b230-625f0816bf96",
   "metadata": {},
   "outputs": [
    {
     "name": "stdout",
     "output_type": "stream",
     "text": [
      "\u001b[32mSaved Visualization to: Alien_data/ancom_disease.qzv\u001b[0m\n",
      "\u001b[0m"
     ]
    }
   ],
   "source": [
    "# Looking at differential abundance between the disease:\n",
    "\n",
    "! qiime composition ancom \\\n",
    "    --i-table $data_dir/table_abund_comp.qza \\\n",
    "    --m-metadata-file $data_dir/str_metadata.tsv \\\n",
    "    --m-metadata-column disease \\\n",
    "    --p-transform-function log \\\n",
    "    --o-visualization $data_dir/ancom_disease.qzv"
   ]
  },
  {
   "cell_type": "code",
   "execution_count": 45,
   "id": "39f23142-a5bb-47db-abbc-744df565ca3c",
   "metadata": {
    "collapsed": true,
    "jupyter": {
     "outputs_hidden": true
    },
    "tags": []
   },
   "outputs": [
    {
     "data": {
      "text/html": [
       "<div><img onload=\"(function(div, url){\n",
       "if (typeof require !== 'undefined') {\n",
       "    var baseURL = require.toUrl('').split('/').slice(0, -2).join('/');\n",
       "} else {\n",
       "    var baseURL = JSON.parse(\n",
       "        document.getElementById('jupyter-config-data').innerHTML\n",
       "    ).baseUrl.slice(0, -1);\n",
       "}\n",
       "url = baseURL + url;\n",
       "fetch(url).then(function(res) {\n",
       "    if (res.status === 404) {\n",
       "        div.innerHTML = 'Install QIIME 2 Jupyter extension with:<br />' +\n",
       "                        '<code>jupyter serverextension enable --py qiime2' +\n",
       "                        ' --sys-prefix</code><br />then restart your server.' +\n",
       "                        '<br /><br />(Interactive output not available on ' +\n",
       "                        'static notebook viewer services like nbviewer.)';\n",
       "    } else if (res.status === 409) {\n",
       "        div.innerHTML = 'Visualization no longer in scope. Re-run this cell' +\n",
       "                        ' to see the visualization.';\n",
       "    } else if (res.ok) {\n",
       "        url = res.url;\n",
       "        div.innerHTML = '<iframe src=\\'' + url + '\\' style=\\'' +\n",
       "                        'width: 100%; height: 700px; border: 0;\\'>' +\n",
       "                        '</iframe><hr />Open in a: <a href=\\'' + url + '\\'' +\n",
       "                        ' target=\\'_blank\\'>new window</a>'\n",
       "    } else {\n",
       "        div.innerHTML = 'Something has gone wrong. Check notebook server for' +\n",
       "                        ' errors.';\n",
       "    }\n",
       "});\n",
       "})(this.parentElement, '/qiime2/redirect?location=/tmp/qiime2-archive-3vc54mit')\" src=\"data:image/gif;base64,R0lGODlhAQABAIAAAP///wAAACH5BAEAAAAALAAAAAABAAEAAAICRAEAOw==\" /></div>"
      ],
      "text/plain": [
       "<visualization: Visualization uuid: f84c5e71-49c5-4673-8119-1dc0debbe963>"
      ]
     },
     "execution_count": 45,
     "metadata": {},
     "output_type": "execute_result"
    }
   ],
   "source": [
    "Visualization.load(f'{data_dir}/ancom_disease.qzv')"
   ]
  },
  {
   "cell_type": "code",
   "execution_count": 53,
   "id": "89604820-9ff7-4ba3-a1bd-4417096cb94e",
   "metadata": {},
   "outputs": [
    {
     "data": {
      "text/plain": [
       "array(['Myelodysplastic Syndromes', 'Leukemia', \"Non-Hodgkin's Lymphoma\",\n",
       "       \"Hodgkin's Disease\", nan], dtype=object)"
      ]
     },
     "execution_count": 53,
     "metadata": {},
     "output_type": "execute_result"
    }
   ],
   "source": [
    "metadata['disease'].unique()"
   ]
  },
  {
   "cell_type": "code",
   "execution_count": 54,
   "id": "65e092c2-14af-40f1-a066-a675196c6e11",
   "metadata": {},
   "outputs": [
    {
     "name": "stdout",
     "output_type": "stream",
     "text": [
      "\u001b[32mSaved FeatureTable[Frequency] to: Alien_data/table_abund_Myesyndromes_Leukemia_l7.qza\u001b[0m\n",
      "\u001b[0m\u001b[32mSaved FeatureTable[Composition] to: Alien_data/table_abund_comp_Myesyndromes_Leukemia_l7.qza\u001b[0m\n",
      "\u001b[0m"
     ]
    }
   ],
   "source": [
    "#look at the taxa annotation that is different between the Mye syndromes and Leukemia:\n",
    "! qiime feature-table filter-samples \\\n",
    "    --i-table $data_dir/table_abund_l7.qza \\\n",
    "    --m-metadata-file $data_dir/str_metadata.tsv \\\n",
    "    --p-where \"[disease]='Myelodysplastic Syndromes' or [disease]='Leukemia'\" \\\n",
    "    --o-filtered-table $data_dir/table_abund_Myesyndromes_Leukemia_l7.qza\n",
    "\n",
    "! qiime composition add-pseudocount \\\n",
    "    --i-table $data_dir/table_abund_Myesyndromes_Leukemia_l7.qza \\\n",
    "    --o-composition-table $data_dir/table_abund_comp_Myesyndromes_Leukemia_l7.qza"
   ]
  },
  {
   "cell_type": "code",
   "execution_count": 48,
   "id": "e16b43f6-8130-4f3c-b6c7-8cdb1681576e",
   "metadata": {},
   "outputs": [
    {
     "name": "stdout",
     "output_type": "stream",
     "text": [
      "\u001b[32mSaved Visualization to: Alien_data/ancom_stool_Myesyndromes_Leukemia_l7.qzv\u001b[0m\n",
      "\u001b[0m"
     ]
    }
   ],
   "source": [
    "! qiime composition ancom \\\n",
    "    --i-table $data_dir/table_abund_comp_Myesyndromes_Leukemia_l7.qza \\\n",
    "    --m-metadata-file $data_dir/str_metadata.tsv \\\n",
    "    --m-metadata-column disease \\\n",
    "    --o-visualization $data_dir/ancom_stool_Myesyndromes_Leukemia_l7.qzv"
   ]
  },
  {
   "cell_type": "code",
   "execution_count": 49,
   "id": "67c59c2d-0e56-4daf-b19a-5f40038310f9",
   "metadata": {
    "collapsed": true,
    "jupyter": {
     "outputs_hidden": true
    },
    "tags": []
   },
   "outputs": [
    {
     "data": {
      "text/html": [
       "<div><img onload=\"(function(div, url){\n",
       "if (typeof require !== 'undefined') {\n",
       "    var baseURL = require.toUrl('').split('/').slice(0, -2).join('/');\n",
       "} else {\n",
       "    var baseURL = JSON.parse(\n",
       "        document.getElementById('jupyter-config-data').innerHTML\n",
       "    ).baseUrl.slice(0, -1);\n",
       "}\n",
       "url = baseURL + url;\n",
       "fetch(url).then(function(res) {\n",
       "    if (res.status === 404) {\n",
       "        div.innerHTML = 'Install QIIME 2 Jupyter extension with:<br />' +\n",
       "                        '<code>jupyter serverextension enable --py qiime2' +\n",
       "                        ' --sys-prefix</code><br />then restart your server.' +\n",
       "                        '<br /><br />(Interactive output not available on ' +\n",
       "                        'static notebook viewer services like nbviewer.)';\n",
       "    } else if (res.status === 409) {\n",
       "        div.innerHTML = 'Visualization no longer in scope. Re-run this cell' +\n",
       "                        ' to see the visualization.';\n",
       "    } else if (res.ok) {\n",
       "        url = res.url;\n",
       "        div.innerHTML = '<iframe src=\\'' + url + '\\' style=\\'' +\n",
       "                        'width: 100%; height: 700px; border: 0;\\'>' +\n",
       "                        '</iframe><hr />Open in a: <a href=\\'' + url + '\\'' +\n",
       "                        ' target=\\'_blank\\'>new window</a>'\n",
       "    } else {\n",
       "        div.innerHTML = 'Something has gone wrong. Check notebook server for' +\n",
       "                        ' errors.';\n",
       "    }\n",
       "});\n",
       "})(this.parentElement, '/qiime2/redirect?location=/tmp/qiime2-archive-zx1vszfi')\" src=\"data:image/gif;base64,R0lGODlhAQABAIAAAP///wAAACH5BAEAAAAALAAAAAABAAEAAAICRAEAOw==\" /></div>"
      ],
      "text/plain": [
       "<visualization: Visualization uuid: 189105e8-e223-47c7-951e-5b0886a1c1db>"
      ]
     },
     "execution_count": 49,
     "metadata": {},
     "output_type": "execute_result"
    }
   ],
   "source": [
    "Visualization.load(f'{data_dir}/ancom_stool_Myesyndromes_Leukemia_l7.qzv')"
   ]
  },
  {
   "cell_type": "code",
   "execution_count": 61,
   "id": "a5578dfe-66af-4cb5-9c3d-868b46538947",
   "metadata": {
    "collapsed": true,
    "jupyter": {
     "outputs_hidden": true
    },
    "tags": []
   },
   "outputs": [
    {
     "name": "stdout",
     "output_type": "stream",
     "text": [
      "\u001b[31m\u001b[1mThere was an issue with loading the file /str_metadata.tsv as metadata:\n",
      "\n",
      "  Metadata file path doesn't exist, or the path points to something other than a file. Please check that the path exists, has read permissions, and points to a regular file (not a directory): /str_metadata.tsv\n",
      "\n",
      "  There may be more errors present in the metadata file. To get a full report, sample/feature metadata files can be validated with Keemei: https://keemei.qiime2.org\n",
      "\n",
      "  Find details on QIIME 2 metadata requirements here: https://docs.qiime2.org/2022.2/tutorials/metadata/\u001b[0m\n",
      "\n",
      "\u001b[0mUsage: \u001b[94mqiime composition add-pseudocount\u001b[0m [OPTIONS]\n",
      "\n",
      "  Increment all counts in table by pseudocount.\n",
      "\n",
      "\u001b[1mInputs\u001b[0m:\n",
      "  \u001b[94m\u001b[4m--i-table\u001b[0m ARTIFACT \u001b[32mFeatureTable[Frequency]\u001b[0m\n",
      "                       The feature table to which pseudocounts should be\n",
      "                       added.                                       \u001b[35m[required]\u001b[0m\n",
      "\u001b[1mParameters\u001b[0m:\n",
      "  \u001b[94m--p-pseudocount\u001b[0m INTEGER\n",
      "                       The value to add to all counts in the feature table.\n",
      "                                                                  \u001b[35m[default: 1]\u001b[0m\n",
      "\u001b[1mOutputs\u001b[0m:\n",
      "  \u001b[94m\u001b[4m--o-composition-table\u001b[0m ARTIFACT \u001b[32mFeatureTable[Composition]\u001b[0m\n",
      "                       The resulting feature table.                 \u001b[35m[required]\u001b[0m\n",
      "\u001b[1mMiscellaneous\u001b[0m:\n",
      "  \u001b[94m--output-dir\u001b[0m PATH    Output unspecified results to a directory\n",
      "  \u001b[94m--verbose\u001b[0m / \u001b[94m--quiet\u001b[0m  Display verbose output to stdout and/or stderr during\n",
      "                       execution of this action. Or silence output if\n",
      "                       execution is successful (silence is golden).\n",
      "  \u001b[94m--example-data\u001b[0m PATH  Write example data and exit.\n",
      "  \u001b[94m--citations\u001b[0m          Show citations and exit.\n",
      "  \u001b[94m--help\u001b[0m               Show this message and exit.\n",
      "\n",
      "\u001b[33m                    There was a problem with the command:                     \u001b[0m\n",
      "\u001b[31m\u001b[1m (1/1) Invalid value for '--i-table':\n",
      "  'Alien_data/table_abund_nonHodgkin_Leukemia_l7.qza' is not a valid filepath\u001b[0m\n",
      "\u001b[0m"
     ]
    }
   ],
   "source": [
    "#look at the taxa annotation that is different between the Non-Hodgkin's Lymphoma and Leukemia:\n",
    "#error message!!! There was an issue with loading the file /str_metadata.tsv as metadata\n",
    "# I also failed to test the other pairs of dieseases\n",
    "! qiime feature-table filter-samples \\\n",
    "    --i-table $data_dir/table_abund_l7.qza \\\n",
    "    --m-metadata-file $data_dir/str_metadata.tsv \\\n",
    "    --p-where \"[disease]='Non-Hodgkin's Lymphoma' or [disease]='Leukemia'\" \\\n",
    "    --o-filtered-table $data_dir/table_abund_nonHodgkin_Leukemia_l7.qza\n",
    "\n",
    "! qiime composition add-pseudocount \\\n",
    "    --i-table $data_dir/table_abund_nonHodgkin_Leukemia_l7.qza \\\n",
    "    --o-composition-table $data_dir/table_abund_comp_nonHodgkin_Leukemia_l7.qza"
   ]
  },
  {
   "cell_type": "code",
   "execution_count": 62,
   "id": "ae849c96-e65c-4700-a238-288c5faacdd0",
   "metadata": {
    "collapsed": true,
    "jupyter": {
     "outputs_hidden": true
    },
    "tags": []
   },
   "outputs": [
    {
     "name": "stdout",
     "output_type": "stream",
     "text": [
      "Usage: \u001b[94mqiime composition ancom\u001b[0m [OPTIONS]\n",
      "\n",
      "  Apply Analysis of Composition of Microbiomes (ANCOM) to identify features\n",
      "  that are differentially abundant across groups.\n",
      "\n",
      "\u001b[1mInputs\u001b[0m:\n",
      "  \u001b[94m\u001b[4m--i-table\u001b[0m ARTIFACT \u001b[32mFeatureTable[Composition]\u001b[0m\n",
      "                       The feature table to be used for ANCOM computation.\n",
      "                                                                    \u001b[35m[required]\u001b[0m\n",
      "\u001b[1mParameters\u001b[0m:\n",
      "  \u001b[94m\u001b[4m--m-metadata-file\u001b[0m METADATA\n",
      "  \u001b[94m\u001b[4m--m-metadata-column\u001b[0m COLUMN  \u001b[32mMetadataColumn[Categorical]\u001b[0m\n",
      "                       The categorical sample metadata column to test for\n",
      "                       differential abundance across.               \u001b[35m[required]\u001b[0m\n",
      "  \u001b[94m--p-transform-function\u001b[0m TEXT \u001b[32mChoices('sqrt', 'log', 'clr')\u001b[0m\n",
      "                       The method applied to transform feature values before\n",
      "                       generating volcano plots.              \u001b[35m[default: 'clr']\u001b[0m\n",
      "  \u001b[94m--p-difference-function\u001b[0m TEXT \u001b[32mChoices('mean_difference', 'f_statistic')\u001b[0m\n",
      "                       The method applied to visualize fold difference in\n",
      "                       feature abundances across groups for volcano plots.\n",
      "                                                                    \u001b[35m[optional]\u001b[0m\n",
      "\u001b[1mOutputs\u001b[0m:\n",
      "  \u001b[94m\u001b[4m--o-visualization\u001b[0m VISUALIZATION\n",
      "                                                                    \u001b[35m[required]\u001b[0m\n",
      "\u001b[1mMiscellaneous\u001b[0m:\n",
      "  \u001b[94m--output-dir\u001b[0m PATH    Output unspecified results to a directory\n",
      "  \u001b[94m--verbose\u001b[0m / \u001b[94m--quiet\u001b[0m  Display verbose output to stdout and/or stderr during\n",
      "                       execution of this action. Or silence output if\n",
      "                       execution is successful (silence is golden).\n",
      "  \u001b[94m--example-data\u001b[0m PATH  Write example data and exit.\n",
      "  \u001b[94m--citations\u001b[0m          Show citations and exit.\n",
      "  \u001b[94m--help\u001b[0m               Show this message and exit.\n",
      "\n",
      "\u001b[33m                    There was a problem with the command:                     \u001b[0m\n",
      "\u001b[31m\u001b[1m (1/1) Invalid value for '--i-table':\n",
      "  'Alien_data/table_abund_comp_nonHodgkin_Leukemia_l7.qza' is not a valid\n",
      "  filepath\u001b[0m\n",
      "\u001b[0m"
     ]
    }
   ],
   "source": [
    "! qiime composition ancom \\\n",
    "    --i-table $data_dir/table_abund_comp_nonHodgkin_Leukemia_l7.qza \\\n",
    "    --m-metadata-file $data_dir/str_metadata.tsv \\\n",
    "    --m-metadata-column disease \\\n",
    "    --o-visualization $data_dir/ancom_stool_nonHodgkin_Leukemia_l7.qzv"
   ]
  },
  {
   "cell_type": "code",
   "execution_count": 60,
   "id": "977a719f-bff0-4580-88b1-9fc6e4fd6b56",
   "metadata": {
    "collapsed": true,
    "jupyter": {
     "outputs_hidden": true
    },
    "tags": []
   },
   "outputs": [
    {
     "data": {
      "text/html": [
       "<div><img onload=\"(function(div, url){\n",
       "if (typeof require !== 'undefined') {\n",
       "    var baseURL = require.toUrl('').split('/').slice(0, -2).join('/');\n",
       "} else {\n",
       "    var baseURL = JSON.parse(\n",
       "        document.getElementById('jupyter-config-data').innerHTML\n",
       "    ).baseUrl.slice(0, -1);\n",
       "}\n",
       "url = baseURL + url;\n",
       "fetch(url).then(function(res) {\n",
       "    if (res.status === 404) {\n",
       "        div.innerHTML = 'Install QIIME 2 Jupyter extension with:<br />' +\n",
       "                        '<code>jupyter serverextension enable --py qiime2' +\n",
       "                        ' --sys-prefix</code><br />then restart your server.' +\n",
       "                        '<br /><br />(Interactive output not available on ' +\n",
       "                        'static notebook viewer services like nbviewer.)';\n",
       "    } else if (res.status === 409) {\n",
       "        div.innerHTML = 'Visualization no longer in scope. Re-run this cell' +\n",
       "                        ' to see the visualization.';\n",
       "    } else if (res.ok) {\n",
       "        url = res.url;\n",
       "        div.innerHTML = '<iframe src=\\'' + url + '\\' style=\\'' +\n",
       "                        'width: 100%; height: 700px; border: 0;\\'>' +\n",
       "                        '</iframe><hr />Open in a: <a href=\\'' + url + '\\'' +\n",
       "                        ' target=\\'_blank\\'>new window</a>'\n",
       "    } else {\n",
       "        div.innerHTML = 'Something has gone wrong. Check notebook server for' +\n",
       "                        ' errors.';\n",
       "    }\n",
       "});\n",
       "})(this.parentElement, '/qiime2/redirect?location=/tmp/qiime2-archive-lcgbq6ze')\" src=\"data:image/gif;base64,R0lGODlhAQABAIAAAP///wAAACH5BAEAAAAALAAAAAABAAEAAAICRAEAOw==\" /></div>"
      ],
      "text/plain": [
       "<visualization: Visualization uuid: 9327b9b0-81f2-42e9-946d-049085ff7457>"
      ]
     },
     "execution_count": 60,
     "metadata": {},
     "output_type": "execute_result"
    }
   ],
   "source": [
    "Visualization.load(f'{data_dir}/ancom_stool_nonHodgkin_Leukemia_l7.qzv')"
   ]
  },
  {
   "cell_type": "code",
   "execution_count": null,
   "id": "7002c1a3-0e75-4dce-aea4-d0736b16ca59",
   "metadata": {},
   "outputs": [
    {
     "name": "stdout",
     "output_type": "stream",
     "text": [
      "\u001b[32mSaved Visualization to: Alien_data/ancom_categorical_time_relative_to_engraftment.qzv\u001b[0m\n",
      "\u001b[0m"
     ]
    }
   ],
   "source": [
    "# Looking at differential abundance between the categorical_time_relative_to_engraftment:\n",
    "\n",
    "! qiime composition ancom \\\n",
    "    --i-table $data_dir/table_abund_comp.qza \\\n",
    "    --m-metadata-file $data_dir/str_metadata.tsv \\\n",
    "    --m-metadata-column categorical_time_relative_to_engraftment \\\n",
    "    --p-transform-function log \\\n",
    "    --o-visualization $data_dir/ancom_categorical_time_relative_to_engraftment.qzv"
   ]
  },
  {
   "cell_type": "code",
   "execution_count": 4,
   "id": "b04d24b5-0d39-4bb0-a2d0-f8cc1c70b550",
   "metadata": {
    "collapsed": true,
    "jupyter": {
     "outputs_hidden": true
    },
    "tags": []
   },
   "outputs": [
    {
     "data": {
      "text/html": [
       "<div><img onload=\"(function(div, url){\n",
       "if (typeof require !== 'undefined') {\n",
       "    var baseURL = require.toUrl('').split('/').slice(0, -2).join('/');\n",
       "} else {\n",
       "    var baseURL = JSON.parse(\n",
       "        document.getElementById('jupyter-config-data').innerHTML\n",
       "    ).baseUrl.slice(0, -1);\n",
       "}\n",
       "url = baseURL + url;\n",
       "fetch(url).then(function(res) {\n",
       "    if (res.status === 404) {\n",
       "        div.innerHTML = 'Install QIIME 2 Jupyter extension with:<br />' +\n",
       "                        '<code>jupyter serverextension enable --py qiime2' +\n",
       "                        ' --sys-prefix</code><br />then restart your server.' +\n",
       "                        '<br /><br />(Interactive output not available on ' +\n",
       "                        'static notebook viewer services like nbviewer.)';\n",
       "    } else if (res.status === 409) {\n",
       "        div.innerHTML = 'Visualization no longer in scope. Re-run this cell' +\n",
       "                        ' to see the visualization.';\n",
       "    } else if (res.ok) {\n",
       "        url = res.url;\n",
       "        div.innerHTML = '<iframe src=\\'' + url + '\\' style=\\'' +\n",
       "                        'width: 100%; height: 700px; border: 0;\\'>' +\n",
       "                        '</iframe><hr />Open in a: <a href=\\'' + url + '\\'' +\n",
       "                        ' target=\\'_blank\\'>new window</a>'\n",
       "    } else {\n",
       "        div.innerHTML = 'Something has gone wrong. Check notebook server for' +\n",
       "                        ' errors.';\n",
       "    }\n",
       "});\n",
       "})(this.parentElement, '/qiime2/redirect?location=/tmp/qiime2-archive-dgof_2xn')\" src=\"data:image/gif;base64,R0lGODlhAQABAIAAAP///wAAACH5BAEAAAAALAAAAAABAAEAAAICRAEAOw==\" /></div>"
      ],
      "text/plain": [
       "<visualization: Visualization uuid: c102d9d2-35df-4043-b9b6-8e593ff9cae1>"
      ]
     },
     "execution_count": 4,
     "metadata": {},
     "output_type": "execute_result"
    }
   ],
   "source": [
    "Visualization.load(f'{data_dir}/ancom_categorical_time_relative_to_engraftment.qzv')"
   ]
  },
  {
   "cell_type": "code",
   "execution_count": 5,
   "id": "d13ea4ea-596c-45cb-96ce-1fcbc886e8e9",
   "metadata": {},
   "outputs": [
    {
     "name": "stdout",
     "output_type": "stream",
     "text": [
      "\u001b[32mSaved FeatureTable[Frequency] to: Alien_data/table_abund_pre_peri_l7.qza\u001b[0m\n",
      "\u001b[0m\u001b[32mSaved FeatureTable[Composition] to: Alien_data/table_abund_comp_pre_peri_l7.qza\u001b[0m\n",
      "\u001b[0m"
     ]
    }
   ],
   "source": [
    "#look at the taxa annotation that is different between the peri and pre:\n",
    "! qiime feature-table filter-samples \\\n",
    "    --i-table $data_dir/table_abund_l7.qza \\\n",
    "    --m-metadata-file $data_dir/str_metadata.tsv \\\n",
    "    --p-where \"[categorical_time_relative_to_engraftment]='pre' or [categorical_time_relative_to_engraftment]='peri'\" \\\n",
    "    --o-filtered-table $data_dir/table_abund_pre_peri_l7.qza\n",
    "\n",
    "! qiime composition add-pseudocount \\\n",
    "    --i-table $data_dir/table_abund_pre_peri_l7.qza \\\n",
    "    --o-composition-table $data_dir/table_abund_comp_pre_peri_l7.qza"
   ]
  },
  {
   "cell_type": "code",
   "execution_count": 6,
   "id": "c3302e12-9614-4232-93b4-da5114489559",
   "metadata": {},
   "outputs": [
    {
     "name": "stdout",
     "output_type": "stream",
     "text": [
      "\u001b[32mSaved Visualization to: Alien_data/ancom_pre_peri_l7.qzv\u001b[0m\n",
      "\u001b[0m"
     ]
    }
   ],
   "source": [
    "! qiime composition ancom \\\n",
    "    --i-table $data_dir/table_abund_comp_pre_peri_l7.qza \\\n",
    "    --m-metadata-file $data_dir/str_metadata.tsv \\\n",
    "    --m-metadata-column categorical_time_relative_to_engraftment \\\n",
    "    --o-visualization $data_dir/ancom_pre_peri_l7.qzv"
   ]
  },
  {
   "cell_type": "code",
   "execution_count": 7,
   "id": "ea5aa9fe-a08e-4f5a-a30e-7dd1ace15f7f",
   "metadata": {
    "collapsed": true,
    "jupyter": {
     "outputs_hidden": true
    },
    "tags": []
   },
   "outputs": [
    {
     "data": {
      "text/html": [
       "<div><img onload=\"(function(div, url){\n",
       "if (typeof require !== 'undefined') {\n",
       "    var baseURL = require.toUrl('').split('/').slice(0, -2).join('/');\n",
       "} else {\n",
       "    var baseURL = JSON.parse(\n",
       "        document.getElementById('jupyter-config-data').innerHTML\n",
       "    ).baseUrl.slice(0, -1);\n",
       "}\n",
       "url = baseURL + url;\n",
       "fetch(url).then(function(res) {\n",
       "    if (res.status === 404) {\n",
       "        div.innerHTML = 'Install QIIME 2 Jupyter extension with:<br />' +\n",
       "                        '<code>jupyter serverextension enable --py qiime2' +\n",
       "                        ' --sys-prefix</code><br />then restart your server.' +\n",
       "                        '<br /><br />(Interactive output not available on ' +\n",
       "                        'static notebook viewer services like nbviewer.)';\n",
       "    } else if (res.status === 409) {\n",
       "        div.innerHTML = 'Visualization no longer in scope. Re-run this cell' +\n",
       "                        ' to see the visualization.';\n",
       "    } else if (res.ok) {\n",
       "        url = res.url;\n",
       "        div.innerHTML = '<iframe src=\\'' + url + '\\' style=\\'' +\n",
       "                        'width: 100%; height: 700px; border: 0;\\'>' +\n",
       "                        '</iframe><hr />Open in a: <a href=\\'' + url + '\\'' +\n",
       "                        ' target=\\'_blank\\'>new window</a>'\n",
       "    } else {\n",
       "        div.innerHTML = 'Something has gone wrong. Check notebook server for' +\n",
       "                        ' errors.';\n",
       "    }\n",
       "});\n",
       "})(this.parentElement, '/qiime2/redirect?location=/tmp/qiime2-archive-xexn8apx')\" src=\"data:image/gif;base64,R0lGODlhAQABAIAAAP///wAAACH5BAEAAAAALAAAAAABAAEAAAICRAEAOw==\" /></div>"
      ],
      "text/plain": [
       "<visualization: Visualization uuid: 3d63714e-f8b9-44e0-9a69-a295170231ee>"
      ]
     },
     "execution_count": 7,
     "metadata": {},
     "output_type": "execute_result"
    }
   ],
   "source": [
    "Visualization.load(f'{data_dir}/ancom_pre_peri_l7.qzv')"
   ]
  },
  {
   "cell_type": "code",
   "execution_count": 8,
   "id": "b544259e-2a42-4fc1-867e-0884e5c36da0",
   "metadata": {},
   "outputs": [
    {
     "name": "stdout",
     "output_type": "stream",
     "text": [
      "\u001b[32mSaved FeatureTable[Frequency] to: Alien_data/table_abund_peri_post_l7.qza\u001b[0m\n",
      "\u001b[0m\u001b[32mSaved FeatureTable[Composition] to: Alien_data/table_abund_comp_peri_post_l7.qza\u001b[0m\n",
      "\u001b[0m"
     ]
    }
   ],
   "source": [
    "#look at the taxa annotation that is different between the peri and post:\n",
    "! qiime feature-table filter-samples \\\n",
    "    --i-table $data_dir/table_abund_l7.qza \\\n",
    "    --m-metadata-file $data_dir/str_metadata.tsv \\\n",
    "    --p-where \"[categorical_time_relative_to_engraftment]='peri' or [categorical_time_relative_to_engraftment]='post'\" \\\n",
    "    --o-filtered-table $data_dir/table_abund_peri_post_l7.qza\n",
    "\n",
    "! qiime composition add-pseudocount \\\n",
    "    --i-table $data_dir/table_abund_peri_post_l7.qza \\\n",
    "    --o-composition-table $data_dir/table_abund_comp_peri_post_l7.qza"
   ]
  },
  {
   "cell_type": "code",
   "execution_count": 9,
   "id": "8d738cf2-d5d3-4ccd-aa19-52fc6ff4e537",
   "metadata": {},
   "outputs": [
    {
     "name": "stdout",
     "output_type": "stream",
     "text": [
      "\u001b[32mSaved Visualization to: Alien_data/ancom_peri_post_l7.qzv\u001b[0m\n",
      "\u001b[0m"
     ]
    }
   ],
   "source": [
    "! qiime composition ancom \\\n",
    "    --i-table $data_dir/table_abund_comp_peri_post_l7.qza \\\n",
    "    --m-metadata-file $data_dir/str_metadata.tsv \\\n",
    "    --m-metadata-column categorical_time_relative_to_engraftment \\\n",
    "    --o-visualization $data_dir/ancom_peri_post_l7.qzv"
   ]
  },
  {
   "cell_type": "code",
   "execution_count": 11,
   "id": "82c350cd-42ea-422b-aae5-cfcaf97b96dd",
   "metadata": {
    "collapsed": true,
    "jupyter": {
     "outputs_hidden": true
    },
    "tags": []
   },
   "outputs": [
    {
     "data": {
      "text/html": [
       "<div><img onload=\"(function(div, url){\n",
       "if (typeof require !== 'undefined') {\n",
       "    var baseURL = require.toUrl('').split('/').slice(0, -2).join('/');\n",
       "} else {\n",
       "    var baseURL = JSON.parse(\n",
       "        document.getElementById('jupyter-config-data').innerHTML\n",
       "    ).baseUrl.slice(0, -1);\n",
       "}\n",
       "url = baseURL + url;\n",
       "fetch(url).then(function(res) {\n",
       "    if (res.status === 404) {\n",
       "        div.innerHTML = 'Install QIIME 2 Jupyter extension with:<br />' +\n",
       "                        '<code>jupyter serverextension enable --py qiime2' +\n",
       "                        ' --sys-prefix</code><br />then restart your server.' +\n",
       "                        '<br /><br />(Interactive output not available on ' +\n",
       "                        'static notebook viewer services like nbviewer.)';\n",
       "    } else if (res.status === 409) {\n",
       "        div.innerHTML = 'Visualization no longer in scope. Re-run this cell' +\n",
       "                        ' to see the visualization.';\n",
       "    } else if (res.ok) {\n",
       "        url = res.url;\n",
       "        div.innerHTML = '<iframe src=\\'' + url + '\\' style=\\'' +\n",
       "                        'width: 100%; height: 700px; border: 0;\\'>' +\n",
       "                        '</iframe><hr />Open in a: <a href=\\'' + url + '\\'' +\n",
       "                        ' target=\\'_blank\\'>new window</a>'\n",
       "    } else {\n",
       "        div.innerHTML = 'Something has gone wrong. Check notebook server for' +\n",
       "                        ' errors.';\n",
       "    }\n",
       "});\n",
       "})(this.parentElement, '/qiime2/redirect?location=/tmp/qiime2-archive-ldz5llxl')\" src=\"data:image/gif;base64,R0lGODlhAQABAIAAAP///wAAACH5BAEAAAAALAAAAAABAAEAAAICRAEAOw==\" /></div>"
      ],
      "text/plain": [
       "<visualization: Visualization uuid: aa5c44ca-b06e-4397-be50-dfd843fb2945>"
      ]
     },
     "execution_count": 11,
     "metadata": {},
     "output_type": "execute_result"
    }
   ],
   "source": [
    "Visualization.load(f'{data_dir}/ancom_peri_post_l7.qzv')"
   ]
  },
  {
   "cell_type": "code",
   "execution_count": 12,
   "id": "39f0c1f4-1485-4ac0-89d4-3da71eefd3d0",
   "metadata": {},
   "outputs": [
    {
     "name": "stdout",
     "output_type": "stream",
     "text": [
      "\u001b[32mSaved FeatureTable[Frequency] to: Alien_data/table_abund_pre_post_l7.qza\u001b[0m\n",
      "\u001b[0m\u001b[32mSaved FeatureTable[Composition] to: Alien_data/table_abund_comp_pre_post_l7.qza\u001b[0m\n",
      "\u001b[0m"
     ]
    }
   ],
   "source": [
    "#look at the taxa annotation that is different between the pre and post:\n",
    "! qiime feature-table filter-samples \\\n",
    "    --i-table $data_dir/table_abund_l7.qza \\\n",
    "    --m-metadata-file $data_dir/str_metadata.tsv \\\n",
    "    --p-where \"[categorical_time_relative_to_engraftment]='pre' or [categorical_time_relative_to_engraftment]='post'\" \\\n",
    "    --o-filtered-table $data_dir/table_abund_pre_post_l7.qza\n",
    "\n",
    "! qiime composition add-pseudocount \\\n",
    "    --i-table $data_dir/table_abund_pre_post_l7.qza \\\n",
    "    --o-composition-table $data_dir/table_abund_comp_pre_post_l7.qza"
   ]
  },
  {
   "cell_type": "code",
   "execution_count": 13,
   "id": "b0ca3946-615f-45e9-8b55-edfebaf44f1f",
   "metadata": {},
   "outputs": [
    {
     "name": "stdout",
     "output_type": "stream",
     "text": [
      "\u001b[32mSaved Visualization to: Alien_data/ancom_pre_post_l7.qzv\u001b[0m\n",
      "\u001b[0m"
     ]
    }
   ],
   "source": [
    "! qiime composition ancom \\\n",
    "    --i-table $data_dir/table_abund_comp_pre_post_l7.qza \\\n",
    "    --m-metadata-file $data_dir/str_metadata.tsv \\\n",
    "    --m-metadata-column categorical_time_relative_to_engraftment \\\n",
    "    --o-visualization $data_dir/ancom_pre_post_l7.qzv"
   ]
  },
  {
   "cell_type": "code",
   "execution_count": 14,
   "id": "21774e49-0618-4fd9-9b11-b2ed850aee48",
   "metadata": {
    "collapsed": true,
    "jupyter": {
     "outputs_hidden": true
    },
    "tags": []
   },
   "outputs": [
    {
     "data": {
      "text/html": [
       "<div><img onload=\"(function(div, url){\n",
       "if (typeof require !== 'undefined') {\n",
       "    var baseURL = require.toUrl('').split('/').slice(0, -2).join('/');\n",
       "} else {\n",
       "    var baseURL = JSON.parse(\n",
       "        document.getElementById('jupyter-config-data').innerHTML\n",
       "    ).baseUrl.slice(0, -1);\n",
       "}\n",
       "url = baseURL + url;\n",
       "fetch(url).then(function(res) {\n",
       "    if (res.status === 404) {\n",
       "        div.innerHTML = 'Install QIIME 2 Jupyter extension with:<br />' +\n",
       "                        '<code>jupyter serverextension enable --py qiime2' +\n",
       "                        ' --sys-prefix</code><br />then restart your server.' +\n",
       "                        '<br /><br />(Interactive output not available on ' +\n",
       "                        'static notebook viewer services like nbviewer.)';\n",
       "    } else if (res.status === 409) {\n",
       "        div.innerHTML = 'Visualization no longer in scope. Re-run this cell' +\n",
       "                        ' to see the visualization.';\n",
       "    } else if (res.ok) {\n",
       "        url = res.url;\n",
       "        div.innerHTML = '<iframe src=\\'' + url + '\\' style=\\'' +\n",
       "                        'width: 100%; height: 700px; border: 0;\\'>' +\n",
       "                        '</iframe><hr />Open in a: <a href=\\'' + url + '\\'' +\n",
       "                        ' target=\\'_blank\\'>new window</a>'\n",
       "    } else {\n",
       "        div.innerHTML = 'Something has gone wrong. Check notebook server for' +\n",
       "                        ' errors.';\n",
       "    }\n",
       "});\n",
       "})(this.parentElement, '/qiime2/redirect?location=/tmp/qiime2-archive-syp3xsqb')\" src=\"data:image/gif;base64,R0lGODlhAQABAIAAAP///wAAACH5BAEAAAAALAAAAAABAAEAAAICRAEAOw==\" /></div>"
      ],
      "text/plain": [
       "<visualization: Visualization uuid: 1abfcbd7-11c1-4349-aae2-7e24fae7af61>"
      ]
     },
     "execution_count": 14,
     "metadata": {},
     "output_type": "execute_result"
    }
   ],
   "source": [
    "Visualization.load(f'{data_dir}/ancom_pre_post_l7.qzv')"
   ]
  },
  {
   "cell_type": "code",
   "execution_count": null,
   "id": "c03cabc7-ab4e-408c-9798-08ebdd76685d",
   "metadata": {},
   "outputs": [],
   "source": []
  }
 ],
 "metadata": {
  "kernelspec": {
   "display_name": "Python 3 (ipykernel)",
   "language": "python",
   "name": "python3"
  },
  "language_info": {
   "codemirror_mode": {
    "name": "ipython",
    "version": 3
   },
   "file_extension": ".py",
   "mimetype": "text/x-python",
   "name": "python",
   "nbconvert_exporter": "python",
   "pygments_lexer": "ipython3",
   "version": "3.8.13"
  }
 },
 "nbformat": 4,
 "nbformat_minor": 5
}
