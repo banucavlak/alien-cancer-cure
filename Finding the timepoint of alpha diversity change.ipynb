{
 "cells": [
  {
   "cell_type": "code",
   "execution_count": 1,
   "id": "4f9b143e-a3bd-45a2-9dff-74a9193b3783",
   "metadata": {},
   "outputs": [],
   "source": [
    "import os\n",
    "import pandas as pd\n",
    "import qiime2 as q2\n",
    "from qiime2 import Visualization\n",
    "import matplotlib.pyplot as plt\n",
    "import numpy as np\n",
    "\n",
    "%matplotlib inline"
   ]
  },
  {
   "cell_type": "code",
   "execution_count": 2,
   "id": "e5bd9570-5ccc-47ea-bd87-96f13772f0c3",
   "metadata": {},
   "outputs": [],
   "source": [
    "data_dir = 'Alien_data'"
   ]
  },
  {
   "cell_type": "code",
   "execution_count": 3,
   "id": "7efb3ee3-393f-495f-83ac-4fe91e6770a7",
   "metadata": {},
   "outputs": [],
   "source": [
    "metadata = pd.read_csv('Alien_data/str_metadata.tsv', sep='\\t')"
   ]
  },
  {
   "cell_type": "markdown",
   "id": "d831677b-1f86-4d9e-b271-de1125f7a162",
   "metadata": {},
   "source": [
    "* Subset the metadata `day` column and feature table samples into two categories: `before day8` and `after day8` (found this timepoint by trying each day one by one):"
   ]
  },
  {
   "cell_type": "markdown",
   "id": "77559af2-e804-42d1-9297-7bc7bac9ea32",
   "metadata": {},
   "source": [
    "**Before day 8**"
   ]
  },
  {
   "cell_type": "code",
   "execution_count": 53,
   "id": "5832d78d-9cfe-45d8-9299-a7be6c79b39b",
   "metadata": {},
   "outputs": [
    {
     "name": "stdout",
     "output_type": "stream",
     "text": [
      "\u001b[32mSaved FeatureTable[Frequency] to: Alien_data/before_day8_feature_table.qza\u001b[0m\n",
      "\u001b[0m"
     ]
    }
   ],
   "source": [
    "# before day 8\n",
    "! qiime feature-table filter-samples \\\n",
    "    --i-table $data_dir/table-filtered.qza \\\n",
    "    --m-metadata-file $data_dir/str_metadata.tsv \\\n",
    "    --p-where \"[day_relative_to_nearest_hct]<'8' or [day_relative_to_nearest_hct]='8'\" \\\n",
    "    --o-filtered-table $data_dir/before_day8_feature_table.qza"
   ]
  },
  {
   "cell_type": "code",
   "execution_count": 54,
   "id": "756504f3-c489-4ac2-b427-b328fe2a75df",
   "metadata": {
    "collapsed": true,
    "jupyter": {
     "outputs_hidden": true
    },
    "tags": []
   },
   "outputs": [
    {
     "name": "stdout",
     "output_type": "stream",
     "text": [
      "\u001b[32mSaved FeatureTable[Frequency] to: Alien_data/core-metrics-results-before-day8/rarefied_table.qza\u001b[0m\n",
      "\u001b[32mSaved SampleData[AlphaDiversity] to: Alien_data/core-metrics-results-before-day8/faith_pd_vector.qza\u001b[0m\n",
      "\u001b[32mSaved SampleData[AlphaDiversity] to: Alien_data/core-metrics-results-before-day8/observed_features_vector.qza\u001b[0m\n",
      "\u001b[32mSaved SampleData[AlphaDiversity] to: Alien_data/core-metrics-results-before-day8/shannon_vector.qza\u001b[0m\n",
      "\u001b[32mSaved SampleData[AlphaDiversity] to: Alien_data/core-metrics-results-before-day8/evenness_vector.qza\u001b[0m\n",
      "\u001b[32mSaved DistanceMatrix to: Alien_data/core-metrics-results-before-day8/unweighted_unifrac_distance_matrix.qza\u001b[0m\n",
      "\u001b[32mSaved DistanceMatrix to: Alien_data/core-metrics-results-before-day8/weighted_unifrac_distance_matrix.qza\u001b[0m\n",
      "\u001b[32mSaved DistanceMatrix to: Alien_data/core-metrics-results-before-day8/jaccard_distance_matrix.qza\u001b[0m\n",
      "\u001b[32mSaved DistanceMatrix to: Alien_data/core-metrics-results-before-day8/bray_curtis_distance_matrix.qza\u001b[0m\n",
      "\u001b[32mSaved PCoAResults to: Alien_data/core-metrics-results-before-day8/unweighted_unifrac_pcoa_results.qza\u001b[0m\n",
      "\u001b[32mSaved PCoAResults to: Alien_data/core-metrics-results-before-day8/weighted_unifrac_pcoa_results.qza\u001b[0m\n",
      "\u001b[32mSaved PCoAResults to: Alien_data/core-metrics-results-before-day8/jaccard_pcoa_results.qza\u001b[0m\n",
      "\u001b[32mSaved PCoAResults to: Alien_data/core-metrics-results-before-day8/bray_curtis_pcoa_results.qza\u001b[0m\n",
      "\u001b[32mSaved Visualization to: Alien_data/core-metrics-results-before-day8/unweighted_unifrac_emperor.qzv\u001b[0m\n",
      "\u001b[32mSaved Visualization to: Alien_data/core-metrics-results-before-day8/weighted_unifrac_emperor.qzv\u001b[0m\n",
      "\u001b[32mSaved Visualization to: Alien_data/core-metrics-results-before-day8/jaccard_emperor.qzv\u001b[0m\n",
      "\u001b[32mSaved Visualization to: Alien_data/core-metrics-results-before-day8/bray_curtis_emperor.qzv\u001b[0m\n",
      "\u001b[0m"
     ]
    }
   ],
   "source": [
    "! qiime diversity core-metrics-phylogenetic \\\n",
    "  --i-table $data_dir/before_day8_feature_table.qza \\\n",
    "  --i-phylogeny $data_dir/sepp-tree.qza \\\n",
    "  --m-metadata-file $data_dir/str_metadata.tsv \\\n",
    "  --p-sampling-depth 3000 \\\n",
    "  --output-dir $data_dir/core-metrics-results-before-day8"
   ]
  },
  {
   "cell_type": "code",
   "execution_count": 22,
   "id": "966c1aff-33b7-4a4d-9f51-5eefc688a352",
   "metadata": {},
   "outputs": [
    {
     "name": "stdout",
     "output_type": "stream",
     "text": [
      "\u001b[32mSaved Visualization to: Alien_data/core-metrics-results-before-day4/observed-features-group-significance-numeric.qzv\u001b[0m\n",
      "\u001b[0m"
     ]
    }
   ],
   "source": [
    "# observed_features\n",
    "! qiime diversity alpha-correlation \\\n",
    "  --i-alpha-diversity $data_dir/core-metrics-results-before-day4/observed_features_vector.qza \\\n",
    "  --m-metadata-file $data_dir/str_metadata.tsv \\\n",
    "  --o-visualization $data_dir/core-metrics-results-before-day4/observed-features-group-significance-numeric.qzv"
   ]
  },
  {
   "cell_type": "code",
   "execution_count": 23,
   "id": "0bf9b419-0bd9-4d81-b7d8-8e33a08ca862",
   "metadata": {
    "collapsed": true,
    "jupyter": {
     "outputs_hidden": true
    },
    "tags": []
   },
   "outputs": [
    {
     "data": {
      "text/html": [
       "<div><img onload=\"(function(div, url){\n",
       "if (typeof require !== 'undefined') {\n",
       "    var baseURL = require.toUrl('').split('/').slice(0, -2).join('/');\n",
       "} else {\n",
       "    var baseURL = JSON.parse(\n",
       "        document.getElementById('jupyter-config-data').innerHTML\n",
       "    ).baseUrl.slice(0, -1);\n",
       "}\n",
       "url = baseURL + url;\n",
       "fetch(url).then(function(res) {\n",
       "    if (res.status === 404) {\n",
       "        div.innerHTML = 'Install QIIME 2 Jupyter extension with:<br />' +\n",
       "                        '<code>jupyter serverextension enable --py qiime2' +\n",
       "                        ' --sys-prefix</code><br />then restart your server.' +\n",
       "                        '<br /><br />(Interactive output not available on ' +\n",
       "                        'static notebook viewer services like nbviewer.)';\n",
       "    } else if (res.status === 409) {\n",
       "        div.innerHTML = 'Visualization no longer in scope. Re-run this cell' +\n",
       "                        ' to see the visualization.';\n",
       "    } else if (res.ok) {\n",
       "        url = res.url;\n",
       "        div.innerHTML = '<iframe src=\\'' + url + '\\' style=\\'' +\n",
       "                        'width: 100%; height: 700px; border: 0;\\'>' +\n",
       "                        '</iframe><hr />Open in a: <a href=\\'' + url + '\\'' +\n",
       "                        ' target=\\'_blank\\'>new window</a>'\n",
       "    } else {\n",
       "        div.innerHTML = 'Something has gone wrong. Check notebook server for' +\n",
       "                        ' errors.';\n",
       "    }\n",
       "});\n",
       "})(this.parentElement, '/qiime2/redirect?location=/tmp/qiime2-archive-cb6dbiay')\" src=\"data:image/gif;base64,R0lGODlhAQABAIAAAP///wAAACH5BAEAAAAALAAAAAABAAEAAAICRAEAOw==\" /></div>"
      ],
      "text/plain": [
       "<visualization: Visualization uuid: 11c09a9d-b5fd-48b3-a881-62c11f686a5a>"
      ]
     },
     "execution_count": 23,
     "metadata": {},
     "output_type": "execute_result"
    }
   ],
   "source": [
    "Visualization.load(f'{data_dir}/core-metrics-results-before-day4/observed-features-group-significance-numeric.qzv')"
   ]
  },
  {
   "cell_type": "code",
   "execution_count": 55,
   "id": "4c0392a0-7d94-4473-a64b-7b3ec3b729ba",
   "metadata": {},
   "outputs": [
    {
     "name": "stdout",
     "output_type": "stream",
     "text": [
      "\u001b[32mSaved Visualization to: Alien_data/core-metrics-results-before-day8/shannon-group-significance-numeric.qzv\u001b[0m\n",
      "\u001b[0m"
     ]
    }
   ],
   "source": [
    "# shannon\n",
    "! qiime diversity alpha-correlation \\\n",
    "  --i-alpha-diversity $data_dir/core-metrics-results-before-day8/shannon_vector.qza \\\n",
    "  --m-metadata-file $data_dir/str_metadata.tsv \\\n",
    "  --o-visualization $data_dir/core-metrics-results-before-day8/shannon-group-significance-numeric.qzv"
   ]
  },
  {
   "cell_type": "code",
   "execution_count": 56,
   "id": "9294254f-a3f2-40dc-a9ef-2d639f2e8152",
   "metadata": {
    "collapsed": true,
    "jupyter": {
     "outputs_hidden": true
    },
    "tags": []
   },
   "outputs": [
    {
     "data": {
      "text/html": [
       "<div><img onload=\"(function(div, url){\n",
       "if (typeof require !== 'undefined') {\n",
       "    var baseURL = require.toUrl('').split('/').slice(0, -2).join('/');\n",
       "} else {\n",
       "    var baseURL = JSON.parse(\n",
       "        document.getElementById('jupyter-config-data').innerHTML\n",
       "    ).baseUrl.slice(0, -1);\n",
       "}\n",
       "url = baseURL + url;\n",
       "fetch(url).then(function(res) {\n",
       "    if (res.status === 404) {\n",
       "        div.innerHTML = 'Install QIIME 2 Jupyter extension with:<br />' +\n",
       "                        '<code>jupyter serverextension enable --py qiime2' +\n",
       "                        ' --sys-prefix</code><br />then restart your server.' +\n",
       "                        '<br /><br />(Interactive output not available on ' +\n",
       "                        'static notebook viewer services like nbviewer.)';\n",
       "    } else if (res.status === 409) {\n",
       "        div.innerHTML = 'Visualization no longer in scope. Re-run this cell' +\n",
       "                        ' to see the visualization.';\n",
       "    } else if (res.ok) {\n",
       "        url = res.url;\n",
       "        div.innerHTML = '<iframe src=\\'' + url + '\\' style=\\'' +\n",
       "                        'width: 100%; height: 700px; border: 0;\\'>' +\n",
       "                        '</iframe><hr />Open in a: <a href=\\'' + url + '\\'' +\n",
       "                        ' target=\\'_blank\\'>new window</a>'\n",
       "    } else {\n",
       "        div.innerHTML = 'Something has gone wrong. Check notebook server for' +\n",
       "                        ' errors.';\n",
       "    }\n",
       "});\n",
       "})(this.parentElement, '/qiime2/redirect?location=/tmp/qiime2-archive-izc3zvur')\" src=\"data:image/gif;base64,R0lGODlhAQABAIAAAP///wAAACH5BAEAAAAALAAAAAABAAEAAAICRAEAOw==\" /></div>"
      ],
      "text/plain": [
       "<visualization: Visualization uuid: c88fcbe3-303a-4835-ae2b-3c39f3cb3839>"
      ]
     },
     "execution_count": 56,
     "metadata": {},
     "output_type": "execute_result"
    }
   ],
   "source": [
    "Visualization.load(f'{data_dir}/core-metrics-results-before-day8/shannon-group-significance-numeric.qzv')"
   ]
  },
  {
   "cell_type": "code",
   "execution_count": 60,
   "id": "d8d450f4-7355-4fdf-882f-2d90a3e83e1b",
   "metadata": {
    "collapsed": true,
    "jupyter": {
     "outputs_hidden": true
    },
    "tags": []
   },
   "outputs": [
    {
     "name": "stdout",
     "output_type": "stream",
     "text": [
      "\u001b[32mSaved Visualization to: Alien_data/core-metrics-results-before-day8/faith-pd-group-significance-numeric.qzv\u001b[0m\n",
      "\u001b[0m"
     ]
    },
    {
     "data": {
      "text/html": [
       "<div><img onload=\"(function(div, url){\n",
       "if (typeof require !== 'undefined') {\n",
       "    var baseURL = require.toUrl('').split('/').slice(0, -2).join('/');\n",
       "} else {\n",
       "    var baseURL = JSON.parse(\n",
       "        document.getElementById('jupyter-config-data').innerHTML\n",
       "    ).baseUrl.slice(0, -1);\n",
       "}\n",
       "url = baseURL + url;\n",
       "fetch(url).then(function(res) {\n",
       "    if (res.status === 404) {\n",
       "        div.innerHTML = 'Install QIIME 2 Jupyter extension with:<br />' +\n",
       "                        '<code>jupyter serverextension enable --py qiime2' +\n",
       "                        ' --sys-prefix</code><br />then restart your server.' +\n",
       "                        '<br /><br />(Interactive output not available on ' +\n",
       "                        'static notebook viewer services like nbviewer.)';\n",
       "    } else if (res.status === 409) {\n",
       "        div.innerHTML = 'Visualization no longer in scope. Re-run this cell' +\n",
       "                        ' to see the visualization.';\n",
       "    } else if (res.ok) {\n",
       "        url = res.url;\n",
       "        div.innerHTML = '<iframe src=\\'' + url + '\\' style=\\'' +\n",
       "                        'width: 100%; height: 700px; border: 0;\\'>' +\n",
       "                        '</iframe><hr />Open in a: <a href=\\'' + url + '\\'' +\n",
       "                        ' target=\\'_blank\\'>new window</a>'\n",
       "    } else {\n",
       "        div.innerHTML = 'Something has gone wrong. Check notebook server for' +\n",
       "                        ' errors.';\n",
       "    }\n",
       "});\n",
       "})(this.parentElement, '/qiime2/redirect?location=/tmp/qiime2-archive-5d3gdsxs')\" src=\"data:image/gif;base64,R0lGODlhAQABAIAAAP///wAAACH5BAEAAAAALAAAAAABAAEAAAICRAEAOw==\" /></div>"
      ],
      "text/plain": [
       "<visualization: Visualization uuid: 515d80bf-dff7-441d-837a-2a35f3653434>"
      ]
     },
     "execution_count": 60,
     "metadata": {},
     "output_type": "execute_result"
    }
   ],
   "source": [
    "# faith's pd\n",
    "! qiime diversity alpha-correlation \\\n",
    "  --i-alpha-diversity $data_dir/core-metrics-results-before-day8/faith_pd_vector.qza \\\n",
    "  --m-metadata-file $data_dir/str_metadata.tsv \\\n",
    "  --o-visualization $data_dir/core-metrics-results-before-day8/faith-pd-group-significance-numeric.qzv\n",
    "\n",
    "Visualization.load(f'{data_dir}/core-metrics-results-before-day8/faith-pd-group-significance-numeric.qzv')"
   ]
  },
  {
   "cell_type": "code",
   "execution_count": 10,
   "id": "0c4c192d-5afb-497b-873c-307825d1c598",
   "metadata": {},
   "outputs": [
    {
     "name": "stdout",
     "output_type": "stream",
     "text": [
      "\u001b[32mSaved Visualization to: Alien_data/core-metrics-results-before-day8/evenness-vector-group-significance-numeric.qzv\u001b[0m\n",
      "\u001b[0m"
     ]
    }
   ],
   "source": [
    "# evenness\n",
    "! qiime diversity alpha-correlation \\\n",
    "  --i-alpha-diversity $data_dir/core-metrics-results-before-day8/evenness_vector.qza \\\n",
    "  --m-metadata-file $data_dir/str_metadata.tsv \\\n",
    "  --o-visualization $data_dir/core-metrics-results-before-day8/evenness-vector-group-significance-numeric.qzv"
   ]
  },
  {
   "cell_type": "code",
   "execution_count": 11,
   "id": "9b6e9b17-014d-42b9-887a-7cd41e801a6b",
   "metadata": {
    "collapsed": true,
    "jupyter": {
     "outputs_hidden": true
    },
    "tags": []
   },
   "outputs": [
    {
     "data": {
      "text/html": [
       "<div><img onload=\"(function(div, url){\n",
       "if (typeof require !== 'undefined') {\n",
       "    var baseURL = require.toUrl('').split('/').slice(0, -2).join('/');\n",
       "} else {\n",
       "    var baseURL = JSON.parse(\n",
       "        document.getElementById('jupyter-config-data').innerHTML\n",
       "    ).baseUrl.slice(0, -1);\n",
       "}\n",
       "url = baseURL + url;\n",
       "fetch(url).then(function(res) {\n",
       "    if (res.status === 404) {\n",
       "        div.innerHTML = 'Install QIIME 2 Jupyter extension with:<br />' +\n",
       "                        '<code>jupyter serverextension enable --py qiime2' +\n",
       "                        ' --sys-prefix</code><br />then restart your server.' +\n",
       "                        '<br /><br />(Interactive output not available on ' +\n",
       "                        'static notebook viewer services like nbviewer.)';\n",
       "    } else if (res.status === 409) {\n",
       "        div.innerHTML = 'Visualization no longer in scope. Re-run this cell' +\n",
       "                        ' to see the visualization.';\n",
       "    } else if (res.ok) {\n",
       "        url = res.url;\n",
       "        div.innerHTML = '<iframe src=\\'' + url + '\\' style=\\'' +\n",
       "                        'width: 100%; height: 700px; border: 0;\\'>' +\n",
       "                        '</iframe><hr />Open in a: <a href=\\'' + url + '\\'' +\n",
       "                        ' target=\\'_blank\\'>new window</a>'\n",
       "    } else {\n",
       "        div.innerHTML = 'Something has gone wrong. Check notebook server for' +\n",
       "                        ' errors.';\n",
       "    }\n",
       "});\n",
       "})(this.parentElement, '/qiime2/redirect?location=/tmp/qiime2-archive-37yaexco')\" src=\"data:image/gif;base64,R0lGODlhAQABAIAAAP///wAAACH5BAEAAAAALAAAAAABAAEAAAICRAEAOw==\" /></div>"
      ],
      "text/plain": [
       "<visualization: Visualization uuid: 42d53237-768d-4c77-8f56-f364fa749f6f>"
      ]
     },
     "execution_count": 11,
     "metadata": {},
     "output_type": "execute_result"
    }
   ],
   "source": [
    "Visualization.load(f'{data_dir}/core-metrics-results-before-day8/evenness-vector-group-significance-numeric.qzv')"
   ]
  },
  {
   "cell_type": "markdown",
   "id": "24ae960e-ae6d-4610-bc68-58d3bb6a8401",
   "metadata": {},
   "source": [
    "**After day 8**"
   ]
  },
  {
   "cell_type": "code",
   "execution_count": 47,
   "id": "c1daa56f-7abe-4971-b452-67e09f4f6409",
   "metadata": {},
   "outputs": [
    {
     "name": "stdout",
     "output_type": "stream",
     "text": [
      "\u001b[32mSaved FeatureTable[Frequency] to: Alien_data/after_day8_feature_table.qza\u001b[0m\n",
      "\u001b[0m"
     ]
    }
   ],
   "source": [
    "#after day 8\n",
    "! qiime feature-table filter-samples \\\n",
    "    --i-table $data_dir/table-filtered.qza \\\n",
    "    --m-metadata-file $data_dir/str_metadata.tsv \\\n",
    "    --p-where \"[day_relative_to_nearest_hct]>'8' or [day_relative_to_nearest_hct]='8'\" \\\n",
    "    --o-filtered-table $data_dir/after_day8_feature_table.qza"
   ]
  },
  {
   "cell_type": "code",
   "execution_count": 48,
   "id": "0775ff92-7410-4ada-ba77-c2b5ae41f0fe",
   "metadata": {
    "collapsed": true,
    "jupyter": {
     "outputs_hidden": true
    },
    "tags": []
   },
   "outputs": [
    {
     "name": "stdout",
     "output_type": "stream",
     "text": [
      "\u001b[32mSaved FeatureTable[Frequency] to: Alien_data/core-metrics-results-after-day8/rarefied_table.qza\u001b[0m\n",
      "\u001b[32mSaved SampleData[AlphaDiversity] to: Alien_data/core-metrics-results-after-day8/faith_pd_vector.qza\u001b[0m\n",
      "\u001b[32mSaved SampleData[AlphaDiversity] to: Alien_data/core-metrics-results-after-day8/observed_features_vector.qza\u001b[0m\n",
      "\u001b[32mSaved SampleData[AlphaDiversity] to: Alien_data/core-metrics-results-after-day8/shannon_vector.qza\u001b[0m\n",
      "\u001b[32mSaved SampleData[AlphaDiversity] to: Alien_data/core-metrics-results-after-day8/evenness_vector.qza\u001b[0m\n",
      "\u001b[32mSaved DistanceMatrix to: Alien_data/core-metrics-results-after-day8/unweighted_unifrac_distance_matrix.qza\u001b[0m\n",
      "\u001b[32mSaved DistanceMatrix to: Alien_data/core-metrics-results-after-day8/weighted_unifrac_distance_matrix.qza\u001b[0m\n",
      "\u001b[32mSaved DistanceMatrix to: Alien_data/core-metrics-results-after-day8/jaccard_distance_matrix.qza\u001b[0m\n",
      "\u001b[32mSaved DistanceMatrix to: Alien_data/core-metrics-results-after-day8/bray_curtis_distance_matrix.qza\u001b[0m\n",
      "\u001b[32mSaved PCoAResults to: Alien_data/core-metrics-results-after-day8/unweighted_unifrac_pcoa_results.qza\u001b[0m\n",
      "\u001b[32mSaved PCoAResults to: Alien_data/core-metrics-results-after-day8/weighted_unifrac_pcoa_results.qza\u001b[0m\n",
      "\u001b[32mSaved PCoAResults to: Alien_data/core-metrics-results-after-day8/jaccard_pcoa_results.qza\u001b[0m\n",
      "\u001b[32mSaved PCoAResults to: Alien_data/core-metrics-results-after-day8/bray_curtis_pcoa_results.qza\u001b[0m\n",
      "\u001b[32mSaved Visualization to: Alien_data/core-metrics-results-after-day8/unweighted_unifrac_emperor.qzv\u001b[0m\n",
      "\u001b[32mSaved Visualization to: Alien_data/core-metrics-results-after-day8/weighted_unifrac_emperor.qzv\u001b[0m\n",
      "\u001b[32mSaved Visualization to: Alien_data/core-metrics-results-after-day8/jaccard_emperor.qzv\u001b[0m\n",
      "\u001b[32mSaved Visualization to: Alien_data/core-metrics-results-after-day8/bray_curtis_emperor.qzv\u001b[0m\n",
      "\u001b[0m"
     ]
    }
   ],
   "source": [
    "! qiime diversity core-metrics-phylogenetic \\\n",
    "  --i-table $data_dir/after_day8_feature_table.qza \\\n",
    "  --i-phylogeny $data_dir/sepp-tree.qza \\\n",
    "  --m-metadata-file $data_dir/str_metadata.tsv \\\n",
    "  --p-sampling-depth 3000 \\\n",
    "  --output-dir $data_dir/core-metrics-results-after-day8"
   ]
  },
  {
   "cell_type": "code",
   "execution_count": 51,
   "id": "0466e7c3-7ffc-44bc-9cb5-5a9eb8413b79",
   "metadata": {},
   "outputs": [
    {
     "name": "stdout",
     "output_type": "stream",
     "text": [
      "\u001b[32mSaved Visualization to: Alien_data/core-metrics-results-after-day8/observed-features-group-significance-numeric.qzv\u001b[0m\n",
      "\u001b[0m"
     ]
    }
   ],
   "source": [
    "# observed_features\n",
    "! qiime diversity alpha-correlation \\\n",
    "  --i-alpha-diversity $data_dir/core-metrics-results-after-day8/observed_features_vector.qza \\\n",
    "  --m-metadata-file $data_dir/str_metadata.tsv \\\n",
    "  --o-visualization $data_dir/core-metrics-results-after-day8/observed-features-group-significance-numeric.qzv"
   ]
  },
  {
   "cell_type": "code",
   "execution_count": 52,
   "id": "6514260e-23f6-4018-a53b-dc8e6d4abed0",
   "metadata": {
    "collapsed": true,
    "jupyter": {
     "outputs_hidden": true
    },
    "tags": []
   },
   "outputs": [
    {
     "data": {
      "text/html": [
       "<div><img onload=\"(function(div, url){\n",
       "if (typeof require !== 'undefined') {\n",
       "    var baseURL = require.toUrl('').split('/').slice(0, -2).join('/');\n",
       "} else {\n",
       "    var baseURL = JSON.parse(\n",
       "        document.getElementById('jupyter-config-data').innerHTML\n",
       "    ).baseUrl.slice(0, -1);\n",
       "}\n",
       "url = baseURL + url;\n",
       "fetch(url).then(function(res) {\n",
       "    if (res.status === 404) {\n",
       "        div.innerHTML = 'Install QIIME 2 Jupyter extension with:<br />' +\n",
       "                        '<code>jupyter serverextension enable --py qiime2' +\n",
       "                        ' --sys-prefix</code><br />then restart your server.' +\n",
       "                        '<br /><br />(Interactive output not available on ' +\n",
       "                        'static notebook viewer services like nbviewer.)';\n",
       "    } else if (res.status === 409) {\n",
       "        div.innerHTML = 'Visualization no longer in scope. Re-run this cell' +\n",
       "                        ' to see the visualization.';\n",
       "    } else if (res.ok) {\n",
       "        url = res.url;\n",
       "        div.innerHTML = '<iframe src=\\'' + url + '\\' style=\\'' +\n",
       "                        'width: 100%; height: 700px; border: 0;\\'>' +\n",
       "                        '</iframe><hr />Open in a: <a href=\\'' + url + '\\'' +\n",
       "                        ' target=\\'_blank\\'>new window</a>'\n",
       "    } else {\n",
       "        div.innerHTML = 'Something has gone wrong. Check notebook server for' +\n",
       "                        ' errors.';\n",
       "    }\n",
       "});\n",
       "})(this.parentElement, '/qiime2/redirect?location=/tmp/qiime2-archive-r4ss7z4c')\" src=\"data:image/gif;base64,R0lGODlhAQABAIAAAP///wAAACH5BAEAAAAALAAAAAABAAEAAAICRAEAOw==\" /></div>"
      ],
      "text/plain": [
       "<visualization: Visualization uuid: 39d0e282-5ae0-4475-9898-c281cdd56f33>"
      ]
     },
     "execution_count": 52,
     "metadata": {},
     "output_type": "execute_result"
    }
   ],
   "source": [
    "Visualization.load(f'{data_dir}/core-metrics-results-after-day8/observed-features-group-significance-numeric.qzv')"
   ]
  },
  {
   "cell_type": "code",
   "execution_count": 5,
   "id": "8255c610-b9d9-4c97-b637-6d4956221e9b",
   "metadata": {
    "collapsed": true,
    "jupyter": {
     "outputs_hidden": true
    },
    "tags": []
   },
   "outputs": [
    {
     "name": "stdout",
     "output_type": "stream",
     "text": [
      "\u001b[32mSaved Visualization to: Alien_data/core-metrics-results-after-day8/faith-pd-group-significance-numeric.qzv\u001b[0m\n",
      "\u001b[0m"
     ]
    },
    {
     "data": {
      "text/html": [
       "<div><img onload=\"(function(div, url){\n",
       "if (typeof require !== 'undefined') {\n",
       "    var baseURL = require.toUrl('').split('/').slice(0, -2).join('/');\n",
       "} else {\n",
       "    var baseURL = JSON.parse(\n",
       "        document.getElementById('jupyter-config-data').innerHTML\n",
       "    ).baseUrl.slice(0, -1);\n",
       "}\n",
       "url = baseURL + url;\n",
       "fetch(url).then(function(res) {\n",
       "    if (res.status === 404) {\n",
       "        div.innerHTML = 'Install QIIME 2 Jupyter extension with:<br />' +\n",
       "                        '<code>jupyter serverextension enable --py qiime2' +\n",
       "                        ' --sys-prefix</code><br />then restart your server.' +\n",
       "                        '<br /><br />(Interactive output not available on ' +\n",
       "                        'static notebook viewer services like nbviewer.)';\n",
       "    } else if (res.status === 409) {\n",
       "        div.innerHTML = 'Visualization no longer in scope. Re-run this cell' +\n",
       "                        ' to see the visualization.';\n",
       "    } else if (res.ok) {\n",
       "        url = res.url;\n",
       "        div.innerHTML = '<iframe src=\\'' + url + '\\' style=\\'' +\n",
       "                        'width: 100%; height: 700px; border: 0;\\'>' +\n",
       "                        '</iframe><hr />Open in a: <a href=\\'' + url + '\\'' +\n",
       "                        ' target=\\'_blank\\'>new window</a>'\n",
       "    } else {\n",
       "        div.innerHTML = 'Something has gone wrong. Check notebook server for' +\n",
       "                        ' errors.';\n",
       "    }\n",
       "});\n",
       "})(this.parentElement, '/qiime2/redirect?location=/tmp/qiime2-archive-o6hns6de')\" src=\"data:image/gif;base64,R0lGODlhAQABAIAAAP///wAAACH5BAEAAAAALAAAAAABAAEAAAICRAEAOw==\" /></div>"
      ],
      "text/plain": [
       "<visualization: Visualization uuid: 8713e40e-9ffd-41e7-a045-7e9d772f7830>"
      ]
     },
     "execution_count": 5,
     "metadata": {},
     "output_type": "execute_result"
    }
   ],
   "source": [
    "# faith's pd\n",
    "! qiime diversity alpha-correlation \\\n",
    "  --i-alpha-diversity $data_dir/core-metrics-results-after-day8/faith_pd_vector.qza \\\n",
    "  --m-metadata-file $data_dir/str_metadata.tsv \\\n",
    "  --o-visualization $data_dir/core-metrics-results-after-day8/faith-pd-group-significance-numeric.qzv\n",
    "\n",
    "Visualization.load(f'{data_dir}/core-metrics-results-after-day8/faith-pd-group-significance-numeric.qzv')"
   ]
  },
  {
   "cell_type": "code",
   "execution_count": 49,
   "id": "78d2a902-064b-4fb4-bc81-6a9a0c9727e3",
   "metadata": {},
   "outputs": [
    {
     "name": "stdout",
     "output_type": "stream",
     "text": [
      "\u001b[32mSaved Visualization to: Alien_data/core-metrics-results-after-day8/shannon-group-significance-numeric.qzv\u001b[0m\n",
      "\u001b[0m"
     ]
    }
   ],
   "source": [
    "# shannon: significant positive correlation!!\n",
    "! qiime diversity alpha-correlation \\\n",
    "  --i-alpha-diversity $data_dir/core-metrics-results-after-day8/shannon_vector.qza \\\n",
    "  --m-metadata-file $data_dir/str_metadata.tsv \\\n",
    "  --o-visualization $data_dir/core-metrics-results-after-day8/shannon-group-significance-numeric.qzv"
   ]
  },
  {
   "cell_type": "code",
   "execution_count": 4,
   "id": "4c5bfa8f-606a-44c8-9e2f-cc4ab54acd19",
   "metadata": {
    "collapsed": true,
    "jupyter": {
     "outputs_hidden": true
    },
    "tags": []
   },
   "outputs": [
    {
     "data": {
      "text/html": [
       "<div><img onload=\"(function(div, url){\n",
       "if (typeof require !== 'undefined') {\n",
       "    var baseURL = require.toUrl('').split('/').slice(0, -2).join('/');\n",
       "} else {\n",
       "    var baseURL = JSON.parse(\n",
       "        document.getElementById('jupyter-config-data').innerHTML\n",
       "    ).baseUrl.slice(0, -1);\n",
       "}\n",
       "url = baseURL + url;\n",
       "fetch(url).then(function(res) {\n",
       "    if (res.status === 404) {\n",
       "        div.innerHTML = 'Install QIIME 2 Jupyter extension with:<br />' +\n",
       "                        '<code>jupyter serverextension enable --py qiime2' +\n",
       "                        ' --sys-prefix</code><br />then restart your server.' +\n",
       "                        '<br /><br />(Interactive output not available on ' +\n",
       "                        'static notebook viewer services like nbviewer.)';\n",
       "    } else if (res.status === 409) {\n",
       "        div.innerHTML = 'Visualization no longer in scope. Re-run this cell' +\n",
       "                        ' to see the visualization.';\n",
       "    } else if (res.ok) {\n",
       "        url = res.url;\n",
       "        div.innerHTML = '<iframe src=\\'' + url + '\\' style=\\'' +\n",
       "                        'width: 100%; height: 700px; border: 0;\\'>' +\n",
       "                        '</iframe><hr />Open in a: <a href=\\'' + url + '\\'' +\n",
       "                        ' target=\\'_blank\\'>new window</a>'\n",
       "    } else {\n",
       "        div.innerHTML = 'Something has gone wrong. Check notebook server for' +\n",
       "                        ' errors.';\n",
       "    }\n",
       "});\n",
       "})(this.parentElement, '/qiime2/redirect?location=/tmp/qiime2-archive-kl_hxvlh')\" src=\"data:image/gif;base64,R0lGODlhAQABAIAAAP///wAAACH5BAEAAAAALAAAAAABAAEAAAICRAEAOw==\" /></div>"
      ],
      "text/plain": [
       "<visualization: Visualization uuid: b88a0324-a8a1-4412-b9fd-8dddc25ce206>"
      ]
     },
     "execution_count": 4,
     "metadata": {},
     "output_type": "execute_result"
    }
   ],
   "source": [
    "Visualization.load(f'{data_dir}/core-metrics-results-after-day8/shannon-group-significance-numeric.qzv')"
   ]
  },
  {
   "cell_type": "code",
   "execution_count": 8,
   "id": "932d4ccb-01af-4775-a13c-42594561e8e5",
   "metadata": {},
   "outputs": [
    {
     "name": "stdout",
     "output_type": "stream",
     "text": [
      "\u001b[32mSaved Visualization to: Alien_data/core-metrics-results-after-day8/evenness-vector-group-significance-numeric.qzv\u001b[0m\n",
      "\u001b[0m"
     ]
    }
   ],
   "source": [
    "# evenness: significant positive correlation!!\n",
    "! qiime diversity alpha-correlation \\\n",
    "  --i-alpha-diversity $data_dir/core-metrics-results-after-day8/evenness_vector.qza \\\n",
    "  --m-metadata-file $data_dir/str_metadata.tsv \\\n",
    "  --o-visualization $data_dir/core-metrics-results-after-day8/evenness-vector-group-significance-numeric.qzv"
   ]
  },
  {
   "cell_type": "code",
   "execution_count": 9,
   "id": "749e9f24-88e9-4788-9e73-24b0a923ec3d",
   "metadata": {},
   "outputs": [
    {
     "data": {
      "text/html": [
       "<div><img onload=\"(function(div, url){\n",
       "if (typeof require !== 'undefined') {\n",
       "    var baseURL = require.toUrl('').split('/').slice(0, -2).join('/');\n",
       "} else {\n",
       "    var baseURL = JSON.parse(\n",
       "        document.getElementById('jupyter-config-data').innerHTML\n",
       "    ).baseUrl.slice(0, -1);\n",
       "}\n",
       "url = baseURL + url;\n",
       "fetch(url).then(function(res) {\n",
       "    if (res.status === 404) {\n",
       "        div.innerHTML = 'Install QIIME 2 Jupyter extension with:<br />' +\n",
       "                        '<code>jupyter serverextension enable --py qiime2' +\n",
       "                        ' --sys-prefix</code><br />then restart your server.' +\n",
       "                        '<br /><br />(Interactive output not available on ' +\n",
       "                        'static notebook viewer services like nbviewer.)';\n",
       "    } else if (res.status === 409) {\n",
       "        div.innerHTML = 'Visualization no longer in scope. Re-run this cell' +\n",
       "                        ' to see the visualization.';\n",
       "    } else if (res.ok) {\n",
       "        url = res.url;\n",
       "        div.innerHTML = '<iframe src=\\'' + url + '\\' style=\\'' +\n",
       "                        'width: 100%; height: 700px; border: 0;\\'>' +\n",
       "                        '</iframe><hr />Open in a: <a href=\\'' + url + '\\'' +\n",
       "                        ' target=\\'_blank\\'>new window</a>'\n",
       "    } else {\n",
       "        div.innerHTML = 'Something has gone wrong. Check notebook server for' +\n",
       "                        ' errors.';\n",
       "    }\n",
       "});\n",
       "})(this.parentElement, '/qiime2/redirect?location=/tmp/qiime2-archive-xk73f0xq')\" src=\"data:image/gif;base64,R0lGODlhAQABAIAAAP///wAAACH5BAEAAAAALAAAAAABAAEAAAICRAEAOw==\" /></div>"
      ],
      "text/plain": [
       "<visualization: Visualization uuid: 9509d11b-5b88-4a30-aad9-46ad27df18e9>"
      ]
     },
     "execution_count": 9,
     "metadata": {},
     "output_type": "execute_result"
    }
   ],
   "source": [
    "Visualization.load(f'{data_dir}/core-metrics-results-after-day8/evenness-vector-group-significance-numeric.qzv')"
   ]
  },
  {
   "cell_type": "code",
   "execution_count": null,
   "id": "333b8247-e7b4-4bc6-b90f-a9f523d64da3",
   "metadata": {},
   "outputs": [],
   "source": []
  }
 ],
 "metadata": {
  "kernelspec": {
   "display_name": "Python 3 (ipykernel)",
   "language": "python",
   "name": "python3"
  },
  "language_info": {
   "codemirror_mode": {
    "name": "ipython",
    "version": 3
   },
   "file_extension": ".py",
   "mimetype": "text/x-python",
   "name": "python",
   "nbconvert_exporter": "python",
   "pygments_lexer": "ipython3",
   "version": "3.8.13"
  }
 },
 "nbformat": 4,
 "nbformat_minor": 5
}
