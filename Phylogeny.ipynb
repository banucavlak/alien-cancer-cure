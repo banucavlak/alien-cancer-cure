{
 "cells": [
  {
   "cell_type": "code",
   "execution_count": null,
   "id": "b538e55f-374e-4035-8049-e15935c8a6b2",
   "metadata": {},
   "outputs": [],
   "source": [
    "# TO USE AFTER DENOISING IS FINALIZED \n",
    "# FIND TAXONOMY.QZA EQUIVALENT \n",
    "\n",
    "\n",
    "from qiime2 import Visualization\n",
    "import os\n",
    "import pandas as pd\n",
    "\n",
    "# CHANGE THIS -- add denoised data\n",
    "data = seqs-filtered.qza\n",
    "\n",
    "# Find equivalent for 'taxonomy.qza'\n",
    "\n",
    "# Data directory \n",
    "data_dir = 'phylo_data'\n",
    "if not os.path.isdir(data_dir):\n",
    "    os.makedirs(data_dir)"
   ]
  },
  {
   "cell_type": "code",
   "execution_count": null,
   "id": "4f745910-b1fe-4312-8f75-47bcbe9ccd22",
   "metadata": {},
   "outputs": [],
   "source": [
    "# Multiple Alignment\n",
    "\n",
    "! qiime alignment mafft \\\n",
    "    --i-sequences $data_dir/seqs-filtered.qza \\\n",
    "    --o-alignment $data_dir/aligned-seqs.qza"
   ]
  },
  {
   "cell_type": "code",
   "execution_count": null,
   "id": "4c3c4f21-56d0-4bbc-8a58-7916fc07a79d",
   "metadata": {},
   "outputs": [],
   "source": [
    "# Alignment Masking (removing regions w/ ambiguous aligments)\n",
    "\n",
    "! qiime alignment mask \\\n",
    "    --i-alignment $data_dir/aligned-seqs.qza \\\n",
    "    --o-masked-alignment $data_dir/masked-aligned-seqs.qza"
   ]
  },
  {
   "cell_type": "code",
   "execution_count": null,
   "id": "26c882ea-788b-4c60-b373-272d068ab909",
   "metadata": {},
   "outputs": [],
   "source": [
    "# DE NOVO Tree Construction\n",
    "\n",
    "! qiime phylogeny fasttree \\\n",
    "    --i-alignment $data_dir/masked-aligned-seqs.qza \\\n",
    "    --o-tree $data_dir/fasttree.qza\n",
    "\n",
    "! qiime phylogeny midpoint-root \\\n",
    "    --i-tree $data_dir/fasttree.qza \\\n",
    "    --o-rooted-tree $data_dir/fasttree-rooted.qza"
   ]
  },
  {
   "cell_type": "code",
   "execution_count": null,
   "id": "9d0145e3-4cca-4bb3-b162-78e9acb55d04",
   "metadata": {},
   "outputs": [],
   "source": [
    "# DE NOVO Tree Visualisation \n",
    "\n",
    "! qiime empress tree-plot \\\n",
    "    --i-tree $data_dir/fasttree-rooted.qza \\\n",
    "    --m-feature-metadata-file $taxonomy.qza \\\n",
    "    --o-visualization $data_dir/fasttree-rooted.qzv"
   ]
  },
  {
   "cell_type": "code",
   "execution_count": null,
   "id": "ce8ef49a-9533-40b9-8ed5-a06c6f03c305",
   "metadata": {},
   "outputs": [],
   "source": [
    "Visualization.load(f'{data_dir}fasttree-rooted.qzv')"
   ]
  },
  {
   "cell_type": "code",
   "execution_count": null,
   "id": "b02d3cac-0471-4db5-afba-8815cdd5f184",
   "metadata": {},
   "outputs": [],
   "source": [
    "# BOOTSRAPPING \n",
    "\n",
    "! qiime phylogeny raxml-rapid-bootstrap \\\n",
    "    --i-alignment $data_dir/masked-aligned-seqs.qza \\\n",
    "    --p-seed 1723 \\\n",
    "    --p-rapid-bootstrap-seed 9384 \\\n",
    "    --p-bootstrap-replicates 100 \\\n",
    "    --p-substitution-model GTRCAT \\\n",
    "    --p-n-threads 3 \\\n",
    "    --o-tree $data_dir/raxml-cat-bootstrap-tree.qza"
   ]
  },
  {
   "cell_type": "code",
   "execution_count": null,
   "id": "3b4275fe-271e-4841-8081-84bbf28209d2",
   "metadata": {},
   "outputs": [],
   "source": [
    "# DE NOVO - Visualize Bootstrapped Rooted Tree \n",
    "! qiime phylogeny midpoint-root \\\n",
    "    --i-tree $data_dir/raxml-cat-bootstrap-tree.qza \\\n",
    "    --o-rooted-tree $data_dir/raxml-cat-bootstrap-rooted.qza\n",
    "\n",
    "! qiime empress tree-plot \\\n",
    "    --i-tree $data_dir/raxml-cat-bootstrap-rooted.qza \\\n",
    "    --m-feature-metadata-file $data_dir/taxonomy.qza \\\n",
    "    --o-visualization $data_dir/raxml-cat-bootstrap-rooted.qzv"
   ]
  },
  {
   "cell_type": "code",
   "execution_count": null,
   "id": "4c1fb600-8b1d-40e0-94a3-ed8e19d885f1",
   "metadata": {},
   "outputs": [],
   "source": [
    "Visualization.load(f'{data_dir}/raxml-cat-bootstrap-rooted.qzv')"
   ]
  },
  {
   "cell_type": "code",
   "execution_count": null,
   "id": "49b3045f-9604-42f6-975e-fce0fa7d2323",
   "metadata": {},
   "outputs": [],
   "source": [
    "# FRAGMENT INSERTION (Frag In) Reference Tree\n",
    "\n",
    "! wget -nv -O $data_dir/sepp-refs-gg-13-8.qza https://data.qiime2.org/2021.4/common/sepp-refs-gg-13-8.qza"
   ]
  },
  {
   "cell_type": "code",
   "execution_count": null,
   "id": "2a2dd186-940b-4461-b532-00db633c5471",
   "metadata": {},
   "outputs": [],
   "source": [
    "# (slow step)\n",
    "# FRAG IN Construct Tree\n",
    "\n",
    "! qiime fragment-insertion sepp \\\n",
    "    --i-representative-sequences $data_dir/seqs-filtered.qza \\\n",
    "    --i-reference-database $data_dir/sepp-refs-gg-13-8.qza \\\n",
    "    --p-threads 2 \\\n",
    "    --o-tree $data_dir/sepp-tree.qza \\\n",
    "    --o-placements $data_dir/sepp-tree-placements.qza"
   ]
  },
  {
   "cell_type": "code",
   "execution_count": 1,
   "id": "b8a9a081-dd2e-49eb-a8d8-2e7a6e4abc56",
   "metadata": {},
   "outputs": [
    {
     "name": "stdout",
     "output_type": "stream",
     "text": [
      "\u001b[31m\u001b[1mThere was an issue with loading the file /taxonomy.qza as metadata:\n",
      "\n",
      "  Metadata file path doesn't exist, or the path points to something other than a file. Please check that the path exists, has read permissions, and points to a regular file (not a directory): /taxonomy.qza\n",
      "\n",
      "  There may be more errors present in the metadata file. To get a full report, sample/feature metadata files can be validated with Keemei: https://keemei.qiime2.org\n",
      "\n",
      "  Find details on QIIME 2 metadata requirements here: https://docs.qiime2.org/2022.2/tutorials/metadata/\u001b[0m\n",
      "\n",
      "\u001b[0m"
     ]
    }
   ],
   "source": [
    "# FRAG IN Visualize Tree\n",
    "! qiime empress tree-plot \\\n",
    "    --i-tree $data_dir/sepp-tree.qza \\\n",
    "    --m-feature-metadata-file $data_dir/taxonomy.qza \\\n",
    "    --o-visualization $data_dir/sepp-tree.qzv"
   ]
  },
  {
   "cell_type": "code",
   "execution_count": null,
   "id": "4f363c9a-5ee9-4336-b883-40f8648f4f96",
   "metadata": {},
   "outputs": [],
   "source": [
    "Visualization.load(f'{data_dir}/sepp-tree.qzv')"
   ]
  }
 ],
 "metadata": {
  "kernelspec": {
   "display_name": "Python 3 (ipykernel)",
   "language": "python",
   "name": "python3"
  },
  "language_info": {
   "codemirror_mode": {
    "name": "ipython",
    "version": 3
   },
   "file_extension": ".py",
   "mimetype": "text/x-python",
   "name": "python",
   "nbconvert_exporter": "python",
   "pygments_lexer": "ipython3",
   "version": "3.8.13"
  }
 },
 "nbformat": 4,
 "nbformat_minor": 5
}
