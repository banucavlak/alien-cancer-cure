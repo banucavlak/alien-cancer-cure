{
 "cells": [
  {
   "cell_type": "code",
   "execution_count": 7,
   "id": "b538e55f-374e-4035-8049-e15935c8a6b2",
   "metadata": {},
   "outputs": [],
   "source": [
    "from qiime2 import Visualization\n",
    "import os\n",
    "import pandas as pd\n",
    "\n",
    "# Data directory \n",
    "data_dir = 'Alien_data'\n",
    "if not os.path.isdir(data_dir):\n",
    "    os.makedirs(data_dir)"
   ]
  },
  {
   "cell_type": "code",
   "execution_count": 2,
   "id": "4f745910-b1fe-4312-8f75-47bcbe9ccd22",
   "metadata": {},
   "outputs": [
    {
     "name": "stdout",
     "output_type": "stream",
     "text": [
      "\u001b[32mSaved FeatureData[AlignedSequence] to: Alien_data/aligned-seqs.qza\u001b[0m\n",
      "\u001b[0m"
     ]
    }
   ],
   "source": [
    "# Multiple Alignment\n",
    "\n",
    "! qiime alignment mafft \\\n",
    "    --i-sequences $data_dir/rep-seqs-filtered.qza \\\n",
    "    --o-alignment $data_dir/aligned-seqs.qza"
   ]
  },
  {
   "cell_type": "code",
   "execution_count": 3,
   "id": "4c3c4f21-56d0-4bbc-8a58-7916fc07a79d",
   "metadata": {},
   "outputs": [
    {
     "name": "stdout",
     "output_type": "stream",
     "text": [
      "\u001b[32mSaved FeatureData[AlignedSequence] to: Alien_data/masked-aligned-seqs.qza\u001b[0m\n",
      "\u001b[0m"
     ]
    }
   ],
   "source": [
    "# Alignment Masking (removing regions w/ ambiguous aligments)\n",
    "\n",
    "! qiime alignment mask \\\n",
    "    --i-alignment $data_dir/aligned-seqs.qza \\\n",
    "    --o-masked-alignment $data_dir/masked-aligned-seqs.qza"
   ]
  },
  {
   "cell_type": "code",
   "execution_count": 4,
   "id": "26c882ea-788b-4c60-b373-272d068ab909",
   "metadata": {},
   "outputs": [
    {
     "name": "stdout",
     "output_type": "stream",
     "text": [
      "\u001b[32mSaved Phylogeny[Unrooted] to: Alien_data/fasttree.qza\u001b[0m\n",
      "\u001b[0m\u001b[32mSaved Phylogeny[Rooted] to: Alien_data/fasttree-rooted.qza\u001b[0m\n",
      "\u001b[0m"
     ]
    }
   ],
   "source": [
    "# DE NOVO Tree Construction\n",
    "\n",
    "! qiime phylogeny fasttree \\\n",
    "    --i-alignment $data_dir/masked-aligned-seqs.qza \\\n",
    "    --o-tree $data_dir/fasttree.qza\n",
    "\n",
    "! qiime phylogeny midpoint-root \\\n",
    "    --i-tree $data_dir/fasttree.qza \\\n",
    "    --o-rooted-tree $data_dir/fasttree-rooted.qza"
   ]
  },
  {
   "cell_type": "code",
   "execution_count": 6,
   "id": "9d0145e3-4cca-4bb3-b162-78e9acb55d04",
   "metadata": {},
   "outputs": [
    {
     "name": "stdout",
     "output_type": "stream",
     "text": [
      "\u001b[32mSaved Visualization to: Alien_data/fasttree-rooted.qzv\u001b[0m\n",
      "\u001b[0m"
     ]
    }
   ],
   "source": [
    "# DE NOVO Tree Visualisation \n",
    "\n",
    "! qiime empress tree-plot \\\n",
    "    --i-tree $data_dir/fasttree-rooted.qza \\\n",
    "    --m-feature-metadata-file $data_dir/taxonomy.qza \\\n",
    "    --o-visualization $data_dir/fasttree-rooted.qzv"
   ]
  },
  {
   "cell_type": "code",
   "execution_count": 12,
   "id": "ce8ef49a-9533-40b9-8ed5-a06c6f03c305",
   "metadata": {},
   "outputs": [
    {
     "data": {
      "text/html": [
       "<div><img onload=\"(function(div, url){\n",
       "if (typeof require !== 'undefined') {\n",
       "    var baseURL = require.toUrl('').split('/').slice(0, -2).join('/');\n",
       "} else {\n",
       "    var baseURL = JSON.parse(\n",
       "        document.getElementById('jupyter-config-data').innerHTML\n",
       "    ).baseUrl.slice(0, -1);\n",
       "}\n",
       "url = baseURL + url;\n",
       "fetch(url).then(function(res) {\n",
       "    if (res.status === 404) {\n",
       "        div.innerHTML = 'Install QIIME 2 Jupyter extension with:<br />' +\n",
       "                        '<code>jupyter serverextension enable --py qiime2' +\n",
       "                        ' --sys-prefix</code><br />then restart your server.' +\n",
       "                        '<br /><br />(Interactive output not available on ' +\n",
       "                        'static notebook viewer services like nbviewer.)';\n",
       "    } else if (res.status === 409) {\n",
       "        div.innerHTML = 'Visualization no longer in scope. Re-run this cell' +\n",
       "                        ' to see the visualization.';\n",
       "    } else if (res.ok) {\n",
       "        url = res.url;\n",
       "        div.innerHTML = '<iframe src=\\'' + url + '\\' style=\\'' +\n",
       "                        'width: 100%; height: 700px; border: 0;\\'>' +\n",
       "                        '</iframe><hr />Open in a: <a href=\\'' + url + '\\'' +\n",
       "                        ' target=\\'_blank\\'>new window</a>'\n",
       "    } else {\n",
       "        div.innerHTML = 'Something has gone wrong. Check notebook server for' +\n",
       "                        ' errors.';\n",
       "    }\n",
       "});\n",
       "})(this.parentElement, '/qiime2/redirect?location=/tmp/qiime2-archive-i4xhkk90')\" src=\"data:image/gif;base64,R0lGODlhAQABAIAAAP///wAAACH5BAEAAAAALAAAAAABAAEAAAICRAEAOw==\" /></div>"
      ],
      "text/plain": [
       "<visualization: Visualization uuid: 42bd6cbe-ff8e-4e4a-abf4-ceb6174ff7e5>"
      ]
     },
     "execution_count": 12,
     "metadata": {},
     "output_type": "execute_result"
    }
   ],
   "source": [
    "Visualization.load(f'{data_dir}/fasttree-rooted.qzv')"
   ]
  },
  {
   "cell_type": "code",
   "execution_count": 3,
   "id": "b02d3cac-0471-4db5-afba-8815cdd5f184",
   "metadata": {
    "tags": []
   },
   "outputs": [
    {
     "name": "stdout",
     "output_type": "stream",
     "text": [
      "\u001b[32mSaved Phylogeny[Unrooted] to: Alien_data/raxml-cat-bootstrap-tree.qza\u001b[0m\n",
      "\u001b[0m"
     ]
    }
   ],
   "source": [
    "# BOOTSRAPPING \n",
    "\n",
    "! qiime phylogeny raxml-rapid-bootstrap \\\n",
    "    --i-alignment $data_dir/masked-aligned-seqs.qza \\\n",
    "    --p-seed 1723 \\\n",
    "    --p-rapid-bootstrap-seed 9384 \\\n",
    "    --p-bootstrap-replicates 100 \\\n",
    "    --p-substitution-model GTRCAT \\\n",
    "    --p-n-threads 3 \\\n",
    "    --o-tree $data_dir/raxml-cat-bootstrap-tree.qza"
   ]
  },
  {
   "cell_type": "code",
   "execution_count": 8,
   "id": "a4cb0779-0dab-4c19-8b36-b3e54485c787",
   "metadata": {},
   "outputs": [
    {
     "name": "stdout",
     "output_type": "stream",
     "text": [
      "2022-10-29 11:33:49 URL:https://s3-us-west-2.amazonaws.com/qiime2-data/2021.4/common/sepp-refs-gg-13-8.qza [50161069/50161069] -> \"Alien_data/sepp-refs-gg-13-8.qza\" [1]\n"
     ]
    }
   ],
   "source": [
    "# Get reference database (Greengenes)\n",
    "! wget -nv -O $data_dir/sepp-refs-gg-13-8.qza https://data.qiime2.org/2021.4/common/sepp-refs-gg-13-8.qza"
   ]
  },
  {
   "cell_type": "code",
   "execution_count": 9,
   "id": "2a2dd186-940b-4461-b532-00db633c5471",
   "metadata": {},
   "outputs": [
    {
     "name": "stdout",
     "output_type": "stream",
     "text": [
      "\u001b[32mSaved Phylogeny[Rooted] to: Alien_data/sepp-tree.qza\u001b[0m\n",
      "\u001b[32mSaved Placements to: Alien_data/sepp-tree-placements.qza\u001b[0m\n",
      "\u001b[0m"
     ]
    }
   ],
   "source": [
    "# (slow step)\n",
    "# FRAG IN Construct Tree\n",
    "\n",
    "! qiime fragment-insertion sepp \\\n",
    "    --i-representative-sequences $data_dir/rep-seqs-filtered.qza \\\n",
    "    --i-reference-database $data_dir/sepp-refs-gg-13-8.qza \\\n",
    "    --p-threads 2 \\\n",
    "    --o-tree $data_dir/sepp-tree.qza \\\n",
    "    --o-placements $data_dir/sepp-tree-placements.qza"
   ]
  },
  {
   "cell_type": "code",
   "execution_count": 10,
   "id": "b8a9a081-dd2e-49eb-a8d8-2e7a6e4abc56",
   "metadata": {},
   "outputs": [
    {
     "name": "stdout",
     "output_type": "stream",
     "text": [
      "\u001b[32mSaved Visualization to: Alien_data/sepp-tree.qzv\u001b[0m\n",
      "\u001b[0m"
     ]
    }
   ],
   "source": [
    "# FRAG IN Visualize Tree\n",
    "! qiime empress tree-plot \\\n",
    "    --i-tree $data_dir/sepp-tree.qza \\\n",
    "    --m-feature-metadata-file $data_dir/taxonomy.qza \\\n",
    "    --o-visualization $data_dir/sepp-tree.qzv"
   ]
  },
  {
   "cell_type": "code",
   "execution_count": 11,
   "id": "4f363c9a-5ee9-4336-b883-40f8648f4f96",
   "metadata": {},
   "outputs": [
    {
     "data": {
      "text/html": [
       "<div><img onload=\"(function(div, url){\n",
       "if (typeof require !== 'undefined') {\n",
       "    var baseURL = require.toUrl('').split('/').slice(0, -2).join('/');\n",
       "} else {\n",
       "    var baseURL = JSON.parse(\n",
       "        document.getElementById('jupyter-config-data').innerHTML\n",
       "    ).baseUrl.slice(0, -1);\n",
       "}\n",
       "url = baseURL + url;\n",
       "fetch(url).then(function(res) {\n",
       "    if (res.status === 404) {\n",
       "        div.innerHTML = 'Install QIIME 2 Jupyter extension with:<br />' +\n",
       "                        '<code>jupyter serverextension enable --py qiime2' +\n",
       "                        ' --sys-prefix</code><br />then restart your server.' +\n",
       "                        '<br /><br />(Interactive output not available on ' +\n",
       "                        'static notebook viewer services like nbviewer.)';\n",
       "    } else if (res.status === 409) {\n",
       "        div.innerHTML = 'Visualization no longer in scope. Re-run this cell' +\n",
       "                        ' to see the visualization.';\n",
       "    } else if (res.ok) {\n",
       "        url = res.url;\n",
       "        div.innerHTML = '<iframe src=\\'' + url + '\\' style=\\'' +\n",
       "                        'width: 100%; height: 700px; border: 0;\\'>' +\n",
       "                        '</iframe><hr />Open in a: <a href=\\'' + url + '\\'' +\n",
       "                        ' target=\\'_blank\\'>new window</a>'\n",
       "    } else {\n",
       "        div.innerHTML = 'Something has gone wrong. Check notebook server for' +\n",
       "                        ' errors.';\n",
       "    }\n",
       "});\n",
       "})(this.parentElement, '/qiime2/redirect?location=/tmp/qiime2-archive-f8r9gdgq')\" src=\"data:image/gif;base64,R0lGODlhAQABAIAAAP///wAAACH5BAEAAAAALAAAAAABAAEAAAICRAEAOw==\" /></div>"
      ],
      "text/plain": [
       "<visualization: Visualization uuid: 68b4ef1b-331c-4899-943e-d43c83848a95>"
      ]
     },
     "execution_count": 11,
     "metadata": {},
     "output_type": "execute_result"
    }
   ],
   "source": [
    "Visualization.load(f'{data_dir}/sepp-tree.qzv')"
   ]
  },
  {
   "cell_type": "code",
   "execution_count": null,
   "id": "dcbb48ea-76cc-4784-8c34-bf5ac362f396",
   "metadata": {},
   "outputs": [],
   "source": []
  }
 ],
 "metadata": {
  "kernelspec": {
   "display_name": "Python 3 (ipykernel)",
   "language": "python",
   "name": "python3"
  },
  "language_info": {
   "codemirror_mode": {
    "name": "ipython",
    "version": 3
   },
   "file_extension": ".py",
   "mimetype": "text/x-python",
   "name": "python",
   "nbconvert_exporter": "python",
   "pygments_lexer": "ipython3",
   "version": "3.8.13"
  }
 },
 "nbformat": 4,
 "nbformat_minor": 5
}
