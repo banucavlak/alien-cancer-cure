{
 "cells": [
  {
   "cell_type": "markdown",
   "id": "e59d931c-737d-41ab-bce8-813d26dc0eb9",
   "metadata": {
    "tags": []
   },
   "source": [
    "# Taxonomy Classification\n"
   ]
  },
  {
   "cell_type": "code",
   "execution_count": 1,
   "id": "b5b244a7-b009-4f42-9f12-142b90a2e56f",
   "metadata": {},
   "outputs": [],
   "source": [
    "import os\n",
    "import pandas as pd\n",
    "from qiime2 import Visualization\n",
    "import matplotlib.pyplot as plt\n",
    "import numpy as np\n",
    "\n",
    "import qiime2 as q2\n",
    "\n",
    "%matplotlib inline"
   ]
  },
  {
   "cell_type": "code",
   "execution_count": 2,
   "id": "44283ac1-b5e6-42b1-94b8-14500891b367",
   "metadata": {},
   "outputs": [],
   "source": [
    "data_dir = '../data'\n",
    "\n",
    "if not os.path.isdir(data_dir):\n",
    "    os.makedirs(data_dir)"
   ]
  },
  {
   "cell_type": "markdown",
   "id": "ff68fd58-580f-4d10-a6cb-0c2aa424bfc2",
   "metadata": {},
   "source": [
    "### 1. Training taxonomy classifier\n",
    "\n",
    "We tried to use the silva database and train the classifers using naive bayes, but it exceeded the memory capacity by training the classifer and also by using the pre-trained Silva database, so we decided to use the pre-trained Greengene classifier. "
   ]
  },
  {
   "cell_type": "code",
   "execution_count": 3,
   "id": "dc6ed029-fd7b-456b-9904-f452fb7352ec",
   "metadata": {},
   "outputs": [],
   "source": [
    "#! qiime feature-classifier fit-classifier-naive-bayes \\\n",
    "#     --i-reference-reads $data_dir/silva-138-ssu-nr99-seqs-515f-806r-uniq.qza \\\n",
    "#     --i-reference-taxonomy $data_dir/silva-138-ssu-nr99-tax-515f-806r-derep-uniq.qza \\\n",
    "#     --p-classify--chunk-size 1000 \\\n",
    "#     --o-classifier $data_dir/515f-806r-classifier.qza"
   ]
  },
  {
   "cell_type": "code",
   "execution_count": 5,
   "id": "ca80c467-facb-4e1b-81b4-fe0e01d916f8",
   "metadata": {},
   "outputs": [
    {
     "name": "stdout",
     "output_type": "stream",
     "text": [
      "2022-12-16 20:27:35 URL:https://s3-us-west-2.amazonaws.com/qiime2-data/2022.8/common/gg-13-8-99-nb-classifier.qza [104512483/104512483] -> \"../data/taxonomy/gg-13-8-99-nb-classifier.qza\" [1]\n"
     ]
    }
   ],
   "source": [
    "! wget -nv -O $data_dir/taxonomy/gg-13-8-99-nb-classifier.qza 'https://data.qiime2.org/2022.8/common/gg-13-8-99-nb-classifier.qza'"
   ]
  },
  {
   "cell_type": "markdown",
   "id": "a35d4945-2561-4f9b-b9a0-1ffd283ee0d2",
   "metadata": {},
   "source": [
    "### 2. Taxonomy assignment\n",
    "\n",
    "We do taxonomy classification using the pre-trained classifier we downloaded above."
   ]
  },
  {
   "cell_type": "code",
   "execution_count": 6,
   "id": "f1ff2f66-264d-4099-8c9e-cc3a920215ca",
   "metadata": {},
   "outputs": [
    {
     "name": "stdout",
     "output_type": "stream",
     "text": [
      "\u001b[32mSaved FeatureData[Taxonomy] to: ../data/taxonomy/taxonomy.qza\u001b[0m\n",
      "\u001b[0m"
     ]
    }
   ],
   "source": [
    "! qiime feature-classifier classify-sklearn \\\n",
    "    --i-classifier $data_dir/taxonomy/gg-13-8-99-nb-classifier.qza \\\n",
    "    --i-reads $data_dir/denoising/dada2_rep_set.qza \\\n",
    "    --o-classification $data_dir/taxonomy/taxonomy.qza"
   ]
  },
  {
   "cell_type": "markdown",
   "id": "ba86a790-2de0-4f4c-9f31-9e5df173b158",
   "metadata": {},
   "source": [
    "### 3. Taxonomy visualization\n",
    "\n",
    "Visualize the taxonomy classifications and taxonomy classifications based on metadata"
   ]
  },
  {
   "cell_type": "code",
   "execution_count": 7,
   "id": "7ae47bd6-ae53-45ae-a2c3-201722a39bf2",
   "metadata": {},
   "outputs": [
    {
     "name": "stdout",
     "output_type": "stream",
     "text": [
      "\u001b[32mSaved Visualization to: ../data/taxonomy/taxonomy.qzv\u001b[0m\n",
      "\u001b[0m"
     ]
    }
   ],
   "source": [
    "! qiime metadata tabulate \\\n",
    "    --m-input-file $data_dir/taxonomy/taxonomy.qza \\\n",
    "    --o-visualization $data_dir/taxonomy/taxonomy.qzv"
   ]
  },
  {
   "cell_type": "code",
   "execution_count": 8,
   "id": "0d49d663-dcdd-42c0-a374-c72abbbe4e71",
   "metadata": {},
   "outputs": [
    {
     "data": {
      "text/html": [
       "<div><img onload=\"(function(div, url){\n",
       "if (typeof require !== 'undefined') {\n",
       "    var baseURL = require.toUrl('').split('/').slice(0, -2).join('/');\n",
       "} else {\n",
       "    var baseURL = JSON.parse(\n",
       "        document.getElementById('jupyter-config-data').innerHTML\n",
       "    ).baseUrl.slice(0, -1);\n",
       "}\n",
       "url = baseURL + url;\n",
       "fetch(url).then(function(res) {\n",
       "    if (res.status === 404) {\n",
       "        div.innerHTML = 'Install QIIME 2 Jupyter extension with:<br />' +\n",
       "                        '<code>jupyter serverextension enable --py qiime2' +\n",
       "                        ' --sys-prefix</code><br />then restart your server.' +\n",
       "                        '<br /><br />(Interactive output not available on ' +\n",
       "                        'static notebook viewer services like nbviewer.)';\n",
       "    } else if (res.status === 409) {\n",
       "        div.innerHTML = 'Visualization no longer in scope. Re-run this cell' +\n",
       "                        ' to see the visualization.';\n",
       "    } else if (res.ok) {\n",
       "        url = res.url;\n",
       "        div.innerHTML = '<iframe src=\\'' + url + '\\' style=\\'' +\n",
       "                        'width: 100%; height: 700px; border: 0;\\'>' +\n",
       "                        '</iframe><hr />Open in a: <a href=\\'' + url + '\\'' +\n",
       "                        ' target=\\'_blank\\'>new window</a>'\n",
       "    } else {\n",
       "        div.innerHTML = 'Something has gone wrong. Check notebook server for' +\n",
       "                        ' errors.';\n",
       "    }\n",
       "});\n",
       "})(this.parentElement, '/qiime2/redirect?location=/tmp/qiime2-archive-nbx84er_')\" src=\"data:image/gif;base64,R0lGODlhAQABAIAAAP///wAAACH5BAEAAAAALAAAAAABAAEAAAICRAEAOw==\" /></div>"
      ],
      "text/plain": [
       "<visualization: Visualization uuid: 5f32e15e-8d4f-4340-b80c-ef7a5b2f8a09>"
      ]
     },
     "execution_count": 8,
     "metadata": {},
     "output_type": "execute_result"
    }
   ],
   "source": [
    "Visualization.load(f'{data_dir}/taxonomy/taxonomy.qzv')"
   ]
  },
  {
   "cell_type": "code",
   "execution_count": 9,
   "id": "7985cb4c-9a8d-4291-be73-39349dd52551",
   "metadata": {},
   "outputs": [
    {
     "name": "stdout",
     "output_type": "stream",
     "text": [
      "\u001b[32mSaved Visualization to: ../data/taxonomy/taxa-bar-plots.qzv\u001b[0m\n",
      "\u001b[0m"
     ]
    }
   ],
   "source": [
    "! qiime taxa barplot \\\n",
    "    --i-table $data_dir/denoising/dada2_table.qza \\\n",
    "    --i-taxonomy $data_dir/taxonomy/taxonomy.qza \\\n",
    "    --m-metadata-file $data_dir/metadata/sample_metadata.tsv \\\n",
    "    --o-visualization $data_dir/taxonomy/taxa-bar-plots.qzv"
   ]
  },
  {
   "cell_type": "code",
   "execution_count": 10,
   "id": "204c55b6-c4f4-4169-b545-f325fdaf0669",
   "metadata": {},
   "outputs": [
    {
     "data": {
      "text/html": [
       "<div><img onload=\"(function(div, url){\n",
       "if (typeof require !== 'undefined') {\n",
       "    var baseURL = require.toUrl('').split('/').slice(0, -2).join('/');\n",
       "} else {\n",
       "    var baseURL = JSON.parse(\n",
       "        document.getElementById('jupyter-config-data').innerHTML\n",
       "    ).baseUrl.slice(0, -1);\n",
       "}\n",
       "url = baseURL + url;\n",
       "fetch(url).then(function(res) {\n",
       "    if (res.status === 404) {\n",
       "        div.innerHTML = 'Install QIIME 2 Jupyter extension with:<br />' +\n",
       "                        '<code>jupyter serverextension enable --py qiime2' +\n",
       "                        ' --sys-prefix</code><br />then restart your server.' +\n",
       "                        '<br /><br />(Interactive output not available on ' +\n",
       "                        'static notebook viewer services like nbviewer.)';\n",
       "    } else if (res.status === 409) {\n",
       "        div.innerHTML = 'Visualization no longer in scope. Re-run this cell' +\n",
       "                        ' to see the visualization.';\n",
       "    } else if (res.ok) {\n",
       "        url = res.url;\n",
       "        div.innerHTML = '<iframe src=\\'' + url + '\\' style=\\'' +\n",
       "                        'width: 100%; height: 700px; border: 0;\\'>' +\n",
       "                        '</iframe><hr />Open in a: <a href=\\'' + url + '\\'' +\n",
       "                        ' target=\\'_blank\\'>new window</a>'\n",
       "    } else {\n",
       "        div.innerHTML = 'Something has gone wrong. Check notebook server for' +\n",
       "                        ' errors.';\n",
       "    }\n",
       "});\n",
       "})(this.parentElement, '/qiime2/redirect?location=/tmp/qiime2-archive-ewbistmo')\" src=\"data:image/gif;base64,R0lGODlhAQABAIAAAP///wAAACH5BAEAAAAALAAAAAABAAEAAAICRAEAOw==\" /></div>"
      ],
      "text/plain": [
       "<visualization: Visualization uuid: 7045df87-b76e-4503-b29c-69b781a49db9>"
      ]
     },
     "execution_count": 10,
     "metadata": {},
     "output_type": "execute_result"
    }
   ],
   "source": [
    "Visualization.load(f'{data_dir}/taxonomy/taxa-bar-plots.qzv')"
   ]
  },
  {
   "cell_type": "markdown",
   "id": "bf52452d-3ce5-4ace-a975-faef923344fd",
   "metadata": {},
   "source": [
    "Mitochondria and chloroplast are filtered since they don't belong to the gut microbiota communities:"
   ]
  },
  {
   "cell_type": "code",
   "execution_count": 11,
   "id": "569bf0ac-135c-42ef-994e-d4b50cde24eb",
   "metadata": {},
   "outputs": [
    {
     "name": "stdout",
     "output_type": "stream",
     "text": [
      "\u001b[32mSaved FeatureTable[Frequency] to: ../data/taxonomy/table-filtered.qza\u001b[0m\n",
      "\u001b[0m"
     ]
    }
   ],
   "source": [
    "! qiime taxa filter-table \\\n",
    "    --i-table $data_dir/denoising/dada2_table.qza \\\n",
    "    --i-taxonomy $data_dir/taxonomy/taxonomy.qza \\\n",
    "    --p-exclude mitochondria,chloroplast \\\n",
    "    --o-filtered-table $data_dir/taxonomy/table-filtered.qza"
   ]
  },
  {
   "cell_type": "code",
   "execution_count": 12,
   "id": "6571fdc2-df87-4456-a968-95d7cb00eeca",
   "metadata": {
    "tags": []
   },
   "outputs": [
    {
     "name": "stdout",
     "output_type": "stream",
     "text": [
      "\u001b[32mSaved FeatureData[Sequence] to: ../data/taxonomy/taxonomy-filtered.qza\u001b[0m\n",
      "\u001b[0m"
     ]
    }
   ],
   "source": [
    "! qiime taxa filter-seqs \\\n",
    "    --i-sequences $data_dir/denoising/dada2_rep_set.qza \\\n",
    "    --i-taxonomy $data_dir/taxonomy/taxonomy.qza \\\n",
    "    --p-exclude mitochondria,chloroplast \\\n",
    "    --o-filtered-sequences $data_dir/taxonomy/taxonomy-filtered.qza"
   ]
  },
  {
   "cell_type": "markdown",
   "id": "471a2568-8f06-410f-ab1c-d0b1f888d86f",
   "metadata": {},
   "source": [
    "We visualize the taxonomies again. We observe that the number of detected taxonomies is decreased as a result of filtering."
   ]
  },
  {
   "cell_type": "code",
   "execution_count": 13,
   "id": "f1709605-e90e-4de6-9a71-c7a81ff22c03",
   "metadata": {
    "tags": []
   },
   "outputs": [
    {
     "name": "stdout",
     "output_type": "stream",
     "text": [
      "\u001b[32mSaved Visualization to: ../data/taxonomy/taxa-bar-plots_filtered.qzv\u001b[0m\n",
      "\u001b[0m"
     ]
    }
   ],
   "source": [
    "! qiime taxa barplot \\\n",
    "    --i-table $data_dir/taxonomy/table-filtered.qza \\\n",
    "    --i-taxonomy $data_dir/taxonomy/taxonomy.qza \\\n",
    "    --m-metadata-file $data_dir/metadata/sample_metadata.tsv \\\n",
    "    --o-visualization $data_dir/taxonomy/taxa-bar-plots_filtered.qzv"
   ]
  },
  {
   "cell_type": "code",
   "execution_count": 14,
   "id": "1b5dc808-db3b-4481-b58c-ace8c39dddf2",
   "metadata": {},
   "outputs": [
    {
     "data": {
      "text/html": [
       "<div><img onload=\"(function(div, url){\n",
       "if (typeof require !== 'undefined') {\n",
       "    var baseURL = require.toUrl('').split('/').slice(0, -2).join('/');\n",
       "} else {\n",
       "    var baseURL = JSON.parse(\n",
       "        document.getElementById('jupyter-config-data').innerHTML\n",
       "    ).baseUrl.slice(0, -1);\n",
       "}\n",
       "url = baseURL + url;\n",
       "fetch(url).then(function(res) {\n",
       "    if (res.status === 404) {\n",
       "        div.innerHTML = 'Install QIIME 2 Jupyter extension with:<br />' +\n",
       "                        '<code>jupyter serverextension enable --py qiime2' +\n",
       "                        ' --sys-prefix</code><br />then restart your server.' +\n",
       "                        '<br /><br />(Interactive output not available on ' +\n",
       "                        'static notebook viewer services like nbviewer.)';\n",
       "    } else if (res.status === 409) {\n",
       "        div.innerHTML = 'Visualization no longer in scope. Re-run this cell' +\n",
       "                        ' to see the visualization.';\n",
       "    } else if (res.ok) {\n",
       "        url = res.url;\n",
       "        div.innerHTML = '<iframe src=\\'' + url + '\\' style=\\'' +\n",
       "                        'width: 100%; height: 700px; border: 0;\\'>' +\n",
       "                        '</iframe><hr />Open in a: <a href=\\'' + url + '\\'' +\n",
       "                        ' target=\\'_blank\\'>new window</a>'\n",
       "    } else {\n",
       "        div.innerHTML = 'Something has gone wrong. Check notebook server for' +\n",
       "                        ' errors.';\n",
       "    }\n",
       "});\n",
       "})(this.parentElement, '/qiime2/redirect?location=/tmp/qiime2-archive-x80ok9i3')\" src=\"data:image/gif;base64,R0lGODlhAQABAIAAAP///wAAACH5BAEAAAAALAAAAAABAAEAAAICRAEAOw==\" /></div>"
      ],
      "text/plain": [
       "<visualization: Visualization uuid: 0f0566d1-ee38-468f-b5b2-a6647c636c3e>"
      ]
     },
     "execution_count": 14,
     "metadata": {},
     "output_type": "execute_result"
    }
   ],
   "source": [
    "Visualization.load(f'{data_dir}/taxonomy/taxa-bar-plots_filtered.qzv')"
   ]
  },
  {
   "cell_type": "markdown",
   "id": "ebcc9417-14cb-46d5-8837-85c5afd3477b",
   "metadata": {},
   "source": [
    "### 4. Taxonomy Analysis"
   ]
  },
  {
   "cell_type": "markdown",
   "id": "6d3b998e-34f3-48ae-a716-349cc59270d8",
   "metadata": {},
   "source": [
    "First, seperate the sample data based on whether they are abducted, and analyze the taxonomy classifications seperately for abducted and not abducted patients:"
   ]
  },
  {
   "cell_type": "code",
   "execution_count": 20,
   "id": "2856fc0f-cc95-401a-a9a6-88d55cf565b2",
   "metadata": {},
   "outputs": [
    {
     "data": {
      "text/plain": [
       "'../data/taxonomy/table-filtered_abducted.qza'"
      ]
     },
     "execution_count": 20,
     "metadata": {},
     "output_type": "execute_result"
    }
   ],
   "source": [
    "features = q2.Artifact.load(f'{data_dir}/taxonomy/table-filtered.qza')\n",
    "features_df = features.view(pd.DataFrame)\n",
    "\n",
    "df_meta = pd.read_csv(f'{data_dir}/metadata/str_metadata.tsv', sep='\\t')\n",
    "locations = df_meta[df_meta['alleged_abduction'] == 'abducted']['sampleid']\n",
    "\n",
    "features_abducted = features_df.loc[locations]\n",
    "\n",
    "features_abducted_artifact = q2.Artifact.import_data(\"FeatureTable[Frequency]\", features_abducted)\n",
    "\n",
    "features_abducted_artifact.save(f'{data_dir}/taxonomy/table-filtered_abducted.qza')"
   ]
  },
  {
   "cell_type": "code",
   "execution_count": 24,
   "id": "f581c4e6-b91e-4036-8482-d98b96e3a155",
   "metadata": {},
   "outputs": [
    {
     "data": {
      "text/plain": [
       "'../data/taxonomy/table-filtered_not_abducted.qza'"
      ]
     },
     "execution_count": 24,
     "metadata": {},
     "output_type": "execute_result"
    }
   ],
   "source": [
    "locations = df_meta[df_meta['alleged_abduction'] == 'non_abducted']['sampleid']\n",
    "\n",
    "features_not_abducted = features_df.loc[locations]\n",
    "\n",
    "features_not_abducted_artifact = q2.Artifact.import_data(\"FeatureTable[Frequency]\", features_not_abducted)\n",
    "\n",
    "features_not_abducted_artifact.save(f'{data_dir}/taxonomy/table-filtered_not_abducted.qza')"
   ]
  },
  {
   "cell_type": "markdown",
   "id": "679d0c42-d593-476e-ac04-7722098cfa7f",
   "metadata": {},
   "source": [
    "Taxonomy visualization:\n",
    "\n",
    "Based on the below two visualizations, we conclude that the taxonomic classifications is the same across the abducted and non-abducted patients"
   ]
  },
  {
   "cell_type": "code",
   "execution_count": 21,
   "id": "881c5b2d-851d-4621-87b0-9a42201a75e0",
   "metadata": {},
   "outputs": [
    {
     "name": "stdout",
     "output_type": "stream",
     "text": [
      "\u001b[32mSaved Visualization to: ../data/taxonomy/taxa-bar-plots_filtered_abducted.qzv\u001b[0m\n",
      "\u001b[0m"
     ]
    }
   ],
   "source": [
    "## abducted patients\n",
    "! qiime taxa barplot \\\n",
    "    --i-table $data_dir/taxonomy/table-filtered_abducted.qza \\\n",
    "    --i-taxonomy $data_dir/taxonomy/taxonomy.qza \\\n",
    "    --m-metadata-file $data_dir/metadata/str_metadata.tsv \\\n",
    "    --o-visualization $data_dir/taxonomy/taxa-bar-plots_filtered_abducted.qzv"
   ]
  },
  {
   "cell_type": "code",
   "execution_count": 22,
   "id": "60044fc7-7f55-47eb-8fce-e070871000fa",
   "metadata": {},
   "outputs": [
    {
     "data": {
      "text/html": [
       "<div><img onload=\"(function(div, url){\n",
       "if (typeof require !== 'undefined') {\n",
       "    var baseURL = require.toUrl('').split('/').slice(0, -2).join('/');\n",
       "} else {\n",
       "    var baseURL = JSON.parse(\n",
       "        document.getElementById('jupyter-config-data').innerHTML\n",
       "    ).baseUrl.slice(0, -1);\n",
       "}\n",
       "url = baseURL + url;\n",
       "fetch(url).then(function(res) {\n",
       "    if (res.status === 404) {\n",
       "        div.innerHTML = 'Install QIIME 2 Jupyter extension with:<br />' +\n",
       "                        '<code>jupyter serverextension enable --py qiime2' +\n",
       "                        ' --sys-prefix</code><br />then restart your server.' +\n",
       "                        '<br /><br />(Interactive output not available on ' +\n",
       "                        'static notebook viewer services like nbviewer.)';\n",
       "    } else if (res.status === 409) {\n",
       "        div.innerHTML = 'Visualization no longer in scope. Re-run this cell' +\n",
       "                        ' to see the visualization.';\n",
       "    } else if (res.ok) {\n",
       "        url = res.url;\n",
       "        div.innerHTML = '<iframe src=\\'' + url + '\\' style=\\'' +\n",
       "                        'width: 100%; height: 700px; border: 0;\\'>' +\n",
       "                        '</iframe><hr />Open in a: <a href=\\'' + url + '\\'' +\n",
       "                        ' target=\\'_blank\\'>new window</a>'\n",
       "    } else {\n",
       "        div.innerHTML = 'Something has gone wrong. Check notebook server for' +\n",
       "                        ' errors.';\n",
       "    }\n",
       "});\n",
       "})(this.parentElement, '/qiime2/redirect?location=/tmp/qiime2-archive-vzl8_4wg')\" src=\"data:image/gif;base64,R0lGODlhAQABAIAAAP///wAAACH5BAEAAAAALAAAAAABAAEAAAICRAEAOw==\" /></div>"
      ],
      "text/plain": [
       "<visualization: Visualization uuid: 9f740ff5-1399-45a3-8814-f05505fd87ce>"
      ]
     },
     "execution_count": 22,
     "metadata": {},
     "output_type": "execute_result"
    }
   ],
   "source": [
    "Visualization.load(f'{data_dir}/taxonomy/taxa-bar-plots_filtered_abducted.qzv')"
   ]
  },
  {
   "cell_type": "code",
   "execution_count": 25,
   "id": "2d90e8dd-9e5f-4360-800a-871ae47dfe04",
   "metadata": {},
   "outputs": [
    {
     "name": "stdout",
     "output_type": "stream",
     "text": [
      "\u001b[32mSaved Visualization to: ../data/taxonomy/taxa-bar-plots_filtered_not_abducted.qzv\u001b[0m\n",
      "\u001b[0m"
     ]
    }
   ],
   "source": [
    "## not abducted patients\n",
    "! qiime taxa barplot \\\n",
    "    --i-table $data_dir/taxonomy/table-filtered_not_abducted.qza \\\n",
    "    --i-taxonomy $data_dir/taxonomy/taxonomy.qza \\\n",
    "    --m-metadata-file $data_dir/metadata/str_metadata.tsv \\\n",
    "    --o-visualization $data_dir/taxonomy/taxa-bar-plots_filtered_not_abducted.qzv"
   ]
  },
  {
   "cell_type": "code",
   "execution_count": 27,
   "id": "13056c84-43e1-4c89-a1e0-fbd35a556c36",
   "metadata": {},
   "outputs": [
    {
     "data": {
      "text/html": [
       "<div><img onload=\"(function(div, url){\n",
       "if (typeof require !== 'undefined') {\n",
       "    var baseURL = require.toUrl('').split('/').slice(0, -2).join('/');\n",
       "} else {\n",
       "    var baseURL = JSON.parse(\n",
       "        document.getElementById('jupyter-config-data').innerHTML\n",
       "    ).baseUrl.slice(0, -1);\n",
       "}\n",
       "url = baseURL + url;\n",
       "fetch(url).then(function(res) {\n",
       "    if (res.status === 404) {\n",
       "        div.innerHTML = 'Install QIIME 2 Jupyter extension with:<br />' +\n",
       "                        '<code>jupyter serverextension enable --py qiime2' +\n",
       "                        ' --sys-prefix</code><br />then restart your server.' +\n",
       "                        '<br /><br />(Interactive output not available on ' +\n",
       "                        'static notebook viewer services like nbviewer.)';\n",
       "    } else if (res.status === 409) {\n",
       "        div.innerHTML = 'Visualization no longer in scope. Re-run this cell' +\n",
       "                        ' to see the visualization.';\n",
       "    } else if (res.ok) {\n",
       "        url = res.url;\n",
       "        div.innerHTML = '<iframe src=\\'' + url + '\\' style=\\'' +\n",
       "                        'width: 100%; height: 700px; border: 0;\\'>' +\n",
       "                        '</iframe><hr />Open in a: <a href=\\'' + url + '\\'' +\n",
       "                        ' target=\\'_blank\\'>new window</a>'\n",
       "    } else {\n",
       "        div.innerHTML = 'Something has gone wrong. Check notebook server for' +\n",
       "                        ' errors.';\n",
       "    }\n",
       "});\n",
       "})(this.parentElement, '/qiime2/redirect?location=/tmp/qiime2-archive-58_42sos')\" src=\"data:image/gif;base64,R0lGODlhAQABAIAAAP///wAAACH5BAEAAAAALAAAAAABAAEAAAICRAEAOw==\" /></div>"
      ],
      "text/plain": [
       "<visualization: Visualization uuid: c86d6f8e-eb5b-4010-846c-6fa05310222d>"
      ]
     },
     "execution_count": 27,
     "metadata": {},
     "output_type": "execute_result"
    }
   ],
   "source": [
    "Visualization.load(f'{data_dir}/taxonomy/taxa-bar-plots_filtered_not_abducted.qzv')"
   ]
  },
  {
   "cell_type": "code",
   "execution_count": null,
   "id": "f28cb8c1-b59c-4bb0-9c75-261ad259c2cb",
   "metadata": {},
   "outputs": [],
   "source": []
  }
 ],
 "metadata": {
  "kernelspec": {
   "display_name": "Python 3 (ipykernel)",
   "language": "python",
   "name": "python3"
  },
  "language_info": {
   "codemirror_mode": {
    "name": "ipython",
    "version": 3
   },
   "file_extension": ".py",
   "mimetype": "text/x-python",
   "name": "python",
   "nbconvert_exporter": "python",
   "pygments_lexer": "ipython3",
   "version": "3.8.13"
  }
 },
 "nbformat": 4,
 "nbformat_minor": 5
}
