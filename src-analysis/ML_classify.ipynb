{
 "cells": [
  {
   "cell_type": "markdown",
   "id": "b6447bb7-d0d4-438a-9bc4-5e1f5fc1c692",
   "metadata": {},
   "source": [
    "## Machine Learning: How well does microbial composition predict abduction status?"
   ]
  },
  {
   "cell_type": "code",
   "execution_count": 1,
   "id": "f7090d6b-8d8d-4940-805e-9256ae4813b5",
   "metadata": {},
   "outputs": [],
   "source": [
    "# Setup\n",
    "import os\n",
    "import qiime2 as q2\n",
    "import pandas as pd\n",
    "\n",
    "from qiime2 import Visualization\n",
    "\n",
    "data_dir = 'Alien_data'"
   ]
  },
  {
   "cell_type": "code",
   "execution_count": 45,
   "id": "a198336f-ec47-44a2-9db6-e9f3ffb29222",
   "metadata": {},
   "outputs": [
    {
     "name": "stdout",
     "output_type": "stream",
     "text": [
      "\u001b[32mSaved SampleEstimator[Classifier] to: Alien_data/small-RF-classifier/sample_estimator.qza\u001b[0m\n",
      "\u001b[32mSaved FeatureData[Importance] to: Alien_data/small-RF-classifier/feature_importance.qza\u001b[0m\n",
      "\u001b[32mSaved SampleData[ClassifierPredictions] to: Alien_data/small-RF-classifier/predictions.qza\u001b[0m\n",
      "\u001b[32mSaved Visualization to: Alien_data/small-RF-classifier/model_summary.qzv\u001b[0m\n",
      "\u001b[32mSaved Visualization to: Alien_data/small-RF-classifier/accuracy_results.qzv\u001b[0m\n",
      "\u001b[32mSaved SampleData[Probabilities] to: Alien_data/small-RF-classifier/probabilities.qza\u001b[0m\n",
      "\u001b[32mSaved Visualization to: Alien_data/small-RF-classifier/heatmap.qzv\u001b[0m\n",
      "\u001b[32mSaved SampleData[TrueTargets] to: Alien_data/small-RF-classifier/training_targets.qza\u001b[0m\n",
      "\u001b[32mSaved SampleData[TrueTargets] to: Alien_data/small-RF-classifier/test_targets.qza\u001b[0m\n",
      "\u001b[0m"
     ]
    }
   ],
   "source": [
    "# Classify abduction status based on microbial composition\n",
    "\n",
    "! qiime sample-classifier classify-samples \\\n",
    "  --i-table $data_dir/table-filtered.qza \\\n",
    "  --m-metadata-file $data_dir/str_metadata.tsv \\\n",
    "  --m-metadata-column alleged_abduction \\\n",
    "  --p-test-size 0.2 \\\n",
    "  --p-estimator RandomForestClassifier \\\n",
    "  --p-palette 'enigma' \\\n",
    "  --p-random-state 0 \\\n",
    "  --output-dir $data_dir/small-RF-classifier"
   ]
  },
  {
   "cell_type": "code",
   "execution_count": 46,
   "id": "15d2ba50-dea8-4547-88c8-c2e111104810",
   "metadata": {},
   "outputs": [
    {
     "data": {
      "text/html": [
       "<div><img onload=\"(function(div, url){\n",
       "if (typeof require !== 'undefined') {\n",
       "    var baseURL = require.toUrl('').split('/').slice(0, -2).join('/');\n",
       "} else {\n",
       "    var baseURL = JSON.parse(\n",
       "        document.getElementById('jupyter-config-data').innerHTML\n",
       "    ).baseUrl.slice(0, -1);\n",
       "}\n",
       "url = baseURL + url;\n",
       "fetch(url).then(function(res) {\n",
       "    if (res.status === 404) {\n",
       "        div.innerHTML = 'Install QIIME 2 Jupyter extension with:<br />' +\n",
       "                        '<code>jupyter serverextension enable --py qiime2' +\n",
       "                        ' --sys-prefix</code><br />then restart your server.' +\n",
       "                        '<br /><br />(Interactive output not available on ' +\n",
       "                        'static notebook viewer services like nbviewer.)';\n",
       "    } else if (res.status === 409) {\n",
       "        div.innerHTML = 'Visualization no longer in scope. Re-run this cell' +\n",
       "                        ' to see the visualization.';\n",
       "    } else if (res.ok) {\n",
       "        url = res.url;\n",
       "        div.innerHTML = '<iframe src=\\'' + url + '\\' style=\\'' +\n",
       "                        'width: 100%; height: 700px; border: 0;\\'>' +\n",
       "                        '</iframe><hr />Open in a: <a href=\\'' + url + '\\'' +\n",
       "                        ' target=\\'_blank\\'>new window</a>'\n",
       "    } else {\n",
       "        div.innerHTML = 'Something has gone wrong. Check notebook server for' +\n",
       "                        ' errors.';\n",
       "    }\n",
       "});\n",
       "})(this.parentElement, '/qiime2/redirect?location=/tmp/qiime2-archive-av0mw9zf')\" src=\"data:image/gif;base64,R0lGODlhAQABAIAAAP///wAAACH5BAEAAAAALAAAAAABAAEAAAICRAEAOw==\" /></div>"
      ],
      "text/plain": [
       "<visualization: Visualization uuid: e5f3cbc4-c1c2-4254-aa68-7621ef044672>"
      ]
     },
     "execution_count": 46,
     "metadata": {},
     "output_type": "execute_result"
    }
   ],
   "source": [
    "Visualization.load(f'{data_dir}/small-RF-classifier/accuracy_results.qzv')"
   ]
  },
  {
   "cell_type": "markdown",
   "id": "127edffe-7b48-48df-80e3-625b4d995bf2",
   "metadata": {},
   "source": [
    "The overall accuracy is high but not much higher than the baseline accuracy. Classifications are clearly skewed towards the \"non-abducted\" category. Almost all non-abducted samples are correctly classified, but 60% of abducted samples are misclassified as non-abducted. The high baseline accuracy is likely due to the imbalance in abducted vs non-abducted sample sizes, and the correct classification of all non-abducted samples."
   ]
  },
  {
   "cell_type": "code",
   "execution_count": 47,
   "id": "a888542b-0bd9-45f6-aa56-47d0f3468ca3",
   "metadata": {},
   "outputs": [
    {
     "name": "stdout",
     "output_type": "stream",
     "text": [
      "\u001b[32mSaved Visualization to: Alien_data/small-RF-classifier/test_predprob.qzv\u001b[0m\n",
      "\u001b[0m"
     ]
    }
   ],
   "source": [
    "# Visualize individual samples' predictions and probabilities\n",
    "\n",
    "! qiime metadata tabulate \\\n",
    "  --m-input-file $data_dir/small-RF-classifier/test_targets.qza \\\n",
    "  --m-input-file $data_dir/small-RF-classifier/predictions.qza \\\n",
    "  --m-input-file $data_dir/small-RF-classifier/probabilities.qza \\\n",
    "  --o-visualization $data_dir/small-RF-classifier/test_predprob.qzv"
   ]
  },
  {
   "cell_type": "code",
   "execution_count": 48,
   "id": "a8966318-fbab-4499-a122-9086580a705e",
   "metadata": {
    "collapsed": true,
    "jupyter": {
     "outputs_hidden": true
    },
    "tags": []
   },
   "outputs": [
    {
     "data": {
      "text/html": [
       "<div><img onload=\"(function(div, url){\n",
       "if (typeof require !== 'undefined') {\n",
       "    var baseURL = require.toUrl('').split('/').slice(0, -2).join('/');\n",
       "} else {\n",
       "    var baseURL = JSON.parse(\n",
       "        document.getElementById('jupyter-config-data').innerHTML\n",
       "    ).baseUrl.slice(0, -1);\n",
       "}\n",
       "url = baseURL + url;\n",
       "fetch(url).then(function(res) {\n",
       "    if (res.status === 404) {\n",
       "        div.innerHTML = 'Install QIIME 2 Jupyter extension with:<br />' +\n",
       "                        '<code>jupyter serverextension enable --py qiime2' +\n",
       "                        ' --sys-prefix</code><br />then restart your server.' +\n",
       "                        '<br /><br />(Interactive output not available on ' +\n",
       "                        'static notebook viewer services like nbviewer.)';\n",
       "    } else if (res.status === 409) {\n",
       "        div.innerHTML = 'Visualization no longer in scope. Re-run this cell' +\n",
       "                        ' to see the visualization.';\n",
       "    } else if (res.ok) {\n",
       "        url = res.url;\n",
       "        div.innerHTML = '<iframe src=\\'' + url + '\\' style=\\'' +\n",
       "                        'width: 100%; height: 700px; border: 0;\\'>' +\n",
       "                        '</iframe><hr />Open in a: <a href=\\'' + url + '\\'' +\n",
       "                        ' target=\\'_blank\\'>new window</a>'\n",
       "    } else {\n",
       "        div.innerHTML = 'Something has gone wrong. Check notebook server for' +\n",
       "                        ' errors.';\n",
       "    }\n",
       "});\n",
       "})(this.parentElement, '/qiime2/redirect?location=/tmp/qiime2-archive-tb_b3hfv')\" src=\"data:image/gif;base64,R0lGODlhAQABAIAAAP///wAAACH5BAEAAAAALAAAAAABAAEAAAICRAEAOw==\" /></div>"
      ],
      "text/plain": [
       "<visualization: Visualization uuid: 8daafd69-c08b-4618-8c0e-b693921d4dce>"
      ]
     },
     "execution_count": 48,
     "metadata": {},
     "output_type": "execute_result"
    }
   ],
   "source": [
    "Visualization.load(f'{data_dir}/small-RF-classifier/test_predprob.qzv')"
   ]
  },
  {
   "cell_type": "code",
   "execution_count": 49,
   "id": "c40dcafb-6272-484b-b758-ce6f300f581c",
   "metadata": {},
   "outputs": [
    {
     "name": "stdout",
     "output_type": "stream",
     "text": [
      "\u001b[32mSaved Visualization to: Alien_data/small-RF-classifier/feature_importance.qzv\u001b[0m\n",
      "\u001b[0m"
     ]
    }
   ],
   "source": [
    "# Feature importance: which microbial compositions were most important for \n",
    "#                     distinguishing abducted vs non-abducted samples?\n",
    "\n",
    "! qiime metadata tabulate \\\n",
    "    --m-input-file $data_dir/small-RF-classifier/feature_importance.qza \\\n",
    "    --o-visualization $data_dir/small-RF-classifier/feature_importance.qzv"
   ]
  },
  {
   "cell_type": "code",
   "execution_count": 50,
   "id": "af13475b-1bfd-42a0-aaa4-d7f0e3109c39",
   "metadata": {
    "collapsed": true,
    "jupyter": {
     "outputs_hidden": true
    },
    "tags": []
   },
   "outputs": [
    {
     "data": {
      "text/html": [
       "<div><img onload=\"(function(div, url){\n",
       "if (typeof require !== 'undefined') {\n",
       "    var baseURL = require.toUrl('').split('/').slice(0, -2).join('/');\n",
       "} else {\n",
       "    var baseURL = JSON.parse(\n",
       "        document.getElementById('jupyter-config-data').innerHTML\n",
       "    ).baseUrl.slice(0, -1);\n",
       "}\n",
       "url = baseURL + url;\n",
       "fetch(url).then(function(res) {\n",
       "    if (res.status === 404) {\n",
       "        div.innerHTML = 'Install QIIME 2 Jupyter extension with:<br />' +\n",
       "                        '<code>jupyter serverextension enable --py qiime2' +\n",
       "                        ' --sys-prefix</code><br />then restart your server.' +\n",
       "                        '<br /><br />(Interactive output not available on ' +\n",
       "                        'static notebook viewer services like nbviewer.)';\n",
       "    } else if (res.status === 409) {\n",
       "        div.innerHTML = 'Visualization no longer in scope. Re-run this cell' +\n",
       "                        ' to see the visualization.';\n",
       "    } else if (res.ok) {\n",
       "        url = res.url;\n",
       "        div.innerHTML = '<iframe src=\\'' + url + '\\' style=\\'' +\n",
       "                        'width: 100%; height: 700px; border: 0;\\'>' +\n",
       "                        '</iframe><hr />Open in a: <a href=\\'' + url + '\\'' +\n",
       "                        ' target=\\'_blank\\'>new window</a>'\n",
       "    } else {\n",
       "        div.innerHTML = 'Something has gone wrong. Check notebook server for' +\n",
       "                        ' errors.';\n",
       "    }\n",
       "});\n",
       "})(this.parentElement, '/qiime2/redirect?location=/tmp/qiime2-archive-u42ydqre')\" src=\"data:image/gif;base64,R0lGODlhAQABAIAAAP///wAAACH5BAEAAAAALAAAAAABAAEAAAICRAEAOw==\" /></div>"
      ],
      "text/plain": [
       "<visualization: Visualization uuid: e2fc2a30-8601-47bb-8c6f-1b04ee4b009a>"
      ]
     },
     "execution_count": 50,
     "metadata": {},
     "output_type": "execute_result"
    }
   ],
   "source": [
    "Visualization.load(f'{data_dir}/small-RF-classifier/feature_importance.qzv')"
   ]
  },
  {
   "cell_type": "code",
   "execution_count": 52,
   "id": "5bffa669-5649-4f54-aa6d-0de054240c3a",
   "metadata": {},
   "outputs": [
    {
     "name": "stdout",
     "output_type": "stream",
     "text": [
      "\u001b[32mSaved Visualization to: Alien_data/small-RF-classifier/important-feature-heatmap.qzv\u001b[0m\n",
      "\u001b[32mSaved FeatureTable[Frequency] to: Alien_data/small-RF-classifier/important-feature-table-top-20.qza\u001b[0m\n",
      "\u001b[0m"
     ]
    }
   ],
   "source": [
    "! qiime sample-classifier heatmap \\\n",
    "  --i-table $data_dir/table-filtered.qza \\\n",
    "  --i-importance $data_dir/small-RF-classifier/feature_importance.qza \\\n",
    "  --m-sample-metadata-file $data_dir/str_metadata.tsv  \\\n",
    "  --m-sample-metadata-column alleged_abduction \\\n",
    "  --p-group-samples \\\n",
    "  --p-feature-count 20 \\\n",
    "  --o-filtered-table $data_dir/small-RF-classifier/important-feature-table-top-20.qza \\\n",
    "  --o-heatmap $data_dir/small-RF-classifier/important-feature-heatmap.qzv"
   ]
  },
  {
   "cell_type": "code",
   "execution_count": 53,
   "id": "96e69575-d8c8-42e7-bede-99b3f2fd93e8",
   "metadata": {
    "tags": []
   },
   "outputs": [
    {
     "data": {
      "text/html": [
       "<div><img onload=\"(function(div, url){\n",
       "if (typeof require !== 'undefined') {\n",
       "    var baseURL = require.toUrl('').split('/').slice(0, -2).join('/');\n",
       "} else {\n",
       "    var baseURL = JSON.parse(\n",
       "        document.getElementById('jupyter-config-data').innerHTML\n",
       "    ).baseUrl.slice(0, -1);\n",
       "}\n",
       "url = baseURL + url;\n",
       "fetch(url).then(function(res) {\n",
       "    if (res.status === 404) {\n",
       "        div.innerHTML = 'Install QIIME 2 Jupyter extension with:<br />' +\n",
       "                        '<code>jupyter serverextension enable --py qiime2' +\n",
       "                        ' --sys-prefix</code><br />then restart your server.' +\n",
       "                        '<br /><br />(Interactive output not available on ' +\n",
       "                        'static notebook viewer services like nbviewer.)';\n",
       "    } else if (res.status === 409) {\n",
       "        div.innerHTML = 'Visualization no longer in scope. Re-run this cell' +\n",
       "                        ' to see the visualization.';\n",
       "    } else if (res.ok) {\n",
       "        url = res.url;\n",
       "        div.innerHTML = '<iframe src=\\'' + url + '\\' style=\\'' +\n",
       "                        'width: 100%; height: 700px; border: 0;\\'>' +\n",
       "                        '</iframe><hr />Open in a: <a href=\\'' + url + '\\'' +\n",
       "                        ' target=\\'_blank\\'>new window</a>'\n",
       "    } else {\n",
       "        div.innerHTML = 'Something has gone wrong. Check notebook server for' +\n",
       "                        ' errors.';\n",
       "    }\n",
       "});\n",
       "})(this.parentElement, '/qiime2/redirect?location=/tmp/qiime2-archive-k0wzm3fx')\" src=\"data:image/gif;base64,R0lGODlhAQABAIAAAP///wAAACH5BAEAAAAALAAAAAABAAEAAAICRAEAOw==\" /></div>"
      ],
      "text/plain": [
       "<visualization: Visualization uuid: 5e5afad0-521d-485f-8fc7-ffe21920cef4>"
      ]
     },
     "execution_count": 53,
     "metadata": {},
     "output_type": "execute_result"
    }
   ],
   "source": [
    "Visualization.load(f'{data_dir}/small-RF-classifier/important-feature-heatmap.qzv')"
   ]
  },
  {
   "cell_type": "markdown",
   "id": "522225cf-1396-4008-ab8f-3d67bf6e93e0",
   "metadata": {},
   "source": [
    "### Repeat with Optimized Feature Selection\n",
    "\n",
    "(Had no effect on accuracy)"
   ]
  },
  {
   "cell_type": "code",
   "execution_count": 54,
   "id": "99ee649d-3a6c-4738-8f0b-4ed03827c616",
   "metadata": {},
   "outputs": [
    {
     "name": "stdout",
     "output_type": "stream",
     "text": [
      "\u001b[32mSaved SampleEstimator[Classifier] to: Alien_data/RF-opt-feature-selection/sample_estimator.qza\u001b[0m\n",
      "\u001b[32mSaved FeatureData[Importance] to: Alien_data/RF-opt-feature-selection/feature_importance.qza\u001b[0m\n",
      "\u001b[32mSaved SampleData[ClassifierPredictions] to: Alien_data/RF-opt-feature-selection/predictions.qza\u001b[0m\n",
      "\u001b[32mSaved Visualization to: Alien_data/RF-opt-feature-selection/model_summary.qzv\u001b[0m\n",
      "\u001b[32mSaved Visualization to: Alien_data/RF-opt-feature-selection/accuracy_results.qzv\u001b[0m\n",
      "\u001b[32mSaved SampleData[Probabilities] to: Alien_data/RF-opt-feature-selection/probabilities.qza\u001b[0m\n",
      "\u001b[32mSaved Visualization to: Alien_data/RF-opt-feature-selection/heatmap.qzv\u001b[0m\n",
      "\u001b[32mSaved SampleData[TrueTargets] to: Alien_data/RF-opt-feature-selection/training_targets.qza\u001b[0m\n",
      "\u001b[32mSaved SampleData[TrueTargets] to: Alien_data/RF-opt-feature-selection/test_targets.qza\u001b[0m\n",
      "\u001b[0m"
     ]
    }
   ],
   "source": [
    "# Classify abduction status based on microbial composition\n",
    "\n",
    "! qiime sample-classifier classify-samples \\\n",
    "  --i-table $data_dir/table-filtered.qza \\\n",
    "  --m-metadata-file $data_dir/str_metadata.tsv \\\n",
    "  --m-metadata-column alleged_abduction \\\n",
    "  --p-test-size 0.2 \\\n",
    "  --p-estimator RandomForestClassifier \\\n",
    "  --p-optimize-feature-selection \\\n",
    "  --p-palette 'enigma' \\\n",
    "  --p-random-state 0 \\\n",
    "  --output-dir $data_dir/RF-opt-feature-selection"
   ]
  },
  {
   "cell_type": "code",
   "execution_count": 55,
   "id": "6ccb8d84-c075-4875-a30a-2bc24431cf9e",
   "metadata": {},
   "outputs": [
    {
     "data": {
      "text/html": [
       "<div><img onload=\"(function(div, url){\n",
       "if (typeof require !== 'undefined') {\n",
       "    var baseURL = require.toUrl('').split('/').slice(0, -2).join('/');\n",
       "} else {\n",
       "    var baseURL = JSON.parse(\n",
       "        document.getElementById('jupyter-config-data').innerHTML\n",
       "    ).baseUrl.slice(0, -1);\n",
       "}\n",
       "url = baseURL + url;\n",
       "fetch(url).then(function(res) {\n",
       "    if (res.status === 404) {\n",
       "        div.innerHTML = 'Install QIIME 2 Jupyter extension with:<br />' +\n",
       "                        '<code>jupyter serverextension enable --py qiime2' +\n",
       "                        ' --sys-prefix</code><br />then restart your server.' +\n",
       "                        '<br /><br />(Interactive output not available on ' +\n",
       "                        'static notebook viewer services like nbviewer.)';\n",
       "    } else if (res.status === 409) {\n",
       "        div.innerHTML = 'Visualization no longer in scope. Re-run this cell' +\n",
       "                        ' to see the visualization.';\n",
       "    } else if (res.ok) {\n",
       "        url = res.url;\n",
       "        div.innerHTML = '<iframe src=\\'' + url + '\\' style=\\'' +\n",
       "                        'width: 100%; height: 700px; border: 0;\\'>' +\n",
       "                        '</iframe><hr />Open in a: <a href=\\'' + url + '\\'' +\n",
       "                        ' target=\\'_blank\\'>new window</a>'\n",
       "    } else {\n",
       "        div.innerHTML = 'Something has gone wrong. Check notebook server for' +\n",
       "                        ' errors.';\n",
       "    }\n",
       "});\n",
       "})(this.parentElement, '/qiime2/redirect?location=/tmp/qiime2-archive-imet4uph')\" src=\"data:image/gif;base64,R0lGODlhAQABAIAAAP///wAAACH5BAEAAAAALAAAAAABAAEAAAICRAEAOw==\" /></div>"
      ],
      "text/plain": [
       "<visualization: Visualization uuid: 219c9329-6859-49e3-bef4-64492d11a54e>"
      ]
     },
     "execution_count": 55,
     "metadata": {},
     "output_type": "execute_result"
    }
   ],
   "source": [
    "Visualization.load(f'{data_dir}/RF-opt-feature-selection/accuracy_results.qzv')"
   ]
  },
  {
   "cell_type": "markdown",
   "id": "e9d4654d-3b07-4d96-8228-9ee7107bb58d",
   "metadata": {},
   "source": [
    "### Repeat with Parameter Tuning\n",
    "\n",
    "Does parameter tuning improve the model's accuracy? No effect."
   ]
  },
  {
   "cell_type": "code",
   "execution_count": 57,
   "id": "5941c87d-a4ac-47d3-8110-c10bcac33c0d",
   "metadata": {},
   "outputs": [
    {
     "name": "stdout",
     "output_type": "stream",
     "text": [
      "\u001b[32mSaved SampleEstimator[Classifier] to: Alien_data/RF-param-tuning/sample_estimator.qza\u001b[0m\n",
      "\u001b[32mSaved FeatureData[Importance] to: Alien_data/RF-param-tuning/feature_importance.qza\u001b[0m\n",
      "\u001b[32mSaved SampleData[ClassifierPredictions] to: Alien_data/RF-param-tuning/predictions.qza\u001b[0m\n",
      "\u001b[32mSaved Visualization to: Alien_data/RF-param-tuning/model_summary.qzv\u001b[0m\n",
      "\u001b[32mSaved Visualization to: Alien_data/RF-param-tuning/accuracy_results.qzv\u001b[0m\n",
      "\u001b[32mSaved SampleData[Probabilities] to: Alien_data/RF-param-tuning/probabilities.qza\u001b[0m\n",
      "\u001b[32mSaved Visualization to: Alien_data/RF-param-tuning/heatmap.qzv\u001b[0m\n",
      "\u001b[32mSaved SampleData[TrueTargets] to: Alien_data/RF-param-tuning/training_targets.qza\u001b[0m\n",
      "\u001b[32mSaved SampleData[TrueTargets] to: Alien_data/RF-param-tuning/test_targets.qza\u001b[0m\n",
      "\u001b[0m"
     ]
    }
   ],
   "source": [
    "! qiime sample-classifier classify-samples \\\n",
    "  --i-table $data_dir/table-filtered.qza \\\n",
    "  --m-metadata-file $data_dir/str_metadata.tsv \\\n",
    "  --m-metadata-column alleged_abduction \\\n",
    "  --p-test-size 0.2 \\\n",
    "  --p-optimize-feature-selection \\\n",
    "  --p-parameter-tuning \\\n",
    "  --p-estimator RandomForestClassifier \\\n",
    "  --p-palette 'enigma' \\\n",
    "  --p-random-state 0 \\\n",
    "  --output-dir $data_dir/RF-param-tuning"
   ]
  },
  {
   "cell_type": "code",
   "execution_count": 58,
   "id": "99090f4a-2bc3-4dea-be24-90fdf33225f8",
   "metadata": {},
   "outputs": [
    {
     "data": {
      "text/html": [
       "<div><img onload=\"(function(div, url){\n",
       "if (typeof require !== 'undefined') {\n",
       "    var baseURL = require.toUrl('').split('/').slice(0, -2).join('/');\n",
       "} else {\n",
       "    var baseURL = JSON.parse(\n",
       "        document.getElementById('jupyter-config-data').innerHTML\n",
       "    ).baseUrl.slice(0, -1);\n",
       "}\n",
       "url = baseURL + url;\n",
       "fetch(url).then(function(res) {\n",
       "    if (res.status === 404) {\n",
       "        div.innerHTML = 'Install QIIME 2 Jupyter extension with:<br />' +\n",
       "                        '<code>jupyter serverextension enable --py qiime2' +\n",
       "                        ' --sys-prefix</code><br />then restart your server.' +\n",
       "                        '<br /><br />(Interactive output not available on ' +\n",
       "                        'static notebook viewer services like nbviewer.)';\n",
       "    } else if (res.status === 409) {\n",
       "        div.innerHTML = 'Visualization no longer in scope. Re-run this cell' +\n",
       "                        ' to see the visualization.';\n",
       "    } else if (res.ok) {\n",
       "        url = res.url;\n",
       "        div.innerHTML = '<iframe src=\\'' + url + '\\' style=\\'' +\n",
       "                        'width: 100%; height: 700px; border: 0;\\'>' +\n",
       "                        '</iframe><hr />Open in a: <a href=\\'' + url + '\\'' +\n",
       "                        ' target=\\'_blank\\'>new window</a>'\n",
       "    } else {\n",
       "        div.innerHTML = 'Something has gone wrong. Check notebook server for' +\n",
       "                        ' errors.';\n",
       "    }\n",
       "});\n",
       "})(this.parentElement, '/qiime2/redirect?location=/tmp/qiime2-archive-qrqlo1i9')\" src=\"data:image/gif;base64,R0lGODlhAQABAIAAAP///wAAACH5BAEAAAAALAAAAAABAAEAAAICRAEAOw==\" /></div>"
      ],
      "text/plain": [
       "<visualization: Visualization uuid: 48e82f25-bc2d-445c-a7e5-4177f03c28b1>"
      ]
     },
     "execution_count": 58,
     "metadata": {},
     "output_type": "execute_result"
    }
   ],
   "source": [
    "Visualization.load(f'{data_dir}/RF-param-tuning/accuracy_results.qzv')"
   ]
  },
  {
   "cell_type": "markdown",
   "id": "b1d2496d-6428-427e-80fd-f2b96af63e7f",
   "metadata": {},
   "source": [
    "### Repeat with More Estimators (more trees)\n",
    "Does increasing the number of trees improve the model's accuracy?\n",
    "(Default is 100 trees, here trying 300 and 500) Neither improved overall accuracy."
   ]
  },
  {
   "cell_type": "code",
   "execution_count": 63,
   "id": "e7f266cb-3678-47d8-9852-0251c976b0d7",
   "metadata": {},
   "outputs": [
    {
     "name": "stdout",
     "output_type": "stream",
     "text": [
      "\u001b[32mSaved SampleEstimator[Classifier] to: Alien_data/RF-threehundred-trees/sample_estimator.qza\u001b[0m\n",
      "\u001b[32mSaved FeatureData[Importance] to: Alien_data/RF-threehundred-trees/feature_importance.qza\u001b[0m\n",
      "\u001b[32mSaved SampleData[ClassifierPredictions] to: Alien_data/RF-threehundred-trees/predictions.qza\u001b[0m\n",
      "\u001b[32mSaved Visualization to: Alien_data/RF-threehundred-trees/model_summary.qzv\u001b[0m\n",
      "\u001b[32mSaved Visualization to: Alien_data/RF-threehundred-trees/accuracy_results.qzv\u001b[0m\n",
      "\u001b[32mSaved SampleData[Probabilities] to: Alien_data/RF-threehundred-trees/probabilities.qza\u001b[0m\n",
      "\u001b[32mSaved Visualization to: Alien_data/RF-threehundred-trees/heatmap.qzv\u001b[0m\n",
      "\u001b[32mSaved SampleData[TrueTargets] to: Alien_data/RF-threehundred-trees/training_targets.qza\u001b[0m\n",
      "\u001b[32mSaved SampleData[TrueTargets] to: Alien_data/RF-threehundred-trees/test_targets.qza\u001b[0m\n",
      "\u001b[0m"
     ]
    }
   ],
   "source": [
    "! qiime sample-classifier classify-samples \\\n",
    "  --i-table $data_dir/table-filtered.qza \\\n",
    "  --m-metadata-file $data_dir/str_metadata.tsv \\\n",
    "  --m-metadata-column alleged_abduction \\\n",
    "  --p-test-size 0.2 \\\n",
    "  --p-estimator RandomForestClassifier \\\n",
    "  --p-optimize-feature-selection \\\n",
    "  --p-parameter-tuning \\\n",
    "  --p-n-estimators 300 \\\n",
    "  --p-palette 'enigma' \\\n",
    "  --p-random-state 0 \\\n",
    "  --output-dir $data_dir/RF-threehundred-trees"
   ]
  },
  {
   "cell_type": "code",
   "execution_count": 64,
   "id": "01c61b51-8eda-43b4-b275-d927dff70dfb",
   "metadata": {},
   "outputs": [
    {
     "data": {
      "text/html": [
       "<div><img onload=\"(function(div, url){\n",
       "if (typeof require !== 'undefined') {\n",
       "    var baseURL = require.toUrl('').split('/').slice(0, -2).join('/');\n",
       "} else {\n",
       "    var baseURL = JSON.parse(\n",
       "        document.getElementById('jupyter-config-data').innerHTML\n",
       "    ).baseUrl.slice(0, -1);\n",
       "}\n",
       "url = baseURL + url;\n",
       "fetch(url).then(function(res) {\n",
       "    if (res.status === 404) {\n",
       "        div.innerHTML = 'Install QIIME 2 Jupyter extension with:<br />' +\n",
       "                        '<code>jupyter serverextension enable --py qiime2' +\n",
       "                        ' --sys-prefix</code><br />then restart your server.' +\n",
       "                        '<br /><br />(Interactive output not available on ' +\n",
       "                        'static notebook viewer services like nbviewer.)';\n",
       "    } else if (res.status === 409) {\n",
       "        div.innerHTML = 'Visualization no longer in scope. Re-run this cell' +\n",
       "                        ' to see the visualization.';\n",
       "    } else if (res.ok) {\n",
       "        url = res.url;\n",
       "        div.innerHTML = '<iframe src=\\'' + url + '\\' style=\\'' +\n",
       "                        'width: 100%; height: 700px; border: 0;\\'>' +\n",
       "                        '</iframe><hr />Open in a: <a href=\\'' + url + '\\'' +\n",
       "                        ' target=\\'_blank\\'>new window</a>'\n",
       "    } else {\n",
       "        div.innerHTML = 'Something has gone wrong. Check notebook server for' +\n",
       "                        ' errors.';\n",
       "    }\n",
       "});\n",
       "})(this.parentElement, '/qiime2/redirect?location=/tmp/qiime2-archive-xzqzrcwg')\" src=\"data:image/gif;base64,R0lGODlhAQABAIAAAP///wAAACH5BAEAAAAALAAAAAABAAEAAAICRAEAOw==\" /></div>"
      ],
      "text/plain": [
       "<visualization: Visualization uuid: 2ff495ac-aebe-407b-9480-4e5333c4774e>"
      ]
     },
     "execution_count": 64,
     "metadata": {},
     "output_type": "execute_result"
    }
   ],
   "source": [
    "Visualization.load(f'{data_dir}/RF-threehundred-trees/accuracy_results.qzv')"
   ]
  },
  {
   "cell_type": "code",
   "execution_count": 61,
   "id": "49d9e129-ec06-42f0-8f7a-67c003677fb0",
   "metadata": {},
   "outputs": [
    {
     "name": "stdout",
     "output_type": "stream",
     "text": [
      "\u001b[32mSaved SampleEstimator[Classifier] to: Alien_data/RF-fivehundred-trees/sample_estimator.qza\u001b[0m\n",
      "\u001b[32mSaved FeatureData[Importance] to: Alien_data/RF-fivehundred-trees/feature_importance.qza\u001b[0m\n",
      "\u001b[32mSaved SampleData[ClassifierPredictions] to: Alien_data/RF-fivehundred-trees/predictions.qza\u001b[0m\n",
      "\u001b[32mSaved Visualization to: Alien_data/RF-fivehundred-trees/model_summary.qzv\u001b[0m\n",
      "\u001b[32mSaved Visualization to: Alien_data/RF-fivehundred-trees/accuracy_results.qzv\u001b[0m\n",
      "\u001b[32mSaved SampleData[Probabilities] to: Alien_data/RF-fivehundred-trees/probabilities.qza\u001b[0m\n",
      "\u001b[32mSaved Visualization to: Alien_data/RF-fivehundred-trees/heatmap.qzv\u001b[0m\n",
      "\u001b[32mSaved SampleData[TrueTargets] to: Alien_data/RF-fivehundred-trees/training_targets.qza\u001b[0m\n",
      "\u001b[32mSaved SampleData[TrueTargets] to: Alien_data/RF-fivehundred-trees/test_targets.qza\u001b[0m\n",
      "\u001b[0m"
     ]
    }
   ],
   "source": [
    "! qiime sample-classifier classify-samples \\\n",
    "  --i-table $data_dir/table-filtered.qza \\\n",
    "  --m-metadata-file $data_dir/str_metadata.tsv \\\n",
    "  --m-metadata-column alleged_abduction \\\n",
    "  --p-test-size 0.2 \\\n",
    "  --p-estimator RandomForestClassifier \\\n",
    "  --p-optimize-feature-selection \\\n",
    "  --p-parameter-tuning \\\n",
    "  --p-n-estimators 500 \\\n",
    "  --p-palette 'enigma' \\\n",
    "  --p-random-state 0 \\\n",
    "  --output-dir $data_dir/RF-fivehundred-trees"
   ]
  },
  {
   "cell_type": "code",
   "execution_count": 62,
   "id": "4cc33498-af73-4e8e-be9e-18f61105e67f",
   "metadata": {},
   "outputs": [
    {
     "data": {
      "text/html": [
       "<div><img onload=\"(function(div, url){\n",
       "if (typeof require !== 'undefined') {\n",
       "    var baseURL = require.toUrl('').split('/').slice(0, -2).join('/');\n",
       "} else {\n",
       "    var baseURL = JSON.parse(\n",
       "        document.getElementById('jupyter-config-data').innerHTML\n",
       "    ).baseUrl.slice(0, -1);\n",
       "}\n",
       "url = baseURL + url;\n",
       "fetch(url).then(function(res) {\n",
       "    if (res.status === 404) {\n",
       "        div.innerHTML = 'Install QIIME 2 Jupyter extension with:<br />' +\n",
       "                        '<code>jupyter serverextension enable --py qiime2' +\n",
       "                        ' --sys-prefix</code><br />then restart your server.' +\n",
       "                        '<br /><br />(Interactive output not available on ' +\n",
       "                        'static notebook viewer services like nbviewer.)';\n",
       "    } else if (res.status === 409) {\n",
       "        div.innerHTML = 'Visualization no longer in scope. Re-run this cell' +\n",
       "                        ' to see the visualization.';\n",
       "    } else if (res.ok) {\n",
       "        url = res.url;\n",
       "        div.innerHTML = '<iframe src=\\'' + url + '\\' style=\\'' +\n",
       "                        'width: 100%; height: 700px; border: 0;\\'>' +\n",
       "                        '</iframe><hr />Open in a: <a href=\\'' + url + '\\'' +\n",
       "                        ' target=\\'_blank\\'>new window</a>'\n",
       "    } else {\n",
       "        div.innerHTML = 'Something has gone wrong. Check notebook server for' +\n",
       "                        ' errors.';\n",
       "    }\n",
       "});\n",
       "})(this.parentElement, '/qiime2/redirect?location=/tmp/qiime2-archive-04z86ml4')\" src=\"data:image/gif;base64,R0lGODlhAQABAIAAAP///wAAACH5BAEAAAAALAAAAAABAAEAAAICRAEAOw==\" /></div>"
      ],
      "text/plain": [
       "<visualization: Visualization uuid: 3387f92f-7e61-4370-bb3f-159147793ddf>"
      ]
     },
     "execution_count": 62,
     "metadata": {},
     "output_type": "execute_result"
    }
   ],
   "source": [
    "Visualization.load(f'{data_dir}/RF-fivehundred-trees/accuracy_results.qzv')"
   ]
  },
  {
   "cell_type": "markdown",
   "id": "a948e296-ff5c-419f-a9e9-c1c4bb9eec3b",
   "metadata": {},
   "source": [
    "### Repeat with fewer and more folds (cross-validation)\n",
    "Default is 5, try 3 and 10. All with 500 trees. Again no effect."
   ]
  },
  {
   "cell_type": "code",
   "execution_count": 65,
   "id": "8cad2998-5144-493f-9fc5-d67e728300c1",
   "metadata": {
    "tags": []
   },
   "outputs": [
    {
     "name": "stdout",
     "output_type": "stream",
     "text": [
      "\u001b[32mSaved SampleEstimator[Classifier] to: Alien_data/RF-three-fold/sample_estimator.qza\u001b[0m\n",
      "\u001b[32mSaved FeatureData[Importance] to: Alien_data/RF-three-fold/feature_importance.qza\u001b[0m\n",
      "\u001b[32mSaved SampleData[ClassifierPredictions] to: Alien_data/RF-three-fold/predictions.qza\u001b[0m\n",
      "\u001b[32mSaved Visualization to: Alien_data/RF-three-fold/model_summary.qzv\u001b[0m\n",
      "\u001b[32mSaved Visualization to: Alien_data/RF-three-fold/accuracy_results.qzv\u001b[0m\n",
      "\u001b[32mSaved SampleData[Probabilities] to: Alien_data/RF-three-fold/probabilities.qza\u001b[0m\n",
      "\u001b[32mSaved Visualization to: Alien_data/RF-three-fold/heatmap.qzv\u001b[0m\n",
      "\u001b[32mSaved SampleData[TrueTargets] to: Alien_data/RF-three-fold/training_targets.qza\u001b[0m\n",
      "\u001b[32mSaved SampleData[TrueTargets] to: Alien_data/RF-three-fold/test_targets.qza\u001b[0m\n",
      "\u001b[0m"
     ]
    }
   ],
   "source": [
    "! qiime sample-classifier classify-samples \\\n",
    "  --i-table $data_dir/table-filtered.qza \\\n",
    "  --m-metadata-file $data_dir/str_metadata.tsv \\\n",
    "  --m-metadata-column alleged_abduction \\\n",
    "  --p-test-size 0.2 \\\n",
    "  --p-estimator RandomForestClassifier \\\n",
    "  --p-optimize-feature-selection \\\n",
    "  --p-parameter-tuning \\\n",
    "  --p-n-estimators 500 \\\n",
    "  --p-cv 3 \\\n",
    "  --p-palette 'enigma' \\\n",
    "  --p-random-state 0 \\\n",
    "  --output-dir $data_dir/RF-three-fold"
   ]
  },
  {
   "cell_type": "code",
   "execution_count": 66,
   "id": "afc84254-e511-4267-8d68-f850c43a1931",
   "metadata": {
    "tags": []
   },
   "outputs": [
    {
     "data": {
      "text/html": [
       "<div><img onload=\"(function(div, url){\n",
       "if (typeof require !== 'undefined') {\n",
       "    var baseURL = require.toUrl('').split('/').slice(0, -2).join('/');\n",
       "} else {\n",
       "    var baseURL = JSON.parse(\n",
       "        document.getElementById('jupyter-config-data').innerHTML\n",
       "    ).baseUrl.slice(0, -1);\n",
       "}\n",
       "url = baseURL + url;\n",
       "fetch(url).then(function(res) {\n",
       "    if (res.status === 404) {\n",
       "        div.innerHTML = 'Install QIIME 2 Jupyter extension with:<br />' +\n",
       "                        '<code>jupyter serverextension enable --py qiime2' +\n",
       "                        ' --sys-prefix</code><br />then restart your server.' +\n",
       "                        '<br /><br />(Interactive output not available on ' +\n",
       "                        'static notebook viewer services like nbviewer.)';\n",
       "    } else if (res.status === 409) {\n",
       "        div.innerHTML = 'Visualization no longer in scope. Re-run this cell' +\n",
       "                        ' to see the visualization.';\n",
       "    } else if (res.ok) {\n",
       "        url = res.url;\n",
       "        div.innerHTML = '<iframe src=\\'' + url + '\\' style=\\'' +\n",
       "                        'width: 100%; height: 700px; border: 0;\\'>' +\n",
       "                        '</iframe><hr />Open in a: <a href=\\'' + url + '\\'' +\n",
       "                        ' target=\\'_blank\\'>new window</a>'\n",
       "    } else {\n",
       "        div.innerHTML = 'Something has gone wrong. Check notebook server for' +\n",
       "                        ' errors.';\n",
       "    }\n",
       "});\n",
       "})(this.parentElement, '/qiime2/redirect?location=/tmp/qiime2-archive-j4l1hwwz')\" src=\"data:image/gif;base64,R0lGODlhAQABAIAAAP///wAAACH5BAEAAAAALAAAAAABAAEAAAICRAEAOw==\" /></div>"
      ],
      "text/plain": [
       "<visualization: Visualization uuid: 10e025d4-f1b0-4bd3-b4db-04e3a73ceed7>"
      ]
     },
     "execution_count": 66,
     "metadata": {},
     "output_type": "execute_result"
    }
   ],
   "source": [
    "Visualization.load(f'{data_dir}/RF-three-fold/accuracy_results.qzv')"
   ]
  },
  {
   "cell_type": "code",
   "execution_count": 71,
   "id": "9abb390d-0c36-4ff5-8f49-0745c4ce578e",
   "metadata": {
    "tags": []
   },
   "outputs": [
    {
     "name": "stdout",
     "output_type": "stream",
     "text": [
      "\u001b[32mSaved SampleEstimator[Classifier] to: Alien_data/RF-ten-fold/sample_estimator.qza\u001b[0m\n",
      "\u001b[32mSaved FeatureData[Importance] to: Alien_data/RF-ten-fold/feature_importance.qza\u001b[0m\n",
      "\u001b[32mSaved SampleData[ClassifierPredictions] to: Alien_data/RF-ten-fold/predictions.qza\u001b[0m\n",
      "\u001b[32mSaved Visualization to: Alien_data/RF-ten-fold/model_summary.qzv\u001b[0m\n",
      "\u001b[32mSaved Visualization to: Alien_data/RF-ten-fold/accuracy_results.qzv\u001b[0m\n",
      "\u001b[32mSaved SampleData[Probabilities] to: Alien_data/RF-ten-fold/probabilities.qza\u001b[0m\n",
      "\u001b[32mSaved Visualization to: Alien_data/RF-ten-fold/heatmap.qzv\u001b[0m\n",
      "\u001b[32mSaved SampleData[TrueTargets] to: Alien_data/RF-ten-fold/training_targets.qza\u001b[0m\n",
      "\u001b[32mSaved SampleData[TrueTargets] to: Alien_data/RF-ten-fold/test_targets.qza\u001b[0m\n",
      "\u001b[0m"
     ]
    }
   ],
   "source": [
    "# Removed feature selection parameter because it causes error that \n",
    "# \"linkage must be computed on at least two observations\". Possible that \n",
    "# in some partitions of the data, only one feature remains important \n",
    "# when using optimized feature selection (all feature importances seem low)\n",
    "\n",
    "! qiime sample-classifier classify-samples \\\n",
    "  --i-table $data_dir/table-filtered.qza \\\n",
    "  --m-metadata-file $data_dir/str_metadata.tsv \\\n",
    "  --m-metadata-column alleged_abduction \\\n",
    "  --p-test-size 0.2 \\\n",
    "  --p-estimator RandomForestClassifier \\\n",
    "  --p-parameter-tuning \\\n",
    "  --p-n-estimators 500 \\\n",
    "  --p-cv 10 \\\n",
    "  --p-palette 'enigma' \\\n",
    "  --p-random-state 0 \\\n",
    "  --output-dir $data_dir/RF-ten-fold"
   ]
  },
  {
   "cell_type": "code",
   "execution_count": 72,
   "id": "abb87e3a-f774-4a8f-b759-6a92ab4da2e2",
   "metadata": {
    "collapsed": true,
    "jupyter": {
     "outputs_hidden": true
    },
    "tags": []
   },
   "outputs": [
    {
     "data": {
      "text/html": [
       "<div><img onload=\"(function(div, url){\n",
       "if (typeof require !== 'undefined') {\n",
       "    var baseURL = require.toUrl('').split('/').slice(0, -2).join('/');\n",
       "} else {\n",
       "    var baseURL = JSON.parse(\n",
       "        document.getElementById('jupyter-config-data').innerHTML\n",
       "    ).baseUrl.slice(0, -1);\n",
       "}\n",
       "url = baseURL + url;\n",
       "fetch(url).then(function(res) {\n",
       "    if (res.status === 404) {\n",
       "        div.innerHTML = 'Install QIIME 2 Jupyter extension with:<br />' +\n",
       "                        '<code>jupyter serverextension enable --py qiime2' +\n",
       "                        ' --sys-prefix</code><br />then restart your server.' +\n",
       "                        '<br /><br />(Interactive output not available on ' +\n",
       "                        'static notebook viewer services like nbviewer.)';\n",
       "    } else if (res.status === 409) {\n",
       "        div.innerHTML = 'Visualization no longer in scope. Re-run this cell' +\n",
       "                        ' to see the visualization.';\n",
       "    } else if (res.ok) {\n",
       "        url = res.url;\n",
       "        div.innerHTML = '<iframe src=\\'' + url + '\\' style=\\'' +\n",
       "                        'width: 100%; height: 700px; border: 0;\\'>' +\n",
       "                        '</iframe><hr />Open in a: <a href=\\'' + url + '\\'' +\n",
       "                        ' target=\\'_blank\\'>new window</a>'\n",
       "    } else {\n",
       "        div.innerHTML = 'Something has gone wrong. Check notebook server for' +\n",
       "                        ' errors.';\n",
       "    }\n",
       "});\n",
       "})(this.parentElement, '/qiime2/redirect?location=/tmp/qiime2-archive-g16nwsxo')\" src=\"data:image/gif;base64,R0lGODlhAQABAIAAAP///wAAACH5BAEAAAAALAAAAAABAAEAAAICRAEAOw==\" /></div>"
      ],
      "text/plain": [
       "<visualization: Visualization uuid: f6aa3345-bcda-46f1-9989-d032f0d443ef>"
      ]
     },
     "execution_count": 72,
     "metadata": {},
     "output_type": "execute_result"
    }
   ],
   "source": [
    "Visualization.load(f'{data_dir}/RF-ten-fold/accuracy_results.qzv')"
   ]
  },
  {
   "cell_type": "markdown",
   "id": "813e0da2-0996-4a2f-8951-8d1fb53e7ee3",
   "metadata": {},
   "source": [
    "##### Overall, no parameters improved the overall accuracy \n",
    "\n",
    "The overall accuracy is almost equal to the baseline accuracy, meaning the model performs basically only as well as a model that simply classifies samples as the most frequent class. This suggests that microbial composition does not provide enough information to predict abduction status."
   ]
  },
  {
   "cell_type": "markdown",
   "id": "a4f15740-8417-4e7e-9520-7c5eed54f61d",
   "metadata": {},
   "source": [
    "#### Not done: evaluating over- or under-fitting"
   ]
  },
  {
   "cell_type": "code",
   "execution_count": null,
   "id": "1e183370-cf4b-4537-8674-954635dbcf35",
   "metadata": {},
   "outputs": [],
   "source": []
  }
 ],
 "metadata": {
  "kernelspec": {
   "display_name": "Python 3 (ipykernel)",
   "language": "python",
   "name": "python3"
  },
  "language_info": {
   "codemirror_mode": {
    "name": "ipython",
    "version": 3
   },
   "file_extension": ".py",
   "mimetype": "text/x-python",
   "name": "python",
   "nbconvert_exporter": "python",
   "pygments_lexer": "ipython3",
   "version": "3.8.13"
  }
 },
 "nbformat": 4,
 "nbformat_minor": 5
}
