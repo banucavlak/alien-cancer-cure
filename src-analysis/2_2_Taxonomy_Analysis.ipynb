{
 "cells": [
  {
   "cell_type": "code",
   "execution_count": 1,
   "id": "b9c023a9-1772-4c89-b0da-795628ebc485",
   "metadata": {
    "tags": []
   },
   "outputs": [],
   "source": [
    "import os\n",
    "import pandas as pd\n",
    "from qiime2 import Visualization\n",
    "import matplotlib.pyplot as plt\n",
    "import numpy as np\n",
    "\n",
    "import qiime2 as q2\n",
    "\n",
    "%matplotlib inline\n"
   ]
  },
  {
   "cell_type": "code",
   "execution_count": 2,
   "id": "f1709605-e90e-4de6-9a71-c7a81ff22c03",
   "metadata": {
    "tags": []
   },
   "outputs": [],
   "source": [
    "data_dir = 'Alien_data'\n",
    "\n",
    "if not os.path.isdir(data_dir):\n",
    "    os.makedirs(data_dir)"
   ]
  },
  {
   "cell_type": "markdown",
   "id": "6d3b998e-34f3-48ae-a716-349cc59270d8",
   "metadata": {},
   "source": [
    "First, seperate the sample data based on whether they are abducted:"
   ]
  },
  {
   "cell_type": "code",
   "execution_count": 3,
   "id": "2f52396e-ea58-4098-9535-7b424d855f9e",
   "metadata": {},
   "outputs": [],
   "source": [
    "!cat Alien_data/sample_metadata.tsv  | awk '{ if ($NF == 1) { print } }' > Alien_data/test1.tsv\n",
    "! head -1 Alien_data/sample_metadata.tsv > Alien_data/test\n",
    "! cat Alien_data/test Alien_data/test1.tsv > Alien_data/sample_metadata_abducted.tsv\n",
    "! rm Alien_data/test1.tsv"
   ]
  },
  {
   "cell_type": "code",
   "execution_count": 4,
   "id": "ba83e5fd-40e4-40b2-833b-5c88ec4b66b6",
   "metadata": {},
   "outputs": [],
   "source": [
    "!cat Alien_data/sample_metadata.tsv  | awk '{ if ($NF == 0) { print } }' > Alien_data/test2.tsv\n",
    "! cat Alien_data/test Alien_data/test2.tsv > Alien_data/sample_metadata_not_abducted.tsv\n",
    "! rm Alien_data/test\n",
    "! rm Alien_data/test2.tsv"
   ]
  },
  {
   "cell_type": "code",
   "execution_count": 5,
   "id": "2856fc0f-cc95-401a-a9a6-88d55cf565b2",
   "metadata": {},
   "outputs": [
    {
     "data": {
      "text/plain": [
       "(26, 2167)"
      ]
     },
     "execution_count": 5,
     "metadata": {},
     "output_type": "execute_result"
    }
   ],
   "source": [
    "features = q2.Artifact.load(f'{data_dir}/table-filtered.qza')\n",
    "features2 = features.view(pd.DataFrame)\n",
    "\n",
    "df_meta = pd.read_csv(f'{data_dir}/sample_metadata_abducted.tsv', sep='\\t')\n",
    "locations = df_meta['sampleid']\n",
    "\n",
    "features_abducted = features2.loc[locations]\n",
    "\n",
    "features_abducted1 = q2.Artifact.import_data(\"FeatureTable[Frequency]\", features_abducted)\n",
    "\n",
    "features_abducted1.save(f'{data_dir}/table-filtered_abducted.qza')\n",
    "features_abducted.shape"
   ]
  },
  {
   "cell_type": "code",
   "execution_count": 6,
   "id": "f581c4e6-b91e-4036-8482-d98b96e3a155",
   "metadata": {},
   "outputs": [
    {
     "data": {
      "text/plain": [
       "(135, 2167)"
      ]
     },
     "execution_count": 6,
     "metadata": {},
     "output_type": "execute_result"
    }
   ],
   "source": [
    "df_meta = pd.read_csv(f'{data_dir}/sample_metadata_not_abducted.tsv', sep='\\t')\n",
    "locations = df_meta['sampleid']\n",
    "\n",
    "features_not_abducted = features2.loc[locations]\n",
    "\n",
    "features_not_abducted1 = q2.Artifact.import_data(\"FeatureTable[Frequency]\", features_not_abducted)\n",
    "\n",
    "features_not_abducted1.save(f'{data_dir}/table-filtered_not_abducted.qza')\n",
    "features_not_abducted.shape"
   ]
  },
  {
   "cell_type": "markdown",
   "id": "679d0c42-d593-476e-ac04-7722098cfa7f",
   "metadata": {},
   "source": [
    "Taxonomy visualization:"
   ]
  },
  {
   "cell_type": "code",
   "execution_count": 7,
   "id": "881c5b2d-851d-4621-87b0-9a42201a75e0",
   "metadata": {},
   "outputs": [
    {
     "name": "stdout",
     "output_type": "stream",
     "text": [
      "\u001b[32mSaved Visualization to: Alien_data/taxa-bar-plots_filtered_abducted.qzv\u001b[0m\n",
      "\u001b[0m"
     ]
    }
   ],
   "source": [
    "## abducted patients\n",
    "! qiime taxa barplot \\\n",
    "    --i-table $data_dir/table-filtered_abducted.qza \\\n",
    "    --i-taxonomy $data_dir/taxonomy.qza \\\n",
    "    --m-metadata-file $data_dir/sample_metadata_abducted.tsv \\\n",
    "    --o-visualization $data_dir/taxa-bar-plots_filtered_abducted.qzv"
   ]
  },
  {
   "cell_type": "code",
   "execution_count": 8,
   "id": "60044fc7-7f55-47eb-8fce-e070871000fa",
   "metadata": {},
   "outputs": [
    {
     "data": {
      "text/html": [
       "<div><img onload=\"(function(div, url){\n",
       "if (typeof require !== 'undefined') {\n",
       "    var baseURL = require.toUrl('').split('/').slice(0, -2).join('/');\n",
       "} else {\n",
       "    var baseURL = JSON.parse(\n",
       "        document.getElementById('jupyter-config-data').innerHTML\n",
       "    ).baseUrl.slice(0, -1);\n",
       "}\n",
       "url = baseURL + url;\n",
       "fetch(url).then(function(res) {\n",
       "    if (res.status === 404) {\n",
       "        div.innerHTML = 'Install QIIME 2 Jupyter extension with:<br />' +\n",
       "                        '<code>jupyter serverextension enable --py qiime2' +\n",
       "                        ' --sys-prefix</code><br />then restart your server.' +\n",
       "                        '<br /><br />(Interactive output not available on ' +\n",
       "                        'static notebook viewer services like nbviewer.)';\n",
       "    } else if (res.status === 409) {\n",
       "        div.innerHTML = 'Visualization no longer in scope. Re-run this cell' +\n",
       "                        ' to see the visualization.';\n",
       "    } else if (res.ok) {\n",
       "        url = res.url;\n",
       "        div.innerHTML = '<iframe src=\\'' + url + '\\' style=\\'' +\n",
       "                        'width: 100%; height: 700px; border: 0;\\'>' +\n",
       "                        '</iframe><hr />Open in a: <a href=\\'' + url + '\\'' +\n",
       "                        ' target=\\'_blank\\'>new window</a>'\n",
       "    } else {\n",
       "        div.innerHTML = 'Something has gone wrong. Check notebook server for' +\n",
       "                        ' errors.';\n",
       "    }\n",
       "});\n",
       "})(this.parentElement, '/qiime2/redirect?location=/tmp/qiime2-archive-8nu9jo7j')\" src=\"data:image/gif;base64,R0lGODlhAQABAIAAAP///wAAACH5BAEAAAAALAAAAAABAAEAAAICRAEAOw==\" /></div>"
      ],
      "text/plain": [
       "<visualization: Visualization uuid: f5b7baf6-8b77-480f-b976-a07d2ac2eb66>"
      ]
     },
     "execution_count": 8,
     "metadata": {},
     "output_type": "execute_result"
    }
   ],
   "source": [
    "Visualization.load(f'{data_dir}/taxa-bar-plots_filtered_abducted.qzv')"
   ]
  },
  {
   "cell_type": "code",
   "execution_count": 9,
   "id": "2d90e8dd-9e5f-4360-800a-871ae47dfe04",
   "metadata": {},
   "outputs": [
    {
     "name": "stdout",
     "output_type": "stream",
     "text": [
      "\u001b[32mSaved Visualization to: Alien_data/taxa-bar-plots_filtered_not_abducted.qzv\u001b[0m\n",
      "\u001b[0m"
     ]
    }
   ],
   "source": [
    "## not abducted patients\n",
    "! qiime taxa barplot \\\n",
    "    --i-table $data_dir/table-filtered_not_abducted.qza \\\n",
    "    --i-taxonomy $data_dir/taxonomy.qza \\\n",
    "    --m-metadata-file $data_dir/sample_metadata_not_abducted.tsv \\\n",
    "    --o-visualization $data_dir/taxa-bar-plots_filtered_not_abducted.qzv"
   ]
  },
  {
   "cell_type": "code",
   "execution_count": 10,
   "id": "13056c84-43e1-4c89-a1e0-fbd35a556c36",
   "metadata": {},
   "outputs": [
    {
     "data": {
      "text/html": [
       "<div><img onload=\"(function(div, url){\n",
       "if (typeof require !== 'undefined') {\n",
       "    var baseURL = require.toUrl('').split('/').slice(0, -2).join('/');\n",
       "} else {\n",
       "    var baseURL = JSON.parse(\n",
       "        document.getElementById('jupyter-config-data').innerHTML\n",
       "    ).baseUrl.slice(0, -1);\n",
       "}\n",
       "url = baseURL + url;\n",
       "fetch(url).then(function(res) {\n",
       "    if (res.status === 404) {\n",
       "        div.innerHTML = 'Install QIIME 2 Jupyter extension with:<br />' +\n",
       "                        '<code>jupyter serverextension enable --py qiime2' +\n",
       "                        ' --sys-prefix</code><br />then restart your server.' +\n",
       "                        '<br /><br />(Interactive output not available on ' +\n",
       "                        'static notebook viewer services like nbviewer.)';\n",
       "    } else if (res.status === 409) {\n",
       "        div.innerHTML = 'Visualization no longer in scope. Re-run this cell' +\n",
       "                        ' to see the visualization.';\n",
       "    } else if (res.ok) {\n",
       "        url = res.url;\n",
       "        div.innerHTML = '<iframe src=\\'' + url + '\\' style=\\'' +\n",
       "                        'width: 100%; height: 700px; border: 0;\\'>' +\n",
       "                        '</iframe><hr />Open in a: <a href=\\'' + url + '\\'' +\n",
       "                        ' target=\\'_blank\\'>new window</a>'\n",
       "    } else {\n",
       "        div.innerHTML = 'Something has gone wrong. Check notebook server for' +\n",
       "                        ' errors.';\n",
       "    }\n",
       "});\n",
       "})(this.parentElement, '/qiime2/redirect?location=/tmp/qiime2-archive-yrvv1rc3')\" src=\"data:image/gif;base64,R0lGODlhAQABAIAAAP///wAAACH5BAEAAAAALAAAAAABAAEAAAICRAEAOw==\" /></div>"
      ],
      "text/plain": [
       "<visualization: Visualization uuid: 84451719-cd6e-41c4-b4ab-a2140fbec024>"
      ]
     },
     "execution_count": 10,
     "metadata": {},
     "output_type": "execute_result"
    }
   ],
   "source": [
    "Visualization.load(f'{data_dir}/taxa-bar-plots_filtered_not_abducted.qzv')"
   ]
  },
  {
   "cell_type": "code",
   "execution_count": null,
   "id": "a80adc21-8d65-495e-b290-61e7cfa9778f",
   "metadata": {},
   "outputs": [],
   "source": []
  }
 ],
 "metadata": {
  "kernelspec": {
   "display_name": "Python 3 (ipykernel)",
   "language": "python",
   "name": "python3"
  },
  "language_info": {
   "codemirror_mode": {
    "name": "ipython",
    "version": 3
   },
   "file_extension": ".py",
   "mimetype": "text/x-python",
   "name": "python",
   "nbconvert_exporter": "python",
   "pygments_lexer": "ipython3",
   "version": "3.8.13"
  }
 },
 "nbformat": 4,
 "nbformat_minor": 5
}
