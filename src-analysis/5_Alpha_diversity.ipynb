{
 "cells": [
  {
   "cell_type": "markdown",
   "id": "e87eee80-1b46-4e32-8fc1-aa059a4a43dd",
   "metadata": {},
   "source": [
    "# Alpha Diversity"
   ]
  },
  {
   "cell_type": "code",
   "execution_count": 1,
   "id": "f48fc6e9-994c-491e-84b7-edf4bfac7214",
   "metadata": {},
   "outputs": [],
   "source": [
    "# Setup\n",
    "import os\n",
    "import pandas as pd\n",
    "import qiime2 as q2\n",
    "from qiime2 import Visualization\n",
    "import matplotlib.pyplot as plt\n",
    "import numpy as np\n",
    "\n",
    "%matplotlib inline"
   ]
  },
  {
   "cell_type": "code",
   "execution_count": 2,
   "id": "3a6202f8-3e5a-4df8-8093-f6c0d24771dc",
   "metadata": {
    "tags": []
   },
   "outputs": [],
   "source": [
    "data_dir = '../data'"
   ]
  },
  {
   "cell_type": "code",
   "execution_count": 3,
   "id": "7f1d4d11-e7ba-4bf7-ae45-477699a10f3d",
   "metadata": {
    "tags": []
   },
   "outputs": [
    {
     "name": "stdout",
     "output_type": "stream",
     "text": [
      "\u001b[32mSaved Visualization to: ../data/alpha_diversity/feature_table_filtered.qzv\u001b[0m\n",
      "\u001b[0m"
     ]
    }
   ],
   "source": [
    "# Get an overview of the feature table\n",
    "\n",
    "! qiime feature-table summarize \\\n",
    "  --i-table $data_dir/taxonomy/table-filtered.qza \\\n",
    "  --m-sample-metadata-file $data_dir/metadata/str_metadata.tsv \\\n",
    "  --o-visualization $data_dir/alpha_diversity/feature_table_filtered.qzv"
   ]
  },
  {
   "cell_type": "code",
   "execution_count": 4,
   "id": "20cf3cf2-20ef-4dbf-9b8a-71411d634b1f",
   "metadata": {
    "tags": []
   },
   "outputs": [
    {
     "data": {
      "text/html": [
       "<div><img onload=\"(function(div, url){\n",
       "if (typeof require !== 'undefined') {\n",
       "    var baseURL = require.toUrl('').split('/').slice(0, -2).join('/');\n",
       "} else {\n",
       "    var baseURL = JSON.parse(\n",
       "        document.getElementById('jupyter-config-data').innerHTML\n",
       "    ).baseUrl.slice(0, -1);\n",
       "}\n",
       "url = baseURL + url;\n",
       "fetch(url).then(function(res) {\n",
       "    if (res.status === 404) {\n",
       "        div.innerHTML = 'Install QIIME 2 Jupyter extension with:<br />' +\n",
       "                        '<code>jupyter serverextension enable --py qiime2' +\n",
       "                        ' --sys-prefix</code><br />then restart your server.' +\n",
       "                        '<br /><br />(Interactive output not available on ' +\n",
       "                        'static notebook viewer services like nbviewer.)';\n",
       "    } else if (res.status === 409) {\n",
       "        div.innerHTML = 'Visualization no longer in scope. Re-run this cell' +\n",
       "                        ' to see the visualization.';\n",
       "    } else if (res.ok) {\n",
       "        url = res.url;\n",
       "        div.innerHTML = '<iframe src=\\'' + url + '\\' style=\\'' +\n",
       "                        'width: 100%; height: 700px; border: 0;\\'>' +\n",
       "                        '</iframe><hr />Open in a: <a href=\\'' + url + '\\'' +\n",
       "                        ' target=\\'_blank\\'>new window</a>'\n",
       "    } else {\n",
       "        div.innerHTML = 'Something has gone wrong. Check notebook server for' +\n",
       "                        ' errors.';\n",
       "    }\n",
       "});\n",
       "})(this.parentElement, '/qiime2/redirect?location=/tmp/qiime2-archive-c7tdm8ga')\" src=\"data:image/gif;base64,R0lGODlhAQABAIAAAP///wAAACH5BAEAAAAALAAAAAABAAEAAAICRAEAOw==\" /></div>"
      ],
      "text/plain": [
       "<visualization: Visualization uuid: fdb11419-374f-4413-8cde-9c01b5ba967a>"
      ]
     },
     "execution_count": 4,
     "metadata": {},
     "output_type": "execute_result"
    }
   ],
   "source": [
    "Visualization.load(f'{data_dir}/alpha_diversity/feature_table_filtered.qzv')"
   ]
  },
  {
   "cell_type": "markdown",
   "id": "765f7327-a7d3-4dbc-a695-78631783eedd",
   "metadata": {},
   "source": [
    "## 1. Alpha rarefaction\n",
    "\n",
    "We first investigate the sampling depth of sequences. As sampling depth is different between samples, we must normalize them via rarefying prior to further analysing them. \n",
    "To perform rarefaction, we first need to decide which rarefying threshold is best suited for our dataset. For this, we will analyse how sampling depth impacts within-sample diversity estimates (= alpha diversity) with the alpha-rarefaction action. This action generates interactive alpha rarefaction curves for sequencing depths between min_depth and max_depth and computes 10 (default) rarefied tables with corresponding alpha diversity metrics at each sampling depth step."
   ]
  },
  {
   "cell_type": "code",
   "execution_count": 5,
   "id": "b0562340-745d-4f9d-a957-805601fec137",
   "metadata": {
    "tags": []
   },
   "outputs": [
    {
     "name": "stdout",
     "output_type": "stream",
     "text": [
      "\u001b[32mSaved Visualization to: ../data/alpha_diversity/alpha-rarefaction.qzv\u001b[0m\n",
      "\u001b[0m"
     ]
    }
   ],
   "source": [
    "# Using the fragment insert tree\n",
    "\n",
    "# Show rarefaction plot\n",
    "! qiime diversity alpha-rarefaction \\\n",
    "    --i-table $data_dir/taxonomy/table-filtered.qza \\\n",
    "    --i-phylogeny $data_dir/phylogeny/sepp-tree.qza \\\n",
    "    --p-max-depth 10000 \\\n",
    "    --m-metadata-file $data_dir/metadata/str_metadata.tsv \\\n",
    "    --o-visualization $data_dir/alpha_diversity/alpha-rarefaction.qzv"
   ]
  },
  {
   "cell_type": "code",
   "execution_count": 6,
   "id": "c343a1de-df64-4dd5-87e2-90c38b60c785",
   "metadata": {
    "tags": []
   },
   "outputs": [
    {
     "data": {
      "text/html": [
       "<div><img onload=\"(function(div, url){\n",
       "if (typeof require !== 'undefined') {\n",
       "    var baseURL = require.toUrl('').split('/').slice(0, -2).join('/');\n",
       "} else {\n",
       "    var baseURL = JSON.parse(\n",
       "        document.getElementById('jupyter-config-data').innerHTML\n",
       "    ).baseUrl.slice(0, -1);\n",
       "}\n",
       "url = baseURL + url;\n",
       "fetch(url).then(function(res) {\n",
       "    if (res.status === 404) {\n",
       "        div.innerHTML = 'Install QIIME 2 Jupyter extension with:<br />' +\n",
       "                        '<code>jupyter serverextension enable --py qiime2' +\n",
       "                        ' --sys-prefix</code><br />then restart your server.' +\n",
       "                        '<br /><br />(Interactive output not available on ' +\n",
       "                        'static notebook viewer services like nbviewer.)';\n",
       "    } else if (res.status === 409) {\n",
       "        div.innerHTML = 'Visualization no longer in scope. Re-run this cell' +\n",
       "                        ' to see the visualization.';\n",
       "    } else if (res.ok) {\n",
       "        url = res.url;\n",
       "        div.innerHTML = '<iframe src=\\'' + url + '\\' style=\\'' +\n",
       "                        'width: 100%; height: 700px; border: 0;\\'>' +\n",
       "                        '</iframe><hr />Open in a: <a href=\\'' + url + '\\'' +\n",
       "                        ' target=\\'_blank\\'>new window</a>'\n",
       "    } else {\n",
       "        div.innerHTML = 'Something has gone wrong. Check notebook server for' +\n",
       "                        ' errors.';\n",
       "    }\n",
       "});\n",
       "})(this.parentElement, '/qiime2/redirect?location=/tmp/qiime2-archive-uwq1dcic')\" src=\"data:image/gif;base64,R0lGODlhAQABAIAAAP///wAAACH5BAEAAAAALAAAAAABAAEAAAICRAEAOw==\" /></div>"
      ],
      "text/plain": [
       "<visualization: Visualization uuid: 34030e25-09b3-4d5f-91e0-bc66c2da113e>"
      ]
     },
     "execution_count": 6,
     "metadata": {},
     "output_type": "execute_result"
    }
   ],
   "source": [
    "Visualization.load(f'{data_dir}/alpha_diversity/alpha-rarefaction.qzv')"
   ]
  },
  {
   "cell_type": "markdown",
   "id": "5d6f606f-c0b6-460e-8f70-39abce0d715a",
   "metadata": {},
   "source": [
    "### Alpha rarefaction using the de novo tree (an alternative but not suggested)"
   ]
  },
  {
   "cell_type": "code",
   "execution_count": 7,
   "id": "8dcb463f-32d8-47a7-8b16-deb703152b6a",
   "metadata": {},
   "outputs": [],
   "source": [
    "# A slightly different plot by using the bootstraped tree, but the trends are similar:\n",
    "#! qiime diversity alpha-rarefaction \\\n",
    "#    --i-table $data_dir/table-filtered.qza \\\n",
    "#    --i-phylogeny $data_dir/raxml-cat-bootstrap-rooted.qza \\\n",
    "#    --p-max-depth 10000 \\\n",
    "#    --m-metadata-file $data_dir/sample_metadata.tsv \\\n",
    "#   --o-visualization $data_dir/alpha-rarefaction-denovo.qzv"
   ]
  },
  {
   "cell_type": "code",
   "execution_count": 8,
   "id": "1fb8ce9a-6355-43b3-a397-c56b9f78f0fd",
   "metadata": {
    "tags": []
   },
   "outputs": [],
   "source": [
    "# Visualization.load(f'{data_dir}/alpha-rarefaction-denovo.qzv')"
   ]
  },
  {
   "cell_type": "markdown",
   "id": "8ac9d628-d560-45d5-86d6-f9519e7062f9",
   "metadata": {},
   "source": [
    "## 2. Diversity analysis"
   ]
  },
  {
   "cell_type": "code",
   "execution_count": 9,
   "id": "733e5fe5-ba1e-4c2c-9ef9-7d66b3ec6676",
   "metadata": {
    "tags": []
   },
   "outputs": [
    {
     "name": "stdout",
     "output_type": "stream",
     "text": [
      "\u001b[32mSaved FeatureTable[Frequency] to: ../data/alpha_diversity/core-metrics-results/rarefied_table.qza\u001b[0m\n",
      "\u001b[32mSaved SampleData[AlphaDiversity] to: ../data/alpha_diversity/core-metrics-results/faith_pd_vector.qza\u001b[0m\n",
      "\u001b[32mSaved SampleData[AlphaDiversity] to: ../data/alpha_diversity/core-metrics-results/observed_features_vector.qza\u001b[0m\n",
      "\u001b[32mSaved SampleData[AlphaDiversity] to: ../data/alpha_diversity/core-metrics-results/shannon_vector.qza\u001b[0m\n",
      "\u001b[32mSaved SampleData[AlphaDiversity] to: ../data/alpha_diversity/core-metrics-results/evenness_vector.qza\u001b[0m\n",
      "\u001b[32mSaved DistanceMatrix to: ../data/alpha_diversity/core-metrics-results/unweighted_unifrac_distance_matrix.qza\u001b[0m\n",
      "\u001b[32mSaved DistanceMatrix to: ../data/alpha_diversity/core-metrics-results/weighted_unifrac_distance_matrix.qza\u001b[0m\n",
      "\u001b[32mSaved DistanceMatrix to: ../data/alpha_diversity/core-metrics-results/jaccard_distance_matrix.qza\u001b[0m\n",
      "\u001b[32mSaved DistanceMatrix to: ../data/alpha_diversity/core-metrics-results/bray_curtis_distance_matrix.qza\u001b[0m\n",
      "\u001b[32mSaved PCoAResults to: ../data/alpha_diversity/core-metrics-results/unweighted_unifrac_pcoa_results.qza\u001b[0m\n",
      "\u001b[32mSaved PCoAResults to: ../data/alpha_diversity/core-metrics-results/weighted_unifrac_pcoa_results.qza\u001b[0m\n",
      "\u001b[32mSaved PCoAResults to: ../data/alpha_diversity/core-metrics-results/jaccard_pcoa_results.qza\u001b[0m\n",
      "\u001b[32mSaved PCoAResults to: ../data/alpha_diversity/core-metrics-results/bray_curtis_pcoa_results.qza\u001b[0m\n",
      "\u001b[32mSaved Visualization to: ../data/alpha_diversity/core-metrics-results/unweighted_unifrac_emperor.qzv\u001b[0m\n",
      "\u001b[32mSaved Visualization to: ../data/alpha_diversity/core-metrics-results/weighted_unifrac_emperor.qzv\u001b[0m\n",
      "\u001b[32mSaved Visualization to: ../data/alpha_diversity/core-metrics-results/jaccard_emperor.qzv\u001b[0m\n",
      "\u001b[32mSaved Visualization to: ../data/alpha_diversity/core-metrics-results/bray_curtis_emperor.qzv\u001b[0m\n",
      "\u001b[0m"
     ]
    }
   ],
   "source": [
    "# Sampling depth of 3000 is chosen\n",
    "\n",
    "! qiime diversity core-metrics-phylogenetic \\\n",
    "  --i-table $data_dir/taxonomy/table-filtered.qza \\\n",
    "  --i-phylogeny $data_dir/phylogeny/sepp-tree.qza \\\n",
    "  --m-metadata-file $data_dir/metadata/str_metadata.tsv \\\n",
    "  --p-sampling-depth 3000 \\\n",
    "  --output-dir $data_dir/alpha_diversity/core-metrics-results\n",
    "\n",
    "# We can not set a random seed in this plugin. Due to the problem of random sampling, each time we generated slightly different\n",
    "# results. In order to make our analysis more consistent, we only used one of many random results that we generated for\n",
    "# plotting and result interpretation. The outputs that we used for visualization can be found in the \"data/alpha_diversity\". "
   ]
  },
  {
   "cell_type": "markdown",
   "id": "6e2decec-c60c-42eb-9c04-6419b4375663",
   "metadata": {},
   "source": [
    "### 2.1 Test the associations between categorical metadata columns with the corresponding diversity metrics"
   ]
  },
  {
   "cell_type": "code",
   "execution_count": 10,
   "id": "470c3fd5-91bf-4101-9c5f-cfb8167f4a3a",
   "metadata": {},
   "outputs": [
    {
     "name": "stdout",
     "output_type": "stream",
     "text": [
      "\u001b[32mSaved Visualization to: ../data/alpha_diversity/core-metrics-results/faith-pd-group-significance.qzv\u001b[0m\n",
      "\u001b[0m"
     ]
    }
   ],
   "source": [
    "# faith_pd\n",
    "\n",
    "! qiime diversity alpha-group-significance \\\n",
    "  --i-alpha-diversity $data_dir/alpha_diversity/core-metrics-results/faith_pd_vector.qza \\\n",
    "  --m-metadata-file $data_dir/metadata/str_metadata.tsv \\\n",
    "  --o-visualization $data_dir/alpha_diversity/core-metrics-results/faith-pd-group-significance.qzv"
   ]
  },
  {
   "cell_type": "code",
   "execution_count": 11,
   "id": "c3ef4dc2-46e9-4db1-8f5a-41d2ab228523",
   "metadata": {
    "tags": []
   },
   "outputs": [
    {
     "data": {
      "text/html": [
       "<div><img onload=\"(function(div, url){\n",
       "if (typeof require !== 'undefined') {\n",
       "    var baseURL = require.toUrl('').split('/').slice(0, -2).join('/');\n",
       "} else {\n",
       "    var baseURL = JSON.parse(\n",
       "        document.getElementById('jupyter-config-data').innerHTML\n",
       "    ).baseUrl.slice(0, -1);\n",
       "}\n",
       "url = baseURL + url;\n",
       "fetch(url).then(function(res) {\n",
       "    if (res.status === 404) {\n",
       "        div.innerHTML = 'Install QIIME 2 Jupyter extension with:<br />' +\n",
       "                        '<code>jupyter serverextension enable --py qiime2' +\n",
       "                        ' --sys-prefix</code><br />then restart your server.' +\n",
       "                        '<br /><br />(Interactive output not available on ' +\n",
       "                        'static notebook viewer services like nbviewer.)';\n",
       "    } else if (res.status === 409) {\n",
       "        div.innerHTML = 'Visualization no longer in scope. Re-run this cell' +\n",
       "                        ' to see the visualization.';\n",
       "    } else if (res.ok) {\n",
       "        url = res.url;\n",
       "        div.innerHTML = '<iframe src=\\'' + url + '\\' style=\\'' +\n",
       "                        'width: 100%; height: 700px; border: 0;\\'>' +\n",
       "                        '</iframe><hr />Open in a: <a href=\\'' + url + '\\'' +\n",
       "                        ' target=\\'_blank\\'>new window</a>'\n",
       "    } else {\n",
       "        div.innerHTML = 'Something has gone wrong. Check notebook server for' +\n",
       "                        ' errors.';\n",
       "    }\n",
       "});\n",
       "})(this.parentElement, '/qiime2/redirect?location=/tmp/qiime2-archive-shj4mbn6')\" src=\"data:image/gif;base64,R0lGODlhAQABAIAAAP///wAAACH5BAEAAAAALAAAAAABAAEAAAICRAEAOw==\" /></div>"
      ],
      "text/plain": [
       "<visualization: Visualization uuid: 3bb77f51-278e-4263-bfe8-01dd01356de1>"
      ]
     },
     "execution_count": 11,
     "metadata": {},
     "output_type": "execute_result"
    }
   ],
   "source": [
    "Visualization.load(f'{data_dir}/alpha_diversity/core-metrics-results/faith-pd-group-significance.qzv')"
   ]
  },
  {
   "cell_type": "code",
   "execution_count": 12,
   "id": "764462b6-e1a0-4247-935f-46b0acae1136",
   "metadata": {},
   "outputs": [
    {
     "name": "stdout",
     "output_type": "stream",
     "text": [
      "\u001b[32mSaved Visualization to: ../data/alpha_diversity/core-metrics-results/observed-features-group-significance.qzv\u001b[0m\n",
      "\u001b[0m"
     ]
    }
   ],
   "source": [
    "# observed features\n",
    "\n",
    "! qiime diversity alpha-group-significance \\\n",
    "  --i-alpha-diversity $data_dir/alpha_diversity/core-metrics-results/observed_features_vector.qza \\\n",
    "  --m-metadata-file $data_dir/metadata/str_metadata.tsv \\\n",
    "  --o-visualization $data_dir/alpha_diversity/core-metrics-results/observed-features-group-significance.qzv"
   ]
  },
  {
   "cell_type": "code",
   "execution_count": 13,
   "id": "64dddf1d-5f17-4df0-8198-b2e09e021bef",
   "metadata": {
    "tags": []
   },
   "outputs": [
    {
     "data": {
      "text/html": [
       "<div><img onload=\"(function(div, url){\n",
       "if (typeof require !== 'undefined') {\n",
       "    var baseURL = require.toUrl('').split('/').slice(0, -2).join('/');\n",
       "} else {\n",
       "    var baseURL = JSON.parse(\n",
       "        document.getElementById('jupyter-config-data').innerHTML\n",
       "    ).baseUrl.slice(0, -1);\n",
       "}\n",
       "url = baseURL + url;\n",
       "fetch(url).then(function(res) {\n",
       "    if (res.status === 404) {\n",
       "        div.innerHTML = 'Install QIIME 2 Jupyter extension with:<br />' +\n",
       "                        '<code>jupyter serverextension enable --py qiime2' +\n",
       "                        ' --sys-prefix</code><br />then restart your server.' +\n",
       "                        '<br /><br />(Interactive output not available on ' +\n",
       "                        'static notebook viewer services like nbviewer.)';\n",
       "    } else if (res.status === 409) {\n",
       "        div.innerHTML = 'Visualization no longer in scope. Re-run this cell' +\n",
       "                        ' to see the visualization.';\n",
       "    } else if (res.ok) {\n",
       "        url = res.url;\n",
       "        div.innerHTML = '<iframe src=\\'' + url + '\\' style=\\'' +\n",
       "                        'width: 100%; height: 700px; border: 0;\\'>' +\n",
       "                        '</iframe><hr />Open in a: <a href=\\'' + url + '\\'' +\n",
       "                        ' target=\\'_blank\\'>new window</a>'\n",
       "    } else {\n",
       "        div.innerHTML = 'Something has gone wrong. Check notebook server for' +\n",
       "                        ' errors.';\n",
       "    }\n",
       "});\n",
       "})(this.parentElement, '/qiime2/redirect?location=/tmp/qiime2-archive-a3tz6tqn')\" src=\"data:image/gif;base64,R0lGODlhAQABAIAAAP///wAAACH5BAEAAAAALAAAAAABAAEAAAICRAEAOw==\" /></div>"
      ],
      "text/plain": [
       "<visualization: Visualization uuid: f7c956b4-9488-47dc-877f-4d4a9fda6577>"
      ]
     },
     "execution_count": 13,
     "metadata": {},
     "output_type": "execute_result"
    }
   ],
   "source": [
    "Visualization.load(f'{data_dir}/alpha_diversity/core-metrics-results/observed-features-group-significance.qzv')"
   ]
  },
  {
   "cell_type": "code",
   "execution_count": 14,
   "id": "c9b0e2bf-48ae-4065-890a-99bbd6c63627",
   "metadata": {},
   "outputs": [
    {
     "name": "stdout",
     "output_type": "stream",
     "text": [
      "\u001b[32mSaved Visualization to: ../data/alpha_diversity/core-metrics-results/shannon-group-significance.qzv\u001b[0m\n",
      "\u001b[0m"
     ]
    }
   ],
   "source": [
    "# shannon\n",
    "\n",
    "! qiime diversity alpha-group-significance \\\n",
    "  --i-alpha-diversity $data_dir/alpha_diversity/core-metrics-results/shannon_vector.qza \\\n",
    "  --m-metadata-file $data_dir/metadata/str_metadata.tsv \\\n",
    "  --o-visualization $data_dir/alpha_diversity/core-metrics-results/shannon-group-significance.qzv"
   ]
  },
  {
   "cell_type": "code",
   "execution_count": 15,
   "id": "79b56370-ce11-49f9-a020-75ac76500629",
   "metadata": {
    "tags": []
   },
   "outputs": [
    {
     "data": {
      "text/html": [
       "<div><img onload=\"(function(div, url){\n",
       "if (typeof require !== 'undefined') {\n",
       "    var baseURL = require.toUrl('').split('/').slice(0, -2).join('/');\n",
       "} else {\n",
       "    var baseURL = JSON.parse(\n",
       "        document.getElementById('jupyter-config-data').innerHTML\n",
       "    ).baseUrl.slice(0, -1);\n",
       "}\n",
       "url = baseURL + url;\n",
       "fetch(url).then(function(res) {\n",
       "    if (res.status === 404) {\n",
       "        div.innerHTML = 'Install QIIME 2 Jupyter extension with:<br />' +\n",
       "                        '<code>jupyter serverextension enable --py qiime2' +\n",
       "                        ' --sys-prefix</code><br />then restart your server.' +\n",
       "                        '<br /><br />(Interactive output not available on ' +\n",
       "                        'static notebook viewer services like nbviewer.)';\n",
       "    } else if (res.status === 409) {\n",
       "        div.innerHTML = 'Visualization no longer in scope. Re-run this cell' +\n",
       "                        ' to see the visualization.';\n",
       "    } else if (res.ok) {\n",
       "        url = res.url;\n",
       "        div.innerHTML = '<iframe src=\\'' + url + '\\' style=\\'' +\n",
       "                        'width: 100%; height: 700px; border: 0;\\'>' +\n",
       "                        '</iframe><hr />Open in a: <a href=\\'' + url + '\\'' +\n",
       "                        ' target=\\'_blank\\'>new window</a>'\n",
       "    } else {\n",
       "        div.innerHTML = 'Something has gone wrong. Check notebook server for' +\n",
       "                        ' errors.';\n",
       "    }\n",
       "});\n",
       "})(this.parentElement, '/qiime2/redirect?location=/tmp/qiime2-archive-1w8tzzeq')\" src=\"data:image/gif;base64,R0lGODlhAQABAIAAAP///wAAACH5BAEAAAAALAAAAAABAAEAAAICRAEAOw==\" /></div>"
      ],
      "text/plain": [
       "<visualization: Visualization uuid: 5643c451-a7b1-408f-8222-ec2c7271e8e5>"
      ]
     },
     "execution_count": 15,
     "metadata": {},
     "output_type": "execute_result"
    }
   ],
   "source": [
    "Visualization.load(f'{data_dir}/alpha_diversity/core-metrics-results/shannon-group-significance.qzv')"
   ]
  },
  {
   "cell_type": "code",
   "execution_count": 16,
   "id": "73e3abfa-2f70-4040-b4f4-6333cfe44167",
   "metadata": {},
   "outputs": [
    {
     "name": "stdout",
     "output_type": "stream",
     "text": [
      "\u001b[32mSaved Visualization to: ../data/alpha_diversity/core-metrics-results/evenness-vector-group-significance.qzv\u001b[0m\n",
      "\u001b[0m"
     ]
    }
   ],
   "source": [
    "# evenness\n",
    "\n",
    "! qiime diversity alpha-group-significance \\\n",
    "  --i-alpha-diversity $data_dir/alpha_diversity/core-metrics-results/evenness_vector.qza \\\n",
    "  --m-metadata-file $data_dir/metadata/str_metadata.tsv \\\n",
    "  --o-visualization $data_dir/alpha_diversity/core-metrics-results/evenness-vector-group-significance.qzv"
   ]
  },
  {
   "cell_type": "code",
   "execution_count": 17,
   "id": "03dc3259-adde-442f-8419-64543566d400",
   "metadata": {
    "tags": []
   },
   "outputs": [
    {
     "data": {
      "text/html": [
       "<div><img onload=\"(function(div, url){\n",
       "if (typeof require !== 'undefined') {\n",
       "    var baseURL = require.toUrl('').split('/').slice(0, -2).join('/');\n",
       "} else {\n",
       "    var baseURL = JSON.parse(\n",
       "        document.getElementById('jupyter-config-data').innerHTML\n",
       "    ).baseUrl.slice(0, -1);\n",
       "}\n",
       "url = baseURL + url;\n",
       "fetch(url).then(function(res) {\n",
       "    if (res.status === 404) {\n",
       "        div.innerHTML = 'Install QIIME 2 Jupyter extension with:<br />' +\n",
       "                        '<code>jupyter serverextension enable --py qiime2' +\n",
       "                        ' --sys-prefix</code><br />then restart your server.' +\n",
       "                        '<br /><br />(Interactive output not available on ' +\n",
       "                        'static notebook viewer services like nbviewer.)';\n",
       "    } else if (res.status === 409) {\n",
       "        div.innerHTML = 'Visualization no longer in scope. Re-run this cell' +\n",
       "                        ' to see the visualization.';\n",
       "    } else if (res.ok) {\n",
       "        url = res.url;\n",
       "        div.innerHTML = '<iframe src=\\'' + url + '\\' style=\\'' +\n",
       "                        'width: 100%; height: 700px; border: 0;\\'>' +\n",
       "                        '</iframe><hr />Open in a: <a href=\\'' + url + '\\'' +\n",
       "                        ' target=\\'_blank\\'>new window</a>'\n",
       "    } else {\n",
       "        div.innerHTML = 'Something has gone wrong. Check notebook server for' +\n",
       "                        ' errors.';\n",
       "    }\n",
       "});\n",
       "})(this.parentElement, '/qiime2/redirect?location=/tmp/qiime2-archive-bb3zgt0l')\" src=\"data:image/gif;base64,R0lGODlhAQABAIAAAP///wAAACH5BAEAAAAALAAAAAABAAEAAAICRAEAOw==\" /></div>"
      ],
      "text/plain": [
       "<visualization: Visualization uuid: 0119b087-ddf0-4b88-ba05-8ac10f8c4d7a>"
      ]
     },
     "execution_count": 17,
     "metadata": {},
     "output_type": "execute_result"
    }
   ],
   "source": [
    "Visualization.load(f'{data_dir}/alpha_diversity/core-metrics-results/evenness-vector-group-significance.qzv')"
   ]
  },
  {
   "cell_type": "markdown",
   "id": "3c30ecb4-db88-48f2-aeaf-fa3e258b2a95",
   "metadata": {},
   "source": [
    "### 2.2 Testing whether numeric sample metadata columns (day_relative_to_nearest_hct) are correlated with microbial community"
   ]
  },
  {
   "cell_type": "code",
   "execution_count": 18,
   "id": "6e005bd8-cf78-4a77-af41-1b9d1ee0ac39",
   "metadata": {},
   "outputs": [
    {
     "name": "stdout",
     "output_type": "stream",
     "text": [
      "\u001b[32mSaved Visualization to: ../data/alpha_diversity/core-metrics-results/faith-pd-group-significance-numeric.qzv\u001b[0m\n",
      "\u001b[0m"
     ]
    }
   ],
   "source": [
    "# faith_pd\n",
    "\n",
    "! qiime diversity alpha-correlation \\\n",
    "  --i-alpha-diversity $data_dir/alpha_diversity/core-metrics-results/faith_pd_vector.qza \\\n",
    "  --m-metadata-file $data_dir/metadata/str_metadata.tsv \\\n",
    "  --o-visualization $data_dir/alpha_diversity/core-metrics-results/faith-pd-group-significance-numeric.qzv"
   ]
  },
  {
   "cell_type": "code",
   "execution_count": 19,
   "id": "2ccbe781-8ddd-41be-9f65-5c4cda1b6f7f",
   "metadata": {
    "tags": []
   },
   "outputs": [
    {
     "data": {
      "text/html": [
       "<div><img onload=\"(function(div, url){\n",
       "if (typeof require !== 'undefined') {\n",
       "    var baseURL = require.toUrl('').split('/').slice(0, -2).join('/');\n",
       "} else {\n",
       "    var baseURL = JSON.parse(\n",
       "        document.getElementById('jupyter-config-data').innerHTML\n",
       "    ).baseUrl.slice(0, -1);\n",
       "}\n",
       "url = baseURL + url;\n",
       "fetch(url).then(function(res) {\n",
       "    if (res.status === 404) {\n",
       "        div.innerHTML = 'Install QIIME 2 Jupyter extension with:<br />' +\n",
       "                        '<code>jupyter serverextension enable --py qiime2' +\n",
       "                        ' --sys-prefix</code><br />then restart your server.' +\n",
       "                        '<br /><br />(Interactive output not available on ' +\n",
       "                        'static notebook viewer services like nbviewer.)';\n",
       "    } else if (res.status === 409) {\n",
       "        div.innerHTML = 'Visualization no longer in scope. Re-run this cell' +\n",
       "                        ' to see the visualization.';\n",
       "    } else if (res.ok) {\n",
       "        url = res.url;\n",
       "        div.innerHTML = '<iframe src=\\'' + url + '\\' style=\\'' +\n",
       "                        'width: 100%; height: 700px; border: 0;\\'>' +\n",
       "                        '</iframe><hr />Open in a: <a href=\\'' + url + '\\'' +\n",
       "                        ' target=\\'_blank\\'>new window</a>'\n",
       "    } else {\n",
       "        div.innerHTML = 'Something has gone wrong. Check notebook server for' +\n",
       "                        ' errors.';\n",
       "    }\n",
       "});\n",
       "})(this.parentElement, '/qiime2/redirect?location=/tmp/qiime2-archive-9koa84sm')\" src=\"data:image/gif;base64,R0lGODlhAQABAIAAAP///wAAACH5BAEAAAAALAAAAAABAAEAAAICRAEAOw==\" /></div>"
      ],
      "text/plain": [
       "<visualization: Visualization uuid: de082730-5671-48a1-8af0-33e7f2ca2697>"
      ]
     },
     "execution_count": 19,
     "metadata": {},
     "output_type": "execute_result"
    }
   ],
   "source": [
    "Visualization.load(f'{data_dir}/alpha_diversity/core-metrics-results/faith-pd-group-significance-numeric.qzv')"
   ]
  },
  {
   "cell_type": "code",
   "execution_count": 20,
   "id": "3d6b0237-c55a-4998-a97c-b7305d6dd698",
   "metadata": {},
   "outputs": [
    {
     "name": "stdout",
     "output_type": "stream",
     "text": [
      "\u001b[32mSaved Visualization to: ../data/alpha_diversity/core-metrics-results/observed-features-group-significance-numeric.qzv\u001b[0m\n",
      "\u001b[0m"
     ]
    }
   ],
   "source": [
    "# observed_features\n",
    "\n",
    "! qiime diversity alpha-correlation \\\n",
    "  --i-alpha-diversity $data_dir/alpha_diversity/core-metrics-results/observed_features_vector.qza \\\n",
    "  --m-metadata-file $data_dir/metadata/str_metadata.tsv \\\n",
    "  --o-visualization $data_dir/alpha_diversity/core-metrics-results/observed-features-group-significance-numeric.qzv"
   ]
  },
  {
   "cell_type": "code",
   "execution_count": 21,
   "id": "cab33067-47be-4d77-89f2-aaa8766c408f",
   "metadata": {
    "tags": []
   },
   "outputs": [
    {
     "data": {
      "text/html": [
       "<div><img onload=\"(function(div, url){\n",
       "if (typeof require !== 'undefined') {\n",
       "    var baseURL = require.toUrl('').split('/').slice(0, -2).join('/');\n",
       "} else {\n",
       "    var baseURL = JSON.parse(\n",
       "        document.getElementById('jupyter-config-data').innerHTML\n",
       "    ).baseUrl.slice(0, -1);\n",
       "}\n",
       "url = baseURL + url;\n",
       "fetch(url).then(function(res) {\n",
       "    if (res.status === 404) {\n",
       "        div.innerHTML = 'Install QIIME 2 Jupyter extension with:<br />' +\n",
       "                        '<code>jupyter serverextension enable --py qiime2' +\n",
       "                        ' --sys-prefix</code><br />then restart your server.' +\n",
       "                        '<br /><br />(Interactive output not available on ' +\n",
       "                        'static notebook viewer services like nbviewer.)';\n",
       "    } else if (res.status === 409) {\n",
       "        div.innerHTML = 'Visualization no longer in scope. Re-run this cell' +\n",
       "                        ' to see the visualization.';\n",
       "    } else if (res.ok) {\n",
       "        url = res.url;\n",
       "        div.innerHTML = '<iframe src=\\'' + url + '\\' style=\\'' +\n",
       "                        'width: 100%; height: 700px; border: 0;\\'>' +\n",
       "                        '</iframe><hr />Open in a: <a href=\\'' + url + '\\'' +\n",
       "                        ' target=\\'_blank\\'>new window</a>'\n",
       "    } else {\n",
       "        div.innerHTML = 'Something has gone wrong. Check notebook server for' +\n",
       "                        ' errors.';\n",
       "    }\n",
       "});\n",
       "})(this.parentElement, '/qiime2/redirect?location=/tmp/qiime2-archive-p_8n2_s5')\" src=\"data:image/gif;base64,R0lGODlhAQABAIAAAP///wAAACH5BAEAAAAALAAAAAABAAEAAAICRAEAOw==\" /></div>"
      ],
      "text/plain": [
       "<visualization: Visualization uuid: 87e9feaa-c409-4af7-bc27-b143b3856506>"
      ]
     },
     "execution_count": 21,
     "metadata": {},
     "output_type": "execute_result"
    }
   ],
   "source": [
    "Visualization.load(f'{data_dir}/alpha_diversity/core-metrics-results/observed-features-group-significance-numeric.qzv')"
   ]
  },
  {
   "cell_type": "code",
   "execution_count": 22,
   "id": "7a9e7d30-1354-4f9c-9076-28e9bc36eb7e",
   "metadata": {},
   "outputs": [
    {
     "name": "stdout",
     "output_type": "stream",
     "text": [
      "\u001b[32mSaved Visualization to: ../data/alpha_diversity/core-metrics-results/shannon-group-significance-numeric.qzv\u001b[0m\n",
      "\u001b[0m"
     ]
    }
   ],
   "source": [
    "# shannon\n",
    "\n",
    "! qiime diversity alpha-correlation \\\n",
    "  --i-alpha-diversity $data_dir/alpha_diversity/core-metrics-results/shannon_vector.qza \\\n",
    "  --m-metadata-file $data_dir/metadata/str_metadata.tsv \\\n",
    "  --o-visualization $data_dir/alpha_diversity/core-metrics-results/shannon-group-significance-numeric.qzv"
   ]
  },
  {
   "cell_type": "code",
   "execution_count": 23,
   "id": "ca11f214-fced-4cea-b762-091bcce9e979",
   "metadata": {
    "tags": []
   },
   "outputs": [
    {
     "data": {
      "text/html": [
       "<div><img onload=\"(function(div, url){\n",
       "if (typeof require !== 'undefined') {\n",
       "    var baseURL = require.toUrl('').split('/').slice(0, -2).join('/');\n",
       "} else {\n",
       "    var baseURL = JSON.parse(\n",
       "        document.getElementById('jupyter-config-data').innerHTML\n",
       "    ).baseUrl.slice(0, -1);\n",
       "}\n",
       "url = baseURL + url;\n",
       "fetch(url).then(function(res) {\n",
       "    if (res.status === 404) {\n",
       "        div.innerHTML = 'Install QIIME 2 Jupyter extension with:<br />' +\n",
       "                        '<code>jupyter serverextension enable --py qiime2' +\n",
       "                        ' --sys-prefix</code><br />then restart your server.' +\n",
       "                        '<br /><br />(Interactive output not available on ' +\n",
       "                        'static notebook viewer services like nbviewer.)';\n",
       "    } else if (res.status === 409) {\n",
       "        div.innerHTML = 'Visualization no longer in scope. Re-run this cell' +\n",
       "                        ' to see the visualization.';\n",
       "    } else if (res.ok) {\n",
       "        url = res.url;\n",
       "        div.innerHTML = '<iframe src=\\'' + url + '\\' style=\\'' +\n",
       "                        'width: 100%; height: 700px; border: 0;\\'>' +\n",
       "                        '</iframe><hr />Open in a: <a href=\\'' + url + '\\'' +\n",
       "                        ' target=\\'_blank\\'>new window</a>'\n",
       "    } else {\n",
       "        div.innerHTML = 'Something has gone wrong. Check notebook server for' +\n",
       "                        ' errors.';\n",
       "    }\n",
       "});\n",
       "})(this.parentElement, '/qiime2/redirect?location=/tmp/qiime2-archive-e5i8fbjv')\" src=\"data:image/gif;base64,R0lGODlhAQABAIAAAP///wAAACH5BAEAAAAALAAAAAABAAEAAAICRAEAOw==\" /></div>"
      ],
      "text/plain": [
       "<visualization: Visualization uuid: 30ffe588-b2fa-48ec-8319-c8fdcca29dad>"
      ]
     },
     "execution_count": 23,
     "metadata": {},
     "output_type": "execute_result"
    }
   ],
   "source": [
    "Visualization.load(f'{data_dir}/alpha_diversity/core-metrics-results/shannon-group-significance-numeric.qzv')"
   ]
  },
  {
   "cell_type": "code",
   "execution_count": 25,
   "id": "1d9cad6c-b898-4bf0-9916-530c0783647f",
   "metadata": {},
   "outputs": [
    {
     "name": "stdout",
     "output_type": "stream",
     "text": [
      "\u001b[32mSaved Visualization to: ../data/alpha_diversity/core-metrics-results/evenness-vector-group-significance-numeric.qzv\u001b[0m\n",
      "\u001b[0m"
     ]
    }
   ],
   "source": [
    "# evenness\n",
    "\n",
    "! qiime diversity alpha-correlation \\\n",
    "  --i-alpha-diversity $data_dir/alpha_diversity/core-metrics-results/evenness_vector.qza \\\n",
    "  --m-metadata-file $data_dir/metadata/str_metadata.tsv \\\n",
    "  --o-visualization $data_dir/alpha_diversity/core-metrics-results/evenness-vector-group-significance-numeric.qzv"
   ]
  },
  {
   "cell_type": "code",
   "execution_count": 26,
   "id": "b8024578-39a9-4f57-badc-b39f3de384ac",
   "metadata": {
    "tags": []
   },
   "outputs": [
    {
     "data": {
      "text/html": [
       "<div><img onload=\"(function(div, url){\n",
       "if (typeof require !== 'undefined') {\n",
       "    var baseURL = require.toUrl('').split('/').slice(0, -2).join('/');\n",
       "} else {\n",
       "    var baseURL = JSON.parse(\n",
       "        document.getElementById('jupyter-config-data').innerHTML\n",
       "    ).baseUrl.slice(0, -1);\n",
       "}\n",
       "url = baseURL + url;\n",
       "fetch(url).then(function(res) {\n",
       "    if (res.status === 404) {\n",
       "        div.innerHTML = 'Install QIIME 2 Jupyter extension with:<br />' +\n",
       "                        '<code>jupyter serverextension enable --py qiime2' +\n",
       "                        ' --sys-prefix</code><br />then restart your server.' +\n",
       "                        '<br /><br />(Interactive output not available on ' +\n",
       "                        'static notebook viewer services like nbviewer.)';\n",
       "    } else if (res.status === 409) {\n",
       "        div.innerHTML = 'Visualization no longer in scope. Re-run this cell' +\n",
       "                        ' to see the visualization.';\n",
       "    } else if (res.ok) {\n",
       "        url = res.url;\n",
       "        div.innerHTML = '<iframe src=\\'' + url + '\\' style=\\'' +\n",
       "                        'width: 100%; height: 700px; border: 0;\\'>' +\n",
       "                        '</iframe><hr />Open in a: <a href=\\'' + url + '\\'' +\n",
       "                        ' target=\\'_blank\\'>new window</a>'\n",
       "    } else {\n",
       "        div.innerHTML = 'Something has gone wrong. Check notebook server for' +\n",
       "                        ' errors.';\n",
       "    }\n",
       "});\n",
       "})(this.parentElement, '/qiime2/redirect?location=/tmp/qiime2-archive-23n3zsup')\" src=\"data:image/gif;base64,R0lGODlhAQABAIAAAP///wAAACH5BAEAAAAALAAAAAABAAEAAAICRAEAOw==\" /></div>"
      ],
      "text/plain": [
       "<visualization: Visualization uuid: 124a77c4-9c1c-47c3-9f1b-5426ca981b61>"
      ]
     },
     "execution_count": 26,
     "metadata": {},
     "output_type": "execute_result"
    }
   ],
   "source": [
    "Visualization.load(f'{data_dir}/alpha_diversity/core-metrics-results/evenness-vector-group-significance-numeric.qzv')"
   ]
  },
  {
   "cell_type": "markdown",
   "id": "eef392c0-2bd2-47df-8bfc-695390098fb2",
   "metadata": {},
   "source": [
    "- **It seems like there are two trends of the change of alpha diversity before and after HCT, so we subsetted the metadata `day` column and feature table samples into two categories: `before HCT` and `after HCT`**"
   ]
  },
  {
   "cell_type": "code",
   "execution_count": 27,
   "id": "3f858719-dbd9-40fc-b288-b156a64d2b53",
   "metadata": {},
   "outputs": [
    {
     "name": "stdout",
     "output_type": "stream",
     "text": [
      "\u001b[32mSaved FeatureTable[Frequency] to: ../data/alpha_diversity/before_hct_feature_table.qza\u001b[0m\n",
      "\u001b[0m"
     ]
    }
   ],
   "source": [
    "# Before HCT\n",
    "\n",
    "! qiime feature-table filter-samples \\\n",
    "    --i-table $data_dir/taxonomy/table-filtered.qza \\\n",
    "    --m-metadata-file $data_dir/metadata/str_metadata.tsv \\\n",
    "    --p-where \"[day_relative_to_nearest_hct]<'0' or [day_relative_to_nearest_hct]='0'\" \\\n",
    "    --o-filtered-table $data_dir/alpha_diversity/before_hct_feature_table.qza"
   ]
  },
  {
   "cell_type": "code",
   "execution_count": 28,
   "id": "eb7d81ad-9cd2-42e1-9247-975e220983f2",
   "metadata": {
    "tags": []
   },
   "outputs": [
    {
     "name": "stdout",
     "output_type": "stream",
     "text": [
      "\u001b[32mSaved FeatureTable[Frequency] to: ../data/alpha_diversity/core-metrics-results-before-hct/rarefied_table.qza\u001b[0m\n",
      "\u001b[32mSaved SampleData[AlphaDiversity] to: ../data/alpha_diversity/core-metrics-results-before-hct/faith_pd_vector.qza\u001b[0m\n",
      "\u001b[32mSaved SampleData[AlphaDiversity] to: ../data/alpha_diversity/core-metrics-results-before-hct/observed_features_vector.qza\u001b[0m\n",
      "\u001b[32mSaved SampleData[AlphaDiversity] to: ../data/alpha_diversity/core-metrics-results-before-hct/shannon_vector.qza\u001b[0m\n",
      "\u001b[32mSaved SampleData[AlphaDiversity] to: ../data/alpha_diversity/core-metrics-results-before-hct/evenness_vector.qza\u001b[0m\n",
      "\u001b[32mSaved DistanceMatrix to: ../data/alpha_diversity/core-metrics-results-before-hct/unweighted_unifrac_distance_matrix.qza\u001b[0m\n",
      "\u001b[32mSaved DistanceMatrix to: ../data/alpha_diversity/core-metrics-results-before-hct/weighted_unifrac_distance_matrix.qza\u001b[0m\n",
      "\u001b[32mSaved DistanceMatrix to: ../data/alpha_diversity/core-metrics-results-before-hct/jaccard_distance_matrix.qza\u001b[0m\n",
      "\u001b[32mSaved DistanceMatrix to: ../data/alpha_diversity/core-metrics-results-before-hct/bray_curtis_distance_matrix.qza\u001b[0m\n",
      "\u001b[32mSaved PCoAResults to: ../data/alpha_diversity/core-metrics-results-before-hct/unweighted_unifrac_pcoa_results.qza\u001b[0m\n",
      "\u001b[32mSaved PCoAResults to: ../data/alpha_diversity/core-metrics-results-before-hct/weighted_unifrac_pcoa_results.qza\u001b[0m\n",
      "\u001b[32mSaved PCoAResults to: ../data/alpha_diversity/core-metrics-results-before-hct/jaccard_pcoa_results.qza\u001b[0m\n",
      "\u001b[32mSaved PCoAResults to: ../data/alpha_diversity/core-metrics-results-before-hct/bray_curtis_pcoa_results.qza\u001b[0m\n",
      "\u001b[32mSaved Visualization to: ../data/alpha_diversity/core-metrics-results-before-hct/unweighted_unifrac_emperor.qzv\u001b[0m\n",
      "\u001b[32mSaved Visualization to: ../data/alpha_diversity/core-metrics-results-before-hct/weighted_unifrac_emperor.qzv\u001b[0m\n",
      "\u001b[32mSaved Visualization to: ../data/alpha_diversity/core-metrics-results-before-hct/jaccard_emperor.qzv\u001b[0m\n",
      "\u001b[32mSaved Visualization to: ../data/alpha_diversity/core-metrics-results-before-hct/bray_curtis_emperor.qzv\u001b[0m\n",
      "\u001b[0m"
     ]
    }
   ],
   "source": [
    "! qiime diversity core-metrics-phylogenetic \\\n",
    "  --i-table $data_dir/alpha_diversity/before_hct_feature_table.qza \\\n",
    "  --i-phylogeny $data_dir/phylogeny/sepp-tree.qza \\\n",
    "  --m-metadata-file $data_dir/metadata/str_metadata.tsv \\\n",
    "  --p-sampling-depth 3000 \\\n",
    "  --output-dir $data_dir/alpha_diversity/core-metrics-results-before-hct"
   ]
  },
  {
   "cell_type": "code",
   "execution_count": 29,
   "id": "0e51d813-8035-4834-a763-2616809d52b5",
   "metadata": {},
   "outputs": [
    {
     "name": "stdout",
     "output_type": "stream",
     "text": [
      "\u001b[32mSaved Visualization to: ../data/alpha_diversity/core-metrics-results-before-hct/faith-pd-group-significance-numeric.qzv\u001b[0m\n",
      "\u001b[0m"
     ]
    }
   ],
   "source": [
    "# faith_pd\n",
    "\n",
    "! qiime diversity alpha-correlation \\\n",
    "  --i-alpha-diversity $data_dir/alpha_diversity/core-metrics-results-before-hct/faith_pd_vector.qza \\\n",
    "  --m-metadata-file $data_dir/metadata/str_metadata.tsv \\\n",
    "  --o-visualization $data_dir/alpha_diversity/core-metrics-results-before-hct/faith-pd-group-significance-numeric.qzv"
   ]
  },
  {
   "cell_type": "code",
   "execution_count": 30,
   "id": "d6b6a681-851e-41a4-8974-4bedc17aef73",
   "metadata": {
    "tags": []
   },
   "outputs": [
    {
     "data": {
      "text/html": [
       "<div><img onload=\"(function(div, url){\n",
       "if (typeof require !== 'undefined') {\n",
       "    var baseURL = require.toUrl('').split('/').slice(0, -2).join('/');\n",
       "} else {\n",
       "    var baseURL = JSON.parse(\n",
       "        document.getElementById('jupyter-config-data').innerHTML\n",
       "    ).baseUrl.slice(0, -1);\n",
       "}\n",
       "url = baseURL + url;\n",
       "fetch(url).then(function(res) {\n",
       "    if (res.status === 404) {\n",
       "        div.innerHTML = 'Install QIIME 2 Jupyter extension with:<br />' +\n",
       "                        '<code>jupyter serverextension enable --py qiime2' +\n",
       "                        ' --sys-prefix</code><br />then restart your server.' +\n",
       "                        '<br /><br />(Interactive output not available on ' +\n",
       "                        'static notebook viewer services like nbviewer.)';\n",
       "    } else if (res.status === 409) {\n",
       "        div.innerHTML = 'Visualization no longer in scope. Re-run this cell' +\n",
       "                        ' to see the visualization.';\n",
       "    } else if (res.ok) {\n",
       "        url = res.url;\n",
       "        div.innerHTML = '<iframe src=\\'' + url + '\\' style=\\'' +\n",
       "                        'width: 100%; height: 700px; border: 0;\\'>' +\n",
       "                        '</iframe><hr />Open in a: <a href=\\'' + url + '\\'' +\n",
       "                        ' target=\\'_blank\\'>new window</a>'\n",
       "    } else {\n",
       "        div.innerHTML = 'Something has gone wrong. Check notebook server for' +\n",
       "                        ' errors.';\n",
       "    }\n",
       "});\n",
       "})(this.parentElement, '/qiime2/redirect?location=/tmp/qiime2-archive-ycu9cod_')\" src=\"data:image/gif;base64,R0lGODlhAQABAIAAAP///wAAACH5BAEAAAAALAAAAAABAAEAAAICRAEAOw==\" /></div>"
      ],
      "text/plain": [
       "<visualization: Visualization uuid: a94af32c-f5e5-4df5-b6bf-d2e7fb4879cf>"
      ]
     },
     "execution_count": 30,
     "metadata": {},
     "output_type": "execute_result"
    }
   ],
   "source": [
    "Visualization.load(f'{data_dir}/alpha_diversity/core-metrics-results-before-hct/faith-pd-group-significance-numeric.qzv')"
   ]
  },
  {
   "cell_type": "code",
   "execution_count": 31,
   "id": "94384e4a-4b19-48d3-8dc4-af383d31bc69",
   "metadata": {},
   "outputs": [
    {
     "name": "stdout",
     "output_type": "stream",
     "text": [
      "\u001b[32mSaved Visualization to: ../data/alpha_diversity/core-metrics-results-before-hct/observed-features-group-significance-numeric.qzv\u001b[0m\n",
      "\u001b[0m"
     ]
    }
   ],
   "source": [
    "# observed_features\n",
    "\n",
    "! qiime diversity alpha-correlation \\\n",
    "  --i-alpha-diversity $data_dir/alpha_diversity/core-metrics-results-before-hct/observed_features_vector.qza \\\n",
    "  --m-metadata-file $data_dir/metadata/str_metadata.tsv \\\n",
    "  --o-visualization $data_dir/alpha_diversity/core-metrics-results-before-hct/observed-features-group-significance-numeric.qzv"
   ]
  },
  {
   "cell_type": "code",
   "execution_count": 32,
   "id": "39d73a24-c94e-402b-ae9e-73bd8f54c009",
   "metadata": {
    "tags": []
   },
   "outputs": [
    {
     "data": {
      "text/html": [
       "<div><img onload=\"(function(div, url){\n",
       "if (typeof require !== 'undefined') {\n",
       "    var baseURL = require.toUrl('').split('/').slice(0, -2).join('/');\n",
       "} else {\n",
       "    var baseURL = JSON.parse(\n",
       "        document.getElementById('jupyter-config-data').innerHTML\n",
       "    ).baseUrl.slice(0, -1);\n",
       "}\n",
       "url = baseURL + url;\n",
       "fetch(url).then(function(res) {\n",
       "    if (res.status === 404) {\n",
       "        div.innerHTML = 'Install QIIME 2 Jupyter extension with:<br />' +\n",
       "                        '<code>jupyter serverextension enable --py qiime2' +\n",
       "                        ' --sys-prefix</code><br />then restart your server.' +\n",
       "                        '<br /><br />(Interactive output not available on ' +\n",
       "                        'static notebook viewer services like nbviewer.)';\n",
       "    } else if (res.status === 409) {\n",
       "        div.innerHTML = 'Visualization no longer in scope. Re-run this cell' +\n",
       "                        ' to see the visualization.';\n",
       "    } else if (res.ok) {\n",
       "        url = res.url;\n",
       "        div.innerHTML = '<iframe src=\\'' + url + '\\' style=\\'' +\n",
       "                        'width: 100%; height: 700px; border: 0;\\'>' +\n",
       "                        '</iframe><hr />Open in a: <a href=\\'' + url + '\\'' +\n",
       "                        ' target=\\'_blank\\'>new window</a>'\n",
       "    } else {\n",
       "        div.innerHTML = 'Something has gone wrong. Check notebook server for' +\n",
       "                        ' errors.';\n",
       "    }\n",
       "});\n",
       "})(this.parentElement, '/qiime2/redirect?location=/tmp/qiime2-archive-k3rm9x6l')\" src=\"data:image/gif;base64,R0lGODlhAQABAIAAAP///wAAACH5BAEAAAAALAAAAAABAAEAAAICRAEAOw==\" /></div>"
      ],
      "text/plain": [
       "<visualization: Visualization uuid: 1a01fcb4-63cf-4619-ba0a-ffb7cda22e2e>"
      ]
     },
     "execution_count": 32,
     "metadata": {},
     "output_type": "execute_result"
    }
   ],
   "source": [
    "Visualization.load(f'{data_dir}/alpha_diversity/core-metrics-results-before-hct/observed-features-group-significance-numeric.qzv')"
   ]
  },
  {
   "cell_type": "code",
   "execution_count": 33,
   "id": "6276785d-e9b6-4f42-91c8-9593906fd595",
   "metadata": {},
   "outputs": [
    {
     "name": "stdout",
     "output_type": "stream",
     "text": [
      "\u001b[32mSaved Visualization to: ../data/alpha_diversity/core-metrics-results-before-hct/shannon-group-significance-numeric.qzv\u001b[0m\n",
      "\u001b[0m"
     ]
    }
   ],
   "source": [
    "# shannon\n",
    "\n",
    "! qiime diversity alpha-correlation \\\n",
    "  --i-alpha-diversity $data_dir/alpha_diversity/core-metrics-results-before-hct/shannon_vector.qza \\\n",
    "  --m-metadata-file $data_dir/metadata/str_metadata.tsv \\\n",
    "  --o-visualization $data_dir/alpha_diversity/core-metrics-results-before-hct/shannon-group-significance-numeric.qzv"
   ]
  },
  {
   "cell_type": "code",
   "execution_count": 34,
   "id": "56732b43-feef-45cb-ac2d-f0095b22656c",
   "metadata": {
    "tags": []
   },
   "outputs": [
    {
     "data": {
      "text/html": [
       "<div><img onload=\"(function(div, url){\n",
       "if (typeof require !== 'undefined') {\n",
       "    var baseURL = require.toUrl('').split('/').slice(0, -2).join('/');\n",
       "} else {\n",
       "    var baseURL = JSON.parse(\n",
       "        document.getElementById('jupyter-config-data').innerHTML\n",
       "    ).baseUrl.slice(0, -1);\n",
       "}\n",
       "url = baseURL + url;\n",
       "fetch(url).then(function(res) {\n",
       "    if (res.status === 404) {\n",
       "        div.innerHTML = 'Install QIIME 2 Jupyter extension with:<br />' +\n",
       "                        '<code>jupyter serverextension enable --py qiime2' +\n",
       "                        ' --sys-prefix</code><br />then restart your server.' +\n",
       "                        '<br /><br />(Interactive output not available on ' +\n",
       "                        'static notebook viewer services like nbviewer.)';\n",
       "    } else if (res.status === 409) {\n",
       "        div.innerHTML = 'Visualization no longer in scope. Re-run this cell' +\n",
       "                        ' to see the visualization.';\n",
       "    } else if (res.ok) {\n",
       "        url = res.url;\n",
       "        div.innerHTML = '<iframe src=\\'' + url + '\\' style=\\'' +\n",
       "                        'width: 100%; height: 700px; border: 0;\\'>' +\n",
       "                        '</iframe><hr />Open in a: <a href=\\'' + url + '\\'' +\n",
       "                        ' target=\\'_blank\\'>new window</a>'\n",
       "    } else {\n",
       "        div.innerHTML = 'Something has gone wrong. Check notebook server for' +\n",
       "                        ' errors.';\n",
       "    }\n",
       "});\n",
       "})(this.parentElement, '/qiime2/redirect?location=/tmp/qiime2-archive-4r0ozuc2')\" src=\"data:image/gif;base64,R0lGODlhAQABAIAAAP///wAAACH5BAEAAAAALAAAAAABAAEAAAICRAEAOw==\" /></div>"
      ],
      "text/plain": [
       "<visualization: Visualization uuid: 0aacc6e5-1485-487a-a4e9-786dc7a4aaf0>"
      ]
     },
     "execution_count": 34,
     "metadata": {},
     "output_type": "execute_result"
    }
   ],
   "source": [
    "Visualization.load(f'{data_dir}/alpha_diversity/core-metrics-results-before-hct/shannon-group-significance-numeric.qzv')"
   ]
  },
  {
   "cell_type": "code",
   "execution_count": 35,
   "id": "69b5a123-bf0a-4ade-a0a5-c31068b56a6f",
   "metadata": {},
   "outputs": [
    {
     "name": "stdout",
     "output_type": "stream",
     "text": [
      "\u001b[32mSaved Visualization to: ../data/alpha_diversity/core-metrics-results-before-hct/evenness-vector-group-significance-numeric.qzv\u001b[0m\n",
      "\u001b[0m"
     ]
    }
   ],
   "source": [
    "# evenness\n",
    "\n",
    "! qiime diversity alpha-correlation \\\n",
    "  --i-alpha-diversity $data_dir/alpha_diversity/core-metrics-results-before-hct/evenness_vector.qza \\\n",
    "  --m-metadata-file $data_dir/metadata/str_metadata.tsv \\\n",
    "  --o-visualization $data_dir/alpha_diversity/core-metrics-results-before-hct/evenness-vector-group-significance-numeric.qzv"
   ]
  },
  {
   "cell_type": "code",
   "execution_count": 36,
   "id": "53afdaf2-0171-4314-b299-35e3a58a575c",
   "metadata": {
    "tags": []
   },
   "outputs": [
    {
     "data": {
      "text/html": [
       "<div><img onload=\"(function(div, url){\n",
       "if (typeof require !== 'undefined') {\n",
       "    var baseURL = require.toUrl('').split('/').slice(0, -2).join('/');\n",
       "} else {\n",
       "    var baseURL = JSON.parse(\n",
       "        document.getElementById('jupyter-config-data').innerHTML\n",
       "    ).baseUrl.slice(0, -1);\n",
       "}\n",
       "url = baseURL + url;\n",
       "fetch(url).then(function(res) {\n",
       "    if (res.status === 404) {\n",
       "        div.innerHTML = 'Install QIIME 2 Jupyter extension with:<br />' +\n",
       "                        '<code>jupyter serverextension enable --py qiime2' +\n",
       "                        ' --sys-prefix</code><br />then restart your server.' +\n",
       "                        '<br /><br />(Interactive output not available on ' +\n",
       "                        'static notebook viewer services like nbviewer.)';\n",
       "    } else if (res.status === 409) {\n",
       "        div.innerHTML = 'Visualization no longer in scope. Re-run this cell' +\n",
       "                        ' to see the visualization.';\n",
       "    } else if (res.ok) {\n",
       "        url = res.url;\n",
       "        div.innerHTML = '<iframe src=\\'' + url + '\\' style=\\'' +\n",
       "                        'width: 100%; height: 700px; border: 0;\\'>' +\n",
       "                        '</iframe><hr />Open in a: <a href=\\'' + url + '\\'' +\n",
       "                        ' target=\\'_blank\\'>new window</a>'\n",
       "    } else {\n",
       "        div.innerHTML = 'Something has gone wrong. Check notebook server for' +\n",
       "                        ' errors.';\n",
       "    }\n",
       "});\n",
       "})(this.parentElement, '/qiime2/redirect?location=/tmp/qiime2-archive-h7og0e7s')\" src=\"data:image/gif;base64,R0lGODlhAQABAIAAAP///wAAACH5BAEAAAAALAAAAAABAAEAAAICRAEAOw==\" /></div>"
      ],
      "text/plain": [
       "<visualization: Visualization uuid: 3de14ca3-42c2-416e-9c06-49059718c8c1>"
      ]
     },
     "execution_count": 36,
     "metadata": {},
     "output_type": "execute_result"
    }
   ],
   "source": [
    "Visualization.load(f'{data_dir}/alpha_diversity/core-metrics-results-before-hct/evenness-vector-group-significance-numeric.qzv')"
   ]
  },
  {
   "cell_type": "code",
   "execution_count": 37,
   "id": "c7dcf96c-f6e1-4cc4-a6e9-dd4d59af8eda",
   "metadata": {},
   "outputs": [
    {
     "name": "stdout",
     "output_type": "stream",
     "text": [
      "\u001b[32mSaved FeatureTable[Frequency] to: ../data/alpha_diversity/after_hct_feature_table.qza\u001b[0m\n",
      "\u001b[0m"
     ]
    }
   ],
   "source": [
    "# After HCT\n",
    "\n",
    "! qiime feature-table filter-samples \\\n",
    "    --i-table $data_dir/taxonomy/table-filtered.qza \\\n",
    "    --m-metadata-file $data_dir/metadata/str_metadata.tsv \\\n",
    "    --p-where \"[day_relative_to_nearest_hct]>'0' or [day_relative_to_nearest_hct]='0'\" \\\n",
    "    --o-filtered-table $data_dir/alpha_diversity/after_hct_feature_table.qza"
   ]
  },
  {
   "cell_type": "code",
   "execution_count": 38,
   "id": "51cdce0c-c4ab-4454-8aa3-f2042773e974",
   "metadata": {
    "tags": []
   },
   "outputs": [
    {
     "name": "stdout",
     "output_type": "stream",
     "text": [
      "\u001b[32mSaved FeatureTable[Frequency] to: ../data/alpha_diversity/core-metrics-results-after-hct/rarefied_table.qza\u001b[0m\n",
      "\u001b[32mSaved SampleData[AlphaDiversity] to: ../data/alpha_diversity/core-metrics-results-after-hct/faith_pd_vector.qza\u001b[0m\n",
      "\u001b[32mSaved SampleData[AlphaDiversity] to: ../data/alpha_diversity/core-metrics-results-after-hct/observed_features_vector.qza\u001b[0m\n",
      "\u001b[32mSaved SampleData[AlphaDiversity] to: ../data/alpha_diversity/core-metrics-results-after-hct/shannon_vector.qza\u001b[0m\n",
      "\u001b[32mSaved SampleData[AlphaDiversity] to: ../data/alpha_diversity/core-metrics-results-after-hct/evenness_vector.qza\u001b[0m\n",
      "\u001b[32mSaved DistanceMatrix to: ../data/alpha_diversity/core-metrics-results-after-hct/unweighted_unifrac_distance_matrix.qza\u001b[0m\n",
      "\u001b[32mSaved DistanceMatrix to: ../data/alpha_diversity/core-metrics-results-after-hct/weighted_unifrac_distance_matrix.qza\u001b[0m\n",
      "\u001b[32mSaved DistanceMatrix to: ../data/alpha_diversity/core-metrics-results-after-hct/jaccard_distance_matrix.qza\u001b[0m\n",
      "\u001b[32mSaved DistanceMatrix to: ../data/alpha_diversity/core-metrics-results-after-hct/bray_curtis_distance_matrix.qza\u001b[0m\n",
      "\u001b[32mSaved PCoAResults to: ../data/alpha_diversity/core-metrics-results-after-hct/unweighted_unifrac_pcoa_results.qza\u001b[0m\n",
      "\u001b[32mSaved PCoAResults to: ../data/alpha_diversity/core-metrics-results-after-hct/weighted_unifrac_pcoa_results.qza\u001b[0m\n",
      "\u001b[32mSaved PCoAResults to: ../data/alpha_diversity/core-metrics-results-after-hct/jaccard_pcoa_results.qza\u001b[0m\n",
      "\u001b[32mSaved PCoAResults to: ../data/alpha_diversity/core-metrics-results-after-hct/bray_curtis_pcoa_results.qza\u001b[0m\n",
      "\u001b[32mSaved Visualization to: ../data/alpha_diversity/core-metrics-results-after-hct/unweighted_unifrac_emperor.qzv\u001b[0m\n",
      "\u001b[32mSaved Visualization to: ../data/alpha_diversity/core-metrics-results-after-hct/weighted_unifrac_emperor.qzv\u001b[0m\n",
      "\u001b[32mSaved Visualization to: ../data/alpha_diversity/core-metrics-results-after-hct/jaccard_emperor.qzv\u001b[0m\n",
      "\u001b[32mSaved Visualization to: ../data/alpha_diversity/core-metrics-results-after-hct/bray_curtis_emperor.qzv\u001b[0m\n",
      "\u001b[0m"
     ]
    }
   ],
   "source": [
    "! qiime diversity core-metrics-phylogenetic \\\n",
    "  --i-table $data_dir/alpha_diversity/after_hct_feature_table.qza \\\n",
    "  --i-phylogeny $data_dir/phylogeny/sepp-tree.qza \\\n",
    "  --m-metadata-file $data_dir/metadata/str_metadata.tsv \\\n",
    "  --p-sampling-depth 3000 \\\n",
    "  --output-dir $data_dir/alpha_diversity/core-metrics-results-after-hct"
   ]
  },
  {
   "cell_type": "code",
   "execution_count": 39,
   "id": "5df103ec-ccc0-4455-b383-d38f7643193b",
   "metadata": {},
   "outputs": [
    {
     "name": "stdout",
     "output_type": "stream",
     "text": [
      "\u001b[32mSaved Visualization to: ../data/alpha_diversity/core-metrics-results-after-hct/faith-pd-group-significance-numeric.qzv\u001b[0m\n",
      "\u001b[0m"
     ]
    }
   ],
   "source": [
    "# faith_pd\n",
    "\n",
    "! qiime diversity alpha-correlation \\\n",
    "  --i-alpha-diversity $data_dir/alpha_diversity/core-metrics-results-after-hct/faith_pd_vector.qza \\\n",
    "  --m-metadata-file $data_dir/metadata/str_metadata.tsv \\\n",
    "  --o-visualization $data_dir/alpha_diversity/core-metrics-results-after-hct/faith-pd-group-significance-numeric.qzv"
   ]
  },
  {
   "cell_type": "code",
   "execution_count": 40,
   "id": "60b838a1-8dc7-41a4-a369-a58b2f9600f4",
   "metadata": {
    "tags": []
   },
   "outputs": [
    {
     "data": {
      "text/html": [
       "<div><img onload=\"(function(div, url){\n",
       "if (typeof require !== 'undefined') {\n",
       "    var baseURL = require.toUrl('').split('/').slice(0, -2).join('/');\n",
       "} else {\n",
       "    var baseURL = JSON.parse(\n",
       "        document.getElementById('jupyter-config-data').innerHTML\n",
       "    ).baseUrl.slice(0, -1);\n",
       "}\n",
       "url = baseURL + url;\n",
       "fetch(url).then(function(res) {\n",
       "    if (res.status === 404) {\n",
       "        div.innerHTML = 'Install QIIME 2 Jupyter extension with:<br />' +\n",
       "                        '<code>jupyter serverextension enable --py qiime2' +\n",
       "                        ' --sys-prefix</code><br />then restart your server.' +\n",
       "                        '<br /><br />(Interactive output not available on ' +\n",
       "                        'static notebook viewer services like nbviewer.)';\n",
       "    } else if (res.status === 409) {\n",
       "        div.innerHTML = 'Visualization no longer in scope. Re-run this cell' +\n",
       "                        ' to see the visualization.';\n",
       "    } else if (res.ok) {\n",
       "        url = res.url;\n",
       "        div.innerHTML = '<iframe src=\\'' + url + '\\' style=\\'' +\n",
       "                        'width: 100%; height: 700px; border: 0;\\'>' +\n",
       "                        '</iframe><hr />Open in a: <a href=\\'' + url + '\\'' +\n",
       "                        ' target=\\'_blank\\'>new window</a>'\n",
       "    } else {\n",
       "        div.innerHTML = 'Something has gone wrong. Check notebook server for' +\n",
       "                        ' errors.';\n",
       "    }\n",
       "});\n",
       "})(this.parentElement, '/qiime2/redirect?location=/tmp/qiime2-archive-4wwwllus')\" src=\"data:image/gif;base64,R0lGODlhAQABAIAAAP///wAAACH5BAEAAAAALAAAAAABAAEAAAICRAEAOw==\" /></div>"
      ],
      "text/plain": [
       "<visualization: Visualization uuid: 3c9c01c9-64de-47f1-80e7-0642c5c68dc8>"
      ]
     },
     "execution_count": 40,
     "metadata": {},
     "output_type": "execute_result"
    }
   ],
   "source": [
    "Visualization.load(f'{data_dir}/alpha_diversity/core-metrics-results-after-hct/faith-pd-group-significance-numeric.qzv')"
   ]
  },
  {
   "cell_type": "code",
   "execution_count": 41,
   "id": "01465864-74ee-4dcb-a387-b0fa91014e96",
   "metadata": {},
   "outputs": [
    {
     "name": "stdout",
     "output_type": "stream",
     "text": [
      "\u001b[32mSaved Visualization to: ../data/alpha_diversity/core-metrics-results-after-hct/observed-features-group-significance-numeric.qzv\u001b[0m\n",
      "\u001b[0m"
     ]
    }
   ],
   "source": [
    "# observed_features\n",
    "\n",
    "! qiime diversity alpha-correlation \\\n",
    "  --i-alpha-diversity $data_dir/alpha_diversity/core-metrics-results-after-hct/observed_features_vector.qza \\\n",
    "  --m-metadata-file $data_dir/metadata/str_metadata.tsv \\\n",
    "  --o-visualization $data_dir/alpha_diversity/core-metrics-results-after-hct/observed-features-group-significance-numeric.qzv"
   ]
  },
  {
   "cell_type": "code",
   "execution_count": 42,
   "id": "50287887-70f9-4994-8e52-541ced1a1ab8",
   "metadata": {
    "tags": []
   },
   "outputs": [
    {
     "data": {
      "text/html": [
       "<div><img onload=\"(function(div, url){\n",
       "if (typeof require !== 'undefined') {\n",
       "    var baseURL = require.toUrl('').split('/').slice(0, -2).join('/');\n",
       "} else {\n",
       "    var baseURL = JSON.parse(\n",
       "        document.getElementById('jupyter-config-data').innerHTML\n",
       "    ).baseUrl.slice(0, -1);\n",
       "}\n",
       "url = baseURL + url;\n",
       "fetch(url).then(function(res) {\n",
       "    if (res.status === 404) {\n",
       "        div.innerHTML = 'Install QIIME 2 Jupyter extension with:<br />' +\n",
       "                        '<code>jupyter serverextension enable --py qiime2' +\n",
       "                        ' --sys-prefix</code><br />then restart your server.' +\n",
       "                        '<br /><br />(Interactive output not available on ' +\n",
       "                        'static notebook viewer services like nbviewer.)';\n",
       "    } else if (res.status === 409) {\n",
       "        div.innerHTML = 'Visualization no longer in scope. Re-run this cell' +\n",
       "                        ' to see the visualization.';\n",
       "    } else if (res.ok) {\n",
       "        url = res.url;\n",
       "        div.innerHTML = '<iframe src=\\'' + url + '\\' style=\\'' +\n",
       "                        'width: 100%; height: 700px; border: 0;\\'>' +\n",
       "                        '</iframe><hr />Open in a: <a href=\\'' + url + '\\'' +\n",
       "                        ' target=\\'_blank\\'>new window</a>'\n",
       "    } else {\n",
       "        div.innerHTML = 'Something has gone wrong. Check notebook server for' +\n",
       "                        ' errors.';\n",
       "    }\n",
       "});\n",
       "})(this.parentElement, '/qiime2/redirect?location=/tmp/qiime2-archive-4c_6sycx')\" src=\"data:image/gif;base64,R0lGODlhAQABAIAAAP///wAAACH5BAEAAAAALAAAAAABAAEAAAICRAEAOw==\" /></div>"
      ],
      "text/plain": [
       "<visualization: Visualization uuid: b5f06c96-a16a-4406-b6a0-f2a025e353d4>"
      ]
     },
     "execution_count": 42,
     "metadata": {},
     "output_type": "execute_result"
    }
   ],
   "source": [
    "Visualization.load(f'{data_dir}/alpha_diversity/core-metrics-results-after-hct/observed-features-group-significance-numeric.qzv')"
   ]
  },
  {
   "cell_type": "code",
   "execution_count": 43,
   "id": "ce1f4f38-a7a1-41df-8fc8-6b1ec64dd041",
   "metadata": {},
   "outputs": [
    {
     "name": "stdout",
     "output_type": "stream",
     "text": [
      "\u001b[32mSaved Visualization to: ../data/alpha_diversity/core-metrics-results-after-hct/shannon-group-significance-numeric.qzv\u001b[0m\n",
      "\u001b[0m"
     ]
    }
   ],
   "source": [
    "# shannon\n",
    "\n",
    "! qiime diversity alpha-correlation \\\n",
    "  --i-alpha-diversity $data_dir/alpha_diversity/core-metrics-results-after-hct/shannon_vector.qza \\\n",
    "  --m-metadata-file $data_dir/metadata/str_metadata.tsv \\\n",
    "  --o-visualization $data_dir/alpha_diversity/core-metrics-results-after-hct/shannon-group-significance-numeric.qzv"
   ]
  },
  {
   "cell_type": "code",
   "execution_count": 44,
   "id": "58855286-17fb-4e1b-be18-ca3de2f5d4c3",
   "metadata": {
    "tags": []
   },
   "outputs": [
    {
     "data": {
      "text/html": [
       "<div><img onload=\"(function(div, url){\n",
       "if (typeof require !== 'undefined') {\n",
       "    var baseURL = require.toUrl('').split('/').slice(0, -2).join('/');\n",
       "} else {\n",
       "    var baseURL = JSON.parse(\n",
       "        document.getElementById('jupyter-config-data').innerHTML\n",
       "    ).baseUrl.slice(0, -1);\n",
       "}\n",
       "url = baseURL + url;\n",
       "fetch(url).then(function(res) {\n",
       "    if (res.status === 404) {\n",
       "        div.innerHTML = 'Install QIIME 2 Jupyter extension with:<br />' +\n",
       "                        '<code>jupyter serverextension enable --py qiime2' +\n",
       "                        ' --sys-prefix</code><br />then restart your server.' +\n",
       "                        '<br /><br />(Interactive output not available on ' +\n",
       "                        'static notebook viewer services like nbviewer.)';\n",
       "    } else if (res.status === 409) {\n",
       "        div.innerHTML = 'Visualization no longer in scope. Re-run this cell' +\n",
       "                        ' to see the visualization.';\n",
       "    } else if (res.ok) {\n",
       "        url = res.url;\n",
       "        div.innerHTML = '<iframe src=\\'' + url + '\\' style=\\'' +\n",
       "                        'width: 100%; height: 700px; border: 0;\\'>' +\n",
       "                        '</iframe><hr />Open in a: <a href=\\'' + url + '\\'' +\n",
       "                        ' target=\\'_blank\\'>new window</a>'\n",
       "    } else {\n",
       "        div.innerHTML = 'Something has gone wrong. Check notebook server for' +\n",
       "                        ' errors.';\n",
       "    }\n",
       "});\n",
       "})(this.parentElement, '/qiime2/redirect?location=/tmp/qiime2-archive-d4hird0u')\" src=\"data:image/gif;base64,R0lGODlhAQABAIAAAP///wAAACH5BAEAAAAALAAAAAABAAEAAAICRAEAOw==\" /></div>"
      ],
      "text/plain": [
       "<visualization: Visualization uuid: a4564bde-61e5-40e7-9a85-9ca6ba984d9f>"
      ]
     },
     "execution_count": 44,
     "metadata": {},
     "output_type": "execute_result"
    }
   ],
   "source": [
    "Visualization.load(f'{data_dir}/alpha_diversity/core-metrics-results-after-hct/shannon-group-significance-numeric.qzv')"
   ]
  },
  {
   "cell_type": "code",
   "execution_count": 45,
   "id": "7ebec961-01f6-45f7-93f4-dc3a7967b1b2",
   "metadata": {},
   "outputs": [
    {
     "name": "stdout",
     "output_type": "stream",
     "text": [
      "\u001b[32mSaved Visualization to: ../data/alpha_diversity/core-metrics-results-after-hct/evenness-vector-group-significance-numeric.qzv\u001b[0m\n",
      "\u001b[0m"
     ]
    }
   ],
   "source": [
    "# evenness\n",
    "\n",
    "! qiime diversity alpha-correlation \\\n",
    "  --i-alpha-diversity $data_dir/alpha_diversity/core-metrics-results-after-hct/evenness_vector.qza \\\n",
    "  --m-metadata-file $data_dir/metadata/str_metadata.tsv \\\n",
    "  --o-visualization $data_dir/alpha_diversity/core-metrics-results-after-hct/evenness-vector-group-significance-numeric.qzv"
   ]
  },
  {
   "cell_type": "code",
   "execution_count": 46,
   "id": "8191dab9-313c-4849-8fe2-a0add4aa5923",
   "metadata": {},
   "outputs": [
    {
     "data": {
      "text/html": [
       "<div><img onload=\"(function(div, url){\n",
       "if (typeof require !== 'undefined') {\n",
       "    var baseURL = require.toUrl('').split('/').slice(0, -2).join('/');\n",
       "} else {\n",
       "    var baseURL = JSON.parse(\n",
       "        document.getElementById('jupyter-config-data').innerHTML\n",
       "    ).baseUrl.slice(0, -1);\n",
       "}\n",
       "url = baseURL + url;\n",
       "fetch(url).then(function(res) {\n",
       "    if (res.status === 404) {\n",
       "        div.innerHTML = 'Install QIIME 2 Jupyter extension with:<br />' +\n",
       "                        '<code>jupyter serverextension enable --py qiime2' +\n",
       "                        ' --sys-prefix</code><br />then restart your server.' +\n",
       "                        '<br /><br />(Interactive output not available on ' +\n",
       "                        'static notebook viewer services like nbviewer.)';\n",
       "    } else if (res.status === 409) {\n",
       "        div.innerHTML = 'Visualization no longer in scope. Re-run this cell' +\n",
       "                        ' to see the visualization.';\n",
       "    } else if (res.ok) {\n",
       "        url = res.url;\n",
       "        div.innerHTML = '<iframe src=\\'' + url + '\\' style=\\'' +\n",
       "                        'width: 100%; height: 700px; border: 0;\\'>' +\n",
       "                        '</iframe><hr />Open in a: <a href=\\'' + url + '\\'' +\n",
       "                        ' target=\\'_blank\\'>new window</a>'\n",
       "    } else {\n",
       "        div.innerHTML = 'Something has gone wrong. Check notebook server for' +\n",
       "                        ' errors.';\n",
       "    }\n",
       "});\n",
       "})(this.parentElement, '/qiime2/redirect?location=/tmp/qiime2-archive-cpyme4mz')\" src=\"data:image/gif;base64,R0lGODlhAQABAIAAAP///wAAACH5BAEAAAAALAAAAAABAAEAAAICRAEAOw==\" /></div>"
      ],
      "text/plain": [
       "<visualization: Visualization uuid: fe75d14b-5080-44e5-b2e1-ab5d817a884a>"
      ]
     },
     "execution_count": 46,
     "metadata": {},
     "output_type": "execute_result"
    }
   ],
   "source": [
    "Visualization.load(f'{data_dir}/alpha_diversity/core-metrics-results-after-hct/evenness-vector-group-significance-numeric.qzv')"
   ]
  },
  {
   "cell_type": "markdown",
   "id": "e9e64b47-aa92-4599-832f-5a6a1c5c164f",
   "metadata": {},
   "source": [
    "- **From the general results, we observed significantly lower alpha diversity in their gut microbiota of allged abducted patietns compared to that of the non-abducted. Under this circumstance, we want to know if this result is homogeneous between the abducted and non-abducted patients among diffrent subgroups in terms of patients' characteristics (according to the metadata).**"
   ]
  },
  {
   "cell_type": "markdown",
   "id": "b5ad9f72-5292-430f-a676-e3afc81aec55",
   "metadata": {},
   "source": [
    "### 2.3 Compare between abducted and non-abuducted patients with different HCT time"
   ]
  },
  {
   "cell_type": "markdown",
   "id": "d5326823-b868-42a1-89cd-863dae563155",
   "metadata": {},
   "source": [
    "**`Pre`-engraftment**"
   ]
  },
  {
   "cell_type": "code",
   "execution_count": 47,
   "id": "f8dbacf0-44c7-4fcb-b592-3740c4884b11",
   "metadata": {},
   "outputs": [
    {
     "name": "stdout",
     "output_type": "stream",
     "text": [
      "\u001b[32mSaved FeatureTable[Frequency] to: ../data/alpha_diversity/pre_feature_table.qza\u001b[0m\n",
      "\u001b[0m"
     ]
    }
   ],
   "source": [
    "# Subset pre-engraftment patients \n",
    "\n",
    "! qiime feature-table filter-samples \\\n",
    "    --i-table $data_dir/taxonomy/table-filtered.qza \\\n",
    "    --m-metadata-file $data_dir/metadata/str_metadata.tsv \\\n",
    "    --p-where \"[categorical_time_relative_to_engraftment]='pre' \" \\\n",
    "    --o-filtered-table $data_dir/alpha_diversity/pre_feature_table.qza"
   ]
  },
  {
   "cell_type": "code",
   "execution_count": 48,
   "id": "ee71c0b5-fb60-42a8-8dd1-f35332093deb",
   "metadata": {
    "tags": []
   },
   "outputs": [
    {
     "name": "stdout",
     "output_type": "stream",
     "text": [
      "\u001b[32mSaved FeatureTable[Frequency] to: ../data/alpha_diversity/core-metrics-results-pre/rarefied_table.qza\u001b[0m\n",
      "\u001b[32mSaved SampleData[AlphaDiversity] to: ../data/alpha_diversity/core-metrics-results-pre/faith_pd_vector.qza\u001b[0m\n",
      "\u001b[32mSaved SampleData[AlphaDiversity] to: ../data/alpha_diversity/core-metrics-results-pre/observed_features_vector.qza\u001b[0m\n",
      "\u001b[32mSaved SampleData[AlphaDiversity] to: ../data/alpha_diversity/core-metrics-results-pre/shannon_vector.qza\u001b[0m\n",
      "\u001b[32mSaved SampleData[AlphaDiversity] to: ../data/alpha_diversity/core-metrics-results-pre/evenness_vector.qza\u001b[0m\n",
      "\u001b[32mSaved DistanceMatrix to: ../data/alpha_diversity/core-metrics-results-pre/unweighted_unifrac_distance_matrix.qza\u001b[0m\n",
      "\u001b[32mSaved DistanceMatrix to: ../data/alpha_diversity/core-metrics-results-pre/weighted_unifrac_distance_matrix.qza\u001b[0m\n",
      "\u001b[32mSaved DistanceMatrix to: ../data/alpha_diversity/core-metrics-results-pre/jaccard_distance_matrix.qza\u001b[0m\n",
      "\u001b[32mSaved DistanceMatrix to: ../data/alpha_diversity/core-metrics-results-pre/bray_curtis_distance_matrix.qza\u001b[0m\n",
      "\u001b[32mSaved PCoAResults to: ../data/alpha_diversity/core-metrics-results-pre/unweighted_unifrac_pcoa_results.qza\u001b[0m\n",
      "\u001b[32mSaved PCoAResults to: ../data/alpha_diversity/core-metrics-results-pre/weighted_unifrac_pcoa_results.qza\u001b[0m\n",
      "\u001b[32mSaved PCoAResults to: ../data/alpha_diversity/core-metrics-results-pre/jaccard_pcoa_results.qza\u001b[0m\n",
      "\u001b[32mSaved PCoAResults to: ../data/alpha_diversity/core-metrics-results-pre/bray_curtis_pcoa_results.qza\u001b[0m\n",
      "\u001b[32mSaved Visualization to: ../data/alpha_diversity/core-metrics-results-pre/unweighted_unifrac_emperor.qzv\u001b[0m\n",
      "\u001b[32mSaved Visualization to: ../data/alpha_diversity/core-metrics-results-pre/weighted_unifrac_emperor.qzv\u001b[0m\n",
      "\u001b[32mSaved Visualization to: ../data/alpha_diversity/core-metrics-results-pre/jaccard_emperor.qzv\u001b[0m\n",
      "\u001b[32mSaved Visualization to: ../data/alpha_diversity/core-metrics-results-pre/bray_curtis_emperor.qzv\u001b[0m\n",
      "\u001b[0m"
     ]
    }
   ],
   "source": [
    "! qiime diversity core-metrics-phylogenetic \\\n",
    "  --i-table $data_dir/alpha_diversity/pre_feature_table.qza \\\n",
    "  --i-phylogeny $data_dir/phylogeny/sepp-tree.qza \\\n",
    "  --m-metadata-file $data_dir/metadata/str_metadata.tsv \\\n",
    "  --p-sampling-depth 3000 \\\n",
    "  --output-dir $data_dir/alpha_diversity/core-metrics-results-pre"
   ]
  },
  {
   "cell_type": "code",
   "execution_count": 51,
   "id": "66516565-dd34-49a4-a3f7-65940533782a",
   "metadata": {},
   "outputs": [
    {
     "name": "stdout",
     "output_type": "stream",
     "text": [
      "\u001b[32mSaved Visualization to: ../data/alpha_diversity/core-metrics-results-pre/faith-pd-group-significance.qzv\u001b[0m\n",
      "\u001b[0m"
     ]
    }
   ],
   "source": [
    "# faith_pd\n",
    "\n",
    "! qiime diversity alpha-group-significance \\\n",
    "  --i-alpha-diversity $data_dir/alpha_diversity/core-metrics-results-pre/faith_pd_vector.qza \\\n",
    "  --m-metadata-file $data_dir/metadata/str_metadata.tsv \\\n",
    "  --o-visualization $data_dir/alpha_diversity/core-metrics-results-pre/faith-pd-group-significance.qzv"
   ]
  },
  {
   "cell_type": "code",
   "execution_count": 52,
   "id": "7f8c8d54-ace5-4c2e-89f1-f3fc90457574",
   "metadata": {
    "tags": []
   },
   "outputs": [
    {
     "data": {
      "text/html": [
       "<div><img onload=\"(function(div, url){\n",
       "if (typeof require !== 'undefined') {\n",
       "    var baseURL = require.toUrl('').split('/').slice(0, -2).join('/');\n",
       "} else {\n",
       "    var baseURL = JSON.parse(\n",
       "        document.getElementById('jupyter-config-data').innerHTML\n",
       "    ).baseUrl.slice(0, -1);\n",
       "}\n",
       "url = baseURL + url;\n",
       "fetch(url).then(function(res) {\n",
       "    if (res.status === 404) {\n",
       "        div.innerHTML = 'Install QIIME 2 Jupyter extension with:<br />' +\n",
       "                        '<code>jupyter serverextension enable --py qiime2' +\n",
       "                        ' --sys-prefix</code><br />then restart your server.' +\n",
       "                        '<br /><br />(Interactive output not available on ' +\n",
       "                        'static notebook viewer services like nbviewer.)';\n",
       "    } else if (res.status === 409) {\n",
       "        div.innerHTML = 'Visualization no longer in scope. Re-run this cell' +\n",
       "                        ' to see the visualization.';\n",
       "    } else if (res.ok) {\n",
       "        url = res.url;\n",
       "        div.innerHTML = '<iframe src=\\'' + url + '\\' style=\\'' +\n",
       "                        'width: 100%; height: 700px; border: 0;\\'>' +\n",
       "                        '</iframe><hr />Open in a: <a href=\\'' + url + '\\'' +\n",
       "                        ' target=\\'_blank\\'>new window</a>'\n",
       "    } else {\n",
       "        div.innerHTML = 'Something has gone wrong. Check notebook server for' +\n",
       "                        ' errors.';\n",
       "    }\n",
       "});\n",
       "})(this.parentElement, '/qiime2/redirect?location=/tmp/qiime2-archive-co6cc44w')\" src=\"data:image/gif;base64,R0lGODlhAQABAIAAAP///wAAACH5BAEAAAAALAAAAAABAAEAAAICRAEAOw==\" /></div>"
      ],
      "text/plain": [
       "<visualization: Visualization uuid: 204da91d-deb0-4e17-851e-eb77f8dbacee>"
      ]
     },
     "execution_count": 52,
     "metadata": {},
     "output_type": "execute_result"
    }
   ],
   "source": [
    "Visualization.load(f'{data_dir}/alpha_diversity/core-metrics-results-pre/faith-pd-group-significance.qzv')"
   ]
  },
  {
   "cell_type": "code",
   "execution_count": 53,
   "id": "16b31452-f27f-436a-aed3-312968111236",
   "metadata": {},
   "outputs": [
    {
     "name": "stdout",
     "output_type": "stream",
     "text": [
      "\u001b[32mSaved Visualization to: ../data/alpha_diversity/core-metrics-results-pre/observed-features-group-significance.qzv\u001b[0m\n",
      "\u001b[0m"
     ]
    }
   ],
   "source": [
    "# observed features\n",
    "\n",
    "! qiime diversity alpha-group-significance \\\n",
    "  --i-alpha-diversity $data_dir/alpha_diversity/core-metrics-results-pre/observed_features_vector.qza \\\n",
    "  --m-metadata-file $data_dir/metadata/str_metadata.tsv \\\n",
    "  --o-visualization $data_dir/alpha_diversity/core-metrics-results-pre/observed-features-group-significance.qzv"
   ]
  },
  {
   "cell_type": "code",
   "execution_count": 54,
   "id": "770a5f4c-394c-4d7b-b8a0-79c22539bc99",
   "metadata": {
    "tags": []
   },
   "outputs": [
    {
     "data": {
      "text/html": [
       "<div><img onload=\"(function(div, url){\n",
       "if (typeof require !== 'undefined') {\n",
       "    var baseURL = require.toUrl('').split('/').slice(0, -2).join('/');\n",
       "} else {\n",
       "    var baseURL = JSON.parse(\n",
       "        document.getElementById('jupyter-config-data').innerHTML\n",
       "    ).baseUrl.slice(0, -1);\n",
       "}\n",
       "url = baseURL + url;\n",
       "fetch(url).then(function(res) {\n",
       "    if (res.status === 404) {\n",
       "        div.innerHTML = 'Install QIIME 2 Jupyter extension with:<br />' +\n",
       "                        '<code>jupyter serverextension enable --py qiime2' +\n",
       "                        ' --sys-prefix</code><br />then restart your server.' +\n",
       "                        '<br /><br />(Interactive output not available on ' +\n",
       "                        'static notebook viewer services like nbviewer.)';\n",
       "    } else if (res.status === 409) {\n",
       "        div.innerHTML = 'Visualization no longer in scope. Re-run this cell' +\n",
       "                        ' to see the visualization.';\n",
       "    } else if (res.ok) {\n",
       "        url = res.url;\n",
       "        div.innerHTML = '<iframe src=\\'' + url + '\\' style=\\'' +\n",
       "                        'width: 100%; height: 700px; border: 0;\\'>' +\n",
       "                        '</iframe><hr />Open in a: <a href=\\'' + url + '\\'' +\n",
       "                        ' target=\\'_blank\\'>new window</a>'\n",
       "    } else {\n",
       "        div.innerHTML = 'Something has gone wrong. Check notebook server for' +\n",
       "                        ' errors.';\n",
       "    }\n",
       "});\n",
       "})(this.parentElement, '/qiime2/redirect?location=/tmp/qiime2-archive-p_o21ipn')\" src=\"data:image/gif;base64,R0lGODlhAQABAIAAAP///wAAACH5BAEAAAAALAAAAAABAAEAAAICRAEAOw==\" /></div>"
      ],
      "text/plain": [
       "<visualization: Visualization uuid: ca8e0e31-4683-4e15-a5f6-dfd96ebfbf33>"
      ]
     },
     "execution_count": 54,
     "metadata": {},
     "output_type": "execute_result"
    }
   ],
   "source": [
    "Visualization.load(f'{data_dir}/alpha_diversity/core-metrics-results-pre/observed-features-group-significance.qzv')"
   ]
  },
  {
   "cell_type": "code",
   "execution_count": 55,
   "id": "5c14284f-4fb0-43d5-a44d-036f9c0eb5ce",
   "metadata": {},
   "outputs": [
    {
     "name": "stdout",
     "output_type": "stream",
     "text": [
      "\u001b[32mSaved Visualization to: ../data/alpha_diversity/core-metrics-results-pre/shannon-group-significance.qzv\u001b[0m\n",
      "\u001b[0m"
     ]
    }
   ],
   "source": [
    "# shannon\n",
    "\n",
    "! qiime diversity alpha-group-significance \\\n",
    "  --i-alpha-diversity $data_dir/alpha_diversity/core-metrics-results-pre/shannon_vector.qza \\\n",
    "  --m-metadata-file $data_dir/metadata/str_metadata.tsv \\\n",
    "  --o-visualization $data_dir/alpha_diversity/core-metrics-results-pre/shannon-group-significance.qzv"
   ]
  },
  {
   "cell_type": "code",
   "execution_count": 56,
   "id": "6ec5a30c-90b2-4d2d-b629-f82f25e2085e",
   "metadata": {
    "tags": []
   },
   "outputs": [
    {
     "data": {
      "text/html": [
       "<div><img onload=\"(function(div, url){\n",
       "if (typeof require !== 'undefined') {\n",
       "    var baseURL = require.toUrl('').split('/').slice(0, -2).join('/');\n",
       "} else {\n",
       "    var baseURL = JSON.parse(\n",
       "        document.getElementById('jupyter-config-data').innerHTML\n",
       "    ).baseUrl.slice(0, -1);\n",
       "}\n",
       "url = baseURL + url;\n",
       "fetch(url).then(function(res) {\n",
       "    if (res.status === 404) {\n",
       "        div.innerHTML = 'Install QIIME 2 Jupyter extension with:<br />' +\n",
       "                        '<code>jupyter serverextension enable --py qiime2' +\n",
       "                        ' --sys-prefix</code><br />then restart your server.' +\n",
       "                        '<br /><br />(Interactive output not available on ' +\n",
       "                        'static notebook viewer services like nbviewer.)';\n",
       "    } else if (res.status === 409) {\n",
       "        div.innerHTML = 'Visualization no longer in scope. Re-run this cell' +\n",
       "                        ' to see the visualization.';\n",
       "    } else if (res.ok) {\n",
       "        url = res.url;\n",
       "        div.innerHTML = '<iframe src=\\'' + url + '\\' style=\\'' +\n",
       "                        'width: 100%; height: 700px; border: 0;\\'>' +\n",
       "                        '</iframe><hr />Open in a: <a href=\\'' + url + '\\'' +\n",
       "                        ' target=\\'_blank\\'>new window</a>'\n",
       "    } else {\n",
       "        div.innerHTML = 'Something has gone wrong. Check notebook server for' +\n",
       "                        ' errors.';\n",
       "    }\n",
       "});\n",
       "})(this.parentElement, '/qiime2/redirect?location=/tmp/qiime2-archive-yv30zxje')\" src=\"data:image/gif;base64,R0lGODlhAQABAIAAAP///wAAACH5BAEAAAAALAAAAAABAAEAAAICRAEAOw==\" /></div>"
      ],
      "text/plain": [
       "<visualization: Visualization uuid: 993c3f96-df1f-4023-8479-635e4e24bf7e>"
      ]
     },
     "execution_count": 56,
     "metadata": {},
     "output_type": "execute_result"
    }
   ],
   "source": [
    "Visualization.load(f'{data_dir}/alpha_diversity/core-metrics-results-pre/shannon-group-significance.qzv')"
   ]
  },
  {
   "cell_type": "code",
   "execution_count": 57,
   "id": "c560a72d-4012-4791-9a1b-242b4e9c2a2e",
   "metadata": {},
   "outputs": [
    {
     "name": "stdout",
     "output_type": "stream",
     "text": [
      "\u001b[32mSaved Visualization to: ../data/alpha_diversity/core-metrics-results-pre/evenness-vector-group-significance.qzv\u001b[0m\n",
      "\u001b[0m"
     ]
    }
   ],
   "source": [
    "# evenness\n",
    "\n",
    "! qiime diversity alpha-group-significance \\\n",
    "  --i-alpha-diversity $data_dir/alpha_diversity/core-metrics-results-pre/evenness_vector.qza \\\n",
    "  --m-metadata-file $data_dir/metadata/str_metadata.tsv \\\n",
    "  --o-visualization $data_dir/alpha_diversity/core-metrics-results-pre/evenness-vector-group-significance.qzv"
   ]
  },
  {
   "cell_type": "code",
   "execution_count": 58,
   "id": "fbff46f0-3c5e-4f45-aedd-b36752c2e810",
   "metadata": {
    "tags": []
   },
   "outputs": [
    {
     "data": {
      "text/html": [
       "<div><img onload=\"(function(div, url){\n",
       "if (typeof require !== 'undefined') {\n",
       "    var baseURL = require.toUrl('').split('/').slice(0, -2).join('/');\n",
       "} else {\n",
       "    var baseURL = JSON.parse(\n",
       "        document.getElementById('jupyter-config-data').innerHTML\n",
       "    ).baseUrl.slice(0, -1);\n",
       "}\n",
       "url = baseURL + url;\n",
       "fetch(url).then(function(res) {\n",
       "    if (res.status === 404) {\n",
       "        div.innerHTML = 'Install QIIME 2 Jupyter extension with:<br />' +\n",
       "                        '<code>jupyter serverextension enable --py qiime2' +\n",
       "                        ' --sys-prefix</code><br />then restart your server.' +\n",
       "                        '<br /><br />(Interactive output not available on ' +\n",
       "                        'static notebook viewer services like nbviewer.)';\n",
       "    } else if (res.status === 409) {\n",
       "        div.innerHTML = 'Visualization no longer in scope. Re-run this cell' +\n",
       "                        ' to see the visualization.';\n",
       "    } else if (res.ok) {\n",
       "        url = res.url;\n",
       "        div.innerHTML = '<iframe src=\\'' + url + '\\' style=\\'' +\n",
       "                        'width: 100%; height: 700px; border: 0;\\'>' +\n",
       "                        '</iframe><hr />Open in a: <a href=\\'' + url + '\\'' +\n",
       "                        ' target=\\'_blank\\'>new window</a>'\n",
       "    } else {\n",
       "        div.innerHTML = 'Something has gone wrong. Check notebook server for' +\n",
       "                        ' errors.';\n",
       "    }\n",
       "});\n",
       "})(this.parentElement, '/qiime2/redirect?location=/tmp/qiime2-archive-eapien57')\" src=\"data:image/gif;base64,R0lGODlhAQABAIAAAP///wAAACH5BAEAAAAALAAAAAABAAEAAAICRAEAOw==\" /></div>"
      ],
      "text/plain": [
       "<visualization: Visualization uuid: f7917d8b-37ff-43e6-adce-9dbc9381752c>"
      ]
     },
     "execution_count": 58,
     "metadata": {},
     "output_type": "execute_result"
    }
   ],
   "source": [
    "Visualization.load(f'{data_dir}/alpha_diversity/core-metrics-results-pre/evenness-vector-group-significance.qzv')"
   ]
  },
  {
   "cell_type": "markdown",
   "id": "fc45a74c-cec9-44c1-b012-c0f90db28479",
   "metadata": {},
   "source": [
    "**`peri`**"
   ]
  },
  {
   "cell_type": "code",
   "execution_count": 59,
   "id": "e4137c19-da12-4230-b0af-d015c7dd1a2a",
   "metadata": {},
   "outputs": [
    {
     "name": "stdout",
     "output_type": "stream",
     "text": [
      "\u001b[32mSaved FeatureTable[Frequency] to: ../data/alpha_diversity/peri_feature_table.qza\u001b[0m\n",
      "\u001b[0m"
     ]
    }
   ],
   "source": [
    "# Subset peri-engraftment patients\n",
    "\n",
    "! qiime feature-table filter-samples \\\n",
    "    --i-table $data_dir/taxonomy/table-filtered.qza \\\n",
    "    --m-metadata-file $data_dir/metadata/str_metadata.tsv \\\n",
    "    --p-where \"[categorical_time_relative_to_engraftment]='peri' \" \\\n",
    "    --o-filtered-table $data_dir/alpha_diversity/peri_feature_table.qza"
   ]
  },
  {
   "cell_type": "code",
   "execution_count": 60,
   "id": "bcb5dad8-bcfc-47a6-8739-1c93a1a61b32",
   "metadata": {
    "tags": []
   },
   "outputs": [
    {
     "name": "stdout",
     "output_type": "stream",
     "text": [
      "\u001b[32mSaved FeatureTable[Frequency] to: ../data/alpha_diversity/core-metrics-results-peri/rarefied_table.qza\u001b[0m\n",
      "\u001b[32mSaved SampleData[AlphaDiversity] to: ../data/alpha_diversity/core-metrics-results-peri/faith_pd_vector.qza\u001b[0m\n",
      "\u001b[32mSaved SampleData[AlphaDiversity] to: ../data/alpha_diversity/core-metrics-results-peri/observed_features_vector.qza\u001b[0m\n",
      "\u001b[32mSaved SampleData[AlphaDiversity] to: ../data/alpha_diversity/core-metrics-results-peri/shannon_vector.qza\u001b[0m\n",
      "\u001b[32mSaved SampleData[AlphaDiversity] to: ../data/alpha_diversity/core-metrics-results-peri/evenness_vector.qza\u001b[0m\n",
      "\u001b[32mSaved DistanceMatrix to: ../data/alpha_diversity/core-metrics-results-peri/unweighted_unifrac_distance_matrix.qza\u001b[0m\n",
      "\u001b[32mSaved DistanceMatrix to: ../data/alpha_diversity/core-metrics-results-peri/weighted_unifrac_distance_matrix.qza\u001b[0m\n",
      "\u001b[32mSaved DistanceMatrix to: ../data/alpha_diversity/core-metrics-results-peri/jaccard_distance_matrix.qza\u001b[0m\n",
      "\u001b[32mSaved DistanceMatrix to: ../data/alpha_diversity/core-metrics-results-peri/bray_curtis_distance_matrix.qza\u001b[0m\n",
      "\u001b[32mSaved PCoAResults to: ../data/alpha_diversity/core-metrics-results-peri/unweighted_unifrac_pcoa_results.qza\u001b[0m\n",
      "\u001b[32mSaved PCoAResults to: ../data/alpha_diversity/core-metrics-results-peri/weighted_unifrac_pcoa_results.qza\u001b[0m\n",
      "\u001b[32mSaved PCoAResults to: ../data/alpha_diversity/core-metrics-results-peri/jaccard_pcoa_results.qza\u001b[0m\n",
      "\u001b[32mSaved PCoAResults to: ../data/alpha_diversity/core-metrics-results-peri/bray_curtis_pcoa_results.qza\u001b[0m\n",
      "\u001b[32mSaved Visualization to: ../data/alpha_diversity/core-metrics-results-peri/unweighted_unifrac_emperor.qzv\u001b[0m\n",
      "\u001b[32mSaved Visualization to: ../data/alpha_diversity/core-metrics-results-peri/weighted_unifrac_emperor.qzv\u001b[0m\n",
      "\u001b[32mSaved Visualization to: ../data/alpha_diversity/core-metrics-results-peri/jaccard_emperor.qzv\u001b[0m\n",
      "\u001b[32mSaved Visualization to: ../data/alpha_diversity/core-metrics-results-peri/bray_curtis_emperor.qzv\u001b[0m\n",
      "\u001b[0m"
     ]
    }
   ],
   "source": [
    "! qiime diversity core-metrics-phylogenetic \\\n",
    "  --i-table $data_dir/alpha_diversity/peri_feature_table.qza \\\n",
    "  --i-phylogeny $data_dir/phylogeny/sepp-tree.qza \\\n",
    "  --m-metadata-file $data_dir/metadata/str_metadata.tsv \\\n",
    "  --p-sampling-depth 3000 \\\n",
    "  --output-dir $data_dir/alpha_diversity/core-metrics-results-peri"
   ]
  },
  {
   "cell_type": "code",
   "execution_count": 61,
   "id": "f07692c8-2532-42d4-9a40-18c00278e68c",
   "metadata": {},
   "outputs": [
    {
     "name": "stdout",
     "output_type": "stream",
     "text": [
      "\u001b[32mSaved Visualization to: ../data/alpha_diversity/core-metrics-results-peri/faith-pd-group-significance.qzv\u001b[0m\n",
      "\u001b[0m"
     ]
    }
   ],
   "source": [
    "# faith_pd\n",
    "\n",
    "! qiime diversity alpha-group-significance \\\n",
    "  --i-alpha-diversity $data_dir/alpha_diversity/core-metrics-results-peri/faith_pd_vector.qza \\\n",
    "  --m-metadata-file $data_dir/metadata/str_metadata.tsv \\\n",
    "  --o-visualization $data_dir/alpha_diversity/core-metrics-results-peri/faith-pd-group-significance.qzv"
   ]
  },
  {
   "cell_type": "code",
   "execution_count": 62,
   "id": "8f2505ac-1d7f-4289-a074-5829b5241a7d",
   "metadata": {
    "tags": []
   },
   "outputs": [
    {
     "data": {
      "text/html": [
       "<div><img onload=\"(function(div, url){\n",
       "if (typeof require !== 'undefined') {\n",
       "    var baseURL = require.toUrl('').split('/').slice(0, -2).join('/');\n",
       "} else {\n",
       "    var baseURL = JSON.parse(\n",
       "        document.getElementById('jupyter-config-data').innerHTML\n",
       "    ).baseUrl.slice(0, -1);\n",
       "}\n",
       "url = baseURL + url;\n",
       "fetch(url).then(function(res) {\n",
       "    if (res.status === 404) {\n",
       "        div.innerHTML = 'Install QIIME 2 Jupyter extension with:<br />' +\n",
       "                        '<code>jupyter serverextension enable --py qiime2' +\n",
       "                        ' --sys-prefix</code><br />then restart your server.' +\n",
       "                        '<br /><br />(Interactive output not available on ' +\n",
       "                        'static notebook viewer services like nbviewer.)';\n",
       "    } else if (res.status === 409) {\n",
       "        div.innerHTML = 'Visualization no longer in scope. Re-run this cell' +\n",
       "                        ' to see the visualization.';\n",
       "    } else if (res.ok) {\n",
       "        url = res.url;\n",
       "        div.innerHTML = '<iframe src=\\'' + url + '\\' style=\\'' +\n",
       "                        'width: 100%; height: 700px; border: 0;\\'>' +\n",
       "                        '</iframe><hr />Open in a: <a href=\\'' + url + '\\'' +\n",
       "                        ' target=\\'_blank\\'>new window</a>'\n",
       "    } else {\n",
       "        div.innerHTML = 'Something has gone wrong. Check notebook server for' +\n",
       "                        ' errors.';\n",
       "    }\n",
       "});\n",
       "})(this.parentElement, '/qiime2/redirect?location=/tmp/qiime2-archive-ujcdv0lr')\" src=\"data:image/gif;base64,R0lGODlhAQABAIAAAP///wAAACH5BAEAAAAALAAAAAABAAEAAAICRAEAOw==\" /></div>"
      ],
      "text/plain": [
       "<visualization: Visualization uuid: e0e89e93-fd89-4add-9ce7-a1bdf6570fc6>"
      ]
     },
     "execution_count": 62,
     "metadata": {},
     "output_type": "execute_result"
    }
   ],
   "source": [
    "Visualization.load(f'{data_dir}/alpha_diversity/core-metrics-results-peri/faith-pd-group-significance.qzv')"
   ]
  },
  {
   "cell_type": "code",
   "execution_count": 63,
   "id": "d02d1b38-5cea-4c19-9616-1f00f9f03325",
   "metadata": {},
   "outputs": [
    {
     "name": "stdout",
     "output_type": "stream",
     "text": [
      "\u001b[32mSaved Visualization to: ../data/alpha_diversity/core-metrics-results-peri/observed-features-group-significance.qzv\u001b[0m\n",
      "\u001b[0m"
     ]
    }
   ],
   "source": [
    "# observed features\n",
    "\n",
    "! qiime diversity alpha-group-significance \\\n",
    "  --i-alpha-diversity $data_dir/alpha_diversity/core-metrics-results-peri/observed_features_vector.qza \\\n",
    "  --m-metadata-file $data_dir/metadata/str_metadata.tsv \\\n",
    "  --o-visualization $data_dir/alpha_diversity/core-metrics-results-peri/observed-features-group-significance.qzv"
   ]
  },
  {
   "cell_type": "code",
   "execution_count": 64,
   "id": "053257c9-9065-4cb2-acf7-0dda001f667f",
   "metadata": {
    "tags": []
   },
   "outputs": [
    {
     "data": {
      "text/html": [
       "<div><img onload=\"(function(div, url){\n",
       "if (typeof require !== 'undefined') {\n",
       "    var baseURL = require.toUrl('').split('/').slice(0, -2).join('/');\n",
       "} else {\n",
       "    var baseURL = JSON.parse(\n",
       "        document.getElementById('jupyter-config-data').innerHTML\n",
       "    ).baseUrl.slice(0, -1);\n",
       "}\n",
       "url = baseURL + url;\n",
       "fetch(url).then(function(res) {\n",
       "    if (res.status === 404) {\n",
       "        div.innerHTML = 'Install QIIME 2 Jupyter extension with:<br />' +\n",
       "                        '<code>jupyter serverextension enable --py qiime2' +\n",
       "                        ' --sys-prefix</code><br />then restart your server.' +\n",
       "                        '<br /><br />(Interactive output not available on ' +\n",
       "                        'static notebook viewer services like nbviewer.)';\n",
       "    } else if (res.status === 409) {\n",
       "        div.innerHTML = 'Visualization no longer in scope. Re-run this cell' +\n",
       "                        ' to see the visualization.';\n",
       "    } else if (res.ok) {\n",
       "        url = res.url;\n",
       "        div.innerHTML = '<iframe src=\\'' + url + '\\' style=\\'' +\n",
       "                        'width: 100%; height: 700px; border: 0;\\'>' +\n",
       "                        '</iframe><hr />Open in a: <a href=\\'' + url + '\\'' +\n",
       "                        ' target=\\'_blank\\'>new window</a>'\n",
       "    } else {\n",
       "        div.innerHTML = 'Something has gone wrong. Check notebook server for' +\n",
       "                        ' errors.';\n",
       "    }\n",
       "});\n",
       "})(this.parentElement, '/qiime2/redirect?location=/tmp/qiime2-archive-8ga4lll4')\" src=\"data:image/gif;base64,R0lGODlhAQABAIAAAP///wAAACH5BAEAAAAALAAAAAABAAEAAAICRAEAOw==\" /></div>"
      ],
      "text/plain": [
       "<visualization: Visualization uuid: 06a15f17-e69d-47a6-9685-65d0cfc2da3f>"
      ]
     },
     "execution_count": 64,
     "metadata": {},
     "output_type": "execute_result"
    }
   ],
   "source": [
    "Visualization.load(f'{data_dir}/alpha_diversity/core-metrics-results-peri/observed-features-group-significance.qzv')"
   ]
  },
  {
   "cell_type": "code",
   "execution_count": 65,
   "id": "8518a91a-7784-4818-8760-ace4d25e422a",
   "metadata": {},
   "outputs": [
    {
     "name": "stdout",
     "output_type": "stream",
     "text": [
      "\u001b[32mSaved Visualization to: ../data/alpha_diversity/core-metrics-results-peri/shannon-group-significance.qzv\u001b[0m\n",
      "\u001b[0m"
     ]
    }
   ],
   "source": [
    "# shannon \n",
    "\n",
    "! qiime diversity alpha-group-significance \\\n",
    "  --i-alpha-diversity $data_dir/alpha_diversity/core-metrics-results-peri/shannon_vector.qza \\\n",
    "  --m-metadata-file $data_dir/metadata/str_metadata.tsv \\\n",
    "  --o-visualization $data_dir/alpha_diversity/core-metrics-results-peri/shannon-group-significance.qzv"
   ]
  },
  {
   "cell_type": "code",
   "execution_count": 66,
   "id": "ff34efb0-71b8-4ad2-88e7-27595ff9fc4d",
   "metadata": {
    "tags": []
   },
   "outputs": [
    {
     "data": {
      "text/html": [
       "<div><img onload=\"(function(div, url){\n",
       "if (typeof require !== 'undefined') {\n",
       "    var baseURL = require.toUrl('').split('/').slice(0, -2).join('/');\n",
       "} else {\n",
       "    var baseURL = JSON.parse(\n",
       "        document.getElementById('jupyter-config-data').innerHTML\n",
       "    ).baseUrl.slice(0, -1);\n",
       "}\n",
       "url = baseURL + url;\n",
       "fetch(url).then(function(res) {\n",
       "    if (res.status === 404) {\n",
       "        div.innerHTML = 'Install QIIME 2 Jupyter extension with:<br />' +\n",
       "                        '<code>jupyter serverextension enable --py qiime2' +\n",
       "                        ' --sys-prefix</code><br />then restart your server.' +\n",
       "                        '<br /><br />(Interactive output not available on ' +\n",
       "                        'static notebook viewer services like nbviewer.)';\n",
       "    } else if (res.status === 409) {\n",
       "        div.innerHTML = 'Visualization no longer in scope. Re-run this cell' +\n",
       "                        ' to see the visualization.';\n",
       "    } else if (res.ok) {\n",
       "        url = res.url;\n",
       "        div.innerHTML = '<iframe src=\\'' + url + '\\' style=\\'' +\n",
       "                        'width: 100%; height: 700px; border: 0;\\'>' +\n",
       "                        '</iframe><hr />Open in a: <a href=\\'' + url + '\\'' +\n",
       "                        ' target=\\'_blank\\'>new window</a>'\n",
       "    } else {\n",
       "        div.innerHTML = 'Something has gone wrong. Check notebook server for' +\n",
       "                        ' errors.';\n",
       "    }\n",
       "});\n",
       "})(this.parentElement, '/qiime2/redirect?location=/tmp/qiime2-archive-48ci20ww')\" src=\"data:image/gif;base64,R0lGODlhAQABAIAAAP///wAAACH5BAEAAAAALAAAAAABAAEAAAICRAEAOw==\" /></div>"
      ],
      "text/plain": [
       "<visualization: Visualization uuid: f4859c75-d152-46db-986f-1fc27ed8679d>"
      ]
     },
     "execution_count": 66,
     "metadata": {},
     "output_type": "execute_result"
    }
   ],
   "source": [
    "Visualization.load(f'{data_dir}/alpha_diversity/core-metrics-results-peri/shannon-group-significance.qzv')"
   ]
  },
  {
   "cell_type": "code",
   "execution_count": 68,
   "id": "209f0bc2-4bbe-405a-87d1-bf911b50dcff",
   "metadata": {},
   "outputs": [
    {
     "name": "stdout",
     "output_type": "stream",
     "text": [
      "\u001b[32mSaved Visualization to: ../data/alpha_diversity/core-metrics-results-peri/evenness-vector-group-significance.qzv\u001b[0m\n",
      "\u001b[0m"
     ]
    }
   ],
   "source": [
    "# evenness\n",
    "\n",
    "! qiime diversity alpha-group-significance \\\n",
    "  --i-alpha-diversity $data_dir/alpha_diversity/core-metrics-results-peri/evenness_vector.qza \\\n",
    "  --m-metadata-file $data_dir/metadata/str_metadata.tsv \\\n",
    "  --o-visualization $data_dir/alpha_diversity/core-metrics-results-peri/evenness-vector-group-significance.qzv"
   ]
  },
  {
   "cell_type": "code",
   "execution_count": 69,
   "id": "32618585-c678-4d74-963f-e8425ed19e13",
   "metadata": {
    "tags": []
   },
   "outputs": [
    {
     "data": {
      "text/html": [
       "<div><img onload=\"(function(div, url){\n",
       "if (typeof require !== 'undefined') {\n",
       "    var baseURL = require.toUrl('').split('/').slice(0, -2).join('/');\n",
       "} else {\n",
       "    var baseURL = JSON.parse(\n",
       "        document.getElementById('jupyter-config-data').innerHTML\n",
       "    ).baseUrl.slice(0, -1);\n",
       "}\n",
       "url = baseURL + url;\n",
       "fetch(url).then(function(res) {\n",
       "    if (res.status === 404) {\n",
       "        div.innerHTML = 'Install QIIME 2 Jupyter extension with:<br />' +\n",
       "                        '<code>jupyter serverextension enable --py qiime2' +\n",
       "                        ' --sys-prefix</code><br />then restart your server.' +\n",
       "                        '<br /><br />(Interactive output not available on ' +\n",
       "                        'static notebook viewer services like nbviewer.)';\n",
       "    } else if (res.status === 409) {\n",
       "        div.innerHTML = 'Visualization no longer in scope. Re-run this cell' +\n",
       "                        ' to see the visualization.';\n",
       "    } else if (res.ok) {\n",
       "        url = res.url;\n",
       "        div.innerHTML = '<iframe src=\\'' + url + '\\' style=\\'' +\n",
       "                        'width: 100%; height: 700px; border: 0;\\'>' +\n",
       "                        '</iframe><hr />Open in a: <a href=\\'' + url + '\\'' +\n",
       "                        ' target=\\'_blank\\'>new window</a>'\n",
       "    } else {\n",
       "        div.innerHTML = 'Something has gone wrong. Check notebook server for' +\n",
       "                        ' errors.';\n",
       "    }\n",
       "});\n",
       "})(this.parentElement, '/qiime2/redirect?location=/tmp/qiime2-archive-j_1apdr0')\" src=\"data:image/gif;base64,R0lGODlhAQABAIAAAP///wAAACH5BAEAAAAALAAAAAABAAEAAAICRAEAOw==\" /></div>"
      ],
      "text/plain": [
       "<visualization: Visualization uuid: 76332ec2-fdb8-419d-845f-059042614fab>"
      ]
     },
     "execution_count": 69,
     "metadata": {},
     "output_type": "execute_result"
    }
   ],
   "source": [
    "Visualization.load(f'{data_dir}/alpha_diversity/core-metrics-results-peri/evenness-vector-group-significance.qzv')"
   ]
  },
  {
   "cell_type": "markdown",
   "id": "ba585acc-9fef-4e4e-8f39-d9ca66748acb",
   "metadata": {},
   "source": [
    "**`post`-engraftment**"
   ]
  },
  {
   "cell_type": "code",
   "execution_count": 70,
   "id": "502ba813-1c8d-4025-aa6c-63bfdbc613fb",
   "metadata": {},
   "outputs": [
    {
     "name": "stdout",
     "output_type": "stream",
     "text": [
      "\u001b[32mSaved FeatureTable[Frequency] to: ../data/alpha_diversity/post_feature_table.qza\u001b[0m\n",
      "\u001b[0m"
     ]
    }
   ],
   "source": [
    "# Subset post-engraftment patients\n",
    "\n",
    "! qiime feature-table filter-samples \\\n",
    "    --i-table $data_dir/taxonomy/table-filtered.qza \\\n",
    "    --m-metadata-file $data_dir/metadata/str_metadata.tsv \\\n",
    "    --p-where \"[categorical_time_relative_to_engraftment]='post' \" \\\n",
    "    --o-filtered-table $data_dir/alpha_diversity/post_feature_table.qza"
   ]
  },
  {
   "cell_type": "code",
   "execution_count": 71,
   "id": "e3850b8b-9e59-49c6-92ec-808fc9d60f43",
   "metadata": {
    "tags": []
   },
   "outputs": [
    {
     "name": "stdout",
     "output_type": "stream",
     "text": [
      "\u001b[32mSaved FeatureTable[Frequency] to: ../data/alpha_diversity/core-metrics-results-post/rarefied_table.qza\u001b[0m\n",
      "\u001b[32mSaved SampleData[AlphaDiversity] to: ../data/alpha_diversity/core-metrics-results-post/faith_pd_vector.qza\u001b[0m\n",
      "\u001b[32mSaved SampleData[AlphaDiversity] to: ../data/alpha_diversity/core-metrics-results-post/observed_features_vector.qza\u001b[0m\n",
      "\u001b[32mSaved SampleData[AlphaDiversity] to: ../data/alpha_diversity/core-metrics-results-post/shannon_vector.qza\u001b[0m\n",
      "\u001b[32mSaved SampleData[AlphaDiversity] to: ../data/alpha_diversity/core-metrics-results-post/evenness_vector.qza\u001b[0m\n",
      "\u001b[32mSaved DistanceMatrix to: ../data/alpha_diversity/core-metrics-results-post/unweighted_unifrac_distance_matrix.qza\u001b[0m\n",
      "\u001b[32mSaved DistanceMatrix to: ../data/alpha_diversity/core-metrics-results-post/weighted_unifrac_distance_matrix.qza\u001b[0m\n",
      "\u001b[32mSaved DistanceMatrix to: ../data/alpha_diversity/core-metrics-results-post/jaccard_distance_matrix.qza\u001b[0m\n",
      "\u001b[32mSaved DistanceMatrix to: ../data/alpha_diversity/core-metrics-results-post/bray_curtis_distance_matrix.qza\u001b[0m\n",
      "\u001b[32mSaved PCoAResults to: ../data/alpha_diversity/core-metrics-results-post/unweighted_unifrac_pcoa_results.qza\u001b[0m\n",
      "\u001b[32mSaved PCoAResults to: ../data/alpha_diversity/core-metrics-results-post/weighted_unifrac_pcoa_results.qza\u001b[0m\n",
      "\u001b[32mSaved PCoAResults to: ../data/alpha_diversity/core-metrics-results-post/jaccard_pcoa_results.qza\u001b[0m\n",
      "\u001b[32mSaved PCoAResults to: ../data/alpha_diversity/core-metrics-results-post/bray_curtis_pcoa_results.qza\u001b[0m\n",
      "\u001b[32mSaved Visualization to: ../data/alpha_diversity/core-metrics-results-post/unweighted_unifrac_emperor.qzv\u001b[0m\n",
      "\u001b[32mSaved Visualization to: ../data/alpha_diversity/core-metrics-results-post/weighted_unifrac_emperor.qzv\u001b[0m\n",
      "\u001b[32mSaved Visualization to: ../data/alpha_diversity/core-metrics-results-post/jaccard_emperor.qzv\u001b[0m\n",
      "\u001b[32mSaved Visualization to: ../data/alpha_diversity/core-metrics-results-post/bray_curtis_emperor.qzv\u001b[0m\n",
      "\u001b[0m"
     ]
    }
   ],
   "source": [
    "! qiime diversity core-metrics-phylogenetic \\\n",
    "  --i-table $data_dir/alpha_diversity/post_feature_table.qza \\\n",
    "  --i-phylogeny $data_dir/phylogeny/sepp-tree.qza \\\n",
    "  --m-metadata-file $data_dir/metadata/str_metadata.tsv \\\n",
    "  --p-sampling-depth 3000 \\\n",
    "  --output-dir $data_dir/alpha_diversity/core-metrics-results-post"
   ]
  },
  {
   "cell_type": "code",
   "execution_count": 72,
   "id": "b6faf3f8-526c-4873-8e1d-a534d76c28e8",
   "metadata": {},
   "outputs": [
    {
     "name": "stdout",
     "output_type": "stream",
     "text": [
      "\u001b[32mSaved Visualization to: ../data/alpha_diversity/core-metrics-results-post/faith-pd-group-significance.qzv\u001b[0m\n",
      "\u001b[0m"
     ]
    }
   ],
   "source": [
    "# faith_pd\n",
    "\n",
    "! qiime diversity alpha-group-significance \\\n",
    "  --i-alpha-diversity $data_dir/alpha_diversity/core-metrics-results-post/faith_pd_vector.qza \\\n",
    "  --m-metadata-file $data_dir/metadata/str_metadata.tsv \\\n",
    "  --o-visualization $data_dir/alpha_diversity/core-metrics-results-post/faith-pd-group-significance.qzv"
   ]
  },
  {
   "cell_type": "code",
   "execution_count": 73,
   "id": "5ace3495-a88a-4592-9337-4c8c85d2e63c",
   "metadata": {
    "tags": []
   },
   "outputs": [
    {
     "data": {
      "text/html": [
       "<div><img onload=\"(function(div, url){\n",
       "if (typeof require !== 'undefined') {\n",
       "    var baseURL = require.toUrl('').split('/').slice(0, -2).join('/');\n",
       "} else {\n",
       "    var baseURL = JSON.parse(\n",
       "        document.getElementById('jupyter-config-data').innerHTML\n",
       "    ).baseUrl.slice(0, -1);\n",
       "}\n",
       "url = baseURL + url;\n",
       "fetch(url).then(function(res) {\n",
       "    if (res.status === 404) {\n",
       "        div.innerHTML = 'Install QIIME 2 Jupyter extension with:<br />' +\n",
       "                        '<code>jupyter serverextension enable --py qiime2' +\n",
       "                        ' --sys-prefix</code><br />then restart your server.' +\n",
       "                        '<br /><br />(Interactive output not available on ' +\n",
       "                        'static notebook viewer services like nbviewer.)';\n",
       "    } else if (res.status === 409) {\n",
       "        div.innerHTML = 'Visualization no longer in scope. Re-run this cell' +\n",
       "                        ' to see the visualization.';\n",
       "    } else if (res.ok) {\n",
       "        url = res.url;\n",
       "        div.innerHTML = '<iframe src=\\'' + url + '\\' style=\\'' +\n",
       "                        'width: 100%; height: 700px; border: 0;\\'>' +\n",
       "                        '</iframe><hr />Open in a: <a href=\\'' + url + '\\'' +\n",
       "                        ' target=\\'_blank\\'>new window</a>'\n",
       "    } else {\n",
       "        div.innerHTML = 'Something has gone wrong. Check notebook server for' +\n",
       "                        ' errors.';\n",
       "    }\n",
       "});\n",
       "})(this.parentElement, '/qiime2/redirect?location=/tmp/qiime2-archive-p61_m2gv')\" src=\"data:image/gif;base64,R0lGODlhAQABAIAAAP///wAAACH5BAEAAAAALAAAAAABAAEAAAICRAEAOw==\" /></div>"
      ],
      "text/plain": [
       "<visualization: Visualization uuid: 4301b03a-aef2-42e8-941b-f8b6355035cf>"
      ]
     },
     "execution_count": 73,
     "metadata": {},
     "output_type": "execute_result"
    }
   ],
   "source": [
    "Visualization.load(f'{data_dir}/alpha_diversity/core-metrics-results-post/faith-pd-group-significance.qzv')"
   ]
  },
  {
   "cell_type": "code",
   "execution_count": 74,
   "id": "27422bbf-10ae-4a98-a54a-ec05aceb6d37",
   "metadata": {},
   "outputs": [
    {
     "name": "stdout",
     "output_type": "stream",
     "text": [
      "\u001b[32mSaved Visualization to: ../data/alpha_diversity/core-metrics-results-post/observed-features-group-significance.qzv\u001b[0m\n",
      "\u001b[0m"
     ]
    }
   ],
   "source": [
    "# observed features\n",
    "\n",
    "! qiime diversity alpha-group-significance \\\n",
    "  --i-alpha-diversity $data_dir/alpha_diversity/core-metrics-results-post/observed_features_vector.qza \\\n",
    "  --m-metadata-file $data_dir/metadata/str_metadata.tsv \\\n",
    "  --o-visualization $data_dir/alpha_diversity/core-metrics-results-post/observed-features-group-significance.qzv"
   ]
  },
  {
   "cell_type": "code",
   "execution_count": 75,
   "id": "1e426502-d290-495c-9ba1-402e34aa0900",
   "metadata": {
    "tags": []
   },
   "outputs": [
    {
     "data": {
      "text/html": [
       "<div><img onload=\"(function(div, url){\n",
       "if (typeof require !== 'undefined') {\n",
       "    var baseURL = require.toUrl('').split('/').slice(0, -2).join('/');\n",
       "} else {\n",
       "    var baseURL = JSON.parse(\n",
       "        document.getElementById('jupyter-config-data').innerHTML\n",
       "    ).baseUrl.slice(0, -1);\n",
       "}\n",
       "url = baseURL + url;\n",
       "fetch(url).then(function(res) {\n",
       "    if (res.status === 404) {\n",
       "        div.innerHTML = 'Install QIIME 2 Jupyter extension with:<br />' +\n",
       "                        '<code>jupyter serverextension enable --py qiime2' +\n",
       "                        ' --sys-prefix</code><br />then restart your server.' +\n",
       "                        '<br /><br />(Interactive output not available on ' +\n",
       "                        'static notebook viewer services like nbviewer.)';\n",
       "    } else if (res.status === 409) {\n",
       "        div.innerHTML = 'Visualization no longer in scope. Re-run this cell' +\n",
       "                        ' to see the visualization.';\n",
       "    } else if (res.ok) {\n",
       "        url = res.url;\n",
       "        div.innerHTML = '<iframe src=\\'' + url + '\\' style=\\'' +\n",
       "                        'width: 100%; height: 700px; border: 0;\\'>' +\n",
       "                        '</iframe><hr />Open in a: <a href=\\'' + url + '\\'' +\n",
       "                        ' target=\\'_blank\\'>new window</a>'\n",
       "    } else {\n",
       "        div.innerHTML = 'Something has gone wrong. Check notebook server for' +\n",
       "                        ' errors.';\n",
       "    }\n",
       "});\n",
       "})(this.parentElement, '/qiime2/redirect?location=/tmp/qiime2-archive-crgap493')\" src=\"data:image/gif;base64,R0lGODlhAQABAIAAAP///wAAACH5BAEAAAAALAAAAAABAAEAAAICRAEAOw==\" /></div>"
      ],
      "text/plain": [
       "<visualization: Visualization uuid: 1cf80f8e-da01-4872-9388-c5439c7a5e89>"
      ]
     },
     "execution_count": 75,
     "metadata": {},
     "output_type": "execute_result"
    }
   ],
   "source": [
    "Visualization.load(f'{data_dir}/alpha_diversity/core-metrics-results-post/observed-features-group-significance.qzv')"
   ]
  },
  {
   "cell_type": "code",
   "execution_count": 76,
   "id": "8c01cdaf-be26-46e1-940e-69b6cc95cc48",
   "metadata": {},
   "outputs": [
    {
     "name": "stdout",
     "output_type": "stream",
     "text": [
      "\u001b[32mSaved Visualization to: ../data/alpha_diversity/core-metrics-results-post/shannon-group-significance.qzv\u001b[0m\n",
      "\u001b[0m"
     ]
    }
   ],
   "source": [
    "# shannon\n",
    "\n",
    "! qiime diversity alpha-group-significance \\\n",
    "  --i-alpha-diversity $data_dir/alpha_diversity/core-metrics-results-post/shannon_vector.qza \\\n",
    "  --m-metadata-file $data_dir/metadata/str_metadata.tsv \\\n",
    "  --o-visualization $data_dir/alpha_diversity/core-metrics-results-post/shannon-group-significance.qzv"
   ]
  },
  {
   "cell_type": "code",
   "execution_count": 78,
   "id": "36c03326-026b-467a-b2a2-cb5bc401e7b2",
   "metadata": {
    "tags": []
   },
   "outputs": [
    {
     "data": {
      "text/html": [
       "<div><img onload=\"(function(div, url){\n",
       "if (typeof require !== 'undefined') {\n",
       "    var baseURL = require.toUrl('').split('/').slice(0, -2).join('/');\n",
       "} else {\n",
       "    var baseURL = JSON.parse(\n",
       "        document.getElementById('jupyter-config-data').innerHTML\n",
       "    ).baseUrl.slice(0, -1);\n",
       "}\n",
       "url = baseURL + url;\n",
       "fetch(url).then(function(res) {\n",
       "    if (res.status === 404) {\n",
       "        div.innerHTML = 'Install QIIME 2 Jupyter extension with:<br />' +\n",
       "                        '<code>jupyter serverextension enable --py qiime2' +\n",
       "                        ' --sys-prefix</code><br />then restart your server.' +\n",
       "                        '<br /><br />(Interactive output not available on ' +\n",
       "                        'static notebook viewer services like nbviewer.)';\n",
       "    } else if (res.status === 409) {\n",
       "        div.innerHTML = 'Visualization no longer in scope. Re-run this cell' +\n",
       "                        ' to see the visualization.';\n",
       "    } else if (res.ok) {\n",
       "        url = res.url;\n",
       "        div.innerHTML = '<iframe src=\\'' + url + '\\' style=\\'' +\n",
       "                        'width: 100%; height: 700px; border: 0;\\'>' +\n",
       "                        '</iframe><hr />Open in a: <a href=\\'' + url + '\\'' +\n",
       "                        ' target=\\'_blank\\'>new window</a>'\n",
       "    } else {\n",
       "        div.innerHTML = 'Something has gone wrong. Check notebook server for' +\n",
       "                        ' errors.';\n",
       "    }\n",
       "});\n",
       "})(this.parentElement, '/qiime2/redirect?location=/tmp/qiime2-archive-tel6om0f')\" src=\"data:image/gif;base64,R0lGODlhAQABAIAAAP///wAAACH5BAEAAAAALAAAAAABAAEAAAICRAEAOw==\" /></div>"
      ],
      "text/plain": [
       "<visualization: Visualization uuid: 7787a3f3-3cdb-4ca0-934e-e76e82c04d22>"
      ]
     },
     "execution_count": 78,
     "metadata": {},
     "output_type": "execute_result"
    }
   ],
   "source": [
    "Visualization.load(f'{data_dir}/alpha_diversity/core-metrics-results-post/shannon-group-significance.qzv')"
   ]
  },
  {
   "cell_type": "code",
   "execution_count": 79,
   "id": "58cb4c0e-cdb1-4e24-aa33-d37cb00e39f6",
   "metadata": {},
   "outputs": [
    {
     "name": "stdout",
     "output_type": "stream",
     "text": [
      "\u001b[32mSaved Visualization to: ../data/alpha_diversity/core-metrics-results-post/evenness-vector-group-significance.qzv\u001b[0m\n",
      "\u001b[0m"
     ]
    }
   ],
   "source": [
    "# evenness\n",
    "\n",
    "! qiime diversity alpha-group-significance \\\n",
    "  --i-alpha-diversity $data_dir/alpha_diversity/core-metrics-results-post/evenness_vector.qza \\\n",
    "  --m-metadata-file $data_dir/metadata/str_metadata.tsv \\\n",
    "  --o-visualization $data_dir/alpha_diversity/core-metrics-results-post/evenness-vector-group-significance.qzv"
   ]
  },
  {
   "cell_type": "code",
   "execution_count": 80,
   "id": "eca400c9-f296-4858-8bfa-97460c36e110",
   "metadata": {
    "tags": []
   },
   "outputs": [
    {
     "data": {
      "text/html": [
       "<div><img onload=\"(function(div, url){\n",
       "if (typeof require !== 'undefined') {\n",
       "    var baseURL = require.toUrl('').split('/').slice(0, -2).join('/');\n",
       "} else {\n",
       "    var baseURL = JSON.parse(\n",
       "        document.getElementById('jupyter-config-data').innerHTML\n",
       "    ).baseUrl.slice(0, -1);\n",
       "}\n",
       "url = baseURL + url;\n",
       "fetch(url).then(function(res) {\n",
       "    if (res.status === 404) {\n",
       "        div.innerHTML = 'Install QIIME 2 Jupyter extension with:<br />' +\n",
       "                        '<code>jupyter serverextension enable --py qiime2' +\n",
       "                        ' --sys-prefix</code><br />then restart your server.' +\n",
       "                        '<br /><br />(Interactive output not available on ' +\n",
       "                        'static notebook viewer services like nbviewer.)';\n",
       "    } else if (res.status === 409) {\n",
       "        div.innerHTML = 'Visualization no longer in scope. Re-run this cell' +\n",
       "                        ' to see the visualization.';\n",
       "    } else if (res.ok) {\n",
       "        url = res.url;\n",
       "        div.innerHTML = '<iframe src=\\'' + url + '\\' style=\\'' +\n",
       "                        'width: 100%; height: 700px; border: 0;\\'>' +\n",
       "                        '</iframe><hr />Open in a: <a href=\\'' + url + '\\'' +\n",
       "                        ' target=\\'_blank\\'>new window</a>'\n",
       "    } else {\n",
       "        div.innerHTML = 'Something has gone wrong. Check notebook server for' +\n",
       "                        ' errors.';\n",
       "    }\n",
       "});\n",
       "})(this.parentElement, '/qiime2/redirect?location=/tmp/qiime2-archive-hoxs9k6b')\" src=\"data:image/gif;base64,R0lGODlhAQABAIAAAP///wAAACH5BAEAAAAALAAAAAABAAEAAAICRAEAOw==\" /></div>"
      ],
      "text/plain": [
       "<visualization: Visualization uuid: 9a35e2e2-e0db-4007-8ec3-18504cc0155f>"
      ]
     },
     "execution_count": 80,
     "metadata": {},
     "output_type": "execute_result"
    }
   ],
   "source": [
    "Visualization.load(f'{data_dir}/alpha_diversity/core-metrics-results-post/evenness-vector-group-significance.qzv')"
   ]
  },
  {
   "cell_type": "markdown",
   "id": "c97d17b9-db01-4398-925f-6ed7ed747da1",
   "metadata": {},
   "source": [
    "### 2.4 Compare between abducted and non-abuducted patients with different diseases"
   ]
  },
  {
   "cell_type": "markdown",
   "id": "01597c0e-f08e-4b27-8b94-85fee99cd985",
   "metadata": {},
   "source": [
    "**`leukemia`**"
   ]
  },
  {
   "cell_type": "code",
   "execution_count": 20,
   "id": "e521dba0-3429-494f-a29b-f7ae7157802d",
   "metadata": {},
   "outputs": [
    {
     "name": "stdout",
     "output_type": "stream",
     "text": [
      "\u001b[32mSaved FeatureTable[Frequency] to: ../data/alpha_diversity/leuk_feature_table.qza\u001b[0m\n",
      "\u001b[0m"
     ]
    }
   ],
   "source": [
    "# Subset samples with leukemia\n",
    "\n",
    "! qiime feature-table filter-samples \\\n",
    "    --i-table $data_dir/taxonomy/table-filtered.qza \\\n",
    "    --m-metadata-file $data_dir/metadata/str_nan_metadata.tsv \\\n",
    "    --p-where \"[disease]='Leukemia' \" \\\n",
    "    --o-filtered-table $data_dir/alpha_diversity/leuk_feature_table.qza"
   ]
  },
  {
   "cell_type": "code",
   "execution_count": 21,
   "id": "96d17976-812c-47e5-8bbf-3bfa0cc2783c",
   "metadata": {
    "tags": []
   },
   "outputs": [
    {
     "name": "stdout",
     "output_type": "stream",
     "text": [
      "\u001b[32mSaved FeatureTable[Frequency] to: ../data/alpha_diversity/core-metrics-results-leuk/rarefied_table.qza\u001b[0m\n",
      "\u001b[32mSaved SampleData[AlphaDiversity] to: ../data/alpha_diversity/core-metrics-results-leuk/faith_pd_vector.qza\u001b[0m\n",
      "\u001b[32mSaved SampleData[AlphaDiversity] to: ../data/alpha_diversity/core-metrics-results-leuk/observed_features_vector.qza\u001b[0m\n",
      "\u001b[32mSaved SampleData[AlphaDiversity] to: ../data/alpha_diversity/core-metrics-results-leuk/shannon_vector.qza\u001b[0m\n",
      "\u001b[32mSaved SampleData[AlphaDiversity] to: ../data/alpha_diversity/core-metrics-results-leuk/evenness_vector.qza\u001b[0m\n",
      "\u001b[32mSaved DistanceMatrix to: ../data/alpha_diversity/core-metrics-results-leuk/unweighted_unifrac_distance_matrix.qza\u001b[0m\n",
      "\u001b[32mSaved DistanceMatrix to: ../data/alpha_diversity/core-metrics-results-leuk/weighted_unifrac_distance_matrix.qza\u001b[0m\n",
      "\u001b[32mSaved DistanceMatrix to: ../data/alpha_diversity/core-metrics-results-leuk/jaccard_distance_matrix.qza\u001b[0m\n",
      "\u001b[32mSaved DistanceMatrix to: ../data/alpha_diversity/core-metrics-results-leuk/bray_curtis_distance_matrix.qza\u001b[0m\n",
      "\u001b[32mSaved PCoAResults to: ../data/alpha_diversity/core-metrics-results-leuk/unweighted_unifrac_pcoa_results.qza\u001b[0m\n",
      "\u001b[32mSaved PCoAResults to: ../data/alpha_diversity/core-metrics-results-leuk/weighted_unifrac_pcoa_results.qza\u001b[0m\n",
      "\u001b[32mSaved PCoAResults to: ../data/alpha_diversity/core-metrics-results-leuk/jaccard_pcoa_results.qza\u001b[0m\n",
      "\u001b[32mSaved PCoAResults to: ../data/alpha_diversity/core-metrics-results-leuk/bray_curtis_pcoa_results.qza\u001b[0m\n",
      "\u001b[32mSaved Visualization to: ../data/alpha_diversity/core-metrics-results-leuk/unweighted_unifrac_emperor.qzv\u001b[0m\n",
      "\u001b[32mSaved Visualization to: ../data/alpha_diversity/core-metrics-results-leuk/weighted_unifrac_emperor.qzv\u001b[0m\n",
      "\u001b[32mSaved Visualization to: ../data/alpha_diversity/core-metrics-results-leuk/jaccard_emperor.qzv\u001b[0m\n",
      "\u001b[32mSaved Visualization to: ../data/alpha_diversity/core-metrics-results-leuk/bray_curtis_emperor.qzv\u001b[0m\n",
      "\u001b[0m"
     ]
    }
   ],
   "source": [
    "! qiime diversity core-metrics-phylogenetic \\\n",
    "  --i-table $data_dir/alpha_diversity/leuk_feature_table.qza \\\n",
    "  --i-phylogeny $data_dir/phylogeny/sepp-tree.qza \\\n",
    "  --m-metadata-file $data_dir/metadata/str_nan_metadata.tsv \\\n",
    "  --p-sampling-depth 3000 \\\n",
    "  --output-dir $data_dir/alpha_diversity/core-metrics-results-leuk"
   ]
  },
  {
   "cell_type": "code",
   "execution_count": 22,
   "id": "859afb4e-56a2-43ca-aedb-3b58c95bee9e",
   "metadata": {},
   "outputs": [
    {
     "name": "stdout",
     "output_type": "stream",
     "text": [
      "\u001b[32mSaved Visualization to: ../data/alpha_diversity/core-metrics-results-leuk/observed-features-group-significance.qzv\u001b[0m\n",
      "\u001b[0m"
     ]
    }
   ],
   "source": [
    "# observed features\n",
    "\n",
    "! qiime diversity alpha-group-significance \\\n",
    "  --i-alpha-diversity $data_dir/alpha_diversity/core-metrics-results-leuk/observed_features_vector.qza \\\n",
    "  --m-metadata-file $data_dir/metadata/str_metadata.tsv \\\n",
    "  --o-visualization $data_dir/alpha_diversity/core-metrics-results-leuk/observed-features-group-significance.qzv"
   ]
  },
  {
   "cell_type": "code",
   "execution_count": 23,
   "id": "5813b457-97e2-4e5c-9535-0578e0b2eac4",
   "metadata": {
    "collapsed": true,
    "jupyter": {
     "outputs_hidden": true
    },
    "tags": []
   },
   "outputs": [
    {
     "data": {
      "text/html": [
       "<div><img onload=\"(function(div, url){\n",
       "if (typeof require !== 'undefined') {\n",
       "    var baseURL = require.toUrl('').split('/').slice(0, -2).join('/');\n",
       "} else {\n",
       "    var baseURL = JSON.parse(\n",
       "        document.getElementById('jupyter-config-data').innerHTML\n",
       "    ).baseUrl.slice(0, -1);\n",
       "}\n",
       "url = baseURL + url;\n",
       "fetch(url).then(function(res) {\n",
       "    if (res.status === 404) {\n",
       "        div.innerHTML = 'Install QIIME 2 Jupyter extension with:<br />' +\n",
       "                        '<code>jupyter serverextension enable --py qiime2' +\n",
       "                        ' --sys-prefix</code><br />then restart your server.' +\n",
       "                        '<br /><br />(Interactive output not available on ' +\n",
       "                        'static notebook viewer services like nbviewer.)';\n",
       "    } else if (res.status === 409) {\n",
       "        div.innerHTML = 'Visualization no longer in scope. Re-run this cell' +\n",
       "                        ' to see the visualization.';\n",
       "    } else if (res.ok) {\n",
       "        url = res.url;\n",
       "        div.innerHTML = '<iframe src=\\'' + url + '\\' style=\\'' +\n",
       "                        'width: 100%; height: 700px; border: 0;\\'>' +\n",
       "                        '</iframe><hr />Open in a: <a href=\\'' + url + '\\'' +\n",
       "                        ' target=\\'_blank\\'>new window</a>'\n",
       "    } else {\n",
       "        div.innerHTML = 'Something has gone wrong. Check notebook server for' +\n",
       "                        ' errors.';\n",
       "    }\n",
       "});\n",
       "})(this.parentElement, '/qiime2/redirect?location=/tmp/qiime2-archive-521k8_4f')\" src=\"data:image/gif;base64,R0lGODlhAQABAIAAAP///wAAACH5BAEAAAAALAAAAAABAAEAAAICRAEAOw==\" /></div>"
      ],
      "text/plain": [
       "<visualization: Visualization uuid: 034ba165-3769-4a56-8802-55d79acb28f1>"
      ]
     },
     "execution_count": 23,
     "metadata": {},
     "output_type": "execute_result"
    }
   ],
   "source": [
    "Visualization.load(f'{data_dir}/alpha_diversity/core-metrics-results-leuk/observed-features-group-significance.qzv')"
   ]
  },
  {
   "cell_type": "markdown",
   "id": "27ffdad9-4e2d-4ce9-988e-81af64451112",
   "metadata": {},
   "source": [
    "**`Non-Hodgkin Disease`**"
   ]
  },
  {
   "cell_type": "code",
   "execution_count": 7,
   "id": "3912d695-082a-445c-9502-79ad6abf3a67",
   "metadata": {},
   "outputs": [
    {
     "name": "stdout",
     "output_type": "stream",
     "text": [
      "\u001b[32mSaved FeatureTable[Frequency] to: ../data/alpha_diversity/non_hodgkin_feature_table.qza\u001b[0m\n",
      "\u001b[0m"
     ]
    }
   ],
   "source": [
    "# Subset samples with non-Hodgkin disease\n",
    "\n",
    "! qiime feature-table filter-samples \\\n",
    "    --i-table $data_dir/taxonomy/table-filtered.qza \\\n",
    "    --m-metadata-file $data_dir/metadata/str_nan_metadata.tsv \\\n",
    "    --p-where \"[disease]='non-Hodgkin Disease' \" \\\n",
    "    --o-filtered-table $data_dir/alpha_diversity/non_hodgkin_feature_table.qza"
   ]
  },
  {
   "cell_type": "code",
   "execution_count": 8,
   "id": "fdd1d8a4-1ed4-463c-ba2e-a0435c75ed42",
   "metadata": {},
   "outputs": [
    {
     "name": "stdout",
     "output_type": "stream",
     "text": [
      "\u001b[32mSaved FeatureTable[Frequency] to: ../data/alpha_diversity/core-metrics-results-non-hodgkin/rarefied_table.qza\u001b[0m\n",
      "\u001b[32mSaved SampleData[AlphaDiversity] to: ../data/alpha_diversity/core-metrics-results-non-hodgkin/faith_pd_vector.qza\u001b[0m\n",
      "\u001b[32mSaved SampleData[AlphaDiversity] to: ../data/alpha_diversity/core-metrics-results-non-hodgkin/observed_features_vector.qza\u001b[0m\n",
      "\u001b[32mSaved SampleData[AlphaDiversity] to: ../data/alpha_diversity/core-metrics-results-non-hodgkin/shannon_vector.qza\u001b[0m\n",
      "\u001b[32mSaved SampleData[AlphaDiversity] to: ../data/alpha_diversity/core-metrics-results-non-hodgkin/evenness_vector.qza\u001b[0m\n",
      "\u001b[32mSaved DistanceMatrix to: ../data/alpha_diversity/core-metrics-results-non-hodgkin/unweighted_unifrac_distance_matrix.qza\u001b[0m\n",
      "\u001b[32mSaved DistanceMatrix to: ../data/alpha_diversity/core-metrics-results-non-hodgkin/weighted_unifrac_distance_matrix.qza\u001b[0m\n",
      "\u001b[32mSaved DistanceMatrix to: ../data/alpha_diversity/core-metrics-results-non-hodgkin/jaccard_distance_matrix.qza\u001b[0m\n",
      "\u001b[32mSaved DistanceMatrix to: ../data/alpha_diversity/core-metrics-results-non-hodgkin/bray_curtis_distance_matrix.qza\u001b[0m\n",
      "\u001b[32mSaved PCoAResults to: ../data/alpha_diversity/core-metrics-results-non-hodgkin/unweighted_unifrac_pcoa_results.qza\u001b[0m\n",
      "\u001b[32mSaved PCoAResults to: ../data/alpha_diversity/core-metrics-results-non-hodgkin/weighted_unifrac_pcoa_results.qza\u001b[0m\n",
      "\u001b[32mSaved PCoAResults to: ../data/alpha_diversity/core-metrics-results-non-hodgkin/jaccard_pcoa_results.qza\u001b[0m\n",
      "\u001b[32mSaved PCoAResults to: ../data/alpha_diversity/core-metrics-results-non-hodgkin/bray_curtis_pcoa_results.qza\u001b[0m\n",
      "\u001b[32mSaved Visualization to: ../data/alpha_diversity/core-metrics-results-non-hodgkin/unweighted_unifrac_emperor.qzv\u001b[0m\n",
      "\u001b[32mSaved Visualization to: ../data/alpha_diversity/core-metrics-results-non-hodgkin/weighted_unifrac_emperor.qzv\u001b[0m\n",
      "\u001b[32mSaved Visualization to: ../data/alpha_diversity/core-metrics-results-non-hodgkin/jaccard_emperor.qzv\u001b[0m\n",
      "\u001b[32mSaved Visualization to: ../data/alpha_diversity/core-metrics-results-non-hodgkin/bray_curtis_emperor.qzv\u001b[0m\n",
      "\u001b[0m"
     ]
    }
   ],
   "source": [
    "! qiime diversity core-metrics-phylogenetic \\\n",
    "  --i-table $data_dir/alpha_diversity/non_hodgkin_feature_table.qza \\\n",
    "  --i-phylogeny $data_dir/phylogeny/sepp-tree.qza \\\n",
    "  --m-metadata-file $data_dir/metadata/str_nan_metadata.tsv \\\n",
    "  --p-sampling-depth 3000 \\\n",
    "  --output-dir $data_dir/alpha_diversity/core-metrics-results-non-hodgkin"
   ]
  },
  {
   "cell_type": "code",
   "execution_count": 9,
   "id": "58b3b296-36c8-403e-9e54-db3038269fba",
   "metadata": {},
   "outputs": [
    {
     "name": "stdout",
     "output_type": "stream",
     "text": [
      "\u001b[32mSaved Visualization to: ../data/alpha_diversity/core-metrics-results-non-hodgkin/observed-features-group-significance.qzv\u001b[0m\n",
      "\u001b[0m"
     ]
    }
   ],
   "source": [
    "# observed features\n",
    "\n",
    "! qiime diversity alpha-group-significance \\\n",
    "  --i-alpha-diversity $data_dir/alpha_diversity/core-metrics-results-non-hodgkin/observed_features_vector.qza \\\n",
    "  --m-metadata-file $data_dir/metadata/str_nan_metadata.tsv \\\n",
    "  --o-visualization $data_dir/alpha_diversity/core-metrics-results-non-hodgkin/observed-features-group-significance.qzv"
   ]
  },
  {
   "cell_type": "code",
   "execution_count": 10,
   "id": "9aa618e9-6763-49dc-a745-e4c781f8a8c3",
   "metadata": {
    "collapsed": true,
    "jupyter": {
     "outputs_hidden": true
    },
    "tags": []
   },
   "outputs": [
    {
     "data": {
      "text/html": [
       "<div><img onload=\"(function(div, url){\n",
       "if (typeof require !== 'undefined') {\n",
       "    var baseURL = require.toUrl('').split('/').slice(0, -2).join('/');\n",
       "} else {\n",
       "    var baseURL = JSON.parse(\n",
       "        document.getElementById('jupyter-config-data').innerHTML\n",
       "    ).baseUrl.slice(0, -1);\n",
       "}\n",
       "url = baseURL + url;\n",
       "fetch(url).then(function(res) {\n",
       "    if (res.status === 404) {\n",
       "        div.innerHTML = 'Install QIIME 2 Jupyter extension with:<br />' +\n",
       "                        '<code>jupyter serverextension enable --py qiime2' +\n",
       "                        ' --sys-prefix</code><br />then restart your server.' +\n",
       "                        '<br /><br />(Interactive output not available on ' +\n",
       "                        'static notebook viewer services like nbviewer.)';\n",
       "    } else if (res.status === 409) {\n",
       "        div.innerHTML = 'Visualization no longer in scope. Re-run this cell' +\n",
       "                        ' to see the visualization.';\n",
       "    } else if (res.ok) {\n",
       "        url = res.url;\n",
       "        div.innerHTML = '<iframe src=\\'' + url + '\\' style=\\'' +\n",
       "                        'width: 100%; height: 700px; border: 0;\\'>' +\n",
       "                        '</iframe><hr />Open in a: <a href=\\'' + url + '\\'' +\n",
       "                        ' target=\\'_blank\\'>new window</a>'\n",
       "    } else {\n",
       "        div.innerHTML = 'Something has gone wrong. Check notebook server for' +\n",
       "                        ' errors.';\n",
       "    }\n",
       "});\n",
       "})(this.parentElement, '/qiime2/redirect?location=/tmp/qiime2-archive-smczb7qm')\" src=\"data:image/gif;base64,R0lGODlhAQABAIAAAP///wAAACH5BAEAAAAALAAAAAABAAEAAAICRAEAOw==\" /></div>"
      ],
      "text/plain": [
       "<visualization: Visualization uuid: eac40fc9-97e7-42c9-bc15-83e8fa61bf06>"
      ]
     },
     "execution_count": 10,
     "metadata": {},
     "output_type": "execute_result"
    }
   ],
   "source": [
    "Visualization.load(f'{data_dir}/alpha_diversity/core-metrics-results-non-hodgkin/observed-features-group-significance.qzv')"
   ]
  },
  {
   "cell_type": "markdown",
   "id": "4d24a02f-1461-468e-98f5-6f8c59c6ecf6",
   "metadata": {},
   "source": [
    "**`Hodgkin Disease`**"
   ]
  },
  {
   "cell_type": "code",
   "execution_count": 11,
   "id": "a6fb5467-50af-4d84-8cbf-02100eea8571",
   "metadata": {},
   "outputs": [
    {
     "name": "stdout",
     "output_type": "stream",
     "text": [
      "\u001b[32mSaved FeatureTable[Frequency] to: ../data/alpha_diversity/hodgkin_feature_table.qza\u001b[0m\n",
      "\u001b[0m"
     ]
    }
   ],
   "source": [
    "# Subset samples with Hodgkin disease\n",
    "\n",
    "! qiime feature-table filter-samples \\\n",
    "    --i-table $data_dir/taxonomy/table-filtered.qza \\\n",
    "    --m-metadata-file $data_dir/metadata/str_nan_metadata.tsv \\\n",
    "    --p-where \"[disease]='Hodgkin Disease' \" \\\n",
    "    --o-filtered-table $data_dir/alpha_diversity/hodgkin_feature_table.qza"
   ]
  },
  {
   "cell_type": "code",
   "execution_count": 12,
   "id": "4c7d4237-7b5b-43e9-8d16-067698a60c02",
   "metadata": {},
   "outputs": [
    {
     "name": "stdout",
     "output_type": "stream",
     "text": [
      "\u001b[32mSaved FeatureTable[Frequency] to: ../data/alpha_diversity/core-metrics-results-hodgkin/rarefied_table.qza\u001b[0m\n",
      "\u001b[32mSaved SampleData[AlphaDiversity] to: ../data/alpha_diversity/core-metrics-results-hodgkin/faith_pd_vector.qza\u001b[0m\n",
      "\u001b[32mSaved SampleData[AlphaDiversity] to: ../data/alpha_diversity/core-metrics-results-hodgkin/observed_features_vector.qza\u001b[0m\n",
      "\u001b[32mSaved SampleData[AlphaDiversity] to: ../data/alpha_diversity/core-metrics-results-hodgkin/shannon_vector.qza\u001b[0m\n",
      "\u001b[32mSaved SampleData[AlphaDiversity] to: ../data/alpha_diversity/core-metrics-results-hodgkin/evenness_vector.qza\u001b[0m\n",
      "\u001b[32mSaved DistanceMatrix to: ../data/alpha_diversity/core-metrics-results-hodgkin/unweighted_unifrac_distance_matrix.qza\u001b[0m\n",
      "\u001b[32mSaved DistanceMatrix to: ../data/alpha_diversity/core-metrics-results-hodgkin/weighted_unifrac_distance_matrix.qza\u001b[0m\n",
      "\u001b[32mSaved DistanceMatrix to: ../data/alpha_diversity/core-metrics-results-hodgkin/jaccard_distance_matrix.qza\u001b[0m\n",
      "\u001b[32mSaved DistanceMatrix to: ../data/alpha_diversity/core-metrics-results-hodgkin/bray_curtis_distance_matrix.qza\u001b[0m\n",
      "\u001b[32mSaved PCoAResults to: ../data/alpha_diversity/core-metrics-results-hodgkin/unweighted_unifrac_pcoa_results.qza\u001b[0m\n",
      "\u001b[32mSaved PCoAResults to: ../data/alpha_diversity/core-metrics-results-hodgkin/weighted_unifrac_pcoa_results.qza\u001b[0m\n",
      "\u001b[32mSaved PCoAResults to: ../data/alpha_diversity/core-metrics-results-hodgkin/jaccard_pcoa_results.qza\u001b[0m\n",
      "\u001b[32mSaved PCoAResults to: ../data/alpha_diversity/core-metrics-results-hodgkin/bray_curtis_pcoa_results.qza\u001b[0m\n",
      "\u001b[32mSaved Visualization to: ../data/alpha_diversity/core-metrics-results-hodgkin/unweighted_unifrac_emperor.qzv\u001b[0m\n",
      "\u001b[32mSaved Visualization to: ../data/alpha_diversity/core-metrics-results-hodgkin/weighted_unifrac_emperor.qzv\u001b[0m\n",
      "\u001b[32mSaved Visualization to: ../data/alpha_diversity/core-metrics-results-hodgkin/jaccard_emperor.qzv\u001b[0m\n",
      "\u001b[32mSaved Visualization to: ../data/alpha_diversity/core-metrics-results-hodgkin/bray_curtis_emperor.qzv\u001b[0m\n",
      "\u001b[0m"
     ]
    }
   ],
   "source": [
    "! qiime diversity core-metrics-phylogenetic \\\n",
    "  --i-table $data_dir/alpha_diversity/hodgkin_feature_table.qza \\\n",
    "  --i-phylogeny $data_dir/phylogeny/sepp-tree.qza \\\n",
    "  --m-metadata-file $data_dir/metadata/str_nan_metadata.tsv \\\n",
    "  --p-sampling-depth 3000 \\\n",
    "  --output-dir $data_dir/alpha_diversity/core-metrics-results-hodgkin"
   ]
  },
  {
   "cell_type": "code",
   "execution_count": 13,
   "id": "5b954d39-a8f6-48a4-99a5-8964cf8466e5",
   "metadata": {},
   "outputs": [
    {
     "name": "stdout",
     "output_type": "stream",
     "text": [
      "\u001b[32mSaved Visualization to: ../data/alpha_diversity/core-metrics-results-hodgkin/observed-features-group-significance.qzv\u001b[0m\n",
      "\u001b[0m"
     ]
    }
   ],
   "source": [
    "# observed features\n",
    "\n",
    "! qiime diversity alpha-group-significance \\\n",
    "  --i-alpha-diversity $data_dir/alpha_diversity/core-metrics-results-hodgkin/observed_features_vector.qza \\\n",
    "  --m-metadata-file $data_dir/metadata/str_nan_metadata.tsv \\\n",
    "  --o-visualization $data_dir/alpha_diversity/core-metrics-results-hodgkin/observed-features-group-significance.qzv"
   ]
  },
  {
   "cell_type": "code",
   "execution_count": 14,
   "id": "bb62f6a5-713c-4bce-be4e-921696e14b4d",
   "metadata": {
    "collapsed": true,
    "jupyter": {
     "outputs_hidden": true
    },
    "tags": []
   },
   "outputs": [
    {
     "data": {
      "text/html": [
       "<div><img onload=\"(function(div, url){\n",
       "if (typeof require !== 'undefined') {\n",
       "    var baseURL = require.toUrl('').split('/').slice(0, -2).join('/');\n",
       "} else {\n",
       "    var baseURL = JSON.parse(\n",
       "        document.getElementById('jupyter-config-data').innerHTML\n",
       "    ).baseUrl.slice(0, -1);\n",
       "}\n",
       "url = baseURL + url;\n",
       "fetch(url).then(function(res) {\n",
       "    if (res.status === 404) {\n",
       "        div.innerHTML = 'Install QIIME 2 Jupyter extension with:<br />' +\n",
       "                        '<code>jupyter serverextension enable --py qiime2' +\n",
       "                        ' --sys-prefix</code><br />then restart your server.' +\n",
       "                        '<br /><br />(Interactive output not available on ' +\n",
       "                        'static notebook viewer services like nbviewer.)';\n",
       "    } else if (res.status === 409) {\n",
       "        div.innerHTML = 'Visualization no longer in scope. Re-run this cell' +\n",
       "                        ' to see the visualization.';\n",
       "    } else if (res.ok) {\n",
       "        url = res.url;\n",
       "        div.innerHTML = '<iframe src=\\'' + url + '\\' style=\\'' +\n",
       "                        'width: 100%; height: 700px; border: 0;\\'>' +\n",
       "                        '</iframe><hr />Open in a: <a href=\\'' + url + '\\'' +\n",
       "                        ' target=\\'_blank\\'>new window</a>'\n",
       "    } else {\n",
       "        div.innerHTML = 'Something has gone wrong. Check notebook server for' +\n",
       "                        ' errors.';\n",
       "    }\n",
       "});\n",
       "})(this.parentElement, '/qiime2/redirect?location=/tmp/qiime2-archive-_f6_e2nc')\" src=\"data:image/gif;base64,R0lGODlhAQABAIAAAP///wAAACH5BAEAAAAALAAAAAABAAEAAAICRAEAOw==\" /></div>"
      ],
      "text/plain": [
       "<visualization: Visualization uuid: e676660a-5bd5-4ddb-bee8-34f8cd663d30>"
      ]
     },
     "execution_count": 14,
     "metadata": {},
     "output_type": "execute_result"
    }
   ],
   "source": [
    "Visualization.load(f'{data_dir}/alpha_diversity/core-metrics-results-hodgkin/observed-features-group-significance.qzv')"
   ]
  },
  {
   "cell_type": "markdown",
   "id": "829644b7-cd1a-4cfe-b451-d449b7a0ae3e",
   "metadata": {},
   "source": [
    "**`Myelodysplastic Syndromes`**"
   ]
  },
  {
   "cell_type": "code",
   "execution_count": 15,
   "id": "0e70ab33-5b50-4a5c-bb09-3a7513ee47fb",
   "metadata": {},
   "outputs": [
    {
     "name": "stdout",
     "output_type": "stream",
     "text": [
      "\u001b[32mSaved FeatureTable[Frequency] to: ../data/alpha_diversity/MS_feature_table.qza\u001b[0m\n",
      "\u001b[0m"
     ]
    }
   ],
   "source": [
    "# Subset samples with Myelodysplastic Syndromes\n",
    "\n",
    "! qiime feature-table filter-samples \\\n",
    "    --i-table $data_dir/taxonomy/table-filtered.qza \\\n",
    "    --m-metadata-file $data_dir/metadata/str_nan_metadata.tsv \\\n",
    "    --p-where \"[disease]='Myelodysplastic Syndromes' \" \\\n",
    "    --o-filtered-table $data_dir/alpha_diversity/MS_feature_table.qza"
   ]
  },
  {
   "cell_type": "code",
   "execution_count": 16,
   "id": "28bcdadd-b0c0-4ed9-969d-eb7e268fc9d2",
   "metadata": {},
   "outputs": [
    {
     "name": "stdout",
     "output_type": "stream",
     "text": [
      "\u001b[32mSaved FeatureTable[Frequency] to: ../data/alpha_diversity/core-metrics-results-MS/rarefied_table.qza\u001b[0m\n",
      "\u001b[32mSaved SampleData[AlphaDiversity] to: ../data/alpha_diversity/core-metrics-results-MS/faith_pd_vector.qza\u001b[0m\n",
      "\u001b[32mSaved SampleData[AlphaDiversity] to: ../data/alpha_diversity/core-metrics-results-MS/observed_features_vector.qza\u001b[0m\n",
      "\u001b[32mSaved SampleData[AlphaDiversity] to: ../data/alpha_diversity/core-metrics-results-MS/shannon_vector.qza\u001b[0m\n",
      "\u001b[32mSaved SampleData[AlphaDiversity] to: ../data/alpha_diversity/core-metrics-results-MS/evenness_vector.qza\u001b[0m\n",
      "\u001b[32mSaved DistanceMatrix to: ../data/alpha_diversity/core-metrics-results-MS/unweighted_unifrac_distance_matrix.qza\u001b[0m\n",
      "\u001b[32mSaved DistanceMatrix to: ../data/alpha_diversity/core-metrics-results-MS/weighted_unifrac_distance_matrix.qza\u001b[0m\n",
      "\u001b[32mSaved DistanceMatrix to: ../data/alpha_diversity/core-metrics-results-MS/jaccard_distance_matrix.qza\u001b[0m\n",
      "\u001b[32mSaved DistanceMatrix to: ../data/alpha_diversity/core-metrics-results-MS/bray_curtis_distance_matrix.qza\u001b[0m\n",
      "\u001b[32mSaved PCoAResults to: ../data/alpha_diversity/core-metrics-results-MS/unweighted_unifrac_pcoa_results.qza\u001b[0m\n",
      "\u001b[32mSaved PCoAResults to: ../data/alpha_diversity/core-metrics-results-MS/weighted_unifrac_pcoa_results.qza\u001b[0m\n",
      "\u001b[32mSaved PCoAResults to: ../data/alpha_diversity/core-metrics-results-MS/jaccard_pcoa_results.qza\u001b[0m\n",
      "\u001b[32mSaved PCoAResults to: ../data/alpha_diversity/core-metrics-results-MS/bray_curtis_pcoa_results.qza\u001b[0m\n",
      "\u001b[32mSaved Visualization to: ../data/alpha_diversity/core-metrics-results-MS/unweighted_unifrac_emperor.qzv\u001b[0m\n",
      "\u001b[32mSaved Visualization to: ../data/alpha_diversity/core-metrics-results-MS/weighted_unifrac_emperor.qzv\u001b[0m\n",
      "\u001b[32mSaved Visualization to: ../data/alpha_diversity/core-metrics-results-MS/jaccard_emperor.qzv\u001b[0m\n",
      "\u001b[32mSaved Visualization to: ../data/alpha_diversity/core-metrics-results-MS/bray_curtis_emperor.qzv\u001b[0m\n",
      "\u001b[0m"
     ]
    }
   ],
   "source": [
    "! qiime diversity core-metrics-phylogenetic \\\n",
    "  --i-table $data_dir/alpha_diversity/MS_feature_table.qza \\\n",
    "  --i-phylogeny $data_dir/phylogeny/sepp-tree.qza \\\n",
    "  --m-metadata-file $data_dir/metadata/str_nan_metadata.tsv \\\n",
    "  --p-sampling-depth 3000 \\\n",
    "  --output-dir $data_dir/alpha_diversity/core-metrics-results-MS"
   ]
  },
  {
   "cell_type": "code",
   "execution_count": 17,
   "id": "8ff0a43e-bf55-4de7-8089-1ba6e58dc85c",
   "metadata": {},
   "outputs": [
    {
     "name": "stdout",
     "output_type": "stream",
     "text": [
      "\u001b[32mSaved Visualization to: ../data/alpha_diversity/core-metrics-results-MS/observed-features-group-significance.qzv\u001b[0m\n",
      "\u001b[0m"
     ]
    }
   ],
   "source": [
    "# observed features\n",
    "\n",
    "! qiime diversity alpha-group-significance \\\n",
    "  --i-alpha-diversity $data_dir/alpha_diversity/core-metrics-results-MS/observed_features_vector.qza \\\n",
    "  --m-metadata-file $data_dir/metadata/str_nan_metadata.tsv \\\n",
    "  --o-visualization $data_dir/alpha_diversity/core-metrics-results-MS/observed-features-group-significance.qzv"
   ]
  },
  {
   "cell_type": "code",
   "execution_count": 18,
   "id": "cd9969cb-5d92-47bf-9977-edc7f96081b0",
   "metadata": {
    "collapsed": true,
    "jupyter": {
     "outputs_hidden": true
    },
    "tags": []
   },
   "outputs": [
    {
     "data": {
      "text/html": [
       "<div><img onload=\"(function(div, url){\n",
       "if (typeof require !== 'undefined') {\n",
       "    var baseURL = require.toUrl('').split('/').slice(0, -2).join('/');\n",
       "} else {\n",
       "    var baseURL = JSON.parse(\n",
       "        document.getElementById('jupyter-config-data').innerHTML\n",
       "    ).baseUrl.slice(0, -1);\n",
       "}\n",
       "url = baseURL + url;\n",
       "fetch(url).then(function(res) {\n",
       "    if (res.status === 404) {\n",
       "        div.innerHTML = 'Install QIIME 2 Jupyter extension with:<br />' +\n",
       "                        '<code>jupyter serverextension enable --py qiime2' +\n",
       "                        ' --sys-prefix</code><br />then restart your server.' +\n",
       "                        '<br /><br />(Interactive output not available on ' +\n",
       "                        'static notebook viewer services like nbviewer.)';\n",
       "    } else if (res.status === 409) {\n",
       "        div.innerHTML = 'Visualization no longer in scope. Re-run this cell' +\n",
       "                        ' to see the visualization.';\n",
       "    } else if (res.ok) {\n",
       "        url = res.url;\n",
       "        div.innerHTML = '<iframe src=\\'' + url + '\\' style=\\'' +\n",
       "                        'width: 100%; height: 700px; border: 0;\\'>' +\n",
       "                        '</iframe><hr />Open in a: <a href=\\'' + url + '\\'' +\n",
       "                        ' target=\\'_blank\\'>new window</a>'\n",
       "    } else {\n",
       "        div.innerHTML = 'Something has gone wrong. Check notebook server for' +\n",
       "                        ' errors.';\n",
       "    }\n",
       "});\n",
       "})(this.parentElement, '/qiime2/redirect?location=/tmp/qiime2-archive-dkkuyyj6')\" src=\"data:image/gif;base64,R0lGODlhAQABAIAAAP///wAAACH5BAEAAAAALAAAAAABAAEAAAICRAEAOw==\" /></div>"
      ],
      "text/plain": [
       "<visualization: Visualization uuid: c7e2db0e-a806-4972-9771-c5475ddb8bcc>"
      ]
     },
     "execution_count": 18,
     "metadata": {},
     "output_type": "execute_result"
    }
   ],
   "source": [
    "Visualization.load(f'{data_dir}/alpha_diversity/core-metrics-results-MS/observed-features-group-significance.qzv')"
   ]
  },
  {
   "cell_type": "markdown",
   "id": "4f057cc8-ed8f-4667-b79f-7f0e13996608",
   "metadata": {},
   "source": [
    "### 2.5 Compare between abducted and non-abuducted patients with different HCT source"
   ]
  },
  {
   "cell_type": "markdown",
   "id": "ecc639fc-8618-4275-bf25-7686eb9935a3",
   "metadata": {},
   "source": [
    "**`PBSC_unmodified`**"
   ]
  },
  {
   "cell_type": "code",
   "execution_count": 97,
   "id": "5480f454-19dc-4040-bc8d-1cba8da803dd",
   "metadata": {},
   "outputs": [
    {
     "name": "stdout",
     "output_type": "stream",
     "text": [
      "\u001b[32mSaved FeatureTable[Frequency] to: ../data/alpha_diversity/pbsc_feature_table.qza\u001b[0m\n",
      "\u001b[0m"
     ]
    }
   ],
   "source": [
    "# Subset PBSC_unmodified HCT source samples\n",
    "\n",
    "! qiime feature-table filter-samples \\\n",
    "    --i-table $data_dir/taxonomy/table-filtered.qza \\\n",
    "    --m-metadata-file $data_dir/metadata/str_metadata.tsv \\\n",
    "    --p-where \"[hct_source]='PBSC_unmodified' \" \\\n",
    "    --o-filtered-table $data_dir/alpha_diversity/pbsc_feature_table.qza"
   ]
  },
  {
   "cell_type": "code",
   "execution_count": 98,
   "id": "dd96fee6-362f-4350-abac-24d2e6ed5a29",
   "metadata": {
    "tags": []
   },
   "outputs": [
    {
     "name": "stdout",
     "output_type": "stream",
     "text": [
      "\u001b[32mSaved FeatureTable[Frequency] to: ../data/alpha_diversity/core-metrics-results-pbsc/rarefied_table.qza\u001b[0m\n",
      "\u001b[32mSaved SampleData[AlphaDiversity] to: ../data/alpha_diversity/core-metrics-results-pbsc/faith_pd_vector.qza\u001b[0m\n",
      "\u001b[32mSaved SampleData[AlphaDiversity] to: ../data/alpha_diversity/core-metrics-results-pbsc/observed_features_vector.qza\u001b[0m\n",
      "\u001b[32mSaved SampleData[AlphaDiversity] to: ../data/alpha_diversity/core-metrics-results-pbsc/shannon_vector.qza\u001b[0m\n",
      "\u001b[32mSaved SampleData[AlphaDiversity] to: ../data/alpha_diversity/core-metrics-results-pbsc/evenness_vector.qza\u001b[0m\n",
      "\u001b[32mSaved DistanceMatrix to: ../data/alpha_diversity/core-metrics-results-pbsc/unweighted_unifrac_distance_matrix.qza\u001b[0m\n",
      "\u001b[32mSaved DistanceMatrix to: ../data/alpha_diversity/core-metrics-results-pbsc/weighted_unifrac_distance_matrix.qza\u001b[0m\n",
      "\u001b[32mSaved DistanceMatrix to: ../data/alpha_diversity/core-metrics-results-pbsc/jaccard_distance_matrix.qza\u001b[0m\n",
      "\u001b[32mSaved DistanceMatrix to: ../data/alpha_diversity/core-metrics-results-pbsc/bray_curtis_distance_matrix.qza\u001b[0m\n",
      "\u001b[32mSaved PCoAResults to: ../data/alpha_diversity/core-metrics-results-pbsc/unweighted_unifrac_pcoa_results.qza\u001b[0m\n",
      "\u001b[32mSaved PCoAResults to: ../data/alpha_diversity/core-metrics-results-pbsc/weighted_unifrac_pcoa_results.qza\u001b[0m\n",
      "\u001b[32mSaved PCoAResults to: ../data/alpha_diversity/core-metrics-results-pbsc/jaccard_pcoa_results.qza\u001b[0m\n",
      "\u001b[32mSaved PCoAResults to: ../data/alpha_diversity/core-metrics-results-pbsc/bray_curtis_pcoa_results.qza\u001b[0m\n",
      "\u001b[32mSaved Visualization to: ../data/alpha_diversity/core-metrics-results-pbsc/unweighted_unifrac_emperor.qzv\u001b[0m\n",
      "\u001b[32mSaved Visualization to: ../data/alpha_diversity/core-metrics-results-pbsc/weighted_unifrac_emperor.qzv\u001b[0m\n",
      "\u001b[32mSaved Visualization to: ../data/alpha_diversity/core-metrics-results-pbsc/jaccard_emperor.qzv\u001b[0m\n",
      "\u001b[32mSaved Visualization to: ../data/alpha_diversity/core-metrics-results-pbsc/bray_curtis_emperor.qzv\u001b[0m\n",
      "\u001b[0m"
     ]
    }
   ],
   "source": [
    "! qiime diversity core-metrics-phylogenetic \\\n",
    "  --i-table $data_dir/alpha_diversity/pbsc_feature_table.qza \\\n",
    "  --i-phylogeny $data_dir/phylogeny/sepp-tree.qza \\\n",
    "  --m-metadata-file $data_dir/metadata/str_metadata.tsv \\\n",
    "  --p-sampling-depth 3000 \\\n",
    "  --output-dir $data_dir/alpha_diversity/core-metrics-results-pbsc"
   ]
  },
  {
   "cell_type": "code",
   "execution_count": 99,
   "id": "c472e21c-2576-44c1-9da6-9fd219f13536",
   "metadata": {},
   "outputs": [
    {
     "name": "stdout",
     "output_type": "stream",
     "text": [
      "\u001b[32mSaved Visualization to: ../data/alpha_diversity/core-metrics-results-pbsc/observed-features-group-significance.qzv\u001b[0m\n",
      "\u001b[0m"
     ]
    }
   ],
   "source": [
    "# observed features\n",
    "\n",
    "! qiime diversity alpha-group-significance \\\n",
    "  --i-alpha-diversity $data_dir/alpha_diversity/core-metrics-results-pbsc/observed_features_vector.qza \\\n",
    "  --m-metadata-file $data_dir/metadata/str_metadata.tsv \\\n",
    "  --o-visualization $data_dir/alpha_diversity/core-metrics-results-pbsc/observed-features-group-significance.qzv"
   ]
  },
  {
   "cell_type": "code",
   "execution_count": 100,
   "id": "c1679370-9b62-4b46-8c5b-85f0b621c160",
   "metadata": {
    "tags": []
   },
   "outputs": [
    {
     "data": {
      "text/html": [
       "<div><img onload=\"(function(div, url){\n",
       "if (typeof require !== 'undefined') {\n",
       "    var baseURL = require.toUrl('').split('/').slice(0, -2).join('/');\n",
       "} else {\n",
       "    var baseURL = JSON.parse(\n",
       "        document.getElementById('jupyter-config-data').innerHTML\n",
       "    ).baseUrl.slice(0, -1);\n",
       "}\n",
       "url = baseURL + url;\n",
       "fetch(url).then(function(res) {\n",
       "    if (res.status === 404) {\n",
       "        div.innerHTML = 'Install QIIME 2 Jupyter extension with:<br />' +\n",
       "                        '<code>jupyter serverextension enable --py qiime2' +\n",
       "                        ' --sys-prefix</code><br />then restart your server.' +\n",
       "                        '<br /><br />(Interactive output not available on ' +\n",
       "                        'static notebook viewer services like nbviewer.)';\n",
       "    } else if (res.status === 409) {\n",
       "        div.innerHTML = 'Visualization no longer in scope. Re-run this cell' +\n",
       "                        ' to see the visualization.';\n",
       "    } else if (res.ok) {\n",
       "        url = res.url;\n",
       "        div.innerHTML = '<iframe src=\\'' + url + '\\' style=\\'' +\n",
       "                        'width: 100%; height: 700px; border: 0;\\'>' +\n",
       "                        '</iframe><hr />Open in a: <a href=\\'' + url + '\\'' +\n",
       "                        ' target=\\'_blank\\'>new window</a>'\n",
       "    } else {\n",
       "        div.innerHTML = 'Something has gone wrong. Check notebook server for' +\n",
       "                        ' errors.';\n",
       "    }\n",
       "});\n",
       "})(this.parentElement, '/qiime2/redirect?location=/tmp/qiime2-archive-r28qh1ru')\" src=\"data:image/gif;base64,R0lGODlhAQABAIAAAP///wAAACH5BAEAAAAALAAAAAABAAEAAAICRAEAOw==\" /></div>"
      ],
      "text/plain": [
       "<visualization: Visualization uuid: 9932fef6-9df5-4cce-97e8-482b833a2dcf>"
      ]
     },
     "execution_count": 100,
     "metadata": {},
     "output_type": "execute_result"
    }
   ],
   "source": [
    "Visualization.load(f'{data_dir}/alpha_diversity/core-metrics-results-pbsc/observed-features-group-significance.qzv')"
   ]
  },
  {
   "cell_type": "markdown",
   "id": "7d65a59b-b1ef-42fe-9c41-66f41270848a",
   "metadata": {},
   "source": [
    "**`cord`**"
   ]
  },
  {
   "cell_type": "code",
   "execution_count": 101,
   "id": "24298b97-b5c9-4981-8fb6-6d2571ee2eb0",
   "metadata": {},
   "outputs": [
    {
     "name": "stdout",
     "output_type": "stream",
     "text": [
      "\u001b[32mSaved FeatureTable[Frequency] to: ../data/alpha_diversity/cord_feature_table.qza\u001b[0m\n",
      "\u001b[0m"
     ]
    }
   ],
   "source": [
    "# Subset cord HCT source samples\n",
    "\n",
    "! qiime feature-table filter-samples \\\n",
    "    --i-table $data_dir/taxonomy/table-filtered.qza \\\n",
    "    --m-metadata-file $data_dir/metadata/str_metadata.tsv \\\n",
    "    --p-where \"[hct_source]='cord' \" \\\n",
    "    --o-filtered-table $data_dir/alpha_diversity/cord_feature_table.qza"
   ]
  },
  {
   "cell_type": "code",
   "execution_count": 102,
   "id": "6fd5e53e-8226-489d-846a-4b5fbdca033d",
   "metadata": {
    "tags": []
   },
   "outputs": [
    {
     "name": "stdout",
     "output_type": "stream",
     "text": [
      "\u001b[32mSaved FeatureTable[Frequency] to: ../data/alpha_diversity/core-metrics-results-cord/rarefied_table.qza\u001b[0m\n",
      "\u001b[32mSaved SampleData[AlphaDiversity] to: ../data/alpha_diversity/core-metrics-results-cord/faith_pd_vector.qza\u001b[0m\n",
      "\u001b[32mSaved SampleData[AlphaDiversity] to: ../data/alpha_diversity/core-metrics-results-cord/observed_features_vector.qza\u001b[0m\n",
      "\u001b[32mSaved SampleData[AlphaDiversity] to: ../data/alpha_diversity/core-metrics-results-cord/shannon_vector.qza\u001b[0m\n",
      "\u001b[32mSaved SampleData[AlphaDiversity] to: ../data/alpha_diversity/core-metrics-results-cord/evenness_vector.qza\u001b[0m\n",
      "\u001b[32mSaved DistanceMatrix to: ../data/alpha_diversity/core-metrics-results-cord/unweighted_unifrac_distance_matrix.qza\u001b[0m\n",
      "\u001b[32mSaved DistanceMatrix to: ../data/alpha_diversity/core-metrics-results-cord/weighted_unifrac_distance_matrix.qza\u001b[0m\n",
      "\u001b[32mSaved DistanceMatrix to: ../data/alpha_diversity/core-metrics-results-cord/jaccard_distance_matrix.qza\u001b[0m\n",
      "\u001b[32mSaved DistanceMatrix to: ../data/alpha_diversity/core-metrics-results-cord/bray_curtis_distance_matrix.qza\u001b[0m\n",
      "\u001b[32mSaved PCoAResults to: ../data/alpha_diversity/core-metrics-results-cord/unweighted_unifrac_pcoa_results.qza\u001b[0m\n",
      "\u001b[32mSaved PCoAResults to: ../data/alpha_diversity/core-metrics-results-cord/weighted_unifrac_pcoa_results.qza\u001b[0m\n",
      "\u001b[32mSaved PCoAResults to: ../data/alpha_diversity/core-metrics-results-cord/jaccard_pcoa_results.qza\u001b[0m\n",
      "\u001b[32mSaved PCoAResults to: ../data/alpha_diversity/core-metrics-results-cord/bray_curtis_pcoa_results.qza\u001b[0m\n",
      "\u001b[32mSaved Visualization to: ../data/alpha_diversity/core-metrics-results-cord/unweighted_unifrac_emperor.qzv\u001b[0m\n",
      "\u001b[32mSaved Visualization to: ../data/alpha_diversity/core-metrics-results-cord/weighted_unifrac_emperor.qzv\u001b[0m\n",
      "\u001b[32mSaved Visualization to: ../data/alpha_diversity/core-metrics-results-cord/jaccard_emperor.qzv\u001b[0m\n",
      "\u001b[32mSaved Visualization to: ../data/alpha_diversity/core-metrics-results-cord/bray_curtis_emperor.qzv\u001b[0m\n",
      "\u001b[0m"
     ]
    }
   ],
   "source": [
    "! qiime diversity core-metrics-phylogenetic \\\n",
    "  --i-table $data_dir/alpha_diversity/cord_feature_table.qza \\\n",
    "  --i-phylogeny $data_dir/phylogeny/sepp-tree.qza \\\n",
    "  --m-metadata-file $data_dir/metadata/str_metadata.tsv \\\n",
    "  --p-sampling-depth 3000 \\\n",
    "  --output-dir $data_dir/alpha_diversity/core-metrics-results-cord"
   ]
  },
  {
   "cell_type": "code",
   "execution_count": 103,
   "id": "95a4b29d-0eac-4460-bfdd-4e31a3c624f7",
   "metadata": {},
   "outputs": [
    {
     "name": "stdout",
     "output_type": "stream",
     "text": [
      "\u001b[32mSaved Visualization to: ../data/alpha_diversity/core-metrics-results-cord/observed-features-group-significance.qzv\u001b[0m\n",
      "\u001b[0m"
     ]
    }
   ],
   "source": [
    "# observed features\n",
    "\n",
    "! qiime diversity alpha-group-significance \\\n",
    "  --i-alpha-diversity $data_dir/alpha_diversity/core-metrics-results-cord/observed_features_vector.qza \\\n",
    "  --m-metadata-file $data_dir/metadata/str_metadata.tsv \\\n",
    "  --o-visualization $data_dir/alpha_diversity/core-metrics-results-cord/observed-features-group-significance.qzv"
   ]
  },
  {
   "cell_type": "code",
   "execution_count": 104,
   "id": "4f3bc44d-f190-473b-84f3-5c0e2721f7ee",
   "metadata": {
    "tags": []
   },
   "outputs": [
    {
     "data": {
      "text/html": [
       "<div><img onload=\"(function(div, url){\n",
       "if (typeof require !== 'undefined') {\n",
       "    var baseURL = require.toUrl('').split('/').slice(0, -2).join('/');\n",
       "} else {\n",
       "    var baseURL = JSON.parse(\n",
       "        document.getElementById('jupyter-config-data').innerHTML\n",
       "    ).baseUrl.slice(0, -1);\n",
       "}\n",
       "url = baseURL + url;\n",
       "fetch(url).then(function(res) {\n",
       "    if (res.status === 404) {\n",
       "        div.innerHTML = 'Install QIIME 2 Jupyter extension with:<br />' +\n",
       "                        '<code>jupyter serverextension enable --py qiime2' +\n",
       "                        ' --sys-prefix</code><br />then restart your server.' +\n",
       "                        '<br /><br />(Interactive output not available on ' +\n",
       "                        'static notebook viewer services like nbviewer.)';\n",
       "    } else if (res.status === 409) {\n",
       "        div.innerHTML = 'Visualization no longer in scope. Re-run this cell' +\n",
       "                        ' to see the visualization.';\n",
       "    } else if (res.ok) {\n",
       "        url = res.url;\n",
       "        div.innerHTML = '<iframe src=\\'' + url + '\\' style=\\'' +\n",
       "                        'width: 100%; height: 700px; border: 0;\\'>' +\n",
       "                        '</iframe><hr />Open in a: <a href=\\'' + url + '\\'' +\n",
       "                        ' target=\\'_blank\\'>new window</a>'\n",
       "    } else {\n",
       "        div.innerHTML = 'Something has gone wrong. Check notebook server for' +\n",
       "                        ' errors.';\n",
       "    }\n",
       "});\n",
       "})(this.parentElement, '/qiime2/redirect?location=/tmp/qiime2-archive-66th78p3')\" src=\"data:image/gif;base64,R0lGODlhAQABAIAAAP///wAAACH5BAEAAAAALAAAAAABAAEAAAICRAEAOw==\" /></div>"
      ],
      "text/plain": [
       "<visualization: Visualization uuid: b8af6bb8-c6e7-4e05-9b4a-e1ff2daec964>"
      ]
     },
     "execution_count": 104,
     "metadata": {},
     "output_type": "execute_result"
    }
   ],
   "source": [
    "Visualization.load(f'{data_dir}/alpha_diversity/core-metrics-results-cord/observed-features-group-significance.qzv')"
   ]
  },
  {
   "cell_type": "markdown",
   "id": "9ec4266c-3bb1-454c-9e88-032f9966d7fb",
   "metadata": {},
   "source": [
    "### 2.6 Compare between abducted and non-abuducted patients with different `stool_consistency`"
   ]
  },
  {
   "cell_type": "code",
   "execution_count": 105,
   "id": "4c1a6e1b-f8db-426e-967a-690cc5346e2b",
   "metadata": {},
   "outputs": [
    {
     "name": "stdout",
     "output_type": "stream",
     "text": [
      "\u001b[32mSaved FeatureTable[Frequency] to: ../data/alpha_diversity/formed_feature_table.qza\u001b[0m\n",
      "\u001b[0m"
     ]
    }
   ],
   "source": [
    "# Subset formed stool_consistency samples\n",
    "\n",
    "! qiime feature-table filter-samples \\\n",
    "    --i-table $data_dir/taxonomy/table-filtered.qza \\\n",
    "    --m-metadata-file $data_dir/metadata/str_metadata.tsv \\\n",
    "    --p-where \"[stool_consistency]='formed' \" \\\n",
    "    --o-filtered-table $data_dir/alpha_diversity/formed_feature_table.qza"
   ]
  },
  {
   "cell_type": "code",
   "execution_count": 106,
   "id": "c830a547-cc99-4517-b069-d3dea5058bee",
   "metadata": {
    "tags": []
   },
   "outputs": [
    {
     "name": "stdout",
     "output_type": "stream",
     "text": [
      "\u001b[32mSaved FeatureTable[Frequency] to: ../data/alpha_diversity/core-metrics-results-formed/rarefied_table.qza\u001b[0m\n",
      "\u001b[32mSaved SampleData[AlphaDiversity] to: ../data/alpha_diversity/core-metrics-results-formed/faith_pd_vector.qza\u001b[0m\n",
      "\u001b[32mSaved SampleData[AlphaDiversity] to: ../data/alpha_diversity/core-metrics-results-formed/observed_features_vector.qza\u001b[0m\n",
      "\u001b[32mSaved SampleData[AlphaDiversity] to: ../data/alpha_diversity/core-metrics-results-formed/shannon_vector.qza\u001b[0m\n",
      "\u001b[32mSaved SampleData[AlphaDiversity] to: ../data/alpha_diversity/core-metrics-results-formed/evenness_vector.qza\u001b[0m\n",
      "\u001b[32mSaved DistanceMatrix to: ../data/alpha_diversity/core-metrics-results-formed/unweighted_unifrac_distance_matrix.qza\u001b[0m\n",
      "\u001b[32mSaved DistanceMatrix to: ../data/alpha_diversity/core-metrics-results-formed/weighted_unifrac_distance_matrix.qza\u001b[0m\n",
      "\u001b[32mSaved DistanceMatrix to: ../data/alpha_diversity/core-metrics-results-formed/jaccard_distance_matrix.qza\u001b[0m\n",
      "\u001b[32mSaved DistanceMatrix to: ../data/alpha_diversity/core-metrics-results-formed/bray_curtis_distance_matrix.qza\u001b[0m\n",
      "\u001b[32mSaved PCoAResults to: ../data/alpha_diversity/core-metrics-results-formed/unweighted_unifrac_pcoa_results.qza\u001b[0m\n",
      "\u001b[32mSaved PCoAResults to: ../data/alpha_diversity/core-metrics-results-formed/weighted_unifrac_pcoa_results.qza\u001b[0m\n",
      "\u001b[32mSaved PCoAResults to: ../data/alpha_diversity/core-metrics-results-formed/jaccard_pcoa_results.qza\u001b[0m\n",
      "\u001b[32mSaved PCoAResults to: ../data/alpha_diversity/core-metrics-results-formed/bray_curtis_pcoa_results.qza\u001b[0m\n",
      "\u001b[32mSaved Visualization to: ../data/alpha_diversity/core-metrics-results-formed/unweighted_unifrac_emperor.qzv\u001b[0m\n",
      "\u001b[32mSaved Visualization to: ../data/alpha_diversity/core-metrics-results-formed/weighted_unifrac_emperor.qzv\u001b[0m\n",
      "\u001b[32mSaved Visualization to: ../data/alpha_diversity/core-metrics-results-formed/jaccard_emperor.qzv\u001b[0m\n",
      "\u001b[32mSaved Visualization to: ../data/alpha_diversity/core-metrics-results-formed/bray_curtis_emperor.qzv\u001b[0m\n",
      "\u001b[0m"
     ]
    }
   ],
   "source": [
    "! qiime diversity core-metrics-phylogenetic \\\n",
    "  --i-table $data_dir/alpha_diversity/formed_feature_table.qza \\\n",
    "  --i-phylogeny $data_dir/phylogeny/sepp-tree.qza \\\n",
    "  --m-metadata-file $data_dir/metadata/str_metadata.tsv \\\n",
    "  --p-sampling-depth 3000 \\\n",
    "  --output-dir $data_dir/alpha_diversity/core-metrics-results-formed"
   ]
  },
  {
   "cell_type": "code",
   "execution_count": 107,
   "id": "dc52047f-1b6d-41aa-ac92-5755a5bf8c8a",
   "metadata": {},
   "outputs": [
    {
     "name": "stdout",
     "output_type": "stream",
     "text": [
      "\u001b[32mSaved Visualization to: ../data/alpha_diversity/core-metrics-results-formed/observed-features-group-significance.qzv\u001b[0m\n",
      "\u001b[0m"
     ]
    }
   ],
   "source": [
    "# observed features\n",
    "\n",
    "! qiime diversity alpha-group-significance \\\n",
    "  --i-alpha-diversity $data_dir/alpha_diversity/core-metrics-results-formed/observed_features_vector.qza \\\n",
    "  --m-metadata-file $data_dir/metadata/str_metadata.tsv \\\n",
    "  --o-visualization $data_dir/alpha_diversity/core-metrics-results-formed/observed-features-group-significance.qzv"
   ]
  },
  {
   "cell_type": "code",
   "execution_count": 108,
   "id": "d75f75cc-37b7-4797-93a5-907f692d7f1c",
   "metadata": {
    "tags": []
   },
   "outputs": [
    {
     "data": {
      "text/html": [
       "<div><img onload=\"(function(div, url){\n",
       "if (typeof require !== 'undefined') {\n",
       "    var baseURL = require.toUrl('').split('/').slice(0, -2).join('/');\n",
       "} else {\n",
       "    var baseURL = JSON.parse(\n",
       "        document.getElementById('jupyter-config-data').innerHTML\n",
       "    ).baseUrl.slice(0, -1);\n",
       "}\n",
       "url = baseURL + url;\n",
       "fetch(url).then(function(res) {\n",
       "    if (res.status === 404) {\n",
       "        div.innerHTML = 'Install QIIME 2 Jupyter extension with:<br />' +\n",
       "                        '<code>jupyter serverextension enable --py qiime2' +\n",
       "                        ' --sys-prefix</code><br />then restart your server.' +\n",
       "                        '<br /><br />(Interactive output not available on ' +\n",
       "                        'static notebook viewer services like nbviewer.)';\n",
       "    } else if (res.status === 409) {\n",
       "        div.innerHTML = 'Visualization no longer in scope. Re-run this cell' +\n",
       "                        ' to see the visualization.';\n",
       "    } else if (res.ok) {\n",
       "        url = res.url;\n",
       "        div.innerHTML = '<iframe src=\\'' + url + '\\' style=\\'' +\n",
       "                        'width: 100%; height: 700px; border: 0;\\'>' +\n",
       "                        '</iframe><hr />Open in a: <a href=\\'' + url + '\\'' +\n",
       "                        ' target=\\'_blank\\'>new window</a>'\n",
       "    } else {\n",
       "        div.innerHTML = 'Something has gone wrong. Check notebook server for' +\n",
       "                        ' errors.';\n",
       "    }\n",
       "});\n",
       "})(this.parentElement, '/qiime2/redirect?location=/tmp/qiime2-archive-tpx_qwhw')\" src=\"data:image/gif;base64,R0lGODlhAQABAIAAAP///wAAACH5BAEAAAAALAAAAAABAAEAAAICRAEAOw==\" /></div>"
      ],
      "text/plain": [
       "<visualization: Visualization uuid: e27b9aab-c22a-450d-a57e-a7c7bc467317>"
      ]
     },
     "execution_count": 108,
     "metadata": {},
     "output_type": "execute_result"
    }
   ],
   "source": [
    "Visualization.load(f'{data_dir}/alpha_diversity/core-metrics-results-formed/observed-features-group-significance.qzv')"
   ]
  },
  {
   "cell_type": "code",
   "execution_count": 109,
   "id": "71cc2105-634a-4a2b-9105-db3f0579cfb7",
   "metadata": {},
   "outputs": [
    {
     "name": "stdout",
     "output_type": "stream",
     "text": [
      "\u001b[32mSaved FeatureTable[Frequency] to: ../data/alpha_diversity/semi-formed_feature_table.qza\u001b[0m\n",
      "\u001b[0m"
     ]
    }
   ],
   "source": [
    "# Subset semi-formed stool_consistency patients\n",
    "\n",
    "! qiime feature-table filter-samples \\\n",
    "    --i-table $data_dir/taxonomy/table-filtered.qza \\\n",
    "    --m-metadata-file $data_dir/metadata/str_metadata.tsv \\\n",
    "    --p-where \"[stool_consistency]='semi-formed' \" \\\n",
    "    --o-filtered-table $data_dir/alpha_diversity/semi-formed_feature_table.qza"
   ]
  },
  {
   "cell_type": "code",
   "execution_count": 110,
   "id": "3ed50b1a-9abf-42e9-a5e0-c209dead63f3",
   "metadata": {
    "tags": []
   },
   "outputs": [
    {
     "name": "stdout",
     "output_type": "stream",
     "text": [
      "\u001b[32mSaved FeatureTable[Frequency] to: ../data/alpha_diversity/core-metrics-results-semi-formed/rarefied_table.qza\u001b[0m\n",
      "\u001b[32mSaved SampleData[AlphaDiversity] to: ../data/alpha_diversity/core-metrics-results-semi-formed/faith_pd_vector.qza\u001b[0m\n",
      "\u001b[32mSaved SampleData[AlphaDiversity] to: ../data/alpha_diversity/core-metrics-results-semi-formed/observed_features_vector.qza\u001b[0m\n",
      "\u001b[32mSaved SampleData[AlphaDiversity] to: ../data/alpha_diversity/core-metrics-results-semi-formed/shannon_vector.qza\u001b[0m\n",
      "\u001b[32mSaved SampleData[AlphaDiversity] to: ../data/alpha_diversity/core-metrics-results-semi-formed/evenness_vector.qza\u001b[0m\n",
      "\u001b[32mSaved DistanceMatrix to: ../data/alpha_diversity/core-metrics-results-semi-formed/unweighted_unifrac_distance_matrix.qza\u001b[0m\n",
      "\u001b[32mSaved DistanceMatrix to: ../data/alpha_diversity/core-metrics-results-semi-formed/weighted_unifrac_distance_matrix.qza\u001b[0m\n",
      "\u001b[32mSaved DistanceMatrix to: ../data/alpha_diversity/core-metrics-results-semi-formed/jaccard_distance_matrix.qza\u001b[0m\n",
      "\u001b[32mSaved DistanceMatrix to: ../data/alpha_diversity/core-metrics-results-semi-formed/bray_curtis_distance_matrix.qza\u001b[0m\n",
      "\u001b[32mSaved PCoAResults to: ../data/alpha_diversity/core-metrics-results-semi-formed/unweighted_unifrac_pcoa_results.qza\u001b[0m\n",
      "\u001b[32mSaved PCoAResults to: ../data/alpha_diversity/core-metrics-results-semi-formed/weighted_unifrac_pcoa_results.qza\u001b[0m\n",
      "\u001b[32mSaved PCoAResults to: ../data/alpha_diversity/core-metrics-results-semi-formed/jaccard_pcoa_results.qza\u001b[0m\n",
      "\u001b[32mSaved PCoAResults to: ../data/alpha_diversity/core-metrics-results-semi-formed/bray_curtis_pcoa_results.qza\u001b[0m\n",
      "\u001b[32mSaved Visualization to: ../data/alpha_diversity/core-metrics-results-semi-formed/unweighted_unifrac_emperor.qzv\u001b[0m\n",
      "\u001b[32mSaved Visualization to: ../data/alpha_diversity/core-metrics-results-semi-formed/weighted_unifrac_emperor.qzv\u001b[0m\n",
      "\u001b[32mSaved Visualization to: ../data/alpha_diversity/core-metrics-results-semi-formed/jaccard_emperor.qzv\u001b[0m\n",
      "\u001b[32mSaved Visualization to: ../data/alpha_diversity/core-metrics-results-semi-formed/bray_curtis_emperor.qzv\u001b[0m\n",
      "\u001b[0m"
     ]
    }
   ],
   "source": [
    "! qiime diversity core-metrics-phylogenetic \\\n",
    "  --i-table $data_dir/alpha_diversity/semi-formed_feature_table.qza \\\n",
    "  --i-phylogeny $data_dir/phylogeny/sepp-tree.qza \\\n",
    "  --m-metadata-file $data_dir/metadata/str_metadata.tsv \\\n",
    "  --p-sampling-depth 3000 \\\n",
    "  --output-dir $data_dir/alpha_diversity/core-metrics-results-semi-formed"
   ]
  },
  {
   "cell_type": "code",
   "execution_count": 111,
   "id": "6edcebfc-0665-45d2-8d0d-0ef5e26d9b7d",
   "metadata": {},
   "outputs": [
    {
     "name": "stdout",
     "output_type": "stream",
     "text": [
      "\u001b[32mSaved Visualization to: ../data/alpha_diversity/core-metrics-results-semi-formed/observed-features-group-significance.qzv\u001b[0m\n",
      "\u001b[0m"
     ]
    }
   ],
   "source": [
    "# observed features\n",
    "\n",
    "! qiime diversity alpha-group-significance \\\n",
    "  --i-alpha-diversity $data_dir/alpha_diversity/core-metrics-results-semi-formed/observed_features_vector.qza \\\n",
    "  --m-metadata-file $data_dir/metadata/str_metadata.tsv \\\n",
    "  --o-visualization $data_dir/alpha_diversity/core-metrics-results-semi-formed/observed-features-group-significance.qzv"
   ]
  },
  {
   "cell_type": "code",
   "execution_count": 112,
   "id": "6fad788e-0cf7-451b-a48f-e356ef815f06",
   "metadata": {
    "tags": []
   },
   "outputs": [
    {
     "data": {
      "text/html": [
       "<div><img onload=\"(function(div, url){\n",
       "if (typeof require !== 'undefined') {\n",
       "    var baseURL = require.toUrl('').split('/').slice(0, -2).join('/');\n",
       "} else {\n",
       "    var baseURL = JSON.parse(\n",
       "        document.getElementById('jupyter-config-data').innerHTML\n",
       "    ).baseUrl.slice(0, -1);\n",
       "}\n",
       "url = baseURL + url;\n",
       "fetch(url).then(function(res) {\n",
       "    if (res.status === 404) {\n",
       "        div.innerHTML = 'Install QIIME 2 Jupyter extension with:<br />' +\n",
       "                        '<code>jupyter serverextension enable --py qiime2' +\n",
       "                        ' --sys-prefix</code><br />then restart your server.' +\n",
       "                        '<br /><br />(Interactive output not available on ' +\n",
       "                        'static notebook viewer services like nbviewer.)';\n",
       "    } else if (res.status === 409) {\n",
       "        div.innerHTML = 'Visualization no longer in scope. Re-run this cell' +\n",
       "                        ' to see the visualization.';\n",
       "    } else if (res.ok) {\n",
       "        url = res.url;\n",
       "        div.innerHTML = '<iframe src=\\'' + url + '\\' style=\\'' +\n",
       "                        'width: 100%; height: 700px; border: 0;\\'>' +\n",
       "                        '</iframe><hr />Open in a: <a href=\\'' + url + '\\'' +\n",
       "                        ' target=\\'_blank\\'>new window</a>'\n",
       "    } else {\n",
       "        div.innerHTML = 'Something has gone wrong. Check notebook server for' +\n",
       "                        ' errors.';\n",
       "    }\n",
       "});\n",
       "})(this.parentElement, '/qiime2/redirect?location=/tmp/qiime2-archive-nexcya_9')\" src=\"data:image/gif;base64,R0lGODlhAQABAIAAAP///wAAACH5BAEAAAAALAAAAAABAAEAAAICRAEAOw==\" /></div>"
      ],
      "text/plain": [
       "<visualization: Visualization uuid: 2a22cdf0-d2a8-4131-821b-b71f73d93cdc>"
      ]
     },
     "execution_count": 112,
     "metadata": {},
     "output_type": "execute_result"
    }
   ],
   "source": [
    "Visualization.load(f'{data_dir}/alpha_diversity/core-metrics-results-semi-formed/observed-features-group-significance.qzv')"
   ]
  },
  {
   "cell_type": "code",
   "execution_count": 113,
   "id": "e7412721-f9df-4b53-a253-e9de1b5da735",
   "metadata": {},
   "outputs": [
    {
     "name": "stdout",
     "output_type": "stream",
     "text": [
      "\u001b[32mSaved FeatureTable[Frequency] to: ../data/alpha_diversity/liquid_feature_table.qza\u001b[0m\n",
      "\u001b[0m"
     ]
    }
   ],
   "source": [
    "# Subset liquid stool_consistency samples\n",
    "\n",
    "! qiime feature-table filter-samples \\\n",
    "    --i-table $data_dir/taxonomy/table-filtered.qza \\\n",
    "    --m-metadata-file $data_dir/metadata/str_metadata.tsv \\\n",
    "    --p-where \"[stool_consistency]='liquid' \" \\\n",
    "    --o-filtered-table $data_dir/alpha_diversity/liquid_feature_table.qza"
   ]
  },
  {
   "cell_type": "code",
   "execution_count": 114,
   "id": "76895f2c-4b38-453a-99fc-0054f48bdb60",
   "metadata": {
    "tags": []
   },
   "outputs": [
    {
     "name": "stdout",
     "output_type": "stream",
     "text": [
      "\u001b[32mSaved FeatureTable[Frequency] to: ../data/alpha_diversity/core-metrics-results-liquid/rarefied_table.qza\u001b[0m\n",
      "\u001b[32mSaved SampleData[AlphaDiversity] to: ../data/alpha_diversity/core-metrics-results-liquid/faith_pd_vector.qza\u001b[0m\n",
      "\u001b[32mSaved SampleData[AlphaDiversity] to: ../data/alpha_diversity/core-metrics-results-liquid/observed_features_vector.qza\u001b[0m\n",
      "\u001b[32mSaved SampleData[AlphaDiversity] to: ../data/alpha_diversity/core-metrics-results-liquid/shannon_vector.qza\u001b[0m\n",
      "\u001b[32mSaved SampleData[AlphaDiversity] to: ../data/alpha_diversity/core-metrics-results-liquid/evenness_vector.qza\u001b[0m\n",
      "\u001b[32mSaved DistanceMatrix to: ../data/alpha_diversity/core-metrics-results-liquid/unweighted_unifrac_distance_matrix.qza\u001b[0m\n",
      "\u001b[32mSaved DistanceMatrix to: ../data/alpha_diversity/core-metrics-results-liquid/weighted_unifrac_distance_matrix.qza\u001b[0m\n",
      "\u001b[32mSaved DistanceMatrix to: ../data/alpha_diversity/core-metrics-results-liquid/jaccard_distance_matrix.qza\u001b[0m\n",
      "\u001b[32mSaved DistanceMatrix to: ../data/alpha_diversity/core-metrics-results-liquid/bray_curtis_distance_matrix.qza\u001b[0m\n",
      "\u001b[32mSaved PCoAResults to: ../data/alpha_diversity/core-metrics-results-liquid/unweighted_unifrac_pcoa_results.qza\u001b[0m\n",
      "\u001b[32mSaved PCoAResults to: ../data/alpha_diversity/core-metrics-results-liquid/weighted_unifrac_pcoa_results.qza\u001b[0m\n",
      "\u001b[32mSaved PCoAResults to: ../data/alpha_diversity/core-metrics-results-liquid/jaccard_pcoa_results.qza\u001b[0m\n",
      "\u001b[32mSaved PCoAResults to: ../data/alpha_diversity/core-metrics-results-liquid/bray_curtis_pcoa_results.qza\u001b[0m\n",
      "\u001b[32mSaved Visualization to: ../data/alpha_diversity/core-metrics-results-liquid/unweighted_unifrac_emperor.qzv\u001b[0m\n",
      "\u001b[32mSaved Visualization to: ../data/alpha_diversity/core-metrics-results-liquid/weighted_unifrac_emperor.qzv\u001b[0m\n",
      "\u001b[32mSaved Visualization to: ../data/alpha_diversity/core-metrics-results-liquid/jaccard_emperor.qzv\u001b[0m\n",
      "\u001b[32mSaved Visualization to: ../data/alpha_diversity/core-metrics-results-liquid/bray_curtis_emperor.qzv\u001b[0m\n",
      "\u001b[0m"
     ]
    }
   ],
   "source": [
    "! qiime diversity core-metrics-phylogenetic \\\n",
    "  --i-table $data_dir/alpha_diversity/liquid_feature_table.qza \\\n",
    "  --i-phylogeny $data_dir/phylogeny/sepp-tree.qza \\\n",
    "  --m-metadata-file $data_dir/metadata/str_metadata.tsv \\\n",
    "  --p-sampling-depth 3000 \\\n",
    "  --output-dir $data_dir/alpha_diversity/core-metrics-results-liquid"
   ]
  },
  {
   "cell_type": "code",
   "execution_count": 115,
   "id": "9f6e467c-e556-4d41-90b7-1b53bb6cbf55",
   "metadata": {},
   "outputs": [
    {
     "name": "stdout",
     "output_type": "stream",
     "text": [
      "\u001b[32mSaved Visualization to: ../data/alpha_diversity/core-metrics-results-liquid/observed-features-group-significance.qzv\u001b[0m\n",
      "\u001b[0m"
     ]
    }
   ],
   "source": [
    "# observed features\n",
    "\n",
    "! qiime diversity alpha-group-significance \\\n",
    "  --i-alpha-diversity $data_dir/alpha_diversity/core-metrics-results-liquid/observed_features_vector.qza \\\n",
    "  --m-metadata-file $data_dir/metadata/str_metadata.tsv \\\n",
    "  --o-visualization $data_dir/alpha_diversity/core-metrics-results-liquid/observed-features-group-significance.qzv"
   ]
  },
  {
   "cell_type": "code",
   "execution_count": 116,
   "id": "d73ccef5-32fc-4276-863e-e9fd45ba8ddd",
   "metadata": {
    "tags": []
   },
   "outputs": [
    {
     "data": {
      "text/html": [
       "<div><img onload=\"(function(div, url){\n",
       "if (typeof require !== 'undefined') {\n",
       "    var baseURL = require.toUrl('').split('/').slice(0, -2).join('/');\n",
       "} else {\n",
       "    var baseURL = JSON.parse(\n",
       "        document.getElementById('jupyter-config-data').innerHTML\n",
       "    ).baseUrl.slice(0, -1);\n",
       "}\n",
       "url = baseURL + url;\n",
       "fetch(url).then(function(res) {\n",
       "    if (res.status === 404) {\n",
       "        div.innerHTML = 'Install QIIME 2 Jupyter extension with:<br />' +\n",
       "                        '<code>jupyter serverextension enable --py qiime2' +\n",
       "                        ' --sys-prefix</code><br />then restart your server.' +\n",
       "                        '<br /><br />(Interactive output not available on ' +\n",
       "                        'static notebook viewer services like nbviewer.)';\n",
       "    } else if (res.status === 409) {\n",
       "        div.innerHTML = 'Visualization no longer in scope. Re-run this cell' +\n",
       "                        ' to see the visualization.';\n",
       "    } else if (res.ok) {\n",
       "        url = res.url;\n",
       "        div.innerHTML = '<iframe src=\\'' + url + '\\' style=\\'' +\n",
       "                        'width: 100%; height: 700px; border: 0;\\'>' +\n",
       "                        '</iframe><hr />Open in a: <a href=\\'' + url + '\\'' +\n",
       "                        ' target=\\'_blank\\'>new window</a>'\n",
       "    } else {\n",
       "        div.innerHTML = 'Something has gone wrong. Check notebook server for' +\n",
       "                        ' errors.';\n",
       "    }\n",
       "});\n",
       "})(this.parentElement, '/qiime2/redirect?location=/tmp/qiime2-archive-biw5w8ms')\" src=\"data:image/gif;base64,R0lGODlhAQABAIAAAP///wAAACH5BAEAAAAALAAAAAABAAEAAAICRAEAOw==\" /></div>"
      ],
      "text/plain": [
       "<visualization: Visualization uuid: 9dbb7bdb-9e83-4c94-9575-b3f2de1fbf39>"
      ]
     },
     "execution_count": 116,
     "metadata": {},
     "output_type": "execute_result"
    }
   ],
   "source": [
    "Visualization.load(f'{data_dir}/alpha_diversity/core-metrics-results-liquid/observed-features-group-significance.qzv')"
   ]
  },
  {
   "cell_type": "markdown",
   "id": "bf0bec9c-53d3-49fa-ad91-f9f88cb7af9c",
   "metadata": {},
   "source": [
    "- **All the groupby results also showed that the abducted patients had significantly lower alpha diversity in their gut microbiota. There are no interactions between alien abduction and patients’ characteristics.**\n",
    "\n",
    "- **Aliens are not so called “friendly”.**"
   ]
  },
  {
   "cell_type": "code",
   "execution_count": null,
   "id": "fbd69860-4b42-45f8-8d61-81d6aaa79739",
   "metadata": {},
   "outputs": [],
   "source": []
  }
 ],
 "metadata": {
  "kernelspec": {
   "display_name": "Python 3 (ipykernel)",
   "language": "python",
   "name": "python3"
  },
  "language_info": {
   "codemirror_mode": {
    "name": "ipython",
    "version": 3
   },
   "file_extension": ".py",
   "mimetype": "text/x-python",
   "name": "python",
   "nbconvert_exporter": "python",
   "pygments_lexer": "ipython3",
   "version": "3.8.13"
  }
 },
 "nbformat": 4,
 "nbformat_minor": 5
}
