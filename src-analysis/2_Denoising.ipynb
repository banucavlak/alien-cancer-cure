{
 "cells": [
  {
   "cell_type": "markdown",
   "id": "11629364-0d45-4bb3-967d-ef29f17b3e64",
   "metadata": {
    "tags": []
   },
   "source": [
    "<a id='setup'></a>\n",
    "\n",
    "## 0. Setup"
   ]
  },
  {
   "cell_type": "code",
   "execution_count": 1,
   "id": "85e0b9fd-96a4-4838-8c45-67a418c53087",
   "metadata": {},
   "outputs": [],
   "source": [
    "import os\n",
    "import pandas as pd\n",
    "from qiime2 import Visualization\n",
    "import matplotlib.pyplot as plt\n",
    "import numpy as np\n",
    "\n",
    "import qiime2 as q2\n",
    "\n",
    "%matplotlib inline"
   ]
  },
  {
   "cell_type": "code",
   "execution_count": 2,
   "id": "f1709605-e90e-4de6-9a71-c7a81ff22c03",
   "metadata": {
    "tags": []
   },
   "outputs": [],
   "source": [
    "data_dir = '../data'\n",
    "\n",
    "if not os.path.isdir(data_dir):\n",
    "    os.makedirs(data_dir)"
   ]
  },
  {
   "cell_type": "markdown",
   "id": "401e7348-9349-4d14-a9c8-b0f23ab959ce",
   "metadata": {},
   "source": [
    "<a id='data_import'></a>\n",
    "\n",
    "## 1. Data import"
   ]
  },
  {
   "cell_type": "code",
   "execution_count": 3,
   "id": "5583c2e5-205c-4dae-9d88-4d05b0aeca01",
   "metadata": {},
   "outputs": [
    {
     "name": "stdout",
     "output_type": "stream",
     "text": [
      "2022-12-16 13:18:11 URL:https://polybox.ethz.ch/index.php/s/PCQspFMocVCKjZ3/download [3433846903/3433846903] -> \"../data/sequences.qza\" [1]\n"
     ]
    }
   ],
   "source": [
    "! wget -nv -O $data_dir/sequences.qza 'https://polybox.ethz.ch/index.php/s/PCQspFMocVCKjZ3/download'"
   ]
  },
  {
   "cell_type": "code",
   "execution_count": 5,
   "id": "63272b0a-1bf0-46bd-a45b-578225f84abc",
   "metadata": {},
   "outputs": [
    {
     "name": "stdout",
     "output_type": "stream",
     "text": [
      "2022-12-16 13:18:17 URL:https://polybox.ethz.ch/index.php/s/r1AYzdUVWnQyiRL/download [10012/10012] -> \"../data/metadata/sample_metadata.tsv\" [1]\n"
     ]
    }
   ],
   "source": [
    "! wget -nv -O $data_dir/metadata/sample_metadata.tsv 'https://polybox.ethz.ch/index.php/s/r1AYzdUVWnQyiRL/download'"
   ]
  },
  {
   "cell_type": "markdown",
   "id": "2f7a5b3b-41fa-4abb-8747-f1ef1d80b49d",
   "metadata": {},
   "source": [
    "We first analyze the sequence data and metadata to decide on the denoising parameters."
   ]
  },
  {
   "cell_type": "code",
   "execution_count": 6,
   "id": "3ca72a45-da7d-4338-b54e-dcb6ed27a605",
   "metadata": {
    "tags": []
   },
   "outputs": [],
   "source": [
    "metadata_df = pd.read_csv(f'{data_dir}/metadata/sample_metadata.tsv', sep='\\t')"
   ]
  },
  {
   "cell_type": "code",
   "execution_count": 7,
   "id": "5b36ad09-c3e6-42d9-a391-e334196d7bed",
   "metadata": {
    "tags": []
   },
   "outputs": [
    {
     "name": "stdout",
     "output_type": "stream",
     "text": [
      "\u001b[32mUUID\u001b[0m:        394c4773-80e2-46a6-9fba-40e7c8ec3fb9\n",
      "\u001b[32mType\u001b[0m:        SampleData[PairedEndSequencesWithQuality]\n",
      "\u001b[32mData format\u001b[0m: SingleLanePerSamplePairedEndFastqDirFmt\n"
     ]
    }
   ],
   "source": [
    "! qiime tools peek $data_dir/sequences.qza"
   ]
  },
  {
   "cell_type": "code",
   "execution_count": 8,
   "id": "6820f25f-babd-4cab-8a64-58abc3b19a0f",
   "metadata": {},
   "outputs": [
    {
     "name": "stdout",
     "output_type": "stream",
     "text": [
      "\u001b[32mSaved Visualization to: ../data/sequences.qzv\u001b[0m\n",
      "\u001b[0m"
     ]
    }
   ],
   "source": [
    "! qiime demux summarize \\\n",
    "    --i-data $data_dir/sequences.qza \\\n",
    "    --o-visualization $data_dir/sequences.qzv"
   ]
  },
  {
   "cell_type": "markdown",
   "id": "f211f6b5-641f-4999-bd92-4d140d445170",
   "metadata": {},
   "source": [
    "Visualizing the sequences shows that the sequencing quality drops significantly after 183 bases for forward reads and after 190 after reverse reads."
   ]
  },
  {
   "cell_type": "code",
   "execution_count": 9,
   "id": "24a705da-7cdf-44bf-b76f-2dacf86cd8fd",
   "metadata": {
    "tags": []
   },
   "outputs": [
    {
     "data": {
      "text/html": [
       "<div><img onload=\"(function(div, url){\n",
       "if (typeof require !== 'undefined') {\n",
       "    var baseURL = require.toUrl('').split('/').slice(0, -2).join('/');\n",
       "} else {\n",
       "    var baseURL = JSON.parse(\n",
       "        document.getElementById('jupyter-config-data').innerHTML\n",
       "    ).baseUrl.slice(0, -1);\n",
       "}\n",
       "url = baseURL + url;\n",
       "fetch(url).then(function(res) {\n",
       "    if (res.status === 404) {\n",
       "        div.innerHTML = 'Install QIIME 2 Jupyter extension with:<br />' +\n",
       "                        '<code>jupyter serverextension enable --py qiime2' +\n",
       "                        ' --sys-prefix</code><br />then restart your server.' +\n",
       "                        '<br /><br />(Interactive output not available on ' +\n",
       "                        'static notebook viewer services like nbviewer.)';\n",
       "    } else if (res.status === 409) {\n",
       "        div.innerHTML = 'Visualization no longer in scope. Re-run this cell' +\n",
       "                        ' to see the visualization.';\n",
       "    } else if (res.ok) {\n",
       "        url = res.url;\n",
       "        div.innerHTML = '<iframe src=\\'' + url + '\\' style=\\'' +\n",
       "                        'width: 100%; height: 700px; border: 0;\\'>' +\n",
       "                        '</iframe><hr />Open in a: <a href=\\'' + url + '\\'' +\n",
       "                        ' target=\\'_blank\\'>new window</a>'\n",
       "    } else {\n",
       "        div.innerHTML = 'Something has gone wrong. Check notebook server for' +\n",
       "                        ' errors.';\n",
       "    }\n",
       "});\n",
       "})(this.parentElement, '/qiime2/redirect?location=/tmp/qiime2-archive-7mmhazie')\" src=\"data:image/gif;base64,R0lGODlhAQABAIAAAP///wAAACH5BAEAAAAALAAAAAABAAEAAAICRAEAOw==\" /></div>"
      ],
      "text/plain": [
       "<visualization: Visualization uuid: 09c3cea2-b056-45f4-b60a-b87c8c35faa9>"
      ]
     },
     "execution_count": 9,
     "metadata": {},
     "output_type": "execute_result"
    }
   ],
   "source": [
    "Visualization.load(f'{data_dir}/sequences.qzv')"
   ]
  },
  {
   "cell_type": "markdown",
   "id": "dc4574ab-b8b8-477d-9c40-4feec9f23cd8",
   "metadata": {},
   "source": [
    "<a id='remove primers'></a>\n",
    "\n",
    "## 2. Remove Primers"
   ]
  },
  {
   "cell_type": "markdown",
   "id": "0d0515d1-4073-457a-a002-33d55b8d1676",
   "metadata": {},
   "source": [
    "Cutadapt is used to trim out the forward and reverse primers, we use the same primers used by the sequencing procedure: (We do not provide some of the output files due to huge space requirements)"
   ]
  },
  {
   "cell_type": "code",
   "execution_count": 10,
   "id": "5dad84ff-29fa-4a45-8947-b54ed020fed6",
   "metadata": {
    "tags": []
   },
   "outputs": [
    {
     "name": "stdout",
     "output_type": "stream",
     "text": [
      "\u001b[32mSaved SampleData[PairedEndSequencesWithQuality] to: ../data/denoising/primer-trimmed-seqs.qza\u001b[0m\n",
      "\u001b[0m"
     ]
    }
   ],
   "source": [
    "! qiime cutadapt trim-paired \\\n",
    "  --i-demultiplexed-sequences $data_dir/sequences.qza \\\n",
    "  --p-front-f AYTGGGYDTAAAGNG \\\n",
    "  --p-front-r CCGTCAATTYHTTTRAGT \\\n",
    "  --p-error-rate 0 \\\n",
    "  --o-trimmed-sequences $data_dir/denoising/primer-trimmed-seqs.qza"
   ]
  },
  {
   "cell_type": "code",
   "execution_count": 11,
   "id": "d15a8709-0c41-4472-b079-6cbb7c02da00",
   "metadata": {},
   "outputs": [
    {
     "name": "stdout",
     "output_type": "stream",
     "text": [
      "\u001b[32mSaved Visualization to: ../data/denoising/primer-trimmed-seqs.qzv\u001b[0m\n",
      "\u001b[0m"
     ]
    }
   ],
   "source": [
    "! qiime demux summarize \\\n",
    "  --i-data $data_dir/denoising/primer-trimmed-seqs.qza \\\n",
    "  --o-visualization $data_dir/denoising/primer-trimmed-seqs.qzv"
   ]
  },
  {
   "cell_type": "markdown",
   "id": "bfd2a569-32e6-4837-b4fc-851701abd86e",
   "metadata": {},
   "source": [
    "By comparing the visualizations of the previos plot and current plot, we can see that the lengths of the forward reads are reduced a bit."
   ]
  },
  {
   "cell_type": "code",
   "execution_count": 12,
   "id": "81c2a5b8-b75e-4e68-af9a-6b5ac2844f13",
   "metadata": {
    "tags": []
   },
   "outputs": [
    {
     "data": {
      "text/html": [
       "<div><img onload=\"(function(div, url){\n",
       "if (typeof require !== 'undefined') {\n",
       "    var baseURL = require.toUrl('').split('/').slice(0, -2).join('/');\n",
       "} else {\n",
       "    var baseURL = JSON.parse(\n",
       "        document.getElementById('jupyter-config-data').innerHTML\n",
       "    ).baseUrl.slice(0, -1);\n",
       "}\n",
       "url = baseURL + url;\n",
       "fetch(url).then(function(res) {\n",
       "    if (res.status === 404) {\n",
       "        div.innerHTML = 'Install QIIME 2 Jupyter extension with:<br />' +\n",
       "                        '<code>jupyter serverextension enable --py qiime2' +\n",
       "                        ' --sys-prefix</code><br />then restart your server.' +\n",
       "                        '<br /><br />(Interactive output not available on ' +\n",
       "                        'static notebook viewer services like nbviewer.)';\n",
       "    } else if (res.status === 409) {\n",
       "        div.innerHTML = 'Visualization no longer in scope. Re-run this cell' +\n",
       "                        ' to see the visualization.';\n",
       "    } else if (res.ok) {\n",
       "        url = res.url;\n",
       "        div.innerHTML = '<iframe src=\\'' + url + '\\' style=\\'' +\n",
       "                        'width: 100%; height: 700px; border: 0;\\'>' +\n",
       "                        '</iframe><hr />Open in a: <a href=\\'' + url + '\\'' +\n",
       "                        ' target=\\'_blank\\'>new window</a>'\n",
       "    } else {\n",
       "        div.innerHTML = 'Something has gone wrong. Check notebook server for' +\n",
       "                        ' errors.';\n",
       "    }\n",
       "});\n",
       "})(this.parentElement, '/qiime2/redirect?location=/tmp/qiime2-archive-86w1_4t6')\" src=\"data:image/gif;base64,R0lGODlhAQABAIAAAP///wAAACH5BAEAAAAALAAAAAABAAEAAAICRAEAOw==\" /></div>"
      ],
      "text/plain": [
       "<visualization: Visualization uuid: 058710b3-9cb2-4afb-a612-5ae76c71a218>"
      ]
     },
     "execution_count": 12,
     "metadata": {},
     "output_type": "execute_result"
    }
   ],
   "source": [
    "Visualization.load(f'{data_dir}/denoising/primer-trimmed-seqs.qzv')"
   ]
  },
  {
   "cell_type": "markdown",
   "id": "60e3988d-5ba7-4ccb-a515-0703857c4c5c",
   "metadata": {},
   "source": [
    "<a id='denoising'></a>\n",
    "\n",
    "## 3. Denoising - Amplicon Sequence Variants"
   ]
  },
  {
   "cell_type": "markdown",
   "id": "3cefd7c1-b90f-4b9d-bbc4-0748e38065a9",
   "metadata": {},
   "source": [
    "Dada 2 is used to denoise the paired-end sequences. The truncation length is selected based on median value of quality score larger than 30. "
   ]
  },
  {
   "cell_type": "code",
   "execution_count": 13,
   "id": "d3f3ff84-9b08-4474-86ef-5ed954f4c554",
   "metadata": {
    "tags": []
   },
   "outputs": [
    {
     "name": "stdout",
     "output_type": "stream",
     "text": [
      "\u001b[32mSaved FeatureTable[Frequency] to: ../data/dada2_table.qza\u001b[0m\n",
      "\u001b[32mSaved FeatureData[Sequence] to: ../data/denoising/dada2_rep_set.qza\u001b[0m\n",
      "\u001b[32mSaved SampleData[DADA2Stats] to: ../data/denoising/dada2_stats.qza\u001b[0m\n",
      "\u001b[0m"
     ]
    }
   ],
   "source": [
    "! qiime dada2 denoise-paired \\\n",
    "    --i-demultiplexed-seqs $data_dir/denoising/primer-trimmed-seqs.qza \\\n",
    "    --p-trunc-len-f 183 \\\n",
    "    --p-trunc-len-r 190 \\\n",
    "    --p-n-threads 4 \\\n",
    "    --o-table $data_dir/denoising/dada2_table.qza \\\n",
    "    --o-representative-sequences $data_dir/denoising/dada2_rep_set.qza \\\n",
    "    --o-denoising-stats $data_dir/denoising/dada2_stats.qza"
   ]
  },
  {
   "cell_type": "code",
   "execution_count": 16,
   "id": "06d8244b-4982-450f-88c0-42cf8ec06ab2",
   "metadata": {},
   "outputs": [
    {
     "name": "stdout",
     "output_type": "stream",
     "text": [
      "\u001b[32mSaved Visualization to: ../data/denoising/dada2_stats.qzv\u001b[0m\n",
      "\u001b[0m"
     ]
    }
   ],
   "source": [
    "## Inspect the denoising stats\n",
    "! qiime metadata tabulate \\\n",
    "    --m-input-file $data_dir/denoising/dada2_stats.qza \\\n",
    "    --o-visualization $data_dir/denoising/dada2_stats.qzv"
   ]
  },
  {
   "cell_type": "code",
   "execution_count": 17,
   "id": "33be3db9-b9b9-43e0-a394-d6faa4a0565c",
   "metadata": {
    "tags": []
   },
   "outputs": [
    {
     "data": {
      "text/html": [
       "<div><img onload=\"(function(div, url){\n",
       "if (typeof require !== 'undefined') {\n",
       "    var baseURL = require.toUrl('').split('/').slice(0, -2).join('/');\n",
       "} else {\n",
       "    var baseURL = JSON.parse(\n",
       "        document.getElementById('jupyter-config-data').innerHTML\n",
       "    ).baseUrl.slice(0, -1);\n",
       "}\n",
       "url = baseURL + url;\n",
       "fetch(url).then(function(res) {\n",
       "    if (res.status === 404) {\n",
       "        div.innerHTML = 'Install QIIME 2 Jupyter extension with:<br />' +\n",
       "                        '<code>jupyter serverextension enable --py qiime2' +\n",
       "                        ' --sys-prefix</code><br />then restart your server.' +\n",
       "                        '<br /><br />(Interactive output not available on ' +\n",
       "                        'static notebook viewer services like nbviewer.)';\n",
       "    } else if (res.status === 409) {\n",
       "        div.innerHTML = 'Visualization no longer in scope. Re-run this cell' +\n",
       "                        ' to see the visualization.';\n",
       "    } else if (res.ok) {\n",
       "        url = res.url;\n",
       "        div.innerHTML = '<iframe src=\\'' + url + '\\' style=\\'' +\n",
       "                        'width: 100%; height: 700px; border: 0;\\'>' +\n",
       "                        '</iframe><hr />Open in a: <a href=\\'' + url + '\\'' +\n",
       "                        ' target=\\'_blank\\'>new window</a>'\n",
       "    } else {\n",
       "        div.innerHTML = 'Something has gone wrong. Check notebook server for' +\n",
       "                        ' errors.';\n",
       "    }\n",
       "});\n",
       "})(this.parentElement, '/qiime2/redirect?location=/tmp/qiime2-archive-i1__un2x')\" src=\"data:image/gif;base64,R0lGODlhAQABAIAAAP///wAAACH5BAEAAAAALAAAAAABAAEAAAICRAEAOw==\" /></div>"
      ],
      "text/plain": [
       "<visualization: Visualization uuid: 7ccf0749-6280-4368-829e-21d720e86f44>"
      ]
     },
     "execution_count": 17,
     "metadata": {},
     "output_type": "execute_result"
    }
   ],
   "source": [
    "Visualization.load(f'{data_dir}/denoising/dada2_stats.qzv')"
   ]
  },
  {
   "cell_type": "code",
   "execution_count": 18,
   "id": "27780a68-dff2-4f29-bad0-1aad6fd23c92",
   "metadata": {},
   "outputs": [
    {
     "name": "stdout",
     "output_type": "stream",
     "text": [
      "\u001b[32mSaved Visualization to: ../data/denoising/dada2_table.qzv\u001b[0m\n",
      "\u001b[0m"
     ]
    }
   ],
   "source": [
    "## Visualize the feature table\n",
    "! qiime feature-table summarize \\\n",
    "  --i-table $data_dir/denoising/dada2_table.qza \\\n",
    "  --o-visualization $data_dir/denoising/dada2_table.qzv"
   ]
  },
  {
   "cell_type": "code",
   "execution_count": 19,
   "id": "d61cc7ed-2220-4d9d-87e4-d45683a3b3cf",
   "metadata": {
    "tags": []
   },
   "outputs": [
    {
     "data": {
      "text/html": [
       "<div><img onload=\"(function(div, url){\n",
       "if (typeof require !== 'undefined') {\n",
       "    var baseURL = require.toUrl('').split('/').slice(0, -2).join('/');\n",
       "} else {\n",
       "    var baseURL = JSON.parse(\n",
       "        document.getElementById('jupyter-config-data').innerHTML\n",
       "    ).baseUrl.slice(0, -1);\n",
       "}\n",
       "url = baseURL + url;\n",
       "fetch(url).then(function(res) {\n",
       "    if (res.status === 404) {\n",
       "        div.innerHTML = 'Install QIIME 2 Jupyter extension with:<br />' +\n",
       "                        '<code>jupyter serverextension enable --py qiime2' +\n",
       "                        ' --sys-prefix</code><br />then restart your server.' +\n",
       "                        '<br /><br />(Interactive output not available on ' +\n",
       "                        'static notebook viewer services like nbviewer.)';\n",
       "    } else if (res.status === 409) {\n",
       "        div.innerHTML = 'Visualization no longer in scope. Re-run this cell' +\n",
       "                        ' to see the visualization.';\n",
       "    } else if (res.ok) {\n",
       "        url = res.url;\n",
       "        div.innerHTML = '<iframe src=\\'' + url + '\\' style=\\'' +\n",
       "                        'width: 100%; height: 700px; border: 0;\\'>' +\n",
       "                        '</iframe><hr />Open in a: <a href=\\'' + url + '\\'' +\n",
       "                        ' target=\\'_blank\\'>new window</a>'\n",
       "    } else {\n",
       "        div.innerHTML = 'Something has gone wrong. Check notebook server for' +\n",
       "                        ' errors.';\n",
       "    }\n",
       "});\n",
       "})(this.parentElement, '/qiime2/redirect?location=/tmp/qiime2-archive-j3nkd418')\" src=\"data:image/gif;base64,R0lGODlhAQABAIAAAP///wAAACH5BAEAAAAALAAAAAABAAEAAAICRAEAOw==\" /></div>"
      ],
      "text/plain": [
       "<visualization: Visualization uuid: d927fe38-5bca-43c8-8394-934d26110bac>"
      ]
     },
     "execution_count": 19,
     "metadata": {},
     "output_type": "execute_result"
    }
   ],
   "source": [
    "Visualization.load(f'{data_dir}/denoising/dada2_table.qzv')"
   ]
  },
  {
   "cell_type": "code",
   "execution_count": 20,
   "id": "9298fdfc-2cb2-4198-9f4f-72d49bcd3eb4",
   "metadata": {},
   "outputs": [
    {
     "name": "stdout",
     "output_type": "stream",
     "text": [
      "\u001b[32mSaved Visualization to: ../data/denoising/dada2_rep_set.qzv\u001b[0m\n",
      "\u001b[0m"
     ]
    }
   ],
   "source": [
    "## Visualize the resulting sequences\n",
    "! qiime feature-table tabulate-seqs \\\n",
    "  --i-data $data_dir/denoising/dada2_rep_set.qza \\\n",
    "  --o-visualization $data_dir/denoising/dada2_rep_set.qzv"
   ]
  },
  {
   "cell_type": "code",
   "execution_count": 21,
   "id": "5012c088-29f4-4b61-8073-05373e3b3017",
   "metadata": {
    "tags": []
   },
   "outputs": [
    {
     "data": {
      "text/html": [
       "<div><img onload=\"(function(div, url){\n",
       "if (typeof require !== 'undefined') {\n",
       "    var baseURL = require.toUrl('').split('/').slice(0, -2).join('/');\n",
       "} else {\n",
       "    var baseURL = JSON.parse(\n",
       "        document.getElementById('jupyter-config-data').innerHTML\n",
       "    ).baseUrl.slice(0, -1);\n",
       "}\n",
       "url = baseURL + url;\n",
       "fetch(url).then(function(res) {\n",
       "    if (res.status === 404) {\n",
       "        div.innerHTML = 'Install QIIME 2 Jupyter extension with:<br />' +\n",
       "                        '<code>jupyter serverextension enable --py qiime2' +\n",
       "                        ' --sys-prefix</code><br />then restart your server.' +\n",
       "                        '<br /><br />(Interactive output not available on ' +\n",
       "                        'static notebook viewer services like nbviewer.)';\n",
       "    } else if (res.status === 409) {\n",
       "        div.innerHTML = 'Visualization no longer in scope. Re-run this cell' +\n",
       "                        ' to see the visualization.';\n",
       "    } else if (res.ok) {\n",
       "        url = res.url;\n",
       "        div.innerHTML = '<iframe src=\\'' + url + '\\' style=\\'' +\n",
       "                        'width: 100%; height: 700px; border: 0;\\'>' +\n",
       "                        '</iframe><hr />Open in a: <a href=\\'' + url + '\\'' +\n",
       "                        ' target=\\'_blank\\'>new window</a>'\n",
       "    } else {\n",
       "        div.innerHTML = 'Something has gone wrong. Check notebook server for' +\n",
       "                        ' errors.';\n",
       "    }\n",
       "});\n",
       "})(this.parentElement, '/qiime2/redirect?location=/tmp/qiime2-archive-dpw3lei9')\" src=\"data:image/gif;base64,R0lGODlhAQABAIAAAP///wAAACH5BAEAAAAALAAAAAABAAEAAAICRAEAOw==\" /></div>"
      ],
      "text/plain": [
       "<visualization: Visualization uuid: 413b84d2-6008-4764-b941-dffd5ac9ee3a>"
      ]
     },
     "execution_count": 21,
     "metadata": {},
     "output_type": "execute_result"
    }
   ],
   "source": [
    "Visualization.load(f'{data_dir}/denoising/dada2_rep_set.qzv')"
   ]
  },
  {
   "cell_type": "code",
   "execution_count": null,
   "id": "c2ac3e5c-a6c5-478f-8eed-f2e76c6c4f8f",
   "metadata": {},
   "outputs": [],
   "source": []
  }
 ],
 "metadata": {
  "kernelspec": {
   "display_name": "Python 3 (ipykernel)",
   "language": "python",
   "name": "python3"
  },
  "language_info": {
   "codemirror_mode": {
    "name": "ipython",
    "version": 3
   },
   "file_extension": ".py",
   "mimetype": "text/x-python",
   "name": "python",
   "nbconvert_exporter": "python",
   "pygments_lexer": "ipython3",
   "version": "3.8.13"
  }
 },
 "nbformat": 4,
 "nbformat_minor": 5
}
