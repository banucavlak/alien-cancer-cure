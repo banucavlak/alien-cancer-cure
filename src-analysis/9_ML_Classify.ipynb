{
 "cells": [
  {
   "cell_type": "markdown",
   "id": "b6447bb7-d0d4-438a-9bc4-5e1f5fc1c692",
   "metadata": {},
   "source": [
    "## Machine Learning: How well does microbial composition predict abduction status?"
   ]
  },
  {
   "cell_type": "code",
   "execution_count": 1,
   "id": "f7090d6b-8d8d-4940-805e-9256ae4813b5",
   "metadata": {},
   "outputs": [],
   "source": [
    "# Setup\n",
    "import os\n",
    "import qiime2 as q2\n",
    "import pandas as pd\n",
    "\n",
    "from qiime2 import Visualization\n",
    "\n",
    "data_dir = '../Alien_data'"
   ]
  },
  {
   "cell_type": "code",
   "execution_count": 3,
   "id": "a198336f-ec47-44a2-9db6-e9f3ffb29222",
   "metadata": {
    "collapsed": true,
    "jupyter": {
     "outputs_hidden": true
    },
    "tags": []
   },
   "outputs": [
    {
     "name": "stdout",
     "output_type": "stream",
     "text": [
      "Usage: \u001b[94mqiime sample-classifier classify-samples\u001b[0m [OPTIONS]\n",
      "\n",
      "  Predicts a categorical sample metadata column using a supervised learning\n",
      "  classifier. Splits input data into training and test sets. The training\n",
      "  set is used to train and test the estimator using a stratified k-fold\n",
      "  cross-validation scheme. This includes optional steps for automated\n",
      "  feature extraction and hyperparameter optimization. The test set validates\n",
      "  classification accuracy of the optimized estimator. Outputs classification\n",
      "  results for test set. For more details on the learning algorithm, see\n",
      "  http://scikit-learn.org/stable/supervised_learning.html\n",
      "\n",
      "\u001b[1mInputs\u001b[0m:\n",
      "  \u001b[94m\u001b[4m--i-table\u001b[0m ARTIFACT \u001b[32mFeatureTable[Frequency]\u001b[0m\n",
      "                       Feature table containing all features that should be\n",
      "                       used for target prediction.                  \u001b[35m[required]\u001b[0m\n",
      "\u001b[1mParameters\u001b[0m:\n",
      "  \u001b[94m\u001b[4m--m-metadata-file\u001b[0m METADATA\n",
      "  \u001b[94m\u001b[4m--m-metadata-column\u001b[0m COLUMN  \u001b[32mMetadataColumn[Categorical]\u001b[0m\n",
      "                       Categorical metadata column to use as prediction\n",
      "                       target.                                      \u001b[35m[required]\u001b[0m\n",
      "  \u001b[94m--p-test-size\u001b[0m PROPORTION\n",
      "    \u001b[32mRange(0.0, 1.0)\u001b[0m    Fraction of input samples to exclude from training set\n",
      "                       and use for classifier testing.          \u001b[35m[default: 0.2]\u001b[0m\n",
      "  \u001b[94m--p-step\u001b[0m PROPORTION \u001b[32mRange(0.0, 1.0, inclusive_start=False)\u001b[0m\n",
      "                       If \u001b[4moptimize-feature-selection\u001b[0m is True, step is the\n",
      "                       percentage of features to remove at each iteration.\n",
      "                                                               \u001b[35m[default: 0.05]\u001b[0m\n",
      "  \u001b[94m--p-cv\u001b[0m INTEGER       Number of k-fold cross-validations to perform.\n",
      "    \u001b[32mRange(1, None)\u001b[0m                                                \u001b[35m[default: 5]\u001b[0m\n",
      "  \u001b[94m--p-random-state\u001b[0m INTEGER\n",
      "                       Seed used by random number generator.        \u001b[35m[optional]\u001b[0m\n",
      "  \u001b[94m--p-n-jobs\u001b[0m INTEGER   Number of jobs to run in parallel.         \u001b[35m[default: 1]\u001b[0m\n",
      "  \u001b[94m--p-n-estimators\u001b[0m INTEGER\n",
      "    \u001b[32mRange(1, None)\u001b[0m     Number of trees to grow for estimation. More trees\n",
      "                       will improve predictive accuracy up to a threshold\n",
      "                       level, but will also increase time and memory\n",
      "                       requirements. This parameter only affects ensemble\n",
      "                       estimators, such as Random Forest, AdaBoost,\n",
      "                       ExtraTrees, and GradientBoosting.        \u001b[35m[default: 100]\u001b[0m\n",
      "  \u001b[94m--p-estimator\u001b[0m TEXT \u001b[32mChoices('RandomForestClassifier',\u001b[0m\n",
      "    \u001b[32m'ExtraTreesClassifier', 'GradientBoostingClassifier',\u001b[0m\n",
      "    \u001b[32m'AdaBoostClassifier', 'KNeighborsClassifier', 'LinearSVC', 'SVC')\u001b[0m\n",
      "                       Estimator method to use for sample prediction.\n",
      "                                           \u001b[35m[default: 'RandomForestClassifier']\u001b[0m\n",
      "  \u001b[94m--p-optimize-feature-selection\u001b[0m / \u001b[94m--p-no-optimize-feature-selection\u001b[0m\n",
      "                       Automatically optimize input feature selection using\n",
      "                       recursive feature elimination.         \u001b[35m[default: False]\u001b[0m\n",
      "  \u001b[94m--p-parameter-tuning\u001b[0m / \u001b[94m--p-no-parameter-tuning\u001b[0m\n",
      "                       Automatically tune hyperparameters using random grid\n",
      "                       search.                                \u001b[35m[default: False]\u001b[0m\n",
      "  \u001b[94m--p-palette\u001b[0m TEXT \u001b[32mChoices('YellowOrangeBrown', 'YellowOrangeRed',\u001b[0m\n",
      "    \u001b[32m'OrangeRed', 'PurpleRed', 'RedPurple', 'BluePurple', 'GreenBlue',\u001b[0m\n",
      "    \u001b[32m'PurpleBlue', 'YellowGreen', 'summer', 'copper', 'viridis', 'cividis',\u001b[0m\n",
      "    \u001b[32m'plasma', 'inferno', 'magma', 'sirocco', 'drifting', 'melancholy',\u001b[0m\n",
      "    \u001b[32m'enigma', 'eros', 'spectre', 'ambition', 'mysteriousstains', 'daydream',\u001b[0m\n",
      "    \u001b[32m'solano', 'navarro', 'dandelions', 'deepblue', 'verve', 'greyscale')\u001b[0m\n",
      "                       The color palette to use for plotting.\n",
      "                                                          \u001b[35m[default: 'sirocco']\u001b[0m\n",
      "  \u001b[94m--p-missing-samples\u001b[0m TEXT \u001b[32mChoices('error', 'ignore')\u001b[0m\n",
      "                       How to handle missing samples in metadata. \"error\"\n",
      "                       will fail if missing samples are detected. \"ignore\"\n",
      "                       will cause the feature table and metadata to be\n",
      "                       filtered, so that only samples found in both files are\n",
      "                       retained.                            \u001b[35m[default: 'error']\u001b[0m\n",
      "\u001b[1mOutputs\u001b[0m:\n",
      "  \u001b[94m\u001b[4m--o-sample-estimator\u001b[0m ARTIFACT \u001b[32mSampleEstimator[Classifier]\u001b[0m\n",
      "                       Trained sample estimator.                    \u001b[35m[required]\u001b[0m\n",
      "  \u001b[94m\u001b[4m--o-feature-importance\u001b[0m ARTIFACT \u001b[32mFeatureData[Importance]\u001b[0m\n",
      "                       Importance of each input feature to model accuracy.\n",
      "                                                                    \u001b[35m[required]\u001b[0m\n",
      "  \u001b[94m\u001b[4m--o-predictions\u001b[0m ARTIFACT \u001b[32mSampleData[ClassifierPredictions]\u001b[0m\n",
      "                       Predicted target values for each input sample.\n",
      "                                                                    \u001b[35m[required]\u001b[0m\n",
      "  \u001b[94m\u001b[4m--o-model-summary\u001b[0m VISUALIZATION\n",
      "                       Summarized parameter and (if enabled) feature\n",
      "                       selection information for the trained estimator.\n",
      "                                                                    \u001b[35m[required]\u001b[0m\n",
      "  \u001b[94m\u001b[4m--o-accuracy-results\u001b[0m VISUALIZATION\n",
      "                       Accuracy results visualization.              \u001b[35m[required]\u001b[0m\n",
      "  \u001b[94m\u001b[4m--o-probabilities\u001b[0m ARTIFACT \u001b[32mSampleData[Probabilities]\u001b[0m\n",
      "                       Predicted class probabilities for each input sample.\n",
      "                                                                    \u001b[35m[required]\u001b[0m\n",
      "  \u001b[94m\u001b[4m--o-heatmap\u001b[0m VISUALIZATION\n",
      "                       A heatmap of the top 50 most important features from\n",
      "                       the table.                                   \u001b[35m[required]\u001b[0m\n",
      "  \u001b[94m\u001b[4m--o-training-targets\u001b[0m ARTIFACT \u001b[32mSampleData[TrueTargets]\u001b[0m\n",
      "                       Series containing true target values of train samples\n",
      "                                                                    \u001b[35m[required]\u001b[0m\n",
      "  \u001b[94m\u001b[4m--o-test-targets\u001b[0m ARTIFACT \u001b[32mSampleData[TrueTargets]\u001b[0m\n",
      "                       Series containing true target values of test samples\n",
      "                                                                    \u001b[35m[required]\u001b[0m\n",
      "\u001b[1mMiscellaneous\u001b[0m:\n",
      "  \u001b[94m--output-dir\u001b[0m PATH    Output unspecified results to a directory\n",
      "  \u001b[94m--verbose\u001b[0m / \u001b[94m--quiet\u001b[0m  Display verbose output to stdout and/or stderr during\n",
      "                       execution of this action. Or silence output if\n",
      "                       execution is successful (silence is golden).\n",
      "  \u001b[94m--example-data\u001b[0m PATH  Write example data and exit.\n",
      "  \u001b[94m--citations\u001b[0m          Show citations and exit.\n",
      "  \u001b[94m--help\u001b[0m               Show this message and exit.\n",
      "\n",
      "\u001b[33m                  There were some problems with the command:                  \u001b[0m\n",
      "\u001b[31m\u001b[1m (1/10) Invalid value for '--output-dir': '../Alien_data/small-RF-classifier'\n",
      "  already exists, will not overwrite.\u001b[0m\n",
      "\u001b[31m\u001b[1m (2/10) Missing option '--o-sample-estimator'.  (\"--output-dir\" may also be\n",
      "  used)\u001b[0m\n",
      "\u001b[31m\u001b[1m (3/10) Missing option '--o-feature-importance'.  (\"--output-dir\" may also be\n",
      "  used)\u001b[0m\n",
      "\u001b[31m\u001b[1m (4/10) Missing option '--o-predictions'.  (\"--output-dir\" may also be used)\u001b[0m\n",
      "\u001b[31m\u001b[1m (5/10) Missing option '--o-model-summary'.  (\"--output-dir\" may also be used)\u001b[0m\n",
      "\u001b[31m\u001b[1m (6/10) Missing option '--o-accuracy-results'.  (\"--output-dir\" may also be\n",
      "  used)\u001b[0m\n",
      "\u001b[31m\u001b[1m (7/10) Missing option '--o-probabilities'.  (\"--output-dir\" may also be used)\u001b[0m\n",
      "\u001b[31m\u001b[1m (8/10) Missing option '--o-heatmap'.  (\"--output-dir\" may also be used)\u001b[0m\n",
      "\u001b[31m\u001b[1m (9/10) Missing option '--o-training-targets'.  (\"--output-dir\" may also be\n",
      "  used)\u001b[0m\n",
      "\u001b[31m\u001b[1m (10/10) Missing option '--o-test-targets'.  (\"--output-dir\" may also be used)\u001b[0m\n",
      "\u001b[0m"
     ]
    }
   ],
   "source": [
    "# Classify abduction status based on microbial composition\n",
    "\n",
    "! qiime sample-classifier classify-samples \\\n",
    "  --i-table $data_dir/table-filtered.qza \\\n",
    "  --m-metadata-file $data_dir/str_metadata.tsv \\\n",
    "  --m-metadata-column alleged_abduction \\\n",
    "  --p-test-size 0.2 \\\n",
    "  --p-estimator RandomForestClassifier \\\n",
    "  --p-palette 'enigma' \\\n",
    "  --p-random-state 0 \\\n",
    "  --output-dir $data_dir/small-RF-classifier"
   ]
  },
  {
   "cell_type": "code",
   "execution_count": 4,
   "id": "15d2ba50-dea8-4547-88c8-c2e111104810",
   "metadata": {},
   "outputs": [
    {
     "data": {
      "text/html": [
       "<div><img onload=\"(function(div, url){\n",
       "if (typeof require !== 'undefined') {\n",
       "    var baseURL = require.toUrl('').split('/').slice(0, -2).join('/');\n",
       "} else {\n",
       "    var baseURL = JSON.parse(\n",
       "        document.getElementById('jupyter-config-data').innerHTML\n",
       "    ).baseUrl.slice(0, -1);\n",
       "}\n",
       "url = baseURL + url;\n",
       "fetch(url).then(function(res) {\n",
       "    if (res.status === 404) {\n",
       "        div.innerHTML = 'Install QIIME 2 Jupyter extension with:<br />' +\n",
       "                        '<code>jupyter serverextension enable --py qiime2' +\n",
       "                        ' --sys-prefix</code><br />then restart your server.' +\n",
       "                        '<br /><br />(Interactive output not available on ' +\n",
       "                        'static notebook viewer services like nbviewer.)';\n",
       "    } else if (res.status === 409) {\n",
       "        div.innerHTML = 'Visualization no longer in scope. Re-run this cell' +\n",
       "                        ' to see the visualization.';\n",
       "    } else if (res.ok) {\n",
       "        url = res.url;\n",
       "        div.innerHTML = '<iframe src=\\'' + url + '\\' style=\\'' +\n",
       "                        'width: 100%; height: 700px; border: 0;\\'>' +\n",
       "                        '</iframe><hr />Open in a: <a href=\\'' + url + '\\'' +\n",
       "                        ' target=\\'_blank\\'>new window</a>'\n",
       "    } else {\n",
       "        div.innerHTML = 'Something has gone wrong. Check notebook server for' +\n",
       "                        ' errors.';\n",
       "    }\n",
       "});\n",
       "})(this.parentElement, '/qiime2/redirect?location=/tmp/qiime2-archive-0z508zpj')\" src=\"data:image/gif;base64,R0lGODlhAQABAIAAAP///wAAACH5BAEAAAAALAAAAAABAAEAAAICRAEAOw==\" /></div>"
      ],
      "text/plain": [
       "<visualization: Visualization uuid: e5f3cbc4-c1c2-4254-aa68-7621ef044672>"
      ]
     },
     "execution_count": 4,
     "metadata": {},
     "output_type": "execute_result"
    }
   ],
   "source": [
    "Visualization.load(f'{data_dir}/small-RF-classifier/accuracy_results.qzv')"
   ]
  },
  {
   "cell_type": "markdown",
   "id": "127edffe-7b48-48df-80e3-625b4d995bf2",
   "metadata": {},
   "source": [
    "The overall accuracy is high (87.9%) but not much higher than the baseline accuracy(84.8%). Classifications are clearly skewed towards the \"non-abducted\" category. Almost all non-abducted samples are correctly classified, but 60% of abducted samples are misclassified as non-abducted. The high baseline accuracy is likely due to the imbalance in abducted vs non-abducted sample sizes, and the correct classification of all non-abducted samples."
   ]
  },
  {
   "cell_type": "code",
   "execution_count": 4,
   "id": "a888542b-0bd9-45f6-aa56-47d0f3468ca3",
   "metadata": {},
   "outputs": [
    {
     "name": "stdout",
     "output_type": "stream",
     "text": [
      "\u001b[32mSaved Visualization to: ../Alien_data/small-RF-classifier/test_predprob.qzv\u001b[0m\n",
      "\u001b[0m"
     ]
    }
   ],
   "source": [
    "# Visualize individual samples' predictions and probabilities\n",
    "\n",
    "! qiime metadata tabulate \\\n",
    "  --m-input-file $data_dir/small-RF-classifier/test_targets.qza \\\n",
    "  --m-input-file $data_dir/small-RF-classifier/predictions.qza \\\n",
    "  --m-input-file $data_dir/small-RF-classifier/probabilities.qza \\\n",
    "  --o-visualization $data_dir/small-RF-classifier/test_predprob.qzv"
   ]
  },
  {
   "cell_type": "code",
   "execution_count": 5,
   "id": "a8966318-fbab-4499-a122-9086580a705e",
   "metadata": {
    "collapsed": true,
    "jupyter": {
     "outputs_hidden": true
    },
    "tags": []
   },
   "outputs": [
    {
     "data": {
      "text/html": [
       "<div><img onload=\"(function(div, url){\n",
       "if (typeof require !== 'undefined') {\n",
       "    var baseURL = require.toUrl('').split('/').slice(0, -2).join('/');\n",
       "} else {\n",
       "    var baseURL = JSON.parse(\n",
       "        document.getElementById('jupyter-config-data').innerHTML\n",
       "    ).baseUrl.slice(0, -1);\n",
       "}\n",
       "url = baseURL + url;\n",
       "fetch(url).then(function(res) {\n",
       "    if (res.status === 404) {\n",
       "        div.innerHTML = 'Install QIIME 2 Jupyter extension with:<br />' +\n",
       "                        '<code>jupyter serverextension enable --py qiime2' +\n",
       "                        ' --sys-prefix</code><br />then restart your server.' +\n",
       "                        '<br /><br />(Interactive output not available on ' +\n",
       "                        'static notebook viewer services like nbviewer.)';\n",
       "    } else if (res.status === 409) {\n",
       "        div.innerHTML = 'Visualization no longer in scope. Re-run this cell' +\n",
       "                        ' to see the visualization.';\n",
       "    } else if (res.ok) {\n",
       "        url = res.url;\n",
       "        div.innerHTML = '<iframe src=\\'' + url + '\\' style=\\'' +\n",
       "                        'width: 100%; height: 700px; border: 0;\\'>' +\n",
       "                        '</iframe><hr />Open in a: <a href=\\'' + url + '\\'' +\n",
       "                        ' target=\\'_blank\\'>new window</a>'\n",
       "    } else {\n",
       "        div.innerHTML = 'Something has gone wrong. Check notebook server for' +\n",
       "                        ' errors.';\n",
       "    }\n",
       "});\n",
       "})(this.parentElement, '/qiime2/redirect?location=/tmp/qiime2-archive-azduagzx')\" src=\"data:image/gif;base64,R0lGODlhAQABAIAAAP///wAAACH5BAEAAAAALAAAAAABAAEAAAICRAEAOw==\" /></div>"
      ],
      "text/plain": [
       "<visualization: Visualization uuid: 8daafd69-c08b-4618-8c0e-b693921d4dce>"
      ]
     },
     "execution_count": 5,
     "metadata": {},
     "output_type": "execute_result"
    }
   ],
   "source": [
    "Visualization.load(f'{data_dir}/small-RF-classifier/test_predprob.qzv')"
   ]
  },
  {
   "cell_type": "code",
   "execution_count": 6,
   "id": "c40dcafb-6272-484b-b758-ce6f300f581c",
   "metadata": {},
   "outputs": [
    {
     "name": "stdout",
     "output_type": "stream",
     "text": [
      "\u001b[32mSaved Visualization to: ../Alien_data/small-RF-classifier/feature_importance.qzv\u001b[0m\n",
      "\u001b[0m"
     ]
    }
   ],
   "source": [
    "# Feature importance: which microbial compositions were most important for \n",
    "#                     distinguishing abducted vs non-abducted samples?\n",
    "\n",
    "! qiime metadata tabulate \\\n",
    "    --m-input-file $data_dir/small-RF-classifier/feature_importance.qza \\\n",
    "    --o-visualization $data_dir/small-RF-classifier/feature_importance.qzv"
   ]
  },
  {
   "cell_type": "code",
   "execution_count": 7,
   "id": "af13475b-1bfd-42a0-aaa4-d7f0e3109c39",
   "metadata": {
    "tags": []
   },
   "outputs": [
    {
     "data": {
      "text/html": [
       "<div><img onload=\"(function(div, url){\n",
       "if (typeof require !== 'undefined') {\n",
       "    var baseURL = require.toUrl('').split('/').slice(0, -2).join('/');\n",
       "} else {\n",
       "    var baseURL = JSON.parse(\n",
       "        document.getElementById('jupyter-config-data').innerHTML\n",
       "    ).baseUrl.slice(0, -1);\n",
       "}\n",
       "url = baseURL + url;\n",
       "fetch(url).then(function(res) {\n",
       "    if (res.status === 404) {\n",
       "        div.innerHTML = 'Install QIIME 2 Jupyter extension with:<br />' +\n",
       "                        '<code>jupyter serverextension enable --py qiime2' +\n",
       "                        ' --sys-prefix</code><br />then restart your server.' +\n",
       "                        '<br /><br />(Interactive output not available on ' +\n",
       "                        'static notebook viewer services like nbviewer.)';\n",
       "    } else if (res.status === 409) {\n",
       "        div.innerHTML = 'Visualization no longer in scope. Re-run this cell' +\n",
       "                        ' to see the visualization.';\n",
       "    } else if (res.ok) {\n",
       "        url = res.url;\n",
       "        div.innerHTML = '<iframe src=\\'' + url + '\\' style=\\'' +\n",
       "                        'width: 100%; height: 700px; border: 0;\\'>' +\n",
       "                        '</iframe><hr />Open in a: <a href=\\'' + url + '\\'' +\n",
       "                        ' target=\\'_blank\\'>new window</a>'\n",
       "    } else {\n",
       "        div.innerHTML = 'Something has gone wrong. Check notebook server for' +\n",
       "                        ' errors.';\n",
       "    }\n",
       "});\n",
       "})(this.parentElement, '/qiime2/redirect?location=/tmp/qiime2-archive-qpokcvbe')\" src=\"data:image/gif;base64,R0lGODlhAQABAIAAAP///wAAACH5BAEAAAAALAAAAAABAAEAAAICRAEAOw==\" /></div>"
      ],
      "text/plain": [
       "<visualization: Visualization uuid: 7872f614-713d-43ea-874b-3c7a15251721>"
      ]
     },
     "execution_count": 7,
     "metadata": {},
     "output_type": "execute_result"
    }
   ],
   "source": [
    "Visualization.load(f'{data_dir}/small-RF-classifier/feature_importance.qzv')"
   ]
  },
  {
   "cell_type": "code",
   "execution_count": 8,
   "id": "5bffa669-5649-4f54-aa6d-0de054240c3a",
   "metadata": {},
   "outputs": [
    {
     "name": "stdout",
     "output_type": "stream",
     "text": [
      "\u001b[32mSaved Visualization to: ../Alien_data/small-RF-classifier/important-feature-heatmap.qzv\u001b[0m\n",
      "\u001b[32mSaved FeatureTable[Frequency] to: ../Alien_data/small-RF-classifier/important-feature-table-top-20.qza\u001b[0m\n",
      "\u001b[0m"
     ]
    }
   ],
   "source": [
    "! qiime sample-classifier heatmap \\\n",
    "  --i-table $data_dir/table-filtered.qza \\\n",
    "  --i-importance $data_dir/small-RF-classifier/feature_importance.qza \\\n",
    "  --m-sample-metadata-file $data_dir/str_metadata.tsv  \\\n",
    "  --m-sample-metadata-column alleged_abduction \\\n",
    "  --p-group-samples \\\n",
    "  --p-feature-count 20 \\\n",
    "  --o-filtered-table $data_dir/small-RF-classifier/important-feature-table-top-20.qza \\\n",
    "  --o-heatmap $data_dir/small-RF-classifier/important-feature-heatmap.qzv"
   ]
  },
  {
   "cell_type": "code",
   "execution_count": 7,
   "id": "96e69575-d8c8-42e7-bede-99b3f2fd93e8",
   "metadata": {
    "tags": []
   },
   "outputs": [
    {
     "data": {
      "text/html": [
       "<div><img onload=\"(function(div, url){\n",
       "if (typeof require !== 'undefined') {\n",
       "    var baseURL = require.toUrl('').split('/').slice(0, -2).join('/');\n",
       "} else {\n",
       "    var baseURL = JSON.parse(\n",
       "        document.getElementById('jupyter-config-data').innerHTML\n",
       "    ).baseUrl.slice(0, -1);\n",
       "}\n",
       "url = baseURL + url;\n",
       "fetch(url).then(function(res) {\n",
       "    if (res.status === 404) {\n",
       "        div.innerHTML = 'Install QIIME 2 Jupyter extension with:<br />' +\n",
       "                        '<code>jupyter serverextension enable --py qiime2' +\n",
       "                        ' --sys-prefix</code><br />then restart your server.' +\n",
       "                        '<br /><br />(Interactive output not available on ' +\n",
       "                        'static notebook viewer services like nbviewer.)';\n",
       "    } else if (res.status === 409) {\n",
       "        div.innerHTML = 'Visualization no longer in scope. Re-run this cell' +\n",
       "                        ' to see the visualization.';\n",
       "    } else if (res.ok) {\n",
       "        url = res.url;\n",
       "        div.innerHTML = '<iframe src=\\'' + url + '\\' style=\\'' +\n",
       "                        'width: 100%; height: 700px; border: 0;\\'>' +\n",
       "                        '</iframe><hr />Open in a: <a href=\\'' + url + '\\'' +\n",
       "                        ' target=\\'_blank\\'>new window</a>'\n",
       "    } else {\n",
       "        div.innerHTML = 'Something has gone wrong. Check notebook server for' +\n",
       "                        ' errors.';\n",
       "    }\n",
       "});\n",
       "})(this.parentElement, '/qiime2/redirect?location=/tmp/qiime2-archive-gbb4zq_8')\" src=\"data:image/gif;base64,R0lGODlhAQABAIAAAP///wAAACH5BAEAAAAALAAAAAABAAEAAAICRAEAOw==\" /></div>"
      ],
      "text/plain": [
       "<visualization: Visualization uuid: 11f55cd6-d997-43b4-9c1a-8e27b32ef4cd>"
      ]
     },
     "execution_count": 7,
     "metadata": {},
     "output_type": "execute_result"
    }
   ],
   "source": [
    "Visualization.load(f'{data_dir}/small-RF-classifier/important-feature-heatmap.qzv')"
   ]
  },
  {
   "cell_type": "markdown",
   "id": "522225cf-1396-4008-ab8f-3d67bf6e93e0",
   "metadata": {},
   "source": [
    "### Repeat with Optimized Feature Selection\n",
    "\n",
    "(Had no effect on accuracy)"
   ]
  },
  {
   "cell_type": "code",
   "execution_count": 10,
   "id": "99ee649d-3a6c-4738-8f0b-4ed03827c616",
   "metadata": {},
   "outputs": [
    {
     "name": "stdout",
     "output_type": "stream",
     "text": [
      "\u001b[32mSaved SampleEstimator[Classifier] to: ../Alien_data/RF-opt-feature-selection/sample_estimator.qza\u001b[0m\n",
      "\u001b[32mSaved FeatureData[Importance] to: ../Alien_data/RF-opt-feature-selection/feature_importance.qza\u001b[0m\n",
      "\u001b[32mSaved SampleData[ClassifierPredictions] to: ../Alien_data/RF-opt-feature-selection/predictions.qza\u001b[0m\n",
      "\u001b[32mSaved Visualization to: ../Alien_data/RF-opt-feature-selection/model_summary.qzv\u001b[0m\n",
      "\u001b[32mSaved Visualization to: ../Alien_data/RF-opt-feature-selection/accuracy_results.qzv\u001b[0m\n",
      "\u001b[32mSaved SampleData[Probabilities] to: ../Alien_data/RF-opt-feature-selection/probabilities.qza\u001b[0m\n",
      "\u001b[32mSaved Visualization to: ../Alien_data/RF-opt-feature-selection/heatmap.qzv\u001b[0m\n",
      "\u001b[32mSaved SampleData[TrueTargets] to: ../Alien_data/RF-opt-feature-selection/training_targets.qza\u001b[0m\n",
      "\u001b[32mSaved SampleData[TrueTargets] to: ../Alien_data/RF-opt-feature-selection/test_targets.qza\u001b[0m\n",
      "\u001b[0m"
     ]
    }
   ],
   "source": [
    "# Classify abduction status based on microbial composition\n",
    "\n",
    "! qiime sample-classifier classify-samples \\\n",
    "  --i-table $data_dir/table-filtered.qza \\\n",
    "  --m-metadata-file $data_dir/str_metadata.tsv \\\n",
    "  --m-metadata-column alleged_abduction \\\n",
    "  --p-test-size 0.2 \\\n",
    "  --p-estimator RandomForestClassifier \\\n",
    "  --p-optimize-feature-selection \\\n",
    "  --p-palette 'enigma' \\\n",
    "  --p-random-state 0 \\\n",
    "  --output-dir $data_dir/RF-opt-feature-selection"
   ]
  },
  {
   "cell_type": "code",
   "execution_count": 8,
   "id": "6ccb8d84-c075-4875-a30a-2bc24431cf9e",
   "metadata": {},
   "outputs": [
    {
     "data": {
      "text/html": [
       "<div><img onload=\"(function(div, url){\n",
       "if (typeof require !== 'undefined') {\n",
       "    var baseURL = require.toUrl('').split('/').slice(0, -2).join('/');\n",
       "} else {\n",
       "    var baseURL = JSON.parse(\n",
       "        document.getElementById('jupyter-config-data').innerHTML\n",
       "    ).baseUrl.slice(0, -1);\n",
       "}\n",
       "url = baseURL + url;\n",
       "fetch(url).then(function(res) {\n",
       "    if (res.status === 404) {\n",
       "        div.innerHTML = 'Install QIIME 2 Jupyter extension with:<br />' +\n",
       "                        '<code>jupyter serverextension enable --py qiime2' +\n",
       "                        ' --sys-prefix</code><br />then restart your server.' +\n",
       "                        '<br /><br />(Interactive output not available on ' +\n",
       "                        'static notebook viewer services like nbviewer.)';\n",
       "    } else if (res.status === 409) {\n",
       "        div.innerHTML = 'Visualization no longer in scope. Re-run this cell' +\n",
       "                        ' to see the visualization.';\n",
       "    } else if (res.ok) {\n",
       "        url = res.url;\n",
       "        div.innerHTML = '<iframe src=\\'' + url + '\\' style=\\'' +\n",
       "                        'width: 100%; height: 700px; border: 0;\\'>' +\n",
       "                        '</iframe><hr />Open in a: <a href=\\'' + url + '\\'' +\n",
       "                        ' target=\\'_blank\\'>new window</a>'\n",
       "    } else {\n",
       "        div.innerHTML = 'Something has gone wrong. Check notebook server for' +\n",
       "                        ' errors.';\n",
       "    }\n",
       "});\n",
       "})(this.parentElement, '/qiime2/redirect?location=/tmp/qiime2-archive-zoefzxi8')\" src=\"data:image/gif;base64,R0lGODlhAQABAIAAAP///wAAACH5BAEAAAAALAAAAAABAAEAAAICRAEAOw==\" /></div>"
      ],
      "text/plain": [
       "<visualization: Visualization uuid: 55c28585-3187-4f9c-88f8-cfe1f94fd3f4>"
      ]
     },
     "execution_count": 8,
     "metadata": {},
     "output_type": "execute_result"
    }
   ],
   "source": [
    "Visualization.load(f'{data_dir}/RF-opt-feature-selection/accuracy_results.qzv')"
   ]
  },
  {
   "cell_type": "markdown",
   "id": "e9d4654d-3b07-4d96-8228-9ee7107bb58d",
   "metadata": {},
   "source": [
    "### Repeat with Parameter Tuning\n",
    "\n",
    "Does parameter tuning improve the model's accuracy? No effect."
   ]
  },
  {
   "cell_type": "code",
   "execution_count": 12,
   "id": "5941c87d-a4ac-47d3-8110-c10bcac33c0d",
   "metadata": {},
   "outputs": [
    {
     "name": "stdout",
     "output_type": "stream",
     "text": [
      "\u001b[32mSaved SampleEstimator[Classifier] to: ../Alien_data/RF-param-tuning/sample_estimator.qza\u001b[0m\n",
      "\u001b[32mSaved FeatureData[Importance] to: ../Alien_data/RF-param-tuning/feature_importance.qza\u001b[0m\n",
      "\u001b[32mSaved SampleData[ClassifierPredictions] to: ../Alien_data/RF-param-tuning/predictions.qza\u001b[0m\n",
      "\u001b[32mSaved Visualization to: ../Alien_data/RF-param-tuning/model_summary.qzv\u001b[0m\n",
      "\u001b[32mSaved Visualization to: ../Alien_data/RF-param-tuning/accuracy_results.qzv\u001b[0m\n",
      "\u001b[32mSaved SampleData[Probabilities] to: ../Alien_data/RF-param-tuning/probabilities.qza\u001b[0m\n",
      "\u001b[32mSaved Visualization to: ../Alien_data/RF-param-tuning/heatmap.qzv\u001b[0m\n",
      "\u001b[32mSaved SampleData[TrueTargets] to: ../Alien_data/RF-param-tuning/training_targets.qza\u001b[0m\n",
      "\u001b[32mSaved SampleData[TrueTargets] to: ../Alien_data/RF-param-tuning/test_targets.qza\u001b[0m\n",
      "\u001b[0m"
     ]
    }
   ],
   "source": [
    "! qiime sample-classifier classify-samples \\\n",
    "  --i-table $data_dir/table-filtered.qza \\\n",
    "  --m-metadata-file $data_dir/str_metadata.tsv \\\n",
    "  --m-metadata-column alleged_abduction \\\n",
    "  --p-test-size 0.2 \\\n",
    "  --p-optimize-feature-selection \\\n",
    "  --p-parameter-tuning \\\n",
    "  --p-estimator RandomForestClassifier \\\n",
    "  --p-palette 'enigma' \\\n",
    "  --p-random-state 0 \\\n",
    "  --output-dir $data_dir/RF-param-tuning"
   ]
  },
  {
   "cell_type": "code",
   "execution_count": 9,
   "id": "99090f4a-2bc3-4dea-be24-90fdf33225f8",
   "metadata": {},
   "outputs": [
    {
     "data": {
      "text/html": [
       "<div><img onload=\"(function(div, url){\n",
       "if (typeof require !== 'undefined') {\n",
       "    var baseURL = require.toUrl('').split('/').slice(0, -2).join('/');\n",
       "} else {\n",
       "    var baseURL = JSON.parse(\n",
       "        document.getElementById('jupyter-config-data').innerHTML\n",
       "    ).baseUrl.slice(0, -1);\n",
       "}\n",
       "url = baseURL + url;\n",
       "fetch(url).then(function(res) {\n",
       "    if (res.status === 404) {\n",
       "        div.innerHTML = 'Install QIIME 2 Jupyter extension with:<br />' +\n",
       "                        '<code>jupyter serverextension enable --py qiime2' +\n",
       "                        ' --sys-prefix</code><br />then restart your server.' +\n",
       "                        '<br /><br />(Interactive output not available on ' +\n",
       "                        'static notebook viewer services like nbviewer.)';\n",
       "    } else if (res.status === 409) {\n",
       "        div.innerHTML = 'Visualization no longer in scope. Re-run this cell' +\n",
       "                        ' to see the visualization.';\n",
       "    } else if (res.ok) {\n",
       "        url = res.url;\n",
       "        div.innerHTML = '<iframe src=\\'' + url + '\\' style=\\'' +\n",
       "                        'width: 100%; height: 700px; border: 0;\\'>' +\n",
       "                        '</iframe><hr />Open in a: <a href=\\'' + url + '\\'' +\n",
       "                        ' target=\\'_blank\\'>new window</a>'\n",
       "    } else {\n",
       "        div.innerHTML = 'Something has gone wrong. Check notebook server for' +\n",
       "                        ' errors.';\n",
       "    }\n",
       "});\n",
       "})(this.parentElement, '/qiime2/redirect?location=/tmp/qiime2-archive-oo9i7zle')\" src=\"data:image/gif;base64,R0lGODlhAQABAIAAAP///wAAACH5BAEAAAAALAAAAAABAAEAAAICRAEAOw==\" /></div>"
      ],
      "text/plain": [
       "<visualization: Visualization uuid: c650ee6b-9618-4c57-a8e2-e8b476264936>"
      ]
     },
     "execution_count": 9,
     "metadata": {},
     "output_type": "execute_result"
    }
   ],
   "source": [
    "Visualization.load(f'{data_dir}/RF-param-tuning/accuracy_results.qzv')"
   ]
  },
  {
   "cell_type": "markdown",
   "id": "b1d2496d-6428-427e-80fd-f2b96af63e7f",
   "metadata": {},
   "source": [
    "### Repeat with More Estimators (more trees)\n",
    "Does increasing the number of trees improve the model's accuracy?\n",
    "(Default is 100 trees, here trying 300 and 500) Neither improved overall accuracy."
   ]
  },
  {
   "cell_type": "code",
   "execution_count": 14,
   "id": "e7f266cb-3678-47d8-9852-0251c976b0d7",
   "metadata": {},
   "outputs": [
    {
     "name": "stdout",
     "output_type": "stream",
     "text": [
      "\u001b[32mSaved SampleEstimator[Classifier] to: ../Alien_data/RF-threehundred-trees/sample_estimator.qza\u001b[0m\n",
      "\u001b[32mSaved FeatureData[Importance] to: ../Alien_data/RF-threehundred-trees/feature_importance.qza\u001b[0m\n",
      "\u001b[32mSaved SampleData[ClassifierPredictions] to: ../Alien_data/RF-threehundred-trees/predictions.qza\u001b[0m\n",
      "\u001b[32mSaved Visualization to: ../Alien_data/RF-threehundred-trees/model_summary.qzv\u001b[0m\n",
      "\u001b[32mSaved Visualization to: ../Alien_data/RF-threehundred-trees/accuracy_results.qzv\u001b[0m\n",
      "\u001b[32mSaved SampleData[Probabilities] to: ../Alien_data/RF-threehundred-trees/probabilities.qza\u001b[0m\n",
      "\u001b[32mSaved Visualization to: ../Alien_data/RF-threehundred-trees/heatmap.qzv\u001b[0m\n",
      "\u001b[32mSaved SampleData[TrueTargets] to: ../Alien_data/RF-threehundred-trees/training_targets.qza\u001b[0m\n",
      "\u001b[32mSaved SampleData[TrueTargets] to: ../Alien_data/RF-threehundred-trees/test_targets.qza\u001b[0m\n",
      "\u001b[0m"
     ]
    }
   ],
   "source": [
    "! qiime sample-classifier classify-samples \\\n",
    "  --i-table $data_dir/table-filtered.qza \\\n",
    "  --m-metadata-file $data_dir/str_metadata.tsv \\\n",
    "  --m-metadata-column alleged_abduction \\\n",
    "  --p-test-size 0.2 \\\n",
    "  --p-estimator RandomForestClassifier \\\n",
    "  --p-optimize-feature-selection \\\n",
    "  --p-parameter-tuning \\\n",
    "  --p-n-estimators 300 \\\n",
    "  --p-palette 'enigma' \\\n",
    "  --p-random-state 0 \\\n",
    "  --output-dir $data_dir/RF-threehundred-trees"
   ]
  },
  {
   "cell_type": "code",
   "execution_count": 10,
   "id": "01c61b51-8eda-43b4-b275-d927dff70dfb",
   "metadata": {},
   "outputs": [
    {
     "data": {
      "text/html": [
       "<div><img onload=\"(function(div, url){\n",
       "if (typeof require !== 'undefined') {\n",
       "    var baseURL = require.toUrl('').split('/').slice(0, -2).join('/');\n",
       "} else {\n",
       "    var baseURL = JSON.parse(\n",
       "        document.getElementById('jupyter-config-data').innerHTML\n",
       "    ).baseUrl.slice(0, -1);\n",
       "}\n",
       "url = baseURL + url;\n",
       "fetch(url).then(function(res) {\n",
       "    if (res.status === 404) {\n",
       "        div.innerHTML = 'Install QIIME 2 Jupyter extension with:<br />' +\n",
       "                        '<code>jupyter serverextension enable --py qiime2' +\n",
       "                        ' --sys-prefix</code><br />then restart your server.' +\n",
       "                        '<br /><br />(Interactive output not available on ' +\n",
       "                        'static notebook viewer services like nbviewer.)';\n",
       "    } else if (res.status === 409) {\n",
       "        div.innerHTML = 'Visualization no longer in scope. Re-run this cell' +\n",
       "                        ' to see the visualization.';\n",
       "    } else if (res.ok) {\n",
       "        url = res.url;\n",
       "        div.innerHTML = '<iframe src=\\'' + url + '\\' style=\\'' +\n",
       "                        'width: 100%; height: 700px; border: 0;\\'>' +\n",
       "                        '</iframe><hr />Open in a: <a href=\\'' + url + '\\'' +\n",
       "                        ' target=\\'_blank\\'>new window</a>'\n",
       "    } else {\n",
       "        div.innerHTML = 'Something has gone wrong. Check notebook server for' +\n",
       "                        ' errors.';\n",
       "    }\n",
       "});\n",
       "})(this.parentElement, '/qiime2/redirect?location=/tmp/qiime2-archive-k34_372k')\" src=\"data:image/gif;base64,R0lGODlhAQABAIAAAP///wAAACH5BAEAAAAALAAAAAABAAEAAAICRAEAOw==\" /></div>"
      ],
      "text/plain": [
       "<visualization: Visualization uuid: 566a4322-693c-4953-8267-85327a02d81c>"
      ]
     },
     "execution_count": 10,
     "metadata": {},
     "output_type": "execute_result"
    }
   ],
   "source": [
    "Visualization.load(f'{data_dir}/RF-threehundred-trees/accuracy_results.qzv')"
   ]
  },
  {
   "cell_type": "code",
   "execution_count": 24,
   "id": "49d9e129-ec06-42f0-8f7a-67c003677fb0",
   "metadata": {},
   "outputs": [
    {
     "name": "stdout",
     "output_type": "stream",
     "text": [
      "\u001b[32mSaved SampleEstimator[Classifier] to: ../Alien_data/RF-fivehundred-trees/sample_estimator.qza\u001b[0m\n",
      "\u001b[32mSaved FeatureData[Importance] to: ../Alien_data/RF-fivehundred-trees/feature_importance.qza\u001b[0m\n",
      "\u001b[32mSaved SampleData[ClassifierPredictions] to: ../Alien_data/RF-fivehundred-trees/predictions.qza\u001b[0m\n",
      "\u001b[32mSaved Visualization to: ../Alien_data/RF-fivehundred-trees/model_summary.qzv\u001b[0m\n",
      "\u001b[32mSaved Visualization to: ../Alien_data/RF-fivehundred-trees/accuracy_results.qzv\u001b[0m\n",
      "\u001b[32mSaved SampleData[Probabilities] to: ../Alien_data/RF-fivehundred-trees/probabilities.qza\u001b[0m\n",
      "\u001b[32mSaved Visualization to: ../Alien_data/RF-fivehundred-trees/heatmap.qzv\u001b[0m\n",
      "\u001b[32mSaved SampleData[TrueTargets] to: ../Alien_data/RF-fivehundred-trees/training_targets.qza\u001b[0m\n",
      "\u001b[32mSaved SampleData[TrueTargets] to: ../Alien_data/RF-fivehundred-trees/test_targets.qza\u001b[0m\n",
      "\u001b[0m"
     ]
    }
   ],
   "source": [
    "! qiime sample-classifier classify-samples \\\n",
    "  --i-table $data_dir/table-filtered.qza \\\n",
    "  --m-metadata-file $data_dir/str_metadata.tsv \\\n",
    "  --m-metadata-column alleged_abduction \\\n",
    "  --p-test-size 0.2 \\\n",
    "  --p-estimator RandomForestClassifier \\\n",
    "  --p-optimize-feature-selection \\\n",
    "  --p-parameter-tuning \\\n",
    "  --p-n-estimators 500 \\\n",
    "  --p-palette 'enigma' \\\n",
    "  --p-random-state 0 \\\n",
    "  --output-dir $data_dir/RF-fivehundred-trees"
   ]
  },
  {
   "cell_type": "code",
   "execution_count": 11,
   "id": "4cc33498-af73-4e8e-be9e-18f61105e67f",
   "metadata": {},
   "outputs": [
    {
     "data": {
      "text/html": [
       "<div><img onload=\"(function(div, url){\n",
       "if (typeof require !== 'undefined') {\n",
       "    var baseURL = require.toUrl('').split('/').slice(0, -2).join('/');\n",
       "} else {\n",
       "    var baseURL = JSON.parse(\n",
       "        document.getElementById('jupyter-config-data').innerHTML\n",
       "    ).baseUrl.slice(0, -1);\n",
       "}\n",
       "url = baseURL + url;\n",
       "fetch(url).then(function(res) {\n",
       "    if (res.status === 404) {\n",
       "        div.innerHTML = 'Install QIIME 2 Jupyter extension with:<br />' +\n",
       "                        '<code>jupyter serverextension enable --py qiime2' +\n",
       "                        ' --sys-prefix</code><br />then restart your server.' +\n",
       "                        '<br /><br />(Interactive output not available on ' +\n",
       "                        'static notebook viewer services like nbviewer.)';\n",
       "    } else if (res.status === 409) {\n",
       "        div.innerHTML = 'Visualization no longer in scope. Re-run this cell' +\n",
       "                        ' to see the visualization.';\n",
       "    } else if (res.ok) {\n",
       "        url = res.url;\n",
       "        div.innerHTML = '<iframe src=\\'' + url + '\\' style=\\'' +\n",
       "                        'width: 100%; height: 700px; border: 0;\\'>' +\n",
       "                        '</iframe><hr />Open in a: <a href=\\'' + url + '\\'' +\n",
       "                        ' target=\\'_blank\\'>new window</a>'\n",
       "    } else {\n",
       "        div.innerHTML = 'Something has gone wrong. Check notebook server for' +\n",
       "                        ' errors.';\n",
       "    }\n",
       "});\n",
       "})(this.parentElement, '/qiime2/redirect?location=/tmp/qiime2-archive-fndzr8m0')\" src=\"data:image/gif;base64,R0lGODlhAQABAIAAAP///wAAACH5BAEAAAAALAAAAAABAAEAAAICRAEAOw==\" /></div>"
      ],
      "text/plain": [
       "<visualization: Visualization uuid: cc9bb279-f03d-489a-b36a-547949ade8de>"
      ]
     },
     "execution_count": 11,
     "metadata": {},
     "output_type": "execute_result"
    }
   ],
   "source": [
    "Visualization.load(f'{data_dir}/RF-fivehundred-trees/accuracy_results.qzv')"
   ]
  },
  {
   "cell_type": "markdown",
   "id": "a948e296-ff5c-419f-a9e9-c1c4bb9eec3b",
   "metadata": {},
   "source": [
    "### Repeat with fewer and more folds (cross-validation)\n",
    "Default is 5, try 3 and 10. All with 500 trees. Again no effect."
   ]
  },
  {
   "cell_type": "code",
   "execution_count": 18,
   "id": "8cad2998-5144-493f-9fc5-d67e728300c1",
   "metadata": {
    "tags": []
   },
   "outputs": [
    {
     "name": "stdout",
     "output_type": "stream",
     "text": [
      "\u001b[32mSaved SampleEstimator[Classifier] to: ../Alien_data/RF-three-fold/sample_estimator.qza\u001b[0m\n",
      "\u001b[32mSaved FeatureData[Importance] to: ../Alien_data/RF-three-fold/feature_importance.qza\u001b[0m\n",
      "\u001b[32mSaved SampleData[ClassifierPredictions] to: ../Alien_data/RF-three-fold/predictions.qza\u001b[0m\n",
      "\u001b[32mSaved Visualization to: ../Alien_data/RF-three-fold/model_summary.qzv\u001b[0m\n",
      "\u001b[32mSaved Visualization to: ../Alien_data/RF-three-fold/accuracy_results.qzv\u001b[0m\n",
      "\u001b[32mSaved SampleData[Probabilities] to: ../Alien_data/RF-three-fold/probabilities.qza\u001b[0m\n",
      "\u001b[32mSaved Visualization to: ../Alien_data/RF-three-fold/heatmap.qzv\u001b[0m\n",
      "\u001b[32mSaved SampleData[TrueTargets] to: ../Alien_data/RF-three-fold/training_targets.qza\u001b[0m\n",
      "\u001b[32mSaved SampleData[TrueTargets] to: ../Alien_data/RF-three-fold/test_targets.qza\u001b[0m\n",
      "\u001b[0m"
     ]
    }
   ],
   "source": [
    "! qiime sample-classifier classify-samples \\\n",
    "  --i-table $data_dir/table-filtered.qza \\\n",
    "  --m-metadata-file $data_dir/str_metadata.tsv \\\n",
    "  --m-metadata-column alleged_abduction \\\n",
    "  --p-test-size 0.2 \\\n",
    "  --p-estimator RandomForestClassifier \\\n",
    "  --p-optimize-feature-selection \\\n",
    "  --p-parameter-tuning \\\n",
    "  --p-n-estimators 500 \\\n",
    "  --p-cv 3 \\\n",
    "  --p-palette 'enigma' \\\n",
    "  --p-random-state 0 \\\n",
    "  --output-dir $data_dir/RF-three-fold"
   ]
  },
  {
   "cell_type": "code",
   "execution_count": 12,
   "id": "afc84254-e511-4267-8d68-f850c43a1931",
   "metadata": {
    "tags": []
   },
   "outputs": [
    {
     "data": {
      "text/html": [
       "<div><img onload=\"(function(div, url){\n",
       "if (typeof require !== 'undefined') {\n",
       "    var baseURL = require.toUrl('').split('/').slice(0, -2).join('/');\n",
       "} else {\n",
       "    var baseURL = JSON.parse(\n",
       "        document.getElementById('jupyter-config-data').innerHTML\n",
       "    ).baseUrl.slice(0, -1);\n",
       "}\n",
       "url = baseURL + url;\n",
       "fetch(url).then(function(res) {\n",
       "    if (res.status === 404) {\n",
       "        div.innerHTML = 'Install QIIME 2 Jupyter extension with:<br />' +\n",
       "                        '<code>jupyter serverextension enable --py qiime2' +\n",
       "                        ' --sys-prefix</code><br />then restart your server.' +\n",
       "                        '<br /><br />(Interactive output not available on ' +\n",
       "                        'static notebook viewer services like nbviewer.)';\n",
       "    } else if (res.status === 409) {\n",
       "        div.innerHTML = 'Visualization no longer in scope. Re-run this cell' +\n",
       "                        ' to see the visualization.';\n",
       "    } else if (res.ok) {\n",
       "        url = res.url;\n",
       "        div.innerHTML = '<iframe src=\\'' + url + '\\' style=\\'' +\n",
       "                        'width: 100%; height: 700px; border: 0;\\'>' +\n",
       "                        '</iframe><hr />Open in a: <a href=\\'' + url + '\\'' +\n",
       "                        ' target=\\'_blank\\'>new window</a>'\n",
       "    } else {\n",
       "        div.innerHTML = 'Something has gone wrong. Check notebook server for' +\n",
       "                        ' errors.';\n",
       "    }\n",
       "});\n",
       "})(this.parentElement, '/qiime2/redirect?location=/tmp/qiime2-archive-kqh1unmb')\" src=\"data:image/gif;base64,R0lGODlhAQABAIAAAP///wAAACH5BAEAAAAALAAAAAABAAEAAAICRAEAOw==\" /></div>"
      ],
      "text/plain": [
       "<visualization: Visualization uuid: 18dd7d32-9fca-4351-936d-067072dce5e4>"
      ]
     },
     "execution_count": 12,
     "metadata": {},
     "output_type": "execute_result"
    }
   ],
   "source": [
    "Visualization.load(f'{data_dir}/RF-three-fold/accuracy_results.qzv')"
   ]
  },
  {
   "cell_type": "code",
   "execution_count": 20,
   "id": "9abb390d-0c36-4ff5-8f49-0745c4ce578e",
   "metadata": {
    "tags": []
   },
   "outputs": [
    {
     "name": "stdout",
     "output_type": "stream",
     "text": [
      "\u001b[32mSaved SampleEstimator[Classifier] to: ../Alien_data/RF-ten-fold/sample_estimator.qza\u001b[0m\n",
      "\u001b[32mSaved FeatureData[Importance] to: ../Alien_data/RF-ten-fold/feature_importance.qza\u001b[0m\n",
      "\u001b[32mSaved SampleData[ClassifierPredictions] to: ../Alien_data/RF-ten-fold/predictions.qza\u001b[0m\n",
      "\u001b[32mSaved Visualization to: ../Alien_data/RF-ten-fold/model_summary.qzv\u001b[0m\n",
      "\u001b[32mSaved Visualization to: ../Alien_data/RF-ten-fold/accuracy_results.qzv\u001b[0m\n",
      "\u001b[32mSaved SampleData[Probabilities] to: ../Alien_data/RF-ten-fold/probabilities.qza\u001b[0m\n",
      "\u001b[32mSaved Visualization to: ../Alien_data/RF-ten-fold/heatmap.qzv\u001b[0m\n",
      "\u001b[32mSaved SampleData[TrueTargets] to: ../Alien_data/RF-ten-fold/training_targets.qza\u001b[0m\n",
      "\u001b[32mSaved SampleData[TrueTargets] to: ../Alien_data/RF-ten-fold/test_targets.qza\u001b[0m\n",
      "\u001b[0m"
     ]
    }
   ],
   "source": [
    "# Removed feature selection parameter because it causes error that \n",
    "# \"linkage must be computed on at least two observations\". Possible that \n",
    "# in some partitions of the data, only one feature remains important \n",
    "# when using optimized feature selection (all feature importances seem low)\n",
    "\n",
    "! qiime sample-classifier classify-samples \\\n",
    "  --i-table $data_dir/table-filtered.qza \\\n",
    "  --m-metadata-file $data_dir/str_metadata.tsv \\\n",
    "  --m-metadata-column alleged_abduction \\\n",
    "  --p-test-size 0.2 \\\n",
    "  --p-estimator RandomForestClassifier \\\n",
    "  --p-parameter-tuning \\\n",
    "  --p-n-estimators 500 \\\n",
    "  --p-cv 10 \\\n",
    "  --p-palette 'enigma' \\\n",
    "  --p-random-state 0 \\\n",
    "  --output-dir $data_dir/RF-ten-fold"
   ]
  },
  {
   "cell_type": "code",
   "execution_count": 13,
   "id": "abb87e3a-f774-4a8f-b759-6a92ab4da2e2",
   "metadata": {
    "tags": []
   },
   "outputs": [
    {
     "data": {
      "text/html": [
       "<div><img onload=\"(function(div, url){\n",
       "if (typeof require !== 'undefined') {\n",
       "    var baseURL = require.toUrl('').split('/').slice(0, -2).join('/');\n",
       "} else {\n",
       "    var baseURL = JSON.parse(\n",
       "        document.getElementById('jupyter-config-data').innerHTML\n",
       "    ).baseUrl.slice(0, -1);\n",
       "}\n",
       "url = baseURL + url;\n",
       "fetch(url).then(function(res) {\n",
       "    if (res.status === 404) {\n",
       "        div.innerHTML = 'Install QIIME 2 Jupyter extension with:<br />' +\n",
       "                        '<code>jupyter serverextension enable --py qiime2' +\n",
       "                        ' --sys-prefix</code><br />then restart your server.' +\n",
       "                        '<br /><br />(Interactive output not available on ' +\n",
       "                        'static notebook viewer services like nbviewer.)';\n",
       "    } else if (res.status === 409) {\n",
       "        div.innerHTML = 'Visualization no longer in scope. Re-run this cell' +\n",
       "                        ' to see the visualization.';\n",
       "    } else if (res.ok) {\n",
       "        url = res.url;\n",
       "        div.innerHTML = '<iframe src=\\'' + url + '\\' style=\\'' +\n",
       "                        'width: 100%; height: 700px; border: 0;\\'>' +\n",
       "                        '</iframe><hr />Open in a: <a href=\\'' + url + '\\'' +\n",
       "                        ' target=\\'_blank\\'>new window</a>'\n",
       "    } else {\n",
       "        div.innerHTML = 'Something has gone wrong. Check notebook server for' +\n",
       "                        ' errors.';\n",
       "    }\n",
       "});\n",
       "})(this.parentElement, '/qiime2/redirect?location=/tmp/qiime2-archive-vkbfydre')\" src=\"data:image/gif;base64,R0lGODlhAQABAIAAAP///wAAACH5BAEAAAAALAAAAAABAAEAAAICRAEAOw==\" /></div>"
      ],
      "text/plain": [
       "<visualization: Visualization uuid: ec8669d1-40f5-4251-87db-4e59ee34f36e>"
      ]
     },
     "execution_count": 13,
     "metadata": {},
     "output_type": "execute_result"
    }
   ],
   "source": [
    "Visualization.load(f'{data_dir}/RF-ten-fold/accuracy_results.qzv')"
   ]
  },
  {
   "cell_type": "markdown",
   "id": "813e0da2-0996-4a2f-8951-8d1fb53e7ee3",
   "metadata": {},
   "source": [
    "##### Overall, no parameters improved the overall accuracy \n",
    "\n",
    "The overall accuracy is almost equal to the baseline accuracy, meaning the model performs basically only as well as a model that simply classifies samples as the most frequent class. This suggests that microbial composition does not provide enough information to predict abduction status."
   ]
  },
  {
   "cell_type": "markdown",
   "id": "44411f6e-f544-4331-8f67-dae5b7936f3d",
   "metadata": {},
   "source": [
    "### Nested cross-validation"
   ]
  },
  {
   "cell_type": "code",
   "execution_count": 6,
   "id": "277f0e7c-fb72-455e-8eeb-dd892fb6d507",
   "metadata": {},
   "outputs": [
    {
     "name": "stdout",
     "output_type": "stream",
     "text": [
      "\u001b[32mSaved SampleData[ClassifierPredictions] to: ../Alien_data/RF-ncv-classifier-three-fold/predictions.qza\u001b[0m\n",
      "\u001b[32mSaved FeatureData[Importance] to: ../Alien_data/RF-ncv-classifier-three-fold/feature_importance.qza\u001b[0m\n",
      "\u001b[32mSaved SampleData[Probabilities] to: ../Alien_data/RF-ncv-classifier-three-fold/probabilities.qza\u001b[0m\n",
      "\u001b[0m"
     ]
    }
   ],
   "source": [
    "# 3-fold, 500 trees\n",
    "! qiime sample-classifier classify-samples-ncv \\\n",
    "  --i-table $data_dir/table-filtered.qza \\\n",
    "  --m-metadata-file $data_dir/str_metadata.tsv \\\n",
    "  --m-metadata-column alleged_abduction \\\n",
    "  --p-parameter-tuning \\\n",
    "  --p-cv 3 \\\n",
    "  --p-estimator RandomForestClassifier \\\n",
    "  --p-n-estimators 500 \\\n",
    "  --p-random-state 0 \\\n",
    "  --output-dir $data_dir/RF-ncv-classifier-three-fold"
   ]
  },
  {
   "cell_type": "code",
   "execution_count": 7,
   "id": "55be01f9-ad2c-45da-9548-6c9c06ba0852",
   "metadata": {},
   "outputs": [
    {
     "name": "stdout",
     "output_type": "stream",
     "text": [
      "\u001b[32mSaved Visualization to: ../Alien_data/RF-ncv-classifier-three-fold/ncv_confusion_matrix.qzv\u001b[0m\n",
      "\u001b[0m"
     ]
    }
   ],
   "source": [
    "# Classify abduction status based on microbial composition\n",
    "\n",
    "! qiime sample-classifier confusion-matrix \\\n",
    "  --i-predictions $data_dir/RF-ncv-classifier-three-fold/predictions.qza \\\n",
    "  --i-probabilities $data_dir/RF-ncv-classifier-three-fold/probabilities.qza \\\n",
    "  --m-truth-file $data_dir/str_metadata.tsv \\\n",
    "  --m-truth-column alleged_abduction \\\n",
    "  --o-visualization $data_dir/RF-ncv-classifier-three-fold/ncv_confusion_matrix.qzv"
   ]
  },
  {
   "cell_type": "code",
   "execution_count": 8,
   "id": "f5c25349-c5c5-4c17-84b1-283990452a0d",
   "metadata": {},
   "outputs": [
    {
     "data": {
      "text/html": [
       "<div><img onload=\"(function(div, url){\n",
       "if (typeof require !== 'undefined') {\n",
       "    var baseURL = require.toUrl('').split('/').slice(0, -2).join('/');\n",
       "} else {\n",
       "    var baseURL = JSON.parse(\n",
       "        document.getElementById('jupyter-config-data').innerHTML\n",
       "    ).baseUrl.slice(0, -1);\n",
       "}\n",
       "url = baseURL + url;\n",
       "fetch(url).then(function(res) {\n",
       "    if (res.status === 404) {\n",
       "        div.innerHTML = 'Install QIIME 2 Jupyter extension with:<br />' +\n",
       "                        '<code>jupyter serverextension enable --py qiime2' +\n",
       "                        ' --sys-prefix</code><br />then restart your server.' +\n",
       "                        '<br /><br />(Interactive output not available on ' +\n",
       "                        'static notebook viewer services like nbviewer.)';\n",
       "    } else if (res.status === 409) {\n",
       "        div.innerHTML = 'Visualization no longer in scope. Re-run this cell' +\n",
       "                        ' to see the visualization.';\n",
       "    } else if (res.ok) {\n",
       "        url = res.url;\n",
       "        div.innerHTML = '<iframe src=\\'' + url + '\\' style=\\'' +\n",
       "                        'width: 100%; height: 700px; border: 0;\\'>' +\n",
       "                        '</iframe><hr />Open in a: <a href=\\'' + url + '\\'' +\n",
       "                        ' target=\\'_blank\\'>new window</a>'\n",
       "    } else {\n",
       "        div.innerHTML = 'Something has gone wrong. Check notebook server for' +\n",
       "                        ' errors.';\n",
       "    }\n",
       "});\n",
       "})(this.parentElement, '/qiime2/redirect?location=/tmp/qiime2-archive-z9nkh514')\" src=\"data:image/gif;base64,R0lGODlhAQABAIAAAP///wAAACH5BAEAAAAALAAAAAABAAEAAAICRAEAOw==\" /></div>"
      ],
      "text/plain": [
       "<visualization: Visualization uuid: d1a2cdea-4414-41aa-a206-e30d66ffa650>"
      ]
     },
     "execution_count": 8,
     "metadata": {},
     "output_type": "execute_result"
    }
   ],
   "source": [
    "Visualization.load(f'{data_dir}/RF-ncv-classifier-three-fold/ncv_confusion_matrix.qzv')"
   ]
  },
  {
   "cell_type": "code",
   "execution_count": 9,
   "id": "847cd974-fded-40e1-9ce4-ceedaeb31929",
   "metadata": {},
   "outputs": [
    {
     "name": "stdout",
     "output_type": "stream",
     "text": [
      "\u001b[32mSaved SampleData[ClassifierPredictions] to: ../Alien_data/RF-ncv-classifier-five-fold/predictions.qza\u001b[0m\n",
      "\u001b[32mSaved FeatureData[Importance] to: ../Alien_data/RF-ncv-classifier-five-fold/feature_importance.qza\u001b[0m\n",
      "\u001b[32mSaved SampleData[Probabilities] to: ../Alien_data/RF-ncv-classifier-five-fold/probabilities.qza\u001b[0m\n",
      "\u001b[0m"
     ]
    }
   ],
   "source": [
    "# 5-fold, 500 trees\n",
    "! qiime sample-classifier classify-samples-ncv \\\n",
    "  --i-table $data_dir/table-filtered.qza \\\n",
    "  --m-metadata-file $data_dir/str_metadata.tsv \\\n",
    "  --m-metadata-column alleged_abduction \\\n",
    "  --p-parameter-tuning \\\n",
    "  --p-cv 5 \\\n",
    "  --p-estimator RandomForestClassifier \\\n",
    "  --p-n-estimators 500 \\\n",
    "  --p-random-state 0 \\\n",
    "  --output-dir $data_dir/RF-ncv-classifier-five-fold"
   ]
  },
  {
   "cell_type": "code",
   "execution_count": 10,
   "id": "27f24dd0-caea-43c7-8407-b23163e03b94",
   "metadata": {},
   "outputs": [
    {
     "name": "stdout",
     "output_type": "stream",
     "text": [
      "\u001b[32mSaved Visualization to: ../Alien_data/RF-ncv-classifier-five-fold/ncv_confusion_matrix.qzv\u001b[0m\n",
      "\u001b[0m"
     ]
    }
   ],
   "source": [
    "# Classify abduction status based on microbial composition\n",
    "! qiime sample-classifier confusion-matrix \\\n",
    "  --i-predictions $data_dir/RF-ncv-classifier-five-fold/predictions.qza \\\n",
    "  --i-probabilities $data_dir/RF-ncv-classifier-five-fold/probabilities.qza \\\n",
    "  --m-truth-file $data_dir/str_metadata.tsv \\\n",
    "  --m-truth-column alleged_abduction \\\n",
    "  --o-visualization $data_dir/RF-ncv-classifier-five-fold/ncv_confusion_matrix.qzv"
   ]
  },
  {
   "cell_type": "code",
   "execution_count": 11,
   "id": "7fdf5f76-2136-46f6-83ec-d1dac2dfe581",
   "metadata": {},
   "outputs": [
    {
     "data": {
      "text/html": [
       "<div><img onload=\"(function(div, url){\n",
       "if (typeof require !== 'undefined') {\n",
       "    var baseURL = require.toUrl('').split('/').slice(0, -2).join('/');\n",
       "} else {\n",
       "    var baseURL = JSON.parse(\n",
       "        document.getElementById('jupyter-config-data').innerHTML\n",
       "    ).baseUrl.slice(0, -1);\n",
       "}\n",
       "url = baseURL + url;\n",
       "fetch(url).then(function(res) {\n",
       "    if (res.status === 404) {\n",
       "        div.innerHTML = 'Install QIIME 2 Jupyter extension with:<br />' +\n",
       "                        '<code>jupyter serverextension enable --py qiime2' +\n",
       "                        ' --sys-prefix</code><br />then restart your server.' +\n",
       "                        '<br /><br />(Interactive output not available on ' +\n",
       "                        'static notebook viewer services like nbviewer.)';\n",
       "    } else if (res.status === 409) {\n",
       "        div.innerHTML = 'Visualization no longer in scope. Re-run this cell' +\n",
       "                        ' to see the visualization.';\n",
       "    } else if (res.ok) {\n",
       "        url = res.url;\n",
       "        div.innerHTML = '<iframe src=\\'' + url + '\\' style=\\'' +\n",
       "                        'width: 100%; height: 700px; border: 0;\\'>' +\n",
       "                        '</iframe><hr />Open in a: <a href=\\'' + url + '\\'' +\n",
       "                        ' target=\\'_blank\\'>new window</a>'\n",
       "    } else {\n",
       "        div.innerHTML = 'Something has gone wrong. Check notebook server for' +\n",
       "                        ' errors.';\n",
       "    }\n",
       "});\n",
       "})(this.parentElement, '/qiime2/redirect?location=/tmp/qiime2-archive-8b5hd6zq')\" src=\"data:image/gif;base64,R0lGODlhAQABAIAAAP///wAAACH5BAEAAAAALAAAAAABAAEAAAICRAEAOw==\" /></div>"
      ],
      "text/plain": [
       "<visualization: Visualization uuid: 488b7c88-549f-45a3-ac52-d470b37ddbc7>"
      ]
     },
     "execution_count": 11,
     "metadata": {},
     "output_type": "execute_result"
    }
   ],
   "source": [
    "Visualization.load(f'{data_dir}/RF-ncv-classifier-five-fold/ncv_confusion_matrix.qzv')"
   ]
  },
  {
   "cell_type": "code",
   "execution_count": 3,
   "id": "5004c4e6-2727-40ea-b830-37be03a37632",
   "metadata": {},
   "outputs": [
    {
     "name": "stdout",
     "output_type": "stream",
     "text": [
      "^C\n",
      "\n",
      "Aborted!\n",
      "\u001b[0m"
     ]
    }
   ],
   "source": [
    "# 10-fold, 500 trees\n",
    "! qiime sample-classifier classify-samples-ncv \\\n",
    "  --i-table $data_dir/table-filtered.qza \\\n",
    "  --m-metadata-file $data_dir/str_metadata.tsv \\\n",
    "  --m-metadata-column alleged_abduction \\\n",
    "  --p-parameter-tuning \\\n",
    "  --p-cv 10 \\\n",
    "  --p-estimator RandomForestClassifier \\\n",
    "  --p-n-estimators 500 \\\n",
    "  --p-random-state 0 \\\n",
    "  --output-dir $data_dir/RF-ncv-classifier-ten-fold"
   ]
  },
  {
   "cell_type": "code",
   "execution_count": 15,
   "id": "d3782bc9-580d-4351-a2cb-d70a75d2ac61",
   "metadata": {},
   "outputs": [
    {
     "name": "stdout",
     "output_type": "stream",
     "text": [
      "\u001b[32mSaved Visualization to: ../Alien_data/RF-ncv-classifier-three-fold/ncv_confusion_matrix.qzv\u001b[0m\n",
      "\u001b[0m"
     ]
    }
   ],
   "source": [
    "# Classify abduction status based on microbial composition\n",
    "\n",
    "! qiime sample-classifier confusion-matrix \\\n",
    "  --i-predictions $data_dir/RF-ncv-classifier-ten-fold/predictions.qza \\\n",
    "  --i-probabilities $data_dir/RF-ncv-classifier-ten-fold/probabilities.qza \\\n",
    "  --m-truth-file $data_dir/str_metadata.tsv \\\n",
    "  --m-truth-column alleged_abduction \\\n",
    "  --o-visualization $data_dir/RF-ncv-classifier-ten-fold/ncv_confusion_matrix.qzv"
   ]
  },
  {
   "cell_type": "code",
   "execution_count": null,
   "id": "0f7da5ee-f19b-4b78-93ed-b02d5d14c0d3",
   "metadata": {},
   "outputs": [],
   "source": [
    "Visualization.load(f'{data_dir}/RF-ncv-classifier-ten-fold/ncv_confusion_matrix.qzv')"
   ]
  },
  {
   "cell_type": "markdown",
   "id": "6e4db71c-8452-47f9-8863-5c72b2fdf6c3",
   "metadata": {},
   "source": [
    "### Repeat with Balanced Sample Sizes"
   ]
  },
  {
   "cell_type": "markdown",
   "id": "0cd889b7-8c31-4a79-a80d-f5cf12b490ec",
   "metadata": {},
   "source": [
    "Limitation of the method below: cannot set seed for reproducible random sampling of the non-abducted samples."
   ]
  },
  {
   "cell_type": "code",
   "execution_count": 16,
   "id": "8a0d8853-8e4f-4cdf-a455-5d871aa5681a",
   "metadata": {},
   "outputs": [
    {
     "data": {
      "text/html": [
       "<div>\n",
       "<style scoped>\n",
       "    .dataframe tbody tr th:only-of-type {\n",
       "        vertical-align: middle;\n",
       "    }\n",
       "\n",
       "    .dataframe tbody tr th {\n",
       "        vertical-align: top;\n",
       "    }\n",
       "\n",
       "    .dataframe thead th {\n",
       "        text-align: right;\n",
       "    }\n",
       "</style>\n",
       "<table border=\"1\" class=\"dataframe\">\n",
       "  <thead>\n",
       "    <tr style=\"text-align: right;\">\n",
       "      <th></th>\n",
       "      <th>sampleid</th>\n",
       "      <th>stool_consistency</th>\n",
       "      <th>hct_source</th>\n",
       "      <th>disease</th>\n",
       "      <th>categorical_time_relative_to_engraftment</th>\n",
       "      <th>week_relative_to_hct</th>\n",
       "      <th>timepoint_of_transplant</th>\n",
       "      <th>day_relative_to_nearest_hct</th>\n",
       "      <th>alleged_abduction</th>\n",
       "    </tr>\n",
       "  </thead>\n",
       "  <tbody>\n",
       "    <tr>\n",
       "      <th>0</th>\n",
       "      <td>N4VICF</td>\n",
       "      <td>formed</td>\n",
       "      <td>cord</td>\n",
       "      <td>Myelodysplastic Syndromes</td>\n",
       "      <td>pre</td>\n",
       "      <td>one week before HCT</td>\n",
       "      <td>6.0</td>\n",
       "      <td>-6.0</td>\n",
       "      <td>non_abducted</td>\n",
       "    </tr>\n",
       "    <tr>\n",
       "      <th>1</th>\n",
       "      <td>8A0F9A</td>\n",
       "      <td>formed</td>\n",
       "      <td>cord</td>\n",
       "      <td>Leukemia</td>\n",
       "      <td>pre</td>\n",
       "      <td>two weeks before HCT</td>\n",
       "      <td>7.0</td>\n",
       "      <td>-7.0</td>\n",
       "      <td>non_abducted</td>\n",
       "    </tr>\n",
       "    <tr>\n",
       "      <th>2</th>\n",
       "      <td>5Y49IM</td>\n",
       "      <td>semi-formed</td>\n",
       "      <td>cord</td>\n",
       "      <td>Leukemia</td>\n",
       "      <td>peri</td>\n",
       "      <td>one week before HCT</td>\n",
       "      <td>7.0</td>\n",
       "      <td>0.0</td>\n",
       "      <td>abducted</td>\n",
       "    </tr>\n",
       "    <tr>\n",
       "      <th>3</th>\n",
       "      <td>ZKJI45</td>\n",
       "      <td>semi-formed</td>\n",
       "      <td>cord</td>\n",
       "      <td>Leukemia</td>\n",
       "      <td>post</td>\n",
       "      <td>one week after HCT</td>\n",
       "      <td>7.0</td>\n",
       "      <td>8.0</td>\n",
       "      <td>non_abducted</td>\n",
       "    </tr>\n",
       "    <tr>\n",
       "      <th>4</th>\n",
       "      <td>2I7SIQ</td>\n",
       "      <td>liquid</td>\n",
       "      <td>cord</td>\n",
       "      <td>Leukemia</td>\n",
       "      <td>peri</td>\n",
       "      <td>one week before HCT</td>\n",
       "      <td>0.0</td>\n",
       "      <td>0.0</td>\n",
       "      <td>abducted</td>\n",
       "    </tr>\n",
       "  </tbody>\n",
       "</table>\n",
       "</div>"
      ],
      "text/plain": [
       "  sampleid stool_consistency hct_source                    disease  \\\n",
       "0   N4VICF            formed       cord  Myelodysplastic Syndromes   \n",
       "1   8A0F9A            formed       cord                   Leukemia   \n",
       "2   5Y49IM       semi-formed       cord                   Leukemia   \n",
       "3   ZKJI45       semi-formed       cord                   Leukemia   \n",
       "4   2I7SIQ            liquid       cord                   Leukemia   \n",
       "\n",
       "  categorical_time_relative_to_engraftment  week_relative_to_hct  \\\n",
       "0                                      pre   one week before HCT   \n",
       "1                                      pre  two weeks before HCT   \n",
       "2                                     peri   one week before HCT   \n",
       "3                                     post    one week after HCT   \n",
       "4                                     peri   one week before HCT   \n",
       "\n",
       "   timepoint_of_transplant  day_relative_to_nearest_hct alleged_abduction  \n",
       "0                      6.0                         -6.0      non_abducted  \n",
       "1                      7.0                         -7.0      non_abducted  \n",
       "2                      7.0                          0.0          abducted  \n",
       "3                      7.0                          8.0      non_abducted  \n",
       "4                      0.0                          0.0          abducted  "
      ]
     },
     "execution_count": 16,
     "metadata": {},
     "output_type": "execute_result"
    }
   ],
   "source": [
    "# Randomly sample non-abducted samples in metadata\n",
    "from random import sample\n",
    "\n",
    "meta = pd.read_csv(f\"{data_dir}/str_metadata.tsv\", sep = \"\\t\")\n",
    "meta.head()"
   ]
  },
  {
   "cell_type": "code",
   "execution_count": 17,
   "id": "3f5c83d0-9cce-47d9-8701-65a31e1feaa5",
   "metadata": {},
   "outputs": [
    {
     "data": {
      "text/html": [
       "<div>\n",
       "<style scoped>\n",
       "    .dataframe tbody tr th:only-of-type {\n",
       "        vertical-align: middle;\n",
       "    }\n",
       "\n",
       "    .dataframe tbody tr th {\n",
       "        vertical-align: top;\n",
       "    }\n",
       "\n",
       "    .dataframe thead th {\n",
       "        text-align: right;\n",
       "    }\n",
       "</style>\n",
       "<table border=\"1\" class=\"dataframe\">\n",
       "  <thead>\n",
       "    <tr style=\"text-align: right;\">\n",
       "      <th></th>\n",
       "      <th>sampleid</th>\n",
       "      <th>stool_consistency</th>\n",
       "      <th>hct_source</th>\n",
       "      <th>disease</th>\n",
       "      <th>categorical_time_relative_to_engraftment</th>\n",
       "      <th>week_relative_to_hct</th>\n",
       "      <th>timepoint_of_transplant</th>\n",
       "      <th>day_relative_to_nearest_hct</th>\n",
       "      <th>alleged_abduction</th>\n",
       "    </tr>\n",
       "  </thead>\n",
       "  <tbody>\n",
       "    <tr>\n",
       "      <th>0</th>\n",
       "      <td>N4VICF</td>\n",
       "      <td>formed</td>\n",
       "      <td>cord</td>\n",
       "      <td>Myelodysplastic Syndromes</td>\n",
       "      <td>pre</td>\n",
       "      <td>one week before HCT</td>\n",
       "      <td>6.0</td>\n",
       "      <td>-6.0</td>\n",
       "      <td>non_abducted</td>\n",
       "    </tr>\n",
       "    <tr>\n",
       "      <th>1</th>\n",
       "      <td>8A0F9A</td>\n",
       "      <td>formed</td>\n",
       "      <td>cord</td>\n",
       "      <td>Leukemia</td>\n",
       "      <td>pre</td>\n",
       "      <td>two weeks before HCT</td>\n",
       "      <td>7.0</td>\n",
       "      <td>-7.0</td>\n",
       "      <td>non_abducted</td>\n",
       "    </tr>\n",
       "    <tr>\n",
       "      <th>3</th>\n",
       "      <td>ZKJI45</td>\n",
       "      <td>semi-formed</td>\n",
       "      <td>cord</td>\n",
       "      <td>Leukemia</td>\n",
       "      <td>post</td>\n",
       "      <td>one week after HCT</td>\n",
       "      <td>7.0</td>\n",
       "      <td>8.0</td>\n",
       "      <td>non_abducted</td>\n",
       "    </tr>\n",
       "    <tr>\n",
       "      <th>6</th>\n",
       "      <td>XO59R8</td>\n",
       "      <td>liquid</td>\n",
       "      <td>cord</td>\n",
       "      <td>Leukemia</td>\n",
       "      <td>pre</td>\n",
       "      <td>one week before HCT</td>\n",
       "      <td>1.0</td>\n",
       "      <td>-1.0</td>\n",
       "      <td>non_abducted</td>\n",
       "    </tr>\n",
       "    <tr>\n",
       "      <th>7</th>\n",
       "      <td>AFG7YZ</td>\n",
       "      <td>semi-formed</td>\n",
       "      <td>cord</td>\n",
       "      <td>Leukemia</td>\n",
       "      <td>post</td>\n",
       "      <td>two weeks before HCT</td>\n",
       "      <td>1.0</td>\n",
       "      <td>15.0</td>\n",
       "      <td>non_abducted</td>\n",
       "    </tr>\n",
       "  </tbody>\n",
       "</table>\n",
       "</div>"
      ],
      "text/plain": [
       "  sampleid stool_consistency hct_source                    disease  \\\n",
       "0   N4VICF            formed       cord  Myelodysplastic Syndromes   \n",
       "1   8A0F9A            formed       cord                   Leukemia   \n",
       "3   ZKJI45       semi-formed       cord                   Leukemia   \n",
       "6   XO59R8            liquid       cord                   Leukemia   \n",
       "7   AFG7YZ       semi-formed       cord                   Leukemia   \n",
       "\n",
       "  categorical_time_relative_to_engraftment  week_relative_to_hct  \\\n",
       "0                                      pre   one week before HCT   \n",
       "1                                      pre  two weeks before HCT   \n",
       "3                                     post    one week after HCT   \n",
       "6                                      pre   one week before HCT   \n",
       "7                                     post  two weeks before HCT   \n",
       "\n",
       "   timepoint_of_transplant  day_relative_to_nearest_hct alleged_abduction  \n",
       "0                      6.0                         -6.0      non_abducted  \n",
       "1                      7.0                         -7.0      non_abducted  \n",
       "3                      7.0                          8.0      non_abducted  \n",
       "6                      1.0                         -1.0      non_abducted  \n",
       "7                      1.0                         15.0      non_abducted  "
      ]
     },
     "execution_count": 17,
     "metadata": {},
     "output_type": "execute_result"
    }
   ],
   "source": [
    "meta_nonab = meta.loc[meta['alleged_abduction'] == \"non_abducted\"]\n",
    "meta_nonab.head()"
   ]
  },
  {
   "cell_type": "code",
   "execution_count": 18,
   "id": "1268bb11-b785-40d7-9040-aae5cf954d08",
   "metadata": {},
   "outputs": [
    {
     "data": {
      "text/plain": [
       "109"
      ]
     },
     "execution_count": 18,
     "metadata": {},
     "output_type": "execute_result"
    }
   ],
   "source": [
    "# Get number of non-abducted samples that need to be REMOVED \n",
    "ncut = len(meta_nonab) - len(meta.loc[meta['alleged_abduction'] == \"abducted\"])\n",
    "ncut"
   ]
  },
  {
   "cell_type": "code",
   "execution_count": 19,
   "id": "fa70bde9-d6b8-42d9-b942-cb25568c4822",
   "metadata": {},
   "outputs": [
    {
     "data": {
      "text/plain": [
       "['NV2MHM',\n",
       " '63BB0Q',\n",
       " 'TEHZN5',\n",
       " '3CGEF6',\n",
       " '0KB68F',\n",
       " '3DFM85',\n",
       " 'LIFJEK',\n",
       " '82O5JA',\n",
       " '1IMOSV',\n",
       " 'P0A2X1']"
      ]
     },
     "execution_count": 19,
     "metadata": {},
     "output_type": "execute_result"
    }
   ],
   "source": [
    "cutIDs = sample(list(meta_nonab[\"sampleid\"]), ncut)\n",
    "cutIDs[:10]"
   ]
  },
  {
   "cell_type": "code",
   "execution_count": 20,
   "id": "b235134d-18e0-4f52-8dec-f39cf0677f88",
   "metadata": {},
   "outputs": [],
   "source": [
    "meta.drop(axis = 0, index = meta.loc[meta[\"sampleid\"].isin(cutIDs)].index,  inplace=True, errors='raise')"
   ]
  },
  {
   "cell_type": "code",
   "execution_count": 21,
   "id": "0ed37b5a-ab76-4e07-974f-af29db15a8d2",
   "metadata": {},
   "outputs": [
    {
     "data": {
      "text/plain": [
       "26"
      ]
     },
     "execution_count": 21,
     "metadata": {},
     "output_type": "execute_result"
    }
   ],
   "source": [
    "len(meta.loc[meta[\"alleged_abduction\"] == \"non_abducted\"])"
   ]
  },
  {
   "cell_type": "code",
   "execution_count": 22,
   "id": "268b31c0-0165-448e-abff-8131a99c6d28",
   "metadata": {},
   "outputs": [],
   "source": [
    "# write new metadata file\n",
    "meta.to_csv(f\"{data_dir}/meta_balanced.tsv\", sep = \"\\t\", index=False)"
   ]
  },
  {
   "cell_type": "code",
   "execution_count": 23,
   "id": "83107c57-61f3-401c-a6e1-4668ad87e10e",
   "metadata": {},
   "outputs": [
    {
     "data": {
      "text/html": [
       "<div>\n",
       "<style scoped>\n",
       "    .dataframe tbody tr th:only-of-type {\n",
       "        vertical-align: middle;\n",
       "    }\n",
       "\n",
       "    .dataframe tbody tr th {\n",
       "        vertical-align: top;\n",
       "    }\n",
       "\n",
       "    .dataframe thead th {\n",
       "        text-align: right;\n",
       "    }\n",
       "</style>\n",
       "<table border=\"1\" class=\"dataframe\">\n",
       "  <thead>\n",
       "    <tr style=\"text-align: right;\">\n",
       "      <th></th>\n",
       "      <th>sampleid</th>\n",
       "      <th>stool_consistency</th>\n",
       "      <th>hct_source</th>\n",
       "      <th>disease</th>\n",
       "      <th>categorical_time_relative_to_engraftment</th>\n",
       "      <th>week_relative_to_hct</th>\n",
       "      <th>timepoint_of_transplant</th>\n",
       "      <th>day_relative_to_nearest_hct</th>\n",
       "      <th>alleged_abduction</th>\n",
       "    </tr>\n",
       "  </thead>\n",
       "  <tbody>\n",
       "    <tr>\n",
       "      <th>0</th>\n",
       "      <td>5Y49IM</td>\n",
       "      <td>semi-formed</td>\n",
       "      <td>cord</td>\n",
       "      <td>Leukemia</td>\n",
       "      <td>peri</td>\n",
       "      <td>one week before HCT</td>\n",
       "      <td>7.0</td>\n",
       "      <td>0.0</td>\n",
       "      <td>abducted</td>\n",
       "    </tr>\n",
       "    <tr>\n",
       "      <th>1</th>\n",
       "      <td>ZKJI45</td>\n",
       "      <td>semi-formed</td>\n",
       "      <td>cord</td>\n",
       "      <td>Leukemia</td>\n",
       "      <td>post</td>\n",
       "      <td>one week after HCT</td>\n",
       "      <td>7.0</td>\n",
       "      <td>8.0</td>\n",
       "      <td>non_abducted</td>\n",
       "    </tr>\n",
       "    <tr>\n",
       "      <th>2</th>\n",
       "      <td>2I7SIQ</td>\n",
       "      <td>liquid</td>\n",
       "      <td>cord</td>\n",
       "      <td>Leukemia</td>\n",
       "      <td>peri</td>\n",
       "      <td>one week before HCT</td>\n",
       "      <td>0.0</td>\n",
       "      <td>0.0</td>\n",
       "      <td>abducted</td>\n",
       "    </tr>\n",
       "    <tr>\n",
       "      <th>3</th>\n",
       "      <td>PCUMU7</td>\n",
       "      <td>semi-formed</td>\n",
       "      <td>cord</td>\n",
       "      <td>Leukemia</td>\n",
       "      <td>post</td>\n",
       "      <td>two weeks before HCT</td>\n",
       "      <td>0.0</td>\n",
       "      <td>16.0</td>\n",
       "      <td>abducted</td>\n",
       "    </tr>\n",
       "    <tr>\n",
       "      <th>4</th>\n",
       "      <td>XO59R8</td>\n",
       "      <td>liquid</td>\n",
       "      <td>cord</td>\n",
       "      <td>Leukemia</td>\n",
       "      <td>pre</td>\n",
       "      <td>one week before HCT</td>\n",
       "      <td>1.0</td>\n",
       "      <td>-1.0</td>\n",
       "      <td>non_abducted</td>\n",
       "    </tr>\n",
       "  </tbody>\n",
       "</table>\n",
       "</div>"
      ],
      "text/plain": [
       "  sampleid stool_consistency hct_source   disease  \\\n",
       "0   5Y49IM       semi-formed       cord  Leukemia   \n",
       "1   ZKJI45       semi-formed       cord  Leukemia   \n",
       "2   2I7SIQ            liquid       cord  Leukemia   \n",
       "3   PCUMU7       semi-formed       cord  Leukemia   \n",
       "4   XO59R8            liquid       cord  Leukemia   \n",
       "\n",
       "  categorical_time_relative_to_engraftment  week_relative_to_hct  \\\n",
       "0                                     peri   one week before HCT   \n",
       "1                                     post    one week after HCT   \n",
       "2                                     peri   one week before HCT   \n",
       "3                                     post  two weeks before HCT   \n",
       "4                                      pre   one week before HCT   \n",
       "\n",
       "   timepoint_of_transplant  day_relative_to_nearest_hct alleged_abduction  \n",
       "0                      7.0                          0.0          abducted  \n",
       "1                      7.0                          8.0      non_abducted  \n",
       "2                      0.0                          0.0          abducted  \n",
       "3                      0.0                         16.0          abducted  \n",
       "4                      1.0                         -1.0      non_abducted  "
      ]
     },
     "execution_count": 23,
     "metadata": {},
     "output_type": "execute_result"
    }
   ],
   "source": [
    "# Double-check the new metadata file\n",
    "meta = pd.read_csv(f\"{data_dir}/meta_balanced.tsv\", sep = \"\\t\")\n",
    "meta.head()"
   ]
  },
  {
   "cell_type": "code",
   "execution_count": 25,
   "id": "4ba581ee-cd67-42e8-b9c8-8d96325fb75d",
   "metadata": {},
   "outputs": [
    {
     "name": "stdout",
     "output_type": "stream",
     "text": [
      "\u001b[32mSaved FeatureTable[Frequency] to: ../Alien_data/table-filtered-balanced.qza\u001b[0m\n",
      "\u001b[0m"
     ]
    }
   ],
   "source": [
    "# Filter feature table to only include the remaining samples \n",
    "\n",
    "! qiime feature-table filter-samples \\\n",
    "  --i-table $data_dir/table-filtered.qza \\\n",
    "  --m-metadata-file $data_dir/meta_balanced.tsv \\\n",
    "  --o-filtered-table $data_dir/table-filtered-balanced.qza "
   ]
  },
  {
   "cell_type": "code",
   "execution_count": 26,
   "id": "4db3462b-5a03-48f5-b6a5-c4d515b02766",
   "metadata": {},
   "outputs": [
    {
     "name": "stdout",
     "output_type": "stream",
     "text": [
      "\u001b[32mSaved SampleData[ClassifierPredictions] to: ../Alien_data/balanced-ncv-three-fold/predictions.qza\u001b[0m\n",
      "\u001b[32mSaved FeatureData[Importance] to: ../Alien_data/balanced-ncv-three-fold/feature_importance.qza\u001b[0m\n",
      "\u001b[32mSaved SampleData[Probabilities] to: ../Alien_data/balanced-ncv-three-fold/probabilities.qza\u001b[0m\n",
      "\u001b[0m"
     ]
    }
   ],
   "source": [
    "# Rerun nested cross-validation\n",
    "\n",
    "# 3-fold, 100 trees\n",
    "! qiime sample-classifier classify-samples-ncv \\\n",
    "  --i-table $data_dir/table-filtered-balanced.qza \\\n",
    "  --m-metadata-file $data_dir/meta_balanced.tsv \\\n",
    "  --m-metadata-column alleged_abduction \\\n",
    "  --p-parameter-tuning \\\n",
    "  --p-cv 3 \\\n",
    "  --p-estimator RandomForestClassifier \\\n",
    "  --p-n-estimators 100 \\\n",
    "  --p-random-state 0 \\\n",
    "  --output-dir $data_dir/balanced-ncv-three-fold"
   ]
  },
  {
   "cell_type": "code",
   "execution_count": 27,
   "id": "a13520c6-d5b1-495e-a317-2505b2159a63",
   "metadata": {},
   "outputs": [
    {
     "name": "stdout",
     "output_type": "stream",
     "text": [
      "\u001b[32mSaved Visualization to: ../Alien_data/balanced-ncv-three-fold/ncv_confusion_matrix.qzv\u001b[0m\n",
      "\u001b[0m"
     ]
    }
   ],
   "source": [
    "# Classify abduction status based on microbial composition\n",
    "\n",
    "! qiime sample-classifier confusion-matrix \\\n",
    "  --i-predictions $data_dir/balanced-ncv-three-fold/predictions.qza \\\n",
    "  --i-probabilities $data_dir/balanced-ncv-three-fold/probabilities.qza \\\n",
    "  --m-truth-file $data_dir/meta_balanced.tsv \\\n",
    "  --m-truth-column alleged_abduction \\\n",
    "  --o-visualization $data_dir/balanced-ncv-three-fold/ncv_confusion_matrix.qzv"
   ]
  },
  {
   "cell_type": "code",
   "execution_count": 2,
   "id": "c1ca9b23-feeb-4347-b9a5-53827e72e204",
   "metadata": {},
   "outputs": [
    {
     "data": {
      "text/html": [
       "<div><img onload=\"(function(div, url){\n",
       "if (typeof require !== 'undefined') {\n",
       "    var baseURL = require.toUrl('').split('/').slice(0, -2).join('/');\n",
       "} else {\n",
       "    var baseURL = JSON.parse(\n",
       "        document.getElementById('jupyter-config-data').innerHTML\n",
       "    ).baseUrl.slice(0, -1);\n",
       "}\n",
       "url = baseURL + url;\n",
       "fetch(url).then(function(res) {\n",
       "    if (res.status === 404) {\n",
       "        div.innerHTML = 'Install QIIME 2 Jupyter extension with:<br />' +\n",
       "                        '<code>jupyter serverextension enable --py qiime2' +\n",
       "                        ' --sys-prefix</code><br />then restart your server.' +\n",
       "                        '<br /><br />(Interactive output not available on ' +\n",
       "                        'static notebook viewer services like nbviewer.)';\n",
       "    } else if (res.status === 409) {\n",
       "        div.innerHTML = 'Visualization no longer in scope. Re-run this cell' +\n",
       "                        ' to see the visualization.';\n",
       "    } else if (res.ok) {\n",
       "        url = res.url;\n",
       "        div.innerHTML = '<iframe src=\\'' + url + '\\' style=\\'' +\n",
       "                        'width: 100%; height: 700px; border: 0;\\'>' +\n",
       "                        '</iframe><hr />Open in a: <a href=\\'' + url + '\\'' +\n",
       "                        ' target=\\'_blank\\'>new window</a>'\n",
       "    } else {\n",
       "        div.innerHTML = 'Something has gone wrong. Check notebook server for' +\n",
       "                        ' errors.';\n",
       "    }\n",
       "});\n",
       "})(this.parentElement, '/qiime2/redirect?location=/tmp/qiime2-archive-ikzrnerv')\" src=\"data:image/gif;base64,R0lGODlhAQABAIAAAP///wAAACH5BAEAAAAALAAAAAABAAEAAAICRAEAOw==\" /></div>"
      ],
      "text/plain": [
       "<visualization: Visualization uuid: 3045d1da-99e6-460c-a5ae-37f05497f3e3>"
      ]
     },
     "execution_count": 2,
     "metadata": {},
     "output_type": "execute_result"
    }
   ],
   "source": [
    "Visualization.load(f'{data_dir}/balanced-ncv-three-fold/ncv_confusion_matrix.qzv')"
   ]
  },
  {
   "cell_type": "markdown",
   "id": "af9df200-77ea-42bf-9a4d-454e4dc2c49c",
   "metadata": {},
   "source": [
    "Now the baseline accuracy is lower because the frequency of the classes are equal, and the overall accuracy is even slightly worse than random chance. Repeating with more trees and more folds:"
   ]
  },
  {
   "cell_type": "code",
   "execution_count": 29,
   "id": "20b7f6f8-e6d5-4b33-a56a-46de6ff505b3",
   "metadata": {},
   "outputs": [
    {
     "name": "stdout",
     "output_type": "stream",
     "text": [
      "\u001b[32mSaved SampleData[ClassifierPredictions] to: ../Alien_data/balanced-ncv-five-fold/predictions.qza\u001b[0m\n",
      "\u001b[32mSaved FeatureData[Importance] to: ../Alien_data/balanced-ncv-five-fold/feature_importance.qza\u001b[0m\n",
      "\u001b[32mSaved SampleData[Probabilities] to: ../Alien_data/balanced-ncv-five-fold/probabilities.qza\u001b[0m\n",
      "\u001b[0m"
     ]
    }
   ],
   "source": [
    "# 5-fold, 300 trees\n",
    "\n",
    "! qiime sample-classifier classify-samples-ncv \\\n",
    "  --i-table $data_dir/table-filtered-balanced.qza \\\n",
    "  --m-metadata-file $data_dir/meta_balanced.tsv \\\n",
    "  --m-metadata-column alleged_abduction \\\n",
    "  --p-parameter-tuning \\\n",
    "  --p-cv 5 \\\n",
    "  --p-estimator RandomForestClassifier \\\n",
    "  --p-n-estimators 300 \\\n",
    "  --p-random-state 0 \\\n",
    "  --output-dir $data_dir/balanced-ncv-five-fold"
   ]
  },
  {
   "cell_type": "code",
   "execution_count": 4,
   "id": "d10a2980-f59c-4dce-aba1-d256d8f99d71",
   "metadata": {},
   "outputs": [
    {
     "name": "stdout",
     "output_type": "stream",
     "text": [
      "\u001b[32mSaved Visualization to: ../Alien_data/balanced-ncv-five-fold/ncv_confusion_matrix.qzv\u001b[0m\n",
      "\u001b[0m"
     ]
    }
   ],
   "source": [
    "# Classify abduction status based on microbial composition\n",
    "\n",
    "! qiime sample-classifier confusion-matrix \\\n",
    "  --i-predictions $data_dir/balanced-ncv-five-fold/predictions.qza \\\n",
    "  --i-probabilities $data_dir/balanced-ncv-five-fold/probabilities.qza \\\n",
    "  --m-truth-file $data_dir/meta_balanced.tsv \\\n",
    "  --m-truth-column alleged_abduction \\\n",
    "  --o-visualization $data_dir/balanced-ncv-five-fold/ncv_confusion_matrix.qzv"
   ]
  },
  {
   "cell_type": "code",
   "execution_count": 5,
   "id": "13a567c8-bdee-43b9-8007-4a99c602837e",
   "metadata": {},
   "outputs": [
    {
     "data": {
      "text/html": [
       "<div><img onload=\"(function(div, url){\n",
       "if (typeof require !== 'undefined') {\n",
       "    var baseURL = require.toUrl('').split('/').slice(0, -2).join('/');\n",
       "} else {\n",
       "    var baseURL = JSON.parse(\n",
       "        document.getElementById('jupyter-config-data').innerHTML\n",
       "    ).baseUrl.slice(0, -1);\n",
       "}\n",
       "url = baseURL + url;\n",
       "fetch(url).then(function(res) {\n",
       "    if (res.status === 404) {\n",
       "        div.innerHTML = 'Install QIIME 2 Jupyter extension with:<br />' +\n",
       "                        '<code>jupyter serverextension enable --py qiime2' +\n",
       "                        ' --sys-prefix</code><br />then restart your server.' +\n",
       "                        '<br /><br />(Interactive output not available on ' +\n",
       "                        'static notebook viewer services like nbviewer.)';\n",
       "    } else if (res.status === 409) {\n",
       "        div.innerHTML = 'Visualization no longer in scope. Re-run this cell' +\n",
       "                        ' to see the visualization.';\n",
       "    } else if (res.ok) {\n",
       "        url = res.url;\n",
       "        div.innerHTML = '<iframe src=\\'' + url + '\\' style=\\'' +\n",
       "                        'width: 100%; height: 700px; border: 0;\\'>' +\n",
       "                        '</iframe><hr />Open in a: <a href=\\'' + url + '\\'' +\n",
       "                        ' target=\\'_blank\\'>new window</a>'\n",
       "    } else {\n",
       "        div.innerHTML = 'Something has gone wrong. Check notebook server for' +\n",
       "                        ' errors.';\n",
       "    }\n",
       "});\n",
       "})(this.parentElement, '/qiime2/redirect?location=/tmp/qiime2-archive-p70oyyr_')\" src=\"data:image/gif;base64,R0lGODlhAQABAIAAAP///wAAACH5BAEAAAAALAAAAAABAAEAAAICRAEAOw==\" /></div>"
      ],
      "text/plain": [
       "<visualization: Visualization uuid: 8249b7b0-cd45-436b-a7ca-f5a6b3fb27c6>"
      ]
     },
     "execution_count": 5,
     "metadata": {},
     "output_type": "execute_result"
    }
   ],
   "source": [
    "Visualization.load(f'{data_dir}/balanced-ncv-five-fold/ncv_confusion_matrix.qzv')"
   ]
  },
  {
   "cell_type": "markdown",
   "id": "2ab08ebe-1a18-49de-8a4f-83f0f372ff4e",
   "metadata": {},
   "source": [
    "### Trying Linear Support Vector Classifier (SVC)\n",
    "\n",
    "With 5-fold nested cross-validation (turns out even worse)"
   ]
  },
  {
   "cell_type": "code",
   "execution_count": 5,
   "id": "bae6f4f9-4bdb-454e-9c22-68b111e74cb7",
   "metadata": {},
   "outputs": [
    {
     "name": "stdout",
     "output_type": "stream",
     "text": [
      "\u001b[32mSaved SampleData[ClassifierPredictions] to: ../Alien_data/LSVC-ncv-five-fold/predictions.qza\u001b[0m\n",
      "\u001b[32mSaved FeatureData[Importance] to: ../Alien_data/LSVC-ncv-five-fold/feature_importance.qza\u001b[0m\n",
      "\u001b[32mSaved SampleData[Probabilities] to: ../Alien_data/LSVC-ncv-five-fold/probabilities.qza\u001b[0m\n",
      "\u001b[0m"
     ]
    }
   ],
   "source": [
    "! qiime sample-classifier classify-samples-ncv \\\n",
    "  --i-table $data_dir/table-filtered.qza \\\n",
    "  --m-metadata-file $data_dir/str_metadata.tsv \\\n",
    "  --m-metadata-column alleged_abduction \\\n",
    "  --p-parameter-tuning \\\n",
    "  --p-cv 5 \\\n",
    "  --p-estimator LinearSVC \\\n",
    "  --p-random-state 0 \\\n",
    "  --output-dir $data_dir/LSVC-ncv-five-fold"
   ]
  },
  {
   "cell_type": "code",
   "execution_count": 6,
   "id": "df6804bb-0b66-48ad-bf69-16f1aaaf677f",
   "metadata": {},
   "outputs": [
    {
     "name": "stdout",
     "output_type": "stream",
     "text": [
      "\u001b[32mSaved Visualization to: ../Alien_data/LSVC-ncv-five-fold/LSVC_ncv_confusion_matrix.qzv\u001b[0m\n",
      "\u001b[0m"
     ]
    }
   ],
   "source": [
    "# Classify abduction status based on microbial composition\n",
    "\n",
    "! qiime sample-classifier confusion-matrix \\\n",
    "  --i-predictions $data_dir/LSVC-ncv-five-fold/predictions.qza \\\n",
    "  --i-probabilities $data_dir/LSVC-ncv-five-fold/probabilities.qza \\\n",
    "  --m-truth-file $data_dir/str_metadata.tsv \\\n",
    "  --m-truth-column alleged_abduction \\\n",
    "  --o-visualization $data_dir/LSVC-ncv-five-fold/LSVC_ncv_confusion_matrix.qzv"
   ]
  },
  {
   "cell_type": "code",
   "execution_count": 7,
   "id": "4b68488b-ac06-480d-9769-2fe591e07093",
   "metadata": {},
   "outputs": [
    {
     "data": {
      "text/html": [
       "<div><img onload=\"(function(div, url){\n",
       "if (typeof require !== 'undefined') {\n",
       "    var baseURL = require.toUrl('').split('/').slice(0, -2).join('/');\n",
       "} else {\n",
       "    var baseURL = JSON.parse(\n",
       "        document.getElementById('jupyter-config-data').innerHTML\n",
       "    ).baseUrl.slice(0, -1);\n",
       "}\n",
       "url = baseURL + url;\n",
       "fetch(url).then(function(res) {\n",
       "    if (res.status === 404) {\n",
       "        div.innerHTML = 'Install QIIME 2 Jupyter extension with:<br />' +\n",
       "                        '<code>jupyter serverextension enable --py qiime2' +\n",
       "                        ' --sys-prefix</code><br />then restart your server.' +\n",
       "                        '<br /><br />(Interactive output not available on ' +\n",
       "                        'static notebook viewer services like nbviewer.)';\n",
       "    } else if (res.status === 409) {\n",
       "        div.innerHTML = 'Visualization no longer in scope. Re-run this cell' +\n",
       "                        ' to see the visualization.';\n",
       "    } else if (res.ok) {\n",
       "        url = res.url;\n",
       "        div.innerHTML = '<iframe src=\\'' + url + '\\' style=\\'' +\n",
       "                        'width: 100%; height: 700px; border: 0;\\'>' +\n",
       "                        '</iframe><hr />Open in a: <a href=\\'' + url + '\\'' +\n",
       "                        ' target=\\'_blank\\'>new window</a>'\n",
       "    } else {\n",
       "        div.innerHTML = 'Something has gone wrong. Check notebook server for' +\n",
       "                        ' errors.';\n",
       "    }\n",
       "});\n",
       "})(this.parentElement, '/qiime2/redirect?location=/tmp/qiime2-archive-47x9c7e4')\" src=\"data:image/gif;base64,R0lGODlhAQABAIAAAP///wAAACH5BAEAAAAALAAAAAABAAEAAAICRAEAOw==\" /></div>"
      ],
      "text/plain": [
       "<visualization: Visualization uuid: ecab5167-ac1a-478e-9d56-59f576ef2808>"
      ]
     },
     "execution_count": 7,
     "metadata": {},
     "output_type": "execute_result"
    }
   ],
   "source": [
    "Visualization.load(f'{data_dir}/LSVC-ncv-five-fold/LSVC_ncv_confusion_matrix.qzv')"
   ]
  },
  {
   "cell_type": "code",
   "execution_count": null,
   "id": "5a016a5a-e90e-470e-8f31-31e5e8539130",
   "metadata": {},
   "outputs": [],
   "source": []
  }
 ],
 "metadata": {
  "kernelspec": {
   "display_name": "Python 3 (ipykernel)",
   "language": "python",
   "name": "python3"
  },
  "language_info": {
   "codemirror_mode": {
    "name": "ipython",
    "version": 3
   },
   "file_extension": ".py",
   "mimetype": "text/x-python",
   "name": "python",
   "nbconvert_exporter": "python",
   "pygments_lexer": "ipython3",
   "version": "3.8.13"
  }
 },
 "nbformat": 4,
 "nbformat_minor": 5
}
