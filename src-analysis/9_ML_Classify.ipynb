{
 "cells": [
  {
   "cell_type": "markdown",
   "id": "b6447bb7-d0d4-438a-9bc4-5e1f5fc1c692",
   "metadata": {},
   "source": [
    "## Machine Learning: How well does microbial composition predict abduction status?"
   ]
  },
  {
   "cell_type": "code",
   "execution_count": 1,
   "id": "f7090d6b-8d8d-4940-805e-9256ae4813b5",
   "metadata": {},
   "outputs": [],
   "source": [
    "# Setup\n",
    "import os\n",
    "import qiime2 as q2\n",
    "import pandas as pd\n",
    "\n",
    "from qiime2 import Visualization\n",
    "\n",
    "data_dir = '../data'"
   ]
  },
  {
   "cell_type": "code",
   "execution_count": 2,
   "id": "a198336f-ec47-44a2-9db6-e9f3ffb29222",
   "metadata": {
    "tags": []
   },
   "outputs": [
    {
     "name": "stdout",
     "output_type": "stream",
     "text": [
      "\u001b[32mSaved SampleEstimator[Classifier] to: ../data/ML/small-RF-classifier/sample_estimator.qza\u001b[0m\n",
      "\u001b[32mSaved FeatureData[Importance] to: ../data/ML/small-RF-classifier/feature_importance.qza\u001b[0m\n",
      "\u001b[32mSaved SampleData[ClassifierPredictions] to: ../data/ML/small-RF-classifier/predictions.qza\u001b[0m\n",
      "\u001b[32mSaved Visualization to: ../data/ML/small-RF-classifier/model_summary.qzv\u001b[0m\n",
      "\u001b[32mSaved Visualization to: ../data/ML/small-RF-classifier/accuracy_results.qzv\u001b[0m\n",
      "\u001b[32mSaved SampleData[Probabilities] to: ../data/ML/small-RF-classifier/probabilities.qza\u001b[0m\n",
      "\u001b[32mSaved Visualization to: ../data/ML/small-RF-classifier/heatmap.qzv\u001b[0m\n",
      "\u001b[32mSaved SampleData[TrueTargets] to: ../data/ML/small-RF-classifier/training_targets.qza\u001b[0m\n",
      "\u001b[32mSaved SampleData[TrueTargets] to: ../data/ML/small-RF-classifier/test_targets.qza\u001b[0m\n",
      "\u001b[0m"
     ]
    }
   ],
   "source": [
    "# Classify abduction status based on microbial composition\n",
    "\n",
    "! qiime sample-classifier classify-samples \\\n",
    "  --i-table $data_dir/taxonomy/table-filtered.qza \\\n",
    "  --m-metadata-file $data_dir/metadata/str_metadata.tsv \\\n",
    "  --m-metadata-column alleged_abduction \\\n",
    "  --p-test-size 0.2 \\\n",
    "  --p-estimator RandomForestClassifier \\\n",
    "  --p-palette 'enigma' \\\n",
    "  --p-random-state 0 \\\n",
    "  --output-dir $data_dir/ML/small-RF-classifier"
   ]
  },
  {
   "cell_type": "code",
   "execution_count": 3,
   "id": "15d2ba50-dea8-4547-88c8-c2e111104810",
   "metadata": {},
   "outputs": [
    {
     "data": {
      "text/html": [
       "<div><img onload=\"(function(div, url){\n",
       "if (typeof require !== 'undefined') {\n",
       "    var baseURL = require.toUrl('').split('/').slice(0, -2).join('/');\n",
       "} else {\n",
       "    var baseURL = JSON.parse(\n",
       "        document.getElementById('jupyter-config-data').innerHTML\n",
       "    ).baseUrl.slice(0, -1);\n",
       "}\n",
       "url = baseURL + url;\n",
       "fetch(url).then(function(res) {\n",
       "    if (res.status === 404) {\n",
       "        div.innerHTML = 'Install QIIME 2 Jupyter extension with:<br />' +\n",
       "                        '<code>jupyter serverextension enable --py qiime2' +\n",
       "                        ' --sys-prefix</code><br />then restart your server.' +\n",
       "                        '<br /><br />(Interactive output not available on ' +\n",
       "                        'static notebook viewer services like nbviewer.)';\n",
       "    } else if (res.status === 409) {\n",
       "        div.innerHTML = 'Visualization no longer in scope. Re-run this cell' +\n",
       "                        ' to see the visualization.';\n",
       "    } else if (res.ok) {\n",
       "        url = res.url;\n",
       "        div.innerHTML = '<iframe src=\\'' + url + '\\' style=\\'' +\n",
       "                        'width: 100%; height: 700px; border: 0;\\'>' +\n",
       "                        '</iframe><hr />Open in a: <a href=\\'' + url + '\\'' +\n",
       "                        ' target=\\'_blank\\'>new window</a>'\n",
       "    } else {\n",
       "        div.innerHTML = 'Something has gone wrong. Check notebook server for' +\n",
       "                        ' errors.';\n",
       "    }\n",
       "});\n",
       "})(this.parentElement, '/qiime2/redirect?location=/tmp/qiime2-archive-sdpx1zmv')\" src=\"data:image/gif;base64,R0lGODlhAQABAIAAAP///wAAACH5BAEAAAAALAAAAAABAAEAAAICRAEAOw==\" /></div>"
      ],
      "text/plain": [
       "<visualization: Visualization uuid: d6ee4bda-b184-492b-aae3-b6a1c6e8c2d8>"
      ]
     },
     "execution_count": 3,
     "metadata": {},
     "output_type": "execute_result"
    }
   ],
   "source": [
    "Visualization.load(f'{data_dir}/ML/small-RF-classifier/accuracy_results.qzv')"
   ]
  },
  {
   "cell_type": "markdown",
   "id": "127edffe-7b48-48df-80e3-625b4d995bf2",
   "metadata": {},
   "source": [
    "The overall accuracy is high (87.9%) but not much higher than the baseline accuracy(84.8%). Classifications are clearly skewed towards the \"non-abducted\" category. Almost all non-abducted samples are correctly classified, but 60% of abducted samples are misclassified as non-abducted. The high baseline accuracy is likely due to the imbalance in abducted vs non-abducted sample sizes, and the correct classification of all non-abducted samples."
   ]
  },
  {
   "cell_type": "code",
   "execution_count": 4,
   "id": "a888542b-0bd9-45f6-aa56-47d0f3468ca3",
   "metadata": {},
   "outputs": [
    {
     "name": "stdout",
     "output_type": "stream",
     "text": [
      "\u001b[32mSaved Visualization to: ../data/ML/small-RF-classifier/test_predprob.qzv\u001b[0m\n",
      "\u001b[0m"
     ]
    }
   ],
   "source": [
    "# Visualize individual samples' predictions and probabilities\n",
    "\n",
    "! qiime metadata tabulate \\\n",
    "  --m-input-file $data_dir/ML/small-RF-classifier/test_targets.qza \\\n",
    "  --m-input-file $data_dir/ML/small-RF-classifier/predictions.qza \\\n",
    "  --m-input-file $data_dir/ML/small-RF-classifier/probabilities.qza \\\n",
    "  --o-visualization $data_dir/ML/small-RF-classifier/test_predprob.qzv"
   ]
  },
  {
   "cell_type": "code",
   "execution_count": 5,
   "id": "a8966318-fbab-4499-a122-9086580a705e",
   "metadata": {
    "tags": []
   },
   "outputs": [
    {
     "data": {
      "text/html": [
       "<div><img onload=\"(function(div, url){\n",
       "if (typeof require !== 'undefined') {\n",
       "    var baseURL = require.toUrl('').split('/').slice(0, -2).join('/');\n",
       "} else {\n",
       "    var baseURL = JSON.parse(\n",
       "        document.getElementById('jupyter-config-data').innerHTML\n",
       "    ).baseUrl.slice(0, -1);\n",
       "}\n",
       "url = baseURL + url;\n",
       "fetch(url).then(function(res) {\n",
       "    if (res.status === 404) {\n",
       "        div.innerHTML = 'Install QIIME 2 Jupyter extension with:<br />' +\n",
       "                        '<code>jupyter serverextension enable --py qiime2' +\n",
       "                        ' --sys-prefix</code><br />then restart your server.' +\n",
       "                        '<br /><br />(Interactive output not available on ' +\n",
       "                        'static notebook viewer services like nbviewer.)';\n",
       "    } else if (res.status === 409) {\n",
       "        div.innerHTML = 'Visualization no longer in scope. Re-run this cell' +\n",
       "                        ' to see the visualization.';\n",
       "    } else if (res.ok) {\n",
       "        url = res.url;\n",
       "        div.innerHTML = '<iframe src=\\'' + url + '\\' style=\\'' +\n",
       "                        'width: 100%; height: 700px; border: 0;\\'>' +\n",
       "                        '</iframe><hr />Open in a: <a href=\\'' + url + '\\'' +\n",
       "                        ' target=\\'_blank\\'>new window</a>'\n",
       "    } else {\n",
       "        div.innerHTML = 'Something has gone wrong. Check notebook server for' +\n",
       "                        ' errors.';\n",
       "    }\n",
       "});\n",
       "})(this.parentElement, '/qiime2/redirect?location=/tmp/qiime2-archive-3ek1kar4')\" src=\"data:image/gif;base64,R0lGODlhAQABAIAAAP///wAAACH5BAEAAAAALAAAAAABAAEAAAICRAEAOw==\" /></div>"
      ],
      "text/plain": [
       "<visualization: Visualization uuid: f45b22fa-e458-4cf7-9027-bfb4302dad9e>"
      ]
     },
     "execution_count": 5,
     "metadata": {},
     "output_type": "execute_result"
    }
   ],
   "source": [
    "Visualization.load(f'{data_dir}/ML/small-RF-classifier/test_predprob.qzv')"
   ]
  },
  {
   "cell_type": "code",
   "execution_count": 6,
   "id": "c40dcafb-6272-484b-b758-ce6f300f581c",
   "metadata": {},
   "outputs": [
    {
     "name": "stdout",
     "output_type": "stream",
     "text": [
      "\u001b[32mSaved Visualization to: ../data/ML/small-RF-classifier/feature_importance.qzv\u001b[0m\n",
      "\u001b[0m"
     ]
    }
   ],
   "source": [
    "# Feature importance: which microbial compositions were most important for \n",
    "#                     distinguishing abducted vs non-abducted samples?\n",
    "\n",
    "! qiime metadata tabulate \\\n",
    "    --m-input-file $data_dir/ML/small-RF-classifier/feature_importance.qza \\\n",
    "    --o-visualization $data_dir/ML/small-RF-classifier/feature_importance.qzv"
   ]
  },
  {
   "cell_type": "code",
   "execution_count": 7,
   "id": "af13475b-1bfd-42a0-aaa4-d7f0e3109c39",
   "metadata": {
    "tags": []
   },
   "outputs": [
    {
     "data": {
      "text/html": [
       "<div><img onload=\"(function(div, url){\n",
       "if (typeof require !== 'undefined') {\n",
       "    var baseURL = require.toUrl('').split('/').slice(0, -2).join('/');\n",
       "} else {\n",
       "    var baseURL = JSON.parse(\n",
       "        document.getElementById('jupyter-config-data').innerHTML\n",
       "    ).baseUrl.slice(0, -1);\n",
       "}\n",
       "url = baseURL + url;\n",
       "fetch(url).then(function(res) {\n",
       "    if (res.status === 404) {\n",
       "        div.innerHTML = 'Install QIIME 2 Jupyter extension with:<br />' +\n",
       "                        '<code>jupyter serverextension enable --py qiime2' +\n",
       "                        ' --sys-prefix</code><br />then restart your server.' +\n",
       "                        '<br /><br />(Interactive output not available on ' +\n",
       "                        'static notebook viewer services like nbviewer.)';\n",
       "    } else if (res.status === 409) {\n",
       "        div.innerHTML = 'Visualization no longer in scope. Re-run this cell' +\n",
       "                        ' to see the visualization.';\n",
       "    } else if (res.ok) {\n",
       "        url = res.url;\n",
       "        div.innerHTML = '<iframe src=\\'' + url + '\\' style=\\'' +\n",
       "                        'width: 100%; height: 700px; border: 0;\\'>' +\n",
       "                        '</iframe><hr />Open in a: <a href=\\'' + url + '\\'' +\n",
       "                        ' target=\\'_blank\\'>new window</a>'\n",
       "    } else {\n",
       "        div.innerHTML = 'Something has gone wrong. Check notebook server for' +\n",
       "                        ' errors.';\n",
       "    }\n",
       "});\n",
       "})(this.parentElement, '/qiime2/redirect?location=/tmp/qiime2-archive-0jz1elxs')\" src=\"data:image/gif;base64,R0lGODlhAQABAIAAAP///wAAACH5BAEAAAAALAAAAAABAAEAAAICRAEAOw==\" /></div>"
      ],
      "text/plain": [
       "<visualization: Visualization uuid: 4d855b3a-bff0-40d2-89b4-d06e32a66240>"
      ]
     },
     "execution_count": 7,
     "metadata": {},
     "output_type": "execute_result"
    }
   ],
   "source": [
    "Visualization.load(f'{data_dir}/ML/small-RF-classifier/feature_importance.qzv')"
   ]
  },
  {
   "cell_type": "code",
   "execution_count": 8,
   "id": "5bffa669-5649-4f54-aa6d-0de054240c3a",
   "metadata": {},
   "outputs": [
    {
     "name": "stdout",
     "output_type": "stream",
     "text": [
      "\u001b[32mSaved Visualization to: ../data/ML/small-RF-classifier/important-feature-heatmap.qzv\u001b[0m\n",
      "\u001b[32mSaved FeatureTable[Frequency] to: ../data/ML/small-RF-classifier/important-feature-table-top-20.qza\u001b[0m\n",
      "\u001b[0m"
     ]
    }
   ],
   "source": [
    "! qiime sample-classifier heatmap \\\n",
    "  --i-table $data_dir/taxonomy/table-filtered.qza \\\n",
    "  --i-importance $data_dir/ML/small-RF-classifier/feature_importance.qza \\\n",
    "  --m-sample-metadata-file $data_dir/metadata/str_metadata.tsv  \\\n",
    "  --m-sample-metadata-column alleged_abduction \\\n",
    "  --p-group-samples \\\n",
    "  --p-feature-count 20 \\\n",
    "  --o-filtered-table $data_dir/ML/small-RF-classifier/important-feature-table-top-20.qza \\\n",
    "  --o-heatmap $data_dir/ML/small-RF-classifier/important-feature-heatmap.qzv"
   ]
  },
  {
   "cell_type": "code",
   "execution_count": 9,
   "id": "96e69575-d8c8-42e7-bede-99b3f2fd93e8",
   "metadata": {
    "tags": []
   },
   "outputs": [
    {
     "data": {
      "text/html": [
       "<div><img onload=\"(function(div, url){\n",
       "if (typeof require !== 'undefined') {\n",
       "    var baseURL = require.toUrl('').split('/').slice(0, -2).join('/');\n",
       "} else {\n",
       "    var baseURL = JSON.parse(\n",
       "        document.getElementById('jupyter-config-data').innerHTML\n",
       "    ).baseUrl.slice(0, -1);\n",
       "}\n",
       "url = baseURL + url;\n",
       "fetch(url).then(function(res) {\n",
       "    if (res.status === 404) {\n",
       "        div.innerHTML = 'Install QIIME 2 Jupyter extension with:<br />' +\n",
       "                        '<code>jupyter serverextension enable --py qiime2' +\n",
       "                        ' --sys-prefix</code><br />then restart your server.' +\n",
       "                        '<br /><br />(Interactive output not available on ' +\n",
       "                        'static notebook viewer services like nbviewer.)';\n",
       "    } else if (res.status === 409) {\n",
       "        div.innerHTML = 'Visualization no longer in scope. Re-run this cell' +\n",
       "                        ' to see the visualization.';\n",
       "    } else if (res.ok) {\n",
       "        url = res.url;\n",
       "        div.innerHTML = '<iframe src=\\'' + url + '\\' style=\\'' +\n",
       "                        'width: 100%; height: 700px; border: 0;\\'>' +\n",
       "                        '</iframe><hr />Open in a: <a href=\\'' + url + '\\'' +\n",
       "                        ' target=\\'_blank\\'>new window</a>'\n",
       "    } else {\n",
       "        div.innerHTML = 'Something has gone wrong. Check notebook server for' +\n",
       "                        ' errors.';\n",
       "    }\n",
       "});\n",
       "})(this.parentElement, '/qiime2/redirect?location=/tmp/qiime2-archive-vfg05sms')\" src=\"data:image/gif;base64,R0lGODlhAQABAIAAAP///wAAACH5BAEAAAAALAAAAAABAAEAAAICRAEAOw==\" /></div>"
      ],
      "text/plain": [
       "<visualization: Visualization uuid: 58cb86a6-95c8-4cab-a068-c81f181ebf15>"
      ]
     },
     "execution_count": 9,
     "metadata": {},
     "output_type": "execute_result"
    }
   ],
   "source": [
    "Visualization.load(f'{data_dir}/ML/small-RF-classifier/important-feature-heatmap.qzv')"
   ]
  },
  {
   "cell_type": "markdown",
   "id": "522225cf-1396-4008-ab8f-3d67bf6e93e0",
   "metadata": {},
   "source": [
    "#\n",
    "\n",
    "### RF with Optimized Feature Selection\n",
    "\n",
    "(Had no effect on accuracy)"
   ]
  },
  {
   "cell_type": "code",
   "execution_count": 10,
   "id": "99ee649d-3a6c-4738-8f0b-4ed03827c616",
   "metadata": {},
   "outputs": [
    {
     "name": "stdout",
     "output_type": "stream",
     "text": [
      "\u001b[32mSaved SampleEstimator[Classifier] to: ../data/ML/RF-opt-feature-selection/sample_estimator.qza\u001b[0m\n",
      "\u001b[32mSaved FeatureData[Importance] to: ../data/ML/RF-opt-feature-selection/feature_importance.qza\u001b[0m\n",
      "\u001b[32mSaved SampleData[ClassifierPredictions] to: ../data/ML/RF-opt-feature-selection/predictions.qza\u001b[0m\n",
      "\u001b[32mSaved Visualization to: ../data/ML/RF-opt-feature-selection/model_summary.qzv\u001b[0m\n",
      "\u001b[32mSaved Visualization to: ../data/ML/RF-opt-feature-selection/accuracy_results.qzv\u001b[0m\n",
      "\u001b[32mSaved SampleData[Probabilities] to: ../data/ML/RF-opt-feature-selection/probabilities.qza\u001b[0m\n",
      "\u001b[32mSaved Visualization to: ../data/ML/RF-opt-feature-selection/heatmap.qzv\u001b[0m\n",
      "\u001b[32mSaved SampleData[TrueTargets] to: ../data/ML/RF-opt-feature-selection/training_targets.qza\u001b[0m\n",
      "\u001b[32mSaved SampleData[TrueTargets] to: ../data/ML/RF-opt-feature-selection/test_targets.qza\u001b[0m\n",
      "\u001b[0m"
     ]
    }
   ],
   "source": [
    "# Classify abduction status based on microbial composition\n",
    "\n",
    "! qiime sample-classifier classify-samples \\\n",
    "  --i-table $data_dir/taxonomy/table-filtered.qza \\\n",
    "  --m-metadata-file $data_dir/metadata/str_metadata.tsv \\\n",
    "  --m-metadata-column alleged_abduction \\\n",
    "  --p-test-size 0.2 \\\n",
    "  --p-estimator RandomForestClassifier \\\n",
    "  --p-optimize-feature-selection \\\n",
    "  --p-palette 'enigma' \\\n",
    "  --p-random-state 0 \\\n",
    "  --output-dir $data_dir/ML/RF-opt-feature-selection"
   ]
  },
  {
   "cell_type": "code",
   "execution_count": 11,
   "id": "6ccb8d84-c075-4875-a30a-2bc24431cf9e",
   "metadata": {},
   "outputs": [
    {
     "data": {
      "text/html": [
       "<div><img onload=\"(function(div, url){\n",
       "if (typeof require !== 'undefined') {\n",
       "    var baseURL = require.toUrl('').split('/').slice(0, -2).join('/');\n",
       "} else {\n",
       "    var baseURL = JSON.parse(\n",
       "        document.getElementById('jupyter-config-data').innerHTML\n",
       "    ).baseUrl.slice(0, -1);\n",
       "}\n",
       "url = baseURL + url;\n",
       "fetch(url).then(function(res) {\n",
       "    if (res.status === 404) {\n",
       "        div.innerHTML = 'Install QIIME 2 Jupyter extension with:<br />' +\n",
       "                        '<code>jupyter serverextension enable --py qiime2' +\n",
       "                        ' --sys-prefix</code><br />then restart your server.' +\n",
       "                        '<br /><br />(Interactive output not available on ' +\n",
       "                        'static notebook viewer services like nbviewer.)';\n",
       "    } else if (res.status === 409) {\n",
       "        div.innerHTML = 'Visualization no longer in scope. Re-run this cell' +\n",
       "                        ' to see the visualization.';\n",
       "    } else if (res.ok) {\n",
       "        url = res.url;\n",
       "        div.innerHTML = '<iframe src=\\'' + url + '\\' style=\\'' +\n",
       "                        'width: 100%; height: 700px; border: 0;\\'>' +\n",
       "                        '</iframe><hr />Open in a: <a href=\\'' + url + '\\'' +\n",
       "                        ' target=\\'_blank\\'>new window</a>'\n",
       "    } else {\n",
       "        div.innerHTML = 'Something has gone wrong. Check notebook server for' +\n",
       "                        ' errors.';\n",
       "    }\n",
       "});\n",
       "})(this.parentElement, '/qiime2/redirect?location=/tmp/qiime2-archive-h8tv04bu')\" src=\"data:image/gif;base64,R0lGODlhAQABAIAAAP///wAAACH5BAEAAAAALAAAAAABAAEAAAICRAEAOw==\" /></div>"
      ],
      "text/plain": [
       "<visualization: Visualization uuid: 3afeaf36-863b-410d-8d6d-c206383c4452>"
      ]
     },
     "execution_count": 11,
     "metadata": {},
     "output_type": "execute_result"
    }
   ],
   "source": [
    "Visualization.load(f'{data_dir}/ML/RF-opt-feature-selection/accuracy_results.qzv')"
   ]
  },
  {
   "cell_type": "markdown",
   "id": "e9d4654d-3b07-4d96-8228-9ee7107bb58d",
   "metadata": {},
   "source": [
    "#\n",
    "\n",
    "### RF with Parameter Tuning\n",
    "\n",
    "Does parameter tuning improve the model's accuracy? No effect."
   ]
  },
  {
   "cell_type": "code",
   "execution_count": 14,
   "id": "5941c87d-a4ac-47d3-8110-c10bcac33c0d",
   "metadata": {},
   "outputs": [
    {
     "name": "stdout",
     "output_type": "stream",
     "text": [
      "\u001b[32mSaved SampleEstimator[Classifier] to: ../data/ML/RF-param-tuning/sample_estimator.qza\u001b[0m\n",
      "\u001b[32mSaved FeatureData[Importance] to: ../data/ML/RF-param-tuning/feature_importance.qza\u001b[0m\n",
      "\u001b[32mSaved SampleData[ClassifierPredictions] to: ../data/ML/RF-param-tuning/predictions.qza\u001b[0m\n",
      "\u001b[32mSaved Visualization to: ../data/ML/RF-param-tuning/model_summary.qzv\u001b[0m\n",
      "\u001b[32mSaved Visualization to: ../data/ML/RF-param-tuning/accuracy_results.qzv\u001b[0m\n",
      "\u001b[32mSaved SampleData[Probabilities] to: ../data/ML/RF-param-tuning/probabilities.qza\u001b[0m\n",
      "\u001b[32mSaved Visualization to: ../data/ML/RF-param-tuning/heatmap.qzv\u001b[0m\n",
      "\u001b[32mSaved SampleData[TrueTargets] to: ../data/ML/RF-param-tuning/training_targets.qza\u001b[0m\n",
      "\u001b[32mSaved SampleData[TrueTargets] to: ../data/ML/RF-param-tuning/test_targets.qza\u001b[0m\n",
      "\u001b[0m"
     ]
    }
   ],
   "source": [
    "! qiime sample-classifier classify-samples \\\n",
    "  --i-table $data_dir/taxonomy/table-filtered.qza \\\n",
    "  --m-metadata-file $data_dir/metadata/str_metadata.tsv \\\n",
    "  --m-metadata-column alleged_abduction \\\n",
    "  --p-test-size 0.2 \\\n",
    "  --p-optimize-feature-selection \\\n",
    "  --p-parameter-tuning \\\n",
    "  --p-estimator RandomForestClassifier \\\n",
    "  --p-palette 'enigma' \\\n",
    "  --p-random-state 0 \\\n",
    "  --output-dir $data_dir/ML/RF-param-tuning"
   ]
  },
  {
   "cell_type": "code",
   "execution_count": 15,
   "id": "99090f4a-2bc3-4dea-be24-90fdf33225f8",
   "metadata": {},
   "outputs": [
    {
     "data": {
      "text/html": [
       "<div><img onload=\"(function(div, url){\n",
       "if (typeof require !== 'undefined') {\n",
       "    var baseURL = require.toUrl('').split('/').slice(0, -2).join('/');\n",
       "} else {\n",
       "    var baseURL = JSON.parse(\n",
       "        document.getElementById('jupyter-config-data').innerHTML\n",
       "    ).baseUrl.slice(0, -1);\n",
       "}\n",
       "url = baseURL + url;\n",
       "fetch(url).then(function(res) {\n",
       "    if (res.status === 404) {\n",
       "        div.innerHTML = 'Install QIIME 2 Jupyter extension with:<br />' +\n",
       "                        '<code>jupyter serverextension enable --py qiime2' +\n",
       "                        ' --sys-prefix</code><br />then restart your server.' +\n",
       "                        '<br /><br />(Interactive output not available on ' +\n",
       "                        'static notebook viewer services like nbviewer.)';\n",
       "    } else if (res.status === 409) {\n",
       "        div.innerHTML = 'Visualization no longer in scope. Re-run this cell' +\n",
       "                        ' to see the visualization.';\n",
       "    } else if (res.ok) {\n",
       "        url = res.url;\n",
       "        div.innerHTML = '<iframe src=\\'' + url + '\\' style=\\'' +\n",
       "                        'width: 100%; height: 700px; border: 0;\\'>' +\n",
       "                        '</iframe><hr />Open in a: <a href=\\'' + url + '\\'' +\n",
       "                        ' target=\\'_blank\\'>new window</a>'\n",
       "    } else {\n",
       "        div.innerHTML = 'Something has gone wrong. Check notebook server for' +\n",
       "                        ' errors.';\n",
       "    }\n",
       "});\n",
       "})(this.parentElement, '/qiime2/redirect?location=/tmp/qiime2-archive-2fhdhsmi')\" src=\"data:image/gif;base64,R0lGODlhAQABAIAAAP///wAAACH5BAEAAAAALAAAAAABAAEAAAICRAEAOw==\" /></div>"
      ],
      "text/plain": [
       "<visualization: Visualization uuid: 74359f25-ab0b-46ed-8a29-b6e697d43fb9>"
      ]
     },
     "execution_count": 15,
     "metadata": {},
     "output_type": "execute_result"
    }
   ],
   "source": [
    "Visualization.load(f'{data_dir}/ML/RF-param-tuning/accuracy_results.qzv')"
   ]
  },
  {
   "cell_type": "markdown",
   "id": "b1d2496d-6428-427e-80fd-f2b96af63e7f",
   "metadata": {},
   "source": [
    "#\n",
    "\n",
    "### RF with More Trees\n",
    "Does increasing the number of trees improve the model's accuracy?\n",
    "(Default is 100 trees, here trying 300 and 500) Neither improved overall accuracy."
   ]
  },
  {
   "cell_type": "code",
   "execution_count": 16,
   "id": "e7f266cb-3678-47d8-9852-0251c976b0d7",
   "metadata": {},
   "outputs": [
    {
     "name": "stdout",
     "output_type": "stream",
     "text": [
      "\u001b[32mSaved SampleEstimator[Classifier] to: ../data/ML/RF-threehundred-trees/sample_estimator.qza\u001b[0m\n",
      "\u001b[32mSaved FeatureData[Importance] to: ../data/ML/RF-threehundred-trees/feature_importance.qza\u001b[0m\n",
      "\u001b[32mSaved SampleData[ClassifierPredictions] to: ../data/ML/RF-threehundred-trees/predictions.qza\u001b[0m\n",
      "\u001b[32mSaved Visualization to: ../data/ML/RF-threehundred-trees/model_summary.qzv\u001b[0m\n",
      "\u001b[32mSaved Visualization to: ../data/ML/RF-threehundred-trees/accuracy_results.qzv\u001b[0m\n",
      "\u001b[32mSaved SampleData[Probabilities] to: ../data/ML/RF-threehundred-trees/probabilities.qza\u001b[0m\n",
      "\u001b[32mSaved Visualization to: ../data/ML/RF-threehundred-trees/heatmap.qzv\u001b[0m\n",
      "\u001b[32mSaved SampleData[TrueTargets] to: ../data/ML/RF-threehundred-trees/training_targets.qza\u001b[0m\n",
      "\u001b[32mSaved SampleData[TrueTargets] to: ../data/ML/RF-threehundred-trees/test_targets.qza\u001b[0m\n",
      "\u001b[0m"
     ]
    }
   ],
   "source": [
    "! qiime sample-classifier classify-samples \\\n",
    "  --i-table $data_dir/taxonomy/table-filtered.qza \\\n",
    "  --m-metadata-file $data_dir/metadata/str_metadata.tsv \\\n",
    "  --m-metadata-column alleged_abduction \\\n",
    "  --p-test-size 0.2 \\\n",
    "  --p-estimator RandomForestClassifier \\\n",
    "  --p-optimize-feature-selection \\\n",
    "  --p-parameter-tuning \\\n",
    "  --p-n-estimators 300 \\\n",
    "  --p-palette 'enigma' \\\n",
    "  --p-random-state 0 \\\n",
    "  --output-dir $data_dir/ML/RF-threehundred-trees"
   ]
  },
  {
   "cell_type": "code",
   "execution_count": 17,
   "id": "01c61b51-8eda-43b4-b275-d927dff70dfb",
   "metadata": {},
   "outputs": [
    {
     "data": {
      "text/html": [
       "<div><img onload=\"(function(div, url){\n",
       "if (typeof require !== 'undefined') {\n",
       "    var baseURL = require.toUrl('').split('/').slice(0, -2).join('/');\n",
       "} else {\n",
       "    var baseURL = JSON.parse(\n",
       "        document.getElementById('jupyter-config-data').innerHTML\n",
       "    ).baseUrl.slice(0, -1);\n",
       "}\n",
       "url = baseURL + url;\n",
       "fetch(url).then(function(res) {\n",
       "    if (res.status === 404) {\n",
       "        div.innerHTML = 'Install QIIME 2 Jupyter extension with:<br />' +\n",
       "                        '<code>jupyter serverextension enable --py qiime2' +\n",
       "                        ' --sys-prefix</code><br />then restart your server.' +\n",
       "                        '<br /><br />(Interactive output not available on ' +\n",
       "                        'static notebook viewer services like nbviewer.)';\n",
       "    } else if (res.status === 409) {\n",
       "        div.innerHTML = 'Visualization no longer in scope. Re-run this cell' +\n",
       "                        ' to see the visualization.';\n",
       "    } else if (res.ok) {\n",
       "        url = res.url;\n",
       "        div.innerHTML = '<iframe src=\\'' + url + '\\' style=\\'' +\n",
       "                        'width: 100%; height: 700px; border: 0;\\'>' +\n",
       "                        '</iframe><hr />Open in a: <a href=\\'' + url + '\\'' +\n",
       "                        ' target=\\'_blank\\'>new window</a>'\n",
       "    } else {\n",
       "        div.innerHTML = 'Something has gone wrong. Check notebook server for' +\n",
       "                        ' errors.';\n",
       "    }\n",
       "});\n",
       "})(this.parentElement, '/qiime2/redirect?location=/tmp/qiime2-archive-3mxq7jmi')\" src=\"data:image/gif;base64,R0lGODlhAQABAIAAAP///wAAACH5BAEAAAAALAAAAAABAAEAAAICRAEAOw==\" /></div>"
      ],
      "text/plain": [
       "<visualization: Visualization uuid: c2084b73-6fd2-47ec-9323-fc73ae783730>"
      ]
     },
     "execution_count": 17,
     "metadata": {},
     "output_type": "execute_result"
    }
   ],
   "source": [
    "Visualization.load(f'{data_dir}/ML/RF-threehundred-trees/accuracy_results.qzv')"
   ]
  },
  {
   "cell_type": "code",
   "execution_count": 18,
   "id": "49d9e129-ec06-42f0-8f7a-67c003677fb0",
   "metadata": {},
   "outputs": [
    {
     "name": "stdout",
     "output_type": "stream",
     "text": [
      "\u001b[32mSaved SampleEstimator[Classifier] to: ../data/ML/RF-fivehundred-trees/sample_estimator.qza\u001b[0m\n",
      "\u001b[32mSaved FeatureData[Importance] to: ../data/ML/RF-fivehundred-trees/feature_importance.qza\u001b[0m\n",
      "\u001b[32mSaved SampleData[ClassifierPredictions] to: ../data/ML/RF-fivehundred-trees/predictions.qza\u001b[0m\n",
      "\u001b[32mSaved Visualization to: ../data/ML/RF-fivehundred-trees/model_summary.qzv\u001b[0m\n",
      "\u001b[32mSaved Visualization to: ../data/ML/RF-fivehundred-trees/accuracy_results.qzv\u001b[0m\n",
      "\u001b[32mSaved SampleData[Probabilities] to: ../data/ML/RF-fivehundred-trees/probabilities.qza\u001b[0m\n",
      "\u001b[32mSaved Visualization to: ../data/ML/RF-fivehundred-trees/heatmap.qzv\u001b[0m\n",
      "\u001b[32mSaved SampleData[TrueTargets] to: ../data/ML/RF-fivehundred-trees/training_targets.qza\u001b[0m\n",
      "\u001b[32mSaved SampleData[TrueTargets] to: ../data/ML/RF-fivehundred-trees/test_targets.qza\u001b[0m\n",
      "\u001b[0m"
     ]
    }
   ],
   "source": [
    "! qiime sample-classifier classify-samples \\\n",
    "  --i-table $data_dir/taxonomy/table-filtered.qza \\\n",
    "  --m-metadata-file $data_dir/metadata/str_metadata.tsv \\\n",
    "  --m-metadata-column alleged_abduction \\\n",
    "  --p-test-size 0.2 \\\n",
    "  --p-estimator RandomForestClassifier \\\n",
    "  --p-optimize-feature-selection \\\n",
    "  --p-parameter-tuning \\\n",
    "  --p-n-estimators 500 \\\n",
    "  --p-palette 'enigma' \\\n",
    "  --p-random-state 0 \\\n",
    "  --output-dir $data_dir/ML/RF-fivehundred-trees"
   ]
  },
  {
   "cell_type": "code",
   "execution_count": 19,
   "id": "4cc33498-af73-4e8e-be9e-18f61105e67f",
   "metadata": {},
   "outputs": [
    {
     "data": {
      "text/html": [
       "<div><img onload=\"(function(div, url){\n",
       "if (typeof require !== 'undefined') {\n",
       "    var baseURL = require.toUrl('').split('/').slice(0, -2).join('/');\n",
       "} else {\n",
       "    var baseURL = JSON.parse(\n",
       "        document.getElementById('jupyter-config-data').innerHTML\n",
       "    ).baseUrl.slice(0, -1);\n",
       "}\n",
       "url = baseURL + url;\n",
       "fetch(url).then(function(res) {\n",
       "    if (res.status === 404) {\n",
       "        div.innerHTML = 'Install QIIME 2 Jupyter extension with:<br />' +\n",
       "                        '<code>jupyter serverextension enable --py qiime2' +\n",
       "                        ' --sys-prefix</code><br />then restart your server.' +\n",
       "                        '<br /><br />(Interactive output not available on ' +\n",
       "                        'static notebook viewer services like nbviewer.)';\n",
       "    } else if (res.status === 409) {\n",
       "        div.innerHTML = 'Visualization no longer in scope. Re-run this cell' +\n",
       "                        ' to see the visualization.';\n",
       "    } else if (res.ok) {\n",
       "        url = res.url;\n",
       "        div.innerHTML = '<iframe src=\\'' + url + '\\' style=\\'' +\n",
       "                        'width: 100%; height: 700px; border: 0;\\'>' +\n",
       "                        '</iframe><hr />Open in a: <a href=\\'' + url + '\\'' +\n",
       "                        ' target=\\'_blank\\'>new window</a>'\n",
       "    } else {\n",
       "        div.innerHTML = 'Something has gone wrong. Check notebook server for' +\n",
       "                        ' errors.';\n",
       "    }\n",
       "});\n",
       "})(this.parentElement, '/qiime2/redirect?location=/tmp/qiime2-archive-dhtehop6')\" src=\"data:image/gif;base64,R0lGODlhAQABAIAAAP///wAAACH5BAEAAAAALAAAAAABAAEAAAICRAEAOw==\" /></div>"
      ],
      "text/plain": [
       "<visualization: Visualization uuid: 214420c3-fb4d-46bd-a437-f1f8a463e7c0>"
      ]
     },
     "execution_count": 19,
     "metadata": {},
     "output_type": "execute_result"
    }
   ],
   "source": [
    "Visualization.load(f'{data_dir}/ML/RF-fivehundred-trees/accuracy_results.qzv')"
   ]
  },
  {
   "cell_type": "markdown",
   "id": "a948e296-ff5c-419f-a9e9-c1c4bb9eec3b",
   "metadata": {},
   "source": [
    "#\n",
    "\n",
    "### RF with fewer and more folds (cross-validation)\n",
    "Default is 5, try 3 and 10. All with 500 trees. Again no effect."
   ]
  },
  {
   "cell_type": "code",
   "execution_count": 20,
   "id": "8cad2998-5144-493f-9fc5-d67e728300c1",
   "metadata": {
    "tags": []
   },
   "outputs": [
    {
     "name": "stdout",
     "output_type": "stream",
     "text": [
      "\u001b[32mSaved SampleEstimator[Classifier] to: ../data/ML/RF-three-fold/sample_estimator.qza\u001b[0m\n",
      "\u001b[32mSaved FeatureData[Importance] to: ../data/ML/RF-three-fold/feature_importance.qza\u001b[0m\n",
      "\u001b[32mSaved SampleData[ClassifierPredictions] to: ../data/ML/RF-three-fold/predictions.qza\u001b[0m\n",
      "\u001b[32mSaved Visualization to: ../data/ML/RF-three-fold/model_summary.qzv\u001b[0m\n",
      "\u001b[32mSaved Visualization to: ../data/ML/RF-three-fold/accuracy_results.qzv\u001b[0m\n",
      "\u001b[32mSaved SampleData[Probabilities] to: ../data/ML/RF-three-fold/probabilities.qza\u001b[0m\n",
      "\u001b[32mSaved Visualization to: ../data/ML/RF-three-fold/heatmap.qzv\u001b[0m\n",
      "\u001b[32mSaved SampleData[TrueTargets] to: ../data/ML/RF-three-fold/training_targets.qza\u001b[0m\n",
      "\u001b[32mSaved SampleData[TrueTargets] to: ../data/ML/RF-three-fold/test_targets.qza\u001b[0m\n",
      "\u001b[0m"
     ]
    }
   ],
   "source": [
    "! qiime sample-classifier classify-samples \\\n",
    "  --i-table $data_dir/taxonomy/table-filtered.qza \\\n",
    "  --m-metadata-file $data_dir/metadata/str_metadata.tsv \\\n",
    "  --m-metadata-column alleged_abduction \\\n",
    "  --p-test-size 0.2 \\\n",
    "  --p-estimator RandomForestClassifier \\\n",
    "  --p-optimize-feature-selection \\\n",
    "  --p-parameter-tuning \\\n",
    "  --p-n-estimators 500 \\\n",
    "  --p-cv 3 \\\n",
    "  --p-palette 'enigma' \\\n",
    "  --p-random-state 0 \\\n",
    "  --output-dir $data_dir/ML/RF-three-fold"
   ]
  },
  {
   "cell_type": "code",
   "execution_count": 21,
   "id": "afc84254-e511-4267-8d68-f850c43a1931",
   "metadata": {
    "tags": []
   },
   "outputs": [
    {
     "data": {
      "text/html": [
       "<div><img onload=\"(function(div, url){\n",
       "if (typeof require !== 'undefined') {\n",
       "    var baseURL = require.toUrl('').split('/').slice(0, -2).join('/');\n",
       "} else {\n",
       "    var baseURL = JSON.parse(\n",
       "        document.getElementById('jupyter-config-data').innerHTML\n",
       "    ).baseUrl.slice(0, -1);\n",
       "}\n",
       "url = baseURL + url;\n",
       "fetch(url).then(function(res) {\n",
       "    if (res.status === 404) {\n",
       "        div.innerHTML = 'Install QIIME 2 Jupyter extension with:<br />' +\n",
       "                        '<code>jupyter serverextension enable --py qiime2' +\n",
       "                        ' --sys-prefix</code><br />then restart your server.' +\n",
       "                        '<br /><br />(Interactive output not available on ' +\n",
       "                        'static notebook viewer services like nbviewer.)';\n",
       "    } else if (res.status === 409) {\n",
       "        div.innerHTML = 'Visualization no longer in scope. Re-run this cell' +\n",
       "                        ' to see the visualization.';\n",
       "    } else if (res.ok) {\n",
       "        url = res.url;\n",
       "        div.innerHTML = '<iframe src=\\'' + url + '\\' style=\\'' +\n",
       "                        'width: 100%; height: 700px; border: 0;\\'>' +\n",
       "                        '</iframe><hr />Open in a: <a href=\\'' + url + '\\'' +\n",
       "                        ' target=\\'_blank\\'>new window</a>'\n",
       "    } else {\n",
       "        div.innerHTML = 'Something has gone wrong. Check notebook server for' +\n",
       "                        ' errors.';\n",
       "    }\n",
       "});\n",
       "})(this.parentElement, '/qiime2/redirect?location=/tmp/qiime2-archive-gfshqi3w')\" src=\"data:image/gif;base64,R0lGODlhAQABAIAAAP///wAAACH5BAEAAAAALAAAAAABAAEAAAICRAEAOw==\" /></div>"
      ],
      "text/plain": [
       "<visualization: Visualization uuid: 24414bb2-6021-4c32-810d-081892dd416a>"
      ]
     },
     "execution_count": 21,
     "metadata": {},
     "output_type": "execute_result"
    }
   ],
   "source": [
    "Visualization.load(f'{data_dir}/ML/RF-three-fold/accuracy_results.qzv')"
   ]
  },
  {
   "cell_type": "code",
   "execution_count": 22,
   "id": "9abb390d-0c36-4ff5-8f49-0745c4ce578e",
   "metadata": {
    "tags": []
   },
   "outputs": [
    {
     "name": "stdout",
     "output_type": "stream",
     "text": [
      "\u001b[32mSaved SampleEstimator[Classifier] to: ../data/ML/RF-ten-fold/sample_estimator.qza\u001b[0m\n",
      "\u001b[32mSaved FeatureData[Importance] to: ../data/ML/RF-ten-fold/feature_importance.qza\u001b[0m\n",
      "\u001b[32mSaved SampleData[ClassifierPredictions] to: ../data/ML/RF-ten-fold/predictions.qza\u001b[0m\n",
      "\u001b[32mSaved Visualization to: ../data/ML/RF-ten-fold/model_summary.qzv\u001b[0m\n",
      "\u001b[32mSaved Visualization to: ../data/ML/RF-ten-fold/accuracy_results.qzv\u001b[0m\n",
      "\u001b[32mSaved SampleData[Probabilities] to: ../data/ML/RF-ten-fold/probabilities.qza\u001b[0m\n",
      "\u001b[32mSaved Visualization to: ../data/ML/RF-ten-fold/heatmap.qzv\u001b[0m\n",
      "\u001b[32mSaved SampleData[TrueTargets] to: ../data/ML/RF-ten-fold/training_targets.qza\u001b[0m\n",
      "\u001b[32mSaved SampleData[TrueTargets] to: ../data/ML/RF-ten-fold/test_targets.qza\u001b[0m\n",
      "\u001b[0m"
     ]
    }
   ],
   "source": [
    "# Removed feature selection parameter because it causes error that \n",
    "# \"linkage must be computed on at least two observations\". Possible that \n",
    "# in some partitions of the data, only one feature remains important \n",
    "# when using optimized feature selection (all feature importances seem low)\n",
    "\n",
    "! qiime sample-classifier classify-samples \\\n",
    "  --i-table $data_dir/taxonomy/table-filtered.qza \\\n",
    "  --m-metadata-file $data_dir/metadata/str_metadata.tsv \\\n",
    "  --m-metadata-column alleged_abduction \\\n",
    "  --p-test-size 0.2 \\\n",
    "  --p-estimator RandomForestClassifier \\\n",
    "  --p-parameter-tuning \\\n",
    "  --p-n-estimators 500 \\\n",
    "  --p-cv 10 \\\n",
    "  --p-palette 'enigma' \\\n",
    "  --p-random-state 0 \\\n",
    "  --output-dir $data_dir/ML/RF-ten-fold"
   ]
  },
  {
   "cell_type": "code",
   "execution_count": 23,
   "id": "abb87e3a-f774-4a8f-b759-6a92ab4da2e2",
   "metadata": {
    "tags": []
   },
   "outputs": [
    {
     "data": {
      "text/html": [
       "<div><img onload=\"(function(div, url){\n",
       "if (typeof require !== 'undefined') {\n",
       "    var baseURL = require.toUrl('').split('/').slice(0, -2).join('/');\n",
       "} else {\n",
       "    var baseURL = JSON.parse(\n",
       "        document.getElementById('jupyter-config-data').innerHTML\n",
       "    ).baseUrl.slice(0, -1);\n",
       "}\n",
       "url = baseURL + url;\n",
       "fetch(url).then(function(res) {\n",
       "    if (res.status === 404) {\n",
       "        div.innerHTML = 'Install QIIME 2 Jupyter extension with:<br />' +\n",
       "                        '<code>jupyter serverextension enable --py qiime2' +\n",
       "                        ' --sys-prefix</code><br />then restart your server.' +\n",
       "                        '<br /><br />(Interactive output not available on ' +\n",
       "                        'static notebook viewer services like nbviewer.)';\n",
       "    } else if (res.status === 409) {\n",
       "        div.innerHTML = 'Visualization no longer in scope. Re-run this cell' +\n",
       "                        ' to see the visualization.';\n",
       "    } else if (res.ok) {\n",
       "        url = res.url;\n",
       "        div.innerHTML = '<iframe src=\\'' + url + '\\' style=\\'' +\n",
       "                        'width: 100%; height: 700px; border: 0;\\'>' +\n",
       "                        '</iframe><hr />Open in a: <a href=\\'' + url + '\\'' +\n",
       "                        ' target=\\'_blank\\'>new window</a>'\n",
       "    } else {\n",
       "        div.innerHTML = 'Something has gone wrong. Check notebook server for' +\n",
       "                        ' errors.';\n",
       "    }\n",
       "});\n",
       "})(this.parentElement, '/qiime2/redirect?location=/tmp/qiime2-archive-hpdgsvcg')\" src=\"data:image/gif;base64,R0lGODlhAQABAIAAAP///wAAACH5BAEAAAAALAAAAAABAAEAAAICRAEAOw==\" /></div>"
      ],
      "text/plain": [
       "<visualization: Visualization uuid: 951c4176-60f4-4312-b377-809ae02a4a49>"
      ]
     },
     "execution_count": 23,
     "metadata": {},
     "output_type": "execute_result"
    }
   ],
   "source": [
    "Visualization.load(f'{data_dir}/ML/RF-ten-fold/accuracy_results.qzv')"
   ]
  },
  {
   "cell_type": "markdown",
   "id": "813e0da2-0996-4a2f-8951-8d1fb53e7ee3",
   "metadata": {},
   "source": [
    "##### Overall, no parameters improved the overall accuracy \n",
    "\n",
    "The overall accuracy is almost equal to the baseline accuracy, meaning the model performs basically only as well as a model that simply classifies samples as the most frequent class. This suggests that microbial composition does not provide enough information to predict abduction status."
   ]
  },
  {
   "cell_type": "markdown",
   "id": "44411f6e-f544-4331-8f67-dae5b7936f3d",
   "metadata": {},
   "source": [
    "#\n",
    "\n",
    "### Nested cross-validation"
   ]
  },
  {
   "cell_type": "code",
   "execution_count": 24,
   "id": "277f0e7c-fb72-455e-8eeb-dd892fb6d507",
   "metadata": {},
   "outputs": [
    {
     "name": "stdout",
     "output_type": "stream",
     "text": [
      "\u001b[32mSaved SampleData[ClassifierPredictions] to: ../data/ML/RF-ncv-classifier-three-fold/predictions.qza\u001b[0m\n",
      "\u001b[32mSaved FeatureData[Importance] to: ../data/ML/RF-ncv-classifier-three-fold/feature_importance.qza\u001b[0m\n",
      "\u001b[32mSaved SampleData[Probabilities] to: ../data/ML/RF-ncv-classifier-three-fold/probabilities.qza\u001b[0m\n",
      "\u001b[0m"
     ]
    }
   ],
   "source": [
    "# 3-fold, 500 trees\n",
    "! qiime sample-classifier classify-samples-ncv \\\n",
    "  --i-table $data_dir/taxonomy/table-filtered.qza \\\n",
    "  --m-metadata-file $data_dir/metadata/str_metadata.tsv \\\n",
    "  --m-metadata-column alleged_abduction \\\n",
    "  --p-parameter-tuning \\\n",
    "  --p-cv 3 \\\n",
    "  --p-estimator RandomForestClassifier \\\n",
    "  --p-n-estimators 500 \\\n",
    "  --p-random-state 0 \\\n",
    "  --output-dir $data_dir/ML/RF-ncv-classifier-three-fold"
   ]
  },
  {
   "cell_type": "code",
   "execution_count": 25,
   "id": "55be01f9-ad2c-45da-9548-6c9c06ba0852",
   "metadata": {},
   "outputs": [
    {
     "name": "stdout",
     "output_type": "stream",
     "text": [
      "\u001b[32mSaved Visualization to: ../data/ML/RF-ncv-classifier-three-fold/ncv_confusion_matrix.qzv\u001b[0m\n",
      "\u001b[0m"
     ]
    }
   ],
   "source": [
    "# Classify abduction status based on microbial composition\n",
    "\n",
    "! qiime sample-classifier confusion-matrix \\\n",
    "  --i-predictions $data_dir/ML/RF-ncv-classifier-three-fold/predictions.qza \\\n",
    "  --i-probabilities $data_dir/ML/RF-ncv-classifier-three-fold/probabilities.qza \\\n",
    "  --m-truth-file $data_dir/metadata/str_metadata.tsv \\\n",
    "  --m-truth-column alleged_abduction \\\n",
    "  --o-visualization $data_dir/ML/RF-ncv-classifier-three-fold/ncv_confusion_matrix.qzv"
   ]
  },
  {
   "cell_type": "code",
   "execution_count": 26,
   "id": "f5c25349-c5c5-4c17-84b1-283990452a0d",
   "metadata": {},
   "outputs": [
    {
     "data": {
      "text/html": [
       "<div><img onload=\"(function(div, url){\n",
       "if (typeof require !== 'undefined') {\n",
       "    var baseURL = require.toUrl('').split('/').slice(0, -2).join('/');\n",
       "} else {\n",
       "    var baseURL = JSON.parse(\n",
       "        document.getElementById('jupyter-config-data').innerHTML\n",
       "    ).baseUrl.slice(0, -1);\n",
       "}\n",
       "url = baseURL + url;\n",
       "fetch(url).then(function(res) {\n",
       "    if (res.status === 404) {\n",
       "        div.innerHTML = 'Install QIIME 2 Jupyter extension with:<br />' +\n",
       "                        '<code>jupyter serverextension enable --py qiime2' +\n",
       "                        ' --sys-prefix</code><br />then restart your server.' +\n",
       "                        '<br /><br />(Interactive output not available on ' +\n",
       "                        'static notebook viewer services like nbviewer.)';\n",
       "    } else if (res.status === 409) {\n",
       "        div.innerHTML = 'Visualization no longer in scope. Re-run this cell' +\n",
       "                        ' to see the visualization.';\n",
       "    } else if (res.ok) {\n",
       "        url = res.url;\n",
       "        div.innerHTML = '<iframe src=\\'' + url + '\\' style=\\'' +\n",
       "                        'width: 100%; height: 700px; border: 0;\\'>' +\n",
       "                        '</iframe><hr />Open in a: <a href=\\'' + url + '\\'' +\n",
       "                        ' target=\\'_blank\\'>new window</a>'\n",
       "    } else {\n",
       "        div.innerHTML = 'Something has gone wrong. Check notebook server for' +\n",
       "                        ' errors.';\n",
       "    }\n",
       "});\n",
       "})(this.parentElement, '/qiime2/redirect?location=/tmp/qiime2-archive-34p8f_tu')\" src=\"data:image/gif;base64,R0lGODlhAQABAIAAAP///wAAACH5BAEAAAAALAAAAAABAAEAAAICRAEAOw==\" /></div>"
      ],
      "text/plain": [
       "<visualization: Visualization uuid: ab70d107-07d7-4bb1-9e50-76a574d1e6a9>"
      ]
     },
     "execution_count": 26,
     "metadata": {},
     "output_type": "execute_result"
    }
   ],
   "source": [
    "Visualization.load(f'{data_dir}/ML/RF-ncv-classifier-three-fold/ncv_confusion_matrix.qzv')"
   ]
  },
  {
   "cell_type": "code",
   "execution_count": 27,
   "id": "847cd974-fded-40e1-9ce4-ceedaeb31929",
   "metadata": {},
   "outputs": [
    {
     "name": "stdout",
     "output_type": "stream",
     "text": [
      "\u001b[32mSaved SampleData[ClassifierPredictions] to: ../data/ML/RF-ncv-classifier-five-fold/predictions.qza\u001b[0m\n",
      "\u001b[32mSaved FeatureData[Importance] to: ../data/ML/RF-ncv-classifier-five-fold/feature_importance.qza\u001b[0m\n",
      "\u001b[32mSaved SampleData[Probabilities] to: ../data/ML/RF-ncv-classifier-five-fold/probabilities.qza\u001b[0m\n",
      "\u001b[0m"
     ]
    }
   ],
   "source": [
    "# 5-fold, 500 trees\n",
    "! qiime sample-classifier classify-samples-ncv \\\n",
    "  --i-table $data_dir/taxonomy/table-filtered.qza \\\n",
    "  --m-metadata-file $data_dir/metadata/str_metadata.tsv \\\n",
    "  --m-metadata-column alleged_abduction \\\n",
    "  --p-parameter-tuning \\\n",
    "  --p-cv 5 \\\n",
    "  --p-estimator RandomForestClassifier \\\n",
    "  --p-n-estimators 500 \\\n",
    "  --p-random-state 0 \\\n",
    "  --output-dir $data_dir/ML/RF-ncv-classifier-five-fold"
   ]
  },
  {
   "cell_type": "code",
   "execution_count": 28,
   "id": "27f24dd0-caea-43c7-8407-b23163e03b94",
   "metadata": {},
   "outputs": [
    {
     "name": "stdout",
     "output_type": "stream",
     "text": [
      "\u001b[32mSaved Visualization to: ../data/ML/RF-ncv-classifier-five-fold/ncv_confusion_matrix.qzv\u001b[0m\n",
      "\u001b[0m"
     ]
    }
   ],
   "source": [
    "# Classify abduction status based on microbial composition\n",
    "! qiime sample-classifier confusion-matrix \\\n",
    "  --i-predictions $data_dir/ML/RF-ncv-classifier-five-fold/predictions.qza \\\n",
    "  --i-probabilities $data_dir/ML/RF-ncv-classifier-five-fold/probabilities.qza \\\n",
    "  --m-truth-file $data_dir/metadata/str_metadata.tsv \\\n",
    "  --m-truth-column alleged_abduction \\\n",
    "  --o-visualization $data_dir/ML/RF-ncv-classifier-five-fold/ncv_confusion_matrix.qzv"
   ]
  },
  {
   "cell_type": "code",
   "execution_count": 29,
   "id": "7fdf5f76-2136-46f6-83ec-d1dac2dfe581",
   "metadata": {},
   "outputs": [
    {
     "data": {
      "text/html": [
       "<div><img onload=\"(function(div, url){\n",
       "if (typeof require !== 'undefined') {\n",
       "    var baseURL = require.toUrl('').split('/').slice(0, -2).join('/');\n",
       "} else {\n",
       "    var baseURL = JSON.parse(\n",
       "        document.getElementById('jupyter-config-data').innerHTML\n",
       "    ).baseUrl.slice(0, -1);\n",
       "}\n",
       "url = baseURL + url;\n",
       "fetch(url).then(function(res) {\n",
       "    if (res.status === 404) {\n",
       "        div.innerHTML = 'Install QIIME 2 Jupyter extension with:<br />' +\n",
       "                        '<code>jupyter serverextension enable --py qiime2' +\n",
       "                        ' --sys-prefix</code><br />then restart your server.' +\n",
       "                        '<br /><br />(Interactive output not available on ' +\n",
       "                        'static notebook viewer services like nbviewer.)';\n",
       "    } else if (res.status === 409) {\n",
       "        div.innerHTML = 'Visualization no longer in scope. Re-run this cell' +\n",
       "                        ' to see the visualization.';\n",
       "    } else if (res.ok) {\n",
       "        url = res.url;\n",
       "        div.innerHTML = '<iframe src=\\'' + url + '\\' style=\\'' +\n",
       "                        'width: 100%; height: 700px; border: 0;\\'>' +\n",
       "                        '</iframe><hr />Open in a: <a href=\\'' + url + '\\'' +\n",
       "                        ' target=\\'_blank\\'>new window</a>'\n",
       "    } else {\n",
       "        div.innerHTML = 'Something has gone wrong. Check notebook server for' +\n",
       "                        ' errors.';\n",
       "    }\n",
       "});\n",
       "})(this.parentElement, '/qiime2/redirect?location=/tmp/qiime2-archive-bq8f51mo')\" src=\"data:image/gif;base64,R0lGODlhAQABAIAAAP///wAAACH5BAEAAAAALAAAAAABAAEAAAICRAEAOw==\" /></div>"
      ],
      "text/plain": [
       "<visualization: Visualization uuid: 6c34ba4f-e766-41fc-b666-7b6afb323413>"
      ]
     },
     "execution_count": 29,
     "metadata": {},
     "output_type": "execute_result"
    }
   ],
   "source": [
    "Visualization.load(f'{data_dir}/ML/RF-ncv-classifier-five-fold/ncv_confusion_matrix.qzv')"
   ]
  },
  {
   "cell_type": "code",
   "execution_count": 30,
   "id": "5004c4e6-2727-40ea-b830-37be03a37632",
   "metadata": {},
   "outputs": [
    {
     "name": "stdout",
     "output_type": "stream",
     "text": [
      "\u001b[32mSaved SampleData[ClassifierPredictions] to: ../data/ML/RF-ncv-classifier-ten-fold/predictions.qza\u001b[0m\n",
      "\u001b[32mSaved FeatureData[Importance] to: ../data/ML/RF-ncv-classifier-ten-fold/feature_importance.qza\u001b[0m\n",
      "\u001b[32mSaved SampleData[Probabilities] to: ../data/ML/RF-ncv-classifier-ten-fold/probabilities.qza\u001b[0m\n",
      "\u001b[0m"
     ]
    }
   ],
   "source": [
    "# 10-fold, 500 trees\n",
    "! qiime sample-classifier classify-samples-ncv \\\n",
    "  --i-table $data_dir/taxonomy/table-filtered.qza \\\n",
    "  --m-metadata-file $data_dir/metadata/str_metadata.tsv \\\n",
    "  --m-metadata-column alleged_abduction \\\n",
    "  --p-parameter-tuning \\\n",
    "  --p-cv 10 \\\n",
    "  --p-estimator RandomForestClassifier \\\n",
    "  --p-n-estimators 500 \\\n",
    "  --p-random-state 0 \\\n",
    "  --output-dir $data_dir/ML/RF-ncv-classifier-ten-fold"
   ]
  },
  {
   "cell_type": "code",
   "execution_count": 31,
   "id": "d3782bc9-580d-4351-a2cb-d70a75d2ac61",
   "metadata": {},
   "outputs": [
    {
     "name": "stdout",
     "output_type": "stream",
     "text": [
      "\u001b[32mSaved Visualization to: ../data/ML/RF-ncv-classifier-ten-fold/ncv_confusion_matrix.qzv\u001b[0m\n",
      "\u001b[0m"
     ]
    }
   ],
   "source": [
    "# Classify abduction status based on microbial composition\n",
    "\n",
    "! qiime sample-classifier confusion-matrix \\\n",
    "  --i-predictions $data_dir/ML/RF-ncv-classifier-ten-fold/predictions.qza \\\n",
    "  --i-probabilities $data_dir/ML/RF-ncv-classifier-ten-fold/probabilities.qza \\\n",
    "  --m-truth-file $data_dir/metadata/str_metadata.tsv \\\n",
    "  --m-truth-column alleged_abduction \\\n",
    "  --o-visualization $data_dir/ML/RF-ncv-classifier-ten-fold/ncv_confusion_matrix.qzv"
   ]
  },
  {
   "cell_type": "code",
   "execution_count": 32,
   "id": "0f7da5ee-f19b-4b78-93ed-b02d5d14c0d3",
   "metadata": {},
   "outputs": [
    {
     "data": {
      "text/html": [
       "<div><img onload=\"(function(div, url){\n",
       "if (typeof require !== 'undefined') {\n",
       "    var baseURL = require.toUrl('').split('/').slice(0, -2).join('/');\n",
       "} else {\n",
       "    var baseURL = JSON.parse(\n",
       "        document.getElementById('jupyter-config-data').innerHTML\n",
       "    ).baseUrl.slice(0, -1);\n",
       "}\n",
       "url = baseURL + url;\n",
       "fetch(url).then(function(res) {\n",
       "    if (res.status === 404) {\n",
       "        div.innerHTML = 'Install QIIME 2 Jupyter extension with:<br />' +\n",
       "                        '<code>jupyter serverextension enable --py qiime2' +\n",
       "                        ' --sys-prefix</code><br />then restart your server.' +\n",
       "                        '<br /><br />(Interactive output not available on ' +\n",
       "                        'static notebook viewer services like nbviewer.)';\n",
       "    } else if (res.status === 409) {\n",
       "        div.innerHTML = 'Visualization no longer in scope. Re-run this cell' +\n",
       "                        ' to see the visualization.';\n",
       "    } else if (res.ok) {\n",
       "        url = res.url;\n",
       "        div.innerHTML = '<iframe src=\\'' + url + '\\' style=\\'' +\n",
       "                        'width: 100%; height: 700px; border: 0;\\'>' +\n",
       "                        '</iframe><hr />Open in a: <a href=\\'' + url + '\\'' +\n",
       "                        ' target=\\'_blank\\'>new window</a>'\n",
       "    } else {\n",
       "        div.innerHTML = 'Something has gone wrong. Check notebook server for' +\n",
       "                        ' errors.';\n",
       "    }\n",
       "});\n",
       "})(this.parentElement, '/qiime2/redirect?location=/tmp/qiime2-archive-dcr3_6i4')\" src=\"data:image/gif;base64,R0lGODlhAQABAIAAAP///wAAACH5BAEAAAAALAAAAAABAAEAAAICRAEAOw==\" /></div>"
      ],
      "text/plain": [
       "<visualization: Visualization uuid: 078a4f3e-ba3a-4d25-a8dd-5b8d0326c658>"
      ]
     },
     "execution_count": 32,
     "metadata": {},
     "output_type": "execute_result"
    }
   ],
   "source": [
    "Visualization.load(f'{data_dir}/ML/RF-ncv-classifier-ten-fold/ncv_confusion_matrix.qzv')"
   ]
  },
  {
   "cell_type": "markdown",
   "id": "6e4db71c-8452-47f9-8863-5c72b2fdf6c3",
   "metadata": {},
   "source": [
    "#\n",
    "\n",
    "### Repeat with Balanced Sample Sizes"
   ]
  },
  {
   "cell_type": "markdown",
   "id": "0cd889b7-8c31-4a79-a80d-f5cf12b490ec",
   "metadata": {},
   "source": [
    "Limitation of the method below: cannot set seed for reproducible random sampling of the non-abducted samples."
   ]
  },
  {
   "cell_type": "code",
   "execution_count": 35,
   "id": "8a0d8853-8e4f-4cdf-a455-5d871aa5681a",
   "metadata": {},
   "outputs": [
    {
     "data": {
      "text/html": [
       "<div>\n",
       "<style scoped>\n",
       "    .dataframe tbody tr th:only-of-type {\n",
       "        vertical-align: middle;\n",
       "    }\n",
       "\n",
       "    .dataframe tbody tr th {\n",
       "        vertical-align: top;\n",
       "    }\n",
       "\n",
       "    .dataframe thead th {\n",
       "        text-align: right;\n",
       "    }\n",
       "</style>\n",
       "<table border=\"1\" class=\"dataframe\">\n",
       "  <thead>\n",
       "    <tr style=\"text-align: right;\">\n",
       "      <th></th>\n",
       "      <th>sampleid</th>\n",
       "      <th>stool_consistency</th>\n",
       "      <th>hct_source</th>\n",
       "      <th>disease</th>\n",
       "      <th>categorical_time_relative_to_engraftment</th>\n",
       "      <th>week_relative_to_hct</th>\n",
       "      <th>timepoint_of_transplant</th>\n",
       "      <th>day_relative_to_nearest_hct</th>\n",
       "      <th>alleged_abduction</th>\n",
       "    </tr>\n",
       "  </thead>\n",
       "  <tbody>\n",
       "    <tr>\n",
       "      <th>0</th>\n",
       "      <td>N4VICF</td>\n",
       "      <td>formed</td>\n",
       "      <td>cord</td>\n",
       "      <td>Myelodysplastic Syndromes</td>\n",
       "      <td>pre</td>\n",
       "      <td>one week before HCT</td>\n",
       "      <td>6.0</td>\n",
       "      <td>-6.0</td>\n",
       "      <td>non_abducted</td>\n",
       "    </tr>\n",
       "    <tr>\n",
       "      <th>1</th>\n",
       "      <td>8A0F9A</td>\n",
       "      <td>formed</td>\n",
       "      <td>cord</td>\n",
       "      <td>Leukemia</td>\n",
       "      <td>pre</td>\n",
       "      <td>two weeks before HCT</td>\n",
       "      <td>7.0</td>\n",
       "      <td>-7.0</td>\n",
       "      <td>non_abducted</td>\n",
       "    </tr>\n",
       "    <tr>\n",
       "      <th>2</th>\n",
       "      <td>5Y49IM</td>\n",
       "      <td>semi-formed</td>\n",
       "      <td>cord</td>\n",
       "      <td>Leukemia</td>\n",
       "      <td>peri</td>\n",
       "      <td>one week before HCT</td>\n",
       "      <td>7.0</td>\n",
       "      <td>0.0</td>\n",
       "      <td>abducted</td>\n",
       "    </tr>\n",
       "    <tr>\n",
       "      <th>3</th>\n",
       "      <td>ZKJI45</td>\n",
       "      <td>semi-formed</td>\n",
       "      <td>cord</td>\n",
       "      <td>Leukemia</td>\n",
       "      <td>post</td>\n",
       "      <td>one week after HCT</td>\n",
       "      <td>7.0</td>\n",
       "      <td>8.0</td>\n",
       "      <td>non_abducted</td>\n",
       "    </tr>\n",
       "    <tr>\n",
       "      <th>4</th>\n",
       "      <td>2I7SIQ</td>\n",
       "      <td>liquid</td>\n",
       "      <td>cord</td>\n",
       "      <td>Leukemia</td>\n",
       "      <td>peri</td>\n",
       "      <td>one week before HCT</td>\n",
       "      <td>0.0</td>\n",
       "      <td>0.0</td>\n",
       "      <td>abducted</td>\n",
       "    </tr>\n",
       "  </tbody>\n",
       "</table>\n",
       "</div>"
      ],
      "text/plain": [
       "  sampleid stool_consistency hct_source                    disease  \\\n",
       "0   N4VICF            formed       cord  Myelodysplastic Syndromes   \n",
       "1   8A0F9A            formed       cord                   Leukemia   \n",
       "2   5Y49IM       semi-formed       cord                   Leukemia   \n",
       "3   ZKJI45       semi-formed       cord                   Leukemia   \n",
       "4   2I7SIQ            liquid       cord                   Leukemia   \n",
       "\n",
       "  categorical_time_relative_to_engraftment  week_relative_to_hct  \\\n",
       "0                                      pre   one week before HCT   \n",
       "1                                      pre  two weeks before HCT   \n",
       "2                                     peri   one week before HCT   \n",
       "3                                     post    one week after HCT   \n",
       "4                                     peri   one week before HCT   \n",
       "\n",
       "   timepoint_of_transplant  day_relative_to_nearest_hct alleged_abduction  \n",
       "0                      6.0                         -6.0      non_abducted  \n",
       "1                      7.0                         -7.0      non_abducted  \n",
       "2                      7.0                          0.0          abducted  \n",
       "3                      7.0                          8.0      non_abducted  \n",
       "4                      0.0                          0.0          abducted  "
      ]
     },
     "execution_count": 35,
     "metadata": {},
     "output_type": "execute_result"
    }
   ],
   "source": [
    "# Randomly sample non-abducted samples in metadata\n",
    "from random import sample\n",
    "\n",
    "meta = pd.read_csv(f\"{data_dir}/metadata/str_metadata.tsv\", sep = \"\\t\")\n",
    "meta.head()"
   ]
  },
  {
   "cell_type": "code",
   "execution_count": 36,
   "id": "3f5c83d0-9cce-47d9-8701-65a31e1feaa5",
   "metadata": {},
   "outputs": [
    {
     "data": {
      "text/html": [
       "<div>\n",
       "<style scoped>\n",
       "    .dataframe tbody tr th:only-of-type {\n",
       "        vertical-align: middle;\n",
       "    }\n",
       "\n",
       "    .dataframe tbody tr th {\n",
       "        vertical-align: top;\n",
       "    }\n",
       "\n",
       "    .dataframe thead th {\n",
       "        text-align: right;\n",
       "    }\n",
       "</style>\n",
       "<table border=\"1\" class=\"dataframe\">\n",
       "  <thead>\n",
       "    <tr style=\"text-align: right;\">\n",
       "      <th></th>\n",
       "      <th>sampleid</th>\n",
       "      <th>stool_consistency</th>\n",
       "      <th>hct_source</th>\n",
       "      <th>disease</th>\n",
       "      <th>categorical_time_relative_to_engraftment</th>\n",
       "      <th>week_relative_to_hct</th>\n",
       "      <th>timepoint_of_transplant</th>\n",
       "      <th>day_relative_to_nearest_hct</th>\n",
       "      <th>alleged_abduction</th>\n",
       "    </tr>\n",
       "  </thead>\n",
       "  <tbody>\n",
       "    <tr>\n",
       "      <th>0</th>\n",
       "      <td>N4VICF</td>\n",
       "      <td>formed</td>\n",
       "      <td>cord</td>\n",
       "      <td>Myelodysplastic Syndromes</td>\n",
       "      <td>pre</td>\n",
       "      <td>one week before HCT</td>\n",
       "      <td>6.0</td>\n",
       "      <td>-6.0</td>\n",
       "      <td>non_abducted</td>\n",
       "    </tr>\n",
       "    <tr>\n",
       "      <th>1</th>\n",
       "      <td>8A0F9A</td>\n",
       "      <td>formed</td>\n",
       "      <td>cord</td>\n",
       "      <td>Leukemia</td>\n",
       "      <td>pre</td>\n",
       "      <td>two weeks before HCT</td>\n",
       "      <td>7.0</td>\n",
       "      <td>-7.0</td>\n",
       "      <td>non_abducted</td>\n",
       "    </tr>\n",
       "    <tr>\n",
       "      <th>3</th>\n",
       "      <td>ZKJI45</td>\n",
       "      <td>semi-formed</td>\n",
       "      <td>cord</td>\n",
       "      <td>Leukemia</td>\n",
       "      <td>post</td>\n",
       "      <td>one week after HCT</td>\n",
       "      <td>7.0</td>\n",
       "      <td>8.0</td>\n",
       "      <td>non_abducted</td>\n",
       "    </tr>\n",
       "    <tr>\n",
       "      <th>6</th>\n",
       "      <td>XO59R8</td>\n",
       "      <td>liquid</td>\n",
       "      <td>cord</td>\n",
       "      <td>Leukemia</td>\n",
       "      <td>pre</td>\n",
       "      <td>one week before HCT</td>\n",
       "      <td>1.0</td>\n",
       "      <td>-1.0</td>\n",
       "      <td>non_abducted</td>\n",
       "    </tr>\n",
       "    <tr>\n",
       "      <th>7</th>\n",
       "      <td>AFG7YZ</td>\n",
       "      <td>semi-formed</td>\n",
       "      <td>cord</td>\n",
       "      <td>Leukemia</td>\n",
       "      <td>post</td>\n",
       "      <td>two weeks after HCT</td>\n",
       "      <td>1.0</td>\n",
       "      <td>15.0</td>\n",
       "      <td>non_abducted</td>\n",
       "    </tr>\n",
       "  </tbody>\n",
       "</table>\n",
       "</div>"
      ],
      "text/plain": [
       "  sampleid stool_consistency hct_source                    disease  \\\n",
       "0   N4VICF            formed       cord  Myelodysplastic Syndromes   \n",
       "1   8A0F9A            formed       cord                   Leukemia   \n",
       "3   ZKJI45       semi-formed       cord                   Leukemia   \n",
       "6   XO59R8            liquid       cord                   Leukemia   \n",
       "7   AFG7YZ       semi-formed       cord                   Leukemia   \n",
       "\n",
       "  categorical_time_relative_to_engraftment  week_relative_to_hct  \\\n",
       "0                                      pre   one week before HCT   \n",
       "1                                      pre  two weeks before HCT   \n",
       "3                                     post    one week after HCT   \n",
       "6                                      pre   one week before HCT   \n",
       "7                                     post   two weeks after HCT   \n",
       "\n",
       "   timepoint_of_transplant  day_relative_to_nearest_hct alleged_abduction  \n",
       "0                      6.0                         -6.0      non_abducted  \n",
       "1                      7.0                         -7.0      non_abducted  \n",
       "3                      7.0                          8.0      non_abducted  \n",
       "6                      1.0                         -1.0      non_abducted  \n",
       "7                      1.0                         15.0      non_abducted  "
      ]
     },
     "execution_count": 36,
     "metadata": {},
     "output_type": "execute_result"
    }
   ],
   "source": [
    "meta_nonab = meta.loc[meta['alleged_abduction'] == \"non_abducted\"]\n",
    "meta_nonab.head()"
   ]
  },
  {
   "cell_type": "code",
   "execution_count": 37,
   "id": "1268bb11-b785-40d7-9040-aae5cf954d08",
   "metadata": {},
   "outputs": [
    {
     "data": {
      "text/plain": [
       "109"
      ]
     },
     "execution_count": 37,
     "metadata": {},
     "output_type": "execute_result"
    }
   ],
   "source": [
    "# Get number of non-abducted samples that need to be REMOVED \n",
    "ncut = len(meta_nonab) - len(meta.loc[meta['alleged_abduction'] == \"abducted\"])\n",
    "ncut"
   ]
  },
  {
   "cell_type": "code",
   "execution_count": 38,
   "id": "fa70bde9-d6b8-42d9-b942-cb25568c4822",
   "metadata": {},
   "outputs": [
    {
     "data": {
      "text/plain": [
       "['L60NPJ',\n",
       " '62ARKK',\n",
       " '5CPP5N',\n",
       " 'G3VBHP',\n",
       " 'RYYSOI',\n",
       " 'PGIR4X',\n",
       " 'XDEIYI',\n",
       " 'ZQT8ZN',\n",
       " '0KB68F',\n",
       " 'NTRPTL']"
      ]
     },
     "execution_count": 38,
     "metadata": {},
     "output_type": "execute_result"
    }
   ],
   "source": [
    "cutIDs = sample(list(meta_nonab[\"sampleid\"]), ncut)\n",
    "cutIDs[:10]"
   ]
  },
  {
   "cell_type": "code",
   "execution_count": 39,
   "id": "b235134d-18e0-4f52-8dec-f39cf0677f88",
   "metadata": {},
   "outputs": [],
   "source": [
    "meta.drop(axis = 0, index = meta.loc[meta[\"sampleid\"].isin(cutIDs)].index,  inplace=True, errors='raise')"
   ]
  },
  {
   "cell_type": "code",
   "execution_count": 40,
   "id": "0ed37b5a-ab76-4e07-974f-af29db15a8d2",
   "metadata": {},
   "outputs": [
    {
     "data": {
      "text/plain": [
       "26"
      ]
     },
     "execution_count": 40,
     "metadata": {},
     "output_type": "execute_result"
    }
   ],
   "source": [
    "len(meta.loc[meta[\"alleged_abduction\"] == \"non_abducted\"])"
   ]
  },
  {
   "cell_type": "code",
   "execution_count": 41,
   "id": "268b31c0-0165-448e-abff-8131a99c6d28",
   "metadata": {},
   "outputs": [],
   "source": [
    "# write new metadata file\n",
    "meta.to_csv(f\"{data_dir}/metadata/meta_balanced.tsv\", sep = \"\\t\", index=False)"
   ]
  },
  {
   "cell_type": "code",
   "execution_count": 42,
   "id": "83107c57-61f3-401c-a6e1-4668ad87e10e",
   "metadata": {},
   "outputs": [
    {
     "data": {
      "text/html": [
       "<div>\n",
       "<style scoped>\n",
       "    .dataframe tbody tr th:only-of-type {\n",
       "        vertical-align: middle;\n",
       "    }\n",
       "\n",
       "    .dataframe tbody tr th {\n",
       "        vertical-align: top;\n",
       "    }\n",
       "\n",
       "    .dataframe thead th {\n",
       "        text-align: right;\n",
       "    }\n",
       "</style>\n",
       "<table border=\"1\" class=\"dataframe\">\n",
       "  <thead>\n",
       "    <tr style=\"text-align: right;\">\n",
       "      <th></th>\n",
       "      <th>sampleid</th>\n",
       "      <th>stool_consistency</th>\n",
       "      <th>hct_source</th>\n",
       "      <th>disease</th>\n",
       "      <th>categorical_time_relative_to_engraftment</th>\n",
       "      <th>week_relative_to_hct</th>\n",
       "      <th>timepoint_of_transplant</th>\n",
       "      <th>day_relative_to_nearest_hct</th>\n",
       "      <th>alleged_abduction</th>\n",
       "    </tr>\n",
       "  </thead>\n",
       "  <tbody>\n",
       "    <tr>\n",
       "      <th>0</th>\n",
       "      <td>5Y49IM</td>\n",
       "      <td>semi-formed</td>\n",
       "      <td>cord</td>\n",
       "      <td>Leukemia</td>\n",
       "      <td>peri</td>\n",
       "      <td>one week before HCT</td>\n",
       "      <td>7.0</td>\n",
       "      <td>0.0</td>\n",
       "      <td>abducted</td>\n",
       "    </tr>\n",
       "    <tr>\n",
       "      <th>1</th>\n",
       "      <td>2I7SIQ</td>\n",
       "      <td>liquid</td>\n",
       "      <td>cord</td>\n",
       "      <td>Leukemia</td>\n",
       "      <td>peri</td>\n",
       "      <td>one week before HCT</td>\n",
       "      <td>0.0</td>\n",
       "      <td>0.0</td>\n",
       "      <td>abducted</td>\n",
       "    </tr>\n",
       "    <tr>\n",
       "      <th>2</th>\n",
       "      <td>PCUMU7</td>\n",
       "      <td>semi-formed</td>\n",
       "      <td>cord</td>\n",
       "      <td>Leukemia</td>\n",
       "      <td>post</td>\n",
       "      <td>two weeks after HCT</td>\n",
       "      <td>0.0</td>\n",
       "      <td>16.0</td>\n",
       "      <td>abducted</td>\n",
       "    </tr>\n",
       "    <tr>\n",
       "      <th>3</th>\n",
       "      <td>Q4TOSG</td>\n",
       "      <td>formed</td>\n",
       "      <td>cord</td>\n",
       "      <td>Myelodysplastic Syndromes</td>\n",
       "      <td>post</td>\n",
       "      <td>HCT week</td>\n",
       "      <td>6.0</td>\n",
       "      <td>7.0</td>\n",
       "      <td>abducted</td>\n",
       "    </tr>\n",
       "    <tr>\n",
       "      <th>4</th>\n",
       "      <td>8MIL3L</td>\n",
       "      <td>formed</td>\n",
       "      <td>cord</td>\n",
       "      <td>Non-Hodgkin's Lymphoma</td>\n",
       "      <td>pre</td>\n",
       "      <td>two weeks before HCT</td>\n",
       "      <td>7.0</td>\n",
       "      <td>-7.0</td>\n",
       "      <td>non_abducted</td>\n",
       "    </tr>\n",
       "  </tbody>\n",
       "</table>\n",
       "</div>"
      ],
      "text/plain": [
       "  sampleid stool_consistency hct_source                    disease  \\\n",
       "0   5Y49IM       semi-formed       cord                   Leukemia   \n",
       "1   2I7SIQ            liquid       cord                   Leukemia   \n",
       "2   PCUMU7       semi-formed       cord                   Leukemia   \n",
       "3   Q4TOSG            formed       cord  Myelodysplastic Syndromes   \n",
       "4   8MIL3L            formed       cord     Non-Hodgkin's Lymphoma   \n",
       "\n",
       "  categorical_time_relative_to_engraftment  week_relative_to_hct  \\\n",
       "0                                     peri   one week before HCT   \n",
       "1                                     peri   one week before HCT   \n",
       "2                                     post   two weeks after HCT   \n",
       "3                                     post              HCT week   \n",
       "4                                      pre  two weeks before HCT   \n",
       "\n",
       "   timepoint_of_transplant  day_relative_to_nearest_hct alleged_abduction  \n",
       "0                      7.0                          0.0          abducted  \n",
       "1                      0.0                          0.0          abducted  \n",
       "2                      0.0                         16.0          abducted  \n",
       "3                      6.0                          7.0          abducted  \n",
       "4                      7.0                         -7.0      non_abducted  "
      ]
     },
     "execution_count": 42,
     "metadata": {},
     "output_type": "execute_result"
    }
   ],
   "source": [
    "# Double-check the new metadata file\n",
    "meta = pd.read_csv(f\"{data_dir}/metadata/meta_balanced.tsv\", sep = \"\\t\")\n",
    "meta.head()"
   ]
  },
  {
   "cell_type": "code",
   "execution_count": 43,
   "id": "4ba581ee-cd67-42e8-b9c8-8d96325fb75d",
   "metadata": {},
   "outputs": [
    {
     "name": "stdout",
     "output_type": "stream",
     "text": [
      "\u001b[32mSaved FeatureTable[Frequency] to: ../data/ML/table-filtered-balanced.qza\u001b[0m\n",
      "\u001b[0m"
     ]
    }
   ],
   "source": [
    "# Filter feature table to only include the remaining samples \n",
    "\n",
    "! qiime feature-table filter-samples \\\n",
    "  --i-table $data_dir/taxonomy/table-filtered.qza \\\n",
    "  --m-metadata-file $data_dir/metadata/meta_balanced.tsv \\\n",
    "  --o-filtered-table $data_dir/ML/table-filtered-balanced.qza "
   ]
  },
  {
   "cell_type": "code",
   "execution_count": 44,
   "id": "4db3462b-5a03-48f5-b6a5-c4d515b02766",
   "metadata": {},
   "outputs": [
    {
     "name": "stdout",
     "output_type": "stream",
     "text": [
      "\u001b[32mSaved SampleData[ClassifierPredictions] to: ../data/ML/balanced-ncv-three-fold/predictions.qza\u001b[0m\n",
      "\u001b[32mSaved FeatureData[Importance] to: ../data/ML/balanced-ncv-three-fold/feature_importance.qza\u001b[0m\n",
      "\u001b[32mSaved SampleData[Probabilities] to: ../data/ML/balanced-ncv-three-fold/probabilities.qza\u001b[0m\n",
      "\u001b[0m"
     ]
    }
   ],
   "source": [
    "# Rerun nested cross-validation\n",
    "\n",
    "# 3-fold, 100 trees\n",
    "! qiime sample-classifier classify-samples-ncv \\\n",
    "  --i-table $data_dir/ML/table-filtered-balanced.qza \\\n",
    "  --m-metadata-file $data_dir/metadata/meta_balanced.tsv \\\n",
    "  --m-metadata-column alleged_abduction \\\n",
    "  --p-parameter-tuning \\\n",
    "  --p-cv 3 \\\n",
    "  --p-estimator RandomForestClassifier \\\n",
    "  --p-n-estimators 100 \\\n",
    "  --p-random-state 0 \\\n",
    "  --output-dir $data_dir/ML/balanced-ncv-three-fold"
   ]
  },
  {
   "cell_type": "code",
   "execution_count": 45,
   "id": "a13520c6-d5b1-495e-a317-2505b2159a63",
   "metadata": {},
   "outputs": [
    {
     "name": "stdout",
     "output_type": "stream",
     "text": [
      "\u001b[32mSaved Visualization to: ../data/ML/balanced-ncv-three-fold/ncv_confusion_matrix.qzv\u001b[0m\n",
      "\u001b[0m"
     ]
    }
   ],
   "source": [
    "# Classify abduction status based on microbial composition\n",
    "\n",
    "! qiime sample-classifier confusion-matrix \\\n",
    "  --i-predictions $data_dir/ML/balanced-ncv-three-fold/predictions.qza \\\n",
    "  --i-probabilities $data_dir/ML/balanced-ncv-three-fold/probabilities.qza \\\n",
    "  --m-truth-file $data_dir/metadata/meta_balanced.tsv \\\n",
    "  --m-truth-column alleged_abduction \\\n",
    "  --o-visualization $data_dir/ML/balanced-ncv-three-fold/ncv_confusion_matrix.qzv"
   ]
  },
  {
   "cell_type": "code",
   "execution_count": 46,
   "id": "c1ca9b23-feeb-4347-b9a5-53827e72e204",
   "metadata": {},
   "outputs": [
    {
     "data": {
      "text/html": [
       "<div><img onload=\"(function(div, url){\n",
       "if (typeof require !== 'undefined') {\n",
       "    var baseURL = require.toUrl('').split('/').slice(0, -2).join('/');\n",
       "} else {\n",
       "    var baseURL = JSON.parse(\n",
       "        document.getElementById('jupyter-config-data').innerHTML\n",
       "    ).baseUrl.slice(0, -1);\n",
       "}\n",
       "url = baseURL + url;\n",
       "fetch(url).then(function(res) {\n",
       "    if (res.status === 404) {\n",
       "        div.innerHTML = 'Install QIIME 2 Jupyter extension with:<br />' +\n",
       "                        '<code>jupyter serverextension enable --py qiime2' +\n",
       "                        ' --sys-prefix</code><br />then restart your server.' +\n",
       "                        '<br /><br />(Interactive output not available on ' +\n",
       "                        'static notebook viewer services like nbviewer.)';\n",
       "    } else if (res.status === 409) {\n",
       "        div.innerHTML = 'Visualization no longer in scope. Re-run this cell' +\n",
       "                        ' to see the visualization.';\n",
       "    } else if (res.ok) {\n",
       "        url = res.url;\n",
       "        div.innerHTML = '<iframe src=\\'' + url + '\\' style=\\'' +\n",
       "                        'width: 100%; height: 700px; border: 0;\\'>' +\n",
       "                        '</iframe><hr />Open in a: <a href=\\'' + url + '\\'' +\n",
       "                        ' target=\\'_blank\\'>new window</a>'\n",
       "    } else {\n",
       "        div.innerHTML = 'Something has gone wrong. Check notebook server for' +\n",
       "                        ' errors.';\n",
       "    }\n",
       "});\n",
       "})(this.parentElement, '/qiime2/redirect?location=/tmp/qiime2-archive-oah0tt88')\" src=\"data:image/gif;base64,R0lGODlhAQABAIAAAP///wAAACH5BAEAAAAALAAAAAABAAEAAAICRAEAOw==\" /></div>"
      ],
      "text/plain": [
       "<visualization: Visualization uuid: 6fcf9c26-11e7-433a-8ff4-2c07a5198059>"
      ]
     },
     "execution_count": 46,
     "metadata": {},
     "output_type": "execute_result"
    }
   ],
   "source": [
    "Visualization.load(f'{data_dir}/ML/balanced-ncv-three-fold/ncv_confusion_matrix.qzv')"
   ]
  },
  {
   "cell_type": "markdown",
   "id": "af9df200-77ea-42bf-9a4d-454e4dc2c49c",
   "metadata": {},
   "source": [
    "Now the baseline accuracy is lower because the frequency of the classes are equal, and the overall accuracy is even slightly worse than random chance. Repeating with more trees and more folds:"
   ]
  },
  {
   "cell_type": "code",
   "execution_count": null,
   "id": "20b7f6f8-e6d5-4b33-a56a-46de6ff505b3",
   "metadata": {},
   "outputs": [],
   "source": [
    "# 5-fold, 300 trees\n",
    "\n",
    "! qiime sample-classifier classify-samples-ncv \\\n",
    "  --i-table $data_dir/ML/table-filtered-balanced.qza \\\n",
    "  --m-metadata-file $data_dir/metadata/meta_balanced.tsv \\\n",
    "  --m-metadata-column alleged_abduction \\\n",
    "  --p-parameter-tuning \\\n",
    "  --p-cv 5 \\\n",
    "  --p-estimator RandomForestClassifier \\\n",
    "  --p-n-estimators 300 \\\n",
    "  --p-random-state 0 \\\n",
    "  --output-dir $data_dir/ML/balanced-ncv-five-fold"
   ]
  },
  {
   "cell_type": "code",
   "execution_count": null,
   "id": "d10a2980-f59c-4dce-aba1-d256d8f99d71",
   "metadata": {},
   "outputs": [],
   "source": [
    "# Classify abduction status based on microbial composition\n",
    "\n",
    "! qiime sample-classifier confusion-matrix \\\n",
    "  --i-predictions $data_dir/ML/balanced-ncv-five-fold/predictions.qza \\\n",
    "  --i-probabilities $data_dir/ML/balanced-ncv-five-fold/probabilities.qza \\\n",
    "  --m-truth-file $data_dir/metadata/meta_balanced.tsv \\\n",
    "  --m-truth-column alleged_abduction \\\n",
    "  --o-visualization $data_dir/ML/balanced-ncv-five-fold/ncv_confusion_matrix.qzv"
   ]
  },
  {
   "cell_type": "code",
   "execution_count": null,
   "id": "13a567c8-bdee-43b9-8007-4a99c602837e",
   "metadata": {},
   "outputs": [],
   "source": [
    "Visualization.load(f'{data_dir}/ML/balanced-ncv-five-fold/ncv_confusion_matrix.qzv')"
   ]
  },
  {
   "cell_type": "code",
   "execution_count": null,
   "id": "b3ef7547-c8f5-455c-91a4-b0cf0051d2e7",
   "metadata": {},
   "outputs": [],
   "source": [
    "# 10-fold, 300 trees\n",
    "\n",
    "! qiime sample-classifier classify-samples-ncv \\\n",
    "  --i-table $data_dir/ML/table-filtered-balanced.qza \\\n",
    "  --m-metadata-file $data_dir/metadata/meta_balanced.tsv \\\n",
    "  --m-metadata-column alleged_abduction \\\n",
    "  --p-parameter-tuning \\\n",
    "  --p-cv 10 \\\n",
    "  --p-estimator RandomForestClassifier \\\n",
    "  --p-n-estimators 300 \\\n",
    "  --p-random-state 0 \\\n",
    "  --output-dir $data_dir/ML/balanced-ncv-ten-fold"
   ]
  },
  {
   "cell_type": "code",
   "execution_count": null,
   "id": "5953f7ae-d479-40b3-b13d-78a33a6b0790",
   "metadata": {},
   "outputs": [],
   "source": [
    "# Classify abduction status based on microbial composition\n",
    "\n",
    "! qiime sample-classifier confusion-matrix \\\n",
    "  --i-predictions $data_dir/ML/balanced-ncv-ten-fold/predictions.qza \\\n",
    "  --i-probabilities $data_dir/ML/balanced-ncv-ten-fold/probabilities.qza \\\n",
    "  --m-truth-file $data_dir/metadata/meta_balanced.tsv \\\n",
    "  --m-truth-column alleged_abduction \\\n",
    "  --o-visualization $data_dir/ML/balanced-ncv-ten-fold/ncv_confusion_matrix.qzv"
   ]
  },
  {
   "cell_type": "code",
   "execution_count": null,
   "id": "812f5ea7-03f8-43cc-8f2c-8bebe5ce67ba",
   "metadata": {},
   "outputs": [],
   "source": [
    "Visualization.load(f'{data_dir}/ML/balanced-ncv-ten-fold/ncv_confusion_matrix.qzv')"
   ]
  },
  {
   "cell_type": "markdown",
   "id": "2ab08ebe-1a18-49de-8a4f-83f0f372ff4e",
   "metadata": {},
   "source": [
    "#\n",
    "\n",
    "### Trying Linear Support Vector Classifier (SVC)\n",
    "\n",
    "With 5-fold nested cross-validation (turns out even worse)"
   ]
  },
  {
   "cell_type": "code",
   "execution_count": 5,
   "id": "bae6f4f9-4bdb-454e-9c22-68b111e74cb7",
   "metadata": {},
   "outputs": [
    {
     "name": "stdout",
     "output_type": "stream",
     "text": [
      "\u001b[32mSaved SampleData[ClassifierPredictions] to: ../Alien_data/LSVC-ncv-five-fold/predictions.qza\u001b[0m\n",
      "\u001b[32mSaved FeatureData[Importance] to: ../Alien_data/LSVC-ncv-five-fold/feature_importance.qza\u001b[0m\n",
      "\u001b[32mSaved SampleData[Probabilities] to: ../Alien_data/LSVC-ncv-five-fold/probabilities.qza\u001b[0m\n",
      "\u001b[0m"
     ]
    }
   ],
   "source": [
    "! qiime sample-classifier classify-samples-ncv \\\n",
    "  --i-table $data_dir/ML/table-filtered.qza \\\n",
    "  --m-metadata-file $data_dir/metadata/str_metadata.tsv \\\n",
    "  --m-metadata-column alleged_abduction \\\n",
    "  --p-parameter-tuning \\\n",
    "  --p-cv 5 \\\n",
    "  --p-estimator LinearSVC \\\n",
    "  --p-random-state 0 \\\n",
    "  --output-dir $data_dir/ML/LSVC-ncv-five-fold"
   ]
  },
  {
   "cell_type": "code",
   "execution_count": 6,
   "id": "df6804bb-0b66-48ad-bf69-16f1aaaf677f",
   "metadata": {},
   "outputs": [
    {
     "name": "stdout",
     "output_type": "stream",
     "text": [
      "\u001b[32mSaved Visualization to: ../Alien_data/LSVC-ncv-five-fold/LSVC_ncv_confusion_matrix.qzv\u001b[0m\n",
      "\u001b[0m"
     ]
    }
   ],
   "source": [
    "# Classify abduction status based on microbial composition\n",
    "\n",
    "! qiime sample-classifier confusion-matrix \\\n",
    "  --i-predictions $data_dir/ML/LSVC-ncv-five-fold/predictions.qza \\\n",
    "  --i-probabilities $data_dir/ML/LSVC-ncv-five-fold/probabilities.qza \\\n",
    "  --m-truth-file $data_dir/metadata/str_metadata.tsv \\\n",
    "  --m-truth-column alleged_abduction \\\n",
    "  --o-visualization $data_dir/ML/LSVC-ncv-five-fold/LSVC_ncv_confusion_matrix.qzv"
   ]
  },
  {
   "cell_type": "code",
   "execution_count": 12,
   "id": "4b68488b-ac06-480d-9769-2fe591e07093",
   "metadata": {},
   "outputs": [
    {
     "data": {
      "text/html": [
       "<div><img onload=\"(function(div, url){\n",
       "if (typeof require !== 'undefined') {\n",
       "    var baseURL = require.toUrl('').split('/').slice(0, -2).join('/');\n",
       "} else {\n",
       "    var baseURL = JSON.parse(\n",
       "        document.getElementById('jupyter-config-data').innerHTML\n",
       "    ).baseUrl.slice(0, -1);\n",
       "}\n",
       "url = baseURL + url;\n",
       "fetch(url).then(function(res) {\n",
       "    if (res.status === 404) {\n",
       "        div.innerHTML = 'Install QIIME 2 Jupyter extension with:<br />' +\n",
       "                        '<code>jupyter serverextension enable --py qiime2' +\n",
       "                        ' --sys-prefix</code><br />then restart your server.' +\n",
       "                        '<br /><br />(Interactive output not available on ' +\n",
       "                        'static notebook viewer services like nbviewer.)';\n",
       "    } else if (res.status === 409) {\n",
       "        div.innerHTML = 'Visualization no longer in scope. Re-run this cell' +\n",
       "                        ' to see the visualization.';\n",
       "    } else if (res.ok) {\n",
       "        url = res.url;\n",
       "        div.innerHTML = '<iframe src=\\'' + url + '\\' style=\\'' +\n",
       "                        'width: 100%; height: 700px; border: 0;\\'>' +\n",
       "                        '</iframe><hr />Open in a: <a href=\\'' + url + '\\'' +\n",
       "                        ' target=\\'_blank\\'>new window</a>'\n",
       "    } else {\n",
       "        div.innerHTML = 'Something has gone wrong. Check notebook server for' +\n",
       "                        ' errors.';\n",
       "    }\n",
       "});\n",
       "})(this.parentElement, '/qiime2/redirect?location=/tmp/qiime2-archive-1l89fgx5')\" src=\"data:image/gif;base64,R0lGODlhAQABAIAAAP///wAAACH5BAEAAAAALAAAAAABAAEAAAICRAEAOw==\" /></div>"
      ],
      "text/plain": [
       "<visualization: Visualization uuid: ecab5167-ac1a-478e-9d56-59f576ef2808>"
      ]
     },
     "execution_count": 12,
     "metadata": {},
     "output_type": "execute_result"
    }
   ],
   "source": [
    "Visualization.load(f'{data_dir}/ML/LSVC-ncv-five-fold/LSVC_ncv_confusion_matrix.qzv')"
   ]
  },
  {
   "cell_type": "code",
   "execution_count": null,
   "id": "5a016a5a-e90e-470e-8f31-31e5e8539130",
   "metadata": {},
   "outputs": [],
   "source": []
  }
 ],
 "metadata": {
  "kernelspec": {
   "display_name": "Python 3 (ipykernel)",
   "language": "python",
   "name": "python3"
  },
  "language_info": {
   "codemirror_mode": {
    "name": "ipython",
    "version": 3
   },
   "file_extension": ".py",
   "mimetype": "text/x-python",
   "name": "python",
   "nbconvert_exporter": "python",
   "pygments_lexer": "ipython3",
   "version": "3.8.13"
  }
 },
 "nbformat": 4,
 "nbformat_minor": 5
}
