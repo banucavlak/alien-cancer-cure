{
 "cells": [
  {
   "cell_type": "markdown",
   "id": "2d726ee9-3a61-41cc-bd10-95c3264cd423",
   "metadata": {},
   "source": [
    "# Phylogeny"
   ]
  },
  {
   "cell_type": "code",
   "execution_count": 3,
   "id": "511ae903-ccbd-4845-a1ff-22684861d8d9",
   "metadata": {},
   "outputs": [],
   "source": [
    "from qiime2 import Visualization\n",
    "import os\n",
    "import pandas as pd\n",
    "\n",
    "# Data directory \n",
    "data_dir = '../data'\n",
    "if not os.path.isdir(data_dir):\n",
    "    os.makedirs(data_dir)"
   ]
  },
  {
   "cell_type": "markdown",
   "id": "1f4fba2b-2d45-4722-9dba-e8cccc28ed70",
   "metadata": {},
   "source": [
    "### 1. Phylogeny _de novo_\n",
    "\n",
    "We start by using the `mafft` action to obtain a multiple sequence alignment of our sequences:"
   ]
  },
  {
   "cell_type": "code",
   "execution_count": 3,
   "id": "4f745910-b1fe-4312-8f75-47bcbe9ccd22",
   "metadata": {},
   "outputs": [
    {
     "name": "stdout",
     "output_type": "stream",
     "text": [
      "\u001b[32mSaved FeatureData[AlignedSequence] to: ../data/phylogeny/aligned-seqs.qza\u001b[0m\n",
      "\u001b[0m"
     ]
    }
   ],
   "source": [
    "# Multiple Alignment\n",
    "\n",
    "# the original input was --i-sequences $data_dir/rep-seqs-filtered.qza \\\n",
    "\n",
    "! qiime alignment mafft \\\n",
    "    --i-sequences $data_dir/denoising/dada2_rep_set.qza \\\n",
    "    --o-alignment $data_dir/phylogeny/aligned-seqs.qza"
   ]
  },
  {
   "cell_type": "markdown",
   "id": "a9f07bc1-edd0-4cad-979d-16c7f679cc9b",
   "metadata": {},
   "source": [
    "Then, we do masking (removing) the ambiguously aligned regions from the alignment to increase the performance of the reconstructed phylogeny:"
   ]
  },
  {
   "cell_type": "code",
   "execution_count": 4,
   "id": "4c3c4f21-56d0-4bbc-8a58-7916fc07a79d",
   "metadata": {},
   "outputs": [
    {
     "name": "stdout",
     "output_type": "stream",
     "text": [
      "\u001b[32mSaved FeatureData[AlignedSequence] to: ../data/phylogeny/masked-aligned-seqs.qza\u001b[0m\n",
      "\u001b[0m"
     ]
    }
   ],
   "source": [
    "# Alignment Masking (removing regions w/ ambiguous aligments)\n",
    "\n",
    "! qiime alignment mask \\\n",
    "    --i-alignment $data_dir/phylogeny/aligned-seqs.qza \\\n",
    "    --o-masked-alignment $data_dir/phylogeny/masked-aligned-seqs.qza"
   ]
  },
  {
   "cell_type": "markdown",
   "id": "d828a62e-2113-4a71-a28a-f2cbe9ad885f",
   "metadata": {},
   "source": [
    "Finally, we generate the De Novo tree using fasttree for its fast performance, root the unrooted tree at the midpoint of the longest tip-to-tip distance, and visualize it."
   ]
  },
  {
   "cell_type": "code",
   "execution_count": 5,
   "id": "26c882ea-788b-4c60-b373-272d068ab909",
   "metadata": {},
   "outputs": [
    {
     "name": "stdout",
     "output_type": "stream",
     "text": [
      "\u001b[32mSaved Phylogeny[Unrooted] to: ../data/phylogeny/fasttree.qza\u001b[0m\n",
      "\u001b[0m\u001b[32mSaved Phylogeny[Rooted] to: ../data/phylogeny/fasttree-rooted.qza\u001b[0m\n",
      "\u001b[0m"
     ]
    }
   ],
   "source": [
    "# DE NOVO Tree Construction\n",
    "\n",
    "! qiime phylogeny fasttree \\\n",
    "    --i-alignment $data_dir/phylogeny/masked-aligned-seqs.qza \\\n",
    "    --o-tree $data_dir/phylogeny/fasttree.qza\n",
    "\n",
    "! qiime phylogeny midpoint-root \\\n",
    "    --i-tree $data_dir/phylogeny/fasttree.qza \\\n",
    "    --o-rooted-tree $data_dir/phylogeny/fasttree-rooted.qza"
   ]
  },
  {
   "cell_type": "code",
   "execution_count": 6,
   "id": "9d0145e3-4cca-4bb3-b162-78e9acb55d04",
   "metadata": {},
   "outputs": [
    {
     "name": "stdout",
     "output_type": "stream",
     "text": [
      "\u001b[32mSaved Visualization to: ../data/phylogeny/fasttree-rooted.qzv\u001b[0m\n",
      "\u001b[0m"
     ]
    }
   ],
   "source": [
    "# DE NOVO Tree Visualisation \n",
    "\n",
    "! qiime empress tree-plot \\\n",
    "    --i-tree $data_dir/phylogeny/fasttree-rooted.qza \\\n",
    "    --m-feature-metadata-file $data_dir/taxonomy/taxonomy.qza \\\n",
    "    --o-visualization $data_dir/phylogeny/fasttree-rooted.qzv"
   ]
  },
  {
   "cell_type": "code",
   "execution_count": 12,
   "id": "ce8ef49a-9533-40b9-8ed5-a06c6f03c305",
   "metadata": {},
   "outputs": [
    {
     "data": {
      "text/html": [
       "<div><img onload=\"(function(div, url){\n",
       "if (typeof require !== 'undefined') {\n",
       "    var baseURL = require.toUrl('').split('/').slice(0, -2).join('/');\n",
       "} else {\n",
       "    var baseURL = JSON.parse(\n",
       "        document.getElementById('jupyter-config-data').innerHTML\n",
       "    ).baseUrl.slice(0, -1);\n",
       "}\n",
       "url = baseURL + url;\n",
       "fetch(url).then(function(res) {\n",
       "    if (res.status === 404) {\n",
       "        div.innerHTML = 'Install QIIME 2 Jupyter extension with:<br />' +\n",
       "                        '<code>jupyter serverextension enable --py qiime2' +\n",
       "                        ' --sys-prefix</code><br />then restart your server.' +\n",
       "                        '<br /><br />(Interactive output not available on ' +\n",
       "                        'static notebook viewer services like nbviewer.)';\n",
       "    } else if (res.status === 409) {\n",
       "        div.innerHTML = 'Visualization no longer in scope. Re-run this cell' +\n",
       "                        ' to see the visualization.';\n",
       "    } else if (res.ok) {\n",
       "        url = res.url;\n",
       "        div.innerHTML = '<iframe src=\\'' + url + '\\' style=\\'' +\n",
       "                        'width: 100%; height: 700px; border: 0;\\'>' +\n",
       "                        '</iframe><hr />Open in a: <a href=\\'' + url + '\\'' +\n",
       "                        ' target=\\'_blank\\'>new window</a>'\n",
       "    } else {\n",
       "        div.innerHTML = 'Something has gone wrong. Check notebook server for' +\n",
       "                        ' errors.';\n",
       "    }\n",
       "});\n",
       "})(this.parentElement, '/qiime2/redirect?location=/tmp/qiime2-archive-1rw7btc8')\" src=\"data:image/gif;base64,R0lGODlhAQABAIAAAP///wAAACH5BAEAAAAALAAAAAABAAEAAAICRAEAOw==\" /></div>"
      ],
      "text/plain": [
       "<visualization: Visualization uuid: 7fddd501-7925-4e97-b853-59f7c3b3fd20>"
      ]
     },
     "execution_count": 12,
     "metadata": {},
     "output_type": "execute_result"
    }
   ],
   "source": [
    "Visualization.load(f'{data_dir}/phylogeny/fasttree-rooted.qzv')"
   ]
  },
  {
   "cell_type": "markdown",
   "id": "be4478d4-76c1-42d0-9feb-1100995591f2",
   "metadata": {},
   "source": [
    "### 2. Bootstrapping\n",
    "\n",
    "We do bootstrapping to assert robustness of the branch splits. "
   ]
  },
  {
   "cell_type": "code",
   "execution_count": 3,
   "id": "b02d3cac-0471-4db5-afba-8815cdd5f184",
   "metadata": {
    "tags": []
   },
   "outputs": [
    {
     "name": "stdout",
     "output_type": "stream",
     "text": [
      "\u001b[32mSaved Phylogeny[Unrooted] to: Alien_data/raxml-cat-bootstrap-tree.qza\u001b[0m\n",
      "\u001b[0m"
     ]
    }
   ],
   "source": [
    "# BOOTSRAPPING (long step)\n",
    "\n",
    "! qiime phylogeny raxml-rapid-bootstrap \\\n",
    "    --i-alignment $data_dir/phylogeny/masked-aligned-seqs.qza \\\n",
    "    --p-seed 1723 \\\n",
    "    --p-rapid-bootstrap-seed 9384 \\\n",
    "    --p-bootstrap-replicates 100 \\\n",
    "    --p-substitution-model GTRCAT \\\n",
    "    --p-n-threads 3 \\\n",
    "    --o-tree $data_dir/phylogeny/raxml-cat-bootstrap-tree.qza"
   ]
  },
  {
   "cell_type": "markdown",
   "id": "ef09f889-98e4-4edc-864e-ea64f8ced4ae",
   "metadata": {},
   "source": [
    "Again, we root the tree and visualize it."
   ]
  },
  {
   "cell_type": "code",
   "execution_count": 9,
   "id": "30ccb58b-25b6-40a5-bca7-f2ce47d5195f",
   "metadata": {},
   "outputs": [
    {
     "name": "stdout",
     "output_type": "stream",
     "text": [
      "\u001b[32mSaved Phylogeny[Rooted] to: ../data/phylogeny/raxml-cat-bootstrap-rooted.qza\u001b[0m\n",
      "\u001b[0m\u001b[32mSaved Visualization to: ../data/phylogeny/raxml-cat-bootstrap-rooted.qzv\u001b[0m\n",
      "\u001b[0m"
     ]
    }
   ],
   "source": [
    "! qiime phylogeny midpoint-root \\\n",
    "    --i-tree $data_dir/phylogeny/raxml-cat-bootstrap-tree.qza \\\n",
    "    --o-rooted-tree $data_dir/phylogeny/raxml-cat-bootstrap-rooted.qza\n",
    "\n",
    "! qiime empress tree-plot \\\n",
    "    --i-tree $data_dir/phylogeny/raxml-cat-bootstrap-rooted.qza \\\n",
    "    --m-feature-metadata-file $data_dir/taxonomy/taxonomy.qza \\\n",
    "    --o-visualization $data_dir/phylogeny/raxml-cat-bootstrap-rooted.qzv"
   ]
  },
  {
   "cell_type": "code",
   "execution_count": 13,
   "id": "442e07d8-760a-4bda-8af4-4befe673cb47",
   "metadata": {},
   "outputs": [
    {
     "data": {
      "text/html": [
       "<div><img onload=\"(function(div, url){\n",
       "if (typeof require !== 'undefined') {\n",
       "    var baseURL = require.toUrl('').split('/').slice(0, -2).join('/');\n",
       "} else {\n",
       "    var baseURL = JSON.parse(\n",
       "        document.getElementById('jupyter-config-data').innerHTML\n",
       "    ).baseUrl.slice(0, -1);\n",
       "}\n",
       "url = baseURL + url;\n",
       "fetch(url).then(function(res) {\n",
       "    if (res.status === 404) {\n",
       "        div.innerHTML = 'Install QIIME 2 Jupyter extension with:<br />' +\n",
       "                        '<code>jupyter serverextension enable --py qiime2' +\n",
       "                        ' --sys-prefix</code><br />then restart your server.' +\n",
       "                        '<br /><br />(Interactive output not available on ' +\n",
       "                        'static notebook viewer services like nbviewer.)';\n",
       "    } else if (res.status === 409) {\n",
       "        div.innerHTML = 'Visualization no longer in scope. Re-run this cell' +\n",
       "                        ' to see the visualization.';\n",
       "    } else if (res.ok) {\n",
       "        url = res.url;\n",
       "        div.innerHTML = '<iframe src=\\'' + url + '\\' style=\\'' +\n",
       "                        'width: 100%; height: 700px; border: 0;\\'>' +\n",
       "                        '</iframe><hr />Open in a: <a href=\\'' + url + '\\'' +\n",
       "                        ' target=\\'_blank\\'>new window</a>'\n",
       "    } else {\n",
       "        div.innerHTML = 'Something has gone wrong. Check notebook server for' +\n",
       "                        ' errors.';\n",
       "    }\n",
       "});\n",
       "})(this.parentElement, '/qiime2/redirect?location=/tmp/qiime2-archive-526putqn')\" src=\"data:image/gif;base64,R0lGODlhAQABAIAAAP///wAAACH5BAEAAAAALAAAAAABAAEAAAICRAEAOw==\" /></div>"
      ],
      "text/plain": [
       "<visualization: Visualization uuid: 115f7154-97b9-4005-999b-2f694f7a2669>"
      ]
     },
     "execution_count": 13,
     "metadata": {},
     "output_type": "execute_result"
    }
   ],
   "source": [
    "Visualization.load(f'{data_dir}/phylogeny/raxml-cat-bootstrap-rooted.qzv')"
   ]
  },
  {
   "cell_type": "markdown",
   "id": "9c8cca9d-4c28-45e9-a8bb-41549526ad12",
   "metadata": {},
   "source": [
    "### 3. Fragment Insert Tree\n",
    "\n",
    "Finally we perform fragment insertion to use a tree that was already constructed and only try to insert our sequences into that existing tree.\n",
    "\n",
    "We first downlaod the reference database"
   ]
  },
  {
   "cell_type": "code",
   "execution_count": 14,
   "id": "a4cb0779-0dab-4c19-8b36-b3e54485c787",
   "metadata": {},
   "outputs": [
    {
     "name": "stdout",
     "output_type": "stream",
     "text": [
      "2022-12-16 22:15:53 URL:https://s3-us-west-2.amazonaws.com/qiime2-data/2021.4/common/sepp-refs-gg-13-8.qza [50161069/50161069] -> \"../data/phylogeny/sepp-refs-gg-13-8.qza\" [1]\n"
     ]
    }
   ],
   "source": [
    "# Get reference database (Greengenes)\n",
    "! wget -nv -O $data_dir/phylogeny/sepp-refs-gg-13-8.qza https://data.qiime2.org/2021.4/common/sepp-refs-gg-13-8.qza"
   ]
  },
  {
   "cell_type": "markdown",
   "id": "7b76b27f-e596-4b3e-80ed-046c6c5bd764",
   "metadata": {},
   "source": [
    "Then, we use fragment-insertion sepp to generate phylogenetic tree using the same input sequences, and visualize the results"
   ]
  },
  {
   "cell_type": "code",
   "execution_count": null,
   "id": "2a2dd186-940b-4461-b532-00db633c5471",
   "metadata": {},
   "outputs": [],
   "source": [
    "# (slow step)\n",
    "# FRAG IN Construct Tree\n",
    "\n",
    "#original input --i-representative-sequences $data_dir/rep-seqs-filtered.qza \\\n",
    "\n",
    "! qiime fragment-insertion sepp \\\n",
    "    --i-representative-sequences $data_dir/denoising/dada2_rep_set.qza \\\n",
    "    --i-reference-database $data_dir/phylogeny/sepp-refs-gg-13-8.qza \\\n",
    "    --p-threads 2 \\\n",
    "    --o-tree $data_dir/phylogeny/sepp-tree.qza \\\n",
    "    --o-placements $data_dir/phylogeny/sepp-tree-placements.qza"
   ]
  },
  {
   "cell_type": "code",
   "execution_count": 4,
   "id": "b8a9a081-dd2e-49eb-a8d8-2e7a6e4abc56",
   "metadata": {},
   "outputs": [
    {
     "name": "stdout",
     "output_type": "stream",
     "text": [
      "\u001b[32mSaved Visualization to: ../data/phylogeny/sepp-tree.qzv\u001b[0m\n",
      "\u001b[0m"
     ]
    }
   ],
   "source": [
    "# FRAG IN Visualize Tree\n",
    "! qiime empress tree-plot \\\n",
    "    --i-tree $data_dir/phylogeny/sepp-tree.qza \\\n",
    "    --m-feature-metadata-file $data_dir/taxonomy/taxonomy.qza \\\n",
    "    --o-visualization $data_dir/phylogeny/sepp-tree.qzv"
   ]
  },
  {
   "cell_type": "code",
   "execution_count": 6,
   "id": "4f363c9a-5ee9-4336-b883-40f8648f4f96",
   "metadata": {},
   "outputs": [
    {
     "data": {
      "text/html": [
       "<div><img onload=\"(function(div, url){\n",
       "if (typeof require !== 'undefined') {\n",
       "    var baseURL = require.toUrl('').split('/').slice(0, -2).join('/');\n",
       "} else {\n",
       "    var baseURL = JSON.parse(\n",
       "        document.getElementById('jupyter-config-data').innerHTML\n",
       "    ).baseUrl.slice(0, -1);\n",
       "}\n",
       "url = baseURL + url;\n",
       "fetch(url).then(function(res) {\n",
       "    if (res.status === 404) {\n",
       "        div.innerHTML = 'Install QIIME 2 Jupyter extension with:<br />' +\n",
       "                        '<code>jupyter serverextension enable --py qiime2' +\n",
       "                        ' --sys-prefix</code><br />then restart your server.' +\n",
       "                        '<br /><br />(Interactive output not available on ' +\n",
       "                        'static notebook viewer services like nbviewer.)';\n",
       "    } else if (res.status === 409) {\n",
       "        div.innerHTML = 'Visualization no longer in scope. Re-run this cell' +\n",
       "                        ' to see the visualization.';\n",
       "    } else if (res.ok) {\n",
       "        url = res.url;\n",
       "        div.innerHTML = '<iframe src=\\'' + url + '\\' style=\\'' +\n",
       "                        'width: 100%; height: 700px; border: 0;\\'>' +\n",
       "                        '</iframe><hr />Open in a: <a href=\\'' + url + '\\'' +\n",
       "                        ' target=\\'_blank\\'>new window</a>'\n",
       "    } else {\n",
       "        div.innerHTML = 'Something has gone wrong. Check notebook server for' +\n",
       "                        ' errors.';\n",
       "    }\n",
       "});\n",
       "})(this.parentElement, '/qiime2/redirect?location=/tmp/qiime2-archive-30z7vqg2')\" src=\"data:image/gif;base64,R0lGODlhAQABAIAAAP///wAAACH5BAEAAAAALAAAAAABAAEAAAICRAEAOw==\" /></div>"
      ],
      "text/plain": [
       "<visualization: Visualization uuid: 59063812-cb52-4955-8823-cb4f90354063>"
      ]
     },
     "execution_count": 6,
     "metadata": {},
     "output_type": "execute_result"
    }
   ],
   "source": [
    "Visualization.load(f'{data_dir}/phylogeny/sepp-tree.qzv')"
   ]
  },
  {
   "cell_type": "code",
   "execution_count": null,
   "id": "254298fa-011a-4fe1-8de0-5e8f7e77c76f",
   "metadata": {},
   "outputs": [],
   "source": []
  }
 ],
 "metadata": {
  "kernelspec": {
   "display_name": "Python 3 (ipykernel)",
   "language": "python",
   "name": "python3"
  },
  "language_info": {
   "codemirror_mode": {
    "name": "ipython",
    "version": 3
   },
   "file_extension": ".py",
   "mimetype": "text/x-python",
   "name": "python",
   "nbconvert_exporter": "python",
   "pygments_lexer": "ipython3",
   "version": "3.8.13"
  }
 },
 "nbformat": 4,
 "nbformat_minor": 5
}
