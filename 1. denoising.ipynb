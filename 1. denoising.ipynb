{
 "cells": [
  {
   "cell_type": "code",
   "execution_count": 1,
   "id": "4dd8431b-afd1-47d7-a2d4-b8822af8a2e9",
   "metadata": {},
   "outputs": [],
   "source": [
    "import os\n",
    "import pandas as pd\n",
    "from qiime2 import Visualization\n",
    "import numpy as np\n",
    "import qiime2 as q2\n",
    "import matplotlib.pyplot as plt\n",
    "\n",
    "%matplotlib inline"
   ]
  },
  {
   "cell_type": "code",
   "execution_count": 5,
   "id": "3ed5e66c-23d3-40e5-861a-ae8d1014525b",
   "metadata": {},
   "outputs": [
    {
     "name": "stdout",
     "output_type": "stream",
     "text": [
      "/home/jovyan/Group_project\n"
     ]
    }
   ],
   "source": [
    "!pwd"
   ]
  },
  {
   "cell_type": "code",
   "execution_count": 2,
   "id": "d0ef86df-a0b2-4469-b82a-aea52b88c571",
   "metadata": {},
   "outputs": [],
   "source": [
    "data_dir = 'cancer_data'\n",
    "if not os.path.isdir(data_dir):\n",
    "    os.makedirs(data_dir)"
   ]
  },
  {
   "cell_type": "code",
   "execution_count": 5,
   "id": "009528e1-c536-46a6-811d-7de60162c575",
   "metadata": {},
   "outputs": [
    {
     "name": "stdout",
     "output_type": "stream",
     "text": [
      "2022-10-14 10:07:15 URL:https://polybox.ethz.ch/index.php/s/PCQspFMocVCKjZ3/download [3433846903/3433846903] -> \"cancer_data/sequence.qza\" [1]\n"
     ]
    }
   ],
   "source": [
    "! wget -nv -O $data_dir/sequence.qza 'https://polybox.ethz.ch/index.php/s/PCQspFMocVCKjZ3/download'"
   ]
  },
  {
   "cell_type": "code",
   "execution_count": null,
   "id": "2eee68a6-91cc-4a40-97e3-e6182dc3f2a8",
   "metadata": {},
   "outputs": [],
   "source": [
    "#! wget -nv -O $data_dir/meta_data.tsv 'https://polybox.ethz.ch/index.php/s/r1AYzdUVWnQyiRL/download'"
   ]
  },
  {
   "cell_type": "code",
   "execution_count": 7,
   "id": "035f518a-d13d-4216-9547-a9360e4764ae",
   "metadata": {},
   "outputs": [
    {
     "name": "stdout",
     "output_type": "stream",
     "text": [
      "\u001b[32mUUID\u001b[0m:        394c4773-80e2-46a6-9fba-40e7c8ec3fb9\n",
      "\u001b[32mType\u001b[0m:        SampleData[PairedEndSequencesWithQuality]\n",
      "\u001b[32mData format\u001b[0m: SingleLanePerSamplePairedEndFastqDirFmt\n"
     ]
    }
   ],
   "source": [
    "!qiime tools peek $data_dir/sequence.qza"
   ]
  },
  {
   "cell_type": "code",
   "execution_count": 8,
   "id": "3f621084-2054-45f2-88ce-f024e6353b01",
   "metadata": {},
   "outputs": [
    {
     "name": "stdout",
     "output_type": "stream",
     "text": [
      "\u001b[32mSaved Visualization to: cancer_data/sequence.qzv\u001b[0m\n",
      "\u001b[0m"
     ]
    }
   ],
   "source": [
    "! qiime demux summarize \\\n",
    "    --i-data $data_dir/sequence.qza \\\n",
    "    --o-visualization $data_dir/sequence.qzv"
   ]
  },
  {
   "cell_type": "code",
   "execution_count": 6,
   "id": "ce8f505e-5cec-4753-9303-63e5d73f4c55",
   "metadata": {
    "tags": []
   },
   "outputs": [
    {
     "data": {
      "text/html": [
       "<div><img onload=\"(function(div, url){\n",
       "if (typeof require !== 'undefined') {\n",
       "    var baseURL = require.toUrl('').split('/').slice(0, -2).join('/');\n",
       "} else {\n",
       "    var baseURL = JSON.parse(\n",
       "        document.getElementById('jupyter-config-data').innerHTML\n",
       "    ).baseUrl.slice(0, -1);\n",
       "}\n",
       "url = baseURL + url;\n",
       "fetch(url).then(function(res) {\n",
       "    if (res.status === 404) {\n",
       "        div.innerHTML = 'Install QIIME 2 Jupyter extension with:<br />' +\n",
       "                        '<code>jupyter serverextension enable --py qiime2' +\n",
       "                        ' --sys-prefix</code><br />then restart your server.' +\n",
       "                        '<br /><br />(Interactive output not available on ' +\n",
       "                        'static notebook viewer services like nbviewer.)';\n",
       "    } else if (res.status === 409) {\n",
       "        div.innerHTML = 'Visualization no longer in scope. Re-run this cell' +\n",
       "                        ' to see the visualization.';\n",
       "    } else if (res.ok) {\n",
       "        url = res.url;\n",
       "        div.innerHTML = '<iframe src=\\'' + url + '\\' style=\\'' +\n",
       "                        'width: 100%; height: 700px; border: 0;\\'>' +\n",
       "                        '</iframe><hr />Open in a: <a href=\\'' + url + '\\'' +\n",
       "                        ' target=\\'_blank\\'>new window</a>'\n",
       "    } else {\n",
       "        div.innerHTML = 'Something has gone wrong. Check notebook server for' +\n",
       "                        ' errors.';\n",
       "    }\n",
       "});\n",
       "})(this.parentElement, '/qiime2/redirect?location=/tmp/qiime2-archive-m0t4eu89')\" src=\"data:image/gif;base64,R0lGODlhAQABAIAAAP///wAAACH5BAEAAAAALAAAAAABAAEAAAICRAEAOw==\" /></div>"
      ],
      "text/plain": [
       "<visualization: Visualization uuid: 613ea6f5-21e8-46fc-b274-9159be0df6eb>"
      ]
     },
     "execution_count": 6,
     "metadata": {},
     "output_type": "execute_result"
    }
   ],
   "source": [
    "Visualization.load(f'{data_dir}/sequence.qzv')"
   ]
  },
  {
   "cell_type": "code",
   "execution_count": 14,
   "id": "d14af7da-80e2-4e3a-9f42-8a32325ab55e",
   "metadata": {
    "tags": []
   },
   "outputs": [
    {
     "data": {
      "text/html": [
       "<div>\n",
       "<style scoped>\n",
       "    .dataframe tbody tr th:only-of-type {\n",
       "        vertical-align: middle;\n",
       "    }\n",
       "\n",
       "    .dataframe tbody tr th {\n",
       "        vertical-align: top;\n",
       "    }\n",
       "\n",
       "    .dataframe thead th {\n",
       "        text-align: right;\n",
       "    }\n",
       "</style>\n",
       "<table border=\"1\" class=\"dataframe\">\n",
       "  <thead>\n",
       "    <tr style=\"text-align: right;\">\n",
       "      <th></th>\n",
       "      <th>stool_consistency</th>\n",
       "      <th>hct_source</th>\n",
       "      <th>disease</th>\n",
       "      <th>categorical_time_relative_to_engraftment</th>\n",
       "      <th>week_relative_to_hct</th>\n",
       "      <th>timepoint_of_transplant</th>\n",
       "      <th>day_relative_to_nearest_hct</th>\n",
       "      <th>alleged_abduction</th>\n",
       "    </tr>\n",
       "    <tr>\n",
       "      <th>sampleid</th>\n",
       "      <th></th>\n",
       "      <th></th>\n",
       "      <th></th>\n",
       "      <th></th>\n",
       "      <th></th>\n",
       "      <th></th>\n",
       "      <th></th>\n",
       "      <th></th>\n",
       "    </tr>\n",
       "  </thead>\n",
       "  <tbody>\n",
       "    <tr>\n",
       "      <th>N4VICF</th>\n",
       "      <td>formed</td>\n",
       "      <td>cord</td>\n",
       "      <td>Myelodysplastic Syndromes</td>\n",
       "      <td>pre</td>\n",
       "      <td>-1.0</td>\n",
       "      <td>6.0</td>\n",
       "      <td>-6.0</td>\n",
       "      <td>0</td>\n",
       "    </tr>\n",
       "    <tr>\n",
       "      <th>8A0F9A</th>\n",
       "      <td>formed</td>\n",
       "      <td>cord</td>\n",
       "      <td>Leukemia</td>\n",
       "      <td>pre</td>\n",
       "      <td>-2.0</td>\n",
       "      <td>7.0</td>\n",
       "      <td>-7.0</td>\n",
       "      <td>0</td>\n",
       "    </tr>\n",
       "    <tr>\n",
       "      <th>5Y49IM</th>\n",
       "      <td>semi-formed</td>\n",
       "      <td>cord</td>\n",
       "      <td>Leukemia</td>\n",
       "      <td>peri</td>\n",
       "      <td>-1.0</td>\n",
       "      <td>7.0</td>\n",
       "      <td>0.0</td>\n",
       "      <td>1</td>\n",
       "    </tr>\n",
       "    <tr>\n",
       "      <th>ZKJI45</th>\n",
       "      <td>semi-formed</td>\n",
       "      <td>cord</td>\n",
       "      <td>Leukemia</td>\n",
       "      <td>post</td>\n",
       "      <td>1.0</td>\n",
       "      <td>7.0</td>\n",
       "      <td>8.0</td>\n",
       "      <td>0</td>\n",
       "    </tr>\n",
       "    <tr>\n",
       "      <th>2I7SIQ</th>\n",
       "      <td>liquid</td>\n",
       "      <td>cord</td>\n",
       "      <td>Leukemia</td>\n",
       "      <td>peri</td>\n",
       "      <td>-1.0</td>\n",
       "      <td>0.0</td>\n",
       "      <td>0.0</td>\n",
       "      <td>1</td>\n",
       "    </tr>\n",
       "  </tbody>\n",
       "</table>\n",
       "</div>"
      ],
      "text/plain": [
       "         stool_consistency hct_source                    disease  \\\n",
       "sampleid                                                           \n",
       "N4VICF              formed       cord  Myelodysplastic Syndromes   \n",
       "8A0F9A              formed       cord                   Leukemia   \n",
       "5Y49IM         semi-formed       cord                   Leukemia   \n",
       "ZKJI45         semi-formed       cord                   Leukemia   \n",
       "2I7SIQ              liquid       cord                   Leukemia   \n",
       "\n",
       "         categorical_time_relative_to_engraftment  week_relative_to_hct  \\\n",
       "sampleid                                                                  \n",
       "N4VICF                                        pre                  -1.0   \n",
       "8A0F9A                                        pre                  -2.0   \n",
       "5Y49IM                                       peri                  -1.0   \n",
       "ZKJI45                                       post                   1.0   \n",
       "2I7SIQ                                       peri                  -1.0   \n",
       "\n",
       "          timepoint_of_transplant  day_relative_to_nearest_hct  \\\n",
       "sampleid                                                         \n",
       "N4VICF                        6.0                         -6.0   \n",
       "8A0F9A                        7.0                         -7.0   \n",
       "5Y49IM                        7.0                          0.0   \n",
       "ZKJI45                        7.0                          8.0   \n",
       "2I7SIQ                        0.0                          0.0   \n",
       "\n",
       "          alleged_abduction  \n",
       "sampleid                     \n",
       "N4VICF                    0  \n",
       "8A0F9A                    0  \n",
       "5Y49IM                    1  \n",
       "ZKJI45                    0  \n",
       "2I7SIQ                    1  "
      ]
     },
     "execution_count": 14,
     "metadata": {},
     "output_type": "execute_result"
    }
   ],
   "source": [
    "meta_df = pd.read_csv(\"/home/jovyan/Group_project/cancer_data/meta_data.tsv\", sep='\\t',index_col=0)\n",
    "meta_df.head(n=5)"
   ]
  },
  {
   "cell_type": "code",
   "execution_count": 12,
   "id": "4f5adbf6-2ebe-4e52-b131-6c1e97a27eaa",
   "metadata": {},
   "outputs": [
    {
     "data": {
      "text/plain": [
       "Index(['stool_consistency', 'hct_source', 'disease',\n",
       "       'categorical_time_relative_to_engraftment', 'week_relative_to_hct',\n",
       "       'timepoint_of_transplant', 'day_relative_to_nearest_hct',\n",
       "       'alleged_abduction'],\n",
       "      dtype='object')"
      ]
     },
     "execution_count": 12,
     "metadata": {},
     "output_type": "execute_result"
    }
   ],
   "source": [
    "meta_df.columns"
   ]
  },
  {
   "cell_type": "code",
   "execution_count": 13,
   "id": "50ef7b68-519f-43c5-85d6-fdef65383a4f",
   "metadata": {
    "tags": []
   },
   "outputs": [
    {
     "data": {
      "text/html": [
       "<div>\n",
       "<style scoped>\n",
       "    .dataframe tbody tr th:only-of-type {\n",
       "        vertical-align: middle;\n",
       "    }\n",
       "\n",
       "    .dataframe tbody tr th {\n",
       "        vertical-align: top;\n",
       "    }\n",
       "\n",
       "    .dataframe thead tr th {\n",
       "        text-align: left;\n",
       "    }\n",
       "\n",
       "    .dataframe thead tr:last-of-type th {\n",
       "        text-align: right;\n",
       "    }\n",
       "</style>\n",
       "<table border=\"1\" class=\"dataframe\">\n",
       "  <thead>\n",
       "    <tr>\n",
       "      <th></th>\n",
       "      <th colspan=\"8\" halign=\"left\">week_relative_to_hct</th>\n",
       "      <th colspan=\"5\" halign=\"left\">timepoint_of_transplant</th>\n",
       "      <th colspan=\"8\" halign=\"left\">day_relative_to_nearest_hct</th>\n",
       "    </tr>\n",
       "    <tr>\n",
       "      <th></th>\n",
       "      <th>count</th>\n",
       "      <th>mean</th>\n",
       "      <th>std</th>\n",
       "      <th>min</th>\n",
       "      <th>25%</th>\n",
       "      <th>50%</th>\n",
       "      <th>75%</th>\n",
       "      <th>max</th>\n",
       "      <th>count</th>\n",
       "      <th>mean</th>\n",
       "      <th>...</th>\n",
       "      <th>75%</th>\n",
       "      <th>max</th>\n",
       "      <th>count</th>\n",
       "      <th>mean</th>\n",
       "      <th>std</th>\n",
       "      <th>min</th>\n",
       "      <th>25%</th>\n",
       "      <th>50%</th>\n",
       "      <th>75%</th>\n",
       "      <th>max</th>\n",
       "    </tr>\n",
       "    <tr>\n",
       "      <th>alleged_abduction</th>\n",
       "      <th></th>\n",
       "      <th></th>\n",
       "      <th></th>\n",
       "      <th></th>\n",
       "      <th></th>\n",
       "      <th></th>\n",
       "      <th></th>\n",
       "      <th></th>\n",
       "      <th></th>\n",
       "      <th></th>\n",
       "      <th></th>\n",
       "      <th></th>\n",
       "      <th></th>\n",
       "      <th></th>\n",
       "      <th></th>\n",
       "      <th></th>\n",
       "      <th></th>\n",
       "      <th></th>\n",
       "      <th></th>\n",
       "      <th></th>\n",
       "      <th></th>\n",
       "    </tr>\n",
       "  </thead>\n",
       "  <tbody>\n",
       "    <tr>\n",
       "      <th>0</th>\n",
       "      <td>131.0</td>\n",
       "      <td>-0.312977</td>\n",
       "      <td>1.030937</td>\n",
       "      <td>-2.0</td>\n",
       "      <td>-1.0</td>\n",
       "      <td>-1.0</td>\n",
       "      <td>1.0</td>\n",
       "      <td>2.0</td>\n",
       "      <td>131.0</td>\n",
       "      <td>14.007634</td>\n",
       "      <td>...</td>\n",
       "      <td>6.0</td>\n",
       "      <td>379.0</td>\n",
       "      <td>131.0</td>\n",
       "      <td>1.885496</td>\n",
       "      <td>7.283956</td>\n",
       "      <td>-9.0</td>\n",
       "      <td>-5.0</td>\n",
       "      <td>0.0</td>\n",
       "      <td>8.0</td>\n",
       "      <td>16.0</td>\n",
       "    </tr>\n",
       "    <tr>\n",
       "      <th>1</th>\n",
       "      <td>26.0</td>\n",
       "      <td>0.384615</td>\n",
       "      <td>1.061204</td>\n",
       "      <td>-1.0</td>\n",
       "      <td>-1.0</td>\n",
       "      <td>1.0</td>\n",
       "      <td>1.0</td>\n",
       "      <td>2.0</td>\n",
       "      <td>26.0</td>\n",
       "      <td>37.500000</td>\n",
       "      <td>...</td>\n",
       "      <td>8.5</td>\n",
       "      <td>379.0</td>\n",
       "      <td>26.0</td>\n",
       "      <td>7.153846</td>\n",
       "      <td>6.943730</td>\n",
       "      <td>-4.0</td>\n",
       "      <td>0.0</td>\n",
       "      <td>10.0</td>\n",
       "      <td>12.0</td>\n",
       "      <td>16.0</td>\n",
       "    </tr>\n",
       "  </tbody>\n",
       "</table>\n",
       "<p>2 rows × 24 columns</p>\n",
       "</div>"
      ],
      "text/plain": [
       "                  week_relative_to_hct                                     \\\n",
       "                                 count      mean       std  min  25%  50%   \n",
       "alleged_abduction                                                           \n",
       "0                                131.0 -0.312977  1.030937 -2.0 -1.0 -1.0   \n",
       "1                                 26.0  0.384615  1.061204 -1.0 -1.0  1.0   \n",
       "\n",
       "                            timepoint_of_transplant             ...       \\\n",
       "                   75%  max                   count       mean  ...  75%   \n",
       "alleged_abduction                                               ...        \n",
       "0                  1.0  2.0                   131.0  14.007634  ...  6.0   \n",
       "1                  1.0  2.0                    26.0  37.500000  ...  8.5   \n",
       "\n",
       "                         day_relative_to_nearest_hct                           \\\n",
       "                     max                       count      mean       std  min   \n",
       "alleged_abduction                                                               \n",
       "0                  379.0                       131.0  1.885496  7.283956 -9.0   \n",
       "1                  379.0                        26.0  7.153846  6.943730 -4.0   \n",
       "\n",
       "                                          \n",
       "                   25%   50%   75%   max  \n",
       "alleged_abduction                         \n",
       "0                 -5.0   0.0   8.0  16.0  \n",
       "1                  0.0  10.0  12.0  16.0  \n",
       "\n",
       "[2 rows x 24 columns]"
      ]
     },
     "execution_count": 13,
     "metadata": {},
     "output_type": "execute_result"
    }
   ],
   "source": [
    "meta_df.groupby(['alleged_abduction']).describe()"
   ]
  },
  {
   "cell_type": "markdown",
   "id": "e07dfb9a-9b53-4ff1-a079-fecdfc298f2a",
   "metadata": {},
   "source": [
    "how dereplicated? 下面"
   ]
  },
  {
   "cell_type": "code",
   "execution_count": 6,
   "id": "9624a260-6432-41ef-b3d3-77817a858506",
   "metadata": {},
   "outputs": [
    {
     "name": "stdout",
     "output_type": "stream",
     "text": [
      "\u001b[32mSaved FeatureTable[Frequency] to: cancer_data/dada2_table.qza\u001b[0m\n",
      "\u001b[32mSaved FeatureData[Sequence] to: cancer_data/dada2_rep_set.qza\u001b[0m\n",
      "\u001b[32mSaved SampleData[DADA2Stats] to: cancer_data/dada2_stats.qza\u001b[0m\n",
      "\u001b[0m"
     ]
    }
   ],
   "source": [
    "! qiime dada2 denoise-paired \\\n",
    "    --i-demultiplexed-seqs $data_dir/sequence.qza \\\n",
    "    --p-trunc-len-f 150 \\\n",
    "    --p-trunc-len-r 157 \\\n",
    "    --p-n-threads 4 \\\n",
    "    --o-table $data_dir/dada2_table.qza \\\n",
    "    --o-representative-sequences $data_dir/dada2_rep_set.qza \\\n",
    "    --o-denoising-stats $data_dir/dada2_stats.qza"
   ]
  },
  {
   "cell_type": "code",
   "execution_count": 15,
   "id": "39af7fd1-79bf-4473-a495-d1e178f3166b",
   "metadata": {},
   "outputs": [
    {
     "name": "stdout",
     "output_type": "stream",
     "text": [
      "\u001b[32mSaved Visualization to: cancer_data/dada2_table.qzv\u001b[0m\n",
      "\u001b[0m"
     ]
    }
   ],
   "source": [
    "! qiime feature-table summarize \\\n",
    "  --i-table $data_dir/dada2_table.qza \\\n",
    "  --o-visualization $data_dir/dada2_table.qzv "
   ]
  },
  {
   "cell_type": "code",
   "execution_count": 12,
   "id": "d2fee4d6-2639-4ad1-b2d9-37f05cccf1be",
   "metadata": {},
   "outputs": [
    {
     "name": "stdout",
     "output_type": "stream",
     "text": [
      "\u001b[32mSaved Visualization to: cancer_data/dada2_rep_set.qzv\u001b[0m\n",
      "\u001b[0m"
     ]
    }
   ],
   "source": [
    "! qiime feature-table tabulate-seqs \\\n",
    "  --i-data $data_dir/dada2_rep_set.qza \\\n",
    "  --o-visualization $data_dir/dada2_rep_set.qzv"
   ]
  },
  {
   "cell_type": "code",
   "execution_count": 13,
   "id": "3e981925-6a77-49e9-b211-2603590486ab",
   "metadata": {},
   "outputs": [
    {
     "name": "stdout",
     "output_type": "stream",
     "text": [
      "\u001b[32mSaved Visualization to: cancer_data/dada2_stats.qzv\u001b[0m\n",
      "\u001b[0m"
     ]
    }
   ],
   "source": [
    "! qiime metadata tabulate \\\n",
    "  --m-input-file $data_dir/dada2_stats.qza \\\n",
    "  --o-visualization $data_dir/dada2_stats.qzv"
   ]
  },
  {
   "cell_type": "code",
   "execution_count": 3,
   "id": "2039e700-4427-4f3e-89a8-3d2561b70825",
   "metadata": {
    "tags": []
   },
   "outputs": [
    {
     "data": {
      "text/html": [
       "<div><img onload=\"(function(div, url){\n",
       "if (typeof require !== 'undefined') {\n",
       "    var baseURL = require.toUrl('').split('/').slice(0, -2).join('/');\n",
       "} else {\n",
       "    var baseURL = JSON.parse(\n",
       "        document.getElementById('jupyter-config-data').innerHTML\n",
       "    ).baseUrl.slice(0, -1);\n",
       "}\n",
       "url = baseURL + url;\n",
       "fetch(url).then(function(res) {\n",
       "    if (res.status === 404) {\n",
       "        div.innerHTML = 'Install QIIME 2 Jupyter extension with:<br />' +\n",
       "                        '<code>jupyter serverextension enable --py qiime2' +\n",
       "                        ' --sys-prefix</code><br />then restart your server.' +\n",
       "                        '<br /><br />(Interactive output not available on ' +\n",
       "                        'static notebook viewer services like nbviewer.)';\n",
       "    } else if (res.status === 409) {\n",
       "        div.innerHTML = 'Visualization no longer in scope. Re-run this cell' +\n",
       "                        ' to see the visualization.';\n",
       "    } else if (res.ok) {\n",
       "        url = res.url;\n",
       "        div.innerHTML = '<iframe src=\\'' + url + '\\' style=\\'' +\n",
       "                        'width: 100%; height: 700px; border: 0;\\'>' +\n",
       "                        '</iframe><hr />Open in a: <a href=\\'' + url + '\\'' +\n",
       "                        ' target=\\'_blank\\'>new window</a>'\n",
       "    } else {\n",
       "        div.innerHTML = 'Something has gone wrong. Check notebook server for' +\n",
       "                        ' errors.';\n",
       "    }\n",
       "});\n",
       "})(this.parentElement, '/qiime2/redirect?location=/tmp/qiime2-archive-6la0_ko7')\" src=\"data:image/gif;base64,R0lGODlhAQABAIAAAP///wAAACH5BAEAAAAALAAAAAABAAEAAAICRAEAOw==\" /></div>"
      ],
      "text/plain": [
       "<visualization: Visualization uuid: b11a1cfc-5285-41da-b751-a9214fa287ed>"
      ]
     },
     "execution_count": 3,
     "metadata": {},
     "output_type": "execute_result"
    }
   ],
   "source": [
    "Visualization.load(f'{data_dir}/dada2_table.qzv')"
   ]
  },
  {
   "cell_type": "code",
   "execution_count": 4,
   "id": "fc9fe8d7-39dc-465d-90b1-22f48daa8c25",
   "metadata": {
    "tags": []
   },
   "outputs": [
    {
     "data": {
      "text/html": [
       "<div><img onload=\"(function(div, url){\n",
       "if (typeof require !== 'undefined') {\n",
       "    var baseURL = require.toUrl('').split('/').slice(0, -2).join('/');\n",
       "} else {\n",
       "    var baseURL = JSON.parse(\n",
       "        document.getElementById('jupyter-config-data').innerHTML\n",
       "    ).baseUrl.slice(0, -1);\n",
       "}\n",
       "url = baseURL + url;\n",
       "fetch(url).then(function(res) {\n",
       "    if (res.status === 404) {\n",
       "        div.innerHTML = 'Install QIIME 2 Jupyter extension with:<br />' +\n",
       "                        '<code>jupyter serverextension enable --py qiime2' +\n",
       "                        ' --sys-prefix</code><br />then restart your server.' +\n",
       "                        '<br /><br />(Interactive output not available on ' +\n",
       "                        'static notebook viewer services like nbviewer.)';\n",
       "    } else if (res.status === 409) {\n",
       "        div.innerHTML = 'Visualization no longer in scope. Re-run this cell' +\n",
       "                        ' to see the visualization.';\n",
       "    } else if (res.ok) {\n",
       "        url = res.url;\n",
       "        div.innerHTML = '<iframe src=\\'' + url + '\\' style=\\'' +\n",
       "                        'width: 100%; height: 700px; border: 0;\\'>' +\n",
       "                        '</iframe><hr />Open in a: <a href=\\'' + url + '\\'' +\n",
       "                        ' target=\\'_blank\\'>new window</a>'\n",
       "    } else {\n",
       "        div.innerHTML = 'Something has gone wrong. Check notebook server for' +\n",
       "                        ' errors.';\n",
       "    }\n",
       "});\n",
       "})(this.parentElement, '/qiime2/redirect?location=/tmp/qiime2-archive-51b7j_l4')\" src=\"data:image/gif;base64,R0lGODlhAQABAIAAAP///wAAACH5BAEAAAAALAAAAAABAAEAAAICRAEAOw==\" /></div>"
      ],
      "text/plain": [
       "<visualization: Visualization uuid: 9fd7d0c4-bb2b-4568-b17f-ad834d0b765e>"
      ]
     },
     "execution_count": 4,
     "metadata": {},
     "output_type": "execute_result"
    }
   ],
   "source": [
    "Visualization.load(f'{data_dir}/dada2_rep_set.qzv')"
   ]
  },
  {
   "cell_type": "code",
   "execution_count": 5,
   "id": "17b7012b-0088-4e39-987d-07bd74bf31a3",
   "metadata": {
    "tags": []
   },
   "outputs": [
    {
     "data": {
      "text/html": [
       "<div><img onload=\"(function(div, url){\n",
       "if (typeof require !== 'undefined') {\n",
       "    var baseURL = require.toUrl('').split('/').slice(0, -2).join('/');\n",
       "} else {\n",
       "    var baseURL = JSON.parse(\n",
       "        document.getElementById('jupyter-config-data').innerHTML\n",
       "    ).baseUrl.slice(0, -1);\n",
       "}\n",
       "url = baseURL + url;\n",
       "fetch(url).then(function(res) {\n",
       "    if (res.status === 404) {\n",
       "        div.innerHTML = 'Install QIIME 2 Jupyter extension with:<br />' +\n",
       "                        '<code>jupyter serverextension enable --py qiime2' +\n",
       "                        ' --sys-prefix</code><br />then restart your server.' +\n",
       "                        '<br /><br />(Interactive output not available on ' +\n",
       "                        'static notebook viewer services like nbviewer.)';\n",
       "    } else if (res.status === 409) {\n",
       "        div.innerHTML = 'Visualization no longer in scope. Re-run this cell' +\n",
       "                        ' to see the visualization.';\n",
       "    } else if (res.ok) {\n",
       "        url = res.url;\n",
       "        div.innerHTML = '<iframe src=\\'' + url + '\\' style=\\'' +\n",
       "                        'width: 100%; height: 700px; border: 0;\\'>' +\n",
       "                        '</iframe><hr />Open in a: <a href=\\'' + url + '\\'' +\n",
       "                        ' target=\\'_blank\\'>new window</a>'\n",
       "    } else {\n",
       "        div.innerHTML = 'Something has gone wrong. Check notebook server for' +\n",
       "                        ' errors.';\n",
       "    }\n",
       "});\n",
       "})(this.parentElement, '/qiime2/redirect?location=/tmp/qiime2-archive-ylzh1ae6')\" src=\"data:image/gif;base64,R0lGODlhAQABAIAAAP///wAAACH5BAEAAAAALAAAAAABAAEAAAICRAEAOw==\" /></div>"
      ],
      "text/plain": [
       "<visualization: Visualization uuid: 91b7b7d6-760d-4e64-a14e-8dd45cec599d>"
      ]
     },
     "execution_count": 5,
     "metadata": {},
     "output_type": "execute_result"
    }
   ],
   "source": [
    "Visualization.load(f'{data_dir}/dada2_stats.qzv')"
   ]
  },
  {
   "cell_type": "code",
   "execution_count": null,
   "id": "72033b05-9b18-4622-bfd0-afd7a98eafd2",
   "metadata": {},
   "outputs": [],
   "source": []
  },
  {
   "cell_type": "code",
   "execution_count": null,
   "id": "6b98871d-556b-44c2-95fa-1323d49c5f5d",
   "metadata": {},
   "outputs": [],
   "source": [
    "! grep/cut..."
   ]
  }
 ],
 "metadata": {
  "kernelspec": {
   "display_name": "Python 3 (ipykernel)",
   "language": "python",
   "name": "python3"
  },
  "language_info": {
   "codemirror_mode": {
    "name": "ipython",
    "version": 3
   },
   "file_extension": ".py",
   "mimetype": "text/x-python",
   "name": "python",
   "nbconvert_exporter": "python",
   "pygments_lexer": "ipython3",
   "version": "3.8.13"
  }
 },
 "nbformat": 4,
 "nbformat_minor": 5
}
