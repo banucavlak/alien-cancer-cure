{
 "cells": [
  {
   "cell_type": "code",
   "execution_count": 1,
   "id": "3ae88e1e-6338-4e4e-bcc8-b0a474350e03",
   "metadata": {},
   "outputs": [],
   "source": [
    "import os\n",
    "import pandas as pd\n",
    "import qiime2 as q2\n",
    "from qiime2 import Visualization\n",
    "import matplotlib.pyplot as plt\n",
    "import numpy as np\n",
    "\n",
    "%matplotlib inline"
   ]
  },
  {
   "cell_type": "code",
   "execution_count": 2,
   "id": "3a6202f8-3e5a-4df8-8093-f6c0d24771dc",
   "metadata": {
    "tags": []
   },
   "outputs": [],
   "source": [
    "data_dir = 'Alien_data'"
   ]
  },
  {
   "cell_type": "code",
   "execution_count": 5,
   "id": "7ea93ed5-25ee-45f7-941e-b538ede8445e",
   "metadata": {
    "tags": []
   },
   "outputs": [],
   "source": [
    "metadata=pd.read_csv('Alien_data/sample_metadata.tsv', sep='\\t')"
   ]
  },
  {
   "cell_type": "code",
   "execution_count": 11,
   "id": "093613c7-f16e-416b-b062-15ba58de7017",
   "metadata": {
    "collapsed": true,
    "jupyter": {
     "outputs_hidden": true
    },
    "tags": []
   },
   "outputs": [
    {
     "data": {
      "text/html": [
       "<div>\n",
       "<style scoped>\n",
       "    .dataframe tbody tr th:only-of-type {\n",
       "        vertical-align: middle;\n",
       "    }\n",
       "\n",
       "    .dataframe tbody tr th {\n",
       "        vertical-align: top;\n",
       "    }\n",
       "\n",
       "    .dataframe thead th {\n",
       "        text-align: right;\n",
       "    }\n",
       "</style>\n",
       "<table border=\"1\" class=\"dataframe\">\n",
       "  <thead>\n",
       "    <tr style=\"text-align: right;\">\n",
       "      <th></th>\n",
       "      <th>sampleid</th>\n",
       "      <th>stool_consistency</th>\n",
       "      <th>hct_source</th>\n",
       "      <th>disease</th>\n",
       "      <th>categorical_time_relative_to_engraftment</th>\n",
       "      <th>week_relative_to_hct</th>\n",
       "      <th>timepoint_of_transplant</th>\n",
       "      <th>day_relative_to_nearest_hct</th>\n",
       "      <th>alleged_abduction</th>\n",
       "    </tr>\n",
       "  </thead>\n",
       "  <tbody>\n",
       "    <tr>\n",
       "      <th>0</th>\n",
       "      <td>N4VICF</td>\n",
       "      <td>formed</td>\n",
       "      <td>cord</td>\n",
       "      <td>Myelodysplastic Syndromes</td>\n",
       "      <td>pre</td>\n",
       "      <td>one week before HCT</td>\n",
       "      <td>6.0</td>\n",
       "      <td>-6.0</td>\n",
       "      <td>non_abducted</td>\n",
       "    </tr>\n",
       "    <tr>\n",
       "      <th>1</th>\n",
       "      <td>8A0F9A</td>\n",
       "      <td>formed</td>\n",
       "      <td>cord</td>\n",
       "      <td>Leukemia</td>\n",
       "      <td>pre</td>\n",
       "      <td>two weeks before HCT</td>\n",
       "      <td>7.0</td>\n",
       "      <td>-7.0</td>\n",
       "      <td>non_abducted</td>\n",
       "    </tr>\n",
       "    <tr>\n",
       "      <th>2</th>\n",
       "      <td>5Y49IM</td>\n",
       "      <td>semi-formed</td>\n",
       "      <td>cord</td>\n",
       "      <td>Leukemia</td>\n",
       "      <td>peri</td>\n",
       "      <td>one week before HCT</td>\n",
       "      <td>7.0</td>\n",
       "      <td>0.0</td>\n",
       "      <td>abducted</td>\n",
       "    </tr>\n",
       "    <tr>\n",
       "      <th>3</th>\n",
       "      <td>ZKJI45</td>\n",
       "      <td>semi-formed</td>\n",
       "      <td>cord</td>\n",
       "      <td>Leukemia</td>\n",
       "      <td>post</td>\n",
       "      <td>one week after HCT</td>\n",
       "      <td>7.0</td>\n",
       "      <td>8.0</td>\n",
       "      <td>non_abducted</td>\n",
       "    </tr>\n",
       "    <tr>\n",
       "      <th>4</th>\n",
       "      <td>2I7SIQ</td>\n",
       "      <td>liquid</td>\n",
       "      <td>cord</td>\n",
       "      <td>Leukemia</td>\n",
       "      <td>peri</td>\n",
       "      <td>one week before HCT</td>\n",
       "      <td>0.0</td>\n",
       "      <td>0.0</td>\n",
       "      <td>abducted</td>\n",
       "    </tr>\n",
       "    <tr>\n",
       "      <th>...</th>\n",
       "      <td>...</td>\n",
       "      <td>...</td>\n",
       "      <td>...</td>\n",
       "      <td>...</td>\n",
       "      <td>...</td>\n",
       "      <td>...</td>\n",
       "      <td>...</td>\n",
       "      <td>...</td>\n",
       "      <td>...</td>\n",
       "    </tr>\n",
       "    <tr>\n",
       "      <th>156</th>\n",
       "      <td>HCMB0Y</td>\n",
       "      <td>formed</td>\n",
       "      <td>PBSC_unmodified</td>\n",
       "      <td>Leukemia</td>\n",
       "      <td>pre</td>\n",
       "      <td>two weeks before HCT</td>\n",
       "      <td>9.0</td>\n",
       "      <td>-9.0</td>\n",
       "      <td>non_abducted</td>\n",
       "    </tr>\n",
       "    <tr>\n",
       "      <th>157</th>\n",
       "      <td>P0A2X1</td>\n",
       "      <td>semi-formed</td>\n",
       "      <td>PBSC_unmodified</td>\n",
       "      <td>Leukemia</td>\n",
       "      <td>pre</td>\n",
       "      <td>one week before HCT</td>\n",
       "      <td>9.0</td>\n",
       "      <td>-3.0</td>\n",
       "      <td>non_abducted</td>\n",
       "    </tr>\n",
       "    <tr>\n",
       "      <th>158</th>\n",
       "      <td>F89RLS</td>\n",
       "      <td>semi-formed</td>\n",
       "      <td>PBSC_unmodified</td>\n",
       "      <td>Non-Hodgkin's Lymphoma</td>\n",
       "      <td>pre</td>\n",
       "      <td>one week before HCT</td>\n",
       "      <td>3.0</td>\n",
       "      <td>-3.0</td>\n",
       "      <td>non_abducted</td>\n",
       "    </tr>\n",
       "    <tr>\n",
       "      <th>159</th>\n",
       "      <td>ZQT8ZN</td>\n",
       "      <td>liquid</td>\n",
       "      <td>PBSC_unmodified</td>\n",
       "      <td>Non-Hodgkin's Lymphoma</td>\n",
       "      <td>pre</td>\n",
       "      <td>one week before HCT</td>\n",
       "      <td>3.0</td>\n",
       "      <td>-1.0</td>\n",
       "      <td>non_abducted</td>\n",
       "    </tr>\n",
       "    <tr>\n",
       "      <th>160</th>\n",
       "      <td>62ARKK</td>\n",
       "      <td>formed</td>\n",
       "      <td>PBSC_unmodified</td>\n",
       "      <td>Leukemia</td>\n",
       "      <td>pre</td>\n",
       "      <td>one week before HCT</td>\n",
       "      <td>3.0</td>\n",
       "      <td>-3.0</td>\n",
       "      <td>non_abducted</td>\n",
       "    </tr>\n",
       "  </tbody>\n",
       "</table>\n",
       "<p>161 rows × 9 columns</p>\n",
       "</div>"
      ],
      "text/plain": [
       "    sampleid stool_consistency       hct_source                    disease  \\\n",
       "0     N4VICF            formed             cord  Myelodysplastic Syndromes   \n",
       "1     8A0F9A            formed             cord                   Leukemia   \n",
       "2     5Y49IM       semi-formed             cord                   Leukemia   \n",
       "3     ZKJI45       semi-formed             cord                   Leukemia   \n",
       "4     2I7SIQ            liquid             cord                   Leukemia   \n",
       "..       ...               ...              ...                        ...   \n",
       "156   HCMB0Y            formed  PBSC_unmodified                   Leukemia   \n",
       "157   P0A2X1       semi-formed  PBSC_unmodified                   Leukemia   \n",
       "158   F89RLS       semi-formed  PBSC_unmodified     Non-Hodgkin's Lymphoma   \n",
       "159   ZQT8ZN            liquid  PBSC_unmodified     Non-Hodgkin's Lymphoma   \n",
       "160   62ARKK            formed  PBSC_unmodified                   Leukemia   \n",
       "\n",
       "    categorical_time_relative_to_engraftment  week_relative_to_hct  \\\n",
       "0                                        pre   one week before HCT   \n",
       "1                                        pre  two weeks before HCT   \n",
       "2                                       peri   one week before HCT   \n",
       "3                                       post    one week after HCT   \n",
       "4                                       peri   one week before HCT   \n",
       "..                                       ...                   ...   \n",
       "156                                      pre  two weeks before HCT   \n",
       "157                                      pre   one week before HCT   \n",
       "158                                      pre   one week before HCT   \n",
       "159                                      pre   one week before HCT   \n",
       "160                                      pre   one week before HCT   \n",
       "\n",
       "    timepoint_of_transplant day_relative_to_nearest_hct alleged_abduction  \n",
       "0                       6.0                        -6.0      non_abducted  \n",
       "1                       7.0                        -7.0      non_abducted  \n",
       "2                       7.0                         0.0          abducted  \n",
       "3                       7.0                         8.0      non_abducted  \n",
       "4                       0.0                         0.0          abducted  \n",
       "..                      ...                         ...               ...  \n",
       "156                     9.0                        -9.0      non_abducted  \n",
       "157                     9.0                        -3.0      non_abducted  \n",
       "158                     3.0                        -3.0      non_abducted  \n",
       "159                     3.0                        -1.0      non_abducted  \n",
       "160                     3.0                        -3.0      non_abducted  \n",
       "\n",
       "[161 rows x 9 columns]"
      ]
     },
     "execution_count": 11,
     "metadata": {},
     "output_type": "execute_result"
    }
   ],
   "source": [
    "metadata['alleged_abduction']= metadata['alleged_abduction'].values.astype(str)\n",
    "metadata['alleged_abduction'] = metadata['alleged_abduction'].str.replace('0','non_abducted')\n",
    "metadata['alleged_abduction'] = metadata['alleged_abduction'].str.replace('1','abducted')\n",
    "metadata['week_relative_to_hct']= metadata['week_relative_to_hct'].values.astype(str)\n",
    "metadata['week_relative_to_hct']= metadata['week_relative_to_hct'].str.replace('-1.0','one week before HCT', regex=False)\n",
    "metadata['week_relative_to_hct']= metadata['week_relative_to_hct'].str.replace('-2.0','two weeks before HCT', regex=False)\n",
    "metadata['week_relative_to_hct']= metadata['week_relative_to_hct'].str.replace('1.0','one week after HCT', regex=False)\n",
    "metadata['week_relative_to_hct']= metadata['week_relative_to_hct'].str.replace('2.0','two weeks before HCT', regex=False)\n",
    "metadata['week_relative_to_hct']= metadata['week_relative_to_hct'].str.replace('0.0','HCT week', regex=False)"
   ]
  },
  {
   "cell_type": "code",
   "execution_count": 12,
   "id": "aa348b45-a056-4eb5-8bfd-5cf8cf625cfa",
   "metadata": {
    "tags": []
   },
   "outputs": [],
   "source": [
    "metadata.to_csv('Alien_data/str_metadata.tsv', sep='\\t', encoding='utf-8', escapechar='\\n', index=False)"
   ]
  },
  {
   "cell_type": "code",
   "execution_count": 7,
   "id": "7f1d4d11-e7ba-4bf7-ae45-477699a10f3d",
   "metadata": {
    "tags": []
   },
   "outputs": [
    {
     "name": "stdout",
     "output_type": "stream",
     "text": [
      "\u001b[32mSaved Visualization to: Alien_data/feature_table_filtered.qzv\u001b[0m\n",
      "\u001b[0m"
     ]
    }
   ],
   "source": [
    "! qiime feature-table summarize \\\n",
    "  --i-table $data_dir/table-filtered.qza \\\n",
    "  --m-sample-metadata-file $data_dir/str_metadata.tsv \\\n",
    "  --o-visualization $data_dir/feature_table_filtered.qzv"
   ]
  },
  {
   "cell_type": "code",
   "execution_count": 8,
   "id": "20cf3cf2-20ef-4dbf-9b8a-71411d634b1f",
   "metadata": {
    "tags": []
   },
   "outputs": [
    {
     "data": {
      "text/html": [
       "<div><img onload=\"(function(div, url){\n",
       "if (typeof require !== 'undefined') {\n",
       "    var baseURL = require.toUrl('').split('/').slice(0, -2).join('/');\n",
       "} else {\n",
       "    var baseURL = JSON.parse(\n",
       "        document.getElementById('jupyter-config-data').innerHTML\n",
       "    ).baseUrl.slice(0, -1);\n",
       "}\n",
       "url = baseURL + url;\n",
       "fetch(url).then(function(res) {\n",
       "    if (res.status === 404) {\n",
       "        div.innerHTML = 'Install QIIME 2 Jupyter extension with:<br />' +\n",
       "                        '<code>jupyter serverextension enable --py qiime2' +\n",
       "                        ' --sys-prefix</code><br />then restart your server.' +\n",
       "                        '<br /><br />(Interactive output not available on ' +\n",
       "                        'static notebook viewer services like nbviewer.)';\n",
       "    } else if (res.status === 409) {\n",
       "        div.innerHTML = 'Visualization no longer in scope. Re-run this cell' +\n",
       "                        ' to see the visualization.';\n",
       "    } else if (res.ok) {\n",
       "        url = res.url;\n",
       "        div.innerHTML = '<iframe src=\\'' + url + '\\' style=\\'' +\n",
       "                        'width: 100%; height: 700px; border: 0;\\'>' +\n",
       "                        '</iframe><hr />Open in a: <a href=\\'' + url + '\\'' +\n",
       "                        ' target=\\'_blank\\'>new window</a>'\n",
       "    } else {\n",
       "        div.innerHTML = 'Something has gone wrong. Check notebook server for' +\n",
       "                        ' errors.';\n",
       "    }\n",
       "});\n",
       "})(this.parentElement, '/qiime2/redirect?location=/tmp/qiime2-archive-kcas1gbd')\" src=\"data:image/gif;base64,R0lGODlhAQABAIAAAP///wAAACH5BAEAAAAALAAAAAABAAEAAAICRAEAOw==\" /></div>"
      ],
      "text/plain": [
       "<visualization: Visualization uuid: 3e5dbd11-171e-4da0-bf74-1d211b387894>"
      ]
     },
     "execution_count": 8,
     "metadata": {},
     "output_type": "execute_result"
    }
   ],
   "source": [
    "Visualization.load(f'{data_dir}/feature_table_filtered.qzv')"
   ]
  },
  {
   "cell_type": "markdown",
   "id": "765f7327-a7d3-4dbc-a695-78631783eedd",
   "metadata": {},
   "source": [
    "### **Alpha rarefaction using the fragment insert tree:**"
   ]
  },
  {
   "cell_type": "code",
   "execution_count": 9,
   "id": "b0562340-745d-4f9d-a957-805601fec137",
   "metadata": {
    "tags": []
   },
   "outputs": [
    {
     "name": "stdout",
     "output_type": "stream",
     "text": [
      "\u001b[32mSaved Visualization to: Alien_data/alpha-rarefaction.qzv\u001b[0m\n",
      "\u001b[0m"
     ]
    }
   ],
   "source": [
    "# show rarefaction plot (we can also try to increase the depth) \n",
    "! qiime diversity alpha-rarefaction \\\n",
    "    --i-table $data_dir/table-filtered.qza \\\n",
    "    --i-phylogeny $data_dir/sepp-tree.qza \\\n",
    "    --p-max-depth 10000 \\\n",
    "    --m-metadata-file $data_dir/str_metadata.tsv \\\n",
    "    --o-visualization $data_dir/alpha-rarefaction.qzv"
   ]
  },
  {
   "cell_type": "code",
   "execution_count": 10,
   "id": "c343a1de-df64-4dd5-87e2-90c38b60c785",
   "metadata": {
    "tags": []
   },
   "outputs": [
    {
     "data": {
      "text/html": [
       "<div><img onload=\"(function(div, url){\n",
       "if (typeof require !== 'undefined') {\n",
       "    var baseURL = require.toUrl('').split('/').slice(0, -2).join('/');\n",
       "} else {\n",
       "    var baseURL = JSON.parse(\n",
       "        document.getElementById('jupyter-config-data').innerHTML\n",
       "    ).baseUrl.slice(0, -1);\n",
       "}\n",
       "url = baseURL + url;\n",
       "fetch(url).then(function(res) {\n",
       "    if (res.status === 404) {\n",
       "        div.innerHTML = 'Install QIIME 2 Jupyter extension with:<br />' +\n",
       "                        '<code>jupyter serverextension enable --py qiime2' +\n",
       "                        ' --sys-prefix</code><br />then restart your server.' +\n",
       "                        '<br /><br />(Interactive output not available on ' +\n",
       "                        'static notebook viewer services like nbviewer.)';\n",
       "    } else if (res.status === 409) {\n",
       "        div.innerHTML = 'Visualization no longer in scope. Re-run this cell' +\n",
       "                        ' to see the visualization.';\n",
       "    } else if (res.ok) {\n",
       "        url = res.url;\n",
       "        div.innerHTML = '<iframe src=\\'' + url + '\\' style=\\'' +\n",
       "                        'width: 100%; height: 700px; border: 0;\\'>' +\n",
       "                        '</iframe><hr />Open in a: <a href=\\'' + url + '\\'' +\n",
       "                        ' target=\\'_blank\\'>new window</a>'\n",
       "    } else {\n",
       "        div.innerHTML = 'Something has gone wrong. Check notebook server for' +\n",
       "                        ' errors.';\n",
       "    }\n",
       "});\n",
       "})(this.parentElement, '/qiime2/redirect?location=/tmp/qiime2-archive-cbsvlbhu')\" src=\"data:image/gif;base64,R0lGODlhAQABAIAAAP///wAAACH5BAEAAAAALAAAAAABAAEAAAICRAEAOw==\" /></div>"
      ],
      "text/plain": [
       "<visualization: Visualization uuid: 323ba8ef-a095-4dc0-be8f-01956f365f9e>"
      ]
     },
     "execution_count": 10,
     "metadata": {},
     "output_type": "execute_result"
    }
   ],
   "source": [
    "Visualization.load(f'{data_dir}/alpha-rarefaction.qzv')"
   ]
  },
  {
   "cell_type": "markdown",
   "id": "5d6f606f-c0b6-460e-8f70-39abce0d715a",
   "metadata": {},
   "source": [
    "### Alpha rarefaction using the de novo tree (an alternative but not suggested):"
   ]
  },
  {
   "cell_type": "code",
   "execution_count": 11,
   "id": "8dcb463f-32d8-47a7-8b16-deb703152b6a",
   "metadata": {},
   "outputs": [],
   "source": [
    "# A slightly different plot by using the bootstraped tree, but the trends are similar:\n",
    "#! qiime diversity alpha-rarefaction \\\n",
    "#    --i-table $data_dir/table-filtered.qza \\\n",
    "#    --i-phylogeny $data_dir/raxml-cat-bootstrap-rooted.qza \\\n",
    "#    --p-max-depth 10000 \\\n",
    "#    --m-metadata-file $data_dir/sample_metadata.tsv \\\n",
    "#   --o-visualization $data_dir/alpha-rarefaction-denovo.qzv"
   ]
  },
  {
   "cell_type": "code",
   "execution_count": 12,
   "id": "1fb8ce9a-6355-43b3-a397-c56b9f78f0fd",
   "metadata": {
    "tags": []
   },
   "outputs": [],
   "source": [
    "# Visualization.load(f'{data_dir}/alpha-rarefaction-denovo.qzv')"
   ]
  },
  {
   "cell_type": "markdown",
   "id": "8ac9d628-d560-45d5-86d6-f9519e7062f9",
   "metadata": {},
   "source": [
    "### **Diversity analysis**"
   ]
  },
  {
   "cell_type": "code",
   "execution_count": 13,
   "id": "733e5fe5-ba1e-4c2c-9ef9-7d66b3ec6676",
   "metadata": {
    "tags": []
   },
   "outputs": [
    {
     "name": "stdout",
     "output_type": "stream",
     "text": [
      "\u001b[32mSaved FeatureTable[Frequency] to: Alien_data/core-metrics-results/rarefied_table.qza\u001b[0m\n",
      "\u001b[32mSaved SampleData[AlphaDiversity] to: Alien_data/core-metrics-results/faith_pd_vector.qza\u001b[0m\n",
      "\u001b[32mSaved SampleData[AlphaDiversity] to: Alien_data/core-metrics-results/observed_features_vector.qza\u001b[0m\n",
      "\u001b[32mSaved SampleData[AlphaDiversity] to: Alien_data/core-metrics-results/shannon_vector.qza\u001b[0m\n",
      "\u001b[32mSaved SampleData[AlphaDiversity] to: Alien_data/core-metrics-results/evenness_vector.qza\u001b[0m\n",
      "\u001b[32mSaved DistanceMatrix to: Alien_data/core-metrics-results/unweighted_unifrac_distance_matrix.qza\u001b[0m\n",
      "\u001b[32mSaved DistanceMatrix to: Alien_data/core-metrics-results/weighted_unifrac_distance_matrix.qza\u001b[0m\n",
      "\u001b[32mSaved DistanceMatrix to: Alien_data/core-metrics-results/jaccard_distance_matrix.qza\u001b[0m\n",
      "\u001b[32mSaved DistanceMatrix to: Alien_data/core-metrics-results/bray_curtis_distance_matrix.qza\u001b[0m\n",
      "\u001b[32mSaved PCoAResults to: Alien_data/core-metrics-results/unweighted_unifrac_pcoa_results.qza\u001b[0m\n",
      "\u001b[32mSaved PCoAResults to: Alien_data/core-metrics-results/weighted_unifrac_pcoa_results.qza\u001b[0m\n",
      "\u001b[32mSaved PCoAResults to: Alien_data/core-metrics-results/jaccard_pcoa_results.qza\u001b[0m\n",
      "\u001b[32mSaved PCoAResults to: Alien_data/core-metrics-results/bray_curtis_pcoa_results.qza\u001b[0m\n",
      "\u001b[32mSaved Visualization to: Alien_data/core-metrics-results/unweighted_unifrac_emperor.qzv\u001b[0m\n",
      "\u001b[32mSaved Visualization to: Alien_data/core-metrics-results/weighted_unifrac_emperor.qzv\u001b[0m\n",
      "\u001b[32mSaved Visualization to: Alien_data/core-metrics-results/jaccard_emperor.qzv\u001b[0m\n",
      "\u001b[32mSaved Visualization to: Alien_data/core-metrics-results/bray_curtis_emperor.qzv\u001b[0m\n",
      "\u001b[0m"
     ]
    }
   ],
   "source": [
    "# sampling depth of 3000 is chosen (we can discuss which is the best depth to chose)\n",
    "# 4000?\n",
    "! qiime diversity core-metrics-phylogenetic \\\n",
    "  --i-table $data_dir/table-filtered.qza \\\n",
    "  --i-phylogeny $data_dir/sepp-tree.qza \\\n",
    "  --m-metadata-file $data_dir/str_metadata.tsv \\\n",
    "  --p-sampling-depth 3000 \\\n",
    "  --output-dir $data_dir/core-metrics-results"
   ]
  },
  {
   "cell_type": "markdown",
   "id": "6e2decec-c60c-42eb-9c04-6419b4375663",
   "metadata": {},
   "source": [
    "**Test the associations between categorical metadata columns with the corresponding diversity metrics**: "
   ]
  },
  {
   "cell_type": "code",
   "execution_count": 15,
   "id": "470c3fd5-91bf-4101-9c5f-cfb8167f4a3a",
   "metadata": {},
   "outputs": [
    {
     "name": "stdout",
     "output_type": "stream",
     "text": [
      "\u001b[32mSaved Visualization to: Alien_data/core-metrics-results/faith-pd-group-significance.qzv\u001b[0m\n",
      "\u001b[0m"
     ]
    }
   ],
   "source": [
    "! qiime diversity alpha-group-significance \\\n",
    "  --i-alpha-diversity $data_dir/core-metrics-results/faith_pd_vector.qza \\\n",
    "  --m-metadata-file $data_dir/str_metadata.tsv \\\n",
    "  --o-visualization $data_dir/core-metrics-results/faith-pd-group-significance.qzv"
   ]
  },
  {
   "cell_type": "code",
   "execution_count": 16,
   "id": "c3ef4dc2-46e9-4db1-8f5a-41d2ab228523",
   "metadata": {
    "tags": []
   },
   "outputs": [
    {
     "data": {
      "text/html": [
       "<div><img onload=\"(function(div, url){\n",
       "if (typeof require !== 'undefined') {\n",
       "    var baseURL = require.toUrl('').split('/').slice(0, -2).join('/');\n",
       "} else {\n",
       "    var baseURL = JSON.parse(\n",
       "        document.getElementById('jupyter-config-data').innerHTML\n",
       "    ).baseUrl.slice(0, -1);\n",
       "}\n",
       "url = baseURL + url;\n",
       "fetch(url).then(function(res) {\n",
       "    if (res.status === 404) {\n",
       "        div.innerHTML = 'Install QIIME 2 Jupyter extension with:<br />' +\n",
       "                        '<code>jupyter serverextension enable --py qiime2' +\n",
       "                        ' --sys-prefix</code><br />then restart your server.' +\n",
       "                        '<br /><br />(Interactive output not available on ' +\n",
       "                        'static notebook viewer services like nbviewer.)';\n",
       "    } else if (res.status === 409) {\n",
       "        div.innerHTML = 'Visualization no longer in scope. Re-run this cell' +\n",
       "                        ' to see the visualization.';\n",
       "    } else if (res.ok) {\n",
       "        url = res.url;\n",
       "        div.innerHTML = '<iframe src=\\'' + url + '\\' style=\\'' +\n",
       "                        'width: 100%; height: 700px; border: 0;\\'>' +\n",
       "                        '</iframe><hr />Open in a: <a href=\\'' + url + '\\'' +\n",
       "                        ' target=\\'_blank\\'>new window</a>'\n",
       "    } else {\n",
       "        div.innerHTML = 'Something has gone wrong. Check notebook server for' +\n",
       "                        ' errors.';\n",
       "    }\n",
       "});\n",
       "})(this.parentElement, '/qiime2/redirect?location=/tmp/qiime2-archive-m7ev5e6k')\" src=\"data:image/gif;base64,R0lGODlhAQABAIAAAP///wAAACH5BAEAAAAALAAAAAABAAEAAAICRAEAOw==\" /></div>"
      ],
      "text/plain": [
       "<visualization: Visualization uuid: 25131dda-6a4e-4397-b3bb-d1289bd6869a>"
      ]
     },
     "execution_count": 16,
     "metadata": {},
     "output_type": "execute_result"
    }
   ],
   "source": [
    "Visualization.load(f'{data_dir}/core-metrics-results/faith-pd-group-significance.qzv')"
   ]
  },
  {
   "cell_type": "code",
   "execution_count": 17,
   "id": "764462b6-e1a0-4247-935f-46b0acae1136",
   "metadata": {},
   "outputs": [
    {
     "name": "stdout",
     "output_type": "stream",
     "text": [
      "\u001b[32mSaved Visualization to: Alien_data/core-metrics-results/observed-features-group-significance.qzv\u001b[0m\n",
      "\u001b[0m"
     ]
    }
   ],
   "source": [
    "! qiime diversity alpha-group-significance \\\n",
    "  --i-alpha-diversity $data_dir/core-metrics-results/observed_features_vector.qza \\\n",
    "  --m-metadata-file $data_dir/str_metadata.tsv \\\n",
    "  --o-visualization $data_dir/core-metrics-results/observed-features-group-significance.qzv"
   ]
  },
  {
   "cell_type": "code",
   "execution_count": 18,
   "id": "64dddf1d-5f17-4df0-8198-b2e09e021bef",
   "metadata": {
    "tags": []
   },
   "outputs": [
    {
     "data": {
      "text/html": [
       "<div><img onload=\"(function(div, url){\n",
       "if (typeof require !== 'undefined') {\n",
       "    var baseURL = require.toUrl('').split('/').slice(0, -2).join('/');\n",
       "} else {\n",
       "    var baseURL = JSON.parse(\n",
       "        document.getElementById('jupyter-config-data').innerHTML\n",
       "    ).baseUrl.slice(0, -1);\n",
       "}\n",
       "url = baseURL + url;\n",
       "fetch(url).then(function(res) {\n",
       "    if (res.status === 404) {\n",
       "        div.innerHTML = 'Install QIIME 2 Jupyter extension with:<br />' +\n",
       "                        '<code>jupyter serverextension enable --py qiime2' +\n",
       "                        ' --sys-prefix</code><br />then restart your server.' +\n",
       "                        '<br /><br />(Interactive output not available on ' +\n",
       "                        'static notebook viewer services like nbviewer.)';\n",
       "    } else if (res.status === 409) {\n",
       "        div.innerHTML = 'Visualization no longer in scope. Re-run this cell' +\n",
       "                        ' to see the visualization.';\n",
       "    } else if (res.ok) {\n",
       "        url = res.url;\n",
       "        div.innerHTML = '<iframe src=\\'' + url + '\\' style=\\'' +\n",
       "                        'width: 100%; height: 700px; border: 0;\\'>' +\n",
       "                        '</iframe><hr />Open in a: <a href=\\'' + url + '\\'' +\n",
       "                        ' target=\\'_blank\\'>new window</a>'\n",
       "    } else {\n",
       "        div.innerHTML = 'Something has gone wrong. Check notebook server for' +\n",
       "                        ' errors.';\n",
       "    }\n",
       "});\n",
       "})(this.parentElement, '/qiime2/redirect?location=/tmp/qiime2-archive-a5i4q4us')\" src=\"data:image/gif;base64,R0lGODlhAQABAIAAAP///wAAACH5BAEAAAAALAAAAAABAAEAAAICRAEAOw==\" /></div>"
      ],
      "text/plain": [
       "<visualization: Visualization uuid: bbb2f3d6-4884-4f4f-a265-b6af7739689c>"
      ]
     },
     "execution_count": 18,
     "metadata": {},
     "output_type": "execute_result"
    }
   ],
   "source": [
    "Visualization.load(f'{data_dir}/core-metrics-results/observed-features-group-significance.qzv')"
   ]
  },
  {
   "cell_type": "code",
   "execution_count": 19,
   "id": "c9b0e2bf-48ae-4065-890a-99bbd6c63627",
   "metadata": {},
   "outputs": [
    {
     "name": "stdout",
     "output_type": "stream",
     "text": [
      "\u001b[32mSaved Visualization to: Alien_data/core-metrics-results/shannon-group-significance.qzv\u001b[0m\n",
      "\u001b[0m"
     ]
    }
   ],
   "source": [
    "! qiime diversity alpha-group-significance \\\n",
    "  --i-alpha-diversity $data_dir/core-metrics-results/shannon_vector.qza \\\n",
    "  --m-metadata-file $data_dir/str_metadata.tsv \\\n",
    "  --o-visualization $data_dir/core-metrics-results/shannon-group-significance.qzv"
   ]
  },
  {
   "cell_type": "code",
   "execution_count": 20,
   "id": "79b56370-ce11-49f9-a020-75ac76500629",
   "metadata": {
    "tags": []
   },
   "outputs": [
    {
     "data": {
      "text/html": [
       "<div><img onload=\"(function(div, url){\n",
       "if (typeof require !== 'undefined') {\n",
       "    var baseURL = require.toUrl('').split('/').slice(0, -2).join('/');\n",
       "} else {\n",
       "    var baseURL = JSON.parse(\n",
       "        document.getElementById('jupyter-config-data').innerHTML\n",
       "    ).baseUrl.slice(0, -1);\n",
       "}\n",
       "url = baseURL + url;\n",
       "fetch(url).then(function(res) {\n",
       "    if (res.status === 404) {\n",
       "        div.innerHTML = 'Install QIIME 2 Jupyter extension with:<br />' +\n",
       "                        '<code>jupyter serverextension enable --py qiime2' +\n",
       "                        ' --sys-prefix</code><br />then restart your server.' +\n",
       "                        '<br /><br />(Interactive output not available on ' +\n",
       "                        'static notebook viewer services like nbviewer.)';\n",
       "    } else if (res.status === 409) {\n",
       "        div.innerHTML = 'Visualization no longer in scope. Re-run this cell' +\n",
       "                        ' to see the visualization.';\n",
       "    } else if (res.ok) {\n",
       "        url = res.url;\n",
       "        div.innerHTML = '<iframe src=\\'' + url + '\\' style=\\'' +\n",
       "                        'width: 100%; height: 700px; border: 0;\\'>' +\n",
       "                        '</iframe><hr />Open in a: <a href=\\'' + url + '\\'' +\n",
       "                        ' target=\\'_blank\\'>new window</a>'\n",
       "    } else {\n",
       "        div.innerHTML = 'Something has gone wrong. Check notebook server for' +\n",
       "                        ' errors.';\n",
       "    }\n",
       "});\n",
       "})(this.parentElement, '/qiime2/redirect?location=/tmp/qiime2-archive-7wtzar3n')\" src=\"data:image/gif;base64,R0lGODlhAQABAIAAAP///wAAACH5BAEAAAAALAAAAAABAAEAAAICRAEAOw==\" /></div>"
      ],
      "text/plain": [
       "<visualization: Visualization uuid: ae1d9dd5-cc44-49e7-a05d-fc698246bd9d>"
      ]
     },
     "execution_count": 20,
     "metadata": {},
     "output_type": "execute_result"
    }
   ],
   "source": [
    "Visualization.load(f'{data_dir}/core-metrics-results/shannon-group-significance.qzv')"
   ]
  },
  {
   "cell_type": "code",
   "execution_count": 21,
   "id": "73e3abfa-2f70-4040-b4f4-6333cfe44167",
   "metadata": {},
   "outputs": [
    {
     "name": "stdout",
     "output_type": "stream",
     "text": [
      "\u001b[32mSaved Visualization to: Alien_data/core-metrics-results/evenness-vector-group-significance.qzv\u001b[0m\n",
      "\u001b[0m"
     ]
    }
   ],
   "source": [
    "! qiime diversity alpha-group-significance \\\n",
    "  --i-alpha-diversity $data_dir/core-metrics-results/evenness_vector.qza \\\n",
    "  --m-metadata-file $data_dir/str_metadata.tsv \\\n",
    "  --o-visualization $data_dir/core-metrics-results/evenness-vector-group-significance.qzv"
   ]
  },
  {
   "cell_type": "code",
   "execution_count": 22,
   "id": "03dc3259-adde-442f-8419-64543566d400",
   "metadata": {
    "tags": []
   },
   "outputs": [
    {
     "data": {
      "text/html": [
       "<div><img onload=\"(function(div, url){\n",
       "if (typeof require !== 'undefined') {\n",
       "    var baseURL = require.toUrl('').split('/').slice(0, -2).join('/');\n",
       "} else {\n",
       "    var baseURL = JSON.parse(\n",
       "        document.getElementById('jupyter-config-data').innerHTML\n",
       "    ).baseUrl.slice(0, -1);\n",
       "}\n",
       "url = baseURL + url;\n",
       "fetch(url).then(function(res) {\n",
       "    if (res.status === 404) {\n",
       "        div.innerHTML = 'Install QIIME 2 Jupyter extension with:<br />' +\n",
       "                        '<code>jupyter serverextension enable --py qiime2' +\n",
       "                        ' --sys-prefix</code><br />then restart your server.' +\n",
       "                        '<br /><br />(Interactive output not available on ' +\n",
       "                        'static notebook viewer services like nbviewer.)';\n",
       "    } else if (res.status === 409) {\n",
       "        div.innerHTML = 'Visualization no longer in scope. Re-run this cell' +\n",
       "                        ' to see the visualization.';\n",
       "    } else if (res.ok) {\n",
       "        url = res.url;\n",
       "        div.innerHTML = '<iframe src=\\'' + url + '\\' style=\\'' +\n",
       "                        'width: 100%; height: 700px; border: 0;\\'>' +\n",
       "                        '</iframe><hr />Open in a: <a href=\\'' + url + '\\'' +\n",
       "                        ' target=\\'_blank\\'>new window</a>'\n",
       "    } else {\n",
       "        div.innerHTML = 'Something has gone wrong. Check notebook server for' +\n",
       "                        ' errors.';\n",
       "    }\n",
       "});\n",
       "})(this.parentElement, '/qiime2/redirect?location=/tmp/qiime2-archive-v3gkezqo')\" src=\"data:image/gif;base64,R0lGODlhAQABAIAAAP///wAAACH5BAEAAAAALAAAAAABAAEAAAICRAEAOw==\" /></div>"
      ],
      "text/plain": [
       "<visualization: Visualization uuid: 13978bfd-f292-4de2-bf8a-b72382b070a9>"
      ]
     },
     "execution_count": 22,
     "metadata": {},
     "output_type": "execute_result"
    }
   ],
   "source": [
    "Visualization.load(f'{data_dir}/core-metrics-results/evenness-vector-group-significance.qzv')"
   ]
  },
  {
   "cell_type": "markdown",
   "id": "3c30ecb4-db88-48f2-aeaf-fa3e258b2a95",
   "metadata": {},
   "source": [
    "**Next, test whether numeric sample metadata columns (day_relative_to_nearest_hct) are correlated with microbial community**:"
   ]
  },
  {
   "cell_type": "markdown",
   "id": "86e88815-76de-4f84-a037-ac34237daf88",
   "metadata": {},
   "source": [
    "* Inspect the entire `day` column:"
   ]
  },
  {
   "cell_type": "code",
   "execution_count": 23,
   "id": "6e005bd8-cf78-4a77-af41-1b9d1ee0ac39",
   "metadata": {},
   "outputs": [
    {
     "name": "stdout",
     "output_type": "stream",
     "text": [
      "\u001b[32mSaved Visualization to: Alien_data/core-metrics-results/faith-pd-group-significance-numeric.qzv\u001b[0m\n",
      "\u001b[0m"
     ]
    }
   ],
   "source": [
    "! qiime diversity alpha-correlation \\\n",
    "  --i-alpha-diversity $data_dir/core-metrics-results/faith_pd_vector.qza \\\n",
    "  --m-metadata-file $data_dir/str_metadata.tsv \\\n",
    "  --o-visualization $data_dir/core-metrics-results/faith-pd-group-significance-numeric.qzv"
   ]
  },
  {
   "cell_type": "code",
   "execution_count": 24,
   "id": "2ccbe781-8ddd-41be-9f65-5c4cda1b6f7f",
   "metadata": {
    "tags": []
   },
   "outputs": [
    {
     "data": {
      "text/html": [
       "<div><img onload=\"(function(div, url){\n",
       "if (typeof require !== 'undefined') {\n",
       "    var baseURL = require.toUrl('').split('/').slice(0, -2).join('/');\n",
       "} else {\n",
       "    var baseURL = JSON.parse(\n",
       "        document.getElementById('jupyter-config-data').innerHTML\n",
       "    ).baseUrl.slice(0, -1);\n",
       "}\n",
       "url = baseURL + url;\n",
       "fetch(url).then(function(res) {\n",
       "    if (res.status === 404) {\n",
       "        div.innerHTML = 'Install QIIME 2 Jupyter extension with:<br />' +\n",
       "                        '<code>jupyter serverextension enable --py qiime2' +\n",
       "                        ' --sys-prefix</code><br />then restart your server.' +\n",
       "                        '<br /><br />(Interactive output not available on ' +\n",
       "                        'static notebook viewer services like nbviewer.)';\n",
       "    } else if (res.status === 409) {\n",
       "        div.innerHTML = 'Visualization no longer in scope. Re-run this cell' +\n",
       "                        ' to see the visualization.';\n",
       "    } else if (res.ok) {\n",
       "        url = res.url;\n",
       "        div.innerHTML = '<iframe src=\\'' + url + '\\' style=\\'' +\n",
       "                        'width: 100%; height: 700px; border: 0;\\'>' +\n",
       "                        '</iframe><hr />Open in a: <a href=\\'' + url + '\\'' +\n",
       "                        ' target=\\'_blank\\'>new window</a>'\n",
       "    } else {\n",
       "        div.innerHTML = 'Something has gone wrong. Check notebook server for' +\n",
       "                        ' errors.';\n",
       "    }\n",
       "});\n",
       "})(this.parentElement, '/qiime2/redirect?location=/tmp/qiime2-archive-gravledt')\" src=\"data:image/gif;base64,R0lGODlhAQABAIAAAP///wAAACH5BAEAAAAALAAAAAABAAEAAAICRAEAOw==\" /></div>"
      ],
      "text/plain": [
       "<visualization: Visualization uuid: 98495c3e-97a7-4bc1-916f-4cf3fc6f9537>"
      ]
     },
     "execution_count": 24,
     "metadata": {},
     "output_type": "execute_result"
    }
   ],
   "source": [
    "Visualization.load(f'{data_dir}/core-metrics-results/faith-pd-group-significance-numeric.qzv')"
   ]
  },
  {
   "cell_type": "code",
   "execution_count": 25,
   "id": "3d6b0237-c55a-4998-a97c-b7305d6dd698",
   "metadata": {},
   "outputs": [
    {
     "name": "stdout",
     "output_type": "stream",
     "text": [
      "\u001b[32mSaved Visualization to: Alien_data/core-metrics-results/observed-features-group-significance-numeric.qzv\u001b[0m\n",
      "\u001b[0m"
     ]
    }
   ],
   "source": [
    "! qiime diversity alpha-correlation \\\n",
    "  --i-alpha-diversity $data_dir/core-metrics-results/observed_features_vector.qza \\\n",
    "  --m-metadata-file $data_dir/str_metadata.tsv \\\n",
    "  --o-visualization $data_dir/core-metrics-results/observed-features-group-significance-numeric.qzv"
   ]
  },
  {
   "cell_type": "code",
   "execution_count": 26,
   "id": "cab33067-47be-4d77-89f2-aaa8766c408f",
   "metadata": {
    "tags": []
   },
   "outputs": [
    {
     "data": {
      "text/html": [
       "<div><img onload=\"(function(div, url){\n",
       "if (typeof require !== 'undefined') {\n",
       "    var baseURL = require.toUrl('').split('/').slice(0, -2).join('/');\n",
       "} else {\n",
       "    var baseURL = JSON.parse(\n",
       "        document.getElementById('jupyter-config-data').innerHTML\n",
       "    ).baseUrl.slice(0, -1);\n",
       "}\n",
       "url = baseURL + url;\n",
       "fetch(url).then(function(res) {\n",
       "    if (res.status === 404) {\n",
       "        div.innerHTML = 'Install QIIME 2 Jupyter extension with:<br />' +\n",
       "                        '<code>jupyter serverextension enable --py qiime2' +\n",
       "                        ' --sys-prefix</code><br />then restart your server.' +\n",
       "                        '<br /><br />(Interactive output not available on ' +\n",
       "                        'static notebook viewer services like nbviewer.)';\n",
       "    } else if (res.status === 409) {\n",
       "        div.innerHTML = 'Visualization no longer in scope. Re-run this cell' +\n",
       "                        ' to see the visualization.';\n",
       "    } else if (res.ok) {\n",
       "        url = res.url;\n",
       "        div.innerHTML = '<iframe src=\\'' + url + '\\' style=\\'' +\n",
       "                        'width: 100%; height: 700px; border: 0;\\'>' +\n",
       "                        '</iframe><hr />Open in a: <a href=\\'' + url + '\\'' +\n",
       "                        ' target=\\'_blank\\'>new window</a>'\n",
       "    } else {\n",
       "        div.innerHTML = 'Something has gone wrong. Check notebook server for' +\n",
       "                        ' errors.';\n",
       "    }\n",
       "});\n",
       "})(this.parentElement, '/qiime2/redirect?location=/tmp/qiime2-archive-hhg_ci9l')\" src=\"data:image/gif;base64,R0lGODlhAQABAIAAAP///wAAACH5BAEAAAAALAAAAAABAAEAAAICRAEAOw==\" /></div>"
      ],
      "text/plain": [
       "<visualization: Visualization uuid: 9ef51a8f-011d-461a-9e5f-257c68ef56fb>"
      ]
     },
     "execution_count": 26,
     "metadata": {},
     "output_type": "execute_result"
    }
   ],
   "source": [
    "Visualization.load(f'{data_dir}/core-metrics-results/observed-features-group-significance-numeric.qzv')"
   ]
  },
  {
   "cell_type": "code",
   "execution_count": 27,
   "id": "7a9e7d30-1354-4f9c-9076-28e9bc36eb7e",
   "metadata": {},
   "outputs": [
    {
     "name": "stdout",
     "output_type": "stream",
     "text": [
      "\u001b[32mSaved Visualization to: Alien_data/core-metrics-results/shannon-group-significance-numeric.qzv\u001b[0m\n",
      "\u001b[0m"
     ]
    }
   ],
   "source": [
    "! qiime diversity alpha-correlation \\\n",
    "  --i-alpha-diversity $data_dir/core-metrics-results/shannon_vector.qza \\\n",
    "  --m-metadata-file $data_dir/str_metadata.tsv \\\n",
    "  --o-visualization $data_dir/core-metrics-results/shannon-group-significance-numeric.qzv"
   ]
  },
  {
   "cell_type": "code",
   "execution_count": 28,
   "id": "ca11f214-fced-4cea-b762-091bcce9e979",
   "metadata": {
    "tags": []
   },
   "outputs": [
    {
     "data": {
      "text/html": [
       "<div><img onload=\"(function(div, url){\n",
       "if (typeof require !== 'undefined') {\n",
       "    var baseURL = require.toUrl('').split('/').slice(0, -2).join('/');\n",
       "} else {\n",
       "    var baseURL = JSON.parse(\n",
       "        document.getElementById('jupyter-config-data').innerHTML\n",
       "    ).baseUrl.slice(0, -1);\n",
       "}\n",
       "url = baseURL + url;\n",
       "fetch(url).then(function(res) {\n",
       "    if (res.status === 404) {\n",
       "        div.innerHTML = 'Install QIIME 2 Jupyter extension with:<br />' +\n",
       "                        '<code>jupyter serverextension enable --py qiime2' +\n",
       "                        ' --sys-prefix</code><br />then restart your server.' +\n",
       "                        '<br /><br />(Interactive output not available on ' +\n",
       "                        'static notebook viewer services like nbviewer.)';\n",
       "    } else if (res.status === 409) {\n",
       "        div.innerHTML = 'Visualization no longer in scope. Re-run this cell' +\n",
       "                        ' to see the visualization.';\n",
       "    } else if (res.ok) {\n",
       "        url = res.url;\n",
       "        div.innerHTML = '<iframe src=\\'' + url + '\\' style=\\'' +\n",
       "                        'width: 100%; height: 700px; border: 0;\\'>' +\n",
       "                        '</iframe><hr />Open in a: <a href=\\'' + url + '\\'' +\n",
       "                        ' target=\\'_blank\\'>new window</a>'\n",
       "    } else {\n",
       "        div.innerHTML = 'Something has gone wrong. Check notebook server for' +\n",
       "                        ' errors.';\n",
       "    }\n",
       "});\n",
       "})(this.parentElement, '/qiime2/redirect?location=/tmp/qiime2-archive-asvxogpi')\" src=\"data:image/gif;base64,R0lGODlhAQABAIAAAP///wAAACH5BAEAAAAALAAAAAABAAEAAAICRAEAOw==\" /></div>"
      ],
      "text/plain": [
       "<visualization: Visualization uuid: 77db2a55-e8f4-488e-a960-ff0acedc1198>"
      ]
     },
     "execution_count": 28,
     "metadata": {},
     "output_type": "execute_result"
    }
   ],
   "source": [
    "Visualization.load(f'{data_dir}/core-metrics-results/shannon-group-significance-numeric.qzv')"
   ]
  },
  {
   "cell_type": "code",
   "execution_count": 29,
   "id": "1d9cad6c-b898-4bf0-9916-530c0783647f",
   "metadata": {},
   "outputs": [
    {
     "name": "stdout",
     "output_type": "stream",
     "text": [
      "\u001b[32mSaved Visualization to: Alien_data/core-metrics-results/evenness-vector-group-significance-numeric.qzv\u001b[0m\n",
      "\u001b[0m"
     ]
    }
   ],
   "source": [
    "! qiime diversity alpha-correlation \\\n",
    "  --i-alpha-diversity $data_dir/core-metrics-results/evenness_vector.qza \\\n",
    "  --m-metadata-file $data_dir/str_metadata.tsv \\\n",
    "  --o-visualization $data_dir/core-metrics-results/evenness-vector-group-significance-numeric.qzv"
   ]
  },
  {
   "cell_type": "code",
   "execution_count": 30,
   "id": "b8024578-39a9-4f57-badc-b39f3de384ac",
   "metadata": {},
   "outputs": [
    {
     "data": {
      "text/html": [
       "<div><img onload=\"(function(div, url){\n",
       "if (typeof require !== 'undefined') {\n",
       "    var baseURL = require.toUrl('').split('/').slice(0, -2).join('/');\n",
       "} else {\n",
       "    var baseURL = JSON.parse(\n",
       "        document.getElementById('jupyter-config-data').innerHTML\n",
       "    ).baseUrl.slice(0, -1);\n",
       "}\n",
       "url = baseURL + url;\n",
       "fetch(url).then(function(res) {\n",
       "    if (res.status === 404) {\n",
       "        div.innerHTML = 'Install QIIME 2 Jupyter extension with:<br />' +\n",
       "                        '<code>jupyter serverextension enable --py qiime2' +\n",
       "                        ' --sys-prefix</code><br />then restart your server.' +\n",
       "                        '<br /><br />(Interactive output not available on ' +\n",
       "                        'static notebook viewer services like nbviewer.)';\n",
       "    } else if (res.status === 409) {\n",
       "        div.innerHTML = 'Visualization no longer in scope. Re-run this cell' +\n",
       "                        ' to see the visualization.';\n",
       "    } else if (res.ok) {\n",
       "        url = res.url;\n",
       "        div.innerHTML = '<iframe src=\\'' + url + '\\' style=\\'' +\n",
       "                        'width: 100%; height: 700px; border: 0;\\'>' +\n",
       "                        '</iframe><hr />Open in a: <a href=\\'' + url + '\\'' +\n",
       "                        ' target=\\'_blank\\'>new window</a>'\n",
       "    } else {\n",
       "        div.innerHTML = 'Something has gone wrong. Check notebook server for' +\n",
       "                        ' errors.';\n",
       "    }\n",
       "});\n",
       "})(this.parentElement, '/qiime2/redirect?location=/tmp/qiime2-archive-95zf1ula')\" src=\"data:image/gif;base64,R0lGODlhAQABAIAAAP///wAAACH5BAEAAAAALAAAAAABAAEAAAICRAEAOw==\" /></div>"
      ],
      "text/plain": [
       "<visualization: Visualization uuid: 496f37f5-76c2-4b99-837f-030198ad970f>"
      ]
     },
     "execution_count": 30,
     "metadata": {},
     "output_type": "execute_result"
    }
   ],
   "source": [
    "Visualization.load(f'{data_dir}/core-metrics-results/evenness-vector-group-significance-numeric.qzv')"
   ]
  },
  {
   "cell_type": "markdown",
   "id": "eef392c0-2bd2-47df-8bfc-695390098fb2",
   "metadata": {},
   "source": [
    "* Subset the metadata `day` column and feature table samples into two categories: `before hct` and `after hct`:"
   ]
  },
  {
   "cell_type": "code",
   "execution_count": 31,
   "id": "3f858719-dbd9-40fc-b288-b156a64d2b53",
   "metadata": {},
   "outputs": [
    {
     "name": "stdout",
     "output_type": "stream",
     "text": [
      "\u001b[32mSaved FeatureTable[Frequency] to: Alien_data/before_hct_feature_table.qza\u001b[0m\n",
      "\u001b[0m"
     ]
    }
   ],
   "source": [
    "# before hct\n",
    "! qiime feature-table filter-samples \\\n",
    "    --i-table $data_dir/table-filtered.qza \\\n",
    "    --m-metadata-file $data_dir/str_metadata.tsv \\\n",
    "    --p-where \"[day_relative_to_nearest_hct]<'0' or [day_relative_to_nearest_hct]='0'\" \\\n",
    "    --o-filtered-table $data_dir/before_hct_feature_table.qza"
   ]
  },
  {
   "cell_type": "code",
   "execution_count": 32,
   "id": "81e4bc83-9a19-4a53-92b8-eb6041bcc99a",
   "metadata": {
    "tags": []
   },
   "outputs": [],
   "source": [
    "before_hct = pd.DataFrame(data=metadata[metadata['day_relative_to_nearest_hct'] <= 0])\n",
    "before_hct.to_csv('Alien_data/before_hct_metadata.tsv', sep='\\t', encoding='utf-8', escapechar='\\n', index=False)"
   ]
  },
  {
   "cell_type": "code",
   "execution_count": 33,
   "id": "eb7d81ad-9cd2-42e1-9247-975e220983f2",
   "metadata": {
    "tags": []
   },
   "outputs": [
    {
     "name": "stdout",
     "output_type": "stream",
     "text": [
      "\u001b[32mSaved FeatureTable[Frequency] to: Alien_data/core-metrics-results-before-hct/rarefied_table.qza\u001b[0m\n",
      "\u001b[32mSaved SampleData[AlphaDiversity] to: Alien_data/core-metrics-results-before-hct/faith_pd_vector.qza\u001b[0m\n",
      "\u001b[32mSaved SampleData[AlphaDiversity] to: Alien_data/core-metrics-results-before-hct/observed_features_vector.qza\u001b[0m\n",
      "\u001b[32mSaved SampleData[AlphaDiversity] to: Alien_data/core-metrics-results-before-hct/shannon_vector.qza\u001b[0m\n",
      "\u001b[32mSaved SampleData[AlphaDiversity] to: Alien_data/core-metrics-results-before-hct/evenness_vector.qza\u001b[0m\n",
      "\u001b[32mSaved DistanceMatrix to: Alien_data/core-metrics-results-before-hct/unweighted_unifrac_distance_matrix.qza\u001b[0m\n",
      "\u001b[32mSaved DistanceMatrix to: Alien_data/core-metrics-results-before-hct/weighted_unifrac_distance_matrix.qza\u001b[0m\n",
      "\u001b[32mSaved DistanceMatrix to: Alien_data/core-metrics-results-before-hct/jaccard_distance_matrix.qza\u001b[0m\n",
      "\u001b[32mSaved DistanceMatrix to: Alien_data/core-metrics-results-before-hct/bray_curtis_distance_matrix.qza\u001b[0m\n",
      "\u001b[32mSaved PCoAResults to: Alien_data/core-metrics-results-before-hct/unweighted_unifrac_pcoa_results.qza\u001b[0m\n",
      "\u001b[32mSaved PCoAResults to: Alien_data/core-metrics-results-before-hct/weighted_unifrac_pcoa_results.qza\u001b[0m\n",
      "\u001b[32mSaved PCoAResults to: Alien_data/core-metrics-results-before-hct/jaccard_pcoa_results.qza\u001b[0m\n",
      "\u001b[32mSaved PCoAResults to: Alien_data/core-metrics-results-before-hct/bray_curtis_pcoa_results.qza\u001b[0m\n",
      "\u001b[32mSaved Visualization to: Alien_data/core-metrics-results-before-hct/unweighted_unifrac_emperor.qzv\u001b[0m\n",
      "\u001b[32mSaved Visualization to: Alien_data/core-metrics-results-before-hct/weighted_unifrac_emperor.qzv\u001b[0m\n",
      "\u001b[32mSaved Visualization to: Alien_data/core-metrics-results-before-hct/jaccard_emperor.qzv\u001b[0m\n",
      "\u001b[32mSaved Visualization to: Alien_data/core-metrics-results-before-hct/bray_curtis_emperor.qzv\u001b[0m\n",
      "\u001b[0m"
     ]
    }
   ],
   "source": [
    "! qiime diversity core-metrics-phylogenetic \\\n",
    "  --i-table $data_dir/before_hct_feature_table.qza \\\n",
    "  --i-phylogeny $data_dir/sepp-tree.qza \\\n",
    "  --m-metadata-file $data_dir/before_hct_metadata.tsv \\\n",
    "  --p-sampling-depth 3000 \\\n",
    "  --output-dir $data_dir/core-metrics-results-before-hct"
   ]
  },
  {
   "cell_type": "code",
   "execution_count": 34,
   "id": "0e51d813-8035-4834-a763-2616809d52b5",
   "metadata": {},
   "outputs": [
    {
     "name": "stdout",
     "output_type": "stream",
     "text": [
      "\u001b[32mSaved Visualization to: Alien_data/core-metrics-results-before-hct/faith-pd-group-significance-numeric.qzv\u001b[0m\n",
      "\u001b[0m"
     ]
    }
   ],
   "source": [
    "! qiime diversity alpha-correlation \\\n",
    "  --i-alpha-diversity $data_dir/core-metrics-results-before-hct/faith_pd_vector.qza \\\n",
    "  --m-metadata-file $data_dir/before_hct_metadata.tsv \\\n",
    "  --o-visualization $data_dir/core-metrics-results-before-hct/faith-pd-group-significance-numeric.qzv"
   ]
  },
  {
   "cell_type": "code",
   "execution_count": 35,
   "id": "d6b6a681-851e-41a4-8974-4bedc17aef73",
   "metadata": {
    "tags": []
   },
   "outputs": [
    {
     "data": {
      "text/html": [
       "<div><img onload=\"(function(div, url){\n",
       "if (typeof require !== 'undefined') {\n",
       "    var baseURL = require.toUrl('').split('/').slice(0, -2).join('/');\n",
       "} else {\n",
       "    var baseURL = JSON.parse(\n",
       "        document.getElementById('jupyter-config-data').innerHTML\n",
       "    ).baseUrl.slice(0, -1);\n",
       "}\n",
       "url = baseURL + url;\n",
       "fetch(url).then(function(res) {\n",
       "    if (res.status === 404) {\n",
       "        div.innerHTML = 'Install QIIME 2 Jupyter extension with:<br />' +\n",
       "                        '<code>jupyter serverextension enable --py qiime2' +\n",
       "                        ' --sys-prefix</code><br />then restart your server.' +\n",
       "                        '<br /><br />(Interactive output not available on ' +\n",
       "                        'static notebook viewer services like nbviewer.)';\n",
       "    } else if (res.status === 409) {\n",
       "        div.innerHTML = 'Visualization no longer in scope. Re-run this cell' +\n",
       "                        ' to see the visualization.';\n",
       "    } else if (res.ok) {\n",
       "        url = res.url;\n",
       "        div.innerHTML = '<iframe src=\\'' + url + '\\' style=\\'' +\n",
       "                        'width: 100%; height: 700px; border: 0;\\'>' +\n",
       "                        '</iframe><hr />Open in a: <a href=\\'' + url + '\\'' +\n",
       "                        ' target=\\'_blank\\'>new window</a>'\n",
       "    } else {\n",
       "        div.innerHTML = 'Something has gone wrong. Check notebook server for' +\n",
       "                        ' errors.';\n",
       "    }\n",
       "});\n",
       "})(this.parentElement, '/qiime2/redirect?location=/tmp/qiime2-archive-s0u8ry49')\" src=\"data:image/gif;base64,R0lGODlhAQABAIAAAP///wAAACH5BAEAAAAALAAAAAABAAEAAAICRAEAOw==\" /></div>"
      ],
      "text/plain": [
       "<visualization: Visualization uuid: 135acac2-ec46-4093-b346-3e79a3317276>"
      ]
     },
     "execution_count": 35,
     "metadata": {},
     "output_type": "execute_result"
    }
   ],
   "source": [
    "Visualization.load(f'{data_dir}/core-metrics-results-before-hct/faith-pd-group-significance-numeric.qzv')"
   ]
  },
  {
   "cell_type": "code",
   "execution_count": 36,
   "id": "94384e4a-4b19-48d3-8dc4-af383d31bc69",
   "metadata": {},
   "outputs": [
    {
     "name": "stdout",
     "output_type": "stream",
     "text": [
      "\u001b[32mSaved Visualization to: Alien_data/core-metrics-results-before-hct/observed-features-group-significance-numeric.qzv\u001b[0m\n",
      "\u001b[0m"
     ]
    }
   ],
   "source": [
    "! qiime diversity alpha-correlation \\\n",
    "  --i-alpha-diversity $data_dir/core-metrics-results-before-hct/observed_features_vector.qza \\\n",
    "  --m-metadata-file $data_dir/before_hct_metadata.tsv \\\n",
    "  --o-visualization $data_dir/core-metrics-results-before-hct/observed-features-group-significance-numeric.qzv"
   ]
  },
  {
   "cell_type": "code",
   "execution_count": 37,
   "id": "39d73a24-c94e-402b-ae9e-73bd8f54c009",
   "metadata": {
    "tags": []
   },
   "outputs": [
    {
     "data": {
      "text/html": [
       "<div><img onload=\"(function(div, url){\n",
       "if (typeof require !== 'undefined') {\n",
       "    var baseURL = require.toUrl('').split('/').slice(0, -2).join('/');\n",
       "} else {\n",
       "    var baseURL = JSON.parse(\n",
       "        document.getElementById('jupyter-config-data').innerHTML\n",
       "    ).baseUrl.slice(0, -1);\n",
       "}\n",
       "url = baseURL + url;\n",
       "fetch(url).then(function(res) {\n",
       "    if (res.status === 404) {\n",
       "        div.innerHTML = 'Install QIIME 2 Jupyter extension with:<br />' +\n",
       "                        '<code>jupyter serverextension enable --py qiime2' +\n",
       "                        ' --sys-prefix</code><br />then restart your server.' +\n",
       "                        '<br /><br />(Interactive output not available on ' +\n",
       "                        'static notebook viewer services like nbviewer.)';\n",
       "    } else if (res.status === 409) {\n",
       "        div.innerHTML = 'Visualization no longer in scope. Re-run this cell' +\n",
       "                        ' to see the visualization.';\n",
       "    } else if (res.ok) {\n",
       "        url = res.url;\n",
       "        div.innerHTML = '<iframe src=\\'' + url + '\\' style=\\'' +\n",
       "                        'width: 100%; height: 700px; border: 0;\\'>' +\n",
       "                        '</iframe><hr />Open in a: <a href=\\'' + url + '\\'' +\n",
       "                        ' target=\\'_blank\\'>new window</a>'\n",
       "    } else {\n",
       "        div.innerHTML = 'Something has gone wrong. Check notebook server for' +\n",
       "                        ' errors.';\n",
       "    }\n",
       "});\n",
       "})(this.parentElement, '/qiime2/redirect?location=/tmp/qiime2-archive-sx989ypo')\" src=\"data:image/gif;base64,R0lGODlhAQABAIAAAP///wAAACH5BAEAAAAALAAAAAABAAEAAAICRAEAOw==\" /></div>"
      ],
      "text/plain": [
       "<visualization: Visualization uuid: e6bf483e-e39b-4676-84a7-ba6080d053b9>"
      ]
     },
     "execution_count": 37,
     "metadata": {},
     "output_type": "execute_result"
    }
   ],
   "source": [
    "Visualization.load(f'{data_dir}/core-metrics-results-before-hct/observed-features-group-significance-numeric.qzv')"
   ]
  },
  {
   "cell_type": "code",
   "execution_count": 38,
   "id": "6276785d-e9b6-4f42-91c8-9593906fd595",
   "metadata": {},
   "outputs": [
    {
     "name": "stdout",
     "output_type": "stream",
     "text": [
      "\u001b[32mSaved Visualization to: Alien_data/core-metrics-results-before-hct/shannon-group-significance-numeric.qzv\u001b[0m\n",
      "\u001b[0m"
     ]
    }
   ],
   "source": [
    "! qiime diversity alpha-correlation \\\n",
    "  --i-alpha-diversity $data_dir/core-metrics-results-before-hct/shannon_vector.qza \\\n",
    "  --m-metadata-file $data_dir/before_hct_metadata.tsv \\\n",
    "  --o-visualization $data_dir/core-metrics-results-before-hct/shannon-group-significance-numeric.qzv"
   ]
  },
  {
   "cell_type": "code",
   "execution_count": 39,
   "id": "56732b43-feef-45cb-ac2d-f0095b22656c",
   "metadata": {
    "tags": []
   },
   "outputs": [
    {
     "data": {
      "text/html": [
       "<div><img onload=\"(function(div, url){\n",
       "if (typeof require !== 'undefined') {\n",
       "    var baseURL = require.toUrl('').split('/').slice(0, -2).join('/');\n",
       "} else {\n",
       "    var baseURL = JSON.parse(\n",
       "        document.getElementById('jupyter-config-data').innerHTML\n",
       "    ).baseUrl.slice(0, -1);\n",
       "}\n",
       "url = baseURL + url;\n",
       "fetch(url).then(function(res) {\n",
       "    if (res.status === 404) {\n",
       "        div.innerHTML = 'Install QIIME 2 Jupyter extension with:<br />' +\n",
       "                        '<code>jupyter serverextension enable --py qiime2' +\n",
       "                        ' --sys-prefix</code><br />then restart your server.' +\n",
       "                        '<br /><br />(Interactive output not available on ' +\n",
       "                        'static notebook viewer services like nbviewer.)';\n",
       "    } else if (res.status === 409) {\n",
       "        div.innerHTML = 'Visualization no longer in scope. Re-run this cell' +\n",
       "                        ' to see the visualization.';\n",
       "    } else if (res.ok) {\n",
       "        url = res.url;\n",
       "        div.innerHTML = '<iframe src=\\'' + url + '\\' style=\\'' +\n",
       "                        'width: 100%; height: 700px; border: 0;\\'>' +\n",
       "                        '</iframe><hr />Open in a: <a href=\\'' + url + '\\'' +\n",
       "                        ' target=\\'_blank\\'>new window</a>'\n",
       "    } else {\n",
       "        div.innerHTML = 'Something has gone wrong. Check notebook server for' +\n",
       "                        ' errors.';\n",
       "    }\n",
       "});\n",
       "})(this.parentElement, '/qiime2/redirect?location=/tmp/qiime2-archive-_kf3xcxm')\" src=\"data:image/gif;base64,R0lGODlhAQABAIAAAP///wAAACH5BAEAAAAALAAAAAABAAEAAAICRAEAOw==\" /></div>"
      ],
      "text/plain": [
       "<visualization: Visualization uuid: 7750a955-f276-4cdd-8765-be54915081e4>"
      ]
     },
     "execution_count": 39,
     "metadata": {},
     "output_type": "execute_result"
    }
   ],
   "source": [
    "Visualization.load(f'{data_dir}/core-metrics-results-before-hct/shannon-group-significance-numeric.qzv')"
   ]
  },
  {
   "cell_type": "code",
   "execution_count": 40,
   "id": "69b5a123-bf0a-4ade-a0a5-c31068b56a6f",
   "metadata": {},
   "outputs": [
    {
     "name": "stdout",
     "output_type": "stream",
     "text": [
      "\u001b[32mSaved Visualization to: Alien_data/core-metrics-results-before-hct/evenness-vector-group-significance-numeric.qzv\u001b[0m\n",
      "\u001b[0m"
     ]
    }
   ],
   "source": [
    "! qiime diversity alpha-correlation \\\n",
    "  --i-alpha-diversity $data_dir/core-metrics-results-before-hct/evenness_vector.qza \\\n",
    "  --m-metadata-file $data_dir/before_hct_metadata.tsv \\\n",
    "  --o-visualization $data_dir/core-metrics-results-before-hct/evenness-vector-group-significance-numeric.qzv"
   ]
  },
  {
   "cell_type": "code",
   "execution_count": 41,
   "id": "53afdaf2-0171-4314-b299-35e3a58a575c",
   "metadata": {
    "tags": []
   },
   "outputs": [
    {
     "data": {
      "text/html": [
       "<div><img onload=\"(function(div, url){\n",
       "if (typeof require !== 'undefined') {\n",
       "    var baseURL = require.toUrl('').split('/').slice(0, -2).join('/');\n",
       "} else {\n",
       "    var baseURL = JSON.parse(\n",
       "        document.getElementById('jupyter-config-data').innerHTML\n",
       "    ).baseUrl.slice(0, -1);\n",
       "}\n",
       "url = baseURL + url;\n",
       "fetch(url).then(function(res) {\n",
       "    if (res.status === 404) {\n",
       "        div.innerHTML = 'Install QIIME 2 Jupyter extension with:<br />' +\n",
       "                        '<code>jupyter serverextension enable --py qiime2' +\n",
       "                        ' --sys-prefix</code><br />then restart your server.' +\n",
       "                        '<br /><br />(Interactive output not available on ' +\n",
       "                        'static notebook viewer services like nbviewer.)';\n",
       "    } else if (res.status === 409) {\n",
       "        div.innerHTML = 'Visualization no longer in scope. Re-run this cell' +\n",
       "                        ' to see the visualization.';\n",
       "    } else if (res.ok) {\n",
       "        url = res.url;\n",
       "        div.innerHTML = '<iframe src=\\'' + url + '\\' style=\\'' +\n",
       "                        'width: 100%; height: 700px; border: 0;\\'>' +\n",
       "                        '</iframe><hr />Open in a: <a href=\\'' + url + '\\'' +\n",
       "                        ' target=\\'_blank\\'>new window</a>'\n",
       "    } else {\n",
       "        div.innerHTML = 'Something has gone wrong. Check notebook server for' +\n",
       "                        ' errors.';\n",
       "    }\n",
       "});\n",
       "})(this.parentElement, '/qiime2/redirect?location=/tmp/qiime2-archive-avmxpl9_')\" src=\"data:image/gif;base64,R0lGODlhAQABAIAAAP///wAAACH5BAEAAAAALAAAAAABAAEAAAICRAEAOw==\" /></div>"
      ],
      "text/plain": [
       "<visualization: Visualization uuid: 52bd6455-5c60-41a7-b59c-99dfe22d9d38>"
      ]
     },
     "execution_count": 41,
     "metadata": {},
     "output_type": "execute_result"
    }
   ],
   "source": [
    "Visualization.load(f'{data_dir}/core-metrics-results-before-hct/evenness-vector-group-significance-numeric.qzv')"
   ]
  },
  {
   "cell_type": "code",
   "execution_count": 42,
   "id": "dc134b4d-aa4b-4ba3-94e9-1e4dc2b0aebe",
   "metadata": {
    "tags": []
   },
   "outputs": [
    {
     "data": {
      "text/html": [
       "<div>\n",
       "<style scoped>\n",
       "    .dataframe tbody tr th:only-of-type {\n",
       "        vertical-align: middle;\n",
       "    }\n",
       "\n",
       "    .dataframe tbody tr th {\n",
       "        vertical-align: top;\n",
       "    }\n",
       "\n",
       "    .dataframe thead th {\n",
       "        text-align: right;\n",
       "    }\n",
       "</style>\n",
       "<table border=\"1\" class=\"dataframe\">\n",
       "  <thead>\n",
       "    <tr style=\"text-align: right;\">\n",
       "      <th></th>\n",
       "      <th>sampleid</th>\n",
       "      <th>stool_consistency</th>\n",
       "      <th>hct_source</th>\n",
       "      <th>disease</th>\n",
       "      <th>categorical_time_relative_to_engraftment</th>\n",
       "      <th>week_relative_to_hct</th>\n",
       "      <th>timepoint_of_transplant</th>\n",
       "      <th>day_relative_to_nearest_hct</th>\n",
       "      <th>alleged_abduction</th>\n",
       "    </tr>\n",
       "  </thead>\n",
       "  <tbody>\n",
       "    <tr>\n",
       "      <th>2</th>\n",
       "      <td>5Y49IM</td>\n",
       "      <td>semi-formed</td>\n",
       "      <td>cord</td>\n",
       "      <td>Leukemia</td>\n",
       "      <td>peri</td>\n",
       "      <td>one week before HCT</td>\n",
       "      <td>7.0</td>\n",
       "      <td>0.0</td>\n",
       "      <td>abducted</td>\n",
       "    </tr>\n",
       "    <tr>\n",
       "      <th>3</th>\n",
       "      <td>ZKJI45</td>\n",
       "      <td>semi-formed</td>\n",
       "      <td>cord</td>\n",
       "      <td>Leukemia</td>\n",
       "      <td>post</td>\n",
       "      <td>one week after HCT</td>\n",
       "      <td>7.0</td>\n",
       "      <td>8.0</td>\n",
       "      <td>non_abducted</td>\n",
       "    </tr>\n",
       "    <tr>\n",
       "      <th>4</th>\n",
       "      <td>2I7SIQ</td>\n",
       "      <td>liquid</td>\n",
       "      <td>cord</td>\n",
       "      <td>Leukemia</td>\n",
       "      <td>peri</td>\n",
       "      <td>one week before HCT</td>\n",
       "      <td>0.0</td>\n",
       "      <td>0.0</td>\n",
       "      <td>abducted</td>\n",
       "    </tr>\n",
       "    <tr>\n",
       "      <th>5</th>\n",
       "      <td>PCUMU7</td>\n",
       "      <td>semi-formed</td>\n",
       "      <td>cord</td>\n",
       "      <td>Leukemia</td>\n",
       "      <td>post</td>\n",
       "      <td>two weeks before HCT</td>\n",
       "      <td>0.0</td>\n",
       "      <td>16.0</td>\n",
       "      <td>abducted</td>\n",
       "    </tr>\n",
       "    <tr>\n",
       "      <th>7</th>\n",
       "      <td>AFG7YZ</td>\n",
       "      <td>semi-formed</td>\n",
       "      <td>cord</td>\n",
       "      <td>Leukemia</td>\n",
       "      <td>post</td>\n",
       "      <td>two weeks before HCT</td>\n",
       "      <td>1.0</td>\n",
       "      <td>15.0</td>\n",
       "      <td>non_abducted</td>\n",
       "    </tr>\n",
       "    <tr>\n",
       "      <th>...</th>\n",
       "      <td>...</td>\n",
       "      <td>...</td>\n",
       "      <td>...</td>\n",
       "      <td>...</td>\n",
       "      <td>...</td>\n",
       "      <td>...</td>\n",
       "      <td>...</td>\n",
       "      <td>...</td>\n",
       "      <td>...</td>\n",
       "    </tr>\n",
       "    <tr>\n",
       "      <th>144</th>\n",
       "      <td>RE2G74</td>\n",
       "      <td>liquid</td>\n",
       "      <td>cord</td>\n",
       "      <td>Hodgkin's Disease</td>\n",
       "      <td>post</td>\n",
       "      <td>one week after HCT</td>\n",
       "      <td>6.0</td>\n",
       "      <td>9.0</td>\n",
       "      <td>non_abducted</td>\n",
       "    </tr>\n",
       "    <tr>\n",
       "      <th>145</th>\n",
       "      <td>K613DJ</td>\n",
       "      <td>semi-formed</td>\n",
       "      <td>cord</td>\n",
       "      <td>Hodgkin's Disease</td>\n",
       "      <td>post</td>\n",
       "      <td>one week after HCT</td>\n",
       "      <td>6.0</td>\n",
       "      <td>13.0</td>\n",
       "      <td>non_abducted</td>\n",
       "    </tr>\n",
       "    <tr>\n",
       "      <th>148</th>\n",
       "      <td>0WG67D</td>\n",
       "      <td>semi-formed</td>\n",
       "      <td>cord</td>\n",
       "      <td>Leukemia</td>\n",
       "      <td>post</td>\n",
       "      <td>two weeks before HCT</td>\n",
       "      <td>1.0</td>\n",
       "      <td>16.0</td>\n",
       "      <td>abducted</td>\n",
       "    </tr>\n",
       "    <tr>\n",
       "      <th>151</th>\n",
       "      <td>95NCMG</td>\n",
       "      <td>liquid</td>\n",
       "      <td>cord</td>\n",
       "      <td>Non-Hodgkin's Lymphoma</td>\n",
       "      <td>peri</td>\n",
       "      <td>one week before HCT</td>\n",
       "      <td>5.0</td>\n",
       "      <td>0.0</td>\n",
       "      <td>non_abducted</td>\n",
       "    </tr>\n",
       "    <tr>\n",
       "      <th>152</th>\n",
       "      <td>4NU0Q9</td>\n",
       "      <td>liquid</td>\n",
       "      <td>cord</td>\n",
       "      <td>Non-Hodgkin's Lymphoma</td>\n",
       "      <td>post</td>\n",
       "      <td>one week after HCT</td>\n",
       "      <td>5.0</td>\n",
       "      <td>13.0</td>\n",
       "      <td>non_abducted</td>\n",
       "    </tr>\n",
       "  </tbody>\n",
       "</table>\n",
       "<p>87 rows × 9 columns</p>\n",
       "</div>"
      ],
      "text/plain": [
       "    sampleid stool_consistency hct_source                 disease  \\\n",
       "2     5Y49IM       semi-formed       cord                Leukemia   \n",
       "3     ZKJI45       semi-formed       cord                Leukemia   \n",
       "4     2I7SIQ            liquid       cord                Leukemia   \n",
       "5     PCUMU7       semi-formed       cord                Leukemia   \n",
       "7     AFG7YZ       semi-formed       cord                Leukemia   \n",
       "..       ...               ...        ...                     ...   \n",
       "144   RE2G74            liquid       cord       Hodgkin's Disease   \n",
       "145   K613DJ       semi-formed       cord       Hodgkin's Disease   \n",
       "148   0WG67D       semi-formed       cord                Leukemia   \n",
       "151   95NCMG            liquid       cord  Non-Hodgkin's Lymphoma   \n",
       "152   4NU0Q9            liquid       cord  Non-Hodgkin's Lymphoma   \n",
       "\n",
       "    categorical_time_relative_to_engraftment  week_relative_to_hct  \\\n",
       "2                                       peri   one week before HCT   \n",
       "3                                       post    one week after HCT   \n",
       "4                                       peri   one week before HCT   \n",
       "5                                       post  two weeks before HCT   \n",
       "7                                       post  two weeks before HCT   \n",
       "..                                       ...                   ...   \n",
       "144                                     post    one week after HCT   \n",
       "145                                     post    one week after HCT   \n",
       "148                                     post  two weeks before HCT   \n",
       "151                                     peri   one week before HCT   \n",
       "152                                     post    one week after HCT   \n",
       "\n",
       "     timepoint_of_transplant  day_relative_to_nearest_hct alleged_abduction  \n",
       "2                        7.0                          0.0          abducted  \n",
       "3                        7.0                          8.0      non_abducted  \n",
       "4                        0.0                          0.0          abducted  \n",
       "5                        0.0                         16.0          abducted  \n",
       "7                        1.0                         15.0      non_abducted  \n",
       "..                       ...                          ...               ...  \n",
       "144                      6.0                          9.0      non_abducted  \n",
       "145                      6.0                         13.0      non_abducted  \n",
       "148                      1.0                         16.0          abducted  \n",
       "151                      5.0                          0.0      non_abducted  \n",
       "152                      5.0                         13.0      non_abducted  \n",
       "\n",
       "[87 rows x 9 columns]"
      ]
     },
     "execution_count": 42,
     "metadata": {},
     "output_type": "execute_result"
    }
   ],
   "source": [
    "# after hct\n",
    "after_hct = pd.DataFrame(data=metadata[metadata['day_relative_to_nearest_hct'] >= 0])\n",
    "after_hct.to_csv('Alien_data/after_hct_metadata.tsv', sep='\\t', encoding='utf-8', escapechar='\\n', index=False)\n",
    "after_hct"
   ]
  },
  {
   "cell_type": "code",
   "execution_count": 43,
   "id": "c7dcf96c-f6e1-4cc4-a6e9-dd4d59af8eda",
   "metadata": {},
   "outputs": [
    {
     "name": "stdout",
     "output_type": "stream",
     "text": [
      "\u001b[32mSaved FeatureTable[Frequency] to: Alien_data/after_hct_feature_table.qza\u001b[0m\n",
      "\u001b[0m"
     ]
    }
   ],
   "source": [
    "! qiime feature-table filter-samples \\\n",
    "    --i-table $data_dir/table-filtered.qza \\\n",
    "    --m-metadata-file $data_dir/str_metadata.tsv \\\n",
    "    --p-where \"[day_relative_to_nearest_hct]>'0' or [day_relative_to_nearest_hct]='0'\" \\\n",
    "    --o-filtered-table $data_dir/after_hct_feature_table.qza"
   ]
  },
  {
   "cell_type": "code",
   "execution_count": 44,
   "id": "51cdce0c-c4ab-4454-8aa3-f2042773e974",
   "metadata": {},
   "outputs": [
    {
     "name": "stdout",
     "output_type": "stream",
     "text": [
      "\u001b[32mSaved FeatureTable[Frequency] to: Alien_data/core-metrics-results-after-hct/rarefied_table.qza\u001b[0m\n",
      "\u001b[32mSaved SampleData[AlphaDiversity] to: Alien_data/core-metrics-results-after-hct/faith_pd_vector.qza\u001b[0m\n",
      "\u001b[32mSaved SampleData[AlphaDiversity] to: Alien_data/core-metrics-results-after-hct/observed_features_vector.qza\u001b[0m\n",
      "\u001b[32mSaved SampleData[AlphaDiversity] to: Alien_data/core-metrics-results-after-hct/shannon_vector.qza\u001b[0m\n",
      "\u001b[32mSaved SampleData[AlphaDiversity] to: Alien_data/core-metrics-results-after-hct/evenness_vector.qza\u001b[0m\n",
      "\u001b[32mSaved DistanceMatrix to: Alien_data/core-metrics-results-after-hct/unweighted_unifrac_distance_matrix.qza\u001b[0m\n",
      "\u001b[32mSaved DistanceMatrix to: Alien_data/core-metrics-results-after-hct/weighted_unifrac_distance_matrix.qza\u001b[0m\n",
      "\u001b[32mSaved DistanceMatrix to: Alien_data/core-metrics-results-after-hct/jaccard_distance_matrix.qza\u001b[0m\n",
      "\u001b[32mSaved DistanceMatrix to: Alien_data/core-metrics-results-after-hct/bray_curtis_distance_matrix.qza\u001b[0m\n",
      "\u001b[32mSaved PCoAResults to: Alien_data/core-metrics-results-after-hct/unweighted_unifrac_pcoa_results.qza\u001b[0m\n",
      "\u001b[32mSaved PCoAResults to: Alien_data/core-metrics-results-after-hct/weighted_unifrac_pcoa_results.qza\u001b[0m\n",
      "\u001b[32mSaved PCoAResults to: Alien_data/core-metrics-results-after-hct/jaccard_pcoa_results.qza\u001b[0m\n",
      "\u001b[32mSaved PCoAResults to: Alien_data/core-metrics-results-after-hct/bray_curtis_pcoa_results.qza\u001b[0m\n",
      "\u001b[32mSaved Visualization to: Alien_data/core-metrics-results-after-hct/unweighted_unifrac_emperor.qzv\u001b[0m\n",
      "\u001b[32mSaved Visualization to: Alien_data/core-metrics-results-after-hct/weighted_unifrac_emperor.qzv\u001b[0m\n",
      "\u001b[32mSaved Visualization to: Alien_data/core-metrics-results-after-hct/jaccard_emperor.qzv\u001b[0m\n",
      "\u001b[32mSaved Visualization to: Alien_data/core-metrics-results-after-hct/bray_curtis_emperor.qzv\u001b[0m\n",
      "\u001b[0m"
     ]
    }
   ],
   "source": [
    "! qiime diversity core-metrics-phylogenetic \\\n",
    "  --i-table $data_dir/after_hct_feature_table.qza \\\n",
    "  --i-phylogeny $data_dir/sepp-tree.qza \\\n",
    "  --m-metadata-file $data_dir/after_hct_metadata.tsv \\\n",
    "  --p-sampling-depth 3000 \\\n",
    "  --output-dir $data_dir/core-metrics-results-after-hct"
   ]
  },
  {
   "cell_type": "code",
   "execution_count": 45,
   "id": "5df103ec-ccc0-4455-b383-d38f7643193b",
   "metadata": {},
   "outputs": [
    {
     "name": "stdout",
     "output_type": "stream",
     "text": [
      "\u001b[32mSaved Visualization to: Alien_data/core-metrics-results-after-hct/faith-pd-group-significance-numeric.qzv\u001b[0m\n",
      "\u001b[0m"
     ]
    }
   ],
   "source": [
    "! qiime diversity alpha-correlation \\\n",
    "  --i-alpha-diversity $data_dir/core-metrics-results-after-hct/faith_pd_vector.qza \\\n",
    "  --m-metadata-file $data_dir/after_hct_metadata.tsv \\\n",
    "  --o-visualization $data_dir/core-metrics-results-after-hct/faith-pd-group-significance-numeric.qzv"
   ]
  },
  {
   "cell_type": "code",
   "execution_count": 46,
   "id": "60b838a1-8dc7-41a4-a369-a58b2f9600f4",
   "metadata": {
    "tags": []
   },
   "outputs": [
    {
     "data": {
      "text/html": [
       "<div><img onload=\"(function(div, url){\n",
       "if (typeof require !== 'undefined') {\n",
       "    var baseURL = require.toUrl('').split('/').slice(0, -2).join('/');\n",
       "} else {\n",
       "    var baseURL = JSON.parse(\n",
       "        document.getElementById('jupyter-config-data').innerHTML\n",
       "    ).baseUrl.slice(0, -1);\n",
       "}\n",
       "url = baseURL + url;\n",
       "fetch(url).then(function(res) {\n",
       "    if (res.status === 404) {\n",
       "        div.innerHTML = 'Install QIIME 2 Jupyter extension with:<br />' +\n",
       "                        '<code>jupyter serverextension enable --py qiime2' +\n",
       "                        ' --sys-prefix</code><br />then restart your server.' +\n",
       "                        '<br /><br />(Interactive output not available on ' +\n",
       "                        'static notebook viewer services like nbviewer.)';\n",
       "    } else if (res.status === 409) {\n",
       "        div.innerHTML = 'Visualization no longer in scope. Re-run this cell' +\n",
       "                        ' to see the visualization.';\n",
       "    } else if (res.ok) {\n",
       "        url = res.url;\n",
       "        div.innerHTML = '<iframe src=\\'' + url + '\\' style=\\'' +\n",
       "                        'width: 100%; height: 700px; border: 0;\\'>' +\n",
       "                        '</iframe><hr />Open in a: <a href=\\'' + url + '\\'' +\n",
       "                        ' target=\\'_blank\\'>new window</a>'\n",
       "    } else {\n",
       "        div.innerHTML = 'Something has gone wrong. Check notebook server for' +\n",
       "                        ' errors.';\n",
       "    }\n",
       "});\n",
       "})(this.parentElement, '/qiime2/redirect?location=/tmp/qiime2-archive-klrd0npm')\" src=\"data:image/gif;base64,R0lGODlhAQABAIAAAP///wAAACH5BAEAAAAALAAAAAABAAEAAAICRAEAOw==\" /></div>"
      ],
      "text/plain": [
       "<visualization: Visualization uuid: 52076ce6-42ea-4037-9dc4-bdefb6ab1a1e>"
      ]
     },
     "execution_count": 46,
     "metadata": {},
     "output_type": "execute_result"
    }
   ],
   "source": [
    "Visualization.load(f'{data_dir}/core-metrics-results-after-hct/faith-pd-group-significance-numeric.qzv')"
   ]
  },
  {
   "cell_type": "code",
   "execution_count": 47,
   "id": "01465864-74ee-4dcb-a387-b0fa91014e96",
   "metadata": {},
   "outputs": [
    {
     "name": "stdout",
     "output_type": "stream",
     "text": [
      "\u001b[32mSaved Visualization to: Alien_data/core-metrics-results-after-hct/observed-features-group-significance-numeric.qzv\u001b[0m\n",
      "\u001b[0m"
     ]
    }
   ],
   "source": [
    "! qiime diversity alpha-correlation \\\n",
    "  --i-alpha-diversity $data_dir/core-metrics-results-after-hct/observed_features_vector.qza \\\n",
    "  --m-metadata-file $data_dir/after_hct_metadata.tsv \\\n",
    "  --o-visualization $data_dir/core-metrics-results-after-hct/observed-features-group-significance-numeric.qzv"
   ]
  },
  {
   "cell_type": "code",
   "execution_count": 48,
   "id": "50287887-70f9-4994-8e52-541ced1a1ab8",
   "metadata": {
    "tags": []
   },
   "outputs": [
    {
     "data": {
      "text/html": [
       "<div><img onload=\"(function(div, url){\n",
       "if (typeof require !== 'undefined') {\n",
       "    var baseURL = require.toUrl('').split('/').slice(0, -2).join('/');\n",
       "} else {\n",
       "    var baseURL = JSON.parse(\n",
       "        document.getElementById('jupyter-config-data').innerHTML\n",
       "    ).baseUrl.slice(0, -1);\n",
       "}\n",
       "url = baseURL + url;\n",
       "fetch(url).then(function(res) {\n",
       "    if (res.status === 404) {\n",
       "        div.innerHTML = 'Install QIIME 2 Jupyter extension with:<br />' +\n",
       "                        '<code>jupyter serverextension enable --py qiime2' +\n",
       "                        ' --sys-prefix</code><br />then restart your server.' +\n",
       "                        '<br /><br />(Interactive output not available on ' +\n",
       "                        'static notebook viewer services like nbviewer.)';\n",
       "    } else if (res.status === 409) {\n",
       "        div.innerHTML = 'Visualization no longer in scope. Re-run this cell' +\n",
       "                        ' to see the visualization.';\n",
       "    } else if (res.ok) {\n",
       "        url = res.url;\n",
       "        div.innerHTML = '<iframe src=\\'' + url + '\\' style=\\'' +\n",
       "                        'width: 100%; height: 700px; border: 0;\\'>' +\n",
       "                        '</iframe><hr />Open in a: <a href=\\'' + url + '\\'' +\n",
       "                        ' target=\\'_blank\\'>new window</a>'\n",
       "    } else {\n",
       "        div.innerHTML = 'Something has gone wrong. Check notebook server for' +\n",
       "                        ' errors.';\n",
       "    }\n",
       "});\n",
       "})(this.parentElement, '/qiime2/redirect?location=/tmp/qiime2-archive-1jodx62l')\" src=\"data:image/gif;base64,R0lGODlhAQABAIAAAP///wAAACH5BAEAAAAALAAAAAABAAEAAAICRAEAOw==\" /></div>"
      ],
      "text/plain": [
       "<visualization: Visualization uuid: 4319e521-a521-4cbc-bc73-377e78c2cc2e>"
      ]
     },
     "execution_count": 48,
     "metadata": {},
     "output_type": "execute_result"
    }
   ],
   "source": [
    "Visualization.load(f'{data_dir}/core-metrics-results-after-hct/observed-features-group-significance-numeric.qzv')"
   ]
  },
  {
   "cell_type": "code",
   "execution_count": 49,
   "id": "ce1f4f38-a7a1-41df-8fc8-6b1ec64dd041",
   "metadata": {},
   "outputs": [
    {
     "name": "stdout",
     "output_type": "stream",
     "text": [
      "\u001b[32mSaved Visualization to: Alien_data/core-metrics-results-after-hct/shannon-group-significance-numeric.qzv\u001b[0m\n",
      "\u001b[0m"
     ]
    }
   ],
   "source": [
    "! qiime diversity alpha-correlation \\\n",
    "  --i-alpha-diversity $data_dir/core-metrics-results-after-hct/shannon_vector.qza \\\n",
    "  --m-metadata-file $data_dir/after_hct_metadata.tsv \\\n",
    "  --o-visualization $data_dir/core-metrics-results-after-hct/shannon-group-significance-numeric.qzv"
   ]
  },
  {
   "cell_type": "code",
   "execution_count": 50,
   "id": "58855286-17fb-4e1b-be18-ca3de2f5d4c3",
   "metadata": {
    "tags": []
   },
   "outputs": [
    {
     "data": {
      "text/html": [
       "<div><img onload=\"(function(div, url){\n",
       "if (typeof require !== 'undefined') {\n",
       "    var baseURL = require.toUrl('').split('/').slice(0, -2).join('/');\n",
       "} else {\n",
       "    var baseURL = JSON.parse(\n",
       "        document.getElementById('jupyter-config-data').innerHTML\n",
       "    ).baseUrl.slice(0, -1);\n",
       "}\n",
       "url = baseURL + url;\n",
       "fetch(url).then(function(res) {\n",
       "    if (res.status === 404) {\n",
       "        div.innerHTML = 'Install QIIME 2 Jupyter extension with:<br />' +\n",
       "                        '<code>jupyter serverextension enable --py qiime2' +\n",
       "                        ' --sys-prefix</code><br />then restart your server.' +\n",
       "                        '<br /><br />(Interactive output not available on ' +\n",
       "                        'static notebook viewer services like nbviewer.)';\n",
       "    } else if (res.status === 409) {\n",
       "        div.innerHTML = 'Visualization no longer in scope. Re-run this cell' +\n",
       "                        ' to see the visualization.';\n",
       "    } else if (res.ok) {\n",
       "        url = res.url;\n",
       "        div.innerHTML = '<iframe src=\\'' + url + '\\' style=\\'' +\n",
       "                        'width: 100%; height: 700px; border: 0;\\'>' +\n",
       "                        '</iframe><hr />Open in a: <a href=\\'' + url + '\\'' +\n",
       "                        ' target=\\'_blank\\'>new window</a>'\n",
       "    } else {\n",
       "        div.innerHTML = 'Something has gone wrong. Check notebook server for' +\n",
       "                        ' errors.';\n",
       "    }\n",
       "});\n",
       "})(this.parentElement, '/qiime2/redirect?location=/tmp/qiime2-archive-779qiwih')\" src=\"data:image/gif;base64,R0lGODlhAQABAIAAAP///wAAACH5BAEAAAAALAAAAAABAAEAAAICRAEAOw==\" /></div>"
      ],
      "text/plain": [
       "<visualization: Visualization uuid: 83c7a918-2534-4bde-bac7-d27e3dec7408>"
      ]
     },
     "execution_count": 50,
     "metadata": {},
     "output_type": "execute_result"
    }
   ],
   "source": [
    "Visualization.load(f'{data_dir}/core-metrics-results-after-hct/shannon-group-significance-numeric.qzv')"
   ]
  },
  {
   "cell_type": "code",
   "execution_count": 51,
   "id": "7ebec961-01f6-45f7-93f4-dc3a7967b1b2",
   "metadata": {},
   "outputs": [
    {
     "name": "stdout",
     "output_type": "stream",
     "text": [
      "\u001b[32mSaved Visualization to: Alien_data/core-metrics-results-after-hct/evenness-vector-group-significance-numeric.qzv\u001b[0m\n",
      "\u001b[0m"
     ]
    }
   ],
   "source": [
    "! qiime diversity alpha-correlation \\\n",
    "  --i-alpha-diversity $data_dir/core-metrics-results-after-hct/evenness_vector.qza \\\n",
    "  --m-metadata-file $data_dir/after_hct_metadata.tsv \\\n",
    "  --o-visualization $data_dir/core-metrics-results-after-hct/evenness-vector-group-significance-numeric.qzv"
   ]
  },
  {
   "cell_type": "code",
   "execution_count": 52,
   "id": "8191dab9-313c-4849-8fe2-a0add4aa5923",
   "metadata": {},
   "outputs": [
    {
     "data": {
      "text/html": [
       "<div><img onload=\"(function(div, url){\n",
       "if (typeof require !== 'undefined') {\n",
       "    var baseURL = require.toUrl('').split('/').slice(0, -2).join('/');\n",
       "} else {\n",
       "    var baseURL = JSON.parse(\n",
       "        document.getElementById('jupyter-config-data').innerHTML\n",
       "    ).baseUrl.slice(0, -1);\n",
       "}\n",
       "url = baseURL + url;\n",
       "fetch(url).then(function(res) {\n",
       "    if (res.status === 404) {\n",
       "        div.innerHTML = 'Install QIIME 2 Jupyter extension with:<br />' +\n",
       "                        '<code>jupyter serverextension enable --py qiime2' +\n",
       "                        ' --sys-prefix</code><br />then restart your server.' +\n",
       "                        '<br /><br />(Interactive output not available on ' +\n",
       "                        'static notebook viewer services like nbviewer.)';\n",
       "    } else if (res.status === 409) {\n",
       "        div.innerHTML = 'Visualization no longer in scope. Re-run this cell' +\n",
       "                        ' to see the visualization.';\n",
       "    } else if (res.ok) {\n",
       "        url = res.url;\n",
       "        div.innerHTML = '<iframe src=\\'' + url + '\\' style=\\'' +\n",
       "                        'width: 100%; height: 700px; border: 0;\\'>' +\n",
       "                        '</iframe><hr />Open in a: <a href=\\'' + url + '\\'' +\n",
       "                        ' target=\\'_blank\\'>new window</a>'\n",
       "    } else {\n",
       "        div.innerHTML = 'Something has gone wrong. Check notebook server for' +\n",
       "                        ' errors.';\n",
       "    }\n",
       "});\n",
       "})(this.parentElement, '/qiime2/redirect?location=/tmp/qiime2-archive-b7d4yi50')\" src=\"data:image/gif;base64,R0lGODlhAQABAIAAAP///wAAACH5BAEAAAAALAAAAAABAAEAAAICRAEAOw==\" /></div>"
      ],
      "text/plain": [
       "<visualization: Visualization uuid: 1f51c2cb-6d54-4948-8334-eb1b1f52651d>"
      ]
     },
     "execution_count": 52,
     "metadata": {},
     "output_type": "execute_result"
    }
   ],
   "source": [
    "Visualization.load(f'{data_dir}/core-metrics-results-after-hct/evenness-vector-group-significance-numeric.qzv')"
   ]
  },
  {
   "cell_type": "markdown",
   "id": "c9474823-c2dd-4f8b-8a79-c52ecd9a3715",
   "metadata": {},
   "source": [
    "### **Pandas plots (to be continued)** "
   ]
  },
  {
   "cell_type": "code",
   "execution_count": 53,
   "id": "14dfea7d-0a99-49d8-bdec-0a95c6476010",
   "metadata": {},
   "outputs": [],
   "source": [
    "div = q2.Artifact.load(os.path.join(data_dir, 'core-metrics-results/faith_pd_vector.qza')).view(pd.Series)\n",
    "md = pd.read_csv(os.path.join(data_dir, 'sample_metadata.tsv'), sep='\\t', index_col=0)['categorical_time_relative_to_engraftment']\n",
    "# we can use different columns for md, here I just made an example of 'categorical_time_relative_to_engraftment'"
   ]
  },
  {
   "cell_type": "code",
   "execution_count": 54,
   "id": "18d6ef88-76f1-441a-9fef-54bcc767bb58",
   "metadata": {
    "tags": []
   },
   "outputs": [
    {
     "data": {
      "text/plain": [
       "sampleid\n",
       "N4VICF     pre\n",
       "8A0F9A     pre\n",
       "5Y49IM    peri\n",
       "ZKJI45    post\n",
       "2I7SIQ    peri\n",
       "          ... \n",
       "HCMB0Y     pre\n",
       "P0A2X1     pre\n",
       "F89RLS     pre\n",
       "ZQT8ZN     pre\n",
       "62ARKK     pre\n",
       "Name: categorical_time_relative_to_engraftment, Length: 161, dtype: object"
      ]
     },
     "execution_count": 54,
     "metadata": {},
     "output_type": "execute_result"
    }
   ],
   "source": [
    "md"
   ]
  },
  {
   "cell_type": "code",
   "execution_count": 55,
   "id": "129bd4e0-8387-407c-83ff-3d78bf82aec1",
   "metadata": {},
   "outputs": [
    {
     "data": {
      "text/html": [
       "<div>\n",
       "<style scoped>\n",
       "    .dataframe tbody tr th:only-of-type {\n",
       "        vertical-align: middle;\n",
       "    }\n",
       "\n",
       "    .dataframe tbody tr th {\n",
       "        vertical-align: top;\n",
       "    }\n",
       "\n",
       "    .dataframe thead th {\n",
       "        text-align: right;\n",
       "    }\n",
       "</style>\n",
       "<table border=\"1\" class=\"dataframe\">\n",
       "  <thead>\n",
       "    <tr style=\"text-align: right;\">\n",
       "      <th></th>\n",
       "      <th>categorical_time_relative_to_engraftment</th>\n",
       "      <th>faith_pd</th>\n",
       "    </tr>\n",
       "  </thead>\n",
       "  <tbody>\n",
       "    <tr>\n",
       "      <th>N4VICF</th>\n",
       "      <td>pre</td>\n",
       "      <td>9.060101</td>\n",
       "    </tr>\n",
       "    <tr>\n",
       "      <th>8A0F9A</th>\n",
       "      <td>pre</td>\n",
       "      <td>8.970630</td>\n",
       "    </tr>\n",
       "    <tr>\n",
       "      <th>2I7SIQ</th>\n",
       "      <td>peri</td>\n",
       "      <td>7.185442</td>\n",
       "    </tr>\n",
       "    <tr>\n",
       "      <th>PCUMU7</th>\n",
       "      <td>post</td>\n",
       "      <td>6.151667</td>\n",
       "    </tr>\n",
       "    <tr>\n",
       "      <th>XO59R8</th>\n",
       "      <td>pre</td>\n",
       "      <td>9.864536</td>\n",
       "    </tr>\n",
       "    <tr>\n",
       "      <th>...</th>\n",
       "      <td>...</td>\n",
       "      <td>...</td>\n",
       "    </tr>\n",
       "    <tr>\n",
       "      <th>U5Y4NC</th>\n",
       "      <td>pre</td>\n",
       "      <td>7.288647</td>\n",
       "    </tr>\n",
       "    <tr>\n",
       "      <th>HCMB0Y</th>\n",
       "      <td>pre</td>\n",
       "      <td>6.998841</td>\n",
       "    </tr>\n",
       "    <tr>\n",
       "      <th>P0A2X1</th>\n",
       "      <td>pre</td>\n",
       "      <td>5.662648</td>\n",
       "    </tr>\n",
       "    <tr>\n",
       "      <th>F89RLS</th>\n",
       "      <td>pre</td>\n",
       "      <td>5.057090</td>\n",
       "    </tr>\n",
       "    <tr>\n",
       "      <th>62ARKK</th>\n",
       "      <td>pre</td>\n",
       "      <td>6.382145</td>\n",
       "    </tr>\n",
       "  </tbody>\n",
       "</table>\n",
       "<p>131 rows × 2 columns</p>\n",
       "</div>"
      ],
      "text/plain": [
       "       categorical_time_relative_to_engraftment  faith_pd\n",
       "N4VICF                                      pre  9.060101\n",
       "8A0F9A                                      pre  8.970630\n",
       "2I7SIQ                                     peri  7.185442\n",
       "PCUMU7                                     post  6.151667\n",
       "XO59R8                                      pre  9.864536\n",
       "...                                         ...       ...\n",
       "U5Y4NC                                      pre  7.288647\n",
       "HCMB0Y                                      pre  6.998841\n",
       "P0A2X1                                      pre  5.662648\n",
       "F89RLS                                      pre  5.057090\n",
       "62ARKK                                      pre  6.382145\n",
       "\n",
       "[131 rows x 2 columns]"
      ]
     },
     "execution_count": 55,
     "metadata": {},
     "output_type": "execute_result"
    }
   ],
   "source": [
    "md1=md.dropna()\n",
    "div1=div.dropna()\n",
    "concat=pd.concat([md1,div1], axis=1, join='inner')\n",
    "concat"
   ]
  },
  {
   "cell_type": "code",
   "execution_count": 56,
   "id": "bde21f60-d469-48b6-a767-afe3c2d03313",
   "metadata": {},
   "outputs": [
    {
     "data": {
      "text/plain": [
       "Text(0, 0.5, 'faith_pd')"
      ]
     },
     "execution_count": 56,
     "metadata": {},
     "output_type": "execute_result"
    },
    {
     "data": {
      "image/png": "[encoded data removed]",
      "text/plain": [
       "<Figure size 864x432 with 1 Axes>"
      ]
     },
     "metadata": {
      "needs_background": "light"
     },
     "output_type": "display_data"
    }
   ],
   "source": [
    "concat.boxplot(column=\"faith_pd\", by=\"categorical_time_relative_to_engraftment\", rot=30, fontsize=12, figsize=(12,6))\n",
    "plt.ylabel('faith_pd')"
   ]
  },
  {
   "cell_type": "code",
   "execution_count": null,
   "id": "e521dba0-3429-494f-a29b-f7ae7157802d",
   "metadata": {},
   "outputs": [],
   "source": []
  }
 ],
 "metadata": {
  "kernelspec": {
   "display_name": "Python 3 (ipykernel)",
   "language": "python",
   "name": "python3"
  },
  "language_info": {
   "codemirror_mode": {
    "name": "ipython",
    "version": 3
   },
   "file_extension": ".py",
   "mimetype": "text/x-python",
   "name": "python",
   "nbconvert_exporter": "python",
   "pygments_lexer": "ipython3",
   "version": "3.8.13"
  }
 },
 "nbformat": 4,
 "nbformat_minor": 5
}
